{
 "cells": [
  {
   "cell_type": "code",
   "execution_count": 1,
   "id": "04e09839",
   "metadata": {},
   "outputs": [],
   "source": [
    "from tqdm import tqdm"
   ]
  },
  {
   "cell_type": "code",
   "execution_count": 2,
   "id": "819af62e",
   "metadata": {},
   "outputs": [],
   "source": [
    "import torchvision"
   ]
  },
  {
   "cell_type": "code",
   "execution_count": 3,
   "id": "cb0e4703",
   "metadata": {},
   "outputs": [],
   "source": [
    "from glob import glob\n",
    "import os\n",
    "import matplotlib.pyplot as plt\n",
    "from torchvision import transforms\n",
    "from torchvision import models\n",
    "import torch\n",
    "from torch.autograd import Variable\n",
    "import torch.nn as nn\n",
    "from torch.optim import lr_scheduler\n",
    "from torch import optim\n",
    "from torchvision.utils import make_grid\n",
    "import time\n",
    "%matplotlib inline"
   ]
  },
  {
   "cell_type": "code",
   "execution_count": 4,
   "id": "a2455f93",
   "metadata": {},
   "outputs": [],
   "source": [
    "import matplotlib.pyplot as plt"
   ]
  },
  {
   "cell_type": "code",
   "execution_count": 5,
   "id": "2c50bb50",
   "metadata": {},
   "outputs": [],
   "source": [
    "import joblib\n",
    "import numpy as np"
   ]
  },
  {
   "cell_type": "code",
   "execution_count": 6,
   "id": "9bb72362",
   "metadata": {},
   "outputs": [],
   "source": [
    "from torch.utils.data import Dataset"
   ]
  },
  {
   "cell_type": "code",
   "execution_count": 7,
   "id": "799bba5c",
   "metadata": {},
   "outputs": [],
   "source": [
    "from PIL import Image"
   ]
  },
  {
   "cell_type": "code",
   "execution_count": 8,
   "id": "fa9125e8",
   "metadata": {},
   "outputs": [],
   "source": [
    "from torchvision.datasets import FashionMNIST, MNIST"
   ]
  },
  {
   "cell_type": "code",
   "execution_count": 9,
   "id": "a73810a1",
   "metadata": {},
   "outputs": [
    {
     "name": "stdout",
     "output_type": "stream",
     "text": [
      "/home/iis519409/DPGEN-FashionMNIST\r\n"
     ]
    }
   ],
   "source": [
    "!pwd"
   ]
  },
  {
   "cell_type": "code",
   "execution_count": 10,
   "id": "6afbf0cf",
   "metadata": {},
   "outputs": [
    {
     "name": "stdout",
     "output_type": "stream",
     "text": [
      "fashion_mnist  fashion_mnist_test  mnist  mnist_test\r\n"
     ]
    }
   ],
   "source": [
    "!ls ./exp/datasets/"
   ]
  },
  {
   "cell_type": "code",
   "execution_count": 11,
   "id": "b5500115",
   "metadata": {},
   "outputs": [],
   "source": [
    "tran_transform = transforms.Compose([\n",
    "    transforms.Resize(28),\n",
    "    transforms.ToTensor()\n",
    "])\n",
    "test_transform = transforms.Compose([\n",
    "    transforms.Resize(28),\n",
    "    transforms.ToTensor()\n",
    "])"
   ]
  },
  {
   "cell_type": "code",
   "execution_count": 12,
   "id": "c4e7295a",
   "metadata": {},
   "outputs": [],
   "source": [
    "# train_dl = FashionMNIST(os.path.join('./exp', 'datasets', 'fashion_mnist'), download=True, \n",
    "#                                transform=tran_transform)\n",
    "# valid_dl = FashionMNIST(os.path.join('./exp', 'datasets', 'fashion_mnist_test'), train=False, download=True,\n",
    "#                                transform=test_transform)\n"
   ]
  },
  {
   "cell_type": "code",
   "execution_count": 13,
   "id": "0dbc6fb5",
   "metadata": {},
   "outputs": [],
   "source": [
    "train_dl = MNIST(os.path.join('./exp', 'datasets', 'mnist'), download=True, \n",
    "                               transform=tran_transform)\n",
    "valid_dl = MNIST(os.path.join('./exp', 'datasets', 'mnist_test'), train=False, download=True,\n",
    "                               transform=test_transform)\n"
   ]
  },
  {
   "cell_type": "code",
   "execution_count": 14,
   "id": "595a9d8e",
   "metadata": {},
   "outputs": [],
   "source": [
    "x, y = train_dl[0]"
   ]
  },
  {
   "cell_type": "code",
   "execution_count": 15,
   "id": "675fb1cb",
   "metadata": {},
   "outputs": [
    {
     "data": {
      "text/plain": [
       "torch.Size([1, 28, 28])"
      ]
     },
     "execution_count": 15,
     "metadata": {},
     "output_type": "execute_result"
    }
   ],
   "source": [
    "x.shape"
   ]
  },
  {
   "cell_type": "code",
   "execution_count": 16,
   "id": "e98ecbc5",
   "metadata": {},
   "outputs": [
    {
     "data": {
      "text/plain": [
       "5"
      ]
     },
     "execution_count": 16,
     "metadata": {},
     "output_type": "execute_result"
    }
   ],
   "source": [
    "y"
   ]
  },
  {
   "cell_type": "code",
   "execution_count": 17,
   "id": "aa52cf8d",
   "metadata": {},
   "outputs": [
    {
     "data": {
      "text/plain": [
       "<matplotlib.image.AxesImage at 0x7f52e5a1e130>"
      ]
     },
     "execution_count": 17,
     "metadata": {},
     "output_type": "execute_result"
    },
    {
     "data": {
      "image/png": "[encoded data removed]",
      "text/plain": [
       "<Figure size 432x288 with 1 Axes>"
      ]
     },
     "metadata": {
      "needs_background": "light"
     },
     "output_type": "display_data"
    }
   ],
   "source": [
    "plt.imshow(torchvision.utils.make_grid(train_dl[0][0]).permute(1, 2, 0))"
   ]
  },
  {
   "cell_type": "code",
   "execution_count": 18,
   "id": "dec8c0af",
   "metadata": {},
   "outputs": [],
   "source": [
    "import torch.nn.functional as F"
   ]
  },
  {
   "cell_type": "code",
   "execution_count": 19,
   "id": "b9d7f81d",
   "metadata": {},
   "outputs": [],
   "source": [
    "class MultiClassifier(nn.Module):\n",
    "    def __init__(self):\n",
    "        super(MultiClassifier, self).__init__()\n",
    "        self.ConvLayer1 = nn.Sequential(\n",
    "            nn.Conv2d(1, 64, 3), # 3, 256, 256\n",
    "            nn.MaxPool2d(2), # op: 16, 127, 127\n",
    "            nn.ReLU(), # op: 64, 127, 127\n",
    "        )\n",
    "        self.ConvLayer2 = nn.Sequential(\n",
    "            nn.Conv2d(64, 128, 3), # 64, 127, 127   \n",
    "            nn.MaxPool2d(2), #op: 128, 63, 63\n",
    "            nn.ReLU() # op: 128, 63, 63\n",
    "        )\n",
    "        self.ConvLayer3 = nn.Sequential(\n",
    "            nn.Conv2d(128, 256, 3), # 128, 63, 63\n",
    "            nn.MaxPool2d(2), #op: 256, 30, 30\n",
    "            nn.ReLU() #op: 256, 30, 30\n",
    "        )\n",
    "        \n",
    "        self.Linear1 = nn.Linear(256, 64)\n",
    "        self.Linear2 = nn.Linear(64, 10)\n",
    "                \n",
    "        \n",
    "    def forward(self, x):\n",
    "        x = self.ConvLayer1(x)\n",
    "        x = self.ConvLayer2(x)\n",
    "        x = self.ConvLayer3(x)\n",
    "\n",
    "        x = x.view(x.size(0), -1)\n",
    "        x = self.Linear1(x)\n",
    "        x = self.Linear2(x)\n",
    "        return F.softmax(x)\n",
    "\n"
   ]
  },
  {
   "cell_type": "code",
   "execution_count": 20,
   "id": "051cb435",
   "metadata": {},
   "outputs": [],
   "source": [
    "def check_cuda():\n",
    "    _cuda = False\n",
    "    if torch.cuda.is_available():\n",
    "        _cuda = True\n",
    "    return _cuda\n"
   ]
  },
  {
   "cell_type": "code",
   "execution_count": 21,
   "id": "b24e2b34",
   "metadata": {},
   "outputs": [],
   "source": [
    "is_cuda = check_cuda()\n",
    "\n",
    "model = MultiClassifier()\n",
    "if is_cuda:\n",
    "    model.cuda()\n"
   ]
  },
  {
   "cell_type": "code",
   "execution_count": 22,
   "id": "307a18c7",
   "metadata": {},
   "outputs": [],
   "source": [
    "x = train_dl[0][0].unsqueeze(0).cuda()"
   ]
  },
  {
   "cell_type": "code",
   "execution_count": 23,
   "id": "410b7747",
   "metadata": {},
   "outputs": [
    {
     "data": {
      "text/plain": [
       "torch.Size([1, 1, 28, 28])"
      ]
     },
     "execution_count": 23,
     "metadata": {},
     "output_type": "execute_result"
    }
   ],
   "source": [
    "x.shape"
   ]
  },
  {
   "cell_type": "code",
   "execution_count": 24,
   "id": "10b9c534",
   "metadata": {},
   "outputs": [
    {
     "name": "stderr",
     "output_type": "stream",
     "text": [
      "/tmp/ipykernel_15483/3427690861.py:32: UserWarning: Implicit dimension choice for softmax has been deprecated. Change the call to include dim=X as an argument.\n",
      "  return F.softmax(x)\n"
     ]
    },
    {
     "data": {
      "text/plain": [
       "torch.Size([1, 10])"
      ]
     },
     "execution_count": 24,
     "metadata": {},
     "output_type": "execute_result"
    }
   ],
   "source": [
    "model(x).shape"
   ]
  },
  {
   "cell_type": "code",
   "execution_count": null,
   "id": "e06f222f",
   "metadata": {},
   "outputs": [],
   "source": []
  },
  {
   "cell_type": "code",
   "execution_count": 25,
   "id": "e7d9bbaa",
   "metadata": {},
   "outputs": [],
   "source": [
    "train_dataloader = torch.utils.data.DataLoader(train_dl, shuffle = True, batch_size = 512, num_workers = 4)\n",
    "valid_dataloader = torch.utils.data.DataLoader(valid_dl, shuffle = True, batch_size = 512, num_workers = 4)\n"
   ]
  },
  {
   "cell_type": "code",
   "execution_count": 26,
   "id": "1277172e",
   "metadata": {},
   "outputs": [],
   "source": [
    "def pred_acc(original, predicted):\n",
    "    return torch.round(predicted).eq(original).sum().numpy()/len(original)\n"
   ]
  },
  {
   "cell_type": "code",
   "execution_count": 27,
   "id": "4592b320",
   "metadata": {},
   "outputs": [],
   "source": [
    "criterion = nn.BCELoss()\n",
    "# criterion = nn.CrossEntropyLoss()\n",
    "# optimizer = optim.SGD(model.parameters(), lr = 0.001, momentum = 0.9)\n",
    "optimizer = optim.Adam(model.parameters(), lr = 0.001)\n"
   ]
  },
  {
   "cell_type": "code",
   "execution_count": 28,
   "id": "68338fb2",
   "metadata": {},
   "outputs": [],
   "source": [
    "from pprint import pprint\n"
   ]
  },
  {
   "cell_type": "code",
   "execution_count": 29,
   "id": "ce1e573d",
   "metadata": {},
   "outputs": [],
   "source": [
    "def fit_model(epochs, model, dataloader, phase = 'training', volatile = False):\n",
    "    \n",
    "    pprint(\"Epoch: {}\".format(epochs))\n",
    "\n",
    "    if phase == 'training':\n",
    "        model.train()\n",
    "        \n",
    "    if phase == 'validataion':\n",
    "        model.eval()\n",
    "        volatile = True\n",
    "        \n",
    "    running_loss = []\n",
    "    running_acc = []\n",
    "    b = 0\n",
    "    for i, data in enumerate(dataloader):\n",
    "        \n",
    "\n",
    "        inputs, target = data[0].cuda(), torch.eye(10)[data[1]].cuda()        \n",
    "        inputs, target = Variable(inputs), Variable(target)\n",
    "        \n",
    "        if phase == 'training':\n",
    "            optimizer.zero_grad()\n",
    "            \n",
    "        ops = model(inputs)\n",
    "        \n",
    "        acc_ = []\n",
    "        for i, d in enumerate(ops):\n",
    "           \n",
    "            acc = pred_acc(torch.Tensor.cpu(target[i]), torch.Tensor.cpu(d))\n",
    "            acc_.append(acc)\n",
    "\n",
    "        loss = criterion(ops, target)\n",
    "                \n",
    "        running_loss.append(loss.item())\n",
    "        running_acc.append(np.asarray(acc_).mean())\n",
    "        b += 1\n",
    "       \n",
    "        if phase == 'training':\n",
    "            \n",
    "            loss.backward()\n",
    "        \n",
    "            optimizer.step()\n",
    "            \n",
    "    total_batch_loss = np.asarray(running_loss).mean()\n",
    "    total_batch_acc = np.asarray(running_acc).mean()\n",
    "    \n",
    "\n",
    "    pprint(\"{} loss is {} \".format(phase,total_batch_loss))\n",
    "    pprint(\"{} accuracy is {} \".format(phase, total_batch_acc))\n",
    "    \n",
    "    return total_batch_loss, total_batch_acc\n"
   ]
  },
  {
   "cell_type": "code",
   "execution_count": 30,
   "id": "590c8677",
   "metadata": {},
   "outputs": [],
   "source": [
    "inputs, target = next(iter(train_dataloader))"
   ]
  },
  {
   "cell_type": "code",
   "execution_count": 31,
   "id": "ec978b7e",
   "metadata": {},
   "outputs": [
    {
     "name": "stderr",
     "output_type": "stream",
     "text": [
      "/tmp/ipykernel_15483/3427690861.py:32: UserWarning: Implicit dimension choice for softmax has been deprecated. Change the call to include dim=X as an argument.\n",
      "  return F.softmax(x)\n"
     ]
    }
   ],
   "source": [
    "ops = model(inputs.cuda())"
   ]
  },
  {
   "cell_type": "code",
   "execution_count": 32,
   "id": "ba678340",
   "metadata": {},
   "outputs": [],
   "source": [
    "trn_losses = []; trn_acc = []\n",
    "val_losses = []; val_acc = []\n"
   ]
  },
  {
   "cell_type": "code",
   "execution_count": null,
   "id": "0cb444bc",
   "metadata": {},
   "outputs": [
    {
     "name": "stderr",
     "output_type": "stream",
     "text": [
      "\r",
      "  0%|          | 0/99 [00:00<?, ?it/s]"
     ]
    },
    {
     "name": "stdout",
     "output_type": "stream",
     "text": [
      "'Epoch: 1'\n"
     ]
    },
    {
     "name": "stderr",
     "output_type": "stream",
     "text": [
      "/tmp/ipykernel_15483/3427690861.py:32: UserWarning: Implicit dimension choice for softmax has been deprecated. Change the call to include dim=X as an argument.\n",
      "  return F.softmax(x)\n"
     ]
    },
    {
     "name": "stdout",
     "output_type": "stream",
     "text": [
      "'training loss is 0.0857687909156084 '\n",
      "'training accuracy is 0.969929047492938 '\n",
      "'Epoch: 1'\n"
     ]
    },
    {
     "name": "stderr",
     "output_type": "stream",
     "text": [
      "\r",
      "  1%|          | 1/99 [00:06<09:53,  6.06s/it]"
     ]
    },
    {
     "name": "stdout",
     "output_type": "stream",
     "text": [
      "'validation loss is 0.02613836256787181 '\n",
      "'validation accuracy is 0.9911822150735297 '\n",
      "'Epoch: 2'\n",
      "'training loss is 0.021427650967518152 '\n",
      "'training accuracy is 0.9927828169138418 '\n",
      "'Epoch: 2'\n"
     ]
    },
    {
     "name": "stderr",
     "output_type": "stream",
     "text": [
      "\r",
      "  2%|▏         | 2/99 [00:12<09:46,  6.05s/it]"
     ]
    },
    {
     "name": "stdout",
     "output_type": "stream",
     "text": [
      "'validation loss is 0.015707238391041756 '\n",
      "'validation accuracy is 0.9948581112132351 '\n",
      "'Epoch: 3'\n",
      "'training loss is 0.013931923786620214 '\n",
      "'training accuracy is 0.9953913974223165 '\n",
      "'Epoch: 3'\n"
     ]
    },
    {
     "name": "stderr",
     "output_type": "stream",
     "text": [
      "\r",
      "  3%|▎         | 3/99 [00:17<09:36,  6.01s/it]"
     ]
    },
    {
     "name": "stdout",
     "output_type": "stream",
     "text": [
      "'validation loss is 0.012693557771854103 '\n",
      "'validation accuracy is 0.9959133731617648 '\n",
      "'Epoch: 4'\n",
      "'training loss is 0.011591530339871297 '\n",
      "'training accuracy is 0.9961963718220337 '\n",
      "'Epoch: 4'\n"
     ]
    },
    {
     "name": "stderr",
     "output_type": "stream",
     "text": [
      "\r",
      "  4%|▍         | 4/99 [00:23<09:28,  5.99s/it]"
     ]
    },
    {
     "name": "stdout",
     "output_type": "stream",
     "text": [
      "'validation loss is 0.01128575608599931 '\n",
      "'validation accuracy is 0.996448184742647 '\n",
      "'Epoch: 5'\n",
      "'training loss is 0.009420309298655997 '\n",
      "'training accuracy is 0.9968954140183617 '\n",
      "'Epoch: 5'\n"
     ]
    },
    {
     "name": "stderr",
     "output_type": "stream",
     "text": [
      "\r",
      "  5%|▌         | 5/99 [00:29<09:17,  5.93s/it]"
     ]
    },
    {
     "name": "stdout",
     "output_type": "stream",
     "text": [
      "'validation loss is 0.01025929804891348 '\n",
      "'validation accuracy is 0.9966302849264705 '\n",
      "'Epoch: 6'\n",
      "'training loss is 0.007809234345016085 '\n",
      "'training accuracy is 0.9975381797316385 '\n",
      "'Epoch: 6'\n"
     ]
    },
    {
     "name": "stderr",
     "output_type": "stream",
     "text": [
      "\r",
      "  6%|▌         | 6/99 [00:35<09:15,  5.97s/it]"
     ]
    },
    {
     "name": "stdout",
     "output_type": "stream",
     "text": [
      "'validation loss is 0.01176930263172835 '\n",
      "'validation accuracy is 0.9961615349264706 '\n",
      "'Epoch: 7'\n",
      "'training loss is 0.007384620530933331 '\n",
      "'training accuracy is 0.9975541799081921 '\n",
      "'Epoch: 7'\n"
     ]
    },
    {
     "name": "stderr",
     "output_type": "stream",
     "text": [
      "\r",
      "  7%|▋         | 7/99 [00:41<09:09,  5.97s/it]"
     ]
    },
    {
     "name": "stdout",
     "output_type": "stream",
     "text": [
      "'validation loss is 0.009376108716242015 '\n",
      "'validation accuracy is 0.9970634191176468 '\n",
      "'Epoch: 8'\n",
      "'training loss is 0.006146370022857593 '\n",
      "'training accuracy is 0.9980038400423729 '\n",
      "'Epoch: 8'\n"
     ]
    },
    {
     "name": "stderr",
     "output_type": "stream",
     "text": [
      "\r",
      "  8%|▊         | 8/99 [00:47<08:59,  5.93s/it]"
     ]
    },
    {
     "name": "stdout",
     "output_type": "stream",
     "text": [
      "'validation loss is 0.011010730569250882 '\n",
      "'validation accuracy is 0.9968330652573526 '\n",
      "'Epoch: 9'\n",
      "'training loss is 0.005590908171143383 '\n",
      "'training accuracy is 0.9981357035663841 '\n",
      "'Epoch: 9'\n"
     ]
    },
    {
     "name": "stderr",
     "output_type": "stream",
     "text": [
      "\r",
      "  9%|▉         | 9/99 [00:53<08:55,  5.95s/it]"
     ]
    },
    {
     "name": "stdout",
     "output_type": "stream",
     "text": [
      "'validation loss is 0.011620090482756496 '\n",
      "'validation accuracy is 0.9964091222426472 '\n",
      "'Epoch: 10'\n",
      "'training loss is 0.005152674498415347 '\n",
      "'training accuracy is 0.9982923949505651 '\n",
      "'Epoch: 10'\n"
     ]
    },
    {
     "name": "stderr",
     "output_type": "stream",
     "text": [
      "\r",
      " 10%|█         | 10/99 [00:59<08:48,  5.94s/it]"
     ]
    },
    {
     "name": "stdout",
     "output_type": "stream",
     "text": [
      "'validation loss is 0.007264900451991707 '\n",
      "'validation accuracy is 0.9977498851102942 '\n",
      "'Epoch: 11'\n",
      "'training loss is 0.004174136359370866 '\n",
      "'training accuracy is 0.9986775026483051 '\n",
      "'Epoch: 11'\n"
     ]
    },
    {
     "name": "stderr",
     "output_type": "stream",
     "text": [
      "\r",
      " 11%|█         | 11/99 [01:05<08:41,  5.92s/it]"
     ]
    },
    {
     "name": "stdout",
     "output_type": "stream",
     "text": [
      "'validation loss is 0.007646620622836053 '\n",
      "'validation accuracy is 0.9978538602941176 '\n",
      "'Epoch: 12'\n",
      "'training loss is 0.003469301546752153 '\n",
      "'training accuracy is 0.9988562632415254 '\n",
      "'Epoch: 12'\n"
     ]
    },
    {
     "name": "stderr",
     "output_type": "stream",
     "text": [
      "\r",
      " 12%|█▏        | 12/99 [01:11<08:31,  5.89s/it]"
     ]
    },
    {
     "name": "stdout",
     "output_type": "stream",
     "text": [
      "'validation loss is 0.008264680136926472 '\n",
      "'validation accuracy is 0.9974862132352943 '\n",
      "'Epoch: 13'\n",
      "'training loss is 0.0029217979443551564 '\n",
      "'training accuracy is 0.9990559895833333 '\n",
      "'Epoch: 13'\n"
     ]
    },
    {
     "name": "stderr",
     "output_type": "stream",
     "text": [
      "\r",
      " 13%|█▎        | 13/99 [01:17<08:28,  5.91s/it]"
     ]
    },
    {
     "name": "stdout",
     "output_type": "stream",
     "text": [
      "'validation loss is 0.00905022150836885 '\n",
      "'validation accuracy is 0.9973018152573527 '\n",
      "'Epoch: 14'\n",
      "'training loss is 0.0030937165532939894 '\n",
      "'training accuracy is 0.9990019200211865 '\n",
      "'Epoch: 14'\n"
     ]
    },
    {
     "name": "stderr",
     "output_type": "stream",
     "text": [
      "\r",
      " 14%|█▍        | 14/99 [01:23<08:21,  5.90s/it]"
     ]
    },
    {
     "name": "stdout",
     "output_type": "stream",
     "text": [
      "'validation loss is 0.009806114947423339 '\n",
      "'validation accuracy is 0.9971162683823529 '\n",
      "'Epoch: 15'\n",
      "'training loss is 0.002341667490728176 '\n",
      "'training accuracy is 0.9991839909957629 '\n",
      "'Epoch: 15'\n"
     ]
    },
    {
     "name": "stderr",
     "output_type": "stream",
     "text": [
      "\r",
      " 15%|█▌        | 15/99 [01:29<08:21,  5.97s/it]"
     ]
    },
    {
     "name": "stdout",
     "output_type": "stream",
     "text": [
      "'validation loss is 0.010254325973801316 '\n",
      "'validation accuracy is 0.9970553768382354 '\n",
      "'Epoch: 16'\n",
      "'training loss is 0.0023428210426295584 '\n",
      "'training accuracy is 0.9992419226694916 '\n",
      "'Epoch: 16'\n"
     ]
    },
    {
     "name": "stderr",
     "output_type": "stream",
     "text": [
      "\r",
      " 16%|█▌        | 16/99 [01:35<08:20,  6.03s/it]"
     ]
    },
    {
     "name": "stdout",
     "output_type": "stream",
     "text": [
      "'validation loss is 0.010411035362631082 '\n",
      "'validation accuracy is 0.9969347426470587 '\n",
      "'Epoch: 17'\n",
      "'training loss is 0.001872619995561239 '\n",
      "'training accuracy is 0.9993958554025425 '\n",
      "'Epoch: 17'\n"
     ]
    }
   ],
   "source": [
    "for i in tqdm(range(1, 100)):\n",
    "    trn_l, trn_a = fit_model(i, model, train_dataloader)\n",
    "    val_l, val_a = fit_model(i, model, valid_dataloader, phase = 'validation')\n",
    "    trn_losses.append(trn_l); trn_acc.append(trn_a)\n",
    "    val_losses.append(val_l); val_acc.append(val_a)\n"
   ]
  },
  {
   "cell_type": "code",
   "execution_count": null,
   "id": "bf6b3d36",
   "metadata": {},
   "outputs": [],
   "source": [
    "# torch.save(model.state_dict(), 'fmnist_cls.pth')"
   ]
  },
  {
   "cell_type": "code",
   "execution_count": null,
   "id": "e6ef9be3",
   "metadata": {},
   "outputs": [],
   "source": [
    "torch.save(model.state_dict(), 'mnist_cls.pth')"
   ]
  },
  {
   "cell_type": "code",
   "execution_count": null,
   "id": "c100b32b",
   "metadata": {},
   "outputs": [],
   "source": []
  }
 ],
 "metadata": {
  "kernelspec": {
   "display_name": "Python 3 (ipykernel)",
   "language": "python",
   "name": "python3"
  },
  "language_info": {
   "codemirror_mode": {
    "name": "ipython",
    "version": 3
   },
   "file_extension": ".py",
   "mimetype": "text/x-python",
   "name": "python",
   "nbconvert_exporter": "python",
   "pygments_lexer": "ipython3",
   "version": "3.8.10"
  }
 },
 "nbformat": 4,
 "nbformat_minor": 5
}
