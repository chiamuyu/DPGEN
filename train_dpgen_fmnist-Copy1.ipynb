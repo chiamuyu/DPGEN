{
 "cells": [
  {
   "cell_type": "code",
   "execution_count": 1,
   "id": "a2e9b2d1",
   "metadata": {},
   "outputs": [],
   "source": [
    "from tqdm import tqdm"
   ]
  },
  {
   "cell_type": "code",
   "execution_count": 2,
   "id": "c51a666e",
   "metadata": {},
   "outputs": [],
   "source": [
    "import torchvision"
   ]
  },
  {
   "cell_type": "code",
   "execution_count": 3,
   "id": "bf116df5",
   "metadata": {},
   "outputs": [],
   "source": [
    "from glob import glob\n",
    "import os\n",
    "import matplotlib.pyplot as plt\n",
    "from torchvision import transforms\n",
    "from torchvision import models\n",
    "import torch\n",
    "from torch.autograd import Variable\n",
    "import torch.nn as nn\n",
    "from torch.optim import lr_scheduler\n",
    "from torch import optim\n",
    "from torchvision.utils import make_grid\n",
    "from torch.utils.data import Dataset\n",
    "import torch.nn.functional as F\n",
    "import time\n",
    "%matplotlib inline"
   ]
  },
  {
   "cell_type": "code",
   "execution_count": 4,
   "id": "db498a11",
   "metadata": {},
   "outputs": [],
   "source": [
    "import matplotlib.pyplot as plt"
   ]
  },
  {
   "cell_type": "code",
   "execution_count": 5,
   "id": "6902468b",
   "metadata": {},
   "outputs": [],
   "source": [
    "import joblib\n",
    "import numpy as np"
   ]
  },
  {
   "cell_type": "code",
   "execution_count": 6,
   "id": "9a729778",
   "metadata": {},
   "outputs": [],
   "source": [
    "train_x = joblib.load('./train_mnist_x_exp_02.pkl')\n",
    "train_y = joblib.load('./train_mnist_y_exp_02.pkl')\n"
   ]
  },
  {
   "cell_type": "code",
   "execution_count": 7,
   "id": "6aff6830",
   "metadata": {},
   "outputs": [
    {
     "data": {
      "text/plain": [
       "(2816, 2816)"
      ]
     },
     "execution_count": 7,
     "metadata": {},
     "output_type": "execute_result"
    }
   ],
   "source": [
    "len(train_x), len(train_y)"
   ]
  },
  {
   "cell_type": "code",
   "execution_count": 8,
   "id": "9ff3c72f",
   "metadata": {},
   "outputs": [],
   "source": [
    "import torch"
   ]
  },
  {
   "cell_type": "code",
   "execution_count": 9,
   "id": "416f5b23",
   "metadata": {},
   "outputs": [],
   "source": [
    "from torchvision.datasets import FashionMNIST, MNIST"
   ]
  },
  {
   "cell_type": "code",
   "execution_count": 10,
   "id": "30f82bd2",
   "metadata": {},
   "outputs": [],
   "source": [
    "class TrainFMNIST(Dataset):\n",
    "    \n",
    "    def __init__(self, x, y):\n",
    "        \n",
    "        self.x = torch.tensor(x).float()\n",
    "        self.y = torch.tensor(y).float()\n",
    "        \n",
    "    def __len__(self):\n",
    "        return len(self.y)\n",
    "    \n",
    "    def __getitem__(self, index):   \n",
    "        sample = [self.x[index][:1, ...], int(torch.argmax(self.y[index]))]\n",
    "        \n",
    "        return sample\n"
   ]
  },
  {
   "cell_type": "code",
   "execution_count": 11,
   "id": "ad801e97",
   "metadata": {},
   "outputs": [],
   "source": [
    "train_dl = TrainFMNIST(train_x, train_y)"
   ]
  },
  {
   "cell_type": "code",
   "execution_count": 12,
   "id": "431b5bf6",
   "metadata": {},
   "outputs": [],
   "source": [
    "x, y = train_dl[0]"
   ]
  },
  {
   "cell_type": "code",
   "execution_count": 13,
   "id": "5a80db45",
   "metadata": {},
   "outputs": [
    {
     "data": {
      "text/plain": [
       "0"
      ]
     },
     "execution_count": 13,
     "metadata": {},
     "output_type": "execute_result"
    }
   ],
   "source": [
    "y"
   ]
  },
  {
   "cell_type": "code",
   "execution_count": 14,
   "id": "0dbf644c",
   "metadata": {},
   "outputs": [
    {
     "data": {
      "text/plain": [
       "(torch.Size([1, 28, 28]), 0)"
      ]
     },
     "execution_count": 14,
     "metadata": {},
     "output_type": "execute_result"
    }
   ],
   "source": [
    "x.shape, y"
   ]
  },
  {
   "cell_type": "code",
   "execution_count": 15,
   "id": "05b1fe2d",
   "metadata": {},
   "outputs": [],
   "source": [
    "# test_transform = transforms.Compose([\n",
    "#     transforms.Resize(28),\n",
    "#     transforms.ToTensor()\n",
    "# ])\n",
    "\n",
    "# valid_dl = FashionMNIST(os.path.join('./exp', 'datasets', 'fashion_mnist_test'), train=False, download=True,\n",
    "#                                transform=test_transform)\n"
   ]
  },
  {
   "cell_type": "code",
   "execution_count": 16,
   "id": "1909b164",
   "metadata": {},
   "outputs": [],
   "source": [
    "test_transform = transforms.Compose([\n",
    "    transforms.Resize(28),\n",
    "    transforms.ToTensor()\n",
    "])\n",
    "\n",
    "valid_dl = MNIST(os.path.join('./exp', 'datasets', 'mnist_test'), train=False, download=True,\n",
    "                               transform=test_transform)\n"
   ]
  },
  {
   "cell_type": "code",
   "execution_count": 17,
   "id": "db090203",
   "metadata": {},
   "outputs": [],
   "source": [
    "x, y = valid_dl[0]"
   ]
  },
  {
   "cell_type": "code",
   "execution_count": 18,
   "id": "4568760f",
   "metadata": {},
   "outputs": [
    {
     "data": {
      "text/plain": [
       "(torch.Size([1, 28, 28]), 7)"
      ]
     },
     "execution_count": 18,
     "metadata": {},
     "output_type": "execute_result"
    }
   ],
   "source": [
    "x.shape, y"
   ]
  },
  {
   "cell_type": "code",
   "execution_count": 19,
   "id": "91de11ed",
   "metadata": {},
   "outputs": [],
   "source": [
    "train_dataloader = torch.utils.data.DataLoader(train_dl, shuffle = True, batch_size = 256, num_workers = 4)\n",
    "valid_dataloader = torch.utils.data.DataLoader(valid_dl, shuffle = True, batch_size = 256, num_workers = 4)\n"
   ]
  },
  {
   "cell_type": "code",
   "execution_count": 20,
   "id": "743db226",
   "metadata": {},
   "outputs": [
    {
     "data": {
      "text/plain": [
       "<matplotlib.image.AxesImage at 0x7faf25110cd0>"
      ]
     },
     "execution_count": 20,
     "metadata": {},
     "output_type": "execute_result"
    },
    {
     "data": {
      "image/png": "[encoded data removed]",
      "text/plain": [
       "<Figure size 432x288 with 1 Axes>"
      ]
     },
     "metadata": {
      "needs_background": "light"
     },
     "output_type": "display_data"
    }
   ],
   "source": [
    "plt.imshow(torchvision.utils.make_grid(train_dl[6][0]).permute(1, 2, 0))"
   ]
  },
  {
   "cell_type": "code",
   "execution_count": 21,
   "id": "5bc8ac98",
   "metadata": {},
   "outputs": [
    {
     "data": {
      "text/plain": [
       "<matplotlib.image.AxesImage at 0x7faf25245160>"
      ]
     },
     "execution_count": 21,
     "metadata": {},
     "output_type": "execute_result"
    },
    {
     "data": {
      "image/png": "[encoded data removed]",
      "text/plain": [
       "<Figure size 432x288 with 1 Axes>"
      ]
     },
     "metadata": {
      "needs_background": "light"
     },
     "output_type": "display_data"
    }
   ],
   "source": [
    "plt.imshow(torchvision.utils.make_grid(valid_dl[6][0]).permute(1, 2, 0))"
   ]
  },
  {
   "cell_type": "code",
   "execution_count": 22,
   "id": "c02c00de",
   "metadata": {},
   "outputs": [],
   "source": [
    "class MultiClassifier(nn.Module):\n",
    "    def __init__(self):\n",
    "        super(MultiClassifier, self).__init__()\n",
    "        self.ConvLayer1 = nn.Sequential(\n",
    "            nn.Conv2d(1, 32, 3), # 3, 256, 256\n",
    "            nn.MaxPool2d(2), # op: 16, 127, 127\n",
    "            nn.ReLU(), # op: 64, 127, 127\n",
    "            nn.Dropout(0.2),\n",
    "        )\n",
    "        self.ConvLayer2 = nn.Sequential(\n",
    "            nn.Conv2d(32, 64, 3), # 64, 127, 127   \n",
    "            nn.MaxPool2d(2), #op: 128, 63, 63\n",
    "            nn.ReLU(), # op: 128, 63, 63\n",
    "            nn.Dropout(0.25),\n",
    "        )\n",
    "        \n",
    "        self.Linear1 = nn.Linear(1600, 64)\n",
    "        self.Linear2 = nn.Linear(64, 10)\n",
    "        \n",
    "        \n",
    "        \n",
    "    def forward(self, x):\n",
    "        x = self.ConvLayer1(x)\n",
    "        x = self.ConvLayer2(x)        \n",
    "        x = x.view(x.size(0), -1)\n",
    "        x = self.Linear1(x)\n",
    "        x = self.Linear2(x)\n",
    "        return F.softmax(x)\n",
    "\n"
   ]
  },
  {
   "cell_type": "code",
   "execution_count": 23,
   "id": "8a97c8a7",
   "metadata": {},
   "outputs": [],
   "source": [
    "def check_cuda():\n",
    "    _cuda = False\n",
    "    if torch.cuda.is_available():\n",
    "        _cuda = True\n",
    "    return _cuda\n"
   ]
  },
  {
   "cell_type": "code",
   "execution_count": 24,
   "id": "9c200e0a",
   "metadata": {},
   "outputs": [],
   "source": [
    "is_cuda = check_cuda()\n"
   ]
  },
  {
   "cell_type": "code",
   "execution_count": 25,
   "id": "e7ecf989",
   "metadata": {},
   "outputs": [],
   "source": [
    "model = MultiClassifier()\n",
    "if is_cuda:\n",
    "    model.cuda()\n"
   ]
  },
  {
   "cell_type": "code",
   "execution_count": 26,
   "id": "809ccc44",
   "metadata": {},
   "outputs": [],
   "source": [
    "x = train_dl[0][0].unsqueeze(0).cuda()"
   ]
  },
  {
   "cell_type": "code",
   "execution_count": 27,
   "id": "1d571548",
   "metadata": {},
   "outputs": [
    {
     "name": "stderr",
     "output_type": "stream",
     "text": [
      "/tmp/ipykernel_13148/1466334388.py:28: UserWarning: Implicit dimension choice for softmax has been deprecated. Change the call to include dim=X as an argument.\n",
      "  return F.softmax(x)\n"
     ]
    },
    {
     "data": {
      "text/plain": [
       "torch.Size([1, 10])"
      ]
     },
     "execution_count": 27,
     "metadata": {},
     "output_type": "execute_result"
    }
   ],
   "source": [
    "model(x).shape"
   ]
  },
  {
   "cell_type": "code",
   "execution_count": 28,
   "id": "e2080a64",
   "metadata": {},
   "outputs": [],
   "source": [
    "train_dataloader = torch.utils.data.DataLoader(train_dl, shuffle = True, batch_size = 256, num_workers = 4)\n",
    "valid_dataloader = torch.utils.data.DataLoader(valid_dl, shuffle = True, batch_size = 256, num_workers = 4)\n"
   ]
  },
  {
   "cell_type": "code",
   "execution_count": 29,
   "id": "cef5db9b",
   "metadata": {},
   "outputs": [],
   "source": [
    "def pred_acc(original, predicted):\n",
    "    return torch.round(predicted).eq(original).sum().numpy()/len(original)\n"
   ]
  },
  {
   "cell_type": "code",
   "execution_count": 30,
   "id": "c54030b6",
   "metadata": {},
   "outputs": [],
   "source": [
    "criterion = nn.BCELoss()\n",
    "# optimizer = optim.SGD(model.parameters(), lr = 0.0001, momentum = 0.9)\n",
    "optimizer = optim.SGD(model.parameters(), lr = 2e-2)\n",
    "# optimizer = optim.Adam(model.parameters(), lr = 0.001)\n"
   ]
  },
  {
   "cell_type": "code",
   "execution_count": 31,
   "id": "043aad56",
   "metadata": {},
   "outputs": [],
   "source": [
    "from pprint import pprint\n"
   ]
  },
  {
   "cell_type": "code",
   "execution_count": 32,
   "id": "431a96af",
   "metadata": {},
   "outputs": [
    {
     "data": {
      "text/plain": [
       "MultiClassifier(\n",
       "  (ConvLayer1): Sequential(\n",
       "    (0): Conv2d(1, 32, kernel_size=(3, 3), stride=(1, 1))\n",
       "    (1): MaxPool2d(kernel_size=2, stride=2, padding=0, dilation=1, ceil_mode=False)\n",
       "    (2): ReLU()\n",
       "    (3): Dropout(p=0.2, inplace=False)\n",
       "  )\n",
       "  (ConvLayer2): Sequential(\n",
       "    (0): Conv2d(32, 64, kernel_size=(3, 3), stride=(1, 1))\n",
       "    (1): MaxPool2d(kernel_size=2, stride=2, padding=0, dilation=1, ceil_mode=False)\n",
       "    (2): ReLU()\n",
       "    (3): Dropout(p=0.25, inplace=False)\n",
       "  )\n",
       "  (Linear1): Linear(in_features=1600, out_features=64, bias=True)\n",
       "  (Linear2): Linear(in_features=64, out_features=10, bias=True)\n",
       ")"
      ]
     },
     "execution_count": 32,
     "metadata": {},
     "output_type": "execute_result"
    }
   ],
   "source": [
    "model.train()"
   ]
  },
  {
   "cell_type": "code",
   "execution_count": 33,
   "id": "c4c426cb",
   "metadata": {},
   "outputs": [],
   "source": [
    "def fit_model(epochs, model, dataloader, phase = 'training', volatile = False):\n",
    "    \n",
    "    pprint(\"Epoch: {}\".format(epochs))\n",
    "\n",
    "    if phase == 'training':\n",
    "        model.train()\n",
    "        \n",
    "    if phase == 'validataion':\n",
    "        model.eval()\n",
    "        volatile = True\n",
    "        \n",
    "    running_loss = []\n",
    "    running_acc = []\n",
    "    \n",
    "    for i, data in enumerate(dataloader):\n",
    "        \n",
    "        inputs, target = data[0].cuda(), torch.eye(10)[data[1]].cuda()        \n",
    "        inputs, target = Variable(inputs), Variable(target)\n",
    "        \n",
    "        if phase == 'training':\n",
    "            optimizer.zero_grad()\n",
    "            \n",
    "        ops = model(inputs)\n",
    "        \n",
    "        acc_ = []\n",
    "        for i, d in enumerate(ops, 0):\n",
    "           \n",
    "            acc = pred_acc(torch.Tensor.cpu(target[i]), torch.Tensor.cpu(d))\n",
    "            acc_.append(acc)\n",
    "\n",
    "        loss = criterion(ops, target)\n",
    "                \n",
    "        running_loss.append(loss.item())\n",
    "        running_acc.append(np.asarray(acc_).mean())\n",
    "       \n",
    "        if phase == 'training':\n",
    "            loss.backward()\n",
    "            optimizer.step()\n",
    "            \n",
    "    total_batch_loss = np.asarray(running_loss).mean()\n",
    "    total_batch_acc = np.asarray(running_acc).mean()\n",
    "    \n",
    "\n",
    "    pprint(\"{} loss is {} \".format(phase,total_batch_loss))\n",
    "    pprint(\"{} accuracy is {} \".format(phase, total_batch_acc))\n",
    "\n",
    "    \n",
    "    return total_batch_loss, total_batch_acc\n"
   ]
  },
  {
   "cell_type": "code",
   "execution_count": 34,
   "id": "dd6fe882",
   "metadata": {},
   "outputs": [],
   "source": [
    "inputs, target = next(iter(train_dataloader))"
   ]
  },
  {
   "cell_type": "code",
   "execution_count": 35,
   "id": "135ad7bf",
   "metadata": {},
   "outputs": [
    {
     "name": "stderr",
     "output_type": "stream",
     "text": [
      "/tmp/ipykernel_13148/1466334388.py:28: UserWarning: Implicit dimension choice for softmax has been deprecated. Change the call to include dim=X as an argument.\n",
      "  return F.softmax(x)\n"
     ]
    }
   ],
   "source": [
    "ops = model(inputs.cuda())"
   ]
  },
  {
   "cell_type": "code",
   "execution_count": 36,
   "id": "8db2acc8",
   "metadata": {},
   "outputs": [],
   "source": [
    "trn_losses = []; trn_acc = []\n",
    "val_losses = []; val_acc = []\n"
   ]
  },
  {
   "cell_type": "code",
   "execution_count": null,
   "id": "60c0c59f",
   "metadata": {},
   "outputs": [
    {
     "name": "stderr",
     "output_type": "stream",
     "text": [
      "\r",
      "  0%|          | 0/2499 [00:00<?, ?it/s]"
     ]
    },
    {
     "name": "stdout",
     "output_type": "stream",
     "text": [
      "'Epoch: 1'\n"
     ]
    },
    {
     "name": "stderr",
     "output_type": "stream",
     "text": [
      "/tmp/ipykernel_13148/1466334388.py:28: UserWarning: Implicit dimension choice for softmax has been deprecated. Change the call to include dim=X as an argument.\n",
      "  return F.softmax(x)\n"
     ]
    },
    {
     "name": "stdout",
     "output_type": "stream",
     "text": [
      "'training loss is 0.33115755969827826 '\n",
      "'training accuracy is 0.9000000000000002 '\n",
      "'Epoch: 1'\n"
     ]
    },
    {
     "name": "stderr",
     "output_type": "stream",
     "text": [
      "\r",
      "  0%|          | 1/2499 [00:02<1:26:14,  2.07s/it]"
     ]
    },
    {
     "name": "stdout",
     "output_type": "stream",
     "text": [
      "'validation loss is 0.32601317539811137 '\n",
      "'validation accuracy is 0.9000000000000001 '\n",
      "'Epoch: 2'\n",
      "'training loss is 0.31213789094578137 '\n",
      "'training accuracy is 0.9000000000000002 '\n",
      "'Epoch: 2'\n"
     ]
    },
    {
     "name": "stderr",
     "output_type": "stream",
     "text": [
      "\r",
      "  0%|          | 2/2499 [00:03<1:22:35,  1.98s/it]"
     ]
    },
    {
     "name": "stdout",
     "output_type": "stream",
     "text": [
      "'validation loss is 0.32712986022233964 '\n",
      "'validation accuracy is 0.9000000000000001 '\n",
      "'Epoch: 3'\n",
      "'training loss is 0.28918214548717847 '\n",
      "'training accuracy is 0.9000000000000002 '\n",
      "'Epoch: 3'\n"
     ]
    },
    {
     "name": "stderr",
     "output_type": "stream",
     "text": [
      "\r",
      "  0%|          | 3/2499 [00:05<1:19:46,  1.92s/it]"
     ]
    },
    {
     "name": "stdout",
     "output_type": "stream",
     "text": [
      "'validation loss is 0.33140976056456567 '\n",
      "'validation accuracy is 0.9000000000000001 '\n",
      "'Epoch: 4'\n",
      "'training loss is 0.25820273567329755 '\n",
      "'training accuracy is 0.9000000000000002 '\n",
      "'Epoch: 4'\n"
     ]
    },
    {
     "name": "stderr",
     "output_type": "stream",
     "text": [
      "\r",
      "  0%|          | 4/2499 [00:07<1:16:43,  1.84s/it]"
     ]
    },
    {
     "name": "stdout",
     "output_type": "stream",
     "text": [
      "'validation loss is 0.34648553729057313 '\n",
      "'validation accuracy is 0.9000195312500001 '\n",
      "'Epoch: 5'\n",
      "'training loss is 0.21338956464420666 '\n",
      "'training accuracy is 0.9000000000000002 '\n",
      "'Epoch: 5'\n"
     ]
    },
    {
     "name": "stderr",
     "output_type": "stream",
     "text": [
      "\r",
      "  0%|          | 5/2499 [00:09<1:16:02,  1.83s/it]"
     ]
    },
    {
     "name": "stdout",
     "output_type": "stream",
     "text": [
      "'validation loss is 0.3990938954055309 '\n",
      "'validation accuracy is 0.8383203125000002 '\n",
      "'Epoch: 6'\n",
      "'training loss is 0.1533533835952932 '\n",
      "'training accuracy is 0.927521306818182 '\n",
      "'Epoch: 6'\n"
     ]
    },
    {
     "name": "stderr",
     "output_type": "stream",
     "text": [
      "\r",
      "  0%|          | 6/2499 [00:10<1:15:06,  1.81s/it]"
     ]
    },
    {
     "name": "stdout",
     "output_type": "stream",
     "text": [
      "'validation loss is 0.5464288160204888 '\n",
      "'validation accuracy is 0.8194335937500001 '\n",
      "'Epoch: 7'\n",
      "'training loss is 0.10160589827732606 '\n",
      "'training accuracy is 0.984659090909091 '\n",
      "'Epoch: 7'\n"
     ]
    },
    {
     "name": "stderr",
     "output_type": "stream",
     "text": [
      "\r",
      "  0%|          | 7/2499 [00:12<1:15:14,  1.81s/it]"
     ]
    },
    {
     "name": "stdout",
     "output_type": "stream",
     "text": [
      "'validation loss is 0.737646472454071 '\n",
      "'validation accuracy is 0.8194335937500001 '\n",
      "'Epoch: 8'\n",
      "'training loss is 0.07967991991476579 '\n",
      "'training accuracy is 0.984659090909091 '\n",
      "'Epoch: 8'\n"
     ]
    },
    {
     "name": "stderr",
     "output_type": "stream",
     "text": [
      "\r",
      "  0%|          | 8/2499 [00:14<1:15:09,  1.81s/it]"
     ]
    },
    {
     "name": "stdout",
     "output_type": "stream",
     "text": [
      "'validation loss is 0.869099323451519 '\n",
      "'validation accuracy is 0.8197265625000002 '\n",
      "'Epoch: 9'\n",
      "'training loss is 0.07333089140328494 '\n",
      "'training accuracy is 0.9846590909090911 '\n",
      "'Epoch: 9'\n"
     ]
    },
    {
     "name": "stderr",
     "output_type": "stream",
     "text": [
      "\r",
      "  0%|          | 9/2499 [00:16<1:14:33,  1.80s/it]"
     ]
    },
    {
     "name": "stdout",
     "output_type": "stream",
     "text": [
      "'validation loss is 0.9459769934415817 '\n",
      "'validation accuracy is 0.8194335937500001 '\n",
      "'Epoch: 10'\n",
      "'training loss is 0.07128838246518915 '\n",
      "'training accuracy is 0.9846590909090908 '\n",
      "'Epoch: 10'\n"
     ]
    },
    {
     "name": "stderr",
     "output_type": "stream",
     "text": [
      "\r",
      "  0%|          | 10/2499 [00:18<1:14:37,  1.80s/it]"
     ]
    },
    {
     "name": "stdout",
     "output_type": "stream",
     "text": [
      "'validation loss is 0.9881595283746719 '\n",
      "'validation accuracy is 0.8194335937500001 '\n",
      "'Epoch: 11'\n",
      "'training loss is 0.07031754776835442 '\n",
      "'training accuracy is 0.9846590909090908 '\n",
      "'Epoch: 11'\n"
     ]
    },
    {
     "name": "stderr",
     "output_type": "stream",
     "text": [
      "\r",
      "  0%|          | 11/2499 [00:19<1:15:01,  1.81s/it]"
     ]
    },
    {
     "name": "stdout",
     "output_type": "stream",
     "text": [
      "'validation loss is 1.0114073246717452 '\n",
      "'validation accuracy is 0.819140625 '\n",
      "'Epoch: 12'\n",
      "'training loss is 0.07024730741977692 '\n",
      "'training accuracy is 0.984659090909091 '\n",
      "'Epoch: 12'\n"
     ]
    },
    {
     "name": "stderr",
     "output_type": "stream",
     "text": [
      "\r",
      "  0%|          | 12/2499 [00:21<1:15:06,  1.81s/it]"
     ]
    },
    {
     "name": "stdout",
     "output_type": "stream",
     "text": [
      "'validation loss is 1.0181794911623 '\n",
      "'validation accuracy is 0.8197265625000002 '\n",
      "'Epoch: 13'\n",
      "'training loss is 0.06960552761500532 '\n",
      "'training accuracy is 0.984659090909091 '\n",
      "'Epoch: 13'\n"
     ]
    },
    {
     "name": "stderr",
     "output_type": "stream",
     "text": [
      "\r",
      "  1%|          | 13/2499 [00:23<1:15:09,  1.81s/it]"
     ]
    },
    {
     "name": "stdout",
     "output_type": "stream",
     "text": [
      "'validation loss is 1.0253436341881752 '\n",
      "'validation accuracy is 0.8194335937500004 '\n",
      "'Epoch: 14'\n",
      "'training loss is 0.0696295780891722 '\n",
      "'training accuracy is 0.984659090909091 '\n",
      "'Epoch: 14'\n"
     ]
    },
    {
     "name": "stderr",
     "output_type": "stream",
     "text": [
      "\r",
      "  1%|          | 14/2499 [00:25<1:13:58,  1.79s/it]"
     ]
    },
    {
     "name": "stdout",
     "output_type": "stream",
     "text": [
      "'validation loss is 1.0319132298231124 '\n",
      "'validation accuracy is 0.8194335937500001 '\n",
      "'Epoch: 15'\n",
      "'training loss is 0.06910838931798935 '\n",
      "'training accuracy is 0.984659090909091 '\n",
      "'Epoch: 15'\n"
     ]
    },
    {
     "name": "stderr",
     "output_type": "stream",
     "text": [
      "\r",
      "  1%|          | 15/2499 [00:27<1:14:05,  1.79s/it]"
     ]
    },
    {
     "name": "stdout",
     "output_type": "stream",
     "text": [
      "'validation loss is 1.0379439383745193 '\n",
      "'validation accuracy is 0.8194335937500001 '\n",
      "'Epoch: 16'\n",
      "'training loss is 0.06909359652887691 '\n",
      "'training accuracy is 0.9846590909090908 '\n",
      "'Epoch: 16'\n"
     ]
    },
    {
     "name": "stderr",
     "output_type": "stream",
     "text": [
      "\r",
      "  1%|          | 16/2499 [00:28<1:13:20,  1.77s/it]"
     ]
    },
    {
     "name": "stdout",
     "output_type": "stream",
     "text": [
      "'validation loss is 1.0443144246935845 '\n",
      "'validation accuracy is 0.8191406250000002 '\n",
      "'Epoch: 17'\n",
      "'training loss is 0.0686865012076768 '\n",
      "'training accuracy is 0.984659090909091 '\n",
      "'Epoch: 17'\n"
     ]
    },
    {
     "name": "stderr",
     "output_type": "stream",
     "text": [
      "\r",
      "  1%|          | 17/2499 [00:30<1:15:35,  1.83s/it]"
     ]
    },
    {
     "name": "stdout",
     "output_type": "stream",
     "text": [
      "'validation loss is 1.0398958668112754 '\n",
      "'validation accuracy is 0.8197265625 '\n",
      "'Epoch: 18'\n",
      "'training loss is 0.06822533532977104 '\n",
      "'training accuracy is 0.9846590909090908 '\n",
      "'Epoch: 18'\n"
     ]
    },
    {
     "name": "stderr",
     "output_type": "stream",
     "text": [
      "\r",
      "  1%|          | 18/2499 [00:32<1:14:57,  1.81s/it]"
     ]
    },
    {
     "name": "stdout",
     "output_type": "stream",
     "text": [
      "'validation loss is 1.036142359673977 '\n",
      "'validation accuracy is 0.82001953125 '\n",
      "'Epoch: 19'\n",
      "'training loss is 0.06824025477875363 '\n",
      "'training accuracy is 0.9846590909090908 '\n",
      "'Epoch: 19'\n"
     ]
    },
    {
     "name": "stderr",
     "output_type": "stream",
     "text": [
      "\r",
      "  1%|          | 19/2499 [00:34<1:13:54,  1.79s/it]"
     ]
    },
    {
     "name": "stdout",
     "output_type": "stream",
     "text": [
      "'validation loss is 1.0401292428374291 '\n",
      "'validation accuracy is 0.8191406250000004 '\n",
      "'Epoch: 20'\n",
      "'training loss is 0.06786929341879758 '\n",
      "'training accuracy is 0.984659090909091 '\n",
      "'Epoch: 20'\n"
     ]
    },
    {
     "name": "stderr",
     "output_type": "stream",
     "text": [
      "\r",
      "  1%|          | 20/2499 [00:36<1:14:22,  1.80s/it]"
     ]
    },
    {
     "name": "stdout",
     "output_type": "stream",
     "text": [
      "'validation loss is 1.0371962502598762 '\n",
      "'validation accuracy is 0.8194335937500004 '\n",
      "'Epoch: 21'\n",
      "'training loss is 0.06748043339360844 '\n",
      "'training accuracy is 0.984659090909091 '\n",
      "'Epoch: 21'\n"
     ]
    },
    {
     "name": "stderr",
     "output_type": "stream",
     "text": [
      "\r",
      "  1%|          | 21/2499 [00:37<1:14:19,  1.80s/it]"
     ]
    },
    {
     "name": "stdout",
     "output_type": "stream",
     "text": [
      "'validation loss is 1.0316397607326508 '\n",
      "'validation accuracy is 0.8203125000000002 '\n",
      "'Epoch: 22'\n",
      "'training loss is 0.06738705086437138 '\n",
      "'training accuracy is 0.984659090909091 '\n",
      "'Epoch: 22'\n"
     ]
    },
    {
     "name": "stderr",
     "output_type": "stream",
     "text": [
      "\r",
      "  1%|          | 22/2499 [00:39<1:15:01,  1.82s/it]"
     ]
    },
    {
     "name": "stdout",
     "output_type": "stream",
     "text": [
      "'validation loss is 1.0393562138080596 '\n",
      "'validation accuracy is 0.8191406250000004 '\n",
      "'Epoch: 23'\n",
      "'training loss is 0.06710922142321413 '\n",
      "'training accuracy is 0.984659090909091 '\n",
      "'Epoch: 23'\n"
     ]
    },
    {
     "name": "stderr",
     "output_type": "stream",
     "text": [
      "\r",
      "  1%|          | 23/2499 [00:41<1:13:45,  1.79s/it]"
     ]
    },
    {
     "name": "stdout",
     "output_type": "stream",
     "text": [
      "'validation loss is 1.0376880273222924 '\n",
      "'validation accuracy is 0.8197265625000002 '\n",
      "'Epoch: 24'\n",
      "'training loss is 0.06704243204810402 '\n",
      "'training accuracy is 0.984659090909091 '\n",
      "'Epoch: 24'\n"
     ]
    },
    {
     "name": "stderr",
     "output_type": "stream",
     "text": [
      "\r",
      "  1%|          | 24/2499 [00:43<1:12:35,  1.76s/it]"
     ]
    },
    {
     "name": "stdout",
     "output_type": "stream",
     "text": [
      "'validation loss is 1.0392351642251014 '\n",
      "'validation accuracy is 0.8197265625000003 '\n",
      "'Epoch: 25'\n",
      "'training loss is 0.06710241328586232 '\n",
      "'training accuracy is 0.9846590909090908 '\n",
      "'Epoch: 25'\n"
     ]
    },
    {
     "name": "stderr",
     "output_type": "stream",
     "text": [
      "\r",
      "  1%|          | 25/2499 [00:44<1:13:29,  1.78s/it]"
     ]
    },
    {
     "name": "stdout",
     "output_type": "stream",
     "text": [
      "'validation loss is 1.0370629653334618 '\n",
      "'validation accuracy is 0.8197265625000002 '\n",
      "'Epoch: 26'\n",
      "'training loss is 0.06673019176179712 '\n",
      "'training accuracy is 0.9846590909090908 '\n",
      "'Epoch: 26'\n"
     ]
    },
    {
     "name": "stderr",
     "output_type": "stream",
     "text": [
      "\r",
      "  1%|          | 26/2499 [00:46<1:13:42,  1.79s/it]"
     ]
    },
    {
     "name": "stdout",
     "output_type": "stream",
     "text": [
      "'validation loss is 1.0373280107975007 '\n",
      "'validation accuracy is 0.8197265625 '\n",
      "'Epoch: 27'\n",
      "'training loss is 0.06648330356587064 '\n",
      "'training accuracy is 0.984659090909091 '\n",
      "'Epoch: 27'\n"
     ]
    },
    {
     "name": "stderr",
     "output_type": "stream",
     "text": [
      "\r",
      "  1%|          | 27/2499 [00:48<1:14:02,  1.80s/it]"
     ]
    },
    {
     "name": "stdout",
     "output_type": "stream",
     "text": [
      "'validation loss is 1.03917845338583 '\n",
      "'validation accuracy is 0.8194335937500004 '\n",
      "'Epoch: 28'\n",
      "'training loss is 0.06646458195014433 '\n",
      "'training accuracy is 0.984659090909091 '\n",
      "'Epoch: 28'\n"
     ]
    },
    {
     "name": "stderr",
     "output_type": "stream",
     "text": [
      "\r",
      "  1%|          | 28/2499 [00:50<1:14:16,  1.80s/it]"
     ]
    },
    {
     "name": "stdout",
     "output_type": "stream",
     "text": [
      "'validation loss is 1.0390964448451996 '\n",
      "'validation accuracy is 0.81943359375 '\n",
      "'Epoch: 29'\n",
      "'training loss is 0.06638801504265178 '\n",
      "'training accuracy is 0.984659090909091 '\n",
      "'Epoch: 29'\n"
     ]
    },
    {
     "name": "stderr",
     "output_type": "stream",
     "text": [
      "\r",
      "  1%|          | 29/2499 [00:52<1:14:16,  1.80s/it]"
     ]
    },
    {
     "name": "stdout",
     "output_type": "stream",
     "text": [
      "'validation loss is 1.0354953676462173 '\n",
      "'validation accuracy is 0.8200195312500002 '\n",
      "'Epoch: 30'\n",
      "'training loss is 0.06600080904635516 '\n",
      "'training accuracy is 0.984659090909091 '\n",
      "'Epoch: 30'\n"
     ]
    },
    {
     "name": "stderr",
     "output_type": "stream",
     "text": [
      "\r",
      "  1%|          | 30/2499 [00:53<1:13:44,  1.79s/it]"
     ]
    },
    {
     "name": "stdout",
     "output_type": "stream",
     "text": [
      "'validation loss is 1.0401749327778815 '\n",
      "'validation accuracy is 0.8191406250000002 '\n",
      "'Epoch: 31'\n",
      "'training loss is 0.06598119539293376 '\n",
      "'training accuracy is 0.9846590909090908 '\n",
      "'Epoch: 31'\n"
     ]
    },
    {
     "name": "stderr",
     "output_type": "stream",
     "text": [
      "\r",
      "  1%|          | 31/2499 [00:55<1:15:09,  1.83s/it]"
     ]
    },
    {
     "name": "stdout",
     "output_type": "stream",
     "text": [
      "'validation loss is 1.0353423342108727 '\n",
      "'validation accuracy is 0.8194335937500001 '\n",
      "'Epoch: 32'\n",
      "'training loss is 0.06587498770518736 '\n",
      "'training accuracy is 0.9846590909090908 '\n",
      "'Epoch: 32'\n"
     ]
    },
    {
     "name": "stderr",
     "output_type": "stream",
     "text": [
      "\r",
      "  1%|▏         | 32/2499 [00:57<1:16:45,  1.87s/it]"
     ]
    },
    {
     "name": "stdout",
     "output_type": "stream",
     "text": [
      "'validation loss is 1.0372067496180535 '\n",
      "'validation accuracy is 0.8197265625000002 '\n",
      "'Epoch: 33'\n",
      "'training loss is 0.06588683345101097 '\n",
      "'training accuracy is 0.9846590909090908 '\n",
      "'Epoch: 33'\n"
     ]
    },
    {
     "name": "stderr",
     "output_type": "stream",
     "text": [
      "\r",
      "  1%|▏         | 33/2499 [00:59<1:15:02,  1.83s/it]"
     ]
    },
    {
     "name": "stdout",
     "output_type": "stream",
     "text": [
      "'validation loss is 1.0429934173822404 '\n",
      "'validation accuracy is 0.8191406250000004 '\n",
      "'Epoch: 34'\n",
      "'training loss is 0.06550952555103735 '\n",
      "'training accuracy is 0.9846590909090908 '\n",
      "'Epoch: 34'\n"
     ]
    },
    {
     "name": "stderr",
     "output_type": "stream",
     "text": [
      "\r",
      "  1%|▏         | 34/2499 [01:01<1:15:48,  1.85s/it]"
     ]
    },
    {
     "name": "stdout",
     "output_type": "stream",
     "text": [
      "'validation loss is 1.0395087793469429 '\n",
      "'validation accuracy is 0.8197265625 '\n",
      "'Epoch: 35'\n",
      "'training loss is 0.06572753190994263 '\n",
      "'training accuracy is 0.984659090909091 '\n",
      "'Epoch: 35'\n"
     ]
    },
    {
     "name": "stderr",
     "output_type": "stream",
     "text": [
      "\r",
      "  1%|▏         | 35/2499 [01:03<1:16:02,  1.85s/it]"
     ]
    },
    {
     "name": "stdout",
     "output_type": "stream",
     "text": [
      "'validation loss is 1.042080247402191 '\n",
      "'validation accuracy is 0.8194335937500004 '\n",
      "'Epoch: 36'\n",
      "'training loss is 0.06554058702154593 '\n",
      "'training accuracy is 0.9846590909090908 '\n",
      "'Epoch: 36'\n"
     ]
    },
    {
     "name": "stderr",
     "output_type": "stream",
     "text": [
      "\r",
      "  1%|▏         | 36/2499 [01:05<1:14:57,  1.83s/it]"
     ]
    },
    {
     "name": "stdout",
     "output_type": "stream",
     "text": [
      "'validation loss is 1.040728934109211 '\n",
      "'validation accuracy is 0.8200195312500002 '\n",
      "'Epoch: 37'\n",
      "'training loss is 0.06544210253791376 '\n",
      "'training accuracy is 0.9846590909090908 '\n",
      "'Epoch: 37'\n"
     ]
    },
    {
     "name": "stderr",
     "output_type": "stream",
     "text": [
      "\r",
      "  1%|▏         | 37/2499 [01:06<1:13:23,  1.79s/it]"
     ]
    },
    {
     "name": "stdout",
     "output_type": "stream",
     "text": [
      "'validation loss is 1.0403712332248687 '\n",
      "'validation accuracy is 0.8197265625000002 '\n",
      "'Epoch: 38'\n",
      "'training loss is 0.06538350643082098 '\n",
      "'training accuracy is 0.984659090909091 '\n",
      "'Epoch: 38'\n"
     ]
    },
    {
     "name": "stderr",
     "output_type": "stream",
     "text": [
      "\r",
      "  2%|▏         | 38/2499 [01:08<1:14:10,  1.81s/it]"
     ]
    },
    {
     "name": "stdout",
     "output_type": "stream",
     "text": [
      "'validation loss is 1.0446373119950294 '\n",
      "'validation accuracy is 0.819140625 '\n",
      "'Epoch: 39'\n",
      "'training loss is 0.06554841148582372 '\n",
      "'training accuracy is 0.9846590909090908 '\n",
      "'Epoch: 39'\n"
     ]
    },
    {
     "name": "stderr",
     "output_type": "stream",
     "text": [
      "\r",
      "  2%|▏         | 39/2499 [01:10<1:14:37,  1.82s/it]"
     ]
    },
    {
     "name": "stdout",
     "output_type": "stream",
     "text": [
      "'validation loss is 1.0410733178257943 '\n",
      "'validation accuracy is 0.8194335937500001 '\n",
      "'Epoch: 40'\n",
      "'training loss is 0.0652185698801821 '\n",
      "'training accuracy is 0.9846590909090908 '\n",
      "'Epoch: 40'\n"
     ]
    },
    {
     "name": "stderr",
     "output_type": "stream",
     "text": [
      "\r",
      "  2%|▏         | 40/2499 [01:12<1:13:12,  1.79s/it]"
     ]
    },
    {
     "name": "stdout",
     "output_type": "stream",
     "text": [
      "'validation loss is 1.041456413269043 '\n",
      "'validation accuracy is 0.8191406250000002 '\n",
      "'Epoch: 41'\n",
      "'training loss is 0.06516373055902394 '\n",
      "'training accuracy is 0.9846590909090908 '\n",
      "'Epoch: 41'\n"
     ]
    },
    {
     "name": "stderr",
     "output_type": "stream",
     "text": [
      "\r",
      "  2%|▏         | 41/2499 [01:14<1:14:25,  1.82s/it]"
     ]
    },
    {
     "name": "stdout",
     "output_type": "stream",
     "text": [
      "'validation loss is 1.0424101546406745 '\n",
      "'validation accuracy is 0.8191406250000002 '\n",
      "'Epoch: 42'\n",
      "'training loss is 0.06524610011415048 '\n",
      "'training accuracy is 0.9846590909090908 '\n",
      "'Epoch: 42'\n"
     ]
    },
    {
     "name": "stderr",
     "output_type": "stream",
     "text": [
      "\r",
      "  2%|▏         | 42/2499 [01:15<1:14:41,  1.82s/it]"
     ]
    },
    {
     "name": "stdout",
     "output_type": "stream",
     "text": [
      "'validation loss is 1.0414620161056518 '\n",
      "'validation accuracy is 0.8194335937500001 '\n",
      "'Epoch: 43'\n",
      "'training loss is 0.06509739939462054 '\n",
      "'training accuracy is 0.984659090909091 '\n",
      "'Epoch: 43'\n"
     ]
    },
    {
     "name": "stderr",
     "output_type": "stream",
     "text": [
      "\r",
      "  2%|▏         | 43/2499 [01:17<1:14:20,  1.82s/it]"
     ]
    },
    {
     "name": "stdout",
     "output_type": "stream",
     "text": [
      "'validation loss is 1.0428409665822982 '\n",
      "'validation accuracy is 0.8197265625 '\n",
      "'Epoch: 44'\n",
      "'training loss is 0.06499401683157141 '\n",
      "'training accuracy is 0.9846590909090908 '\n",
      "'Epoch: 44'\n"
     ]
    },
    {
     "name": "stderr",
     "output_type": "stream",
     "text": [
      "\r",
      "  2%|▏         | 44/2499 [01:19<1:13:41,  1.80s/it]"
     ]
    },
    {
     "name": "stdout",
     "output_type": "stream",
     "text": [
      "'validation loss is 1.044762420654297 '\n",
      "'validation accuracy is 0.8197265625000002 '\n",
      "'Epoch: 45'\n",
      "'training loss is 0.06485337662425908 '\n",
      "'training accuracy is 0.984659090909091 '\n",
      "'Epoch: 45'\n"
     ]
    },
    {
     "name": "stderr",
     "output_type": "stream",
     "text": [
      "\r",
      "  2%|▏         | 45/2499 [01:21<1:13:40,  1.80s/it]"
     ]
    },
    {
     "name": "stdout",
     "output_type": "stream",
     "text": [
      "'validation loss is 1.041652150452137 '\n",
      "'validation accuracy is 0.8194335937500004 '\n",
      "'Epoch: 46'\n",
      "'training loss is 0.06504622948440639 '\n",
      "'training accuracy is 0.984659090909091 '\n",
      "'Epoch: 46'\n"
     ]
    },
    {
     "name": "stderr",
     "output_type": "stream",
     "text": [
      "\r",
      "  2%|▏         | 46/2499 [01:23<1:12:37,  1.78s/it]"
     ]
    },
    {
     "name": "stdout",
     "output_type": "stream",
     "text": [
      "'validation loss is 1.0487155392765999 '\n",
      "'validation accuracy is 0.8191406250000004 '\n",
      "'Epoch: 47'\n",
      "'training loss is 0.0646312412890521 '\n",
      "'training accuracy is 0.9846590909090908 '\n",
      "'Epoch: 47'\n"
     ]
    },
    {
     "name": "stderr",
     "output_type": "stream",
     "text": [
      "\r",
      "  2%|▏         | 47/2499 [01:24<1:12:33,  1.78s/it]"
     ]
    },
    {
     "name": "stdout",
     "output_type": "stream",
     "text": [
      "'validation loss is 1.0495178326964378 '\n",
      "'validation accuracy is 0.8197265625000002 '\n",
      "'Epoch: 48'\n",
      "'training loss is 0.06504098495299165 '\n",
      "'training accuracy is 0.984659090909091 '\n",
      "'Epoch: 48'\n"
     ]
    },
    {
     "name": "stderr",
     "output_type": "stream",
     "text": [
      "\r",
      "  2%|▏         | 48/2499 [01:26<1:12:39,  1.78s/it]"
     ]
    },
    {
     "name": "stdout",
     "output_type": "stream",
     "text": [
      "'validation loss is 1.0485176622867585 '\n",
      "'validation accuracy is 0.8194335937500001 '\n",
      "'Epoch: 49'\n",
      "'training loss is 0.06470833312381398 '\n",
      "'training accuracy is 0.9846590909090911 '\n",
      "'Epoch: 49'\n"
     ]
    },
    {
     "name": "stderr",
     "output_type": "stream",
     "text": [
      "\r",
      "  2%|▏         | 49/2499 [01:28<1:13:49,  1.81s/it]"
     ]
    },
    {
     "name": "stdout",
     "output_type": "stream",
     "text": [
      "'validation loss is 1.050293357670307 '\n",
      "'validation accuracy is 0.8197265625000002 '\n",
      "'Epoch: 50'\n",
      "'training loss is 0.06450479579242793 '\n",
      "'training accuracy is 0.9846590909090908 '\n",
      "'Epoch: 50'\n"
     ]
    },
    {
     "name": "stderr",
     "output_type": "stream",
     "text": [
      "\r",
      "  2%|▏         | 50/2499 [01:30<1:13:11,  1.79s/it]"
     ]
    },
    {
     "name": "stdout",
     "output_type": "stream",
     "text": [
      "'validation loss is 1.053984773159027 '\n",
      "'validation accuracy is 0.8194335937500001 '\n",
      "'Epoch: 51'\n",
      "'training loss is 0.06489299102263017 '\n",
      "'training accuracy is 0.984659090909091 '\n",
      "'Epoch: 51'\n"
     ]
    },
    {
     "name": "stderr",
     "output_type": "stream",
     "text": [
      "\r",
      "  2%|▏         | 51/2499 [01:32<1:13:41,  1.81s/it]"
     ]
    },
    {
     "name": "stdout",
     "output_type": "stream",
     "text": [
      "'validation loss is 1.0529451280832292 '\n",
      "'validation accuracy is 0.8197265625000003 '\n",
      "'Epoch: 52'\n",
      "'training loss is 0.06467005982995033 '\n",
      "'training accuracy is 0.984659090909091 '\n",
      "'Epoch: 52'\n"
     ]
    },
    {
     "name": "stderr",
     "output_type": "stream",
     "text": [
      "\r",
      "  2%|▏         | 52/2499 [01:33<1:13:22,  1.80s/it]"
     ]
    },
    {
     "name": "stdout",
     "output_type": "stream",
     "text": [
      "'validation loss is 1.052717238664627 '\n",
      "'validation accuracy is 0.81943359375 '\n",
      "'Epoch: 53'\n",
      "'training loss is 0.06458231569691138 '\n",
      "'training accuracy is 0.9846590909090911 '\n",
      "'Epoch: 53'\n"
     ]
    },
    {
     "name": "stderr",
     "output_type": "stream",
     "text": [
      "\r",
      "  2%|▏         | 53/2499 [01:35<1:12:33,  1.78s/it]"
     ]
    },
    {
     "name": "stdout",
     "output_type": "stream",
     "text": [
      "'validation loss is 1.0517834097146987 '\n",
      "'validation accuracy is 0.8197265625000002 '\n",
      "'Epoch: 54'\n",
      "'training loss is 0.06460465423085472 '\n",
      "'training accuracy is 0.9846590909090908 '\n",
      "'Epoch: 54'\n"
     ]
    },
    {
     "name": "stderr",
     "output_type": "stream",
     "text": [
      "\r",
      "  2%|▏         | 54/2499 [01:37<1:11:51,  1.76s/it]"
     ]
    },
    {
     "name": "stdout",
     "output_type": "stream",
     "text": [
      "'validation loss is 1.046522182226181 '\n",
      "'validation accuracy is 0.8206054687500002 '\n",
      "'Epoch: 55'\n",
      "'training loss is 0.06463247063485059 '\n",
      "'training accuracy is 0.9846590909090908 '\n",
      "'Epoch: 55'\n"
     ]
    },
    {
     "name": "stderr",
     "output_type": "stream",
     "text": [
      "\r",
      "  2%|▏         | 55/2499 [01:39<1:12:28,  1.78s/it]"
     ]
    },
    {
     "name": "stdout",
     "output_type": "stream",
     "text": [
      "'validation loss is 1.0479714214801787 '\n",
      "'validation accuracy is 0.8200195312500002 '\n",
      "'Epoch: 56'\n",
      "'training loss is 0.06465003165331754 '\n",
      "'training accuracy is 0.9846590909090908 '\n",
      "'Epoch: 56'\n"
     ]
    },
    {
     "name": "stderr",
     "output_type": "stream",
     "text": [
      "\r",
      "  2%|▏         | 56/2499 [01:40<1:13:29,  1.80s/it]"
     ]
    },
    {
     "name": "stdout",
     "output_type": "stream",
     "text": [
      "'validation loss is 1.0564157396554947 '\n",
      "'validation accuracy is 0.8191406250000002 '\n",
      "'Epoch: 57'\n",
      "'training loss is 0.06445416401733052 '\n",
      "'training accuracy is 0.984659090909091 '\n",
      "'Epoch: 57'\n"
     ]
    },
    {
     "name": "stderr",
     "output_type": "stream",
     "text": [
      "\r",
      "  2%|▏         | 57/2499 [01:42<1:12:28,  1.78s/it]"
     ]
    },
    {
     "name": "stdout",
     "output_type": "stream",
     "text": [
      "'validation loss is 1.0567733883857726 '\n",
      "'validation accuracy is 0.8191406250000002 '\n",
      "'Epoch: 58'\n",
      "'training loss is 0.06449552489952608 '\n",
      "'training accuracy is 0.984659090909091 '\n",
      "'Epoch: 58'\n"
     ]
    },
    {
     "name": "stderr",
     "output_type": "stream",
     "text": [
      "\r",
      "  2%|▏         | 58/2499 [01:44<1:11:58,  1.77s/it]"
     ]
    },
    {
     "name": "stdout",
     "output_type": "stream",
     "text": [
      "'validation loss is 1.0566951736807824 '\n",
      "'validation accuracy is 0.8191406250000002 '\n",
      "'Epoch: 59'\n",
      "'training loss is 0.06469412655992941 '\n",
      "'training accuracy is 0.984659090909091 '\n",
      "'Epoch: 59'\n"
     ]
    },
    {
     "name": "stderr",
     "output_type": "stream",
     "text": [
      "\r",
      "  2%|▏         | 59/2499 [01:46<1:12:39,  1.79s/it]"
     ]
    },
    {
     "name": "stdout",
     "output_type": "stream",
     "text": [
      "'validation loss is 1.0507318183779717 '\n",
      "'validation accuracy is 0.8200195312500002 '\n",
      "'Epoch: 60'\n",
      "'training loss is 0.06462771818041801 '\n",
      "'training accuracy is 0.984659090909091 '\n",
      "'Epoch: 60'\n"
     ]
    },
    {
     "name": "stderr",
     "output_type": "stream",
     "text": [
      "\r",
      "  2%|▏         | 60/2499 [01:48<1:12:58,  1.80s/it]"
     ]
    },
    {
     "name": "stdout",
     "output_type": "stream",
     "text": [
      "'validation loss is 1.0478457450866698 '\n",
      "'validation accuracy is 0.8203125000000002 '\n",
      "'Epoch: 61'\n",
      "'training loss is 0.0645318166776137 '\n",
      "'training accuracy is 0.984659090909091 '\n",
      "'Epoch: 61'\n"
     ]
    },
    {
     "name": "stderr",
     "output_type": "stream",
     "text": [
      "\r",
      "  2%|▏         | 61/2499 [01:49<1:13:36,  1.81s/it]"
     ]
    },
    {
     "name": "stdout",
     "output_type": "stream",
     "text": [
      "'validation loss is 1.0532567590475082 '\n",
      "'validation accuracy is 0.8191406250000002 '\n",
      "'Epoch: 62'\n",
      "'training loss is 0.06445277854800224 '\n",
      "'training accuracy is 0.984659090909091 '\n",
      "'Epoch: 62'\n"
     ]
    },
    {
     "name": "stderr",
     "output_type": "stream",
     "text": [
      "\r",
      "  2%|▏         | 62/2499 [01:51<1:12:51,  1.79s/it]"
     ]
    },
    {
     "name": "stdout",
     "output_type": "stream",
     "text": [
      "'validation loss is 1.0554068431258201 '\n",
      "'validation accuracy is 0.8191406250000004 '\n",
      "'Epoch: 63'\n",
      "'training loss is 0.06462397223169153 '\n",
      "'training accuracy is 0.984659090909091 '\n",
      "'Epoch: 63'\n"
     ]
    },
    {
     "name": "stderr",
     "output_type": "stream",
     "text": [
      "\r",
      "  3%|▎         | 63/2499 [01:53<1:12:58,  1.80s/it]"
     ]
    },
    {
     "name": "stdout",
     "output_type": "stream",
     "text": [
      "'validation loss is 1.0530487924814225 '\n",
      "'validation accuracy is 0.8197265625000002 '\n",
      "'Epoch: 64'\n",
      "'training loss is 0.06434252553365448 '\n",
      "'training accuracy is 0.9846590909090908 '\n",
      "'Epoch: 64'\n"
     ]
    },
    {
     "name": "stderr",
     "output_type": "stream",
     "text": [
      "\r",
      "  3%|▎         | 64/2499 [01:55<1:12:32,  1.79s/it]"
     ]
    },
    {
     "name": "stdout",
     "output_type": "stream",
     "text": [
      "'validation loss is 1.0578241512179374 '\n",
      "'validation accuracy is 0.8191406250000002 '\n",
      "'Epoch: 65'\n",
      "'training loss is 0.06434242495081642 '\n",
      "'training accuracy is 0.9846590909090911 '\n",
      "'Epoch: 65'\n"
     ]
    },
    {
     "name": "stderr",
     "output_type": "stream",
     "text": [
      "\r",
      "  3%|▎         | 65/2499 [01:57<1:13:21,  1.81s/it]"
     ]
    },
    {
     "name": "stdout",
     "output_type": "stream",
     "text": [
      "'validation loss is 1.0541295647621154 '\n",
      "'validation accuracy is 0.8191406250000002 '\n",
      "'Epoch: 66'\n",
      "'training loss is 0.06444279443133961 '\n",
      "'training accuracy is 0.9846590909090908 '\n",
      "'Epoch: 66'\n"
     ]
    },
    {
     "name": "stderr",
     "output_type": "stream",
     "text": [
      "\r",
      "  3%|▎         | 66/2499 [01:58<1:13:31,  1.81s/it]"
     ]
    },
    {
     "name": "stdout",
     "output_type": "stream",
     "text": [
      "'validation loss is 1.0548135176301003 '\n",
      "'validation accuracy is 0.8194335937500004 '\n",
      "'Epoch: 67'\n",
      "'training loss is 0.0646915158087557 '\n",
      "'training accuracy is 0.984659090909091 '\n",
      "'Epoch: 67'\n"
     ]
    },
    {
     "name": "stderr",
     "output_type": "stream",
     "text": [
      "\r",
      "  3%|▎         | 67/2499 [02:00<1:13:39,  1.82s/it]"
     ]
    },
    {
     "name": "stdout",
     "output_type": "stream",
     "text": [
      "'validation loss is 1.0498136326670646 '\n",
      "'validation accuracy is 0.8203125 '\n",
      "'Epoch: 68'\n",
      "'training loss is 0.06464612754908475 '\n",
      "'training accuracy is 0.984659090909091 '\n",
      "'Epoch: 68'\n"
     ]
    },
    {
     "name": "stderr",
     "output_type": "stream",
     "text": [
      "\r",
      "  3%|▎         | 68/2499 [02:02<1:13:25,  1.81s/it]"
     ]
    },
    {
     "name": "stdout",
     "output_type": "stream",
     "text": [
      "'validation loss is 1.057083387672901 '\n",
      "'validation accuracy is 0.8194335937500001 '\n",
      "'Epoch: 69'\n",
      "'training loss is 0.06414222006093372 '\n",
      "'training accuracy is 0.984659090909091 '\n",
      "'Epoch: 69'\n"
     ]
    },
    {
     "name": "stderr",
     "output_type": "stream",
     "text": [
      "\r",
      "  3%|▎         | 69/2499 [02:04<1:13:53,  1.82s/it]"
     ]
    },
    {
     "name": "stdout",
     "output_type": "stream",
     "text": [
      "'validation loss is 1.058447152376175 '\n",
      "'validation accuracy is 0.8194335937500001 '\n",
      "'Epoch: 70'\n",
      "'training loss is 0.06430535357106816 '\n",
      "'training accuracy is 0.984659090909091 '\n",
      "'Epoch: 70'\n"
     ]
    },
    {
     "name": "stderr",
     "output_type": "stream",
     "text": [
      "\r",
      "  3%|▎         | 70/2499 [02:06<1:11:44,  1.77s/it]"
     ]
    },
    {
     "name": "stdout",
     "output_type": "stream",
     "text": [
      "'validation loss is 1.0620106607675552 '\n",
      "'validation accuracy is 0.8191406250000004 '\n",
      "'Epoch: 71'\n",
      "'training loss is 0.06411081247709015 '\n",
      "'training accuracy is 0.984659090909091 '\n",
      "'Epoch: 71'\n"
     ]
    },
    {
     "name": "stderr",
     "output_type": "stream",
     "text": [
      "\r",
      "  3%|▎         | 71/2499 [02:07<1:11:38,  1.77s/it]"
     ]
    },
    {
     "name": "stdout",
     "output_type": "stream",
     "text": [
      "'validation loss is 1.0565680608153343 '\n",
      "'validation accuracy is 0.8200195312500002 '\n",
      "'Epoch: 72'\n",
      "'training loss is 0.06422033905982971 '\n",
      "'training accuracy is 0.984659090909091 '\n",
      "'Epoch: 72'\n"
     ]
    },
    {
     "name": "stderr",
     "output_type": "stream",
     "text": [
      "\r",
      "  3%|▎         | 72/2499 [02:09<1:12:45,  1.80s/it]"
     ]
    },
    {
     "name": "stdout",
     "output_type": "stream",
     "text": [
      "'validation loss is 1.0608854755759238 '\n",
      "'validation accuracy is 0.8191406250000002 '\n",
      "'Epoch: 73'\n",
      "'training loss is 0.06430350481109186 '\n",
      "'training accuracy is 0.984659090909091 '\n",
      "'Epoch: 73'\n"
     ]
    },
    {
     "name": "stderr",
     "output_type": "stream",
     "text": [
      "\r",
      "  3%|▎         | 73/2499 [02:11<1:11:55,  1.78s/it]"
     ]
    },
    {
     "name": "stdout",
     "output_type": "stream",
     "text": [
      "'validation loss is 1.0605481714010239 '\n",
      "'validation accuracy is 0.8194335937500001 '\n",
      "'Epoch: 74'\n",
      "'training loss is 0.06459486349062486 '\n",
      "'training accuracy is 0.984659090909091 '\n",
      "'Epoch: 74'\n"
     ]
    },
    {
     "name": "stderr",
     "output_type": "stream",
     "text": [
      "\r",
      "  3%|▎         | 74/2499 [02:13<1:12:05,  1.78s/it]"
     ]
    },
    {
     "name": "stdout",
     "output_type": "stream",
     "text": [
      "'validation loss is 1.0562676295638085 '\n",
      "'validation accuracy is 0.8194335937500001 '\n",
      "'Epoch: 75'\n",
      "'training loss is 0.06437094408002766 '\n",
      "'training accuracy is 0.9846590909090908 '\n",
      "'Epoch: 75'\n"
     ]
    },
    {
     "name": "stderr",
     "output_type": "stream",
     "text": [
      "\r",
      "  3%|▎         | 75/2499 [02:14<1:11:17,  1.76s/it]"
     ]
    },
    {
     "name": "stdout",
     "output_type": "stream",
     "text": [
      "'validation loss is 1.0615157663822175 '\n",
      "'validation accuracy is 0.8191406250000002 '\n",
      "'Epoch: 76'\n",
      "'training loss is 0.06434287774291905 '\n",
      "'training accuracy is 0.984659090909091 '\n",
      "'Epoch: 76'\n"
     ]
    },
    {
     "name": "stderr",
     "output_type": "stream",
     "text": [
      "\r",
      "  3%|▎         | 76/2499 [02:16<1:11:48,  1.78s/it]"
     ]
    },
    {
     "name": "stdout",
     "output_type": "stream",
     "text": [
      "'validation loss is 1.055602078139782 '\n",
      "'validation accuracy is 0.8200195312500002 '\n",
      "'Epoch: 77'\n",
      "'training loss is 0.06443263319405643 '\n",
      "'training accuracy is 0.984659090909091 '\n",
      "'Epoch: 77'\n"
     ]
    },
    {
     "name": "stderr",
     "output_type": "stream",
     "text": [
      "\r",
      "  3%|▎         | 77/2499 [02:18<1:12:24,  1.79s/it]"
     ]
    },
    {
     "name": "stdout",
     "output_type": "stream",
     "text": [
      "'validation loss is 1.0659678399562835 '\n",
      "'validation accuracy is 0.8197265625 '\n",
      "'Epoch: 78'\n",
      "'training loss is 0.06440622461113063 '\n",
      "'training accuracy is 0.984659090909091 '\n",
      "'Epoch: 78'\n"
     ]
    },
    {
     "name": "stderr",
     "output_type": "stream",
     "text": [
      "\r",
      "  3%|▎         | 78/2499 [02:20<1:12:47,  1.80s/it]"
     ]
    },
    {
     "name": "stdout",
     "output_type": "stream",
     "text": [
      "'validation loss is 1.0650783360004425 '\n",
      "'validation accuracy is 0.8191406250000002 '\n",
      "'Epoch: 79'\n",
      "'training loss is 0.06424242969263684 '\n",
      "'training accuracy is 0.984659090909091 '\n",
      "'Epoch: 79'\n"
     ]
    },
    {
     "name": "stderr",
     "output_type": "stream",
     "text": [
      "\r",
      "  3%|▎         | 79/2499 [02:22<1:11:32,  1.77s/it]"
     ]
    },
    {
     "name": "stdout",
     "output_type": "stream",
     "text": [
      "'validation loss is 1.05791467577219 '\n",
      "'validation accuracy is 0.8197265625000002 '\n",
      "'Epoch: 80'\n",
      "'training loss is 0.06412300230427222 '\n",
      "'training accuracy is 0.984659090909091 '\n",
      "'Epoch: 80'\n"
     ]
    },
    {
     "name": "stderr",
     "output_type": "stream",
     "text": [
      "\r",
      "  3%|▎         | 80/2499 [02:23<1:12:46,  1.81s/it]"
     ]
    },
    {
     "name": "stdout",
     "output_type": "stream",
     "text": [
      "'validation loss is 1.0588355645537377 '\n",
      "'validation accuracy is 0.8200195312500002 '\n",
      "'Epoch: 81'\n",
      "'training loss is 0.06425095654346726 '\n",
      "'training accuracy is 0.984659090909091 '\n",
      "'Epoch: 81'\n"
     ]
    },
    {
     "name": "stderr",
     "output_type": "stream",
     "text": [
      "\r",
      "  3%|▎         | 81/2499 [02:25<1:11:45,  1.78s/it]"
     ]
    },
    {
     "name": "stdout",
     "output_type": "stream",
     "text": [
      "'validation loss is 1.0594989776611328 '\n",
      "'validation accuracy is 0.8197265625000002 '\n",
      "'Epoch: 82'\n",
      "'training loss is 0.06430246850306337 '\n",
      "'training accuracy is 0.9846590909090908 '\n",
      "'Epoch: 82'\n"
     ]
    },
    {
     "name": "stderr",
     "output_type": "stream",
     "text": [
      "\r",
      "  3%|▎         | 82/2499 [02:27<1:13:00,  1.81s/it]"
     ]
    },
    {
     "name": "stdout",
     "output_type": "stream",
     "text": [
      "'validation loss is 1.0685064941644669 '\n",
      "'validation accuracy is 0.8191406250000004 '\n",
      "'Epoch: 83'\n",
      "'training loss is 0.0642212839289145 '\n",
      "'training accuracy is 0.984659090909091 '\n",
      "'Epoch: 83'\n"
     ]
    },
    {
     "name": "stderr",
     "output_type": "stream",
     "text": [
      "\r",
      "  3%|▎         | 83/2499 [02:29<1:13:34,  1.83s/it]"
     ]
    },
    {
     "name": "stdout",
     "output_type": "stream",
     "text": [
      "'validation loss is 1.0640580609440804 '\n",
      "'validation accuracy is 0.8194335937500004 '\n",
      "'Epoch: 84'\n",
      "'training loss is 0.06427730416709726 '\n",
      "'training accuracy is 0.9846590909090908 '\n",
      "'Epoch: 84'\n"
     ]
    },
    {
     "name": "stderr",
     "output_type": "stream",
     "text": [
      "\r",
      "  3%|▎         | 84/2499 [02:31<1:13:16,  1.82s/it]"
     ]
    },
    {
     "name": "stdout",
     "output_type": "stream",
     "text": [
      "'validation loss is 1.0631721541285515 '\n",
      "'validation accuracy is 0.8197265625 '\n",
      "'Epoch: 85'\n",
      "'training loss is 0.06424797224727544 '\n",
      "'training accuracy is 0.9846590909090908 '\n",
      "'Epoch: 85'\n"
     ]
    },
    {
     "name": "stderr",
     "output_type": "stream",
     "text": [
      "\r",
      "  3%|▎         | 85/2499 [02:33<1:13:48,  1.83s/it]"
     ]
    },
    {
     "name": "stdout",
     "output_type": "stream",
     "text": [
      "'validation loss is 1.0619984567165375 '\n",
      "'validation accuracy is 0.8197265625000002 '\n",
      "'Epoch: 86'\n",
      "'training loss is 0.06424611603671854 '\n",
      "'training accuracy is 0.9846590909090908 '\n",
      "'Epoch: 86'\n"
     ]
    },
    {
     "name": "stderr",
     "output_type": "stream",
     "text": [
      "\r",
      "  3%|▎         | 86/2499 [02:34<1:13:52,  1.84s/it]"
     ]
    },
    {
     "name": "stdout",
     "output_type": "stream",
     "text": [
      "'validation loss is 1.065436214208603 '\n",
      "'validation accuracy is 0.8191406250000002 '\n",
      "'Epoch: 87'\n",
      "'training loss is 0.06431067768823016 '\n",
      "'training accuracy is 0.9846590909090908 '\n",
      "'Epoch: 87'\n"
     ]
    },
    {
     "name": "stderr",
     "output_type": "stream",
     "text": [
      "\r",
      "  3%|▎         | 87/2499 [02:36<1:12:53,  1.81s/it]"
     ]
    },
    {
     "name": "stdout",
     "output_type": "stream",
     "text": [
      "'validation loss is 1.0656309306621552 '\n",
      "'validation accuracy is 0.8194335937500004 '\n",
      "'Epoch: 88'\n",
      "'training loss is 0.06436190923506563 '\n",
      "'training accuracy is 0.984659090909091 '\n",
      "'Epoch: 88'\n"
     ]
    },
    {
     "name": "stderr",
     "output_type": "stream",
     "text": [
      "\r",
      "  4%|▎         | 88/2499 [02:38<1:13:22,  1.83s/it]"
     ]
    },
    {
     "name": "stdout",
     "output_type": "stream",
     "text": [
      "'validation loss is 1.0657475411891937 '\n",
      "'validation accuracy is 0.8191406250000002 '\n",
      "'Epoch: 89'\n",
      "'training loss is 0.06436968831853433 '\n",
      "'training accuracy is 0.984659090909091 '\n",
      "'Epoch: 89'\n"
     ]
    },
    {
     "name": "stderr",
     "output_type": "stream",
     "text": [
      "\r",
      "  4%|▎         | 89/2499 [02:40<1:13:27,  1.83s/it]"
     ]
    },
    {
     "name": "stdout",
     "output_type": "stream",
     "text": [
      "'validation loss is 1.0533554613590241 '\n",
      "'validation accuracy is 0.8203125 '\n",
      "'Epoch: 90'\n",
      "'training loss is 0.06438372826034372 '\n",
      "'training accuracy is 0.984659090909091 '\n",
      "'Epoch: 90'\n"
     ]
    },
    {
     "name": "stderr",
     "output_type": "stream",
     "text": [
      "\r",
      "  4%|▎         | 90/2499 [02:42<1:12:36,  1.81s/it]"
     ]
    },
    {
     "name": "stdout",
     "output_type": "stream",
     "text": [
      "'validation loss is 1.0581849977374076 '\n",
      "'validation accuracy is 0.8203125000000003 '\n",
      "'Epoch: 91'\n",
      "'training loss is 0.06416542455554008 '\n",
      "'training accuracy is 0.984659090909091 '\n",
      "'Epoch: 91'\n"
     ]
    },
    {
     "name": "stderr",
     "output_type": "stream",
     "text": [
      "\r",
      "  4%|▎         | 91/2499 [02:43<1:11:41,  1.79s/it]"
     ]
    },
    {
     "name": "stdout",
     "output_type": "stream",
     "text": [
      "'validation loss is 1.065906023979187 '\n",
      "'validation accuracy is 0.8194335937500001 '\n",
      "'Epoch: 92'\n",
      "'training loss is 0.06427371366457506 '\n",
      "'training accuracy is 0.984659090909091 '\n",
      "'Epoch: 92'\n"
     ]
    },
    {
     "name": "stderr",
     "output_type": "stream",
     "text": [
      "\r",
      "  4%|▎         | 92/2499 [02:45<1:12:51,  1.82s/it]"
     ]
    },
    {
     "name": "stdout",
     "output_type": "stream",
     "text": [
      "'validation loss is 1.0639376372098923 '\n",
      "'validation accuracy is 0.8197265625000002 '\n",
      "'Epoch: 93'\n",
      "'training loss is 0.06414743851531636 '\n",
      "'training accuracy is 0.9846590909090908 '\n",
      "'Epoch: 93'\n"
     ]
    },
    {
     "name": "stderr",
     "output_type": "stream",
     "text": [
      "\r",
      "  4%|▎         | 93/2499 [02:47<1:12:39,  1.81s/it]"
     ]
    },
    {
     "name": "stdout",
     "output_type": "stream",
     "text": [
      "'validation loss is 1.070160248875618 '\n",
      "'validation accuracy is 0.8191406250000002 '\n",
      "'Epoch: 94'\n",
      "'training loss is 0.06380201063372871 '\n",
      "'training accuracy is 0.9846590909090911 '\n",
      "'Epoch: 94'\n"
     ]
    },
    {
     "name": "stderr",
     "output_type": "stream",
     "text": [
      "\r",
      "  4%|▍         | 94/2499 [02:49<1:14:09,  1.85s/it]"
     ]
    },
    {
     "name": "stdout",
     "output_type": "stream",
     "text": [
      "'validation loss is 1.0691708743572235 '\n",
      "'validation accuracy is 0.8197265625000002 '\n",
      "'Epoch: 95'\n",
      "'training loss is 0.06416563520377333 '\n",
      "'training accuracy is 0.984659090909091 '\n",
      "'Epoch: 95'\n"
     ]
    },
    {
     "name": "stderr",
     "output_type": "stream",
     "text": [
      "\r",
      "  4%|▍         | 95/2499 [02:51<1:11:54,  1.79s/it]"
     ]
    },
    {
     "name": "stdout",
     "output_type": "stream",
     "text": [
      "'validation loss is 1.0592243030667305 '\n",
      "'validation accuracy is 0.8203125000000002 '\n",
      "'Epoch: 96'\n",
      "'training loss is 0.06414022296667099 '\n",
      "'training accuracy is 0.984659090909091 '\n",
      "'Epoch: 96'\n"
     ]
    },
    {
     "name": "stderr",
     "output_type": "stream",
     "text": [
      "\r",
      "  4%|▍         | 96/2499 [02:53<1:12:37,  1.81s/it]"
     ]
    },
    {
     "name": "stdout",
     "output_type": "stream",
     "text": [
      "'validation loss is 1.0645303100347518 '\n",
      "'validation accuracy is 0.8197265625000002 '\n",
      "'Epoch: 97'\n",
      "'training loss is 0.06425120173530145 '\n",
      "'training accuracy is 0.984659090909091 '\n",
      "'Epoch: 97'\n"
     ]
    },
    {
     "name": "stderr",
     "output_type": "stream",
     "text": [
      "\r",
      "  4%|▍         | 97/2499 [02:55<1:14:33,  1.86s/it]"
     ]
    },
    {
     "name": "stdout",
     "output_type": "stream",
     "text": [
      "'validation loss is 1.0621673926711082 '\n",
      "'validation accuracy is 0.8200195312500002 '\n",
      "'Epoch: 98'\n",
      "'training loss is 0.0643994425508109 '\n",
      "'training accuracy is 0.984659090909091 '\n",
      "'Epoch: 98'\n"
     ]
    },
    {
     "name": "stderr",
     "output_type": "stream",
     "text": [
      "\r",
      "  4%|▍         | 98/2499 [02:56<1:13:27,  1.84s/it]"
     ]
    },
    {
     "name": "stdout",
     "output_type": "stream",
     "text": [
      "'validation loss is 1.0644472062587738 '\n",
      "'validation accuracy is 0.8197265625 '\n",
      "'Epoch: 99'\n",
      "'training loss is 0.0642550875517455 '\n",
      "'training accuracy is 0.984659090909091 '\n",
      "'Epoch: 99'\n"
     ]
    },
    {
     "name": "stderr",
     "output_type": "stream",
     "text": [
      "\r",
      "  4%|▍         | 99/2499 [02:58<1:13:40,  1.84s/it]"
     ]
    },
    {
     "name": "stdout",
     "output_type": "stream",
     "text": [
      "'validation loss is 1.0672728359699248 '\n",
      "'validation accuracy is 0.8194335937500001 '\n",
      "'Epoch: 100'\n",
      "'training loss is 0.06447735902937976 '\n",
      "'training accuracy is 0.9846590909090908 '\n",
      "'Epoch: 100'\n"
     ]
    },
    {
     "name": "stderr",
     "output_type": "stream",
     "text": [
      "\r",
      "  4%|▍         | 100/2499 [03:00<1:11:33,  1.79s/it]"
     ]
    },
    {
     "name": "stdout",
     "output_type": "stream",
     "text": [
      "'validation loss is 1.0642272025346755 '\n",
      "'validation accuracy is 0.8200195312500002 '\n",
      "'Epoch: 101'\n",
      "'training loss is 0.0643916790458289 '\n",
      "'training accuracy is 0.9846590909090908 '\n",
      "'Epoch: 101'\n"
     ]
    },
    {
     "name": "stderr",
     "output_type": "stream",
     "text": [
      "\r",
      "  4%|▍         | 101/2499 [03:02<1:11:27,  1.79s/it]"
     ]
    },
    {
     "name": "stdout",
     "output_type": "stream",
     "text": [
      "'validation loss is 1.067851722240448 '\n",
      "'validation accuracy is 0.8191406250000004 '\n",
      "'Epoch: 102'\n",
      "'training loss is 0.06431010433218697 '\n",
      "'training accuracy is 0.984659090909091 '\n",
      "'Epoch: 102'\n"
     ]
    },
    {
     "name": "stderr",
     "output_type": "stream",
     "text": [
      "\r",
      "  4%|▍         | 102/2499 [03:03<1:11:04,  1.78s/it]"
     ]
    },
    {
     "name": "stdout",
     "output_type": "stream",
     "text": [
      "'validation loss is 1.0622376635670663 '\n",
      "'validation accuracy is 0.8197265625000002 '\n",
      "'Epoch: 103'\n",
      "'training loss is 0.0644253407689658 '\n",
      "'training accuracy is 0.984659090909091 '\n",
      "'Epoch: 103'\n"
     ]
    },
    {
     "name": "stderr",
     "output_type": "stream",
     "text": [
      "\r",
      "  4%|▍         | 103/2499 [03:05<1:12:45,  1.82s/it]"
     ]
    },
    {
     "name": "stdout",
     "output_type": "stream",
     "text": [
      "'validation loss is 1.0651150315999984 '\n",
      "'validation accuracy is 0.8197265625 '\n",
      "'Epoch: 104'\n",
      "'training loss is 0.06419775601137769 '\n",
      "'training accuracy is 0.984659090909091 '\n",
      "'Epoch: 104'\n"
     ]
    },
    {
     "name": "stderr",
     "output_type": "stream",
     "text": [
      "\r",
      "  4%|▍         | 104/2499 [03:07<1:12:50,  1.82s/it]"
     ]
    },
    {
     "name": "stdout",
     "output_type": "stream",
     "text": [
      "'validation loss is 1.0689596682786942 '\n",
      "'validation accuracy is 0.8194335937500004 '\n",
      "'Epoch: 105'\n",
      "'training loss is 0.06426098942756653 '\n",
      "'training accuracy is 0.9846590909090908 '\n",
      "'Epoch: 105'\n"
     ]
    },
    {
     "name": "stderr",
     "output_type": "stream",
     "text": [
      "\r",
      "  4%|▍         | 105/2499 [03:09<1:12:11,  1.81s/it]"
     ]
    },
    {
     "name": "stdout",
     "output_type": "stream",
     "text": [
      "'validation loss is 1.0658336147665977 '\n",
      "'validation accuracy is 0.8197265625 '\n",
      "'Epoch: 106'\n",
      "'training loss is 0.06431794742291624 '\n",
      "'training accuracy is 0.984659090909091 '\n",
      "'Epoch: 106'\n"
     ]
    },
    {
     "name": "stderr",
     "output_type": "stream",
     "text": [
      "\r",
      "  4%|▍         | 106/2499 [03:11<1:13:06,  1.83s/it]"
     ]
    },
    {
     "name": "stdout",
     "output_type": "stream",
     "text": [
      "'validation loss is 1.0635140061378479 '\n",
      "'validation accuracy is 0.8197265625000002 '\n",
      "'Epoch: 107'\n",
      "'training loss is 0.06430277634750713 '\n",
      "'training accuracy is 0.984659090909091 '\n",
      "'Epoch: 107'\n"
     ]
    },
    {
     "name": "stderr",
     "output_type": "stream",
     "text": [
      "\r",
      "  4%|▍         | 107/2499 [03:13<1:12:34,  1.82s/it]"
     ]
    },
    {
     "name": "stdout",
     "output_type": "stream",
     "text": [
      "'validation loss is 1.066224604845047 '\n",
      "'validation accuracy is 0.81943359375 '\n",
      "'Epoch: 108'\n",
      "'training loss is 0.06433534960855138 '\n",
      "'training accuracy is 0.9846590909090908 '\n",
      "'Epoch: 108'\n"
     ]
    },
    {
     "name": "stderr",
     "output_type": "stream",
     "text": [
      "\r",
      "  4%|▍         | 108/2499 [03:14<1:12:42,  1.82s/it]"
     ]
    },
    {
     "name": "stdout",
     "output_type": "stream",
     "text": [
      "'validation loss is 1.0594946905970573 '\n",
      "'validation accuracy is 0.8200195312500002 '\n",
      "'Epoch: 109'\n",
      "'training loss is 0.06418454884128137 '\n",
      "'training accuracy is 0.9846590909090908 '\n",
      "'Epoch: 109'\n"
     ]
    },
    {
     "name": "stderr",
     "output_type": "stream",
     "text": [
      "\r",
      "  4%|▍         | 109/2499 [03:16<1:11:55,  1.81s/it]"
     ]
    },
    {
     "name": "stdout",
     "output_type": "stream",
     "text": [
      "'validation loss is 1.0654559880495071 '\n",
      "'validation accuracy is 0.8197265625000002 '\n",
      "'Epoch: 110'\n",
      "'training loss is 0.06408459693193436 '\n",
      "'training accuracy is 0.9846590909090908 '\n",
      "'Epoch: 110'\n"
     ]
    },
    {
     "name": "stderr",
     "output_type": "stream",
     "text": [
      "\r",
      "  4%|▍         | 110/2499 [03:18<1:11:21,  1.79s/it]"
     ]
    },
    {
     "name": "stdout",
     "output_type": "stream",
     "text": [
      "'validation loss is 1.0659048438072205 '\n",
      "'validation accuracy is 0.81943359375 '\n",
      "'Epoch: 111'\n",
      "'training loss is 0.06424035368995233 '\n",
      "'training accuracy is 0.984659090909091 '\n",
      "'Epoch: 111'\n"
     ]
    },
    {
     "name": "stderr",
     "output_type": "stream",
     "text": [
      "\r",
      "  4%|▍         | 111/2499 [03:20<1:11:16,  1.79s/it]"
     ]
    },
    {
     "name": "stdout",
     "output_type": "stream",
     "text": [
      "'validation loss is 1.0692836314439773 '\n",
      "'validation accuracy is 0.8191406250000002 '\n",
      "'Epoch: 112'\n",
      "'training loss is 0.0641568164256486 '\n",
      "'training accuracy is 0.984659090909091 '\n",
      "'Epoch: 112'\n"
     ]
    },
    {
     "name": "stderr",
     "output_type": "stream",
     "text": [
      "\r",
      "  4%|▍         | 112/2499 [03:21<1:10:48,  1.78s/it]"
     ]
    },
    {
     "name": "stdout",
     "output_type": "stream",
     "text": [
      "'validation loss is 1.0698236033320427 '\n",
      "'validation accuracy is 0.8191406250000002 '\n",
      "'Epoch: 113'\n",
      "'training loss is 0.064018922095949 '\n",
      "'training accuracy is 0.984659090909091 '\n",
      "'Epoch: 113'\n"
     ]
    },
    {
     "name": "stderr",
     "output_type": "stream",
     "text": [
      "\r",
      "  5%|▍         | 113/2499 [03:23<1:10:43,  1.78s/it]"
     ]
    },
    {
     "name": "stdout",
     "output_type": "stream",
     "text": [
      "'validation loss is 1.0692233860492706 '\n",
      "'validation accuracy is 0.8197265625000002 '\n",
      "'Epoch: 114'\n",
      "'training loss is 0.06397120959379456 '\n",
      "'training accuracy is 0.984659090909091 '\n",
      "'Epoch: 114'\n"
     ]
    },
    {
     "name": "stderr",
     "output_type": "stream",
     "text": [
      "\r",
      "  5%|▍         | 114/2499 [03:25<1:10:43,  1.78s/it]"
     ]
    },
    {
     "name": "stdout",
     "output_type": "stream",
     "text": [
      "'validation loss is 1.068634256720543 '\n",
      "'validation accuracy is 0.8194335937500004 '\n",
      "'Epoch: 115'\n",
      "'training loss is 0.06437973576513203 '\n",
      "'training accuracy is 0.984659090909091 '\n",
      "'Epoch: 115'\n"
     ]
    },
    {
     "name": "stderr",
     "output_type": "stream",
     "text": [
      "\r",
      "  5%|▍         | 115/2499 [03:27<1:09:46,  1.76s/it]"
     ]
    },
    {
     "name": "stdout",
     "output_type": "stream",
     "text": [
      "'validation loss is 1.0694906562566757 '\n",
      "'validation accuracy is 0.8197265625000002 '\n",
      "'Epoch: 116'\n",
      "'training loss is 0.0641889175908132 '\n",
      "'training accuracy is 0.9846590909090911 '\n",
      "'Epoch: 116'\n"
     ]
    },
    {
     "name": "stderr",
     "output_type": "stream",
     "text": [
      "\r",
      "  5%|▍         | 116/2499 [03:29<1:10:19,  1.77s/it]"
     ]
    },
    {
     "name": "stdout",
     "output_type": "stream",
     "text": [
      "'validation loss is 1.0723892986774444 '\n",
      "'validation accuracy is 0.8194335937500001 '\n",
      "'Epoch: 117'\n",
      "'training loss is 0.0640286545861851 '\n",
      "'training accuracy is 0.984659090909091 '\n",
      "'Epoch: 117'\n"
     ]
    },
    {
     "name": "stderr",
     "output_type": "stream",
     "text": [
      "\r",
      "  5%|▍         | 117/2499 [03:30<1:10:00,  1.76s/it]"
     ]
    },
    {
     "name": "stdout",
     "output_type": "stream",
     "text": [
      "'validation loss is 1.0674734711647034 '\n",
      "'validation accuracy is 0.8194335937500001 '\n",
      "'Epoch: 118'\n",
      "'training loss is 0.06391392309557307 '\n",
      "'training accuracy is 0.9846590909090908 '\n",
      "'Epoch: 118'\n"
     ]
    },
    {
     "name": "stderr",
     "output_type": "stream",
     "text": [
      "\r",
      "  5%|▍         | 118/2499 [03:32<1:10:00,  1.76s/it]"
     ]
    },
    {
     "name": "stdout",
     "output_type": "stream",
     "text": [
      "'validation loss is 1.0684986591339112 '\n",
      "'validation accuracy is 0.81943359375 '\n",
      "'Epoch: 119'\n",
      "'training loss is 0.06418960676951842 '\n",
      "'training accuracy is 0.9846590909090911 '\n",
      "'Epoch: 119'\n"
     ]
    },
    {
     "name": "stderr",
     "output_type": "stream",
     "text": [
      "\r",
      "  5%|▍         | 119/2499 [03:34<1:10:20,  1.77s/it]"
     ]
    },
    {
     "name": "stdout",
     "output_type": "stream",
     "text": [
      "'validation loss is 1.0669753521680831 '\n",
      "'validation accuracy is 0.8197265625000003 '\n",
      "'Epoch: 120'\n",
      "'training loss is 0.06411833891814406 '\n",
      "'training accuracy is 0.9846590909090911 '\n",
      "'Epoch: 120'\n"
     ]
    },
    {
     "name": "stderr",
     "output_type": "stream",
     "text": [
      "\r",
      "  5%|▍         | 120/2499 [03:36<1:10:29,  1.78s/it]"
     ]
    },
    {
     "name": "stdout",
     "output_type": "stream",
     "text": [
      "'validation loss is 1.0674209877848626 '\n",
      "'validation accuracy is 0.8203125000000002 '\n",
      "'Epoch: 121'\n",
      "'training loss is 0.06385682353919203 '\n",
      "'training accuracy is 0.984659090909091 '\n",
      "'Epoch: 121'\n"
     ]
    },
    {
     "name": "stderr",
     "output_type": "stream",
     "text": [
      "\r",
      "  5%|▍         | 121/2499 [03:37<1:10:52,  1.79s/it]"
     ]
    },
    {
     "name": "stdout",
     "output_type": "stream",
     "text": [
      "'validation loss is 1.0706497579813004 '\n",
      "'validation accuracy is 0.8194335937500001 '\n",
      "'Epoch: 122'\n",
      "'training loss is 0.06430068375034766 '\n",
      "'training accuracy is 0.984659090909091 '\n",
      "'Epoch: 122'\n"
     ]
    },
    {
     "name": "stderr",
     "output_type": "stream",
     "text": [
      "\r",
      "  5%|▍         | 122/2499 [03:39<1:10:39,  1.78s/it]"
     ]
    },
    {
     "name": "stdout",
     "output_type": "stream",
     "text": [
      "'validation loss is 1.0698364585638047 '\n",
      "'validation accuracy is 0.8194335937500001 '\n",
      "'Epoch: 123'\n",
      "'training loss is 0.06400951607660814 '\n",
      "'training accuracy is 0.984659090909091 '\n",
      "'Epoch: 123'\n"
     ]
    },
    {
     "name": "stderr",
     "output_type": "stream",
     "text": [
      "\r",
      "  5%|▍         | 123/2499 [03:41<1:11:01,  1.79s/it]"
     ]
    },
    {
     "name": "stdout",
     "output_type": "stream",
     "text": [
      "'validation loss is 1.0633076965808868 '\n",
      "'validation accuracy is 0.8203125000000002 '\n",
      "'Epoch: 124'\n",
      "'training loss is 0.06397945806384087 '\n",
      "'training accuracy is 0.9846590909090908 '\n",
      "'Epoch: 124'\n"
     ]
    },
    {
     "name": "stderr",
     "output_type": "stream",
     "text": [
      "\r",
      "  5%|▍         | 124/2499 [03:43<1:10:28,  1.78s/it]"
     ]
    },
    {
     "name": "stdout",
     "output_type": "stream",
     "text": [
      "'validation loss is 1.0690394043922424 '\n",
      "'validation accuracy is 0.8191406250000002 '\n",
      "'Epoch: 125'\n",
      "'training loss is 0.06408339569514448 '\n",
      "'training accuracy is 0.984659090909091 '\n",
      "'Epoch: 125'\n"
     ]
    },
    {
     "name": "stderr",
     "output_type": "stream",
     "text": [
      "\r",
      "  5%|▌         | 125/2499 [03:45<1:10:20,  1.78s/it]"
     ]
    },
    {
     "name": "stdout",
     "output_type": "stream",
     "text": [
      "'validation loss is 1.0675889655947686 '\n",
      "'validation accuracy is 0.8200195312500002 '\n",
      "'Epoch: 126'\n",
      "'training loss is 0.06414641947908835 '\n",
      "'training accuracy is 0.984659090909091 '\n",
      "'Epoch: 126'\n"
     ]
    },
    {
     "name": "stderr",
     "output_type": "stream",
     "text": [
      "\r",
      "  5%|▌         | 126/2499 [03:46<1:09:48,  1.77s/it]"
     ]
    },
    {
     "name": "stdout",
     "output_type": "stream",
     "text": [
      "'validation loss is 1.0632959589362145 '\n",
      "'validation accuracy is 0.8203125000000002 '\n",
      "'Epoch: 127'\n",
      "'training loss is 0.06415276330980388 '\n",
      "'training accuracy is 0.9846590909090908 '\n",
      "'Epoch: 127'\n"
     ]
    },
    {
     "name": "stderr",
     "output_type": "stream",
     "text": [
      "\r",
      "  5%|▌         | 127/2499 [03:48<1:10:03,  1.77s/it]"
     ]
    },
    {
     "name": "stdout",
     "output_type": "stream",
     "text": [
      "'validation loss is 1.0646914020180702 '\n",
      "'validation accuracy is 0.8200195312500004 '\n",
      "'Epoch: 128'\n",
      "'training loss is 0.06438549337061969 '\n",
      "'training accuracy is 0.984659090909091 '\n",
      "'Epoch: 128'\n"
     ]
    },
    {
     "name": "stderr",
     "output_type": "stream",
     "text": [
      "\r",
      "  5%|▌         | 128/2499 [03:50<1:10:31,  1.78s/it]"
     ]
    },
    {
     "name": "stdout",
     "output_type": "stream",
     "text": [
      "'validation loss is 1.06327985227108 '\n",
      "'validation accuracy is 0.8197265625000003 '\n",
      "'Epoch: 129'\n",
      "'training loss is 0.06381951746615497 '\n",
      "'training accuracy is 0.984659090909091 '\n",
      "'Epoch: 129'\n"
     ]
    },
    {
     "name": "stderr",
     "output_type": "stream",
     "text": [
      "\r",
      "  5%|▌         | 129/2499 [03:52<1:11:01,  1.80s/it]"
     ]
    },
    {
     "name": "stdout",
     "output_type": "stream",
     "text": [
      "'validation loss is 1.0711928814649583 '\n",
      "'validation accuracy is 0.8191406250000002 '\n",
      "'Epoch: 130'\n",
      "'training loss is 0.0640989558940584 '\n",
      "'training accuracy is 0.9846590909090908 '\n",
      "'Epoch: 130'\n"
     ]
    },
    {
     "name": "stderr",
     "output_type": "stream",
     "text": [
      "\r",
      "  5%|▌         | 130/2499 [03:54<1:11:48,  1.82s/it]"
     ]
    },
    {
     "name": "stdout",
     "output_type": "stream",
     "text": [
      "'validation loss is 1.0704745650291443 '\n",
      "'validation accuracy is 0.8194335937500004 '\n",
      "'Epoch: 131'\n",
      "'training loss is 0.06407316909594969 '\n",
      "'training accuracy is 0.984659090909091 '\n",
      "'Epoch: 131'\n"
     ]
    },
    {
     "name": "stderr",
     "output_type": "stream",
     "text": [
      "\r",
      "  5%|▌         | 131/2499 [03:56<1:13:16,  1.86s/it]"
     ]
    },
    {
     "name": "stdout",
     "output_type": "stream",
     "text": [
      "'validation loss is 1.0712557762861252 '\n",
      "'validation accuracy is 0.8194335937500001 '\n",
      "'Epoch: 132'\n",
      "'training loss is 0.06412593986500394 '\n",
      "'training accuracy is 0.984659090909091 '\n",
      "'Epoch: 132'\n"
     ]
    },
    {
     "name": "stderr",
     "output_type": "stream",
     "text": [
      "\r",
      "  5%|▌         | 132/2499 [03:57<1:12:32,  1.84s/it]"
     ]
    },
    {
     "name": "stdout",
     "output_type": "stream",
     "text": [
      "'validation loss is 1.0664969086647034 '\n",
      "'validation accuracy is 0.8197265625000002 '\n",
      "'Epoch: 133'\n",
      "'training loss is 0.063944184305993 '\n",
      "'training accuracy is 0.9846590909090911 '\n",
      "'Epoch: 133'\n"
     ]
    },
    {
     "name": "stderr",
     "output_type": "stream",
     "text": [
      "\r",
      "  5%|▌         | 133/2499 [03:59<1:12:50,  1.85s/it]"
     ]
    },
    {
     "name": "stdout",
     "output_type": "stream",
     "text": [
      "'validation loss is 1.0677730709314346 '\n",
      "'validation accuracy is 0.8200195312500004 '\n",
      "'Epoch: 134'\n",
      "'training loss is 0.06425509771162813 '\n",
      "'training accuracy is 0.9846590909090908 '\n",
      "'Epoch: 134'\n"
     ]
    },
    {
     "name": "stderr",
     "output_type": "stream",
     "text": [
      "\r",
      "  5%|▌         | 134/2499 [04:01<1:12:05,  1.83s/it]"
     ]
    },
    {
     "name": "stdout",
     "output_type": "stream",
     "text": [
      "'validation loss is 1.0707272827625274 '\n",
      "'validation accuracy is 0.8194335937500004 '\n",
      "'Epoch: 135'\n",
      "'training loss is 0.06412030790339816 '\n",
      "'training accuracy is 0.984659090909091 '\n",
      "'Epoch: 135'\n"
     ]
    },
    {
     "name": "stderr",
     "output_type": "stream",
     "text": [
      "\r",
      "  5%|▌         | 135/2499 [04:03<1:12:27,  1.84s/it]"
     ]
    },
    {
     "name": "stdout",
     "output_type": "stream",
     "text": [
      "'validation loss is 1.0701011747121811 '\n",
      "'validation accuracy is 0.8194335937500004 '\n",
      "'Epoch: 136'\n",
      "'training loss is 0.06393011693250049 '\n",
      "'training accuracy is 0.9846590909090908 '\n",
      "'Epoch: 136'\n"
     ]
    },
    {
     "name": "stderr",
     "output_type": "stream",
     "text": [
      "\r",
      "  5%|▌         | 136/2499 [04:05<1:11:23,  1.81s/it]"
     ]
    },
    {
     "name": "stdout",
     "output_type": "stream",
     "text": [
      "'validation loss is 1.0669711396098136 '\n",
      "'validation accuracy is 0.8197265625 '\n",
      "'Epoch: 137'\n",
      "'training loss is 0.0639614923433824 '\n",
      "'training accuracy is 0.984659090909091 '\n",
      "'Epoch: 137'\n"
     ]
    },
    {
     "name": "stderr",
     "output_type": "stream",
     "text": [
      "\r",
      "  5%|▌         | 137/2499 [04:06<1:11:26,  1.81s/it]"
     ]
    },
    {
     "name": "stdout",
     "output_type": "stream",
     "text": [
      "'validation loss is 1.067284071445465 '\n",
      "'validation accuracy is 0.8197265625000002 '\n",
      "'Epoch: 138'\n",
      "'training loss is 0.0639202632009983 '\n",
      "'training accuracy is 0.984659090909091 '\n",
      "'Epoch: 138'\n"
     ]
    },
    {
     "name": "stderr",
     "output_type": "stream",
     "text": [
      "\r",
      "  6%|▌         | 138/2499 [04:08<1:11:30,  1.82s/it]"
     ]
    },
    {
     "name": "stdout",
     "output_type": "stream",
     "text": [
      "'validation loss is 1.067942537367344 '\n",
      "'validation accuracy is 0.8194335937500001 '\n",
      "'Epoch: 139'\n",
      "'training loss is 0.06395165080373938 '\n",
      "'training accuracy is 0.984659090909091 '\n",
      "'Epoch: 139'\n"
     ]
    },
    {
     "name": "stderr",
     "output_type": "stream",
     "text": [
      "\r",
      "  6%|▌         | 139/2499 [04:10<1:11:31,  1.82s/it]"
     ]
    },
    {
     "name": "stdout",
     "output_type": "stream",
     "text": [
      "'validation loss is 1.0673648208379745 '\n",
      "'validation accuracy is 0.8194335937500001 '\n",
      "'Epoch: 140'\n",
      "'training loss is 0.06403962150216103 '\n",
      "'training accuracy is 0.9846590909090908 '\n",
      "'Epoch: 140'\n"
     ]
    },
    {
     "name": "stderr",
     "output_type": "stream",
     "text": [
      "\r",
      "  6%|▌         | 140/2499 [04:12<1:11:42,  1.82s/it]"
     ]
    },
    {
     "name": "stdout",
     "output_type": "stream",
     "text": [
      "'validation loss is 1.072953850030899 '\n",
      "'validation accuracy is 0.8191406250000002 '\n",
      "'Epoch: 141'\n",
      "'training loss is 0.06414433568716049 '\n",
      "'training accuracy is 0.9846590909090908 '\n",
      "'Epoch: 141'\n"
     ]
    },
    {
     "name": "stderr",
     "output_type": "stream",
     "text": [
      "\r",
      "  6%|▌         | 141/2499 [04:14<1:11:25,  1.82s/it]"
     ]
    },
    {
     "name": "stdout",
     "output_type": "stream",
     "text": [
      "'validation loss is 1.0673748344182967 '\n",
      "'validation accuracy is 0.8197265625 '\n",
      "'Epoch: 142'\n",
      "'training loss is 0.06391502984545448 '\n",
      "'training accuracy is 0.9846590909090908 '\n",
      "'Epoch: 142'\n"
     ]
    },
    {
     "name": "stderr",
     "output_type": "stream",
     "text": [
      "\r",
      "  6%|▌         | 142/2499 [04:15<1:10:42,  1.80s/it]"
     ]
    },
    {
     "name": "stdout",
     "output_type": "stream",
     "text": [
      "'validation loss is 1.0695499166846276 '\n",
      "'validation accuracy is 0.8194335937500001 '\n",
      "'Epoch: 143'\n",
      "'training loss is 0.06389942629770799 '\n",
      "'training accuracy is 0.984659090909091 '\n",
      "'Epoch: 143'\n"
     ]
    },
    {
     "name": "stderr",
     "output_type": "stream",
     "text": [
      "\r",
      "  6%|▌         | 143/2499 [04:17<1:10:37,  1.80s/it]"
     ]
    },
    {
     "name": "stdout",
     "output_type": "stream",
     "text": [
      "'validation loss is 1.0688289731740952 '\n",
      "'validation accuracy is 0.8197265625000002 '\n",
      "'Epoch: 144'\n",
      "'training loss is 0.06429676000367511 '\n",
      "'training accuracy is 0.984659090909091 '\n",
      "'Epoch: 144'\n"
     ]
    },
    {
     "name": "stderr",
     "output_type": "stream",
     "text": [
      "\r",
      "  6%|▌         | 144/2499 [04:19<1:10:35,  1.80s/it]"
     ]
    },
    {
     "name": "stdout",
     "output_type": "stream",
     "text": [
      "'validation loss is 1.0675830870866776 '\n",
      "'validation accuracy is 0.8191406250000002 '\n",
      "'Epoch: 145'\n",
      "'training loss is 0.06392842057076367 '\n",
      "'training accuracy is 0.984659090909091 '\n",
      "'Epoch: 145'\n"
     ]
    },
    {
     "name": "stderr",
     "output_type": "stream",
     "text": [
      "\r",
      "  6%|▌         | 145/2499 [04:21<1:09:47,  1.78s/it]"
     ]
    },
    {
     "name": "stdout",
     "output_type": "stream",
     "text": [
      "'validation loss is 1.0611591190099716 '\n",
      "'validation accuracy is 0.82001953125 '\n",
      "'Epoch: 146'\n",
      "'training loss is 0.06388163329525427 '\n",
      "'training accuracy is 0.984659090909091 '\n",
      "'Epoch: 146'\n"
     ]
    },
    {
     "name": "stderr",
     "output_type": "stream",
     "text": [
      "\r",
      "  6%|▌         | 146/2499 [04:23<1:09:19,  1.77s/it]"
     ]
    },
    {
     "name": "stdout",
     "output_type": "stream",
     "text": [
      "'validation loss is 1.0644193530082702 '\n",
      "'validation accuracy is 0.8197265625000003 '\n",
      "'Epoch: 147'\n",
      "'training loss is 0.06419897858392108 '\n",
      "'training accuracy is 0.9846590909090908 '\n",
      "'Epoch: 147'\n"
     ]
    },
    {
     "name": "stderr",
     "output_type": "stream",
     "text": [
      "\r",
      "  6%|▌         | 147/2499 [04:24<1:09:54,  1.78s/it]"
     ]
    },
    {
     "name": "stdout",
     "output_type": "stream",
     "text": [
      "'validation loss is 1.0643533259630202 '\n",
      "'validation accuracy is 0.8197265625000002 '\n",
      "'Epoch: 148'\n",
      "'training loss is 0.06403626332228834 '\n",
      "'training accuracy is 0.984659090909091 '\n",
      "'Epoch: 148'\n"
     ]
    },
    {
     "name": "stderr",
     "output_type": "stream",
     "text": [
      "\r",
      "  6%|▌         | 148/2499 [04:26<1:09:53,  1.78s/it]"
     ]
    },
    {
     "name": "stdout",
     "output_type": "stream",
     "text": [
      "'validation loss is 1.0631364196538926 '\n",
      "'validation accuracy is 0.8197265625000002 '\n",
      "'Epoch: 149'\n",
      "'training loss is 0.06420159272172234 '\n",
      "'training accuracy is 0.9846590909090908 '\n",
      "'Epoch: 149'\n"
     ]
    },
    {
     "name": "stderr",
     "output_type": "stream",
     "text": [
      "\r",
      "  6%|▌         | 149/2499 [04:28<1:10:49,  1.81s/it]"
     ]
    },
    {
     "name": "stdout",
     "output_type": "stream",
     "text": [
      "'validation loss is 1.0621158838272096 '\n",
      "'validation accuracy is 0.8197265625000003 '\n",
      "'Epoch: 150'\n",
      "'training loss is 0.06383166258985346 '\n",
      "'training accuracy is 0.984659090909091 '\n",
      "'Epoch: 150'\n"
     ]
    },
    {
     "name": "stderr",
     "output_type": "stream",
     "text": [
      "\r",
      "  6%|▌         | 150/2499 [04:30<1:11:04,  1.82s/it]"
     ]
    },
    {
     "name": "stdout",
     "output_type": "stream",
     "text": [
      "'validation loss is 1.0670631498098373 '\n",
      "'validation accuracy is 0.81943359375 '\n",
      "'Epoch: 151'\n",
      "'training loss is 0.06409966098991307 '\n",
      "'training accuracy is 0.984659090909091 '\n",
      "'Epoch: 151'\n"
     ]
    },
    {
     "name": "stderr",
     "output_type": "stream",
     "text": [
      "\r",
      "  6%|▌         | 151/2499 [04:32<1:11:24,  1.82s/it]"
     ]
    },
    {
     "name": "stdout",
     "output_type": "stream",
     "text": [
      "'validation loss is 1.0654987841844559 '\n",
      "'validation accuracy is 0.8194335937500001 '\n",
      "'Epoch: 152'\n",
      "'training loss is 0.06391258165240288 '\n",
      "'training accuracy is 0.984659090909091 '\n",
      "'Epoch: 152'\n"
     ]
    },
    {
     "name": "stderr",
     "output_type": "stream",
     "text": [
      "\r",
      "  6%|▌         | 152/2499 [04:34<1:12:26,  1.85s/it]"
     ]
    },
    {
     "name": "stdout",
     "output_type": "stream",
     "text": [
      "'validation loss is 1.0697063356637955 '\n",
      "'validation accuracy is 0.8197265625000003 '\n",
      "'Epoch: 153'\n",
      "'training loss is 0.06403243203054775 '\n",
      "'training accuracy is 0.9846590909090911 '\n",
      "'Epoch: 153'\n"
     ]
    },
    {
     "name": "stderr",
     "output_type": "stream",
     "text": [
      "\r",
      "  6%|▌         | 153/2499 [04:35<1:12:48,  1.86s/it]"
     ]
    },
    {
     "name": "stdout",
     "output_type": "stream",
     "text": [
      "'validation loss is 1.0631049484014512 '\n",
      "'validation accuracy is 0.8197265625000002 '\n",
      "'Epoch: 154'\n",
      "'training loss is 0.0639572377231988 '\n",
      "'training accuracy is 0.9846590909090911 '\n",
      "'Epoch: 154'\n"
     ]
    },
    {
     "name": "stderr",
     "output_type": "stream",
     "text": [
      "\r",
      "  6%|▌         | 154/2499 [04:37<1:12:43,  1.86s/it]"
     ]
    },
    {
     "name": "stdout",
     "output_type": "stream",
     "text": [
      "'validation loss is 1.0652695089578628 '\n",
      "'validation accuracy is 0.8197265625000002 '\n",
      "'Epoch: 155'\n",
      "'training loss is 0.06412450427358801 '\n",
      "'training accuracy is 0.984659090909091 '\n",
      "'Epoch: 155'\n"
     ]
    },
    {
     "name": "stderr",
     "output_type": "stream",
     "text": [
      "\r",
      "  6%|▌         | 155/2499 [04:39<1:12:13,  1.85s/it]"
     ]
    },
    {
     "name": "stdout",
     "output_type": "stream",
     "text": [
      "'validation loss is 1.0638573199510575 '\n",
      "'validation accuracy is 0.8197265625000003 '\n",
      "'Epoch: 156'\n",
      "'training loss is 0.06432989815419371 '\n",
      "'training accuracy is 0.9846590909090908 '\n",
      "'Epoch: 156'\n"
     ]
    },
    {
     "name": "stderr",
     "output_type": "stream",
     "text": [
      "\r",
      "  6%|▌         | 156/2499 [04:41<1:11:55,  1.84s/it]"
     ]
    },
    {
     "name": "stdout",
     "output_type": "stream",
     "text": [
      "'validation loss is 1.0687681019306183 '\n",
      "'validation accuracy is 0.8194335937500004 '\n",
      "'Epoch: 157'\n",
      "'training loss is 0.06407669457522305 '\n",
      "'training accuracy is 0.984659090909091 '\n",
      "'Epoch: 157'\n"
     ]
    },
    {
     "name": "stderr",
     "output_type": "stream",
     "text": [
      "\r",
      "  6%|▋         | 157/2499 [04:43<1:10:48,  1.81s/it]"
     ]
    },
    {
     "name": "stdout",
     "output_type": "stream",
     "text": [
      "'validation loss is 1.0645361140370369 '\n",
      "'validation accuracy is 0.8200195312500004 '\n",
      "'Epoch: 158'\n",
      "'training loss is 0.06408152593807741 '\n",
      "'training accuracy is 0.984659090909091 '\n",
      "'Epoch: 158'\n"
     ]
    },
    {
     "name": "stderr",
     "output_type": "stream",
     "text": [
      "\r",
      "  6%|▋         | 158/2499 [04:45<1:10:17,  1.80s/it]"
     ]
    },
    {
     "name": "stdout",
     "output_type": "stream",
     "text": [
      "'validation loss is 1.0658434867858886 '\n",
      "'validation accuracy is 0.8197265625 '\n",
      "'Epoch: 159'\n",
      "'training loss is 0.0641540556468747 '\n",
      "'training accuracy is 0.984659090909091 '\n",
      "'Epoch: 159'\n"
     ]
    },
    {
     "name": "stderr",
     "output_type": "stream",
     "text": [
      "\r",
      "  6%|▋         | 159/2499 [04:46<1:10:25,  1.81s/it]"
     ]
    },
    {
     "name": "stdout",
     "output_type": "stream",
     "text": [
      "'validation loss is 1.0635614931583404 '\n",
      "'validation accuracy is 0.8197265625000002 '\n",
      "'Epoch: 160'\n",
      "'training loss is 0.06405486505139958 '\n",
      "'training accuracy is 0.984659090909091 '\n",
      "'Epoch: 160'\n"
     ]
    },
    {
     "name": "stderr",
     "output_type": "stream",
     "text": [
      "\r",
      "  6%|▋         | 160/2499 [04:48<1:10:26,  1.81s/it]"
     ]
    },
    {
     "name": "stdout",
     "output_type": "stream",
     "text": [
      "'validation loss is 1.0696000039577485 '\n",
      "'validation accuracy is 0.8191406250000002 '\n",
      "'Epoch: 161'\n",
      "'training loss is 0.06396490470929579 '\n",
      "'training accuracy is 0.984659090909091 '\n",
      "'Epoch: 161'\n"
     ]
    },
    {
     "name": "stderr",
     "output_type": "stream",
     "text": [
      "\r",
      "  6%|▋         | 161/2499 [04:50<1:08:54,  1.77s/it]"
     ]
    },
    {
     "name": "stdout",
     "output_type": "stream",
     "text": [
      "'validation loss is 1.0680610716342926 '\n",
      "'validation accuracy is 0.819140625 '\n",
      "'Epoch: 162'\n",
      "'training loss is 0.06411723284558817 '\n",
      "'training accuracy is 0.9846590909090908 '\n",
      "'Epoch: 162'\n"
     ]
    },
    {
     "name": "stderr",
     "output_type": "stream",
     "text": [
      "\r",
      "  6%|▋         | 162/2499 [04:52<1:10:48,  1.82s/it]"
     ]
    },
    {
     "name": "stdout",
     "output_type": "stream",
     "text": [
      "'validation loss is 1.0690776497125625 '\n",
      "'validation accuracy is 0.8197265625000002 '\n",
      "'Epoch: 163'\n",
      "'training loss is 0.06389530646530064 '\n",
      "'training accuracy is 0.984659090909091 '\n",
      "'Epoch: 163'\n"
     ]
    },
    {
     "name": "stderr",
     "output_type": "stream",
     "text": [
      "\r",
      "  7%|▋         | 163/2499 [04:54<1:11:46,  1.84s/it]"
     ]
    },
    {
     "name": "stdout",
     "output_type": "stream",
     "text": [
      "'validation loss is 1.0646917045116424 '\n",
      "'validation accuracy is 0.8200195312500002 '\n",
      "'Epoch: 164'\n",
      "'training loss is 0.06390993805094199 '\n",
      "'training accuracy is 0.984659090909091 '\n",
      "'Epoch: 164'\n"
     ]
    },
    {
     "name": "stderr",
     "output_type": "stream",
     "text": [
      "\r",
      "  7%|▋         | 164/2499 [04:55<1:11:04,  1.83s/it]"
     ]
    },
    {
     "name": "stdout",
     "output_type": "stream",
     "text": [
      "'validation loss is 1.0680722624063492 '\n",
      "'validation accuracy is 0.81943359375 '\n",
      "'Epoch: 165'\n",
      "'training loss is 0.0639183558523655 '\n",
      "'training accuracy is 0.9846590909090908 '\n",
      "'Epoch: 165'\n"
     ]
    },
    {
     "name": "stderr",
     "output_type": "stream",
     "text": [
      "\r",
      "  7%|▋         | 165/2499 [04:57<1:10:42,  1.82s/it]"
     ]
    },
    {
     "name": "stdout",
     "output_type": "stream",
     "text": [
      "'validation loss is 1.0686439037323 '\n",
      "'validation accuracy is 0.8197265625000002 '\n",
      "'Epoch: 166'\n",
      "'training loss is 0.06415172632444989 '\n",
      "'training accuracy is 0.9846590909090908 '\n",
      "'Epoch: 166'\n"
     ]
    },
    {
     "name": "stderr",
     "output_type": "stream",
     "text": [
      "\r",
      "  7%|▋         | 166/2499 [04:59<1:10:13,  1.81s/it]"
     ]
    },
    {
     "name": "stdout",
     "output_type": "stream",
     "text": [
      "'validation loss is 1.0667738050222397 '\n",
      "'validation accuracy is 0.8194335937500001 '\n",
      "'Epoch: 167'\n",
      "'training loss is 0.06377806683832948 '\n",
      "'training accuracy is 0.984659090909091 '\n",
      "'Epoch: 167'\n"
     ]
    },
    {
     "name": "stderr",
     "output_type": "stream",
     "text": [
      "\r",
      "  7%|▋         | 167/2499 [05:01<1:09:04,  1.78s/it]"
     ]
    },
    {
     "name": "stdout",
     "output_type": "stream",
     "text": [
      "'validation loss is 1.06295136064291 '\n",
      "'validation accuracy is 0.8203125000000002 '\n",
      "'Epoch: 168'\n",
      "'training loss is 0.06396242671392181 '\n",
      "'training accuracy is 0.984659090909091 '\n",
      "'Epoch: 168'\n"
     ]
    },
    {
     "name": "stderr",
     "output_type": "stream",
     "text": [
      "\r",
      "  7%|▋         | 168/2499 [05:03<1:10:29,  1.81s/it]"
     ]
    },
    {
     "name": "stdout",
     "output_type": "stream",
     "text": [
      "'validation loss is 1.0685219913721085 '\n",
      "'validation accuracy is 0.8191406250000002 '\n",
      "'Epoch: 169'\n",
      "'training loss is 0.06384331462058154 '\n",
      "'training accuracy is 0.984659090909091 '\n",
      "'Epoch: 169'\n"
     ]
    },
    {
     "name": "stderr",
     "output_type": "stream",
     "text": [
      "\r",
      "  7%|▋         | 169/2499 [05:04<1:09:54,  1.80s/it]"
     ]
    },
    {
     "name": "stdout",
     "output_type": "stream",
     "text": [
      "'validation loss is 1.0729258686304093 '\n",
      "'validation accuracy is 0.8191406250000002 '\n",
      "'Epoch: 170'\n",
      "'training loss is 0.06414431028745392 '\n",
      "'training accuracy is 0.984659090909091 '\n",
      "'Epoch: 170'\n"
     ]
    },
    {
     "name": "stderr",
     "output_type": "stream",
     "text": [
      "\r",
      "  7%|▋         | 170/2499 [05:06<1:09:01,  1.78s/it]"
     ]
    },
    {
     "name": "stdout",
     "output_type": "stream",
     "text": [
      "'validation loss is 1.0640218779444695 '\n",
      "'validation accuracy is 0.8200195312500002 '\n",
      "'Epoch: 171'\n",
      "'training loss is 0.06398936225609346 '\n",
      "'training accuracy is 0.984659090909091 '\n",
      "'Epoch: 171'\n"
     ]
    },
    {
     "name": "stderr",
     "output_type": "stream",
     "text": [
      "\r",
      "  7%|▋         | 171/2499 [05:08<1:09:10,  1.78s/it]"
     ]
    },
    {
     "name": "stdout",
     "output_type": "stream",
     "text": [
      "'validation loss is 1.0650588661432265 '\n",
      "'validation accuracy is 0.8200195312500002 '\n",
      "'Epoch: 172'\n",
      "'training loss is 0.06395409290086139 '\n",
      "'training accuracy is 0.984659090909091 '\n",
      "'Epoch: 172'\n"
     ]
    },
    {
     "name": "stderr",
     "output_type": "stream",
     "text": [
      "\r",
      "  7%|▋         | 172/2499 [05:10<1:08:30,  1.77s/it]"
     ]
    },
    {
     "name": "stdout",
     "output_type": "stream",
     "text": [
      "'validation loss is 1.0691642135381698 '\n",
      "'validation accuracy is 0.8194335937500001 '\n",
      "'Epoch: 173'\n",
      "'training loss is 0.06396489014679735 '\n",
      "'training accuracy is 0.9846590909090908 '\n",
      "'Epoch: 173'\n"
     ]
    },
    {
     "name": "stderr",
     "output_type": "stream",
     "text": [
      "\r",
      "  7%|▋         | 173/2499 [05:12<1:10:11,  1.81s/it]"
     ]
    },
    {
     "name": "stdout",
     "output_type": "stream",
     "text": [
      "'validation loss is 1.0672502249479294 '\n",
      "'validation accuracy is 0.8191406250000004 '\n",
      "'Epoch: 174'\n",
      "'training loss is 0.06391548534685915 '\n",
      "'training accuracy is 0.984659090909091 '\n",
      "'Epoch: 174'\n"
     ]
    },
    {
     "name": "stderr",
     "output_type": "stream",
     "text": [
      "\r",
      "  7%|▋         | 174/2499 [05:13<1:09:45,  1.80s/it]"
     ]
    },
    {
     "name": "stdout",
     "output_type": "stream",
     "text": [
      "'validation loss is 1.0656291276216507 '\n",
      "'validation accuracy is 0.8200195312500002 '\n",
      "'Epoch: 175'\n",
      "'training loss is 0.06398790363561023 '\n",
      "'training accuracy is 0.9846590909090908 '\n",
      "'Epoch: 175'\n"
     ]
    },
    {
     "name": "stderr",
     "output_type": "stream",
     "text": [
      "\r",
      "  7%|▋         | 175/2499 [05:15<1:10:02,  1.81s/it]"
     ]
    },
    {
     "name": "stdout",
     "output_type": "stream",
     "text": [
      "'validation loss is 1.0643528014421464 '\n",
      "'validation accuracy is 0.8194335937500001 '\n",
      "'Epoch: 176'\n",
      "'training loss is 0.06388695030049844 '\n",
      "'training accuracy is 0.984659090909091 '\n",
      "'Epoch: 176'\n"
     ]
    },
    {
     "name": "stderr",
     "output_type": "stream",
     "text": [
      "\r",
      "  7%|▋         | 176/2499 [05:17<1:10:11,  1.81s/it]"
     ]
    },
    {
     "name": "stdout",
     "output_type": "stream",
     "text": [
      "'validation loss is 1.0714070171117782 '\n",
      "'validation accuracy is 0.819140625 '\n",
      "'Epoch: 177'\n",
      "'training loss is 0.06414167413657362 '\n",
      "'training accuracy is 0.984659090909091 '\n",
      "'Epoch: 177'\n"
     ]
    },
    {
     "name": "stderr",
     "output_type": "stream",
     "text": [
      "\r",
      "  7%|▋         | 177/2499 [05:19<1:09:31,  1.80s/it]"
     ]
    },
    {
     "name": "stdout",
     "output_type": "stream",
     "text": [
      "'validation loss is 1.0625414863228797 '\n",
      "'validation accuracy is 0.8200195312500002 '\n",
      "'Epoch: 178'\n",
      "'training loss is 0.06402215429327705 '\n",
      "'training accuracy is 0.984659090909091 '\n",
      "'Epoch: 178'\n"
     ]
    },
    {
     "name": "stderr",
     "output_type": "stream",
     "text": [
      "\r",
      "  7%|▋         | 178/2499 [05:21<1:08:59,  1.78s/it]"
     ]
    },
    {
     "name": "stdout",
     "output_type": "stream",
     "text": [
      "'validation loss is 1.0649566233158112 '\n",
      "'validation accuracy is 0.8203125000000002 '\n",
      "'Epoch: 179'\n",
      "'training loss is 0.06399435177445412 '\n",
      "'training accuracy is 0.984659090909091 '\n",
      "'Epoch: 179'\n"
     ]
    },
    {
     "name": "stderr",
     "output_type": "stream",
     "text": [
      "\r",
      "  7%|▋         | 179/2499 [05:22<1:09:11,  1.79s/it]"
     ]
    },
    {
     "name": "stdout",
     "output_type": "stream",
     "text": [
      "'validation loss is 1.0717289090156554 '\n",
      "'validation accuracy is 0.81943359375 '\n",
      "'Epoch: 180'\n",
      "'training loss is 0.06385854292999614 '\n",
      "'training accuracy is 0.984659090909091 '\n",
      "'Epoch: 180'\n"
     ]
    },
    {
     "name": "stderr",
     "output_type": "stream",
     "text": [
      "\r",
      "  7%|▋         | 180/2499 [05:24<1:09:06,  1.79s/it]"
     ]
    },
    {
     "name": "stdout",
     "output_type": "stream",
     "text": [
      "'validation loss is 1.0627431601285935 '\n",
      "'validation accuracy is 0.8203125000000002 '\n",
      "'Epoch: 181'\n",
      "'training loss is 0.06387697465040466 '\n",
      "'training accuracy is 0.984659090909091 '\n",
      "'Epoch: 181'\n"
     ]
    },
    {
     "name": "stderr",
     "output_type": "stream",
     "text": [
      "\r",
      "  7%|▋         | 181/2499 [05:26<1:08:41,  1.78s/it]"
     ]
    },
    {
     "name": "stdout",
     "output_type": "stream",
     "text": [
      "'validation loss is 1.0696407377719879 '\n",
      "'validation accuracy is 0.8197265625000002 '\n",
      "'Epoch: 182'\n",
      "'training loss is 0.06390852785923264 '\n",
      "'training accuracy is 0.984659090909091 '\n",
      "'Epoch: 182'\n"
     ]
    },
    {
     "name": "stderr",
     "output_type": "stream",
     "text": [
      "\r",
      "  7%|▋         | 182/2499 [05:28<1:08:44,  1.78s/it]"
     ]
    },
    {
     "name": "stdout",
     "output_type": "stream",
     "text": [
      "'validation loss is 1.0704442322254182 '\n",
      "'validation accuracy is 0.81943359375 '\n",
      "'Epoch: 183'\n",
      "'training loss is 0.06380099125883797 '\n",
      "'training accuracy is 0.984659090909091 '\n",
      "'Epoch: 183'\n"
     ]
    },
    {
     "name": "stderr",
     "output_type": "stream",
     "text": [
      "\r",
      "  7%|▋         | 183/2499 [05:29<1:09:02,  1.79s/it]"
     ]
    },
    {
     "name": "stdout",
     "output_type": "stream",
     "text": [
      "'validation loss is 1.0690716341137887 '\n",
      "'validation accuracy is 0.8194335937500001 '\n",
      "'Epoch: 184'\n",
      "'training loss is 0.06397681412371722 '\n",
      "'training accuracy is 0.9846590909090908 '\n",
      "'Epoch: 184'\n"
     ]
    },
    {
     "name": "stderr",
     "output_type": "stream",
     "text": [
      "\r",
      "  7%|▋         | 184/2499 [05:31<1:09:09,  1.79s/it]"
     ]
    },
    {
     "name": "stdout",
     "output_type": "stream",
     "text": [
      "'validation loss is 1.0711636573076249 '\n",
      "'validation accuracy is 0.8197265625000002 '\n",
      "'Epoch: 185'\n",
      "'training loss is 0.06403174183585426 '\n",
      "'training accuracy is 0.984659090909091 '\n",
      "'Epoch: 185'\n"
     ]
    },
    {
     "name": "stderr",
     "output_type": "stream",
     "text": [
      "\r",
      "  7%|▋         | 185/2499 [05:33<1:08:57,  1.79s/it]"
     ]
    },
    {
     "name": "stdout",
     "output_type": "stream",
     "text": [
      "'validation loss is 1.0632931604981422 '\n",
      "'validation accuracy is 0.8203125000000002 '\n",
      "'Epoch: 186'\n",
      "'training loss is 0.06395733390342105 '\n",
      "'training accuracy is 0.9846590909090908 '\n",
      "'Epoch: 186'\n"
     ]
    },
    {
     "name": "stderr",
     "output_type": "stream",
     "text": [
      "\r",
      "  7%|▋         | 186/2499 [05:35<1:08:49,  1.79s/it]"
     ]
    },
    {
     "name": "stdout",
     "output_type": "stream",
     "text": [
      "'validation loss is 1.067889778316021 '\n",
      "'validation accuracy is 0.8200195312500002 '\n",
      "'Epoch: 187'\n",
      "'training loss is 0.0638930391181599 '\n",
      "'training accuracy is 0.9846590909090908 '\n",
      "'Epoch: 187'\n"
     ]
    },
    {
     "name": "stderr",
     "output_type": "stream",
     "text": [
      "\r",
      "  7%|▋         | 187/2499 [05:37<1:08:27,  1.78s/it]"
     ]
    },
    {
     "name": "stdout",
     "output_type": "stream",
     "text": [
      "'validation loss is 1.0711634427309036 '\n",
      "'validation accuracy is 0.8191406250000002 '\n",
      "'Epoch: 188'\n",
      "'training loss is 0.06395988030867143 '\n",
      "'training accuracy is 0.984659090909091 '\n",
      "'Epoch: 188'\n"
     ]
    },
    {
     "name": "stderr",
     "output_type": "stream",
     "text": [
      "\r",
      "  8%|▊         | 188/2499 [05:38<1:09:03,  1.79s/it]"
     ]
    },
    {
     "name": "stdout",
     "output_type": "stream",
     "text": [
      "'validation loss is 1.06621223539114 '\n",
      "'validation accuracy is 0.8197265625000003 '\n",
      "'Epoch: 189'\n",
      "'training loss is 0.0638200274922631 '\n",
      "'training accuracy is 0.984659090909091 '\n",
      "'Epoch: 189'\n"
     ]
    },
    {
     "name": "stderr",
     "output_type": "stream",
     "text": [
      "\r",
      "  8%|▊         | 189/2499 [05:40<1:08:49,  1.79s/it]"
     ]
    },
    {
     "name": "stdout",
     "output_type": "stream",
     "text": [
      "'validation loss is 1.0712154179811477 '\n",
      "'validation accuracy is 0.8194335937500001 '\n",
      "'Epoch: 190'\n",
      "'training loss is 0.06391409716822884 '\n",
      "'training accuracy is 0.984659090909091 '\n",
      "'Epoch: 190'\n"
     ]
    },
    {
     "name": "stderr",
     "output_type": "stream",
     "text": [
      "\r",
      "  8%|▊         | 190/2499 [05:42<1:09:10,  1.80s/it]"
     ]
    },
    {
     "name": "stdout",
     "output_type": "stream",
     "text": [
      "'validation loss is 1.0699967622756958 '\n",
      "'validation accuracy is 0.8194335937500001 '\n",
      "'Epoch: 191'\n",
      "'training loss is 0.06401807272976096 '\n",
      "'training accuracy is 0.9846590909090911 '\n",
      "'Epoch: 191'\n"
     ]
    },
    {
     "name": "stderr",
     "output_type": "stream",
     "text": [
      "\r",
      "  8%|▊         | 191/2499 [05:44<1:08:43,  1.79s/it]"
     ]
    },
    {
     "name": "stdout",
     "output_type": "stream",
     "text": [
      "'validation loss is 1.0662635505199431 '\n",
      "'validation accuracy is 0.8194335937500001 '\n",
      "'Epoch: 192'\n",
      "'training loss is 0.06398317556489598 '\n",
      "'training accuracy is 0.984659090909091 '\n",
      "'Epoch: 192'\n"
     ]
    },
    {
     "name": "stderr",
     "output_type": "stream",
     "text": [
      "\r",
      "  8%|▊         | 192/2499 [05:45<1:07:38,  1.76s/it]"
     ]
    },
    {
     "name": "stdout",
     "output_type": "stream",
     "text": [
      "'validation loss is 1.0658127680420875 '\n",
      "'validation accuracy is 0.8200195312500004 '\n",
      "'Epoch: 193'\n",
      "'training loss is 0.0638680136339231 '\n",
      "'training accuracy is 0.9846590909090908 '\n",
      "'Epoch: 193'\n"
     ]
    },
    {
     "name": "stderr",
     "output_type": "stream",
     "text": [
      "\r",
      "  8%|▊         | 193/2499 [05:47<1:08:23,  1.78s/it]"
     ]
    },
    {
     "name": "stdout",
     "output_type": "stream",
     "text": [
      "'validation loss is 1.0679496824741364 '\n",
      "'validation accuracy is 0.8197265625000003 '\n",
      "'Epoch: 194'\n",
      "'training loss is 0.06384679438038306 '\n",
      "'training accuracy is 0.984659090909091 '\n",
      "'Epoch: 194'\n"
     ]
    },
    {
     "name": "stderr",
     "output_type": "stream",
     "text": [
      "\r",
      "  8%|▊         | 194/2499 [05:49<1:08:14,  1.78s/it]"
     ]
    },
    {
     "name": "stdout",
     "output_type": "stream",
     "text": [
      "'validation loss is 1.072513324022293 '\n",
      "'validation accuracy is 0.8191406250000002 '\n",
      "'Epoch: 195'\n",
      "'training loss is 0.06406208601864902 '\n",
      "'training accuracy is 0.984659090909091 '\n",
      "'Epoch: 195'\n"
     ]
    },
    {
     "name": "stderr",
     "output_type": "stream",
     "text": [
      "\r",
      "  8%|▊         | 195/2499 [05:51<1:09:26,  1.81s/it]"
     ]
    },
    {
     "name": "stdout",
     "output_type": "stream",
     "text": [
      "'validation loss is 1.067933365702629 '\n",
      "'validation accuracy is 0.8194335937500001 '\n",
      "'Epoch: 196'\n",
      "'training loss is 0.06378172846003012 '\n",
      "'training accuracy is 0.9846590909090911 '\n",
      "'Epoch: 196'\n"
     ]
    },
    {
     "name": "stderr",
     "output_type": "stream",
     "text": [
      "\r",
      "  8%|▊         | 196/2499 [05:53<1:09:26,  1.81s/it]"
     ]
    },
    {
     "name": "stdout",
     "output_type": "stream",
     "text": [
      "'validation loss is 1.0712716817855834 '\n",
      "'validation accuracy is 0.819140625 '\n",
      "'Epoch: 197'\n",
      "'training loss is 0.06400650536472147 '\n",
      "'training accuracy is 0.9846590909090911 '\n",
      "'Epoch: 197'\n"
     ]
    },
    {
     "name": "stderr",
     "output_type": "stream",
     "text": [
      "\r",
      "  8%|▊         | 197/2499 [05:55<1:09:33,  1.81s/it]"
     ]
    },
    {
     "name": "stdout",
     "output_type": "stream",
     "text": [
      "'validation loss is 1.068895372748375 '\n",
      "'validation accuracy is 0.8197265625000002 '\n",
      "'Epoch: 198'\n",
      "'training loss is 0.0639929927208207 '\n",
      "'training accuracy is 0.984659090909091 '\n",
      "'Epoch: 198'\n"
     ]
    },
    {
     "name": "stderr",
     "output_type": "stream",
     "text": [
      "\r",
      "  8%|▊         | 198/2499 [05:56<1:08:04,  1.77s/it]"
     ]
    },
    {
     "name": "stdout",
     "output_type": "stream",
     "text": [
      "'validation loss is 1.0699481964111328 '\n",
      "'validation accuracy is 0.8194335937500001 '\n",
      "'Epoch: 199'\n",
      "'training loss is 0.06407990103418176 '\n",
      "'training accuracy is 0.984659090909091 '\n",
      "'Epoch: 199'\n"
     ]
    },
    {
     "name": "stderr",
     "output_type": "stream",
     "text": [
      "\r",
      "  8%|▊         | 199/2499 [05:58<1:08:08,  1.78s/it]"
     ]
    },
    {
     "name": "stdout",
     "output_type": "stream",
     "text": [
      "'validation loss is 1.0693623512983321 '\n",
      "'validation accuracy is 0.8194335937500001 '\n",
      "'Epoch: 200'\n",
      "'training loss is 0.06400137936527078 '\n",
      "'training accuracy is 0.9846590909090908 '\n",
      "'Epoch: 200'\n"
     ]
    },
    {
     "name": "stderr",
     "output_type": "stream",
     "text": [
      "\r",
      "  8%|▊         | 200/2499 [06:00<1:07:04,  1.75s/it]"
     ]
    },
    {
     "name": "stdout",
     "output_type": "stream",
     "text": [
      "'validation loss is 1.0626287773251533 '\n",
      "'validation accuracy is 0.8206054687500002 '\n",
      "'Epoch: 201'\n",
      "'training loss is 0.0638580776073716 '\n",
      "'training accuracy is 0.984659090909091 '\n",
      "'Epoch: 201'\n"
     ]
    },
    {
     "name": "stderr",
     "output_type": "stream",
     "text": [
      "\r",
      "  8%|▊         | 201/2499 [06:01<1:07:05,  1.75s/it]"
     ]
    },
    {
     "name": "stdout",
     "output_type": "stream",
     "text": [
      "'validation loss is 1.0637152761220932 '\n",
      "'validation accuracy is 0.8197265625000003 '\n",
      "'Epoch: 202'\n",
      "'training loss is 0.06381905248219316 '\n",
      "'training accuracy is 0.984659090909091 '\n",
      "'Epoch: 202'\n"
     ]
    },
    {
     "name": "stderr",
     "output_type": "stream",
     "text": [
      "\r",
      "  8%|▊         | 202/2499 [06:03<1:07:56,  1.77s/it]"
     ]
    },
    {
     "name": "stdout",
     "output_type": "stream",
     "text": [
      "'validation loss is 1.0624821215867997 '\n",
      "'validation accuracy is 0.8200195312500002 '\n",
      "'Epoch: 203'\n",
      "'training loss is 0.06398126652294939 '\n",
      "'training accuracy is 0.9846590909090908 '\n",
      "'Epoch: 203'\n"
     ]
    },
    {
     "name": "stderr",
     "output_type": "stream",
     "text": [
      "\r",
      "  8%|▊         | 203/2499 [06:05<1:08:56,  1.80s/it]"
     ]
    },
    {
     "name": "stdout",
     "output_type": "stream",
     "text": [
      "'validation loss is 1.0679422959685325 '\n",
      "'validation accuracy is 0.8191406250000002 '\n",
      "'Epoch: 204'\n",
      "'training loss is 0.06439702517606995 '\n",
      "'training accuracy is 0.9846590909090908 '\n",
      "'Epoch: 204'\n"
     ]
    },
    {
     "name": "stderr",
     "output_type": "stream",
     "text": [
      "\r",
      "  8%|▊         | 204/2499 [06:07<1:08:46,  1.80s/it]"
     ]
    },
    {
     "name": "stdout",
     "output_type": "stream",
     "text": [
      "'validation loss is 1.06723113656044 '\n",
      "'validation accuracy is 0.8194335937500001 '\n",
      "'Epoch: 205'\n",
      "'training loss is 0.06386659903959795 '\n",
      "'training accuracy is 0.984659090909091 '\n",
      "'Epoch: 205'\n"
     ]
    },
    {
     "name": "stderr",
     "output_type": "stream",
     "text": [
      "\r",
      "  8%|▊         | 205/2499 [06:09<1:08:54,  1.80s/it]"
     ]
    },
    {
     "name": "stdout",
     "output_type": "stream",
     "text": [
      "'validation loss is 1.0628083378076554 '\n",
      "'validation accuracy is 0.8191406250000002 '\n",
      "'Epoch: 206'\n",
      "'training loss is 0.0638098798014901 '\n",
      "'training accuracy is 0.9846590909090908 '\n",
      "'Epoch: 206'\n"
     ]
    },
    {
     "name": "stderr",
     "output_type": "stream",
     "text": [
      "\r",
      "  8%|▊         | 206/2499 [06:11<1:08:49,  1.80s/it]"
     ]
    },
    {
     "name": "stdout",
     "output_type": "stream",
     "text": [
      "'validation loss is 1.0609501868486404 '\n",
      "'validation accuracy is 0.8200195312500004 '\n",
      "'Epoch: 207'\n",
      "'training loss is 0.0639403144066984 '\n",
      "'training accuracy is 0.9846590909090908 '\n",
      "'Epoch: 207'\n"
     ]
    },
    {
     "name": "stderr",
     "output_type": "stream",
     "text": [
      "\r",
      "  8%|▊         | 207/2499 [06:12<1:08:32,  1.79s/it]"
     ]
    },
    {
     "name": "stdout",
     "output_type": "stream",
     "text": [
      "'validation loss is 1.0549921587109565 '\n",
      "'validation accuracy is 0.8206054687500002 '\n",
      "'Epoch: 208'\n",
      "'training loss is 0.06383127651431343 '\n",
      "'training accuracy is 0.984659090909091 '\n",
      "'Epoch: 208'\n"
     ]
    },
    {
     "name": "stderr",
     "output_type": "stream",
     "text": [
      "\r",
      "  8%|▊         | 208/2499 [06:14<1:08:21,  1.79s/it]"
     ]
    },
    {
     "name": "stdout",
     "output_type": "stream",
     "text": [
      "'validation loss is 1.0667895942926406 '\n",
      "'validation accuracy is 0.8191406250000002 '\n",
      "'Epoch: 209'\n",
      "'training loss is 0.06391413475979459 '\n",
      "'training accuracy is 0.984659090909091 '\n",
      "'Epoch: 209'\n"
     ]
    },
    {
     "name": "stderr",
     "output_type": "stream",
     "text": [
      "\r",
      "  8%|▊         | 209/2499 [06:16<1:07:58,  1.78s/it]"
     ]
    },
    {
     "name": "stdout",
     "output_type": "stream",
     "text": [
      "'validation loss is 1.0688791453838349 '\n",
      "'validation accuracy is 0.8197265625000002 '\n",
      "'Epoch: 210'\n",
      "'training loss is 0.06374264440753243 '\n",
      "'training accuracy is 0.9846590909090908 '\n",
      "'Epoch: 210'\n"
     ]
    },
    {
     "name": "stderr",
     "output_type": "stream",
     "text": [
      "\r",
      "  8%|▊         | 210/2499 [06:18<1:08:49,  1.80s/it]"
     ]
    },
    {
     "name": "stdout",
     "output_type": "stream",
     "text": [
      "'validation loss is 1.0641084179282188 '\n",
      "'validation accuracy is 0.8197265625000002 '\n",
      "'Epoch: 211'\n",
      "'training loss is 0.06389239193363623 '\n",
      "'training accuracy is 0.984659090909091 '\n",
      "'Epoch: 211'\n"
     ]
    },
    {
     "name": "stderr",
     "output_type": "stream",
     "text": [
      "\r",
      "  8%|▊         | 211/2499 [06:20<1:09:00,  1.81s/it]"
     ]
    },
    {
     "name": "stdout",
     "output_type": "stream",
     "text": [
      "'validation loss is 1.0630631878972054 '\n",
      "'validation accuracy is 0.8194335937500001 '\n",
      "'Epoch: 212'\n",
      "'training loss is 0.06361010772260753 '\n",
      "'training accuracy is 0.984659090909091 '\n",
      "'Epoch: 212'\n"
     ]
    },
    {
     "name": "stderr",
     "output_type": "stream",
     "text": [
      "\r",
      "  8%|▊         | 212/2499 [06:21<1:07:40,  1.78s/it]"
     ]
    },
    {
     "name": "stdout",
     "output_type": "stream",
     "text": [
      "'validation loss is 1.0670248687267303 '\n",
      "'validation accuracy is 0.8191406250000002 '\n",
      "'Epoch: 213'\n",
      "'training loss is 0.06394392692229965 '\n",
      "'training accuracy is 0.984659090909091 '\n",
      "'Epoch: 213'\n"
     ]
    },
    {
     "name": "stderr",
     "output_type": "stream",
     "text": [
      "\r",
      "  9%|▊         | 213/2499 [06:23<1:08:54,  1.81s/it]"
     ]
    },
    {
     "name": "stdout",
     "output_type": "stream",
     "text": [
      "'validation loss is 1.058859258890152 '\n",
      "'validation accuracy is 0.8200195312500002 '\n",
      "'Epoch: 214'\n",
      "'training loss is 0.0640052357180552 '\n",
      "'training accuracy is 0.9846590909090911 '\n",
      "'Epoch: 214'\n"
     ]
    },
    {
     "name": "stderr",
     "output_type": "stream",
     "text": [
      "\r",
      "  9%|▊         | 214/2499 [06:25<1:07:36,  1.78s/it]"
     ]
    },
    {
     "name": "stdout",
     "output_type": "stream",
     "text": [
      "'validation loss is 1.0647126883268356 '\n",
      "'validation accuracy is 0.8191406250000002 '\n",
      "'Epoch: 215'\n",
      "'training loss is 0.0639736797999252 '\n",
      "'training accuracy is 0.984659090909091 '\n",
      "'Epoch: 215'\n"
     ]
    },
    {
     "name": "stderr",
     "output_type": "stream",
     "text": [
      "\r",
      "  9%|▊         | 215/2499 [06:27<1:07:59,  1.79s/it]"
     ]
    },
    {
     "name": "stdout",
     "output_type": "stream",
     "text": [
      "'validation loss is 1.0622827678918838 '\n",
      "'validation accuracy is 0.81943359375 '\n",
      "'Epoch: 216'\n",
      "'training loss is 0.06372260573235425 '\n",
      "'training accuracy is 0.9846590909090911 '\n",
      "'Epoch: 216'\n"
     ]
    },
    {
     "name": "stderr",
     "output_type": "stream",
     "text": [
      "\r",
      "  9%|▊         | 216/2499 [06:28<1:08:15,  1.79s/it]"
     ]
    },
    {
     "name": "stdout",
     "output_type": "stream",
     "text": [
      "'validation loss is 1.0568121045827865 '\n",
      "'validation accuracy is 0.8203125000000002 '\n",
      "'Epoch: 217'\n",
      "'training loss is 0.0639607659117742 '\n",
      "'training accuracy is 0.984659090909091 '\n",
      "'Epoch: 217'\n"
     ]
    },
    {
     "name": "stderr",
     "output_type": "stream",
     "text": [
      "\r",
      "  9%|▊         | 217/2499 [06:30<1:08:41,  1.81s/it]"
     ]
    },
    {
     "name": "stdout",
     "output_type": "stream",
     "text": [
      "'validation loss is 1.064050281047821 '\n",
      "'validation accuracy is 0.819140625 '\n",
      "'Epoch: 218'\n",
      "'training loss is 0.06367209485986015 '\n",
      "'training accuracy is 0.9846590909090908 '\n",
      "'Epoch: 218'\n"
     ]
    },
    {
     "name": "stderr",
     "output_type": "stream",
     "text": [
      "\r",
      "  9%|▊         | 218/2499 [06:32<1:09:17,  1.82s/it]"
     ]
    },
    {
     "name": "stdout",
     "output_type": "stream",
     "text": [
      "'validation loss is 1.0623851537704467 '\n",
      "'validation accuracy is 0.8194335937500001 '\n",
      "'Epoch: 219'\n",
      "'training loss is 0.06396921791813591 '\n",
      "'training accuracy is 0.984659090909091 '\n",
      "'Epoch: 219'\n"
     ]
    },
    {
     "name": "stderr",
     "output_type": "stream",
     "text": [
      "\r",
      "  9%|▉         | 219/2499 [06:34<1:09:10,  1.82s/it]"
     ]
    },
    {
     "name": "stdout",
     "output_type": "stream",
     "text": [
      "'validation loss is 1.0645431488752366 '\n",
      "'validation accuracy is 0.8194335937500001 '\n",
      "'Epoch: 220'\n",
      "'training loss is 0.06374998492273418 '\n",
      "'training accuracy is 0.984659090909091 '\n",
      "'Epoch: 220'\n"
     ]
    },
    {
     "name": "stderr",
     "output_type": "stream",
     "text": [
      "\r",
      "  9%|▉         | 220/2499 [06:36<1:09:03,  1.82s/it]"
     ]
    },
    {
     "name": "stdout",
     "output_type": "stream",
     "text": [
      "'validation loss is 1.0637102782726289 '\n",
      "'validation accuracy is 0.8194335937500001 '\n",
      "'Epoch: 221'\n",
      "'training loss is 0.06371349401094696 '\n",
      "'training accuracy is 0.984659090909091 '\n",
      "'Epoch: 221'\n"
     ]
    },
    {
     "name": "stderr",
     "output_type": "stream",
     "text": [
      "\r",
      "  9%|▉         | 221/2499 [06:38<1:08:43,  1.81s/it]"
     ]
    },
    {
     "name": "stdout",
     "output_type": "stream",
     "text": [
      "'validation loss is 1.059725958108902 '\n",
      "'validation accuracy is 0.8200195312500002 '\n",
      "'Epoch: 222'\n",
      "'training loss is 0.06374007734385403 '\n",
      "'training accuracy is 0.984659090909091 '\n",
      "'Epoch: 222'\n"
     ]
    },
    {
     "name": "stderr",
     "output_type": "stream",
     "text": [
      "\r",
      "  9%|▉         | 222/2499 [06:39<1:08:47,  1.81s/it]"
     ]
    },
    {
     "name": "stdout",
     "output_type": "stream",
     "text": [
      "'validation loss is 1.0666385233402251 '\n",
      "'validation accuracy is 0.8191406250000002 '\n",
      "'Epoch: 223'\n",
      "'training loss is 0.06401616673577916 '\n",
      "'training accuracy is 0.9846590909090908 '\n",
      "'Epoch: 223'\n"
     ]
    },
    {
     "name": "stderr",
     "output_type": "stream",
     "text": [
      "\r",
      "  9%|▉         | 223/2499 [06:41<1:09:13,  1.83s/it]"
     ]
    },
    {
     "name": "stdout",
     "output_type": "stream",
     "text": [
      "'validation loss is 1.0680564671754837 '\n",
      "'validation accuracy is 0.819140625 '\n",
      "'Epoch: 224'\n",
      "'training loss is 0.0639338567852974 '\n",
      "'training accuracy is 0.9846590909090908 '\n",
      "'Epoch: 224'\n"
     ]
    },
    {
     "name": "stderr",
     "output_type": "stream",
     "text": [
      "\r",
      "  9%|▉         | 224/2499 [06:43<1:09:23,  1.83s/it]"
     ]
    },
    {
     "name": "stdout",
     "output_type": "stream",
     "text": [
      "'validation loss is 1.0644353359937668 '\n",
      "'validation accuracy is 0.819140625 '\n",
      "'Epoch: 225'\n",
      "'training loss is 0.06400923972780054 '\n",
      "'training accuracy is 0.984659090909091 '\n",
      "'Epoch: 225'\n"
     ]
    },
    {
     "name": "stderr",
     "output_type": "stream",
     "text": [
      "\r",
      "  9%|▉         | 225/2499 [06:45<1:11:22,  1.88s/it]"
     ]
    },
    {
     "name": "stdout",
     "output_type": "stream",
     "text": [
      "'validation loss is 1.0584257796406746 '\n",
      "'validation accuracy is 0.8200195312500002 '\n",
      "'Epoch: 226'\n",
      "'training loss is 0.06404404477639632 '\n",
      "'training accuracy is 0.9846590909090908 '\n",
      "'Epoch: 226'\n"
     ]
    },
    {
     "name": "stderr",
     "output_type": "stream",
     "text": [
      "\r",
      "  9%|▉         | 226/2499 [06:47<1:11:08,  1.88s/it]"
     ]
    },
    {
     "name": "stdout",
     "output_type": "stream",
     "text": [
      "'validation loss is 1.0657793045043946 '\n",
      "'validation accuracy is 0.8191406250000004 '\n",
      "'Epoch: 227'\n",
      "'training loss is 0.06396326727487824 '\n",
      "'training accuracy is 0.984659090909091 '\n",
      "'Epoch: 227'\n"
     ]
    },
    {
     "name": "stderr",
     "output_type": "stream",
     "text": [
      "\r",
      "  9%|▉         | 227/2499 [06:49<1:10:02,  1.85s/it]"
     ]
    },
    {
     "name": "stdout",
     "output_type": "stream",
     "text": [
      "'validation loss is 1.059026062488556 '\n",
      "'validation accuracy is 0.8203125000000002 '\n",
      "'Epoch: 228'\n",
      "'training loss is 0.06377454542300919 '\n",
      "'training accuracy is 0.9846590909090908 '\n",
      "'Epoch: 228'\n"
     ]
    },
    {
     "name": "stderr",
     "output_type": "stream",
     "text": [
      "\r",
      "  9%|▉         | 228/2499 [06:51<1:09:36,  1.84s/it]"
     ]
    },
    {
     "name": "stdout",
     "output_type": "stream",
     "text": [
      "'validation loss is 1.0598293006420136 '\n",
      "'validation accuracy is 0.8197265625000002 '\n",
      "'Epoch: 229'\n",
      "'training loss is 0.06396172060207887 '\n",
      "'training accuracy is 0.984659090909091 '\n",
      "'Epoch: 229'\n"
     ]
    },
    {
     "name": "stderr",
     "output_type": "stream",
     "text": [
      "\r",
      "  9%|▉         | 229/2499 [06:52<1:09:07,  1.83s/it]"
     ]
    },
    {
     "name": "stdout",
     "output_type": "stream",
     "text": [
      "'validation loss is 1.058614006638527 '\n",
      "'validation accuracy is 0.8197265625000003 '\n",
      "'Epoch: 230'\n",
      "'training loss is 0.063798150555654 '\n",
      "'training accuracy is 0.984659090909091 '\n",
      "'Epoch: 230'\n"
     ]
    },
    {
     "name": "stderr",
     "output_type": "stream",
     "text": [
      "\r",
      "  9%|▉         | 230/2499 [06:54<1:08:09,  1.80s/it]"
     ]
    },
    {
     "name": "stdout",
     "output_type": "stream",
     "text": [
      "'validation loss is 1.0641083031892777 '\n",
      "'validation accuracy is 0.8194335937500001 '\n",
      "'Epoch: 231'\n",
      "'training loss is 0.06389014626091177 '\n",
      "'training accuracy is 0.9846590909090908 '\n",
      "'Epoch: 231'\n"
     ]
    },
    {
     "name": "stderr",
     "output_type": "stream",
     "text": [
      "\r",
      "  9%|▉         | 231/2499 [06:56<1:07:49,  1.79s/it]"
     ]
    },
    {
     "name": "stdout",
     "output_type": "stream",
     "text": [
      "'validation loss is 1.0629637405276298 '\n",
      "'validation accuracy is 0.8200195312500002 '\n",
      "'Epoch: 232'\n",
      "'training loss is 0.06388563256372105 '\n",
      "'training accuracy is 0.984659090909091 '\n",
      "'Epoch: 232'\n"
     ]
    },
    {
     "name": "stderr",
     "output_type": "stream",
     "text": [
      "\r",
      "  9%|▉         | 232/2499 [06:58<1:07:49,  1.80s/it]"
     ]
    },
    {
     "name": "stdout",
     "output_type": "stream",
     "text": [
      "'validation loss is 1.0662545144557953 '\n",
      "'validation accuracy is 0.8191406250000002 '\n",
      "'Epoch: 233'\n",
      "'training loss is 0.06373503533276645 '\n",
      "'training accuracy is 0.984659090909091 '\n",
      "'Epoch: 233'\n"
     ]
    },
    {
     "name": "stderr",
     "output_type": "stream",
     "text": [
      "\r",
      "  9%|▉         | 233/2499 [06:59<1:07:53,  1.80s/it]"
     ]
    },
    {
     "name": "stdout",
     "output_type": "stream",
     "text": [
      "'validation loss is 1.0659304916858674 '\n",
      "'validation accuracy is 0.81943359375 '\n",
      "'Epoch: 234'\n",
      "'training loss is 0.06384225528348576 '\n",
      "'training accuracy is 0.9846590909090911 '\n",
      "'Epoch: 234'\n"
     ]
    },
    {
     "name": "stderr",
     "output_type": "stream",
     "text": [
      "\r",
      "  9%|▉         | 234/2499 [07:01<1:07:30,  1.79s/it]"
     ]
    },
    {
     "name": "stdout",
     "output_type": "stream",
     "text": [
      "'validation loss is 1.0678148478269578 '\n",
      "'validation accuracy is 0.819140625 '\n",
      "'Epoch: 235'\n",
      "'training loss is 0.06376039236783981 '\n",
      "'training accuracy is 0.9846590909090908 '\n",
      "'Epoch: 235'\n"
     ]
    },
    {
     "name": "stderr",
     "output_type": "stream",
     "text": [
      "\r",
      "  9%|▉         | 235/2499 [07:03<1:07:14,  1.78s/it]"
     ]
    },
    {
     "name": "stdout",
     "output_type": "stream",
     "text": [
      "'validation loss is 1.0625884249806403 '\n",
      "'validation accuracy is 0.81943359375 '\n",
      "'Epoch: 236'\n",
      "'training loss is 0.06374977969310501 '\n",
      "'training accuracy is 0.984659090909091 '\n",
      "'Epoch: 236'\n"
     ]
    },
    {
     "name": "stderr",
     "output_type": "stream",
     "text": [
      "\r",
      "  9%|▉         | 236/2499 [07:05<1:06:59,  1.78s/it]"
     ]
    },
    {
     "name": "stdout",
     "output_type": "stream",
     "text": [
      "'validation loss is 1.057793027162552 '\n",
      "'validation accuracy is 0.81943359375 '\n",
      "'Epoch: 237'\n",
      "'training loss is 0.06398240409114143 '\n",
      "'training accuracy is 0.9846590909090908 '\n",
      "'Epoch: 237'\n"
     ]
    },
    {
     "name": "stderr",
     "output_type": "stream",
     "text": [
      "\r",
      "  9%|▉         | 237/2499 [07:07<1:07:32,  1.79s/it]"
     ]
    },
    {
     "name": "stdout",
     "output_type": "stream",
     "text": [
      "'validation loss is 1.0606140315532684 '\n",
      "'validation accuracy is 0.8194335937500001 '\n",
      "'Epoch: 238'\n",
      "'training loss is 0.06381873921914534 '\n",
      "'training accuracy is 0.9846590909090908 '\n",
      "'Epoch: 238'\n"
     ]
    },
    {
     "name": "stderr",
     "output_type": "stream",
     "text": [
      "\r",
      " 10%|▉         | 238/2499 [07:09<1:10:26,  1.87s/it]"
     ]
    },
    {
     "name": "stdout",
     "output_type": "stream",
     "text": [
      "'validation loss is 1.0658594489097595 '\n",
      "'validation accuracy is 0.8197265625000002 '\n",
      "'Epoch: 239'\n",
      "'training loss is 0.06373926895585927 '\n",
      "'training accuracy is 0.984659090909091 '\n",
      "'Epoch: 239'\n"
     ]
    },
    {
     "name": "stderr",
     "output_type": "stream",
     "text": [
      "\r",
      " 10%|▉         | 239/2499 [07:10<1:09:44,  1.85s/it]"
     ]
    },
    {
     "name": "stdout",
     "output_type": "stream",
     "text": [
      "'validation loss is 1.0702471986413002 '\n",
      "'validation accuracy is 0.8194335937500001 '\n",
      "'Epoch: 240'\n",
      "'training loss is 0.06373519619757478 '\n",
      "'training accuracy is 0.984659090909091 '\n",
      "'Epoch: 240'\n"
     ]
    },
    {
     "name": "stderr",
     "output_type": "stream",
     "text": [
      "\r",
      " 10%|▉         | 240/2499 [07:12<1:08:59,  1.83s/it]"
     ]
    },
    {
     "name": "stdout",
     "output_type": "stream",
     "text": [
      "'validation loss is 1.061081101000309 '\n",
      "'validation accuracy is 0.8200195312500004 '\n",
      "'Epoch: 241'\n",
      "'training loss is 0.0636568743396889 '\n",
      "'training accuracy is 0.984659090909091 '\n",
      "'Epoch: 241'\n"
     ]
    },
    {
     "name": "stderr",
     "output_type": "stream",
     "text": [
      "\r",
      " 10%|▉         | 241/2499 [07:14<1:07:54,  1.80s/it]"
     ]
    },
    {
     "name": "stdout",
     "output_type": "stream",
     "text": [
      "'validation loss is 1.065080890059471 '\n",
      "'validation accuracy is 0.8191406250000002 '\n",
      "'Epoch: 242'\n",
      "'training loss is 0.0636994218961759 '\n",
      "'training accuracy is 0.984659090909091 '\n",
      "'Epoch: 242'\n"
     ]
    },
    {
     "name": "stderr",
     "output_type": "stream",
     "text": [
      "\r",
      " 10%|▉         | 242/2499 [07:16<1:08:10,  1.81s/it]"
     ]
    },
    {
     "name": "stdout",
     "output_type": "stream",
     "text": [
      "'validation loss is 1.0620352014899255 '\n",
      "'validation accuracy is 0.8197265625000002 '\n",
      "'Epoch: 243'\n",
      "'training loss is 0.06399276717142625 '\n",
      "'training accuracy is 0.984659090909091 '\n",
      "'Epoch: 243'\n"
     ]
    },
    {
     "name": "stderr",
     "output_type": "stream",
     "text": [
      "\r",
      " 10%|▉         | 243/2499 [07:18<1:08:26,  1.82s/it]"
     ]
    },
    {
     "name": "stdout",
     "output_type": "stream",
     "text": [
      "'validation loss is 1.0612889364361764 '\n",
      "'validation accuracy is 0.8197265625000002 '\n",
      "'Epoch: 244'\n",
      "'training loss is 0.06400661610744217 '\n",
      "'training accuracy is 0.984659090909091 '\n",
      "'Epoch: 244'\n"
     ]
    },
    {
     "name": "stderr",
     "output_type": "stream",
     "text": [
      "\r",
      " 10%|▉         | 244/2499 [07:19<1:07:37,  1.80s/it]"
     ]
    },
    {
     "name": "stdout",
     "output_type": "stream",
     "text": [
      "'validation loss is 1.058418133854866 '\n",
      "'validation accuracy is 0.8194335937500001 '\n",
      "'Epoch: 245'\n",
      "'training loss is 0.06381094489585269 '\n",
      "'training accuracy is 0.984659090909091 '\n",
      "'Epoch: 245'\n"
     ]
    },
    {
     "name": "stderr",
     "output_type": "stream",
     "text": [
      "\r",
      " 10%|▉         | 245/2499 [07:21<1:07:46,  1.80s/it]"
     ]
    },
    {
     "name": "stdout",
     "output_type": "stream",
     "text": [
      "'validation loss is 1.0581007942557334 '\n",
      "'validation accuracy is 0.8197265625 '\n",
      "'Epoch: 246'\n",
      "'training loss is 0.06399107284166596 '\n",
      "'training accuracy is 0.984659090909091 '\n",
      "'Epoch: 246'\n"
     ]
    },
    {
     "name": "stderr",
     "output_type": "stream",
     "text": [
      "\r",
      " 10%|▉         | 246/2499 [07:23<1:08:30,  1.82s/it]"
     ]
    },
    {
     "name": "stdout",
     "output_type": "stream",
     "text": [
      "'validation loss is 1.0589580714702607 '\n",
      "'validation accuracy is 0.8194335937500004 '\n",
      "'Epoch: 247'\n",
      "'training loss is 0.06380421024831859 '\n",
      "'training accuracy is 0.984659090909091 '\n",
      "'Epoch: 247'\n"
     ]
    },
    {
     "name": "stderr",
     "output_type": "stream",
     "text": [
      "\r",
      " 10%|▉         | 247/2499 [07:25<1:08:32,  1.83s/it]"
     ]
    },
    {
     "name": "stdout",
     "output_type": "stream",
     "text": [
      "'validation loss is 1.0633407056331634 '\n",
      "'validation accuracy is 0.8194335937500001 '\n",
      "'Epoch: 248'\n",
      "'training loss is 0.06390711699019778 '\n",
      "'training accuracy is 0.9846590909090908 '\n",
      "'Epoch: 248'\n"
     ]
    },
    {
     "name": "stderr",
     "output_type": "stream",
     "text": [
      "\r",
      " 10%|▉         | 248/2499 [07:27<1:07:57,  1.81s/it]"
     ]
    },
    {
     "name": "stdout",
     "output_type": "stream",
     "text": [
      "'validation loss is 1.0634024083614348 '\n",
      "'validation accuracy is 0.8194335937500001 '\n",
      "'Epoch: 249'\n",
      "'training loss is 0.06395525959405032 '\n",
      "'training accuracy is 0.984659090909091 '\n",
      "'Epoch: 249'\n"
     ]
    },
    {
     "name": "stderr",
     "output_type": "stream",
     "text": [
      "\r",
      " 10%|▉         | 249/2499 [07:28<1:07:33,  1.80s/it]"
     ]
    },
    {
     "name": "stdout",
     "output_type": "stream",
     "text": [
      "'validation loss is 1.0626823335886002 '\n",
      "'validation accuracy is 0.8197265625000002 '\n",
      "'Epoch: 250'\n",
      "'training loss is 0.06407416544177315 '\n",
      "'training accuracy is 0.9846590909090908 '\n",
      "'Epoch: 250'\n"
     ]
    },
    {
     "name": "stderr",
     "output_type": "stream",
     "text": [
      "\r",
      " 10%|█         | 250/2499 [07:30<1:06:50,  1.78s/it]"
     ]
    },
    {
     "name": "stdout",
     "output_type": "stream",
     "text": [
      "'validation loss is 1.0617546305060386 '\n",
      "'validation accuracy is 0.8194335937500004 '\n",
      "'Epoch: 251'\n",
      "'training loss is 0.06380390646782788 '\n",
      "'training accuracy is 0.984659090909091 '\n",
      "'Epoch: 251'\n"
     ]
    },
    {
     "name": "stderr",
     "output_type": "stream",
     "text": [
      "\r",
      " 10%|█         | 251/2499 [07:32<1:07:01,  1.79s/it]"
     ]
    },
    {
     "name": "stdout",
     "output_type": "stream",
     "text": [
      "'validation loss is 1.0590436697006225 '\n",
      "'validation accuracy is 0.8194335937500004 '\n",
      "'Epoch: 252'\n",
      "'training loss is 0.06373641369017688 '\n",
      "'training accuracy is 0.984659090909091 '\n",
      "'Epoch: 252'\n"
     ]
    },
    {
     "name": "stderr",
     "output_type": "stream",
     "text": [
      "\r",
      " 10%|█         | 252/2499 [07:34<1:06:18,  1.77s/it]"
     ]
    },
    {
     "name": "stdout",
     "output_type": "stream",
     "text": [
      "'validation loss is 1.0567318812012672 '\n",
      "'validation accuracy is 0.82001953125 '\n",
      "'Epoch: 253'\n",
      "'training loss is 0.06357842480594461 '\n",
      "'training accuracy is 0.9846590909090908 '\n",
      "'Epoch: 253'\n"
     ]
    },
    {
     "name": "stderr",
     "output_type": "stream",
     "text": [
      "\r",
      " 10%|█         | 253/2499 [07:35<1:05:48,  1.76s/it]"
     ]
    },
    {
     "name": "stdout",
     "output_type": "stream",
     "text": [
      "'validation loss is 1.0625081792473794 '\n",
      "'validation accuracy is 0.8194335937500001 '\n",
      "'Epoch: 254'\n",
      "'training loss is 0.06387842717495831 '\n",
      "'training accuracy is 0.984659090909091 '\n",
      "'Epoch: 254'\n"
     ]
    },
    {
     "name": "stderr",
     "output_type": "stream",
     "text": [
      "\r",
      " 10%|█         | 254/2499 [07:37<1:05:29,  1.75s/it]"
     ]
    },
    {
     "name": "stdout",
     "output_type": "stream",
     "text": [
      "'validation loss is 1.0621205121278763 '\n",
      "'validation accuracy is 0.8194335937500001 '\n",
      "'Epoch: 255'\n",
      "'training loss is 0.06389403038404205 '\n",
      "'training accuracy is 0.9846590909090911 '\n",
      "'Epoch: 255'\n"
     ]
    },
    {
     "name": "stderr",
     "output_type": "stream",
     "text": [
      "\r",
      " 10%|█         | 255/2499 [07:39<1:06:11,  1.77s/it]"
     ]
    },
    {
     "name": "stdout",
     "output_type": "stream",
     "text": [
      "'validation loss is 1.0623035818338393 '\n",
      "'validation accuracy is 0.8194335937500001 '\n",
      "'Epoch: 256'\n",
      "'training loss is 0.06399718197909268 '\n",
      "'training accuracy is 0.984659090909091 '\n",
      "'Epoch: 256'\n"
     ]
    },
    {
     "name": "stderr",
     "output_type": "stream",
     "text": [
      "\r",
      " 10%|█         | 256/2499 [07:41<1:05:42,  1.76s/it]"
     ]
    },
    {
     "name": "stdout",
     "output_type": "stream",
     "text": [
      "'validation loss is 1.054782783985138 '\n",
      "'validation accuracy is 0.8206054687500002 '\n",
      "'Epoch: 257'\n",
      "'training loss is 0.06399693848057227 '\n",
      "'training accuracy is 0.984659090909091 '\n",
      "'Epoch: 257'\n"
     ]
    },
    {
     "name": "stderr",
     "output_type": "stream",
     "text": [
      "\r",
      " 10%|█         | 257/2499 [07:43<1:05:56,  1.76s/it]"
     ]
    },
    {
     "name": "stdout",
     "output_type": "stream",
     "text": [
      "'validation loss is 1.0614446759223939 '\n",
      "'validation accuracy is 0.8191406250000002 '\n",
      "'Epoch: 258'\n",
      "'training loss is 0.06386612558906729 '\n",
      "'training accuracy is 0.984659090909091 '\n",
      "'Epoch: 258'\n"
     ]
    },
    {
     "name": "stderr",
     "output_type": "stream",
     "text": [
      "\r",
      " 10%|█         | 258/2499 [07:44<1:06:14,  1.77s/it]"
     ]
    },
    {
     "name": "stdout",
     "output_type": "stream",
     "text": [
      "'validation loss is 1.065185371041298 '\n",
      "'validation accuracy is 0.8191406250000002 '\n",
      "'Epoch: 259'\n",
      "'training loss is 0.06382897597822276 '\n",
      "'training accuracy is 0.9846590909090908 '\n",
      "'Epoch: 259'\n"
     ]
    },
    {
     "name": "stderr",
     "output_type": "stream",
     "text": [
      "\r",
      " 10%|█         | 259/2499 [07:46<1:06:35,  1.78s/it]"
     ]
    },
    {
     "name": "stdout",
     "output_type": "stream",
     "text": [
      "'validation loss is 1.0577381357550621 '\n",
      "'validation accuracy is 0.8206054687500002 '\n",
      "'Epoch: 260'\n",
      "'training loss is 0.06384361704642122 '\n",
      "'training accuracy is 0.9846590909090908 '\n",
      "'Epoch: 260'\n"
     ]
    },
    {
     "name": "stderr",
     "output_type": "stream",
     "text": [
      "\r",
      " 10%|█         | 260/2499 [07:48<1:07:01,  1.80s/it]"
     ]
    },
    {
     "name": "stdout",
     "output_type": "stream",
     "text": [
      "'validation loss is 1.0607887595891952 '\n",
      "'validation accuracy is 0.8194335937500001 '\n",
      "'Epoch: 261'\n",
      "'training loss is 0.06389732929793271 '\n",
      "'training accuracy is 0.984659090909091 '\n",
      "'Epoch: 261'\n"
     ]
    },
    {
     "name": "stderr",
     "output_type": "stream",
     "text": [
      "\r",
      " 10%|█         | 261/2499 [07:50<1:06:20,  1.78s/it]"
     ]
    },
    {
     "name": "stdout",
     "output_type": "stream",
     "text": [
      "'validation loss is 1.0621099203824997 '\n",
      "'validation accuracy is 0.8197265625000002 '\n",
      "'Epoch: 262'\n",
      "'training loss is 0.06392373076894066 '\n",
      "'training accuracy is 0.9846590909090911 '\n",
      "'Epoch: 262'\n"
     ]
    },
    {
     "name": "stderr",
     "output_type": "stream",
     "text": [
      "\r",
      " 10%|█         | 262/2499 [07:51<1:06:16,  1.78s/it]"
     ]
    },
    {
     "name": "stdout",
     "output_type": "stream",
     "text": [
      "'validation loss is 1.06688434779644 '\n",
      "'validation accuracy is 0.8194335937500001 '\n",
      "'Epoch: 263'\n",
      "'training loss is 0.06406584415923465 '\n",
      "'training accuracy is 0.984659090909091 '\n",
      "'Epoch: 263'\n"
     ]
    },
    {
     "name": "stderr",
     "output_type": "stream",
     "text": [
      "\r",
      " 11%|█         | 263/2499 [07:53<1:06:17,  1.78s/it]"
     ]
    },
    {
     "name": "stdout",
     "output_type": "stream",
     "text": [
      "'validation loss is 1.0601208418607713 '\n",
      "'validation accuracy is 0.8191406250000002 '\n",
      "'Epoch: 264'\n",
      "'training loss is 0.06398099288344383 '\n",
      "'training accuracy is 0.9846590909090908 '\n",
      "'Epoch: 264'\n"
     ]
    },
    {
     "name": "stderr",
     "output_type": "stream",
     "text": [
      "\r",
      " 11%|█         | 264/2499 [07:55<1:07:07,  1.80s/it]"
     ]
    },
    {
     "name": "stdout",
     "output_type": "stream",
     "text": [
      "'validation loss is 1.0606870532035828 '\n",
      "'validation accuracy is 0.8191406250000002 '\n",
      "'Epoch: 265'\n",
      "'training loss is 0.06382769380103458 '\n",
      "'training accuracy is 0.984659090909091 '\n",
      "'Epoch: 265'\n"
     ]
    },
    {
     "name": "stderr",
     "output_type": "stream",
     "text": [
      "\r",
      " 11%|█         | 265/2499 [07:57<1:07:03,  1.80s/it]"
     ]
    },
    {
     "name": "stdout",
     "output_type": "stream",
     "text": [
      "'validation loss is 1.0571702405810357 '\n",
      "'validation accuracy is 0.8200195312500002 '\n",
      "'Epoch: 266'\n",
      "'training loss is 0.06392516669901935 '\n",
      "'training accuracy is 0.984659090909091 '\n",
      "'Epoch: 266'\n"
     ]
    },
    {
     "name": "stderr",
     "output_type": "stream",
     "text": [
      "\r",
      " 11%|█         | 266/2499 [07:59<1:06:35,  1.79s/it]"
     ]
    },
    {
     "name": "stdout",
     "output_type": "stream",
     "text": [
      "'validation loss is 1.0561745584011077 '\n",
      "'validation accuracy is 0.8197265625000002 '\n",
      "'Epoch: 267'\n",
      "'training loss is 0.06405342912132089 '\n",
      "'training accuracy is 0.984659090909091 '\n",
      "'Epoch: 267'\n"
     ]
    },
    {
     "name": "stderr",
     "output_type": "stream",
     "text": [
      "\r",
      " 11%|█         | 267/2499 [08:00<1:06:25,  1.79s/it]"
     ]
    },
    {
     "name": "stdout",
     "output_type": "stream",
     "text": [
      "'validation loss is 1.0616084173321725 '\n",
      "'validation accuracy is 0.8197265625000002 '\n",
      "'Epoch: 268'\n",
      "'training loss is 0.06394089859994975 '\n",
      "'training accuracy is 0.984659090909091 '\n",
      "'Epoch: 268'\n"
     ]
    },
    {
     "name": "stderr",
     "output_type": "stream",
     "text": [
      "\r",
      " 11%|█         | 268/2499 [08:02<1:08:14,  1.84s/it]"
     ]
    },
    {
     "name": "stdout",
     "output_type": "stream",
     "text": [
      "'validation loss is 1.0603596180677415 '\n",
      "'validation accuracy is 0.8194335937500001 '\n",
      "'Epoch: 269'\n",
      "'training loss is 0.06390354071151126 '\n",
      "'training accuracy is 0.984659090909091 '\n",
      "'Epoch: 269'\n"
     ]
    },
    {
     "name": "stderr",
     "output_type": "stream",
     "text": [
      "\r",
      " 11%|█         | 269/2499 [08:04<1:07:09,  1.81s/it]"
     ]
    },
    {
     "name": "stdout",
     "output_type": "stream",
     "text": [
      "'validation loss is 1.0604501038789749 '\n",
      "'validation accuracy is 0.8194335937500001 '\n",
      "'Epoch: 270'\n",
      "'training loss is 0.06402089074254036 '\n",
      "'training accuracy is 0.984659090909091 '\n",
      "'Epoch: 270'\n"
     ]
    },
    {
     "name": "stderr",
     "output_type": "stream",
     "text": [
      "\r",
      " 11%|█         | 270/2499 [08:06<1:07:35,  1.82s/it]"
     ]
    },
    {
     "name": "stdout",
     "output_type": "stream",
     "text": [
      "'validation loss is 1.0598949432373046 '\n",
      "'validation accuracy is 0.8194335937500001 '\n",
      "'Epoch: 271'\n",
      "'training loss is 0.06405071169137955 '\n",
      "'training accuracy is 0.984659090909091 '\n",
      "'Epoch: 271'\n"
     ]
    },
    {
     "name": "stderr",
     "output_type": "stream",
     "text": [
      "\r",
      " 11%|█         | 271/2499 [08:08<1:06:52,  1.80s/it]"
     ]
    },
    {
     "name": "stdout",
     "output_type": "stream",
     "text": [
      "'validation loss is 1.0623057007789611 '\n",
      "'validation accuracy is 0.8194335937500001 '\n",
      "'Epoch: 272'\n",
      "'training loss is 0.06380914320999925 '\n",
      "'training accuracy is 0.984659090909091 '\n",
      "'Epoch: 272'\n"
     ]
    },
    {
     "name": "stderr",
     "output_type": "stream",
     "text": [
      "\r",
      " 11%|█         | 272/2499 [08:10<1:06:53,  1.80s/it]"
     ]
    },
    {
     "name": "stdout",
     "output_type": "stream",
     "text": [
      "'validation loss is 1.0581514820456506 '\n",
      "'validation accuracy is 0.8197265625000002 '\n",
      "'Epoch: 273'\n",
      "'training loss is 0.06384765018116344 '\n",
      "'training accuracy is 0.984659090909091 '\n",
      "'Epoch: 273'\n"
     ]
    },
    {
     "name": "stderr",
     "output_type": "stream",
     "text": [
      "\r",
      " 11%|█         | 273/2499 [08:11<1:07:55,  1.83s/it]"
     ]
    },
    {
     "name": "stdout",
     "output_type": "stream",
     "text": [
      "'validation loss is 1.0537287980318069 '\n",
      "'validation accuracy is 0.8197265625000002 '\n",
      "'Epoch: 274'\n",
      "'training loss is 0.06399066238240762 '\n",
      "'training accuracy is 0.9846590909090908 '\n",
      "'Epoch: 274'\n"
     ]
    },
    {
     "name": "stderr",
     "output_type": "stream",
     "text": [
      "\r",
      " 11%|█         | 274/2499 [08:13<1:07:49,  1.83s/it]"
     ]
    },
    {
     "name": "stdout",
     "output_type": "stream",
     "text": [
      "'validation loss is 1.052588978409767 '\n",
      "'validation accuracy is 0.82001953125 '\n",
      "'Epoch: 275'\n",
      "'training loss is 0.06381584839387373 '\n",
      "'training accuracy is 0.984659090909091 '\n",
      "'Epoch: 275'\n"
     ]
    },
    {
     "name": "stderr",
     "output_type": "stream",
     "text": [
      "\r",
      " 11%|█         | 275/2499 [08:15<1:07:23,  1.82s/it]"
     ]
    },
    {
     "name": "stdout",
     "output_type": "stream",
     "text": [
      "'validation loss is 1.0520850986242294 '\n",
      "'validation accuracy is 0.8200195312500002 '\n",
      "'Epoch: 276'\n",
      "'training loss is 0.06388185647400943 '\n",
      "'training accuracy is 0.984659090909091 '\n",
      "'Epoch: 276'\n"
     ]
    },
    {
     "name": "stderr",
     "output_type": "stream",
     "text": [
      "\r",
      " 11%|█         | 276/2499 [08:17<1:07:43,  1.83s/it]"
     ]
    },
    {
     "name": "stdout",
     "output_type": "stream",
     "text": [
      "'validation loss is 1.056849840283394 '\n",
      "'validation accuracy is 0.8194335937500001 '\n",
      "'Epoch: 277'\n",
      "'training loss is 0.06399484486742453 '\n",
      "'training accuracy is 0.984659090909091 '\n",
      "'Epoch: 277'\n"
     ]
    },
    {
     "name": "stderr",
     "output_type": "stream",
     "text": [
      "\r",
      " 11%|█         | 277/2499 [08:19<1:06:45,  1.80s/it]"
     ]
    },
    {
     "name": "stdout",
     "output_type": "stream",
     "text": [
      "'validation loss is 1.0568920642137527 '\n",
      "'validation accuracy is 0.8197265625000002 '\n",
      "'Epoch: 278'\n",
      "'training loss is 0.06351109729571776 '\n",
      "'training accuracy is 0.984659090909091 '\n",
      "'Epoch: 278'\n"
     ]
    },
    {
     "name": "stderr",
     "output_type": "stream",
     "text": [
      "\r",
      " 11%|█         | 278/2499 [08:20<1:06:22,  1.79s/it]"
     ]
    },
    {
     "name": "stdout",
     "output_type": "stream",
     "text": [
      "'validation loss is 1.056868277490139 '\n",
      "'validation accuracy is 0.8194335937500001 '\n",
      "'Epoch: 279'\n",
      "'training loss is 0.06375798379833048 '\n",
      "'training accuracy is 0.9846590909090908 '\n",
      "'Epoch: 279'\n"
     ]
    },
    {
     "name": "stderr",
     "output_type": "stream",
     "text": [
      "\r",
      " 11%|█         | 279/2499 [08:22<1:06:55,  1.81s/it]"
     ]
    },
    {
     "name": "stdout",
     "output_type": "stream",
     "text": [
      "'validation loss is 1.0590176224708556 '\n",
      "'validation accuracy is 0.8194335937500004 '\n",
      "'Epoch: 280'\n",
      "'training loss is 0.06389916789802638 '\n",
      "'training accuracy is 0.9846590909090908 '\n",
      "'Epoch: 280'\n"
     ]
    },
    {
     "name": "stderr",
     "output_type": "stream",
     "text": [
      "\r",
      " 11%|█         | 280/2499 [08:24<1:06:25,  1.80s/it]"
     ]
    },
    {
     "name": "stdout",
     "output_type": "stream",
     "text": [
      "'validation loss is 1.051838892698288 '\n",
      "'validation accuracy is 0.8200195312500002 '\n",
      "'Epoch: 281'\n",
      "'training loss is 0.0637998530133204 '\n",
      "'training accuracy is 0.984659090909091 '\n",
      "'Epoch: 281'\n"
     ]
    },
    {
     "name": "stderr",
     "output_type": "stream",
     "text": [
      "\r",
      " 11%|█         | 281/2499 [08:26<1:06:31,  1.80s/it]"
     ]
    },
    {
     "name": "stdout",
     "output_type": "stream",
     "text": [
      "'validation loss is 1.0547055542469024 '\n",
      "'validation accuracy is 0.8191406250000004 '\n",
      "'Epoch: 282'\n",
      "'training loss is 0.06384820287877863 '\n",
      "'training accuracy is 0.984659090909091 '\n",
      "'Epoch: 282'\n"
     ]
    },
    {
     "name": "stderr",
     "output_type": "stream",
     "text": [
      "\r",
      " 11%|█▏        | 282/2499 [08:28<1:06:16,  1.79s/it]"
     ]
    },
    {
     "name": "stdout",
     "output_type": "stream",
     "text": [
      "'validation loss is 1.060971550643444 '\n",
      "'validation accuracy is 0.8194335937500001 '\n",
      "'Epoch: 283'\n",
      "'training loss is 0.06377579271793365 '\n",
      "'training accuracy is 0.9846590909090911 '\n",
      "'Epoch: 283'\n"
     ]
    },
    {
     "name": "stderr",
     "output_type": "stream",
     "text": [
      "\r",
      " 11%|█▏        | 283/2499 [08:29<1:05:32,  1.77s/it]"
     ]
    },
    {
     "name": "stdout",
     "output_type": "stream",
     "text": [
      "'validation loss is 1.0604510292410851 '\n",
      "'validation accuracy is 0.8194335937500001 '\n",
      "'Epoch: 284'\n",
      "'training loss is 0.06386391953988509 '\n",
      "'training accuracy is 0.984659090909091 '\n",
      "'Epoch: 284'\n"
     ]
    },
    {
     "name": "stderr",
     "output_type": "stream",
     "text": [
      "\r",
      " 11%|█▏        | 284/2499 [08:31<1:05:32,  1.78s/it]"
     ]
    },
    {
     "name": "stdout",
     "output_type": "stream",
     "text": [
      "'validation loss is 1.0589932382106781 '\n",
      "'validation accuracy is 0.8194335937500004 '\n",
      "'Epoch: 285'\n",
      "'training loss is 0.06381163102659312 '\n",
      "'training accuracy is 0.984659090909091 '\n",
      "'Epoch: 285'\n"
     ]
    },
    {
     "name": "stderr",
     "output_type": "stream",
     "text": [
      "\r",
      " 11%|█▏        | 285/2499 [08:33<1:06:25,  1.80s/it]"
     ]
    },
    {
     "name": "stdout",
     "output_type": "stream",
     "text": [
      "'validation loss is 1.059358537197113 '\n",
      "'validation accuracy is 0.8191406250000002 '\n",
      "'Epoch: 286'\n",
      "'training loss is 0.06384696845303882 '\n",
      "'training accuracy is 0.9846590909090908 '\n",
      "'Epoch: 286'\n"
     ]
    },
    {
     "name": "stderr",
     "output_type": "stream",
     "text": [
      "\r",
      " 11%|█▏        | 286/2499 [08:35<1:06:18,  1.80s/it]"
     ]
    },
    {
     "name": "stdout",
     "output_type": "stream",
     "text": [
      "'validation loss is 1.0591146141290664 '\n",
      "'validation accuracy is 0.819140625 '\n",
      "'Epoch: 287'\n",
      "'training loss is 0.06389773941852829 '\n",
      "'training accuracy is 0.9846590909090908 '\n",
      "'Epoch: 287'\n"
     ]
    },
    {
     "name": "stderr",
     "output_type": "stream",
     "text": [
      "\r",
      " 11%|█▏        | 287/2499 [08:37<1:06:54,  1.81s/it]"
     ]
    },
    {
     "name": "stdout",
     "output_type": "stream",
     "text": [
      "'validation loss is 1.0550760641694068 '\n",
      "'validation accuracy is 0.8194335937500001 '\n",
      "'Epoch: 288'\n",
      "'training loss is 0.06397069279443134 '\n",
      "'training accuracy is 0.9846590909090908 '\n",
      "'Epoch: 288'\n"
     ]
    },
    {
     "name": "stderr",
     "output_type": "stream",
     "text": [
      "\r",
      " 12%|█▏        | 288/2499 [08:38<1:06:45,  1.81s/it]"
     ]
    },
    {
     "name": "stdout",
     "output_type": "stream",
     "text": [
      "'validation loss is 1.0528120383620263 '\n",
      "'validation accuracy is 0.8200195312500004 '\n",
      "'Epoch: 289'\n",
      "'training loss is 0.06374956328760494 '\n",
      "'training accuracy is 0.9846590909090908 '\n",
      "'Epoch: 289'\n"
     ]
    },
    {
     "name": "stderr",
     "output_type": "stream",
     "text": [
      "\r",
      " 12%|█▏        | 289/2499 [08:40<1:06:14,  1.80s/it]"
     ]
    },
    {
     "name": "stdout",
     "output_type": "stream",
     "text": [
      "'validation loss is 1.058028092980385 '\n",
      "'validation accuracy is 0.8194335937500001 '\n",
      "'Epoch: 290'\n",
      "'training loss is 0.06384727968411012 '\n",
      "'training accuracy is 0.9846590909090911 '\n",
      "'Epoch: 290'\n"
     ]
    },
    {
     "name": "stderr",
     "output_type": "stream",
     "text": [
      "\r",
      " 12%|█▏        | 290/2499 [08:42<1:05:55,  1.79s/it]"
     ]
    },
    {
     "name": "stdout",
     "output_type": "stream",
     "text": [
      "'validation loss is 1.0559568226337432 '\n",
      "'validation accuracy is 0.8197265625000003 '\n",
      "'Epoch: 291'\n",
      "'training loss is 0.06390218741514465 '\n",
      "'training accuracy is 0.984659090909091 '\n",
      "'Epoch: 291'\n"
     ]
    },
    {
     "name": "stderr",
     "output_type": "stream",
     "text": [
      "\r",
      " 12%|█▏        | 291/2499 [08:44<1:06:34,  1.81s/it]"
     ]
    },
    {
     "name": "stdout",
     "output_type": "stream",
     "text": [
      "'validation loss is 1.0562325030565263 '\n",
      "'validation accuracy is 0.8194335937500001 '\n",
      "'Epoch: 292'\n",
      "'training loss is 0.06388750672340393 '\n",
      "'training accuracy is 0.984659090909091 '\n",
      "'Epoch: 292'\n"
     ]
    },
    {
     "name": "stderr",
     "output_type": "stream",
     "text": [
      "\r",
      " 12%|█▏        | 292/2499 [08:46<1:05:28,  1.78s/it]"
     ]
    },
    {
     "name": "stdout",
     "output_type": "stream",
     "text": [
      "'validation loss is 1.0557790011167527 '\n",
      "'validation accuracy is 0.8197265625000002 '\n",
      "'Epoch: 293'\n",
      "'training loss is 0.0639176494018598 '\n",
      "'training accuracy is 0.984659090909091 '\n",
      "'Epoch: 293'\n"
     ]
    },
    {
     "name": "stderr",
     "output_type": "stream",
     "text": [
      "\r",
      " 12%|█▏        | 293/2499 [08:47<1:05:03,  1.77s/it]"
     ]
    },
    {
     "name": "stdout",
     "output_type": "stream",
     "text": [
      "'validation loss is 1.0523041933774948 '\n",
      "'validation accuracy is 0.8197265625000002 '\n",
      "'Epoch: 294'\n",
      "'training loss is 0.06381674280220812 '\n",
      "'training accuracy is 0.9846590909090908 '\n",
      "'Epoch: 294'\n"
     ]
    },
    {
     "name": "stderr",
     "output_type": "stream",
     "text": [
      "\r",
      " 12%|█▏        | 294/2499 [08:49<1:05:53,  1.79s/it]"
     ]
    },
    {
     "name": "stdout",
     "output_type": "stream",
     "text": [
      "'validation loss is 1.0498250305652619 '\n",
      "'validation accuracy is 0.8200195312500002 '\n",
      "'Epoch: 295'\n",
      "'training loss is 0.06378851018168709 '\n",
      "'training accuracy is 0.9846590909090911 '\n",
      "'Epoch: 295'\n"
     ]
    },
    {
     "name": "stderr",
     "output_type": "stream",
     "text": [
      "\r",
      " 12%|█▏        | 295/2499 [08:51<1:06:47,  1.82s/it]"
     ]
    },
    {
     "name": "stdout",
     "output_type": "stream",
     "text": [
      "'validation loss is 1.0563713997602462 '\n",
      "'validation accuracy is 0.8200195312500002 '\n",
      "'Epoch: 296'\n",
      "'training loss is 0.06385831805792722 '\n",
      "'training accuracy is 0.984659090909091 '\n",
      "'Epoch: 296'\n"
     ]
    },
    {
     "name": "stderr",
     "output_type": "stream",
     "text": [
      "\r",
      " 12%|█▏        | 296/2499 [08:53<1:05:38,  1.79s/it]"
     ]
    },
    {
     "name": "stdout",
     "output_type": "stream",
     "text": [
      "'validation loss is 1.057902279496193 '\n",
      "'validation accuracy is 0.8194335937500001 '\n",
      "'Epoch: 297'\n",
      "'training loss is 0.06376387348229234 '\n",
      "'training accuracy is 0.984659090909091 '\n",
      "'Epoch: 297'\n"
     ]
    },
    {
     "name": "stderr",
     "output_type": "stream",
     "text": [
      "\r",
      " 12%|█▏        | 297/2499 [08:55<1:05:58,  1.80s/it]"
     ]
    },
    {
     "name": "stdout",
     "output_type": "stream",
     "text": [
      "'validation loss is 1.0578975543379783 '\n",
      "'validation accuracy is 0.8197265625000002 '\n",
      "'Epoch: 298'\n",
      "'training loss is 0.06369420886039734 '\n",
      "'training accuracy is 0.9846590909090911 '\n",
      "'Epoch: 298'\n"
     ]
    },
    {
     "name": "stderr",
     "output_type": "stream",
     "text": [
      "\r",
      " 12%|█▏        | 298/2499 [08:56<1:05:46,  1.79s/it]"
     ]
    },
    {
     "name": "stdout",
     "output_type": "stream",
     "text": [
      "'validation loss is 1.0565274193882943 '\n",
      "'validation accuracy is 0.8197265625000002 '\n",
      "'Epoch: 299'\n",
      "'training loss is 0.06390809843486006 '\n",
      "'training accuracy is 0.984659090909091 '\n",
      "'Epoch: 299'\n"
     ]
    },
    {
     "name": "stderr",
     "output_type": "stream",
     "text": [
      "\r",
      " 12%|█▏        | 299/2499 [08:58<1:06:16,  1.81s/it]"
     ]
    },
    {
     "name": "stdout",
     "output_type": "stream",
     "text": [
      "'validation loss is 1.0547037690877914 '\n",
      "'validation accuracy is 0.8197265625000003 '\n",
      "'Epoch: 300'\n",
      "'training loss is 0.06381920589642091 '\n",
      "'training accuracy is 0.9846590909090908 '\n",
      "'Epoch: 300'\n"
     ]
    },
    {
     "name": "stderr",
     "output_type": "stream",
     "text": [
      "\r",
      " 12%|█▏        | 300/2499 [09:00<1:06:09,  1.81s/it]"
     ]
    },
    {
     "name": "stdout",
     "output_type": "stream",
     "text": [
      "'validation loss is 1.053255346417427 '\n",
      "'validation accuracy is 0.8197265625000003 '\n",
      "'Epoch: 301'\n",
      "'training loss is 0.06375936757434499 '\n",
      "'training accuracy is 0.984659090909091 '\n",
      "'Epoch: 301'\n"
     ]
    },
    {
     "name": "stderr",
     "output_type": "stream",
     "text": [
      "\r",
      " 12%|█▏        | 301/2499 [09:02<1:06:11,  1.81s/it]"
     ]
    },
    {
     "name": "stdout",
     "output_type": "stream",
     "text": [
      "'validation loss is 1.05102541744709 '\n",
      "'validation accuracy is 0.8200195312500002 '\n",
      "'Epoch: 302'\n",
      "'training loss is 0.06366322562098503 '\n",
      "'training accuracy is 0.9846590909090908 '\n",
      "'Epoch: 302'\n"
     ]
    },
    {
     "name": "stderr",
     "output_type": "stream",
     "text": [
      "\r",
      " 12%|█▏        | 302/2499 [09:04<1:07:53,  1.85s/it]"
     ]
    },
    {
     "name": "stdout",
     "output_type": "stream",
     "text": [
      "'validation loss is 1.0545186132192612 '\n",
      "'validation accuracy is 0.8197265625000002 '\n",
      "'Epoch: 303'\n",
      "'training loss is 0.06380322101441296 '\n",
      "'training accuracy is 0.984659090909091 '\n",
      "'Epoch: 303'\n"
     ]
    },
    {
     "name": "stderr",
     "output_type": "stream",
     "text": [
      "\r",
      " 12%|█▏        | 303/2499 [09:06<1:07:03,  1.83s/it]"
     ]
    },
    {
     "name": "stdout",
     "output_type": "stream",
     "text": [
      "'validation loss is 1.0598219186067581 '\n",
      "'validation accuracy is 0.81943359375 '\n",
      "'Epoch: 304'\n",
      "'training loss is 0.06376875835386189 '\n",
      "'training accuracy is 0.9846590909090908 '\n",
      "'Epoch: 304'\n"
     ]
    },
    {
     "name": "stderr",
     "output_type": "stream",
     "text": [
      "\r",
      " 12%|█▏        | 304/2499 [09:07<1:07:04,  1.83s/it]"
     ]
    },
    {
     "name": "stdout",
     "output_type": "stream",
     "text": [
      "'validation loss is 1.062673994898796 '\n",
      "'validation accuracy is 0.8191406250000004 '\n",
      "'Epoch: 305'\n",
      "'training loss is 0.06357994099909609 '\n",
      "'training accuracy is 0.9846590909090908 '\n",
      "'Epoch: 305'\n"
     ]
    },
    {
     "name": "stderr",
     "output_type": "stream",
     "text": [
      "\r",
      " 12%|█▏        | 305/2499 [09:09<1:05:26,  1.79s/it]"
     ]
    },
    {
     "name": "stdout",
     "output_type": "stream",
     "text": [
      "'validation loss is 1.0547388032078744 '\n",
      "'validation accuracy is 0.8200195312500002 '\n",
      "'Epoch: 306'\n",
      "'training loss is 0.06375892494212497 '\n",
      "'training accuracy is 0.9846590909090908 '\n",
      "'Epoch: 306'\n"
     ]
    },
    {
     "name": "stderr",
     "output_type": "stream",
     "text": [
      "\r",
      " 12%|█▏        | 306/2499 [09:11<1:05:42,  1.80s/it]"
     ]
    },
    {
     "name": "stdout",
     "output_type": "stream",
     "text": [
      "'validation loss is 1.0557783290743827 '\n",
      "'validation accuracy is 0.8200195312500002 '\n",
      "'Epoch: 307'\n",
      "'training loss is 0.06382789598269896 '\n",
      "'training accuracy is 0.984659090909091 '\n",
      "'Epoch: 307'\n"
     ]
    },
    {
     "name": "stderr",
     "output_type": "stream",
     "text": [
      "\r",
      " 12%|█▏        | 307/2499 [09:13<1:05:56,  1.80s/it]"
     ]
    },
    {
     "name": "stdout",
     "output_type": "stream",
     "text": [
      "'validation loss is 1.0534282729029656 '\n",
      "'validation accuracy is 0.8197265625000003 '\n",
      "'Epoch: 308'\n",
      "'training loss is 0.06373838064345447 '\n",
      "'training accuracy is 0.984659090909091 '\n",
      "'Epoch: 308'\n"
     ]
    },
    {
     "name": "stderr",
     "output_type": "stream",
     "text": [
      "\r",
      " 12%|█▏        | 308/2499 [09:15<1:06:45,  1.83s/it]"
     ]
    },
    {
     "name": "stdout",
     "output_type": "stream",
     "text": [
      "'validation loss is 1.053123578429222 '\n",
      "'validation accuracy is 0.8194335937500001 '\n",
      "'Epoch: 309'\n",
      "'training loss is 0.06385819580067288 '\n",
      "'training accuracy is 0.984659090909091 '\n",
      "'Epoch: 309'\n"
     ]
    },
    {
     "name": "stderr",
     "output_type": "stream",
     "text": [
      "\r",
      " 12%|█▏        | 309/2499 [09:16<1:07:02,  1.84s/it]"
     ]
    },
    {
     "name": "stdout",
     "output_type": "stream",
     "text": [
      "'validation loss is 1.0548804521560669 '\n",
      "'validation accuracy is 0.8194335937500004 '\n",
      "'Epoch: 310'\n",
      "'training loss is 0.06379717046564276 '\n",
      "'training accuracy is 0.984659090909091 '\n",
      "'Epoch: 310'\n"
     ]
    },
    {
     "name": "stderr",
     "output_type": "stream",
     "text": [
      "\r",
      " 12%|█▏        | 310/2499 [09:18<1:05:33,  1.80s/it]"
     ]
    },
    {
     "name": "stdout",
     "output_type": "stream",
     "text": [
      "'validation loss is 1.054916724562645 '\n",
      "'validation accuracy is 0.8197265625000002 '\n",
      "'Epoch: 311'\n",
      "'training loss is 0.06366311995820566 '\n",
      "'training accuracy is 0.984659090909091 '\n",
      "'Epoch: 311'\n"
     ]
    },
    {
     "name": "stderr",
     "output_type": "stream",
     "text": [
      "\r",
      " 12%|█▏        | 311/2499 [09:20<1:05:16,  1.79s/it]"
     ]
    },
    {
     "name": "stdout",
     "output_type": "stream",
     "text": [
      "'validation loss is 1.0560537993907928 '\n",
      "'validation accuracy is 0.8197265625000002 '\n",
      "'Epoch: 312'\n",
      "'training loss is 0.06375022808259184 '\n",
      "'training accuracy is 0.9846590909090908 '\n",
      "'Epoch: 312'\n"
     ]
    },
    {
     "name": "stderr",
     "output_type": "stream",
     "text": [
      "\r",
      " 12%|█▏        | 312/2499 [09:22<1:06:12,  1.82s/it]"
     ]
    },
    {
     "name": "stdout",
     "output_type": "stream",
     "text": [
      "'validation loss is 1.0534799367189407 '\n",
      "'validation accuracy is 0.8197265625000002 '\n",
      "'Epoch: 313'\n",
      "'training loss is 0.06380689550529826 '\n",
      "'training accuracy is 0.984659090909091 '\n",
      "'Epoch: 313'\n"
     ]
    },
    {
     "name": "stderr",
     "output_type": "stream",
     "text": [
      "\r",
      " 13%|█▎        | 313/2499 [09:24<1:06:30,  1.83s/it]"
     ]
    },
    {
     "name": "stdout",
     "output_type": "stream",
     "text": [
      "'validation loss is 1.0605495989322662 '\n",
      "'validation accuracy is 0.8194335937500001 '\n",
      "'Epoch: 314'\n",
      "'training loss is 0.06363082812591032 '\n",
      "'training accuracy is 0.984659090909091 '\n",
      "'Epoch: 314'\n"
     ]
    },
    {
     "name": "stderr",
     "output_type": "stream",
     "text": [
      "\r",
      " 13%|█▎        | 314/2499 [09:26<1:07:32,  1.85s/it]"
     ]
    },
    {
     "name": "stdout",
     "output_type": "stream",
     "text": [
      "'validation loss is 1.056072174012661 '\n",
      "'validation accuracy is 0.8194335937500001 '\n",
      "'Epoch: 315'\n",
      "'training loss is 0.0637088306248188 '\n",
      "'training accuracy is 0.984659090909091 '\n",
      "'Epoch: 315'\n"
     ]
    },
    {
     "name": "stderr",
     "output_type": "stream",
     "text": [
      "\r",
      " 13%|█▎        | 315/2499 [09:27<1:07:36,  1.86s/it]"
     ]
    },
    {
     "name": "stdout",
     "output_type": "stream",
     "text": [
      "'validation loss is 1.056517869234085 '\n",
      "'validation accuracy is 0.8194335937500001 '\n",
      "'Epoch: 316'\n",
      "'training loss is 0.06386311284520409 '\n",
      "'training accuracy is 0.984659090909091 '\n",
      "'Epoch: 316'\n"
     ]
    },
    {
     "name": "stderr",
     "output_type": "stream",
     "text": [
      "\r",
      " 13%|█▎        | 316/2499 [09:29<1:07:27,  1.85s/it]"
     ]
    },
    {
     "name": "stdout",
     "output_type": "stream",
     "text": [
      "'validation loss is 1.0554237231612205 '\n",
      "'validation accuracy is 0.8194335937500001 '\n",
      "'Epoch: 317'\n",
      "'training loss is 0.06390862742608244 '\n",
      "'training accuracy is 0.9846590909090908 '\n",
      "'Epoch: 317'\n"
     ]
    },
    {
     "name": "stderr",
     "output_type": "stream",
     "text": [
      "\r",
      " 13%|█▎        | 317/2499 [09:31<1:06:59,  1.84s/it]"
     ]
    },
    {
     "name": "stdout",
     "output_type": "stream",
     "text": [
      "'validation loss is 1.0482652083039283 '\n",
      "'validation accuracy is 0.8206054687500004 '\n",
      "'Epoch: 318'\n",
      "'training loss is 0.06370929323814133 '\n",
      "'training accuracy is 0.9846590909090908 '\n",
      "'Epoch: 318'\n"
     ]
    },
    {
     "name": "stderr",
     "output_type": "stream",
     "text": [
      "\r",
      " 13%|█▎        | 318/2499 [09:33<1:06:29,  1.83s/it]"
     ]
    },
    {
     "name": "stdout",
     "output_type": "stream",
     "text": [
      "'validation loss is 1.05140400826931 '\n",
      "'validation accuracy is 0.8200195312500002 '\n",
      "'Epoch: 319'\n",
      "'training loss is 0.06389610029079697 '\n",
      "'training accuracy is 0.9846590909090908 '\n",
      "'Epoch: 319'\n"
     ]
    },
    {
     "name": "stderr",
     "output_type": "stream",
     "text": [
      "\r",
      " 13%|█▎        | 319/2499 [09:35<1:06:47,  1.84s/it]"
     ]
    },
    {
     "name": "stdout",
     "output_type": "stream",
     "text": [
      "'validation loss is 1.0475757509469985 '\n",
      "'validation accuracy is 0.8200195312500004 '\n",
      "'Epoch: 320'\n",
      "'training loss is 0.06386422162706201 '\n",
      "'training accuracy is 0.984659090909091 '\n",
      "'Epoch: 320'\n"
     ]
    },
    {
     "name": "stderr",
     "output_type": "stream",
     "text": [
      "\r",
      " 13%|█▎        | 320/2499 [09:37<1:07:14,  1.85s/it]"
     ]
    },
    {
     "name": "stdout",
     "output_type": "stream",
     "text": [
      "'validation loss is 1.0499891296029091 '\n",
      "'validation accuracy is 0.8200195312500002 '\n",
      "'Epoch: 321'\n",
      "'training loss is 0.06386946141719818 '\n",
      "'training accuracy is 0.9846590909090908 '\n",
      "'Epoch: 321'\n"
     ]
    },
    {
     "name": "stderr",
     "output_type": "stream",
     "text": [
      "\r",
      " 13%|█▎        | 321/2499 [09:38<1:05:36,  1.81s/it]"
     ]
    },
    {
     "name": "stdout",
     "output_type": "stream",
     "text": [
      "'validation loss is 1.0523743718862533 '\n",
      "'validation accuracy is 0.8200195312500002 '\n",
      "'Epoch: 322'\n",
      "'training loss is 0.06362024186687036 '\n",
      "'training accuracy is 0.984659090909091 '\n",
      "'Epoch: 322'\n"
     ]
    },
    {
     "name": "stderr",
     "output_type": "stream",
     "text": [
      "\r",
      " 13%|█▎        | 322/2499 [09:40<1:04:54,  1.79s/it]"
     ]
    },
    {
     "name": "stdout",
     "output_type": "stream",
     "text": [
      "'validation loss is 1.0584824830293655 '\n",
      "'validation accuracy is 0.8191406250000002 '\n",
      "'Epoch: 323'\n",
      "'training loss is 0.06386971676891501 '\n",
      "'training accuracy is 0.984659090909091 '\n",
      "'Epoch: 323'\n"
     ]
    },
    {
     "name": "stderr",
     "output_type": "stream",
     "text": [
      "\r",
      " 13%|█▎        | 323/2499 [09:42<1:06:07,  1.82s/it]"
     ]
    },
    {
     "name": "stdout",
     "output_type": "stream",
     "text": [
      "'validation loss is 1.05846828520298 '\n",
      "'validation accuracy is 0.8191406250000004 '\n",
      "'Epoch: 324'\n",
      "'training loss is 0.06372808665037155 '\n",
      "'training accuracy is 0.9846590909090908 '\n",
      "'Epoch: 324'\n"
     ]
    },
    {
     "name": "stderr",
     "output_type": "stream",
     "text": [
      "\r",
      " 13%|█▎        | 324/2499 [09:44<1:04:57,  1.79s/it]"
     ]
    },
    {
     "name": "stdout",
     "output_type": "stream",
     "text": [
      "'validation loss is 1.0549632385373116 '\n",
      "'validation accuracy is 0.8200195312500004 '\n",
      "'Epoch: 325'\n",
      "'training loss is 0.06391992623155768 '\n",
      "'training accuracy is 0.9846590909090908 '\n",
      "'Epoch: 325'\n"
     ]
    },
    {
     "name": "stderr",
     "output_type": "stream",
     "text": [
      "\r",
      " 13%|█▎        | 325/2499 [09:46<1:05:15,  1.80s/it]"
     ]
    },
    {
     "name": "stdout",
     "output_type": "stream",
     "text": [
      "'validation loss is 1.0567275285720825 '\n",
      "'validation accuracy is 0.8194335937500001 '\n",
      "'Epoch: 326'\n",
      "'training loss is 0.06362186372280121 '\n",
      "'training accuracy is 0.984659090909091 '\n",
      "'Epoch: 326'\n"
     ]
    },
    {
     "name": "stderr",
     "output_type": "stream",
     "text": [
      "\r",
      " 13%|█▎        | 326/2499 [09:47<1:05:02,  1.80s/it]"
     ]
    },
    {
     "name": "stdout",
     "output_type": "stream",
     "text": [
      "'validation loss is 1.0567578613758086 '\n",
      "'validation accuracy is 0.8194335937500001 '\n",
      "'Epoch: 327'\n",
      "'training loss is 0.06363836506550963 '\n",
      "'training accuracy is 0.984659090909091 '\n",
      "'Epoch: 327'\n"
     ]
    },
    {
     "name": "stderr",
     "output_type": "stream",
     "text": [
      "\r",
      " 13%|█▎        | 327/2499 [09:49<1:05:33,  1.81s/it]"
     ]
    },
    {
     "name": "stdout",
     "output_type": "stream",
     "text": [
      "'validation loss is 1.0574357777833938 '\n",
      "'validation accuracy is 0.8197265625000002 '\n",
      "'Epoch: 328'\n",
      "'training loss is 0.06357698819854042 '\n",
      "'training accuracy is 0.9846590909090908 '\n",
      "'Epoch: 328'\n"
     ]
    },
    {
     "name": "stderr",
     "output_type": "stream",
     "text": [
      "\r",
      " 13%|█▎        | 328/2499 [09:51<1:04:51,  1.79s/it]"
     ]
    },
    {
     "name": "stdout",
     "output_type": "stream",
     "text": [
      "'validation loss is 1.058903107047081 '\n",
      "'validation accuracy is 0.8191406250000002 '\n",
      "'Epoch: 329'\n",
      "'training loss is 0.06393860551443967 '\n",
      "'training accuracy is 0.984659090909091 '\n",
      "'Epoch: 329'\n"
     ]
    },
    {
     "name": "stderr",
     "output_type": "stream",
     "text": [
      "\r",
      " 13%|█▎        | 329/2499 [09:53<1:04:06,  1.77s/it]"
     ]
    },
    {
     "name": "stdout",
     "output_type": "stream",
     "text": [
      "'validation loss is 1.0592285245656967 '\n",
      "'validation accuracy is 0.8197265625000002 '\n",
      "'Epoch: 330'\n",
      "'training loss is 0.06390713832595131 '\n",
      "'training accuracy is 0.984659090909091 '\n",
      "'Epoch: 330'\n"
     ]
    },
    {
     "name": "stderr",
     "output_type": "stream",
     "text": [
      "\r",
      " 13%|█▎        | 330/2499 [09:54<1:04:53,  1.79s/it]"
     ]
    },
    {
     "name": "stdout",
     "output_type": "stream",
     "text": [
      "'validation loss is 1.0572702944278718 '\n",
      "'validation accuracy is 0.8194335937500001 '\n",
      "'Epoch: 331'\n",
      "'training loss is 0.0638085925443606 '\n",
      "'training accuracy is 0.984659090909091 '\n",
      "'Epoch: 331'\n"
     ]
    },
    {
     "name": "stderr",
     "output_type": "stream",
     "text": [
      "\r",
      " 13%|█▎        | 331/2499 [09:56<1:05:08,  1.80s/it]"
     ]
    },
    {
     "name": "stdout",
     "output_type": "stream",
     "text": [
      "'validation loss is 1.0531344294548035 '\n",
      "'validation accuracy is 0.8194335937500001 '\n",
      "'Epoch: 332'\n",
      "'training loss is 0.06382221254435452 '\n",
      "'training accuracy is 0.984659090909091 '\n",
      "'Epoch: 332'\n"
     ]
    },
    {
     "name": "stderr",
     "output_type": "stream",
     "text": [
      "\r",
      " 13%|█▎        | 332/2499 [09:58<1:04:41,  1.79s/it]"
     ]
    },
    {
     "name": "stdout",
     "output_type": "stream",
     "text": [
      "'validation loss is 1.0536509916186332 '\n",
      "'validation accuracy is 0.8194335937500001 '\n",
      "'Epoch: 333'\n",
      "'training loss is 0.06399510834704746 '\n",
      "'training accuracy is 0.9846590909090908 '\n",
      "'Epoch: 333'\n"
     ]
    },
    {
     "name": "stderr",
     "output_type": "stream",
     "text": [
      "\r",
      " 13%|█▎        | 333/2499 [10:00<1:04:31,  1.79s/it]"
     ]
    },
    {
     "name": "stdout",
     "output_type": "stream",
     "text": [
      "'validation loss is 1.0515666514635087 '\n",
      "'validation accuracy is 0.8194335937500001 '\n",
      "'Epoch: 334'\n",
      "'training loss is 0.0636542984707789 '\n",
      "'training accuracy is 0.984659090909091 '\n",
      "'Epoch: 334'\n"
     ]
    },
    {
     "name": "stderr",
     "output_type": "stream",
     "text": [
      "\r",
      " 13%|█▎        | 334/2499 [10:02<1:04:55,  1.80s/it]"
     ]
    },
    {
     "name": "stdout",
     "output_type": "stream",
     "text": [
      "'validation loss is 1.0511464044451713 '\n",
      "'validation accuracy is 0.8197265625000002 '\n",
      "'Epoch: 335'\n",
      "'training loss is 0.06374345855279402 '\n",
      "'training accuracy is 0.9846590909090908 '\n",
      "'Epoch: 335'\n"
     ]
    },
    {
     "name": "stderr",
     "output_type": "stream",
     "text": [
      "\r",
      " 13%|█▎        | 335/2499 [10:03<1:04:45,  1.80s/it]"
     ]
    },
    {
     "name": "stdout",
     "output_type": "stream",
     "text": [
      "'validation loss is 1.049515601992607 '\n",
      "'validation accuracy is 0.8194335937500001 '\n",
      "'Epoch: 336'\n",
      "'training loss is 0.06391559236428955 '\n",
      "'training accuracy is 0.9846590909090908 '\n",
      "'Epoch: 336'\n"
     ]
    },
    {
     "name": "stderr",
     "output_type": "stream",
     "text": [
      "\r",
      " 13%|█▎        | 336/2499 [10:05<1:05:01,  1.80s/it]"
     ]
    },
    {
     "name": "stdout",
     "output_type": "stream",
     "text": [
      "'validation loss is 1.053796249628067 '\n",
      "'validation accuracy is 0.8191406250000002 '\n",
      "'Epoch: 337'\n",
      "'training loss is 0.06358600577170198 '\n",
      "'training accuracy is 0.984659090909091 '\n",
      "'Epoch: 337'\n"
     ]
    },
    {
     "name": "stderr",
     "output_type": "stream",
     "text": [
      "\r",
      " 13%|█▎        | 337/2499 [10:07<1:05:32,  1.82s/it]"
     ]
    },
    {
     "name": "stdout",
     "output_type": "stream",
     "text": [
      "'validation loss is 1.0498794257640838 '\n",
      "'validation accuracy is 0.8200195312500002 '\n",
      "'Epoch: 338'\n",
      "'training loss is 0.06378099660981786 '\n",
      "'training accuracy is 0.984659090909091 '\n",
      "'Epoch: 338'\n"
     ]
    },
    {
     "name": "stderr",
     "output_type": "stream",
     "text": [
      "\r",
      " 14%|█▎        | 338/2499 [10:09<1:05:21,  1.81s/it]"
     ]
    },
    {
     "name": "stdout",
     "output_type": "stream",
     "text": [
      "'validation loss is 1.050392235815525 '\n",
      "'validation accuracy is 0.8203125000000002 '\n",
      "'Epoch: 339'\n",
      "'training loss is 0.06393427740443837 '\n",
      "'training accuracy is 0.9846590909090911 '\n",
      "'Epoch: 339'\n"
     ]
    },
    {
     "name": "stderr",
     "output_type": "stream",
     "text": [
      "\r",
      " 14%|█▎        | 339/2499 [10:11<1:04:56,  1.80s/it]"
     ]
    },
    {
     "name": "stdout",
     "output_type": "stream",
     "text": [
      "'validation loss is 1.0528094947338105 '\n",
      "'validation accuracy is 0.8194335937500001 '\n",
      "'Epoch: 340'\n",
      "'training loss is 0.06379267607222903 '\n",
      "'training accuracy is 0.9846590909090908 '\n",
      "'Epoch: 340'\n"
     ]
    },
    {
     "name": "stderr",
     "output_type": "stream",
     "text": [
      "\r",
      " 14%|█▎        | 340/2499 [10:13<1:04:45,  1.80s/it]"
     ]
    },
    {
     "name": "stdout",
     "output_type": "stream",
     "text": [
      "'validation loss is 1.0516019642353058 '\n",
      "'validation accuracy is 0.8197265625000002 '\n",
      "'Epoch: 341'\n",
      "'training loss is 0.06380649012598125 '\n",
      "'training accuracy is 0.984659090909091 '\n",
      "'Epoch: 341'\n"
     ]
    },
    {
     "name": "stderr",
     "output_type": "stream",
     "text": [
      "\r",
      " 14%|█▎        | 341/2499 [10:14<1:04:20,  1.79s/it]"
     ]
    },
    {
     "name": "stdout",
     "output_type": "stream",
     "text": [
      "'validation loss is 1.0500424802303314 '\n",
      "'validation accuracy is 0.8200195312500002 '\n",
      "'Epoch: 342'\n",
      "'training loss is 0.06364844349974935 '\n",
      "'training accuracy is 0.9846590909090911 '\n",
      "'Epoch: 342'\n"
     ]
    },
    {
     "name": "stderr",
     "output_type": "stream",
     "text": [
      "\r",
      " 14%|█▎        | 342/2499 [10:16<1:04:36,  1.80s/it]"
     ]
    },
    {
     "name": "stdout",
     "output_type": "stream",
     "text": [
      "'validation loss is 1.0529579669237137 '\n",
      "'validation accuracy is 0.8194335937500001 '\n",
      "'Epoch: 343'\n",
      "'training loss is 0.06374314799904823 '\n",
      "'training accuracy is 0.984659090909091 '\n",
      "'Epoch: 343'\n"
     ]
    },
    {
     "name": "stderr",
     "output_type": "stream",
     "text": [
      "\r",
      " 14%|█▎        | 343/2499 [10:18<1:04:48,  1.80s/it]"
     ]
    },
    {
     "name": "stdout",
     "output_type": "stream",
     "text": [
      "'validation loss is 1.05418853610754 '\n",
      "'validation accuracy is 0.8194335937500004 '\n",
      "'Epoch: 344'\n",
      "'training loss is 0.06363095614043149 '\n",
      "'training accuracy is 0.984659090909091 '\n",
      "'Epoch: 344'\n"
     ]
    },
    {
     "name": "stderr",
     "output_type": "stream",
     "text": [
      "\r",
      " 14%|█▍        | 344/2499 [10:20<1:05:29,  1.82s/it]"
     ]
    },
    {
     "name": "stdout",
     "output_type": "stream",
     "text": [
      "'validation loss is 1.0501478120684624 '\n",
      "'validation accuracy is 0.8191406250000002 '\n",
      "'Epoch: 345'\n",
      "'training loss is 0.06386794116009366 '\n",
      "'training accuracy is 0.984659090909091 '\n",
      "'Epoch: 345'\n"
     ]
    },
    {
     "name": "stderr",
     "output_type": "stream",
     "text": [
      "\r",
      " 14%|█▍        | 345/2499 [10:22<1:04:53,  1.81s/it]"
     ]
    },
    {
     "name": "stdout",
     "output_type": "stream",
     "text": [
      "'validation loss is 1.0506723538041114 '\n",
      "'validation accuracy is 0.8194335937500001 '\n",
      "'Epoch: 346'\n",
      "'training loss is 0.06378766352480109 '\n",
      "'training accuracy is 0.9846590909090908 '\n",
      "'Epoch: 346'\n"
     ]
    },
    {
     "name": "stderr",
     "output_type": "stream",
     "text": [
      "\r",
      " 14%|█▍        | 346/2499 [10:23<1:04:58,  1.81s/it]"
     ]
    },
    {
     "name": "stdout",
     "output_type": "stream",
     "text": [
      "'validation loss is 1.05687263160944 '\n",
      "'validation accuracy is 0.8191406250000002 '\n",
      "'Epoch: 347'\n",
      "'training loss is 0.06381942839785056 '\n",
      "'training accuracy is 0.9846590909090908 '\n",
      "'Epoch: 347'\n"
     ]
    },
    {
     "name": "stderr",
     "output_type": "stream",
     "text": [
      "\r",
      " 14%|█▍        | 347/2499 [10:25<1:04:57,  1.81s/it]"
     ]
    },
    {
     "name": "stdout",
     "output_type": "stream",
     "text": [
      "'validation loss is 1.0490080028772355 '\n",
      "'validation accuracy is 0.8197265625000002 '\n",
      "'Epoch: 348'\n",
      "'training loss is 0.0637751773677089 '\n",
      "'training accuracy is 0.9846590909090908 '\n",
      "'Epoch: 348'\n"
     ]
    },
    {
     "name": "stderr",
     "output_type": "stream",
     "text": [
      "\r",
      " 14%|█▍        | 348/2499 [10:27<1:04:29,  1.80s/it]"
     ]
    },
    {
     "name": "stdout",
     "output_type": "stream",
     "text": [
      "'validation loss is 1.0522073328495025 '\n",
      "'validation accuracy is 0.81943359375 '\n",
      "'Epoch: 349'\n",
      "'training loss is 0.06397125057198784 '\n",
      "'training accuracy is 0.9846590909090908 '\n",
      "'Epoch: 349'\n"
     ]
    },
    {
     "name": "stderr",
     "output_type": "stream",
     "text": [
      "\r",
      " 14%|█▍        | 349/2499 [10:29<1:04:05,  1.79s/it]"
     ]
    },
    {
     "name": "stdout",
     "output_type": "stream",
     "text": [
      "'validation loss is 1.0492277041077613 '\n",
      "'validation accuracy is 0.8197265625000002 '\n",
      "'Epoch: 350'\n",
      "'training loss is 0.06380446763201193 '\n",
      "'training accuracy is 0.9846590909090911 '\n",
      "'Epoch: 350'\n"
     ]
    },
    {
     "name": "stderr",
     "output_type": "stream",
     "text": [
      "\r",
      " 14%|█▍        | 350/2499 [10:31<1:04:19,  1.80s/it]"
     ]
    },
    {
     "name": "stdout",
     "output_type": "stream",
     "text": [
      "'validation loss is 1.050315611064434 '\n",
      "'validation accuracy is 0.8194335937500001 '\n",
      "'Epoch: 351'\n",
      "'training loss is 0.06379321217536926 '\n",
      "'training accuracy is 0.9846590909090908 '\n",
      "'Epoch: 351'\n"
     ]
    },
    {
     "name": "stderr",
     "output_type": "stream",
     "text": [
      "\r",
      " 14%|█▍        | 351/2499 [10:32<1:05:25,  1.83s/it]"
     ]
    },
    {
     "name": "stdout",
     "output_type": "stream",
     "text": [
      "'validation loss is 1.0439010247588159 '\n",
      "'validation accuracy is 0.8203125000000002 '\n",
      "'Epoch: 352'\n",
      "'training loss is 0.06373649632388895 '\n",
      "'training accuracy is 0.9846590909090911 '\n",
      "'Epoch: 352'\n"
     ]
    },
    {
     "name": "stderr",
     "output_type": "stream",
     "text": [
      "\r",
      " 14%|█▍        | 352/2499 [10:34<1:05:03,  1.82s/it]"
     ]
    },
    {
     "name": "stdout",
     "output_type": "stream",
     "text": [
      "'validation loss is 1.0493470221757888 '\n",
      "'validation accuracy is 0.8191406250000002 '\n",
      "'Epoch: 353'\n",
      "'training loss is 0.06367797099731186 '\n",
      "'training accuracy is 0.984659090909091 '\n",
      "'Epoch: 353'\n"
     ]
    },
    {
     "name": "stderr",
     "output_type": "stream",
     "text": [
      "\r",
      " 14%|█▍        | 353/2499 [10:36<1:06:02,  1.85s/it]"
     ]
    },
    {
     "name": "stdout",
     "output_type": "stream",
     "text": [
      "'validation loss is 1.051819495856762 '\n",
      "'validation accuracy is 0.8191406250000002 '\n",
      "'Epoch: 354'\n",
      "'training loss is 0.06382494724609634 '\n",
      "'training accuracy is 0.984659090909091 '\n",
      "'Epoch: 354'\n"
     ]
    },
    {
     "name": "stderr",
     "output_type": "stream",
     "text": [
      "\r",
      " 14%|█▍        | 354/2499 [10:38<1:04:52,  1.81s/it]"
     ]
    },
    {
     "name": "stdout",
     "output_type": "stream",
     "text": [
      "'validation loss is 1.0539604112505914 '\n",
      "'validation accuracy is 0.8194335937500001 '\n",
      "'Epoch: 355'\n",
      "'training loss is 0.06367968429218639 '\n",
      "'training accuracy is 0.9846590909090911 '\n",
      "'Epoch: 355'\n"
     ]
    },
    {
     "name": "stderr",
     "output_type": "stream",
     "text": [
      "\r",
      " 14%|█▍        | 355/2499 [10:40<1:04:48,  1.81s/it]"
     ]
    },
    {
     "name": "stdout",
     "output_type": "stream",
     "text": [
      "'validation loss is 1.0513964757323264 '\n",
      "'validation accuracy is 0.8200195312500002 '\n",
      "'Epoch: 356'\n",
      "'training loss is 0.06391836296428334 '\n",
      "'training accuracy is 0.984659090909091 '\n",
      "'Epoch: 356'\n"
     ]
    },
    {
     "name": "stderr",
     "output_type": "stream",
     "text": [
      "\r",
      " 14%|█▍        | 356/2499 [10:41<1:04:23,  1.80s/it]"
     ]
    },
    {
     "name": "stdout",
     "output_type": "stream",
     "text": [
      "'validation loss is 1.0482901960611344 '\n",
      "'validation accuracy is 0.8194335937500004 '\n",
      "'Epoch: 357'\n",
      "'training loss is 0.06364590843970125 '\n",
      "'training accuracy is 0.9846590909090908 '\n",
      "'Epoch: 357'\n"
     ]
    },
    {
     "name": "stderr",
     "output_type": "stream",
     "text": [
      "\r",
      " 14%|█▍        | 357/2499 [10:43<1:04:07,  1.80s/it]"
     ]
    },
    {
     "name": "stdout",
     "output_type": "stream",
     "text": [
      "'validation loss is 1.050595325231552 '\n",
      "'validation accuracy is 0.81943359375 '\n",
      "'Epoch: 358'\n",
      "'training loss is 0.0638476274907589 '\n",
      "'training accuracy is 0.984659090909091 '\n",
      "'Epoch: 358'\n"
     ]
    },
    {
     "name": "stderr",
     "output_type": "stream",
     "text": [
      "\r",
      " 14%|█▍        | 358/2499 [10:45<1:04:46,  1.82s/it]"
     ]
    },
    {
     "name": "stdout",
     "output_type": "stream",
     "text": [
      "'validation loss is 1.047157819569111 '\n",
      "'validation accuracy is 0.8200195312500002 '\n",
      "'Epoch: 359'\n",
      "'training loss is 0.06362429870800539 '\n",
      "'training accuracy is 0.984659090909091 '\n",
      "'Epoch: 359'\n"
     ]
    },
    {
     "name": "stderr",
     "output_type": "stream",
     "text": [
      "\r",
      " 14%|█▍        | 359/2499 [10:47<1:04:22,  1.81s/it]"
     ]
    },
    {
     "name": "stdout",
     "output_type": "stream",
     "text": [
      "'validation loss is 1.0493756845593452 '\n",
      "'validation accuracy is 0.8194335937500001 '\n",
      "'Epoch: 360'\n",
      "'training loss is 0.06380180404944853 '\n",
      "'training accuracy is 0.9846590909090908 '\n",
      "'Epoch: 360'\n"
     ]
    },
    {
     "name": "stderr",
     "output_type": "stream",
     "text": [
      "\r",
      " 14%|█▍        | 360/2499 [10:49<1:03:58,  1.79s/it]"
     ]
    },
    {
     "name": "stdout",
     "output_type": "stream",
     "text": [
      "'validation loss is 1.0488918259739877 '\n",
      "'validation accuracy is 0.8197265625000003 '\n",
      "'Epoch: 361'\n",
      "'training loss is 0.06384526735002344 '\n",
      "'training accuracy is 0.984659090909091 '\n",
      "'Epoch: 361'\n"
     ]
    },
    {
     "name": "stderr",
     "output_type": "stream",
     "text": [
      "\r",
      " 14%|█▍        | 361/2499 [10:50<1:04:05,  1.80s/it]"
     ]
    },
    {
     "name": "stdout",
     "output_type": "stream",
     "text": [
      "'validation loss is 1.0521370053291321 '\n",
      "'validation accuracy is 0.8191406250000002 '\n",
      "'Epoch: 362'\n",
      "'training loss is 0.06369856677272102 '\n",
      "'training accuracy is 0.9846590909090908 '\n",
      "'Epoch: 362'\n"
     ]
    },
    {
     "name": "stderr",
     "output_type": "stream",
     "text": [
      "\r",
      " 14%|█▍        | 362/2499 [10:52<1:05:34,  1.84s/it]"
     ]
    },
    {
     "name": "stdout",
     "output_type": "stream",
     "text": [
      "'validation loss is 1.0501957029104232 '\n",
      "'validation accuracy is 0.8194335937500001 '\n",
      "'Epoch: 363'\n",
      "'training loss is 0.06401678344065492 '\n",
      "'training accuracy is 0.984659090909091 '\n",
      "'Epoch: 363'\n"
     ]
    },
    {
     "name": "stderr",
     "output_type": "stream",
     "text": [
      "\r",
      " 15%|█▍        | 363/2499 [10:54<1:07:08,  1.89s/it]"
     ]
    },
    {
     "name": "stdout",
     "output_type": "stream",
     "text": [
      "'validation loss is 1.0450704872608185 '\n",
      "'validation accuracy is 0.8197265625000002 '\n",
      "'Epoch: 364'\n",
      "'training loss is 0.06357176330956546 '\n",
      "'training accuracy is 0.9846590909090908 '\n",
      "'Epoch: 364'\n"
     ]
    },
    {
     "name": "stderr",
     "output_type": "stream",
     "text": [
      "\r",
      " 15%|█▍        | 364/2499 [10:56<1:07:00,  1.88s/it]"
     ]
    },
    {
     "name": "stdout",
     "output_type": "stream",
     "text": [
      "'validation loss is 1.04589601457119 '\n",
      "'validation accuracy is 0.8197265625 '\n",
      "'Epoch: 365'\n",
      "'training loss is 0.0635019252923402 '\n",
      "'training accuracy is 0.984659090909091 '\n",
      "'Epoch: 365'\n"
     ]
    },
    {
     "name": "stderr",
     "output_type": "stream",
     "text": [
      "\r",
      " 15%|█▍        | 365/2499 [10:58<1:06:36,  1.87s/it]"
     ]
    },
    {
     "name": "stdout",
     "output_type": "stream",
     "text": [
      "'validation loss is 1.0467030808329583 '\n",
      "'validation accuracy is 0.8194335937500001 '\n",
      "'Epoch: 366'\n",
      "'training loss is 0.06368298693136736 '\n",
      "'training accuracy is 0.984659090909091 '\n",
      "'Epoch: 366'\n"
     ]
    },
    {
     "name": "stderr",
     "output_type": "stream",
     "text": [
      "\r",
      " 15%|█▍        | 366/2499 [11:00<1:06:01,  1.86s/it]"
     ]
    },
    {
     "name": "stdout",
     "output_type": "stream",
     "text": [
      "'validation loss is 1.049520979821682 '\n",
      "'validation accuracy is 0.8194335937500001 '\n",
      "'Epoch: 367'\n",
      "'training loss is 0.06361997601660815 '\n",
      "'training accuracy is 0.984659090909091 '\n",
      "'Epoch: 367'\n"
     ]
    },
    {
     "name": "stderr",
     "output_type": "stream",
     "text": [
      "\r",
      " 15%|█▍        | 367/2499 [11:02<1:07:23,  1.90s/it]"
     ]
    },
    {
     "name": "stdout",
     "output_type": "stream",
     "text": [
      "'validation loss is 1.0438221082091332 '\n",
      "'validation accuracy is 0.8203125000000002 '\n",
      "'Epoch: 368'\n",
      "'training loss is 0.06374555792320859 '\n",
      "'training accuracy is 0.984659090909091 '\n",
      "'Epoch: 368'\n"
     ]
    },
    {
     "name": "stderr",
     "output_type": "stream",
     "text": [
      "\r",
      " 15%|█▍        | 368/2499 [11:04<1:07:54,  1.91s/it]"
     ]
    },
    {
     "name": "stdout",
     "output_type": "stream",
     "text": [
      "'validation loss is 1.048133024573326 '\n",
      "'validation accuracy is 0.8194335937500001 '\n",
      "'Epoch: 369'\n",
      "'training loss is 0.06387767873027107 '\n",
      "'training accuracy is 0.984659090909091 '\n",
      "'Epoch: 369'\n"
     ]
    },
    {
     "name": "stderr",
     "output_type": "stream",
     "text": [
      "\r",
      " 15%|█▍        | 369/2499 [11:06<1:06:40,  1.88s/it]"
     ]
    },
    {
     "name": "stdout",
     "output_type": "stream",
     "text": [
      "'validation loss is 1.044925582408905 '\n",
      "'validation accuracy is 0.8197265625000002 '\n",
      "'Epoch: 370'\n",
      "'training loss is 0.06376982683485205 '\n",
      "'training accuracy is 0.984659090909091 '\n",
      "'Epoch: 370'\n"
     ]
    },
    {
     "name": "stderr",
     "output_type": "stream",
     "text": [
      "\r",
      " 15%|█▍        | 370/2499 [11:08<1:06:09,  1.86s/it]"
     ]
    },
    {
     "name": "stdout",
     "output_type": "stream",
     "text": [
      "'validation loss is 1.0465396836400032 '\n",
      "'validation accuracy is 0.8191406250000002 '\n",
      "'Epoch: 371'\n",
      "'training loss is 0.06363762678070502 '\n",
      "'training accuracy is 0.9846590909090908 '\n",
      "'Epoch: 371'\n"
     ]
    },
    {
     "name": "stderr",
     "output_type": "stream",
     "text": [
      "\r",
      " 15%|█▍        | 371/2499 [11:09<1:05:19,  1.84s/it]"
     ]
    },
    {
     "name": "stdout",
     "output_type": "stream",
     "text": [
      "'validation loss is 1.0506235092878342 '\n",
      "'validation accuracy is 0.8194335937500001 '\n",
      "'Epoch: 372'\n",
      "'training loss is 0.06375640292059291 '\n",
      "'training accuracy is 0.9846590909090911 '\n",
      "'Epoch: 372'\n"
     ]
    },
    {
     "name": "stderr",
     "output_type": "stream",
     "text": [
      "\r",
      " 15%|█▍        | 372/2499 [11:11<1:04:44,  1.83s/it]"
     ]
    },
    {
     "name": "stdout",
     "output_type": "stream",
     "text": [
      "'validation loss is 1.0506903573870658 '\n",
      "'validation accuracy is 0.8194335937500001 '\n",
      "'Epoch: 373'\n",
      "'training loss is 0.06370454687963832 '\n",
      "'training accuracy is 0.9846590909090908 '\n",
      "'Epoch: 373'\n"
     ]
    },
    {
     "name": "stderr",
     "output_type": "stream",
     "text": [
      "\r",
      " 15%|█▍        | 373/2499 [11:13<1:05:56,  1.86s/it]"
     ]
    },
    {
     "name": "stdout",
     "output_type": "stream",
     "text": [
      "'validation loss is 1.0544494152069093 '\n",
      "'validation accuracy is 0.8191406250000002 '\n",
      "'Epoch: 374'\n",
      "'training loss is 0.06382992795922539 '\n",
      "'training accuracy is 0.984659090909091 '\n",
      "'Epoch: 374'\n"
     ]
    },
    {
     "name": "stderr",
     "output_type": "stream",
     "text": [
      "\r",
      " 15%|█▍        | 374/2499 [11:15<1:06:00,  1.86s/it]"
     ]
    },
    {
     "name": "stdout",
     "output_type": "stream",
     "text": [
      "'validation loss is 1.0501184970140458 '\n",
      "'validation accuracy is 0.8194335937500004 '\n",
      "'Epoch: 375'\n",
      "'training loss is 0.0635750259865414 '\n",
      "'training accuracy is 0.9846590909090908 '\n",
      "'Epoch: 375'\n"
     ]
    },
    {
     "name": "stderr",
     "output_type": "stream",
     "text": [
      "\r",
      " 15%|█▌        | 375/2499 [11:17<1:04:36,  1.82s/it]"
     ]
    },
    {
     "name": "stdout",
     "output_type": "stream",
     "text": [
      "'validation loss is 1.0440520256757737 '\n",
      "'validation accuracy is 0.8200195312500002 '\n",
      "'Epoch: 376'\n",
      "'training loss is 0.06389524787664413 '\n",
      "'training accuracy is 0.984659090909091 '\n",
      "'Epoch: 376'\n"
     ]
    },
    {
     "name": "stderr",
     "output_type": "stream",
     "text": [
      "\r",
      " 15%|█▌        | 376/2499 [11:18<1:03:20,  1.79s/it]"
     ]
    },
    {
     "name": "stdout",
     "output_type": "stream",
     "text": [
      "'validation loss is 1.044946350157261 '\n",
      "'validation accuracy is 0.8200195312500004 '\n",
      "'Epoch: 377'\n",
      "'training loss is 0.06388009813698856 '\n",
      "'training accuracy is 0.9846590909090908 '\n",
      "'Epoch: 377'\n"
     ]
    },
    {
     "name": "stderr",
     "output_type": "stream",
     "text": [
      "\r",
      " 15%|█▌        | 377/2499 [11:20<1:02:59,  1.78s/it]"
     ]
    },
    {
     "name": "stdout",
     "output_type": "stream",
     "text": [
      "'validation loss is 1.0483251333236694 '\n",
      "'validation accuracy is 0.8197265625000002 '\n",
      "'Epoch: 378'\n",
      "'training loss is 0.06376113132996993 '\n",
      "'training accuracy is 0.984659090909091 '\n",
      "'Epoch: 378'\n"
     ]
    },
    {
     "name": "stderr",
     "output_type": "stream",
     "text": [
      "\r",
      " 15%|█▌        | 378/2499 [11:22<1:02:22,  1.76s/it]"
     ]
    },
    {
     "name": "stdout",
     "output_type": "stream",
     "text": [
      "'validation loss is 1.0472975388169288 '\n",
      "'validation accuracy is 0.8194335937500001 '\n",
      "'Epoch: 379'\n",
      "'training loss is 0.06352906945076855 '\n",
      "'training accuracy is 0.9846590909090908 '\n",
      "'Epoch: 379'\n"
     ]
    },
    {
     "name": "stderr",
     "output_type": "stream",
     "text": [
      "\r",
      " 15%|█▌        | 379/2499 [11:24<1:03:32,  1.80s/it]"
     ]
    },
    {
     "name": "stdout",
     "output_type": "stream",
     "text": [
      "'validation loss is 1.0500861942768096 '\n",
      "'validation accuracy is 0.8191406250000002 '\n",
      "'Epoch: 380'\n",
      "'training loss is 0.06374757973985239 '\n",
      "'training accuracy is 0.9846590909090908 '\n",
      "'Epoch: 380'\n"
     ]
    },
    {
     "name": "stderr",
     "output_type": "stream",
     "text": [
      "\r",
      " 15%|█▌        | 380/2499 [11:26<1:03:38,  1.80s/it]"
     ]
    },
    {
     "name": "stdout",
     "output_type": "stream",
     "text": [
      "'validation loss is 1.04526756554842 '\n",
      "'validation accuracy is 0.8194335937500001 '\n",
      "'Epoch: 381'\n",
      "'training loss is 0.06361301344904033 '\n",
      "'training accuracy is 0.984659090909091 '\n",
      "'Epoch: 381'\n"
     ]
    },
    {
     "name": "stderr",
     "output_type": "stream",
     "text": [
      "\r",
      " 15%|█▌        | 381/2499 [11:27<1:04:11,  1.82s/it]"
     ]
    },
    {
     "name": "stdout",
     "output_type": "stream",
     "text": [
      "'validation loss is 1.0482164070010185 '\n",
      "'validation accuracy is 0.8194335937500001 '\n",
      "'Epoch: 382'\n",
      "'training loss is 0.06377945366230878 '\n",
      "'training accuracy is 0.9846590909090908 '\n",
      "'Epoch: 382'\n"
     ]
    },
    {
     "name": "stderr",
     "output_type": "stream",
     "text": [
      "\r",
      " 15%|█▌        | 382/2499 [11:29<1:03:37,  1.80s/it]"
     ]
    },
    {
     "name": "stdout",
     "output_type": "stream",
     "text": [
      "'validation loss is 1.0528970658779144 '\n",
      "'validation accuracy is 0.8191406250000002 '\n",
      "'Epoch: 383'\n",
      "'training loss is 0.06372100961479274 '\n",
      "'training accuracy is 0.9846590909090908 '\n",
      "'Epoch: 383'\n"
     ]
    },
    {
     "name": "stderr",
     "output_type": "stream",
     "text": [
      "\r",
      " 15%|█▌        | 383/2499 [11:31<1:03:55,  1.81s/it]"
     ]
    },
    {
     "name": "stdout",
     "output_type": "stream",
     "text": [
      "'validation loss is 1.0457252159714698 '\n",
      "'validation accuracy is 0.8200195312500004 '\n",
      "'Epoch: 384'\n",
      "'training loss is 0.06375852464274927 '\n",
      "'training accuracy is 0.984659090909091 '\n",
      "'Epoch: 384'\n"
     ]
    },
    {
     "name": "stderr",
     "output_type": "stream",
     "text": [
      "\r",
      " 15%|█▌        | 384/2499 [11:33<1:01:55,  1.76s/it]"
     ]
    },
    {
     "name": "stdout",
     "output_type": "stream",
     "text": [
      "'validation loss is 1.0482313811779023 '\n",
      "'validation accuracy is 0.8200195312500002 '\n",
      "'Epoch: 385'\n",
      "'training loss is 0.06362868472933769 '\n",
      "'training accuracy is 0.984659090909091 '\n",
      "'Epoch: 385'\n"
     ]
    },
    {
     "name": "stderr",
     "output_type": "stream",
     "text": [
      "\r",
      " 15%|█▌        | 385/2499 [11:34<1:02:59,  1.79s/it]"
     ]
    },
    {
     "name": "stdout",
     "output_type": "stream",
     "text": [
      "'validation loss is 1.0510094791650773 '\n",
      "'validation accuracy is 0.8194335937500001 '\n",
      "'Epoch: 386'\n",
      "'training loss is 0.063694585792043 '\n",
      "'training accuracy is 0.9846590909090908 '\n",
      "'Epoch: 386'\n"
     ]
    },
    {
     "name": "stderr",
     "output_type": "stream",
     "text": [
      "\r",
      " 15%|█▌        | 386/2499 [11:36<1:03:09,  1.79s/it]"
     ]
    },
    {
     "name": "stdout",
     "output_type": "stream",
     "text": [
      "'validation loss is 1.048479402065277 '\n",
      "'validation accuracy is 0.8191406250000002 '\n",
      "'Epoch: 387'\n",
      "'training loss is 0.06369851123202931 '\n",
      "'training accuracy is 0.984659090909091 '\n",
      "'Epoch: 387'\n"
     ]
    },
    {
     "name": "stderr",
     "output_type": "stream",
     "text": [
      "\r",
      " 15%|█▌        | 387/2499 [11:38<1:03:46,  1.81s/it]"
     ]
    },
    {
     "name": "stdout",
     "output_type": "stream",
     "text": [
      "'validation loss is 1.0420003965497018 '\n",
      "'validation accuracy is 0.82001953125 '\n",
      "'Epoch: 388'\n",
      "'training loss is 0.06362840838053009 '\n",
      "'training accuracy is 0.9846590909090908 '\n",
      "'Epoch: 388'\n"
     ]
    },
    {
     "name": "stderr",
     "output_type": "stream",
     "text": [
      "\r",
      " 16%|█▌        | 388/2499 [11:40<1:03:33,  1.81s/it]"
     ]
    },
    {
     "name": "stdout",
     "output_type": "stream",
     "text": [
      "'validation loss is 1.0432999774813652 '\n",
      "'validation accuracy is 0.81943359375 '\n",
      "'Epoch: 389'\n",
      "'training loss is 0.06339065832170573 '\n",
      "'training accuracy is 0.984659090909091 '\n",
      "'Epoch: 389'\n"
     ]
    },
    {
     "name": "stderr",
     "output_type": "stream",
     "text": [
      "\r",
      " 16%|█▌        | 389/2499 [11:42<1:03:49,  1.81s/it]"
     ]
    },
    {
     "name": "stdout",
     "output_type": "stream",
     "text": [
      "'validation loss is 1.0468158021569252 '\n",
      "'validation accuracy is 0.8194335937500004 '\n",
      "'Epoch: 390'\n",
      "'training loss is 0.0635470107875087 '\n",
      "'training accuracy is 0.9846590909090908 '\n",
      "'Epoch: 390'\n"
     ]
    },
    {
     "name": "stderr",
     "output_type": "stream",
     "text": [
      "\r",
      " 16%|█▌        | 390/2499 [11:44<1:03:27,  1.81s/it]"
     ]
    },
    {
     "name": "stdout",
     "output_type": "stream",
     "text": [
      "'validation loss is 1.0436430752277375 '\n",
      "'validation accuracy is 0.8203125000000002 '\n",
      "'Epoch: 391'\n",
      "'training loss is 0.06363788992166519 '\n",
      "'training accuracy is 0.984659090909091 '\n",
      "'Epoch: 391'\n"
     ]
    },
    {
     "name": "stderr",
     "output_type": "stream",
     "text": [
      "\r",
      " 16%|█▌        | 391/2499 [11:45<1:02:41,  1.78s/it]"
     ]
    },
    {
     "name": "stdout",
     "output_type": "stream",
     "text": [
      "'validation loss is 1.0424016386270523 '\n",
      "'validation accuracy is 0.8197265625000003 '\n",
      "'Epoch: 392'\n",
      "'training loss is 0.06403123113242062 '\n",
      "'training accuracy is 0.984659090909091 '\n",
      "'Epoch: 392'\n"
     ]
    },
    {
     "name": "stderr",
     "output_type": "stream",
     "text": [
      "\r",
      " 16%|█▌        | 392/2499 [11:47<1:01:55,  1.76s/it]"
     ]
    },
    {
     "name": "stdout",
     "output_type": "stream",
     "text": [
      "'validation loss is 1.0478165194392204 '\n",
      "'validation accuracy is 0.8191406250000002 '\n",
      "'Epoch: 393'\n",
      "'training loss is 0.06360922279683026 '\n",
      "'training accuracy is 0.984659090909091 '\n",
      "'Epoch: 393'\n"
     ]
    },
    {
     "name": "stderr",
     "output_type": "stream",
     "text": [
      "\r",
      " 16%|█▌        | 393/2499 [11:49<1:01:59,  1.77s/it]"
     ]
    },
    {
     "name": "stdout",
     "output_type": "stream",
     "text": [
      "'validation loss is 1.0448712512850762 '\n",
      "'validation accuracy is 0.8194335937500001 '\n",
      "'Epoch: 394'\n",
      "'training loss is 0.06373462826013565 '\n",
      "'training accuracy is 0.984659090909091 '\n",
      "'Epoch: 394'\n"
     ]
    },
    {
     "name": "stderr",
     "output_type": "stream",
     "text": [
      "\r",
      " 16%|█▌        | 394/2499 [11:51<1:03:01,  1.80s/it]"
     ]
    },
    {
     "name": "stdout",
     "output_type": "stream",
     "text": [
      "'validation loss is 1.046178326010704 '\n",
      "'validation accuracy is 0.8194335937500001 '\n",
      "'Epoch: 395'\n",
      "'training loss is 0.06368552351539786 '\n",
      "'training accuracy is 0.984659090909091 '\n",
      "'Epoch: 395'\n"
     ]
    },
    {
     "name": "stderr",
     "output_type": "stream",
     "text": [
      "\r",
      " 16%|█▌        | 395/2499 [11:52<1:03:11,  1.80s/it]"
     ]
    },
    {
     "name": "stdout",
     "output_type": "stream",
     "text": [
      "'validation loss is 1.0424056023359298 '\n",
      "'validation accuracy is 0.8197265625000002 '\n",
      "'Epoch: 396'\n",
      "'training loss is 0.06371238861571658 '\n",
      "'training accuracy is 0.984659090909091 '\n",
      "'Epoch: 396'\n"
     ]
    },
    {
     "name": "stderr",
     "output_type": "stream",
     "text": [
      "\r",
      " 16%|█▌        | 396/2499 [11:54<1:02:22,  1.78s/it]"
     ]
    },
    {
     "name": "stdout",
     "output_type": "stream",
     "text": [
      "'validation loss is 1.043209506571293 '\n",
      "'validation accuracy is 0.8197265625000003 '\n",
      "'Epoch: 397'\n",
      "'training loss is 0.06365780600092628 '\n",
      "'training accuracy is 0.9846590909090908 '\n",
      "'Epoch: 397'\n"
     ]
    },
    {
     "name": "stderr",
     "output_type": "stream",
     "text": [
      "\r",
      " 16%|█▌        | 397/2499 [11:56<1:02:49,  1.79s/it]"
     ]
    },
    {
     "name": "stdout",
     "output_type": "stream",
     "text": [
      "'validation loss is 1.043942391872406 '\n",
      "'validation accuracy is 0.8191406250000002 '\n",
      "'Epoch: 398'\n",
      "'training loss is 0.06365105204961517 '\n",
      "'training accuracy is 0.984659090909091 '\n",
      "'Epoch: 398'\n"
     ]
    },
    {
     "name": "stderr",
     "output_type": "stream",
     "text": [
      "\r",
      " 16%|█▌        | 398/2499 [11:58<1:02:29,  1.78s/it]"
     ]
    },
    {
     "name": "stdout",
     "output_type": "stream",
     "text": [
      "'validation loss is 1.0448695316910743 '\n",
      "'validation accuracy is 0.81943359375 '\n",
      "'Epoch: 399'\n",
      "'training loss is 0.06356579437851906 '\n",
      "'training accuracy is 0.9846590909090908 '\n",
      "'Epoch: 399'\n"
     ]
    },
    {
     "name": "stderr",
     "output_type": "stream",
     "text": [
      "\r",
      " 16%|█▌        | 399/2499 [12:00<1:01:58,  1.77s/it]"
     ]
    },
    {
     "name": "stdout",
     "output_type": "stream",
     "text": [
      "'validation loss is 1.048933869600296 '\n",
      "'validation accuracy is 0.819140625 '\n",
      "'Epoch: 400'\n",
      "'training loss is 0.06348020075397058 '\n",
      "'training accuracy is 0.984659090909091 '\n",
      "'Epoch: 400'\n"
     ]
    },
    {
     "name": "stderr",
     "output_type": "stream",
     "text": [
      "\r",
      " 16%|█▌        | 400/2499 [12:01<1:03:00,  1.80s/it]"
     ]
    },
    {
     "name": "stdout",
     "output_type": "stream",
     "text": [
      "'validation loss is 1.0401895612478256 '\n",
      "'validation accuracy is 0.8200195312500002 '\n",
      "'Epoch: 401'\n",
      "'training loss is 0.06377991796894507 '\n",
      "'training accuracy is 0.984659090909091 '\n",
      "'Epoch: 401'\n"
     ]
    },
    {
     "name": "stderr",
     "output_type": "stream",
     "text": [
      "\r",
      " 16%|█▌        | 401/2499 [12:03<1:02:42,  1.79s/it]"
     ]
    },
    {
     "name": "stdout",
     "output_type": "stream",
     "text": [
      "'validation loss is 1.0423481553792953 '\n",
      "'validation accuracy is 0.8200195312500002 '\n",
      "'Epoch: 402'\n",
      "'training loss is 0.06388241357424042 '\n",
      "'training accuracy is 0.9846590909090908 '\n",
      "'Epoch: 402'\n"
     ]
    },
    {
     "name": "stderr",
     "output_type": "stream",
     "text": [
      "\r",
      " 16%|█▌        | 402/2499 [12:05<1:03:19,  1.81s/it]"
     ]
    },
    {
     "name": "stdout",
     "output_type": "stream",
     "text": [
      "'validation loss is 1.0406761005520822 '\n",
      "'validation accuracy is 0.8200195312500004 '\n",
      "'Epoch: 403'\n",
      "'training loss is 0.06376571546901356 '\n",
      "'training accuracy is 0.984659090909091 '\n",
      "'Epoch: 403'\n"
     ]
    },
    {
     "name": "stderr",
     "output_type": "stream",
     "text": [
      "\r",
      " 16%|█▌        | 403/2499 [12:07<1:03:20,  1.81s/it]"
     ]
    },
    {
     "name": "stdout",
     "output_type": "stream",
     "text": [
      "'validation loss is 1.0451313391327859 '\n",
      "'validation accuracy is 0.8191406250000002 '\n",
      "'Epoch: 404'\n",
      "'training loss is 0.06370951404625719 '\n",
      "'training accuracy is 0.9846590909090908 '\n",
      "'Epoch: 404'\n"
     ]
    },
    {
     "name": "stderr",
     "output_type": "stream",
     "text": [
      "\r",
      " 16%|█▌        | 404/2499 [12:09<1:03:32,  1.82s/it]"
     ]
    },
    {
     "name": "stdout",
     "output_type": "stream",
     "text": [
      "'validation loss is 1.047466367483139 '\n",
      "'validation accuracy is 0.8197265625000002 '\n",
      "'Epoch: 405'\n",
      "'training loss is 0.0635707937180996 '\n",
      "'training accuracy is 0.984659090909091 '\n",
      "'Epoch: 405'\n"
     ]
    },
    {
     "name": "stderr",
     "output_type": "stream",
     "text": [
      "\r",
      " 16%|█▌        | 405/2499 [12:10<1:03:03,  1.81s/it]"
     ]
    },
    {
     "name": "stdout",
     "output_type": "stream",
     "text": [
      "'validation loss is 1.0459892377257347 '\n",
      "'validation accuracy is 0.8197265625 '\n",
      "'Epoch: 406'\n",
      "'training loss is 0.06379759379408577 '\n",
      "'training accuracy is 0.984659090909091 '\n",
      "'Epoch: 406'\n"
     ]
    },
    {
     "name": "stderr",
     "output_type": "stream",
     "text": [
      "\r",
      " 16%|█▌        | 406/2499 [12:12<1:02:55,  1.80s/it]"
     ]
    },
    {
     "name": "stdout",
     "output_type": "stream",
     "text": [
      "'validation loss is 1.0448748111724853 '\n",
      "'validation accuracy is 0.8197265625000002 '\n",
      "'Epoch: 407'\n",
      "'training loss is 0.06365588544444604 '\n",
      "'training accuracy is 0.984659090909091 '\n",
      "'Epoch: 407'\n"
     ]
    },
    {
     "name": "stderr",
     "output_type": "stream",
     "text": [
      "\r",
      " 16%|█▋        | 407/2499 [12:14<1:02:09,  1.78s/it]"
     ]
    },
    {
     "name": "stdout",
     "output_type": "stream",
     "text": [
      "'validation loss is 1.0478419646620751 '\n",
      "'validation accuracy is 0.8191406250000002 '\n",
      "'Epoch: 408'\n",
      "'training loss is 0.06366574594920332 '\n",
      "'training accuracy is 0.9846590909090908 '\n",
      "'Epoch: 408'\n"
     ]
    },
    {
     "name": "stderr",
     "output_type": "stream",
     "text": [
      "\r",
      " 16%|█▋        | 408/2499 [12:16<1:01:24,  1.76s/it]"
     ]
    },
    {
     "name": "stdout",
     "output_type": "stream",
     "text": [
      "'validation loss is 1.0458155110478402 '\n",
      "'validation accuracy is 0.8197265625000002 '\n",
      "'Epoch: 409'\n",
      "'training loss is 0.06377884610132738 '\n",
      "'training accuracy is 0.984659090909091 '\n",
      "'Epoch: 409'\n"
     ]
    },
    {
     "name": "stderr",
     "output_type": "stream",
     "text": [
      "\r",
      " 16%|█▋        | 409/2499 [12:18<1:02:01,  1.78s/it]"
     ]
    },
    {
     "name": "stdout",
     "output_type": "stream",
     "text": [
      "'validation loss is 1.0397392734885216 '\n",
      "'validation accuracy is 0.8200195312500002 '\n",
      "'Epoch: 410'\n",
      "'training loss is 0.06354086642915552 '\n",
      "'training accuracy is 0.984659090909091 '\n",
      "'Epoch: 410'\n"
     ]
    },
    {
     "name": "stderr",
     "output_type": "stream",
     "text": [
      "\r",
      " 16%|█▋        | 410/2499 [12:19<1:02:21,  1.79s/it]"
     ]
    },
    {
     "name": "stdout",
     "output_type": "stream",
     "text": [
      "'validation loss is 1.0445342168211937 '\n",
      "'validation accuracy is 0.819140625 '\n",
      "'Epoch: 411'\n",
      "'training loss is 0.0634663152423772 '\n",
      "'training accuracy is 0.984659090909091 '\n",
      "'Epoch: 411'\n"
     ]
    },
    {
     "name": "stderr",
     "output_type": "stream",
     "text": [
      "\r",
      " 16%|█▋        | 411/2499 [12:21<1:02:36,  1.80s/it]"
     ]
    },
    {
     "name": "stdout",
     "output_type": "stream",
     "text": [
      "'validation loss is 1.0476630747318267 '\n",
      "'validation accuracy is 0.8194335937500001 '\n",
      "'Epoch: 412'\n",
      "'training loss is 0.06368369575251233 '\n",
      "'training accuracy is 0.9846590909090911 '\n",
      "'Epoch: 412'\n"
     ]
    },
    {
     "name": "stderr",
     "output_type": "stream",
     "text": [
      "\r",
      " 16%|█▋        | 412/2499 [12:23<1:02:20,  1.79s/it]"
     ]
    },
    {
     "name": "stdout",
     "output_type": "stream",
     "text": [
      "'validation loss is 1.0425967246294021 '\n",
      "'validation accuracy is 0.8194335937500001 '\n",
      "'Epoch: 413'\n",
      "'training loss is 0.06371446868235414 '\n",
      "'training accuracy is 0.9846590909090908 '\n",
      "'Epoch: 413'\n"
     ]
    },
    {
     "name": "stderr",
     "output_type": "stream",
     "text": [
      "\r",
      " 17%|█▋        | 413/2499 [12:25<1:02:57,  1.81s/it]"
     ]
    },
    {
     "name": "stdout",
     "output_type": "stream",
     "text": [
      "'validation loss is 1.0418183386325837 '\n",
      "'validation accuracy is 0.8194335937500004 '\n",
      "'Epoch: 414'\n",
      "'training loss is 0.06360031325708736 '\n",
      "'training accuracy is 0.984659090909091 '\n",
      "'Epoch: 414'\n"
     ]
    },
    {
     "name": "stderr",
     "output_type": "stream",
     "text": [
      "\r",
      " 17%|█▋        | 414/2499 [12:27<1:03:23,  1.82s/it]"
     ]
    },
    {
     "name": "stdout",
     "output_type": "stream",
     "text": [
      "'validation loss is 1.0421682700514794 '\n",
      "'validation accuracy is 0.8194335937500001 '\n",
      "'Epoch: 415'\n",
      "'training loss is 0.06373158469796181 '\n",
      "'training accuracy is 0.9846590909090908 '\n",
      "'Epoch: 415'\n"
     ]
    },
    {
     "name": "stderr",
     "output_type": "stream",
     "text": [
      "\r",
      " 17%|█▋        | 415/2499 [12:29<1:04:12,  1.85s/it]"
     ]
    },
    {
     "name": "stdout",
     "output_type": "stream",
     "text": [
      "'validation loss is 1.0451485574245454 '\n",
      "'validation accuracy is 0.8194335937500001 '\n",
      "'Epoch: 416'\n",
      "'training loss is 0.0636319365691055 '\n",
      "'training accuracy is 0.9846590909090908 '\n",
      "'Epoch: 416'\n"
     ]
    },
    {
     "name": "stderr",
     "output_type": "stream",
     "text": [
      "\r",
      " 17%|█▋        | 416/2499 [12:30<1:04:07,  1.85s/it]"
     ]
    },
    {
     "name": "stdout",
     "output_type": "stream",
     "text": [
      "'validation loss is 1.0440671786665916 '\n",
      "'validation accuracy is 0.8194335937500004 '\n",
      "'Epoch: 417'\n",
      "'training loss is 0.06374795362353325 '\n",
      "'training accuracy is 0.984659090909091 '\n",
      "'Epoch: 417'\n"
     ]
    },
    {
     "name": "stderr",
     "output_type": "stream",
     "text": [
      "\r",
      " 17%|█▋        | 417/2499 [12:32<1:02:44,  1.81s/it]"
     ]
    },
    {
     "name": "stdout",
     "output_type": "stream",
     "text": [
      "'validation loss is 1.0371623635292053 '\n",
      "'validation accuracy is 0.8200195312500002 '\n",
      "'Epoch: 418'\n",
      "'training loss is 0.06371853568337181 '\n",
      "'training accuracy is 0.9846590909090908 '\n",
      "'Epoch: 418'\n"
     ]
    },
    {
     "name": "stderr",
     "output_type": "stream",
     "text": [
      "\r",
      " 17%|█▋        | 418/2499 [12:34<1:02:48,  1.81s/it]"
     ]
    },
    {
     "name": "stdout",
     "output_type": "stream",
     "text": [
      "'validation loss is 1.0373752281069755 '\n",
      "'validation accuracy is 0.8200195312500004 '\n",
      "'Epoch: 419'\n",
      "'training loss is 0.0636002045463432 '\n",
      "'training accuracy is 0.984659090909091 '\n",
      "'Epoch: 419'\n"
     ]
    },
    {
     "name": "stderr",
     "output_type": "stream",
     "text": [
      "\r",
      " 17%|█▋        | 419/2499 [12:36<1:02:41,  1.81s/it]"
     ]
    },
    {
     "name": "stdout",
     "output_type": "stream",
     "text": [
      "'validation loss is 1.046802769601345 '\n",
      "'validation accuracy is 0.8191406250000002 '\n",
      "'Epoch: 420'\n",
      "'training loss is 0.06352369284087961 '\n",
      "'training accuracy is 0.984659090909091 '\n",
      "'Epoch: 420'\n"
     ]
    },
    {
     "name": "stderr",
     "output_type": "stream",
     "text": [
      "\r",
      " 17%|█▋        | 420/2499 [12:37<1:02:12,  1.80s/it]"
     ]
    },
    {
     "name": "stdout",
     "output_type": "stream",
     "text": [
      "'validation loss is 1.042668877542019 '\n",
      "'validation accuracy is 0.8197265625000003 '\n",
      "'Epoch: 421'\n",
      "'training loss is 0.0636708177626133 '\n",
      "'training accuracy is 0.984659090909091 '\n",
      "'Epoch: 421'\n"
     ]
    },
    {
     "name": "stderr",
     "output_type": "stream",
     "text": [
      "\r",
      " 17%|█▋        | 421/2499 [12:39<1:01:49,  1.79s/it]"
     ]
    },
    {
     "name": "stdout",
     "output_type": "stream",
     "text": [
      "'validation loss is 1.0443400353193284 '\n",
      "'validation accuracy is 0.8191406250000002 '\n",
      "'Epoch: 422'\n",
      "'training loss is 0.06345583396879109 '\n",
      "'training accuracy is 0.984659090909091 '\n",
      "'Epoch: 422'\n"
     ]
    },
    {
     "name": "stderr",
     "output_type": "stream",
     "text": [
      "\r",
      " 17%|█▋        | 422/2499 [12:41<1:01:03,  1.76s/it]"
     ]
    },
    {
     "name": "stdout",
     "output_type": "stream",
     "text": [
      "'validation loss is 1.039692835509777 '\n",
      "'validation accuracy is 0.8200195312500002 '\n",
      "'Epoch: 423'\n",
      "'training loss is 0.06365134567022324 '\n",
      "'training accuracy is 0.984659090909091 '\n",
      "'Epoch: 423'\n"
     ]
    },
    {
     "name": "stderr",
     "output_type": "stream",
     "text": [
      "\r",
      " 17%|█▋        | 423/2499 [12:43<1:01:53,  1.79s/it]"
     ]
    },
    {
     "name": "stdout",
     "output_type": "stream",
     "text": [
      "'validation loss is 1.0441582813858985 '\n",
      "'validation accuracy is 0.8194335937500001 '\n",
      "'Epoch: 424'\n",
      "'training loss is 0.06379854882305319 '\n",
      "'training accuracy is 0.9846590909090908 '\n",
      "'Epoch: 424'\n"
     ]
    },
    {
     "name": "stderr",
     "output_type": "stream",
     "text": [
      "\r",
      " 17%|█▋        | 424/2499 [12:45<1:02:17,  1.80s/it]"
     ]
    },
    {
     "name": "stdout",
     "output_type": "stream",
     "text": [
      "'validation loss is 1.0428361043334007 '\n",
      "'validation accuracy is 0.8197265625000002 '\n",
      "'Epoch: 425'\n",
      "'training loss is 0.06355023350227963 '\n",
      "'training accuracy is 0.9846590909090908 '\n",
      "'Epoch: 425'\n"
     ]
    },
    {
     "name": "stderr",
     "output_type": "stream",
     "text": [
      "\r",
      " 17%|█▋        | 425/2499 [12:46<1:01:40,  1.78s/it]"
     ]
    },
    {
     "name": "stdout",
     "output_type": "stream",
     "text": [
      "'validation loss is 1.0443160161376 '\n",
      "'validation accuracy is 0.8194335937500001 '\n",
      "'Epoch: 426'\n",
      "'training loss is 0.06375166130336848 '\n",
      "'training accuracy is 0.9846590909090911 '\n",
      "'Epoch: 426'\n"
     ]
    },
    {
     "name": "stderr",
     "output_type": "stream",
     "text": [
      "\r",
      " 17%|█▋        | 426/2499 [12:48<1:02:27,  1.81s/it]"
     ]
    },
    {
     "name": "stdout",
     "output_type": "stream",
     "text": [
      "'validation loss is 1.0424260184168817 '\n",
      "'validation accuracy is 0.8194335937500001 '\n",
      "'Epoch: 427'\n",
      "'training loss is 0.06363273005593907 '\n",
      "'training accuracy is 0.9846590909090908 '\n",
      "'Epoch: 427'\n"
     ]
    },
    {
     "name": "stderr",
     "output_type": "stream",
     "text": [
      "\r",
      " 17%|█▋        | 427/2499 [12:50<1:02:38,  1.81s/it]"
     ]
    },
    {
     "name": "stdout",
     "output_type": "stream",
     "text": [
      "'validation loss is 1.0352439314126969 '\n",
      "'validation accuracy is 0.8200195312500002 '\n",
      "'Epoch: 428'\n",
      "'training loss is 0.06352171911434694 '\n",
      "'training accuracy is 0.9846590909090911 '\n",
      "'Epoch: 428'\n"
     ]
    },
    {
     "name": "stderr",
     "output_type": "stream",
     "text": [
      "\r",
      " 17%|█▋        | 428/2499 [12:52<1:02:11,  1.80s/it]"
     ]
    },
    {
     "name": "stdout",
     "output_type": "stream",
     "text": [
      "'validation loss is 1.0448575243353844 '\n",
      "'validation accuracy is 0.81943359375 '\n",
      "'Epoch: 429'\n",
      "'training loss is 0.0636288703165271 '\n",
      "'training accuracy is 0.9846590909090908 '\n",
      "'Epoch: 429'\n"
     ]
    },
    {
     "name": "stderr",
     "output_type": "stream",
     "text": [
      "\r",
      " 17%|█▋        | 429/2499 [12:54<1:02:39,  1.82s/it]"
     ]
    },
    {
     "name": "stdout",
     "output_type": "stream",
     "text": [
      "'validation loss is 1.0415215760469436 '\n",
      "'validation accuracy is 0.8194335937500001 '\n",
      "'Epoch: 430'\n",
      "'training loss is 0.06371650065888058 '\n",
      "'training accuracy is 0.9846590909090908 '\n",
      "'Epoch: 430'\n"
     ]
    },
    {
     "name": "stderr",
     "output_type": "stream",
     "text": [
      "\r",
      " 17%|█▋        | 430/2499 [12:56<1:02:57,  1.83s/it]"
     ]
    },
    {
     "name": "stdout",
     "output_type": "stream",
     "text": [
      "'validation loss is 1.049498161673546 '\n",
      "'validation accuracy is 0.8194335937500004 '\n",
      "'Epoch: 431'\n",
      "'training loss is 0.06372460316527974 '\n",
      "'training accuracy is 0.984659090909091 '\n",
      "'Epoch: 431'\n"
     ]
    },
    {
     "name": "stderr",
     "output_type": "stream",
     "text": [
      "\r",
      " 17%|█▋        | 431/2499 [12:57<1:02:33,  1.82s/it]"
     ]
    },
    {
     "name": "stdout",
     "output_type": "stream",
     "text": [
      "'validation loss is 1.0435878053307532 '\n",
      "'validation accuracy is 0.8200195312500002 '\n",
      "'Epoch: 432'\n",
      "'training loss is 0.06359891695055095 '\n",
      "'training accuracy is 0.984659090909091 '\n",
      "'Epoch: 432'\n"
     ]
    },
    {
     "name": "stderr",
     "output_type": "stream",
     "text": [
      "\r",
      " 17%|█▋        | 432/2499 [12:59<1:02:02,  1.80s/it]"
     ]
    },
    {
     "name": "stdout",
     "output_type": "stream",
     "text": [
      "'validation loss is 1.0430982634425163 '\n",
      "'validation accuracy is 0.8194335937500001 '\n",
      "'Epoch: 433'\n",
      "'training loss is 0.06371703405271877 '\n",
      "'training accuracy is 0.984659090909091 '\n",
      "'Epoch: 433'\n"
     ]
    },
    {
     "name": "stderr",
     "output_type": "stream",
     "text": [
      "\r",
      " 17%|█▋        | 433/2499 [13:01<1:01:15,  1.78s/it]"
     ]
    },
    {
     "name": "stdout",
     "output_type": "stream",
     "text": [
      "'validation loss is 1.0402699440717698 '\n",
      "'validation accuracy is 0.8200195312500004 '\n",
      "'Epoch: 434'\n",
      "'training loss is 0.06376683407209137 '\n",
      "'training accuracy is 0.9846590909090908 '\n",
      "'Epoch: 434'\n"
     ]
    },
    {
     "name": "stderr",
     "output_type": "stream",
     "text": [
      "\r",
      " 17%|█▋        | 434/2499 [13:03<1:01:12,  1.78s/it]"
     ]
    },
    {
     "name": "stdout",
     "output_type": "stream",
     "text": [
      "'validation loss is 1.0423781529068947 '\n",
      "'validation accuracy is 0.8194335937500001 '\n",
      "'Epoch: 435'\n",
      "'training loss is 0.06348815018480475 '\n",
      "'training accuracy is 0.984659090909091 '\n",
      "'Epoch: 435'\n"
     ]
    },
    {
     "name": "stderr",
     "output_type": "stream",
     "text": [
      "\r",
      " 17%|█▋        | 435/2499 [13:04<1:00:53,  1.77s/it]"
     ]
    },
    {
     "name": "stdout",
     "output_type": "stream",
     "text": [
      "'validation loss is 1.0408145561814308 '\n",
      "'validation accuracy is 0.8194335937500004 '\n",
      "'Epoch: 436'\n",
      "'training loss is 0.06392835961146788 '\n",
      "'training accuracy is 0.9846590909090911 '\n",
      "'Epoch: 436'\n"
     ]
    },
    {
     "name": "stderr",
     "output_type": "stream",
     "text": [
      "\r",
      " 17%|█▋        | 436/2499 [13:06<1:01:41,  1.79s/it]"
     ]
    },
    {
     "name": "stdout",
     "output_type": "stream",
     "text": [
      "'validation loss is 1.038316810131073 '\n",
      "'validation accuracy is 0.8194335937500004 '\n",
      "'Epoch: 437'\n",
      "'training loss is 0.06375089524821802 '\n",
      "'training accuracy is 0.984659090909091 '\n",
      "'Epoch: 437'\n"
     ]
    },
    {
     "name": "stderr",
     "output_type": "stream",
     "text": [
      "\r",
      " 17%|█▋        | 437/2499 [13:08<1:02:05,  1.81s/it]"
     ]
    },
    {
     "name": "stdout",
     "output_type": "stream",
     "text": [
      "'validation loss is 1.036591722071171 '\n",
      "'validation accuracy is 0.8194335937500004 '\n",
      "'Epoch: 438'\n",
      "'training loss is 0.06344356184655969 '\n",
      "'training accuracy is 0.984659090909091 '\n",
      "'Epoch: 438'\n"
     ]
    },
    {
     "name": "stderr",
     "output_type": "stream",
     "text": [
      "\r",
      " 18%|█▊        | 438/2499 [13:10<1:02:56,  1.83s/it]"
     ]
    },
    {
     "name": "stdout",
     "output_type": "stream",
     "text": [
      "'validation loss is 1.0372830748558044 '\n",
      "'validation accuracy is 0.81943359375 '\n",
      "'Epoch: 439'\n",
      "'training loss is 0.06333051554181358 '\n",
      "'training accuracy is 0.9846590909090908 '\n",
      "'Epoch: 439'\n"
     ]
    },
    {
     "name": "stderr",
     "output_type": "stream",
     "text": [
      "\r",
      " 18%|█▊        | 439/2499 [13:12<1:01:50,  1.80s/it]"
     ]
    },
    {
     "name": "stdout",
     "output_type": "stream",
     "text": [
      "'validation loss is 1.039950193464756 '\n",
      "'validation accuracy is 0.81943359375 '\n",
      "'Epoch: 440'\n",
      "'training loss is 0.0636617595499212 '\n",
      "'training accuracy is 0.984659090909091 '\n",
      "'Epoch: 440'\n"
     ]
    },
    {
     "name": "stderr",
     "output_type": "stream",
     "text": [
      "\r",
      " 18%|█▊        | 440/2499 [13:13<1:01:42,  1.80s/it]"
     ]
    },
    {
     "name": "stdout",
     "output_type": "stream",
     "text": [
      "'validation loss is 1.0421250849962234 '\n",
      "'validation accuracy is 0.8197265625000002 '\n",
      "'Epoch: 441'\n",
      "'training loss is 0.0635189637541771 '\n",
      "'training accuracy is 0.9846590909090911 '\n",
      "'Epoch: 441'\n"
     ]
    },
    {
     "name": "stderr",
     "output_type": "stream",
     "text": [
      "\r",
      " 18%|█▊        | 441/2499 [13:15<1:01:36,  1.80s/it]"
     ]
    },
    {
     "name": "stdout",
     "output_type": "stream",
     "text": [
      "'validation loss is 1.0430307224392892 '\n",
      "'validation accuracy is 0.8197265625000002 '\n",
      "'Epoch: 442'\n",
      "'training loss is 0.06342759830030528 '\n",
      "'training accuracy is 0.984659090909091 '\n",
      "'Epoch: 442'\n"
     ]
    },
    {
     "name": "stderr",
     "output_type": "stream",
     "text": [
      "\r",
      " 18%|█▊        | 442/2499 [13:17<1:00:19,  1.76s/it]"
     ]
    },
    {
     "name": "stdout",
     "output_type": "stream",
     "text": [
      "'validation loss is 1.0381023973226546 '\n",
      "'validation accuracy is 0.8197265625 '\n",
      "'Epoch: 443'\n",
      "'training loss is 0.06360578232190826 '\n",
      "'training accuracy is 0.984659090909091 '\n",
      "'Epoch: 443'\n"
     ]
    },
    {
     "name": "stderr",
     "output_type": "stream",
     "text": [
      "\r",
      " 18%|█▊        | 443/2499 [13:19<1:00:39,  1.77s/it]"
     ]
    },
    {
     "name": "stdout",
     "output_type": "stream",
     "text": [
      "'validation loss is 1.0444947227835655 '\n",
      "'validation accuracy is 0.8191406250000004 '\n",
      "'Epoch: 444'\n",
      "'training loss is 0.06349714303558524 '\n",
      "'training accuracy is 0.984659090909091 '\n",
      "'Epoch: 444'\n"
     ]
    },
    {
     "name": "stderr",
     "output_type": "stream",
     "text": [
      "\r",
      " 18%|█▊        | 444/2499 [13:21<1:01:08,  1.79s/it]"
     ]
    },
    {
     "name": "stdout",
     "output_type": "stream",
     "text": [
      "'validation loss is 1.041111621260643 '\n",
      "'validation accuracy is 0.8194335937500001 '\n",
      "'Epoch: 445'\n",
      "'training loss is 0.06359591064128009 '\n",
      "'training accuracy is 0.984659090909091 '\n",
      "'Epoch: 445'\n"
     ]
    },
    {
     "name": "stderr",
     "output_type": "stream",
     "text": [
      "\r",
      " 18%|█▊        | 445/2499 [13:22<1:00:52,  1.78s/it]"
     ]
    },
    {
     "name": "stdout",
     "output_type": "stream",
     "text": [
      "'validation loss is 1.0393905833363533 '\n",
      "'validation accuracy is 0.8197265625000002 '\n",
      "'Epoch: 446'\n",
      "'training loss is 0.06372077627615495 '\n",
      "'training accuracy is 0.984659090909091 '\n",
      "'Epoch: 446'\n"
     ]
    },
    {
     "name": "stderr",
     "output_type": "stream",
     "text": [
      "\r",
      " 18%|█▊        | 446/2499 [13:24<1:01:26,  1.80s/it]"
     ]
    },
    {
     "name": "stdout",
     "output_type": "stream",
     "text": [
      "'validation loss is 1.0375880047678947 '\n",
      "'validation accuracy is 0.8200195312500004 '\n",
      "'Epoch: 447'\n",
      "'training loss is 0.06356092034415765 '\n",
      "'training accuracy is 0.9846590909090908 '\n",
      "'Epoch: 447'\n"
     ]
    },
    {
     "name": "stderr",
     "output_type": "stream",
     "text": [
      "\r",
      " 18%|█▊        | 447/2499 [13:26<1:02:03,  1.81s/it]"
     ]
    },
    {
     "name": "stdout",
     "output_type": "stream",
     "text": [
      "'validation loss is 1.0409094139933586 '\n",
      "'validation accuracy is 0.8194335937500001 '\n",
      "'Epoch: 448'\n",
      "'training loss is 0.06366482038389552 '\n",
      "'training accuracy is 0.984659090909091 '\n",
      "'Epoch: 448'\n"
     ]
    },
    {
     "name": "stderr",
     "output_type": "stream",
     "text": [
      "\r",
      " 18%|█▊        | 448/2499 [13:28<1:01:27,  1.80s/it]"
     ]
    },
    {
     "name": "stdout",
     "output_type": "stream",
     "text": [
      "'validation loss is 1.0434304416179656 '\n",
      "'validation accuracy is 0.8191406250000004 '\n",
      "'Epoch: 449'\n",
      "'training loss is 0.0638385337184776 '\n",
      "'training accuracy is 0.984659090909091 '\n",
      "'Epoch: 449'\n"
     ]
    },
    {
     "name": "stderr",
     "output_type": "stream",
     "text": [
      "\r",
      " 18%|█▊        | 449/2499 [13:30<1:01:34,  1.80s/it]"
     ]
    },
    {
     "name": "stdout",
     "output_type": "stream",
     "text": [
      "'validation loss is 1.0380470648407936 '\n",
      "'validation accuracy is 0.8194335937500004 '\n",
      "'Epoch: 450'\n",
      "'training loss is 0.06357146189971404 '\n",
      "'training accuracy is 0.984659090909091 '\n",
      "'Epoch: 450'\n"
     ]
    },
    {
     "name": "stderr",
     "output_type": "stream",
     "text": [
      "\r",
      " 18%|█▊        | 450/2499 [13:31<1:01:23,  1.80s/it]"
     ]
    },
    {
     "name": "stdout",
     "output_type": "stream",
     "text": [
      "'validation loss is 1.0471670851111412 '\n",
      "'validation accuracy is 0.8191406250000002 '\n",
      "'Epoch: 451'\n",
      "'training loss is 0.06369085677645424 '\n",
      "'training accuracy is 0.984659090909091 '\n",
      "'Epoch: 451'\n"
     ]
    },
    {
     "name": "stderr",
     "output_type": "stream",
     "text": [
      "\r",
      " 18%|█▊        | 451/2499 [13:33<1:01:58,  1.82s/it]"
     ]
    },
    {
     "name": "stdout",
     "output_type": "stream",
     "text": [
      "'validation loss is 1.0381352871656417 '\n",
      "'validation accuracy is 0.8200195312500002 '\n",
      "'Epoch: 452'\n",
      "'training loss is 0.06362434137951244 '\n",
      "'training accuracy is 0.984659090909091 '\n",
      "'Epoch: 452'\n"
     ]
    },
    {
     "name": "stderr",
     "output_type": "stream",
     "text": [
      "\r",
      " 18%|█▊        | 452/2499 [13:35<1:01:43,  1.81s/it]"
     ]
    },
    {
     "name": "stdout",
     "output_type": "stream",
     "text": [
      "'validation loss is 1.0363989874720574 '\n",
      "'validation accuracy is 0.8197265625000002 '\n",
      "'Epoch: 453'\n",
      "'training loss is 0.06364416364919055 '\n",
      "'training accuracy is 0.984659090909091 '\n",
      "'Epoch: 453'\n"
     ]
    },
    {
     "name": "stderr",
     "output_type": "stream",
     "text": [
      "\r",
      " 18%|█▊        | 453/2499 [13:37<1:01:39,  1.81s/it]"
     ]
    },
    {
     "name": "stdout",
     "output_type": "stream",
     "text": [
      "'validation loss is 1.0367836847901344 '\n",
      "'validation accuracy is 0.8200195312500002 '\n",
      "'Epoch: 454'\n",
      "'training loss is 0.06364285505630753 '\n",
      "'training accuracy is 0.9846590909090908 '\n",
      "'Epoch: 454'\n"
     ]
    },
    {
     "name": "stderr",
     "output_type": "stream",
     "text": [
      "\r",
      " 18%|█▊        | 454/2499 [13:39<1:03:07,  1.85s/it]"
     ]
    },
    {
     "name": "stdout",
     "output_type": "stream",
     "text": [
      "'validation loss is 1.0434345543384551 '\n",
      "'validation accuracy is 0.8191406250000002 '\n",
      "'Epoch: 455'\n",
      "'training loss is 0.06359526853669774 '\n",
      "'training accuracy is 0.9846590909090908 '\n",
      "'Epoch: 455'\n"
     ]
    },
    {
     "name": "stderr",
     "output_type": "stream",
     "text": [
      "\r",
      " 18%|█▊        | 455/2499 [13:41<1:03:22,  1.86s/it]"
     ]
    },
    {
     "name": "stdout",
     "output_type": "stream",
     "text": [
      "'validation loss is 1.0372326746582985 '\n",
      "'validation accuracy is 0.8197265625000002 '\n",
      "'Epoch: 456'\n",
      "'training loss is 0.06356523592363704 '\n",
      "'training accuracy is 0.984659090909091 '\n",
      "'Epoch: 456'\n"
     ]
    },
    {
     "name": "stderr",
     "output_type": "stream",
     "text": [
      "\r",
      " 18%|█▊        | 456/2499 [13:42<1:03:19,  1.86s/it]"
     ]
    },
    {
     "name": "stdout",
     "output_type": "stream",
     "text": [
      "'validation loss is 1.046073067188263 '\n",
      "'validation accuracy is 0.8191406250000002 '\n",
      "'Epoch: 457'\n",
      "'training loss is 0.06367135183377699 '\n",
      "'training accuracy is 0.9846590909090911 '\n",
      "'Epoch: 457'\n"
     ]
    },
    {
     "name": "stderr",
     "output_type": "stream",
     "text": [
      "\r",
      " 18%|█▊        | 457/2499 [13:44<1:01:59,  1.82s/it]"
     ]
    },
    {
     "name": "stdout",
     "output_type": "stream",
     "text": [
      "'validation loss is 1.0424771890044213 '\n",
      "'validation accuracy is 0.8203125000000002 '\n",
      "'Epoch: 458'\n",
      "'training loss is 0.06347163461826065 '\n",
      "'training accuracy is 0.984659090909091 '\n",
      "'Epoch: 458'\n"
     ]
    },
    {
     "name": "stderr",
     "output_type": "stream",
     "text": [
      "\r",
      " 18%|█▊        | 458/2499 [13:46<1:00:59,  1.79s/it]"
     ]
    },
    {
     "name": "stdout",
     "output_type": "stream",
     "text": [
      "'validation loss is 1.0413409769535065 '\n",
      "'validation accuracy is 0.8197265625000002 '\n",
      "'Epoch: 459'\n",
      "'training loss is 0.06362193551930515 '\n",
      "'training accuracy is 0.984659090909091 '\n",
      "'Epoch: 459'\n"
     ]
    },
    {
     "name": "stderr",
     "output_type": "stream",
     "text": [
      "\r",
      " 18%|█▊        | 459/2499 [13:48<1:01:24,  1.81s/it]"
     ]
    },
    {
     "name": "stdout",
     "output_type": "stream",
     "text": [
      "'validation loss is 1.0442296966910363 '\n",
      "'validation accuracy is 0.81943359375 '\n",
      "'Epoch: 460'\n",
      "'training loss is 0.06353617188605395 '\n",
      "'training accuracy is 0.984659090909091 '\n",
      "'Epoch: 460'\n"
     ]
    },
    {
     "name": "stderr",
     "output_type": "stream",
     "text": [
      "\r",
      " 18%|█▊        | 460/2499 [13:50<1:01:40,  1.81s/it]"
     ]
    },
    {
     "name": "stdout",
     "output_type": "stream",
     "text": [
      "'validation loss is 1.0325419038534165 '\n",
      "'validation accuracy is 0.8197265625000002 '\n",
      "'Epoch: 461'\n",
      "'training loss is 0.06356480006467212 '\n",
      "'training accuracy is 0.984659090909091 '\n",
      "'Epoch: 461'\n"
     ]
    },
    {
     "name": "stderr",
     "output_type": "stream",
     "text": [
      "\r",
      " 18%|█▊        | 461/2499 [13:51<1:01:30,  1.81s/it]"
     ]
    },
    {
     "name": "stdout",
     "output_type": "stream",
     "text": [
      "'validation loss is 1.0435039654374123 '\n",
      "'validation accuracy is 0.8194335937500001 '\n",
      "'Epoch: 462'\n",
      "'training loss is 0.06356087801131335 '\n",
      "'training accuracy is 0.984659090909091 '\n",
      "'Epoch: 462'\n"
     ]
    },
    {
     "name": "stderr",
     "output_type": "stream",
     "text": [
      "\r",
      " 18%|█▊        | 462/2499 [13:53<1:01:00,  1.80s/it]"
     ]
    },
    {
     "name": "stdout",
     "output_type": "stream",
     "text": [
      "'validation loss is 1.0355721816420556 '\n",
      "'validation accuracy is 0.8200195312500002 '\n",
      "'Epoch: 463'\n",
      "'training loss is 0.06366440958597443 '\n",
      "'training accuracy is 0.9846590909090908 '\n",
      "'Epoch: 463'\n"
     ]
    },
    {
     "name": "stderr",
     "output_type": "stream",
     "text": [
      "\r",
      " 19%|█▊        | 463/2499 [13:55<1:00:49,  1.79s/it]"
     ]
    },
    {
     "name": "stdout",
     "output_type": "stream",
     "text": [
      "'validation loss is 1.0344474896788598 '\n",
      "'validation accuracy is 0.82001953125 '\n",
      "'Epoch: 464'\n",
      "'training loss is 0.06357367133552377 '\n",
      "'training accuracy is 0.984659090909091 '\n",
      "'Epoch: 464'\n"
     ]
    },
    {
     "name": "stderr",
     "output_type": "stream",
     "text": [
      "\r",
      " 19%|█▊        | 464/2499 [13:57<1:01:33,  1.81s/it]"
     ]
    },
    {
     "name": "stdout",
     "output_type": "stream",
     "text": [
      "'validation loss is 1.0331131383776664 '\n",
      "'validation accuracy is 0.8200195312500002 '\n",
      "'Epoch: 465'\n",
      "'training loss is 0.06338415091687982 '\n",
      "'training accuracy is 0.984659090909091 '\n",
      "'Epoch: 465'\n"
     ]
    },
    {
     "name": "stderr",
     "output_type": "stream",
     "text": [
      "\r",
      " 19%|█▊        | 465/2499 [13:59<1:01:03,  1.80s/it]"
     ]
    },
    {
     "name": "stdout",
     "output_type": "stream",
     "text": [
      "'validation loss is 1.0321435019373895 '\n",
      "'validation accuracy is 0.8194335937500001 '\n",
      "'Epoch: 466'\n",
      "'training loss is 0.06378741731697862 '\n",
      "'training accuracy is 0.984659090909091 '\n",
      "'Epoch: 466'\n"
     ]
    },
    {
     "name": "stderr",
     "output_type": "stream",
     "text": [
      "\r",
      " 19%|█▊        | 466/2499 [14:00<1:00:25,  1.78s/it]"
     ]
    },
    {
     "name": "stdout",
     "output_type": "stream",
     "text": [
      "'validation loss is 1.0352282345294952 '\n",
      "'validation accuracy is 0.8200195312500004 '\n",
      "'Epoch: 467'\n",
      "'training loss is 0.06370136412707242 '\n",
      "'training accuracy is 0.984659090909091 '\n",
      "'Epoch: 467'\n"
     ]
    },
    {
     "name": "stderr",
     "output_type": "stream",
     "text": [
      "\r",
      " 19%|█▊        | 467/2499 [14:02<1:00:04,  1.77s/it]"
     ]
    },
    {
     "name": "stdout",
     "output_type": "stream",
     "text": [
      "'validation loss is 1.0412288263440133 '\n",
      "'validation accuracy is 0.8194335937500001 '\n",
      "'Epoch: 468'\n",
      "'training loss is 0.06343111836097458 '\n",
      "'training accuracy is 0.9846590909090908 '\n",
      "'Epoch: 468'\n"
     ]
    },
    {
     "name": "stderr",
     "output_type": "stream",
     "text": [
      "\r",
      " 19%|█▊        | 468/2499 [14:04<1:00:06,  1.78s/it]"
     ]
    },
    {
     "name": "stdout",
     "output_type": "stream",
     "text": [
      "'validation loss is 1.0405879586935043 '\n",
      "'validation accuracy is 0.8191406250000002 '\n",
      "'Epoch: 469'\n",
      "'training loss is 0.06349632753567262 '\n",
      "'training accuracy is 0.9846590909090908 '\n",
      "'Epoch: 469'\n"
     ]
    },
    {
     "name": "stderr",
     "output_type": "stream",
     "text": [
      "\r",
      " 19%|█▉        | 469/2499 [14:06<1:00:37,  1.79s/it]"
     ]
    },
    {
     "name": "stdout",
     "output_type": "stream",
     "text": [
      "'validation loss is 1.0390092179179191 '\n",
      "'validation accuracy is 0.8191406250000002 '\n",
      "'Epoch: 470'\n",
      "'training loss is 0.06376446817408908 '\n",
      "'training accuracy is 0.984659090909091 '\n",
      "'Epoch: 470'\n"
     ]
    },
    {
     "name": "stderr",
     "output_type": "stream",
     "text": [
      "\r",
      " 19%|█▉        | 470/2499 [14:08<1:01:14,  1.81s/it]"
     ]
    },
    {
     "name": "stdout",
     "output_type": "stream",
     "text": [
      "'validation loss is 1.038430455327034 '\n",
      "'validation accuracy is 0.8194335937500001 '\n",
      "'Epoch: 471'\n",
      "'training loss is 0.06336290355433118 '\n",
      "'training accuracy is 0.9846590909090911 '\n",
      "'Epoch: 471'\n"
     ]
    },
    {
     "name": "stderr",
     "output_type": "stream",
     "text": [
      "\r",
      " 19%|█▉        | 471/2499 [14:09<1:01:02,  1.81s/it]"
     ]
    },
    {
     "name": "stdout",
     "output_type": "stream",
     "text": [
      "'validation loss is 1.0392482608556748 '\n",
      "'validation accuracy is 0.8194335937500001 '\n",
      "'Epoch: 472'\n",
      "'training loss is 0.06378297609361736 '\n",
      "'training accuracy is 0.984659090909091 '\n",
      "'Epoch: 472'\n"
     ]
    },
    {
     "name": "stderr",
     "output_type": "stream",
     "text": [
      "\r",
      " 19%|█▉        | 472/2499 [14:11<1:00:58,  1.81s/it]"
     ]
    },
    {
     "name": "stdout",
     "output_type": "stream",
     "text": [
      "'validation loss is 1.0339937537908555 '\n",
      "'validation accuracy is 0.82001953125 '\n",
      "'Epoch: 473'\n",
      "'training loss is 0.06367231973192909 '\n",
      "'training accuracy is 0.9846590909090908 '\n",
      "'Epoch: 473'\n"
     ]
    },
    {
     "name": "stderr",
     "output_type": "stream",
     "text": [
      "\r",
      " 19%|█▉        | 473/2499 [14:13<1:00:16,  1.78s/it]"
     ]
    },
    {
     "name": "stdout",
     "output_type": "stream",
     "text": [
      "'validation loss is 1.0408838644623757 '\n",
      "'validation accuracy is 0.8197265625 '\n",
      "'Epoch: 474'\n",
      "'training loss is 0.06372598220001567 '\n",
      "'training accuracy is 0.984659090909091 '\n",
      "'Epoch: 474'\n"
     ]
    },
    {
     "name": "stderr",
     "output_type": "stream",
     "text": [
      "\r",
      " 19%|█▉        | 474/2499 [14:15<1:00:09,  1.78s/it]"
     ]
    },
    {
     "name": "stdout",
     "output_type": "stream",
     "text": [
      "'validation loss is 1.042924913764 '\n",
      "'validation accuracy is 0.8191406250000002 '\n",
      "'Epoch: 475'\n",
      "'training loss is 0.06361483613198454 '\n",
      "'training accuracy is 0.984659090909091 '\n",
      "'Epoch: 475'\n"
     ]
    },
    {
     "name": "stderr",
     "output_type": "stream",
     "text": [
      "\r",
      " 19%|█▉        | 475/2499 [14:17<1:00:44,  1.80s/it]"
     ]
    },
    {
     "name": "stdout",
     "output_type": "stream",
     "text": [
      "'validation loss is 1.036799782514572 '\n",
      "'validation accuracy is 0.8197265625000003 '\n",
      "'Epoch: 476'\n",
      "'training loss is 0.06369502774693749 '\n",
      "'training accuracy is 0.9846590909090911 '\n",
      "'Epoch: 476'\n"
     ]
    },
    {
     "name": "stderr",
     "output_type": "stream",
     "text": [
      "\r",
      " 19%|█▉        | 476/2499 [14:18<1:00:37,  1.80s/it]"
     ]
    },
    {
     "name": "stdout",
     "output_type": "stream",
     "text": [
      "'validation loss is 1.0390180245041847 '\n",
      "'validation accuracy is 0.8194335937500001 '\n",
      "'Epoch: 477'\n",
      "'training loss is 0.06374678455970505 '\n",
      "'training accuracy is 0.984659090909091 '\n",
      "'Epoch: 477'\n"
     ]
    },
    {
     "name": "stderr",
     "output_type": "stream",
     "text": [
      "\r",
      " 19%|█▉        | 477/2499 [14:20<1:00:11,  1.79s/it]"
     ]
    },
    {
     "name": "stdout",
     "output_type": "stream",
     "text": [
      "'validation loss is 1.0311672061681747 '\n",
      "'validation accuracy is 0.8200195312500004 '\n",
      "'Epoch: 478'\n",
      "'training loss is 0.06376253745772621 '\n",
      "'training accuracy is 0.984659090909091 '\n",
      "'Epoch: 478'\n"
     ]
    },
    {
     "name": "stderr",
     "output_type": "stream",
     "text": [
      "\r",
      " 19%|█▉        | 478/2499 [14:22<1:00:00,  1.78s/it]"
     ]
    },
    {
     "name": "stdout",
     "output_type": "stream",
     "text": [
      "'validation loss is 1.038709008693695 '\n",
      "'validation accuracy is 0.8197265625000002 '\n",
      "'Epoch: 479'\n",
      "'training loss is 0.06357088041576472 '\n",
      "'training accuracy is 0.9846590909090908 '\n",
      "'Epoch: 479'\n"
     ]
    },
    {
     "name": "stderr",
     "output_type": "stream",
     "text": [
      "\r",
      " 19%|█▉        | 479/2499 [14:24<1:00:59,  1.81s/it]"
     ]
    },
    {
     "name": "stdout",
     "output_type": "stream",
     "text": [
      "'validation loss is 1.0339988723397255 '\n",
      "'validation accuracy is 0.8197265625000003 '\n",
      "'Epoch: 480'\n",
      "'training loss is 0.06339861046184193 '\n",
      "'training accuracy is 0.9846590909090908 '\n",
      "'Epoch: 480'\n"
     ]
    },
    {
     "name": "stderr",
     "output_type": "stream",
     "text": [
      "\r",
      " 19%|█▉        | 480/2499 [14:26<1:01:05,  1.82s/it]"
     ]
    },
    {
     "name": "stdout",
     "output_type": "stream",
     "text": [
      "'validation loss is 1.0333944708108902 '\n",
      "'validation accuracy is 0.81943359375 '\n",
      "'Epoch: 481'\n",
      "'training loss is 0.06354720856655728 '\n",
      "'training accuracy is 0.984659090909091 '\n",
      "'Epoch: 481'\n"
     ]
    },
    {
     "name": "stderr",
     "output_type": "stream",
     "text": [
      "\r",
      " 19%|█▉        | 481/2499 [14:27<1:00:34,  1.80s/it]"
     ]
    },
    {
     "name": "stdout",
     "output_type": "stream",
     "text": [
      "'validation loss is 1.032609149813652 '\n",
      "'validation accuracy is 0.8200195312500002 '\n",
      "'Epoch: 482'\n",
      "'training loss is 0.063482212072069 '\n",
      "'training accuracy is 0.9846590909090908 '\n",
      "'Epoch: 482'\n"
     ]
    },
    {
     "name": "stderr",
     "output_type": "stream",
     "text": [
      "\r",
      " 19%|█▉        | 482/2499 [14:29<1:01:37,  1.83s/it]"
     ]
    },
    {
     "name": "stdout",
     "output_type": "stream",
     "text": [
      "'validation loss is 1.0400543987751008 '\n",
      "'validation accuracy is 0.8191406250000002 '\n",
      "'Epoch: 483'\n",
      "'training loss is 0.06343545561487024 '\n",
      "'training accuracy is 0.9846590909090908 '\n",
      "'Epoch: 483'\n"
     ]
    },
    {
     "name": "stderr",
     "output_type": "stream",
     "text": [
      "\r",
      " 19%|█▉        | 483/2499 [14:31<1:01:48,  1.84s/it]"
     ]
    },
    {
     "name": "stdout",
     "output_type": "stream",
     "text": [
      "'validation loss is 1.037220485508442 '\n",
      "'validation accuracy is 0.81943359375 '\n",
      "'Epoch: 484'\n",
      "'training loss is 0.06365804848345843 '\n",
      "'training accuracy is 0.984659090909091 '\n",
      "'Epoch: 484'\n"
     ]
    },
    {
     "name": "stderr",
     "output_type": "stream",
     "text": [
      "\r",
      " 19%|█▉        | 484/2499 [14:33<1:01:50,  1.84s/it]"
     ]
    },
    {
     "name": "stdout",
     "output_type": "stream",
     "text": [
      "'validation loss is 1.0380193144083023 '\n",
      "'validation accuracy is 0.8197265625 '\n",
      "'Epoch: 485'\n",
      "'training loss is 0.0638040541247888 '\n",
      "'training accuracy is 0.9846590909090908 '\n",
      "'Epoch: 485'\n"
     ]
    },
    {
     "name": "stderr",
     "output_type": "stream",
     "text": [
      "\r",
      " 19%|█▉        | 485/2499 [14:35<1:01:36,  1.84s/it]"
     ]
    },
    {
     "name": "stdout",
     "output_type": "stream",
     "text": [
      "'validation loss is 1.0401283159852028 '\n",
      "'validation accuracy is 0.8191406250000002 '\n",
      "'Epoch: 486'\n",
      "'training loss is 0.06347674639387564 '\n",
      "'training accuracy is 0.984659090909091 '\n",
      "'Epoch: 486'\n"
     ]
    },
    {
     "name": "stderr",
     "output_type": "stream",
     "text": [
      "\r",
      " 19%|█▉        | 486/2499 [14:37<1:02:02,  1.85s/it]"
     ]
    },
    {
     "name": "stdout",
     "output_type": "stream",
     "text": [
      "'validation loss is 1.0353257030248642 '\n",
      "'validation accuracy is 0.8197265625 '\n",
      "'Epoch: 487'\n",
      "'training loss is 0.06348334354433147 '\n",
      "'training accuracy is 0.984659090909091 '\n",
      "'Epoch: 487'\n"
     ]
    },
    {
     "name": "stderr",
     "output_type": "stream",
     "text": [
      "\r",
      " 19%|█▉        | 487/2499 [14:38<1:01:06,  1.82s/it]"
     ]
    },
    {
     "name": "stdout",
     "output_type": "stream",
     "text": [
      "'validation loss is 1.0365810737013816 '\n",
      "'validation accuracy is 0.8197265625000002 '\n",
      "'Epoch: 488'\n",
      "'training loss is 0.06338635832071304 '\n",
      "'training accuracy is 0.984659090909091 '\n",
      "'Epoch: 488'\n"
     ]
    },
    {
     "name": "stderr",
     "output_type": "stream",
     "text": [
      "\r",
      " 20%|█▉        | 488/2499 [14:40<1:01:11,  1.83s/it]"
     ]
    },
    {
     "name": "stdout",
     "output_type": "stream",
     "text": [
      "'validation loss is 1.0340014159679414 '\n",
      "'validation accuracy is 0.8197265625000002 '\n",
      "'Epoch: 489'\n",
      "'training loss is 0.06355019015344707 '\n",
      "'training accuracy is 0.984659090909091 '\n",
      "'Epoch: 489'\n"
     ]
    },
    {
     "name": "stderr",
     "output_type": "stream",
     "text": [
      "\r",
      " 20%|█▉        | 489/2499 [14:42<1:00:41,  1.81s/it]"
     ]
    },
    {
     "name": "stdout",
     "output_type": "stream",
     "text": [
      "'validation loss is 1.0292944312095642 '\n",
      "'validation accuracy is 0.8194335937500001 '\n",
      "'Epoch: 490'\n",
      "'training loss is 0.06397604434327646 '\n",
      "'training accuracy is 0.984659090909091 '\n",
      "'Epoch: 490'\n"
     ]
    },
    {
     "name": "stderr",
     "output_type": "stream",
     "text": [
      "\r",
      " 20%|█▉        | 490/2499 [14:44<1:00:08,  1.80s/it]"
     ]
    },
    {
     "name": "stdout",
     "output_type": "stream",
     "text": [
      "'validation loss is 1.0364949390292169 '\n",
      "'validation accuracy is 0.8191406250000004 '\n",
      "'Epoch: 491'\n",
      "'training loss is 0.0637646805156361 '\n",
      "'training accuracy is 0.984659090909091 '\n",
      "'Epoch: 491'\n"
     ]
    },
    {
     "name": "stderr",
     "output_type": "stream",
     "text": [
      "\r",
      " 20%|█▉        | 491/2499 [14:46<1:00:40,  1.81s/it]"
     ]
    },
    {
     "name": "stdout",
     "output_type": "stream",
     "text": [
      "'validation loss is 1.0339422196149826 '\n",
      "'validation accuracy is 0.8194335937500001 '\n",
      "'Epoch: 492'\n",
      "'training loss is 0.06380125778642567 '\n",
      "'training accuracy is 0.9846590909090908 '\n",
      "'Epoch: 492'\n"
     ]
    },
    {
     "name": "stderr",
     "output_type": "stream",
     "text": [
      "\r",
      " 20%|█▉        | 492/2499 [14:47<1:00:53,  1.82s/it]"
     ]
    },
    {
     "name": "stdout",
     "output_type": "stream",
     "text": [
      "'validation loss is 1.031091256439686 '\n",
      "'validation accuracy is 0.8197265625000002 '\n",
      "'Epoch: 493'\n",
      "'training loss is 0.06366917457092892 '\n",
      "'training accuracy is 0.984659090909091 '\n",
      "'Epoch: 493'\n"
     ]
    },
    {
     "name": "stderr",
     "output_type": "stream",
     "text": [
      "\r",
      " 20%|█▉        | 493/2499 [14:49<1:00:53,  1.82s/it]"
     ]
    },
    {
     "name": "stdout",
     "output_type": "stream",
     "text": [
      "'validation loss is 1.033210226893425 '\n",
      "'validation accuracy is 0.8200195312500002 '\n",
      "'Epoch: 494'\n",
      "'training loss is 0.06323045322840865 '\n",
      "'training accuracy is 0.984659090909091 '\n",
      "'Epoch: 494'\n"
     ]
    },
    {
     "name": "stderr",
     "output_type": "stream",
     "text": [
      "\r",
      " 20%|█▉        | 494/2499 [14:51<1:00:24,  1.81s/it]"
     ]
    },
    {
     "name": "stdout",
     "output_type": "stream",
     "text": [
      "'validation loss is 1.0336986884474755 '\n",
      "'validation accuracy is 0.8200195312500002 '\n",
      "'Epoch: 495'\n",
      "'training loss is 0.0634213662282987 '\n",
      "'training accuracy is 0.984659090909091 '\n",
      "'Epoch: 495'\n"
     ]
    },
    {
     "name": "stderr",
     "output_type": "stream",
     "text": [
      "\r",
      " 20%|█▉        | 495/2499 [14:53<59:51,  1.79s/it]  "
     ]
    },
    {
     "name": "stdout",
     "output_type": "stream",
     "text": [
      "'validation loss is 1.0307989105582238 '\n",
      "'validation accuracy is 0.8203125000000002 '\n",
      "'Epoch: 496'\n",
      "'training loss is 0.06351242620836604 '\n",
      "'training accuracy is 0.9846590909090908 '\n",
      "'Epoch: 496'\n"
     ]
    },
    {
     "name": "stderr",
     "output_type": "stream",
     "text": [
      "\r",
      " 20%|█▉        | 496/2499 [14:55<59:44,  1.79s/it]"
     ]
    },
    {
     "name": "stdout",
     "output_type": "stream",
     "text": [
      "'validation loss is 1.0364756390452385 '\n",
      "'validation accuracy is 0.8197265625000002 '\n",
      "'Epoch: 497'\n",
      "'training loss is 0.0634189173579216 '\n",
      "'training accuracy is 0.9846590909090908 '\n",
      "'Epoch: 497'\n"
     ]
    },
    {
     "name": "stderr",
     "output_type": "stream",
     "text": [
      "\r",
      " 20%|█▉        | 497/2499 [14:56<59:13,  1.78s/it]"
     ]
    },
    {
     "name": "stdout",
     "output_type": "stream",
     "text": [
      "'validation loss is 1.0348049640655517 '\n",
      "'validation accuracy is 0.8194335937500004 '\n",
      "'Epoch: 498'\n",
      "'training loss is 0.06362276659770445 '\n",
      "'training accuracy is 0.984659090909091 '\n",
      "'Epoch: 498'\n"
     ]
    },
    {
     "name": "stderr",
     "output_type": "stream",
     "text": [
      "\r",
      " 20%|█▉        | 498/2499 [14:58<59:39,  1.79s/it]"
     ]
    },
    {
     "name": "stdout",
     "output_type": "stream",
     "text": [
      "'validation loss is 1.0306029170751572 '\n",
      "'validation accuracy is 0.8203125000000002 '\n",
      "'Epoch: 499'\n",
      "'training loss is 0.0635725005783818 '\n",
      "'training accuracy is 0.984659090909091 '\n",
      "'Epoch: 499'\n"
     ]
    },
    {
     "name": "stderr",
     "output_type": "stream",
     "text": [
      "\r",
      " 20%|█▉        | 499/2499 [15:00<1:01:33,  1.85s/it]"
     ]
    },
    {
     "name": "stdout",
     "output_type": "stream",
     "text": [
      "'validation loss is 1.0314966976642608 '\n",
      "'validation accuracy is 0.8200195312500004 '\n",
      "'Epoch: 500'\n",
      "'training loss is 0.06338009102778001 '\n",
      "'training accuracy is 0.984659090909091 '\n",
      "'Epoch: 500'\n"
     ]
    },
    {
     "name": "stderr",
     "output_type": "stream",
     "text": [
      "\r",
      " 20%|██        | 500/2499 [15:02<1:01:00,  1.83s/it]"
     ]
    },
    {
     "name": "stdout",
     "output_type": "stream",
     "text": [
      "'validation loss is 1.0408440589904786 '\n",
      "'validation accuracy is 0.8194335937500001 '\n",
      "'Epoch: 501'\n",
      "'training loss is 0.06364504146304997 '\n",
      "'training accuracy is 0.984659090909091 '\n",
      "'Epoch: 501'\n"
     ]
    },
    {
     "name": "stderr",
     "output_type": "stream",
     "text": [
      "\r",
      " 20%|██        | 501/2499 [15:04<1:00:06,  1.80s/it]"
     ]
    },
    {
     "name": "stdout",
     "output_type": "stream",
     "text": [
      "'validation loss is 1.0395336732268334 '\n",
      "'validation accuracy is 0.8191406250000002 '\n",
      "'Epoch: 502'\n",
      "'training loss is 0.06346769698641518 '\n",
      "'training accuracy is 0.984659090909091 '\n",
      "'Epoch: 502'\n"
     ]
    },
    {
     "name": "stderr",
     "output_type": "stream",
     "text": [
      "\r",
      " 20%|██        | 502/2499 [15:06<1:00:35,  1.82s/it]"
     ]
    },
    {
     "name": "stdout",
     "output_type": "stream",
     "text": [
      "'validation loss is 1.0356261014938355 '\n",
      "'validation accuracy is 0.8194335937500001 '\n",
      "'Epoch: 503'\n",
      "'training loss is 0.06374511054971001 '\n",
      "'training accuracy is 0.9846590909090908 '\n",
      "'Epoch: 503'\n"
     ]
    },
    {
     "name": "stderr",
     "output_type": "stream",
     "text": [
      "\r",
      " 20%|██        | 503/2499 [15:07<1:01:45,  1.86s/it]"
     ]
    },
    {
     "name": "stdout",
     "output_type": "stream",
     "text": [
      "'validation loss is 1.033177201449871 '\n",
      "'validation accuracy is 0.8200195312500004 '\n",
      "'Epoch: 504'\n",
      "'training loss is 0.0634495121511546 '\n",
      "'training accuracy is 0.984659090909091 '\n",
      "'Epoch: 504'\n"
     ]
    },
    {
     "name": "stderr",
     "output_type": "stream",
     "text": [
      "\r",
      " 20%|██        | 504/2499 [15:09<1:02:06,  1.87s/it]"
     ]
    },
    {
     "name": "stdout",
     "output_type": "stream",
     "text": [
      "'validation loss is 1.0397758513689042 '\n",
      "'validation accuracy is 0.8191406250000002 '\n",
      "'Epoch: 505'\n",
      "'training loss is 0.06366051598028703 '\n",
      "'training accuracy is 0.9846590909090911 '\n",
      "'Epoch: 505'\n"
     ]
    },
    {
     "name": "stderr",
     "output_type": "stream",
     "text": [
      "\r",
      " 20%|██        | 505/2499 [15:11<1:02:16,  1.87s/it]"
     ]
    },
    {
     "name": "stdout",
     "output_type": "stream",
     "text": [
      "'validation loss is 1.0403717935085297 '\n",
      "'validation accuracy is 0.8194335937500004 '\n",
      "'Epoch: 506'\n",
      "'training loss is 0.06354302134026181 '\n",
      "'training accuracy is 0.984659090909091 '\n",
      "'Epoch: 506'\n"
     ]
    },
    {
     "name": "stderr",
     "output_type": "stream",
     "text": [
      "\r",
      " 20%|██        | 506/2499 [15:13<1:02:05,  1.87s/it]"
     ]
    },
    {
     "name": "stdout",
     "output_type": "stream",
     "text": [
      "'validation loss is 1.0376828774809836 '\n",
      "'validation accuracy is 0.8194335937500004 '\n",
      "'Epoch: 507'\n",
      "'training loss is 0.06363360990177501 '\n",
      "'training accuracy is 0.984659090909091 '\n",
      "'Epoch: 507'\n"
     ]
    },
    {
     "name": "stderr",
     "output_type": "stream",
     "text": [
      "\r",
      " 20%|██        | 507/2499 [15:15<1:01:26,  1.85s/it]"
     ]
    },
    {
     "name": "stdout",
     "output_type": "stream",
     "text": [
      "'validation loss is 1.0367670133709908 '\n",
      "'validation accuracy is 0.8197265625000003 '\n",
      "'Epoch: 508'\n",
      "'training loss is 0.06353911825201729 '\n",
      "'training accuracy is 0.984659090909091 '\n",
      "'Epoch: 508'\n"
     ]
    },
    {
     "name": "stderr",
     "output_type": "stream",
     "text": [
      "\r",
      " 20%|██        | 508/2499 [15:17<1:00:59,  1.84s/it]"
     ]
    },
    {
     "name": "stdout",
     "output_type": "stream",
     "text": [
      "'validation loss is 1.039189913868904 '\n",
      "'validation accuracy is 0.8194335937500004 '\n",
      "'Epoch: 509'\n",
      "'training loss is 0.06369750404899771 '\n",
      "'training accuracy is 0.9846590909090908 '\n",
      "'Epoch: 509'\n"
     ]
    },
    {
     "name": "stderr",
     "output_type": "stream",
     "text": [
      "\r",
      " 20%|██        | 509/2499 [15:19<1:01:03,  1.84s/it]"
     ]
    },
    {
     "name": "stdout",
     "output_type": "stream",
     "text": [
      "'validation loss is 1.0306381672620772 '\n",
      "'validation accuracy is 0.8206054687500002 '\n",
      "'Epoch: 510'\n",
      "'training loss is 0.06345441192388535 '\n",
      "'training accuracy is 0.984659090909091 '\n",
      "'Epoch: 510'\n"
     ]
    },
    {
     "name": "stderr",
     "output_type": "stream",
     "text": [
      "\r",
      " 20%|██        | 510/2499 [15:20<1:00:31,  1.83s/it]"
     ]
    },
    {
     "name": "stdout",
     "output_type": "stream",
     "text": [
      "'validation loss is 1.036791454255581 '\n",
      "'validation accuracy is 0.8194335937500001 '\n",
      "'Epoch: 511'\n",
      "'training loss is 0.06344929371367801 '\n",
      "'training accuracy is 0.9846590909090908 '\n",
      "'Epoch: 511'\n"
     ]
    },
    {
     "name": "stderr",
     "output_type": "stream",
     "text": [
      "\r",
      " 20%|██        | 511/2499 [15:22<59:59,  1.81s/it]  "
     ]
    },
    {
     "name": "stdout",
     "output_type": "stream",
     "text": [
      "'validation loss is 1.0350384891033173 '\n",
      "'validation accuracy is 0.8194335937500001 '\n",
      "'Epoch: 512'\n",
      "'training loss is 0.06382569501345808 '\n",
      "'training accuracy is 0.984659090909091 '\n",
      "'Epoch: 512'\n"
     ]
    },
    {
     "name": "stderr",
     "output_type": "stream",
     "text": [
      "\r",
      " 20%|██        | 512/2499 [15:24<1:00:00,  1.81s/it]"
     ]
    },
    {
     "name": "stdout",
     "output_type": "stream",
     "text": [
      "'validation loss is 1.0348058596253396 '\n",
      "'validation accuracy is 0.8197265625000002 '\n",
      "'Epoch: 513'\n",
      "'training loss is 0.0638927851210941 '\n",
      "'training accuracy is 0.9846590909090908 '\n",
      "'Epoch: 513'\n"
     ]
    },
    {
     "name": "stderr",
     "output_type": "stream",
     "text": [
      "\r",
      " 21%|██        | 513/2499 [15:26<1:00:12,  1.82s/it]"
     ]
    },
    {
     "name": "stdout",
     "output_type": "stream",
     "text": [
      "'validation loss is 1.0345068335533143 '\n",
      "'validation accuracy is 0.8197265625000003 '\n",
      "'Epoch: 514'\n",
      "'training loss is 0.06346116214990616 '\n",
      "'training accuracy is 0.9846590909090908 '\n",
      "'Epoch: 514'\n"
     ]
    },
    {
     "name": "stderr",
     "output_type": "stream",
     "text": [
      "\r",
      " 21%|██        | 514/2499 [15:28<1:00:09,  1.82s/it]"
     ]
    },
    {
     "name": "stdout",
     "output_type": "stream",
     "text": [
      "'validation loss is 1.0386328637599944 '\n",
      "'validation accuracy is 0.8191406250000002 '\n",
      "'Epoch: 515'\n",
      "'training loss is 0.0635595873675563 '\n",
      "'training accuracy is 0.9846590909090911 '\n",
      "'Epoch: 515'\n"
     ]
    },
    {
     "name": "stderr",
     "output_type": "stream",
     "text": [
      "\r",
      " 21%|██        | 515/2499 [15:30<1:01:00,  1.84s/it]"
     ]
    },
    {
     "name": "stdout",
     "output_type": "stream",
     "text": [
      "'validation loss is 1.0372075751423835 '\n",
      "'validation accuracy is 0.8194335937500001 '\n",
      "'Epoch: 516'\n",
      "'training loss is 0.06350709294730966 '\n",
      "'training accuracy is 0.984659090909091 '\n",
      "'Epoch: 516'\n"
     ]
    },
    {
     "name": "stderr",
     "output_type": "stream",
     "text": [
      "\r",
      " 21%|██        | 516/2499 [15:31<59:59,  1.82s/it]  "
     ]
    },
    {
     "name": "stdout",
     "output_type": "stream",
     "text": [
      "'validation loss is 1.038671611249447 '\n",
      "'validation accuracy is 0.8197265625000002 '\n",
      "'Epoch: 517'\n",
      "'training loss is 0.06323780153285373 '\n",
      "'training accuracy is 0.984659090909091 '\n",
      "'Epoch: 517'\n"
     ]
    },
    {
     "name": "stderr",
     "output_type": "stream",
     "text": [
      "\r",
      " 21%|██        | 517/2499 [15:33<59:42,  1.81s/it]"
     ]
    },
    {
     "name": "stdout",
     "output_type": "stream",
     "text": [
      "'validation loss is 1.0338601246476173 '\n",
      "'validation accuracy is 0.8197265625000002 '\n",
      "'Epoch: 518'\n",
      "'training loss is 0.06384834173050793 '\n",
      "'training accuracy is 0.984659090909091 '\n",
      "'Epoch: 518'\n"
     ]
    },
    {
     "name": "stderr",
     "output_type": "stream",
     "text": [
      "\r",
      " 21%|██        | 518/2499 [15:35<59:56,  1.82s/it]"
     ]
    },
    {
     "name": "stdout",
     "output_type": "stream",
     "text": [
      "'validation loss is 1.033826942741871 '\n",
      "'validation accuracy is 0.8194335937500001 '\n",
      "'Epoch: 519'\n",
      "'training loss is 0.06377373703501442 '\n",
      "'training accuracy is 0.984659090909091 '\n",
      "'Epoch: 519'\n"
     ]
    },
    {
     "name": "stderr",
     "output_type": "stream",
     "text": [
      "\r",
      " 21%|██        | 519/2499 [15:37<59:28,  1.80s/it]"
     ]
    },
    {
     "name": "stdout",
     "output_type": "stream",
     "text": [
      "'validation loss is 1.0346850261092186 '\n",
      "'validation accuracy is 0.8194335937500004 '\n",
      "'Epoch: 520'\n",
      "'training loss is 0.06358138234777884 '\n",
      "'training accuracy is 0.984659090909091 '\n",
      "'Epoch: 520'\n"
     ]
    },
    {
     "name": "stderr",
     "output_type": "stream",
     "text": [
      "\r",
      " 21%|██        | 520/2499 [15:39<1:00:02,  1.82s/it]"
     ]
    },
    {
     "name": "stdout",
     "output_type": "stream",
     "text": [
      "'validation loss is 1.027883206307888 '\n",
      "'validation accuracy is 0.8200195312500004 '\n",
      "'Epoch: 521'\n",
      "'training loss is 0.06323538856072859 '\n",
      "'training accuracy is 0.984659090909091 '\n",
      "'Epoch: 521'\n"
     ]
    },
    {
     "name": "stderr",
     "output_type": "stream",
     "text": [
      "\r",
      " 21%|██        | 521/2499 [15:40<59:28,  1.80s/it]  "
     ]
    },
    {
     "name": "stdout",
     "output_type": "stream",
     "text": [
      "'validation loss is 1.0305948302149772 '\n",
      "'validation accuracy is 0.8197265625000002 '\n",
      "'Epoch: 522'\n",
      "'training loss is 0.06353755735538223 '\n",
      "'training accuracy is 0.9846590909090908 '\n",
      "'Epoch: 522'\n"
     ]
    },
    {
     "name": "stderr",
     "output_type": "stream",
     "text": [
      "\r",
      " 21%|██        | 522/2499 [15:42<59:33,  1.81s/it]"
     ]
    },
    {
     "name": "stdout",
     "output_type": "stream",
     "text": [
      "'validation loss is 1.0363619118928908 '\n",
      "'validation accuracy is 0.8191406250000002 '\n",
      "'Epoch: 523'\n",
      "'training loss is 0.06346394900571216 '\n",
      "'training accuracy is 0.984659090909091 '\n",
      "'Epoch: 523'\n"
     ]
    },
    {
     "name": "stderr",
     "output_type": "stream",
     "text": [
      "\r",
      " 21%|██        | 523/2499 [15:44<1:00:36,  1.84s/it]"
     ]
    },
    {
     "name": "stdout",
     "output_type": "stream",
     "text": [
      "'validation loss is 1.0317168325185775 '\n",
      "'validation accuracy is 0.8194335937500001 '\n",
      "'Epoch: 524'\n",
      "'training loss is 0.06350762735713612 '\n",
      "'training accuracy is 0.984659090909091 '\n",
      "'Epoch: 524'\n"
     ]
    },
    {
     "name": "stderr",
     "output_type": "stream",
     "text": [
      "\r",
      " 21%|██        | 524/2499 [15:46<1:02:25,  1.90s/it]"
     ]
    },
    {
     "name": "stdout",
     "output_type": "stream",
     "text": [
      "'validation loss is 1.028383195400238 '\n",
      "'validation accuracy is 0.8197265625 '\n",
      "'Epoch: 525'\n",
      "'training loss is 0.06337104331363332 '\n",
      "'training accuracy is 0.984659090909091 '\n",
      "'Epoch: 525'\n"
     ]
    },
    {
     "name": "stderr",
     "output_type": "stream",
     "text": [
      "\r",
      " 21%|██        | 525/2499 [15:48<1:02:33,  1.90s/it]"
     ]
    },
    {
     "name": "stdout",
     "output_type": "stream",
     "text": [
      "'validation loss is 1.030904147028923 '\n",
      "'validation accuracy is 0.81943359375 '\n",
      "'Epoch: 526'\n",
      "'training loss is 0.0636273707178506 '\n",
      "'training accuracy is 0.9846590909090908 '\n",
      "'Epoch: 526'\n"
     ]
    },
    {
     "name": "stderr",
     "output_type": "stream",
     "text": [
      "\r",
      " 21%|██        | 526/2499 [15:50<1:01:45,  1.88s/it]"
     ]
    },
    {
     "name": "stdout",
     "output_type": "stream",
     "text": [
      "'validation loss is 1.0289303630590438 '\n",
      "'validation accuracy is 0.8197265625000003 '\n",
      "'Epoch: 527'\n",
      "'training loss is 0.06354715370319107 '\n",
      "'training accuracy is 0.9846590909090908 '\n",
      "'Epoch: 527'\n"
     ]
    },
    {
     "name": "stderr",
     "output_type": "stream",
     "text": [
      "\r",
      " 21%|██        | 527/2499 [15:52<1:01:30,  1.87s/it]"
     ]
    },
    {
     "name": "stdout",
     "output_type": "stream",
     "text": [
      "'validation loss is 1.0329938903450966 '\n",
      "'validation accuracy is 0.8197265625000003 '\n",
      "'Epoch: 528'\n",
      "'training loss is 0.06355102563446219 '\n",
      "'training accuracy is 0.984659090909091 '\n",
      "'Epoch: 528'\n"
     ]
    },
    {
     "name": "stderr",
     "output_type": "stream",
     "text": [
      "\r",
      " 21%|██        | 528/2499 [15:53<1:00:49,  1.85s/it]"
     ]
    },
    {
     "name": "stdout",
     "output_type": "stream",
     "text": [
      "'validation loss is 1.0328361093997955 '\n",
      "'validation accuracy is 0.8197265625000002 '\n",
      "'Epoch: 529'\n",
      "'training loss is 0.06369354406541045 '\n",
      "'training accuracy is 0.984659090909091 '\n",
      "'Epoch: 529'\n"
     ]
    },
    {
     "name": "stderr",
     "output_type": "stream",
     "text": [
      "\r",
      " 21%|██        | 529/2499 [15:55<59:45,  1.82s/it]  "
     ]
    },
    {
     "name": "stdout",
     "output_type": "stream",
     "text": [
      "'validation loss is 1.0337746053934098 '\n",
      "'validation accuracy is 0.8197265625000002 '\n",
      "'Epoch: 530'\n",
      "'training loss is 0.06362297318198464 '\n",
      "'training accuracy is 0.984659090909091 '\n",
      "'Epoch: 530'\n"
     ]
    },
    {
     "name": "stderr",
     "output_type": "stream",
     "text": [
      "\r",
      " 21%|██        | 530/2499 [15:57<1:00:18,  1.84s/it]"
     ]
    },
    {
     "name": "stdout",
     "output_type": "stream",
     "text": [
      "'validation loss is 1.0294308543205262 '\n",
      "'validation accuracy is 0.8197265625000002 '\n",
      "'Epoch: 531'\n",
      "'training loss is 0.06344181434674696 '\n",
      "'training accuracy is 0.984659090909091 '\n",
      "'Epoch: 531'\n"
     ]
    },
    {
     "name": "stderr",
     "output_type": "stream",
     "text": [
      "\r",
      " 21%|██        | 531/2499 [15:59<59:46,  1.82s/it]  "
     ]
    },
    {
     "name": "stdout",
     "output_type": "stream",
     "text": [
      "'validation loss is 1.029040490090847 '\n",
      "'validation accuracy is 0.8200195312500002 '\n",
      "'Epoch: 532'\n",
      "'training loss is 0.06358072635802356 '\n",
      "'training accuracy is 0.984659090909091 '\n",
      "'Epoch: 532'\n"
     ]
    },
    {
     "name": "stderr",
     "output_type": "stream",
     "text": [
      "\r",
      " 21%|██▏       | 532/2499 [16:01<59:21,  1.81s/it]"
     ]
    },
    {
     "name": "stdout",
     "output_type": "stream",
     "text": [
      "'validation loss is 1.0305612727999687 '\n",
      "'validation accuracy is 0.8197265625 '\n",
      "'Epoch: 533'\n",
      "'training loss is 0.06348913366144354 '\n",
      "'training accuracy is 0.984659090909091 '\n",
      "'Epoch: 533'\n"
     ]
    },
    {
     "name": "stderr",
     "output_type": "stream",
     "text": [
      "\r",
      " 21%|██▏       | 533/2499 [16:02<59:33,  1.82s/it]"
     ]
    },
    {
     "name": "stdout",
     "output_type": "stream",
     "text": [
      "'validation loss is 1.027273716032505 '\n",
      "'validation accuracy is 0.8194335937500004 '\n",
      "'Epoch: 534'\n",
      "'training loss is 0.06357984007759528 '\n",
      "'training accuracy is 0.984659090909091 '\n",
      "'Epoch: 534'\n"
     ]
    },
    {
     "name": "stderr",
     "output_type": "stream",
     "text": [
      "\r",
      " 21%|██▏       | 534/2499 [16:04<59:40,  1.82s/it]"
     ]
    },
    {
     "name": "stdout",
     "output_type": "stream",
     "text": [
      "'validation loss is 1.0309202089905738 '\n",
      "'validation accuracy is 0.8194335937500001 '\n",
      "'Epoch: 535'\n",
      "'training loss is 0.06360777738419446 '\n",
      "'training accuracy is 0.984659090909091 '\n",
      "'Epoch: 535'\n"
     ]
    },
    {
     "name": "stderr",
     "output_type": "stream",
     "text": [
      "\r",
      " 21%|██▏       | 535/2499 [16:06<59:55,  1.83s/it]"
     ]
    },
    {
     "name": "stdout",
     "output_type": "stream",
     "text": [
      "'validation loss is 1.0297922372817994 '\n",
      "'validation accuracy is 0.81943359375 '\n",
      "'Epoch: 536'\n",
      "'training loss is 0.06362104415893555 '\n",
      "'training accuracy is 0.984659090909091 '\n",
      "'Epoch: 536'\n"
     ]
    },
    {
     "name": "stderr",
     "output_type": "stream",
     "text": [
      "\r",
      " 21%|██▏       | 536/2499 [16:08<1:00:01,  1.83s/it]"
     ]
    },
    {
     "name": "stdout",
     "output_type": "stream",
     "text": [
      "'validation loss is 1.0293799340724945 '\n",
      "'validation accuracy is 0.81943359375 '\n",
      "'Epoch: 537'\n",
      "'training loss is 0.06353386830199849 '\n",
      "'training accuracy is 0.984659090909091 '\n",
      "'Epoch: 537'\n"
     ]
    },
    {
     "name": "stderr",
     "output_type": "stream",
     "text": [
      "\r",
      " 21%|██▏       | 537/2499 [16:10<59:57,  1.83s/it]  "
     ]
    },
    {
     "name": "stdout",
     "output_type": "stream",
     "text": [
      "'validation loss is 1.0297646686434745 '\n",
      "'validation accuracy is 0.8197265625000002 '\n",
      "'Epoch: 538'\n",
      "'training loss is 0.0636356117373163 '\n",
      "'training accuracy is 0.984659090909091 '\n",
      "'Epoch: 538'\n"
     ]
    },
    {
     "name": "stderr",
     "output_type": "stream",
     "text": [
      "\r",
      " 22%|██▏       | 538/2499 [16:12<59:21,  1.82s/it]"
     ]
    },
    {
     "name": "stdout",
     "output_type": "stream",
     "text": [
      "'validation loss is 1.0334562510252 '\n",
      "'validation accuracy is 0.8191406250000002 '\n",
      "'Epoch: 539'\n",
      "'training loss is 0.06344322487711906 '\n",
      "'training accuracy is 0.984659090909091 '\n",
      "'Epoch: 539'\n"
     ]
    },
    {
     "name": "stderr",
     "output_type": "stream",
     "text": [
      "\r",
      " 22%|██▏       | 539/2499 [16:14<1:00:37,  1.86s/it]"
     ]
    },
    {
     "name": "stdout",
     "output_type": "stream",
     "text": [
      "'validation loss is 1.032419116795063 '\n",
      "'validation accuracy is 0.8191406250000002 '\n",
      "'Epoch: 540'\n",
      "'training loss is 0.06327510658990253 '\n",
      "'training accuracy is 0.9846590909090908 '\n",
      "'Epoch: 540'\n"
     ]
    },
    {
     "name": "stderr",
     "output_type": "stream",
     "text": [
      "\r",
      " 22%|██▏       | 540/2499 [16:15<59:52,  1.83s/it]  "
     ]
    },
    {
     "name": "stdout",
     "output_type": "stream",
     "text": [
      "'validation loss is 1.0322198435664176 '\n",
      "'validation accuracy is 0.8191406250000002 '\n",
      "'Epoch: 541'\n",
      "'training loss is 0.0634824691170996 '\n",
      "'training accuracy is 0.9846590909090908 '\n",
      "'Epoch: 541'\n"
     ]
    },
    {
     "name": "stderr",
     "output_type": "stream",
     "text": [
      "\r",
      " 22%|██▏       | 541/2499 [16:17<59:43,  1.83s/it]"
     ]
    },
    {
     "name": "stdout",
     "output_type": "stream",
     "text": [
      "'validation loss is 1.0300975769758225 '\n",
      "'validation accuracy is 0.8200195312500004 '\n",
      "'Epoch: 542'\n",
      "'training loss is 0.06353156133131548 '\n",
      "'training accuracy is 0.984659090909091 '\n",
      "'Epoch: 542'\n"
     ]
    },
    {
     "name": "stderr",
     "output_type": "stream",
     "text": [
      "\r",
      " 22%|██▏       | 542/2499 [16:19<59:25,  1.82s/it]"
     ]
    },
    {
     "name": "stdout",
     "output_type": "stream",
     "text": [
      "'validation loss is 1.0306577324867248 '\n",
      "'validation accuracy is 0.8191406250000002 '\n",
      "'Epoch: 543'\n",
      "'training loss is 0.06365135955539616 '\n",
      "'training accuracy is 0.984659090909091 '\n",
      "'Epoch: 543'\n"
     ]
    },
    {
     "name": "stderr",
     "output_type": "stream",
     "text": [
      "\r",
      " 22%|██▏       | 543/2499 [16:21<59:33,  1.83s/it]"
     ]
    },
    {
     "name": "stdout",
     "output_type": "stream",
     "text": [
      "'validation loss is 1.026904782652855 '\n",
      "'validation accuracy is 0.8197265625000002 '\n",
      "'Epoch: 544'\n",
      "'training loss is 0.06343336640433832 '\n",
      "'training accuracy is 0.9846590909090911 '\n",
      "'Epoch: 544'\n"
     ]
    },
    {
     "name": "stderr",
     "output_type": "stream",
     "text": [
      "\r",
      " 22%|██▏       | 544/2499 [16:23<59:59,  1.84s/it]"
     ]
    },
    {
     "name": "stdout",
     "output_type": "stream",
     "text": [
      "'validation loss is 1.0332572415471077 '\n",
      "'validation accuracy is 0.8194335937500004 '\n",
      "'Epoch: 545'\n",
      "'training loss is 0.06371330537579277 '\n",
      "'training accuracy is 0.9846590909090908 '\n",
      "'Epoch: 545'\n"
     ]
    },
    {
     "name": "stderr",
     "output_type": "stream",
     "text": [
      "\r",
      " 22%|██▏       | 545/2499 [16:25<1:00:03,  1.84s/it]"
     ]
    },
    {
     "name": "stdout",
     "output_type": "stream",
     "text": [
      "'validation loss is 1.0241249561309815 '\n",
      "'validation accuracy is 0.8197265625000002 '\n",
      "'Epoch: 546'\n",
      "'training loss is 0.06345329941673712 '\n",
      "'training accuracy is 0.984659090909091 '\n",
      "'Epoch: 546'\n"
     ]
    },
    {
     "name": "stderr",
     "output_type": "stream",
     "text": [
      "\r",
      " 22%|██▏       | 546/2499 [16:26<59:37,  1.83s/it]  "
     ]
    },
    {
     "name": "stdout",
     "output_type": "stream",
     "text": [
      "'validation loss is 1.032309426367283 '\n",
      "'validation accuracy is 0.81943359375 '\n",
      "'Epoch: 547'\n",
      "'training loss is 0.0635876865549521 '\n",
      "'training accuracy is 0.984659090909091 '\n",
      "'Epoch: 547'\n"
     ]
    },
    {
     "name": "stderr",
     "output_type": "stream",
     "text": [
      "\r",
      " 22%|██▏       | 547/2499 [16:28<59:23,  1.83s/it]"
     ]
    },
    {
     "name": "stdout",
     "output_type": "stream",
     "text": [
      "'validation loss is 1.035890093445778 '\n",
      "'validation accuracy is 0.8191406250000002 '\n",
      "'Epoch: 548'\n",
      "'training loss is 0.06350474533709613 '\n",
      "'training accuracy is 0.984659090909091 '\n",
      "'Epoch: 548'\n"
     ]
    },
    {
     "name": "stderr",
     "output_type": "stream",
     "text": [
      "\r",
      " 22%|██▏       | 548/2499 [16:30<59:10,  1.82s/it]"
     ]
    },
    {
     "name": "stdout",
     "output_type": "stream",
     "text": [
      "'validation loss is 1.0266662999987601 '\n",
      "'validation accuracy is 0.8203125000000002 '\n",
      "'Epoch: 549'\n",
      "'training loss is 0.06357968429272826 '\n",
      "'training accuracy is 0.9846590909090908 '\n",
      "'Epoch: 549'\n"
     ]
    },
    {
     "name": "stderr",
     "output_type": "stream",
     "text": [
      "\r",
      " 22%|██▏       | 549/2499 [16:32<58:44,  1.81s/it]"
     ]
    },
    {
     "name": "stdout",
     "output_type": "stream",
     "text": [
      "'validation loss is 1.0246057748794555 '\n",
      "'validation accuracy is 0.8197265625000003 '\n",
      "'Epoch: 550'\n",
      "'training loss is 0.06347644803198901 '\n",
      "'training accuracy is 0.9846590909090908 '\n",
      "'Epoch: 550'\n"
     ]
    },
    {
     "name": "stderr",
     "output_type": "stream",
     "text": [
      "\r",
      " 22%|██▏       | 550/2499 [16:34<59:33,  1.83s/it]"
     ]
    },
    {
     "name": "stdout",
     "output_type": "stream",
     "text": [
      "'validation loss is 1.0300586462020873 '\n",
      "'validation accuracy is 0.8197265625 '\n",
      "'Epoch: 551'\n",
      "'training loss is 0.06360974264415828 '\n",
      "'training accuracy is 0.984659090909091 '\n",
      "'Epoch: 551'\n"
     ]
    },
    {
     "name": "stderr",
     "output_type": "stream",
     "text": [
      "\r",
      " 22%|██▏       | 551/2499 [16:35<59:22,  1.83s/it]"
     ]
    },
    {
     "name": "stdout",
     "output_type": "stream",
     "text": [
      "'validation loss is 1.0324702978134155 '\n",
      "'validation accuracy is 0.8191406250000002 '\n",
      "'Epoch: 552'\n",
      "'training loss is 0.06340397928248752 '\n",
      "'training accuracy is 0.984659090909091 '\n",
      "'Epoch: 552'\n"
     ]
    },
    {
     "name": "stderr",
     "output_type": "stream",
     "text": [
      "\r",
      " 22%|██▏       | 552/2499 [16:37<59:19,  1.83s/it]"
     ]
    },
    {
     "name": "stdout",
     "output_type": "stream",
     "text": [
      "'validation loss is 1.0279268890619278 '\n",
      "'validation accuracy is 0.8197265625000002 '\n",
      "'Epoch: 553'\n",
      "'training loss is 0.06351432712240652 '\n",
      "'training accuracy is 0.984659090909091 '\n",
      "'Epoch: 553'\n"
     ]
    },
    {
     "name": "stderr",
     "output_type": "stream",
     "text": [
      "\r",
      " 22%|██▏       | 553/2499 [16:39<59:20,  1.83s/it]"
     ]
    },
    {
     "name": "stdout",
     "output_type": "stream",
     "text": [
      "'validation loss is 1.0336938083171845 '\n",
      "'validation accuracy is 0.8197265625000002 '\n",
      "'Epoch: 554'\n",
      "'training loss is 0.06345452063462952 '\n",
      "'training accuracy is 0.984659090909091 '\n",
      "'Epoch: 554'\n"
     ]
    },
    {
     "name": "stderr",
     "output_type": "stream",
     "text": [
      "\r",
      " 22%|██▏       | 554/2499 [16:41<59:22,  1.83s/it]"
     ]
    },
    {
     "name": "stdout",
     "output_type": "stream",
     "text": [
      "'validation loss is 1.0359326690435409 '\n",
      "'validation accuracy is 0.8191406250000002 '\n",
      "'Epoch: 555'\n",
      "'training loss is 0.06335204297846014 '\n",
      "'training accuracy is 0.9846590909090908 '\n",
      "'Epoch: 555'\n"
     ]
    },
    {
     "name": "stderr",
     "output_type": "stream",
     "text": [
      "\r",
      " 22%|██▏       | 555/2499 [16:43<59:35,  1.84s/it]"
     ]
    },
    {
     "name": "stdout",
     "output_type": "stream",
     "text": [
      "'validation loss is 1.0265407711267471 '\n",
      "'validation accuracy is 0.8194335937500001 '\n",
      "'Epoch: 556'\n",
      "'training loss is 0.06364251232960007 '\n",
      "'training accuracy is 0.984659090909091 '\n",
      "'Epoch: 556'\n"
     ]
    },
    {
     "name": "stderr",
     "output_type": "stream",
     "text": [
      "\r",
      " 22%|██▏       | 556/2499 [16:45<59:20,  1.83s/it]"
     ]
    },
    {
     "name": "stdout",
     "output_type": "stream",
     "text": [
      "'validation loss is 1.0231560692191124 '\n",
      "'validation accuracy is 0.8203125000000002 '\n",
      "'Epoch: 557'\n",
      "'training loss is 0.06355532360347835 '\n",
      "'training accuracy is 0.984659090909091 '\n",
      "'Epoch: 557'\n"
     ]
    },
    {
     "name": "stderr",
     "output_type": "stream",
     "text": [
      "\r",
      " 22%|██▏       | 557/2499 [16:46<58:58,  1.82s/it]"
     ]
    },
    {
     "name": "stdout",
     "output_type": "stream",
     "text": [
      "'validation loss is 1.0242021918296813 '\n",
      "'validation accuracy is 0.8203125000000002 '\n",
      "'Epoch: 558'\n",
      "'training loss is 0.06354090029543097 '\n",
      "'training accuracy is 0.9846590909090908 '\n",
      "'Epoch: 558'\n"
     ]
    },
    {
     "name": "stderr",
     "output_type": "stream",
     "text": [
      "\r",
      " 22%|██▏       | 558/2499 [16:48<59:18,  1.83s/it]"
     ]
    },
    {
     "name": "stdout",
     "output_type": "stream",
     "text": [
      "'validation loss is 1.034540741145611 '\n",
      "'validation accuracy is 0.8191406250000004 '\n",
      "'Epoch: 559'\n",
      "'training loss is 0.06366269933906468 '\n",
      "'training accuracy is 0.984659090909091 '\n",
      "'Epoch: 559'\n"
     ]
    },
    {
     "name": "stderr",
     "output_type": "stream",
     "text": [
      "\r",
      " 22%|██▏       | 559/2499 [16:50<59:27,  1.84s/it]"
     ]
    },
    {
     "name": "stdout",
     "output_type": "stream",
     "text": [
      "'validation loss is 1.0287829384207725 '\n",
      "'validation accuracy is 0.8194335937500004 '\n",
      "'Epoch: 560'\n",
      "'training loss is 0.06359451738270847 '\n",
      "'training accuracy is 0.984659090909091 '\n",
      "'Epoch: 560'\n"
     ]
    },
    {
     "name": "stderr",
     "output_type": "stream",
     "text": [
      "\r",
      " 22%|██▏       | 560/2499 [16:52<58:45,  1.82s/it]"
     ]
    },
    {
     "name": "stdout",
     "output_type": "stream",
     "text": [
      "'validation loss is 1.0293703347444534 '\n",
      "'validation accuracy is 0.8191406250000002 '\n",
      "'Epoch: 561'\n",
      "'training loss is 0.06338023936206644 '\n",
      "'training accuracy is 0.984659090909091 '\n",
      "'Epoch: 561'\n"
     ]
    },
    {
     "name": "stderr",
     "output_type": "stream",
     "text": [
      "\r",
      " 22%|██▏       | 561/2499 [16:54<58:19,  1.81s/it]"
     ]
    },
    {
     "name": "stdout",
     "output_type": "stream",
     "text": [
      "'validation loss is 1.0264434039592742 '\n",
      "'validation accuracy is 0.8200195312500002 '\n",
      "'Epoch: 562'\n",
      "'training loss is 0.0632807422767986 '\n",
      "'training accuracy is 0.984659090909091 '\n",
      "'Epoch: 562'\n"
     ]
    },
    {
     "name": "stderr",
     "output_type": "stream",
     "text": [
      "\r",
      " 22%|██▏       | 562/2499 [16:56<58:46,  1.82s/it]"
     ]
    },
    {
     "name": "stdout",
     "output_type": "stream",
     "text": [
      "'validation loss is 1.0296666756272317 '\n",
      "'validation accuracy is 0.8194335937500001 '\n",
      "'Epoch: 563'\n",
      "'training loss is 0.06366325237534264 '\n",
      "'training accuracy is 0.984659090909091 '\n",
      "'Epoch: 563'\n"
     ]
    },
    {
     "name": "stderr",
     "output_type": "stream",
     "text": [
      "\r",
      " 23%|██▎       | 563/2499 [16:57<59:00,  1.83s/it]"
     ]
    },
    {
     "name": "stdout",
     "output_type": "stream",
     "text": [
      "'validation loss is 1.0317705601453782 '\n",
      "'validation accuracy is 0.8191406250000004 '\n",
      "'Epoch: 564'\n",
      "'training loss is 0.06366322020238097 '\n",
      "'training accuracy is 0.984659090909091 '\n",
      "'Epoch: 564'\n"
     ]
    },
    {
     "name": "stderr",
     "output_type": "stream",
     "text": [
      "\r",
      " 23%|██▎       | 564/2499 [16:59<58:54,  1.83s/it]"
     ]
    },
    {
     "name": "stdout",
     "output_type": "stream",
     "text": [
      "'validation loss is 1.026109793782234 '\n",
      "'validation accuracy is 0.819140625 '\n",
      "'Epoch: 565'\n",
      "'training loss is 0.06375751204111359 '\n",
      "'training accuracy is 0.9846590909090908 '\n",
      "'Epoch: 565'\n"
     ]
    },
    {
     "name": "stderr",
     "output_type": "stream",
     "text": [
      "\r",
      " 23%|██▎       | 565/2499 [17:01<58:00,  1.80s/it]"
     ]
    },
    {
     "name": "stdout",
     "output_type": "stream",
     "text": [
      "'validation loss is 1.0283280566334725 '\n",
      "'validation accuracy is 0.8194335937500001 '\n",
      "'Epoch: 566'\n",
      "'training loss is 0.06347347017038953 '\n",
      "'training accuracy is 0.9846590909090908 '\n",
      "'Epoch: 566'\n"
     ]
    },
    {
     "name": "stderr",
     "output_type": "stream",
     "text": [
      "\r",
      " 23%|██▎       | 566/2499 [17:03<59:52,  1.86s/it]"
     ]
    },
    {
     "name": "stdout",
     "output_type": "stream",
     "text": [
      "'validation loss is 1.0265065550804138 '\n",
      "'validation accuracy is 0.8203125 '\n",
      "'Epoch: 567'\n",
      "'training loss is 0.06337026980790225 '\n",
      "'training accuracy is 0.984659090909091 '\n",
      "'Epoch: 567'\n"
     ]
    },
    {
     "name": "stderr",
     "output_type": "stream",
     "text": [
      "\r",
      " 23%|██▎       | 567/2499 [17:05<59:54,  1.86s/it]"
     ]
    },
    {
     "name": "stdout",
     "output_type": "stream",
     "text": [
      "'validation loss is 1.0307713612914085 '\n",
      "'validation accuracy is 0.8191406250000002 '\n",
      "'Epoch: 568'\n",
      "'training loss is 0.06352141059257767 '\n",
      "'training accuracy is 0.9846590909090908 '\n",
      "'Epoch: 568'\n"
     ]
    },
    {
     "name": "stderr",
     "output_type": "stream",
     "text": [
      "\r",
      " 23%|██▎       | 568/2499 [17:07<59:08,  1.84s/it]"
     ]
    },
    {
     "name": "stdout",
     "output_type": "stream",
     "text": [
      "'validation loss is 1.0264944553375244 '\n",
      "'validation accuracy is 0.8194335937500004 '\n",
      "'Epoch: 569'\n",
      "'training loss is 0.0638311051509597 '\n",
      "'training accuracy is 0.984659090909091 '\n",
      "'Epoch: 569'\n"
     ]
    },
    {
     "name": "stderr",
     "output_type": "stream",
     "text": [
      "\r",
      " 23%|██▎       | 569/2499 [17:08<59:37,  1.85s/it]"
     ]
    },
    {
     "name": "stdout",
     "output_type": "stream",
     "text": [
      "'validation loss is 1.0301993265748024 '\n",
      "'validation accuracy is 0.8194335937500004 '\n",
      "'Epoch: 570'\n",
      "'training loss is 0.06335966898636385 '\n",
      "'training accuracy is 0.984659090909091 '\n",
      "'Epoch: 570'\n"
     ]
    },
    {
     "name": "stderr",
     "output_type": "stream",
     "text": [
      "\r",
      " 23%|██▎       | 570/2499 [17:10<58:36,  1.82s/it]"
     ]
    },
    {
     "name": "stdout",
     "output_type": "stream",
     "text": [
      "'validation loss is 1.0258610397577286 '\n",
      "'validation accuracy is 0.8197265625 '\n",
      "'Epoch: 571'\n",
      "'training loss is 0.0637514323673465 '\n",
      "'training accuracy is 0.984659090909091 '\n",
      "'Epoch: 571'\n"
     ]
    },
    {
     "name": "stderr",
     "output_type": "stream",
     "text": [
      "\r",
      " 23%|██▎       | 571/2499 [17:12<58:53,  1.83s/it]"
     ]
    },
    {
     "name": "stdout",
     "output_type": "stream",
     "text": [
      "'validation loss is 1.0280158042907714 '\n",
      "'validation accuracy is 0.8197265625000002 '\n",
      "'Epoch: 572'\n",
      "'training loss is 0.06364471770145676 '\n",
      "'training accuracy is 0.984659090909091 '\n",
      "'Epoch: 572'\n"
     ]
    },
    {
     "name": "stderr",
     "output_type": "stream",
     "text": [
      "\r",
      " 23%|██▎       | 572/2499 [17:14<58:50,  1.83s/it]"
     ]
    },
    {
     "name": "stdout",
     "output_type": "stream",
     "text": [
      "'validation loss is 1.0328952997922898 '\n",
      "'validation accuracy is 0.8191406250000002 '\n",
      "'Epoch: 573'\n",
      "'training loss is 0.06370752711187709 '\n",
      "'training accuracy is 0.984659090909091 '\n",
      "'Epoch: 573'\n"
     ]
    },
    {
     "name": "stderr",
     "output_type": "stream",
     "text": [
      "\r",
      " 23%|██▎       | 573/2499 [17:16<1:00:13,  1.88s/it]"
     ]
    },
    {
     "name": "stdout",
     "output_type": "stream",
     "text": [
      "'validation loss is 1.0262607261538506 '\n",
      "'validation accuracy is 0.8200195312500002 '\n",
      "'Epoch: 574'\n",
      "'training loss is 0.06331980194557797 '\n",
      "'training accuracy is 0.9846590909090908 '\n",
      "'Epoch: 574'\n"
     ]
    },
    {
     "name": "stderr",
     "output_type": "stream",
     "text": [
      "\r",
      " 23%|██▎       | 574/2499 [17:18<59:19,  1.85s/it]  "
     ]
    },
    {
     "name": "stdout",
     "output_type": "stream",
     "text": [
      "'validation loss is 1.0341254249215126 '\n",
      "'validation accuracy is 0.8191406250000004 '\n",
      "'Epoch: 575'\n",
      "'training loss is 0.06344808231700551 '\n",
      "'training accuracy is 0.984659090909091 '\n",
      "'Epoch: 575'\n"
     ]
    },
    {
     "name": "stderr",
     "output_type": "stream",
     "text": [
      "\r",
      " 23%|██▎       | 575/2499 [17:19<58:42,  1.83s/it]"
     ]
    },
    {
     "name": "stdout",
     "output_type": "stream",
     "text": [
      "'validation loss is 1.0242900222539901 '\n",
      "'validation accuracy is 0.8203125000000002 '\n",
      "'Epoch: 576'\n",
      "'training loss is 0.06354223022406752 '\n",
      "'training accuracy is 0.9846590909090908 '\n",
      "'Epoch: 576'\n"
     ]
    },
    {
     "name": "stderr",
     "output_type": "stream",
     "text": [
      "\r",
      " 23%|██▎       | 576/2499 [17:21<58:16,  1.82s/it]"
     ]
    },
    {
     "name": "stdout",
     "output_type": "stream",
     "text": [
      "'validation loss is 1.021952322125435 '\n",
      "'validation accuracy is 0.8200195312500002 '\n",
      "'Epoch: 577'\n",
      "'training loss is 0.06341959603808144 '\n",
      "'training accuracy is 0.984659090909091 '\n",
      "'Epoch: 577'\n"
     ]
    },
    {
     "name": "stderr",
     "output_type": "stream",
     "text": [
      "\r",
      " 23%|██▎       | 577/2499 [17:23<58:16,  1.82s/it]"
     ]
    },
    {
     "name": "stdout",
     "output_type": "stream",
     "text": [
      "'validation loss is 1.0245626866817474 '\n",
      "'validation accuracy is 0.8203125000000002 '\n",
      "'Epoch: 578'\n",
      "'training loss is 0.06346980075944554 '\n",
      "'training accuracy is 0.984659090909091 '\n",
      "'Epoch: 578'\n"
     ]
    },
    {
     "name": "stderr",
     "output_type": "stream",
     "text": [
      "\r",
      " 23%|██▎       | 578/2499 [17:25<58:25,  1.82s/it]"
     ]
    },
    {
     "name": "stdout",
     "output_type": "stream",
     "text": [
      "'validation loss is 1.0294196799397468 '\n",
      "'validation accuracy is 0.8191406250000004 '\n",
      "'Epoch: 579'\n",
      "'training loss is 0.06342025033452293 '\n",
      "'training accuracy is 0.984659090909091 '\n",
      "'Epoch: 579'\n"
     ]
    },
    {
     "name": "stderr",
     "output_type": "stream",
     "text": [
      "\r",
      " 23%|██▎       | 579/2499 [17:27<57:47,  1.81s/it]"
     ]
    },
    {
     "name": "stdout",
     "output_type": "stream",
     "text": [
      "'validation loss is 1.0242165341973304 '\n",
      "'validation accuracy is 0.8197265625000002 '\n",
      "'Epoch: 580'\n",
      "'training loss is 0.06357875297015364 '\n",
      "'training accuracy is 0.9846590909090908 '\n",
      "'Epoch: 580'\n"
     ]
    },
    {
     "name": "stderr",
     "output_type": "stream",
     "text": [
      "\r",
      " 23%|██▎       | 580/2499 [17:28<56:36,  1.77s/it]"
     ]
    },
    {
     "name": "stdout",
     "output_type": "stream",
     "text": [
      "'validation loss is 1.0266651839017868 '\n",
      "'validation accuracy is 0.8194335937500004 '\n",
      "'Epoch: 581'\n",
      "'training loss is 0.06349376284263351 '\n",
      "'training accuracy is 0.984659090909091 '\n",
      "'Epoch: 581'\n"
     ]
    },
    {
     "name": "stderr",
     "output_type": "stream",
     "text": [
      "\r",
      " 23%|██▎       | 581/2499 [17:30<57:09,  1.79s/it]"
     ]
    },
    {
     "name": "stdout",
     "output_type": "stream",
     "text": [
      "'validation loss is 1.0310346439480782 '\n",
      "'validation accuracy is 0.8191406250000002 '\n",
      "'Epoch: 582'\n",
      "'training loss is 0.0634585280310024 '\n",
      "'training accuracy is 0.9846590909090908 '\n",
      "'Epoch: 582'\n"
     ]
    },
    {
     "name": "stderr",
     "output_type": "stream",
     "text": [
      "\r",
      " 23%|██▎       | 582/2499 [17:32<56:58,  1.78s/it]"
     ]
    },
    {
     "name": "stdout",
     "output_type": "stream",
     "text": [
      "'validation loss is 1.0257605612277985 '\n",
      "'validation accuracy is 0.8197265625000002 '\n",
      "'Epoch: 583'\n",
      "'training loss is 0.06334749541499397 '\n",
      "'training accuracy is 0.984659090909091 '\n",
      "'Epoch: 583'\n"
     ]
    },
    {
     "name": "stderr",
     "output_type": "stream",
     "text": [
      "\r",
      " 23%|██▎       | 583/2499 [17:34<56:56,  1.78s/it]"
     ]
    },
    {
     "name": "stdout",
     "output_type": "stream",
     "text": [
      "'validation loss is 1.0260803252458572 '\n",
      "'validation accuracy is 0.8197265625000002 '\n",
      "'Epoch: 584'\n",
      "'training loss is 0.06324483047832143 '\n",
      "'training accuracy is 0.984659090909091 '\n",
      "'Epoch: 584'\n"
     ]
    },
    {
     "name": "stderr",
     "output_type": "stream",
     "text": [
      "\r",
      " 23%|██▎       | 584/2499 [17:35<56:49,  1.78s/it]"
     ]
    },
    {
     "name": "stdout",
     "output_type": "stream",
     "text": [
      "'validation loss is 1.0259772062301635 '\n",
      "'validation accuracy is 0.8200195312500002 '\n",
      "'Epoch: 585'\n",
      "'training loss is 0.06350470977750691 '\n",
      "'training accuracy is 0.984659090909091 '\n",
      "'Epoch: 585'\n"
     ]
    },
    {
     "name": "stderr",
     "output_type": "stream",
     "text": [
      "\r",
      " 23%|██▎       | 585/2499 [17:37<56:19,  1.77s/it]"
     ]
    },
    {
     "name": "stdout",
     "output_type": "stream",
     "text": [
      "'validation loss is 1.0215514093637466 '\n",
      "'validation accuracy is 0.8200195312500004 '\n",
      "'Epoch: 586'\n",
      "'training loss is 0.06393159688873724 '\n",
      "'training accuracy is 0.984659090909091 '\n",
      "'Epoch: 586'\n"
     ]
    },
    {
     "name": "stderr",
     "output_type": "stream",
     "text": [
      "\r",
      " 23%|██▎       | 586/2499 [17:39<55:45,  1.75s/it]"
     ]
    },
    {
     "name": "stdout",
     "output_type": "stream",
     "text": [
      "'validation loss is 1.0278734534978866 '\n",
      "'validation accuracy is 0.8194335937500001 '\n",
      "'Epoch: 587'\n",
      "'training loss is 0.06363494660366666 '\n",
      "'training accuracy is 0.984659090909091 '\n",
      "'Epoch: 587'\n"
     ]
    },
    {
     "name": "stderr",
     "output_type": "stream",
     "text": [
      "\r",
      " 23%|██▎       | 587/2499 [17:41<55:44,  1.75s/it]"
     ]
    },
    {
     "name": "stdout",
     "output_type": "stream",
     "text": [
      "'validation loss is 1.0252177566289902 '\n",
      "'validation accuracy is 0.8197265625000002 '\n",
      "'Epoch: 588'\n",
      "'training loss is 0.0637417391619899 '\n",
      "'training accuracy is 0.9846590909090911 '\n",
      "'Epoch: 588'\n"
     ]
    },
    {
     "name": "stderr",
     "output_type": "stream",
     "text": [
      "\r",
      " 24%|██▎       | 588/2499 [17:42<56:03,  1.76s/it]"
     ]
    },
    {
     "name": "stdout",
     "output_type": "stream",
     "text": [
      "'validation loss is 1.0307219535112382 '\n",
      "'validation accuracy is 0.819140625 '\n",
      "'Epoch: 589'\n",
      "'training loss is 0.06339329955252734 '\n",
      "'training accuracy is 0.9846590909090908 '\n",
      "'Epoch: 589'\n"
     ]
    },
    {
     "name": "stderr",
     "output_type": "stream",
     "text": [
      "\r",
      " 24%|██▎       | 589/2499 [17:44<56:55,  1.79s/it]"
     ]
    },
    {
     "name": "stdout",
     "output_type": "stream",
     "text": [
      "'validation loss is 1.0232166334986688 '\n",
      "'validation accuracy is 0.8197265625000002 '\n",
      "'Epoch: 590'\n",
      "'training loss is 0.06348855319348248 '\n",
      "'training accuracy is 0.9846590909090908 '\n",
      "'Epoch: 590'\n"
     ]
    },
    {
     "name": "stderr",
     "output_type": "stream",
     "text": [
      "\r",
      " 24%|██▎       | 590/2499 [17:46<56:55,  1.79s/it]"
     ]
    },
    {
     "name": "stdout",
     "output_type": "stream",
     "text": [
      "'validation loss is 1.0270544081926345 '\n",
      "'validation accuracy is 0.8191406250000002 '\n",
      "'Epoch: 591'\n",
      "'training loss is 0.06357131966135719 '\n",
      "'training accuracy is 0.9846590909090908 '\n",
      "'Epoch: 591'\n"
     ]
    },
    {
     "name": "stderr",
     "output_type": "stream",
     "text": [
      "\r",
      " 24%|██▎       | 591/2499 [17:48<57:40,  1.81s/it]"
     ]
    },
    {
     "name": "stdout",
     "output_type": "stream",
     "text": [
      "'validation loss is 1.0241451472043992 '\n",
      "'validation accuracy is 0.8194335937500001 '\n",
      "'Epoch: 592'\n",
      "'training loss is 0.06355296583338217 '\n",
      "'training accuracy is 0.984659090909091 '\n",
      "'Epoch: 592'\n"
     ]
    },
    {
     "name": "stderr",
     "output_type": "stream",
     "text": [
      "\r",
      " 24%|██▎       | 592/2499 [17:50<57:20,  1.80s/it]"
     ]
    },
    {
     "name": "stdout",
     "output_type": "stream",
     "text": [
      "'validation loss is 1.026766936480999 '\n",
      "'validation accuracy is 0.8197265625 '\n",
      "'Epoch: 593'\n",
      "'training loss is 0.06353936039588669 '\n",
      "'training accuracy is 0.984659090909091 '\n",
      "'Epoch: 593'\n"
     ]
    },
    {
     "name": "stderr",
     "output_type": "stream",
     "text": [
      "\r",
      " 24%|██▎       | 593/2499 [17:52<56:47,  1.79s/it]"
     ]
    },
    {
     "name": "stdout",
     "output_type": "stream",
     "text": [
      "'validation loss is 1.032666525244713 '\n",
      "'validation accuracy is 0.8191406250000004 '\n",
      "'Epoch: 594'\n",
      "'training loss is 0.06321238319982182 '\n",
      "'training accuracy is 0.9846590909090911 '\n",
      "'Epoch: 594'\n"
     ]
    },
    {
     "name": "stderr",
     "output_type": "stream",
     "text": [
      "\r",
      " 24%|██▍       | 594/2499 [17:53<57:07,  1.80s/it]"
     ]
    },
    {
     "name": "stdout",
     "output_type": "stream",
     "text": [
      "'validation loss is 1.0209079936146737 '\n",
      "'validation accuracy is 0.8203125 '\n",
      "'Epoch: 595'\n",
      "'training loss is 0.06369198520075191 '\n",
      "'training accuracy is 0.984659090909091 '\n",
      "'Epoch: 595'\n"
     ]
    },
    {
     "name": "stderr",
     "output_type": "stream",
     "text": [
      "\r",
      " 24%|██▍       | 595/2499 [17:55<56:37,  1.78s/it]"
     ]
    },
    {
     "name": "stdout",
     "output_type": "stream",
     "text": [
      "'validation loss is 1.0264790490269662 '\n",
      "'validation accuracy is 0.8194335937500001 '\n",
      "'Epoch: 596'\n",
      "'training loss is 0.06349860910664905 '\n",
      "'training accuracy is 0.9846590909090911 '\n",
      "'Epoch: 596'\n"
     ]
    },
    {
     "name": "stderr",
     "output_type": "stream",
     "text": [
      "\r",
      " 24%|██▍       | 596/2499 [17:57<57:06,  1.80s/it]"
     ]
    },
    {
     "name": "stdout",
     "output_type": "stream",
     "text": [
      "'validation loss is 1.02194392234087 '\n",
      "'validation accuracy is 0.8200195312500002 '\n",
      "'Epoch: 597'\n",
      "'training loss is 0.06351480734619228 '\n",
      "'training accuracy is 0.984659090909091 '\n",
      "'Epoch: 597'\n"
     ]
    },
    {
     "name": "stderr",
     "output_type": "stream",
     "text": [
      "\r",
      " 24%|██▍       | 597/2499 [17:59<57:35,  1.82s/it]"
     ]
    },
    {
     "name": "stdout",
     "output_type": "stream",
     "text": [
      "'validation loss is 1.026633757352829 '\n",
      "'validation accuracy is 0.8197265625000002 '\n",
      "'Epoch: 598'\n",
      "'training loss is 0.06365813551978632 '\n",
      "'training accuracy is 0.9846590909090908 '\n",
      "'Epoch: 598'\n"
     ]
    },
    {
     "name": "stderr",
     "output_type": "stream",
     "text": [
      "\r",
      " 24%|██▍       | 598/2499 [18:01<57:29,  1.81s/it]"
     ]
    },
    {
     "name": "stdout",
     "output_type": "stream",
     "text": [
      "'validation loss is 1.0203036740422249 '\n",
      "'validation accuracy is 0.8203125000000002 '\n",
      "'Epoch: 599'\n",
      "'training loss is 0.06374784423546358 '\n",
      "'training accuracy is 0.984659090909091 '\n",
      "'Epoch: 599'\n"
     ]
    },
    {
     "name": "stderr",
     "output_type": "stream",
     "text": [
      "\r",
      " 24%|██▍       | 599/2499 [18:02<57:32,  1.82s/it]"
     ]
    },
    {
     "name": "stdout",
     "output_type": "stream",
     "text": [
      "'validation loss is 1.0268743470311166 '\n",
      "'validation accuracy is 0.8194335937500001 '\n",
      "'Epoch: 600'\n",
      "'training loss is 0.06325703419067642 '\n",
      "'training accuracy is 0.984659090909091 '\n",
      "'Epoch: 600'\n"
     ]
    },
    {
     "name": "stderr",
     "output_type": "stream",
     "text": [
      "\r",
      " 24%|██▍       | 600/2499 [18:04<58:14,  1.84s/it]"
     ]
    },
    {
     "name": "stdout",
     "output_type": "stream",
     "text": [
      "'validation loss is 1.0299297109246255 '\n",
      "'validation accuracy is 0.8194335937500004 '\n",
      "'Epoch: 601'\n",
      "'training loss is 0.06339215182445267 '\n",
      "'training accuracy is 0.9846590909090908 '\n",
      "'Epoch: 601'\n"
     ]
    },
    {
     "name": "stderr",
     "output_type": "stream",
     "text": [
      "\r",
      " 24%|██▍       | 601/2499 [18:06<59:03,  1.87s/it]"
     ]
    },
    {
     "name": "stdout",
     "output_type": "stream",
     "text": [
      "'validation loss is 1.0255419865250588 '\n",
      "'validation accuracy is 0.81943359375 '\n",
      "'Epoch: 602'\n",
      "'training loss is 0.06325777958739888 '\n",
      "'training accuracy is 0.984659090909091 '\n",
      "'Epoch: 602'\n"
     ]
    },
    {
     "name": "stderr",
     "output_type": "stream",
     "text": [
      "\r",
      " 24%|██▍       | 602/2499 [18:08<58:22,  1.85s/it]"
     ]
    },
    {
     "name": "stdout",
     "output_type": "stream",
     "text": [
      "'validation loss is 1.026074542105198 '\n",
      "'validation accuracy is 0.8194335937500001 '\n",
      "'Epoch: 603'\n",
      "'training loss is 0.06360308521173218 '\n",
      "'training accuracy is 0.984659090909091 '\n",
      "'Epoch: 603'\n"
     ]
    },
    {
     "name": "stderr",
     "output_type": "stream",
     "text": [
      "\r",
      " 24%|██▍       | 603/2499 [18:10<58:34,  1.85s/it]"
     ]
    },
    {
     "name": "stdout",
     "output_type": "stream",
     "text": [
      "'validation loss is 1.0254223197698593 '\n",
      "'validation accuracy is 0.8194335937500001 '\n",
      "'Epoch: 604'\n",
      "'training loss is 0.0635241490196098 '\n",
      "'training accuracy is 0.984659090909091 '\n",
      "'Epoch: 604'\n"
     ]
    },
    {
     "name": "stderr",
     "output_type": "stream",
     "text": [
      "\r",
      " 24%|██▍       | 604/2499 [18:12<57:24,  1.82s/it]"
     ]
    },
    {
     "name": "stdout",
     "output_type": "stream",
     "text": [
      "'validation loss is 1.0251505613327025 '\n",
      "'validation accuracy is 0.8197265625000002 '\n",
      "'Epoch: 605'\n",
      "'training loss is 0.06350383907556534 '\n",
      "'training accuracy is 0.984659090909091 '\n",
      "'Epoch: 605'\n"
     ]
    },
    {
     "name": "stderr",
     "output_type": "stream",
     "text": [
      "\r",
      " 24%|██▍       | 605/2499 [18:13<57:11,  1.81s/it]"
     ]
    },
    {
     "name": "stdout",
     "output_type": "stream",
     "text": [
      "'validation loss is 1.0289813816547393 '\n",
      "'validation accuracy is 0.8194335937500001 '\n",
      "'Epoch: 606'\n",
      "'training loss is 0.06369427049701865 '\n",
      "'training accuracy is 0.9846590909090911 '\n",
      "'Epoch: 606'\n"
     ]
    },
    {
     "name": "stderr",
     "output_type": "stream",
     "text": [
      "\r",
      " 24%|██▍       | 606/2499 [18:15<56:16,  1.78s/it]"
     ]
    },
    {
     "name": "stdout",
     "output_type": "stream",
     "text": [
      "'validation loss is 1.0266670688986779 '\n",
      "'validation accuracy is 0.81943359375 '\n",
      "'Epoch: 607'\n",
      "'training loss is 0.06352076510136778 '\n",
      "'training accuracy is 0.984659090909091 '\n",
      "'Epoch: 607'\n"
     ]
    },
    {
     "name": "stderr",
     "output_type": "stream",
     "text": [
      "\r",
      " 24%|██▍       | 607/2499 [18:17<57:02,  1.81s/it]"
     ]
    },
    {
     "name": "stdout",
     "output_type": "stream",
     "text": [
      "'validation loss is 1.024110420048237 '\n",
      "'validation accuracy is 0.8197265625000002 '\n",
      "'Epoch: 608'\n",
      "'training loss is 0.06343015452677553 '\n",
      "'training accuracy is 0.984659090909091 '\n",
      "'Epoch: 608'\n"
     ]
    },
    {
     "name": "stderr",
     "output_type": "stream",
     "text": [
      "\r",
      " 24%|██▍       | 608/2499 [18:19<55:57,  1.78s/it]"
     ]
    },
    {
     "name": "stdout",
     "output_type": "stream",
     "text": [
      "'validation loss is 1.0243885546922684 '\n",
      "'validation accuracy is 0.8197265625000002 '\n",
      "'Epoch: 609'\n",
      "'training loss is 0.06370352140881798 '\n",
      "'training accuracy is 0.984659090909091 '\n",
      "'Epoch: 609'\n"
     ]
    },
    {
     "name": "stderr",
     "output_type": "stream",
     "text": [
      "\r",
      " 24%|██▍       | 609/2499 [18:21<56:17,  1.79s/it]"
     ]
    },
    {
     "name": "stdout",
     "output_type": "stream",
     "text": [
      "'validation loss is 1.0192092403769493 '\n",
      "'validation accuracy is 0.8197265625000002 '\n",
      "'Epoch: 610'\n",
      "'training loss is 0.06343628533861854 '\n",
      "'training accuracy is 0.9846590909090911 '\n",
      "'Epoch: 610'\n"
     ]
    },
    {
     "name": "stderr",
     "output_type": "stream",
     "text": [
      "\r",
      " 24%|██▍       | 610/2499 [18:22<56:42,  1.80s/it]"
     ]
    },
    {
     "name": "stdout",
     "output_type": "stream",
     "text": [
      "'validation loss is 1.0224349603056908 '\n",
      "'validation accuracy is 0.819140625 '\n",
      "'Epoch: 611'\n",
      "'training loss is 0.06339320912957191 '\n",
      "'training accuracy is 0.984659090909091 '\n",
      "'Epoch: 611'\n"
     ]
    },
    {
     "name": "stderr",
     "output_type": "stream",
     "text": [
      "\r",
      " 24%|██▍       | 611/2499 [18:24<55:49,  1.77s/it]"
     ]
    },
    {
     "name": "stdout",
     "output_type": "stream",
     "text": [
      "'validation loss is 1.0202635496854782 '\n",
      "'validation accuracy is 0.8203125000000002 '\n",
      "'Epoch: 612'\n",
      "'training loss is 0.06347023729573596 '\n",
      "'training accuracy is 0.9846590909090908 '\n",
      "'Epoch: 612'\n"
     ]
    },
    {
     "name": "stderr",
     "output_type": "stream",
     "text": [
      "\r",
      " 24%|██▍       | 612/2499 [18:26<56:12,  1.79s/it]"
     ]
    },
    {
     "name": "stdout",
     "output_type": "stream",
     "text": [
      "'validation loss is 1.023674090206623 '\n",
      "'validation accuracy is 0.8197265625000002 '\n",
      "'Epoch: 613'\n",
      "'training loss is 0.06351566111499612 '\n",
      "'training accuracy is 0.984659090909091 '\n",
      "'Epoch: 613'\n"
     ]
    },
    {
     "name": "stderr",
     "output_type": "stream",
     "text": [
      "\r",
      " 25%|██▍       | 613/2499 [18:28<56:32,  1.80s/it]"
     ]
    },
    {
     "name": "stdout",
     "output_type": "stream",
     "text": [
      "'validation loss is 1.0266363784670829 '\n",
      "'validation accuracy is 0.8194335937500001 '\n",
      "'Epoch: 614'\n",
      "'training loss is 0.06346046789125963 '\n",
      "'training accuracy is 0.984659090909091 '\n",
      "'Epoch: 614'\n"
     ]
    },
    {
     "name": "stderr",
     "output_type": "stream",
     "text": [
      "\r",
      " 25%|██▍       | 614/2499 [18:30<56:13,  1.79s/it]"
     ]
    },
    {
     "name": "stdout",
     "output_type": "stream",
     "text": [
      "'validation loss is 1.0234691351652145 '\n",
      "'validation accuracy is 0.8194335937500001 '\n",
      "'Epoch: 615'\n",
      "'training loss is 0.06365943124348467 '\n",
      "'training accuracy is 0.9846590909090908 '\n",
      "'Epoch: 615'\n"
     ]
    },
    {
     "name": "stderr",
     "output_type": "stream",
     "text": [
      "\r",
      " 25%|██▍       | 615/2499 [18:31<55:40,  1.77s/it]"
     ]
    },
    {
     "name": "stdout",
     "output_type": "stream",
     "text": [
      "'validation loss is 1.0214725777506828 '\n",
      "'validation accuracy is 0.8197265625000002 '\n",
      "'Epoch: 616'\n",
      "'training loss is 0.06355744498697194 '\n",
      "'training accuracy is 0.984659090909091 '\n",
      "'Epoch: 616'\n"
     ]
    },
    {
     "name": "stderr",
     "output_type": "stream",
     "text": [
      "\r",
      " 25%|██▍       | 616/2499 [18:33<55:04,  1.75s/it]"
     ]
    },
    {
     "name": "stdout",
     "output_type": "stream",
     "text": [
      "'validation loss is 1.0245591670274734 '\n",
      "'validation accuracy is 0.8197265625000002 '\n",
      "'Epoch: 617'\n",
      "'training loss is 0.06333418563008308 '\n",
      "'training accuracy is 0.9846590909090908 '\n",
      "'Epoch: 617'\n"
     ]
    },
    {
     "name": "stderr",
     "output_type": "stream",
     "text": [
      "\r",
      " 25%|██▍       | 617/2499 [18:35<55:28,  1.77s/it]"
     ]
    },
    {
     "name": "stdout",
     "output_type": "stream",
     "text": [
      "'validation loss is 1.0230121269822121 '\n",
      "'validation accuracy is 0.8200195312500002 '\n",
      "'Epoch: 618'\n",
      "'training loss is 0.06348809972405434 '\n",
      "'training accuracy is 0.9846590909090908 '\n",
      "'Epoch: 618'\n"
     ]
    },
    {
     "name": "stderr",
     "output_type": "stream",
     "text": [
      "\r",
      " 25%|██▍       | 618/2499 [18:37<56:22,  1.80s/it]"
     ]
    },
    {
     "name": "stdout",
     "output_type": "stream",
     "text": [
      "'validation loss is 1.019450567662716 '\n",
      "'validation accuracy is 0.8197265625000002 '\n",
      "'Epoch: 619'\n",
      "'training loss is 0.063540268689394 '\n",
      "'training accuracy is 0.9846590909090908 '\n",
      "'Epoch: 619'\n"
     ]
    },
    {
     "name": "stderr",
     "output_type": "stream",
     "text": [
      "\r",
      " 25%|██▍       | 619/2499 [18:39<57:22,  1.83s/it]"
     ]
    },
    {
     "name": "stdout",
     "output_type": "stream",
     "text": [
      "'validation loss is 1.0182746469974517 '\n",
      "'validation accuracy is 0.8197265625000002 '\n",
      "'Epoch: 620'\n",
      "'training loss is 0.06360413337295706 '\n",
      "'training accuracy is 0.984659090909091 '\n",
      "'Epoch: 620'\n"
     ]
    },
    {
     "name": "stderr",
     "output_type": "stream",
     "text": [
      "\r",
      " 25%|██▍       | 620/2499 [18:40<57:20,  1.83s/it]"
     ]
    },
    {
     "name": "stdout",
     "output_type": "stream",
     "text": [
      "'validation loss is 1.0144120424985885 '\n",
      "'validation accuracy is 0.8203125000000002 '\n",
      "'Epoch: 621'\n",
      "'training loss is 0.06379295682365244 '\n",
      "'training accuracy is 0.984659090909091 '\n",
      "'Epoch: 621'\n"
     ]
    },
    {
     "name": "stderr",
     "output_type": "stream",
     "text": [
      "\r",
      " 25%|██▍       | 621/2499 [18:42<56:51,  1.82s/it]"
     ]
    },
    {
     "name": "stdout",
     "output_type": "stream",
     "text": [
      "'validation loss is 1.0216594606637954 '\n",
      "'validation accuracy is 0.8194335937500001 '\n",
      "'Epoch: 622'\n",
      "'training loss is 0.06362248042767699 '\n",
      "'training accuracy is 0.984659090909091 '\n",
      "'Epoch: 622'\n"
     ]
    },
    {
     "name": "stderr",
     "output_type": "stream",
     "text": [
      "\r",
      " 25%|██▍       | 622/2499 [18:44<56:16,  1.80s/it]"
     ]
    },
    {
     "name": "stdout",
     "output_type": "stream",
     "text": [
      "'validation loss is 1.0209011480212211 '\n",
      "'validation accuracy is 0.8194335937500001 '\n",
      "'Epoch: 623'\n",
      "'training loss is 0.06344128535552458 '\n",
      "'training accuracy is 0.9846590909090908 '\n",
      "'Epoch: 623'\n"
     ]
    },
    {
     "name": "stderr",
     "output_type": "stream",
     "text": [
      "\r",
      " 25%|██▍       | 623/2499 [18:46<56:21,  1.80s/it]"
     ]
    },
    {
     "name": "stdout",
     "output_type": "stream",
     "text": [
      "'validation loss is 1.0208953246474266 '\n",
      "'validation accuracy is 0.8194335937500001 '\n",
      "'Epoch: 624'\n",
      "'training loss is 0.06342020969499242 '\n",
      "'training accuracy is 0.9846590909090908 '\n",
      "'Epoch: 624'\n"
     ]
    },
    {
     "name": "stderr",
     "output_type": "stream",
     "text": [
      "\r",
      " 25%|██▍       | 624/2499 [18:47<56:09,  1.80s/it]"
     ]
    },
    {
     "name": "stdout",
     "output_type": "stream",
     "text": [
      "'validation loss is 1.0141575992107392 '\n",
      "'validation accuracy is 0.8203125000000002 '\n",
      "'Epoch: 625'\n",
      "'training loss is 0.06351180374622345 '\n",
      "'training accuracy is 0.984659090909091 '\n",
      "'Epoch: 625'\n"
     ]
    },
    {
     "name": "stderr",
     "output_type": "stream",
     "text": [
      "\r",
      " 25%|██▌       | 625/2499 [18:49<56:59,  1.82s/it]"
     ]
    },
    {
     "name": "stdout",
     "output_type": "stream",
     "text": [
      "'validation loss is 1.02162816375494 '\n",
      "'validation accuracy is 0.82001953125 '\n",
      "'Epoch: 626'\n",
      "'training loss is 0.06348952786488966 '\n",
      "'training accuracy is 0.984659090909091 '\n",
      "'Epoch: 626'\n"
     ]
    },
    {
     "name": "stderr",
     "output_type": "stream",
     "text": [
      "\r",
      " 25%|██▌       | 626/2499 [18:51<57:05,  1.83s/it]"
     ]
    },
    {
     "name": "stdout",
     "output_type": "stream",
     "text": [
      "'validation loss is 1.0289648577570916 '\n",
      "'validation accuracy is 0.8191406250000002 '\n",
      "'Epoch: 627'\n",
      "'training loss is 0.06385013596578078 '\n",
      "'training accuracy is 0.9846590909090908 '\n",
      "'Epoch: 627'\n"
     ]
    },
    {
     "name": "stderr",
     "output_type": "stream",
     "text": [
      "\r",
      " 25%|██▌       | 627/2499 [18:53<57:01,  1.83s/it]"
     ]
    },
    {
     "name": "stdout",
     "output_type": "stream",
     "text": [
      "'validation loss is 1.020475272834301 '\n",
      "'validation accuracy is 0.8197265625000003 '\n",
      "'Epoch: 628'\n",
      "'training loss is 0.06360691210085695 '\n",
      "'training accuracy is 0.984659090909091 '\n",
      "'Epoch: 628'\n"
     ]
    },
    {
     "name": "stderr",
     "output_type": "stream",
     "text": [
      "\r",
      " 25%|██▌       | 628/2499 [18:55<56:27,  1.81s/it]"
     ]
    },
    {
     "name": "stdout",
     "output_type": "stream",
     "text": [
      "'validation loss is 1.0250087231397629 '\n",
      "'validation accuracy is 0.8194335937500004 '\n",
      "'Epoch: 629'\n",
      "'training loss is 0.06343794343146411 '\n",
      "'training accuracy is 0.984659090909091 '\n",
      "'Epoch: 629'\n"
     ]
    },
    {
     "name": "stderr",
     "output_type": "stream",
     "text": [
      "\r",
      " 25%|██▌       | 629/2499 [18:57<55:50,  1.79s/it]"
     ]
    },
    {
     "name": "stdout",
     "output_type": "stream",
     "text": [
      "'validation loss is 1.0219511047005654 '\n",
      "'validation accuracy is 0.8200195312500002 '\n",
      "'Epoch: 630'\n",
      "'training loss is 0.06348542632027106 '\n",
      "'training accuracy is 0.984659090909091 '\n",
      "'Epoch: 630'\n"
     ]
    },
    {
     "name": "stderr",
     "output_type": "stream",
     "text": [
      "\r",
      " 25%|██▌       | 630/2499 [18:58<56:06,  1.80s/it]"
     ]
    },
    {
     "name": "stdout",
     "output_type": "stream",
     "text": [
      "'validation loss is 1.0202596947550773 '\n",
      "'validation accuracy is 0.8197265625000002 '\n",
      "'Epoch: 631'\n",
      "'training loss is 0.06369066306135872 '\n",
      "'training accuracy is 0.984659090909091 '\n",
      "'Epoch: 631'\n"
     ]
    },
    {
     "name": "stderr",
     "output_type": "stream",
     "text": [
      "\r",
      " 25%|██▌       | 631/2499 [19:00<56:10,  1.80s/it]"
     ]
    },
    {
     "name": "stdout",
     "output_type": "stream",
     "text": [
      "'validation loss is 1.0256992235779763 '\n",
      "'validation accuracy is 0.8197265625000002 '\n",
      "'Epoch: 632'\n",
      "'training loss is 0.0634662803601135 '\n",
      "'training accuracy is 0.984659090909091 '\n",
      "'Epoch: 632'\n"
     ]
    },
    {
     "name": "stderr",
     "output_type": "stream",
     "text": [
      "\r",
      " 25%|██▌       | 632/2499 [19:02<56:00,  1.80s/it]"
     ]
    },
    {
     "name": "stdout",
     "output_type": "stream",
     "text": [
      "'validation loss is 1.02424868196249 '\n",
      "'validation accuracy is 0.8194335937500001 '\n",
      "'Epoch: 633'\n",
      "'training loss is 0.06337333098053932 '\n",
      "'training accuracy is 0.9846590909090908 '\n",
      "'Epoch: 633'\n"
     ]
    },
    {
     "name": "stderr",
     "output_type": "stream",
     "text": [
      "\r",
      " 25%|██▌       | 633/2499 [19:04<55:49,  1.79s/it]"
     ]
    },
    {
     "name": "stdout",
     "output_type": "stream",
     "text": [
      "'validation loss is 1.026726198196411 '\n",
      "'validation accuracy is 0.8194335937500001 '\n",
      "'Epoch: 634'\n",
      "'training loss is 0.06346469880505042 '\n",
      "'training accuracy is 0.984659090909091 '\n",
      "'Epoch: 634'\n"
     ]
    },
    {
     "name": "stderr",
     "output_type": "stream",
     "text": [
      "\r",
      " 25%|██▌       | 634/2499 [19:06<55:45,  1.79s/it]"
     ]
    },
    {
     "name": "stdout",
     "output_type": "stream",
     "text": [
      "'validation loss is 1.0209962144494056 '\n",
      "'validation accuracy is 0.8203125000000003 '\n",
      "'Epoch: 635'\n",
      "'training loss is 0.06361704116517847 '\n",
      "'training accuracy is 0.9846590909090908 '\n",
      "'Epoch: 635'\n"
     ]
    },
    {
     "name": "stderr",
     "output_type": "stream",
     "text": [
      "\r",
      " 25%|██▌       | 635/2499 [19:07<55:17,  1.78s/it]"
     ]
    },
    {
     "name": "stdout",
     "output_type": "stream",
     "text": [
      "'validation loss is 1.022185105085373 '\n",
      "'validation accuracy is 0.819140625 '\n",
      "'Epoch: 636'\n",
      "'training loss is 0.06347977674820206 '\n",
      "'training accuracy is 0.984659090909091 '\n",
      "'Epoch: 636'\n"
     ]
    },
    {
     "name": "stderr",
     "output_type": "stream",
     "text": [
      "\r",
      " 25%|██▌       | 636/2499 [19:09<55:32,  1.79s/it]"
     ]
    },
    {
     "name": "stdout",
     "output_type": "stream",
     "text": [
      "'validation loss is 1.0213777080178261 '\n",
      "'validation accuracy is 0.8194335937500001 '\n",
      "'Epoch: 637'\n",
      "'training loss is 0.06341715427962216 '\n",
      "'training accuracy is 0.9846590909090908 '\n",
      "'Epoch: 637'\n"
     ]
    },
    {
     "name": "stderr",
     "output_type": "stream",
     "text": [
      "\r",
      " 25%|██▌       | 637/2499 [19:11<54:57,  1.77s/it]"
     ]
    },
    {
     "name": "stdout",
     "output_type": "stream",
     "text": [
      "'validation loss is 1.020868118107319 '\n",
      "'validation accuracy is 0.82001953125 '\n",
      "'Epoch: 638'\n",
      "'training loss is 0.06336706842888486 '\n",
      "'training accuracy is 0.9846590909090908 '\n",
      "'Epoch: 638'\n"
     ]
    },
    {
     "name": "stderr",
     "output_type": "stream",
     "text": [
      "\r",
      " 26%|██▌       | 638/2499 [19:13<54:37,  1.76s/it]"
     ]
    },
    {
     "name": "stdout",
     "output_type": "stream",
     "text": [
      "'validation loss is 1.0203095018863677 '\n",
      "'validation accuracy is 0.8200195312500002 '\n",
      "'Epoch: 639'\n",
      "'training loss is 0.06345868381586942 '\n",
      "'training accuracy is 0.984659090909091 '\n",
      "'Epoch: 639'\n"
     ]
    },
    {
     "name": "stderr",
     "output_type": "stream",
     "text": [
      "\r",
      " 26%|██▌       | 639/2499 [19:14<53:54,  1.74s/it]"
     ]
    },
    {
     "name": "stdout",
     "output_type": "stream",
     "text": [
      "'validation loss is 1.0184018284082412 '\n",
      "'validation accuracy is 0.8203125000000002 '\n",
      "'Epoch: 640'\n",
      "'training loss is 0.06352324919267134 '\n",
      "'training accuracy is 0.984659090909091 '\n",
      "'Epoch: 640'\n"
     ]
    },
    {
     "name": "stderr",
     "output_type": "stream",
     "text": [
      "\r",
      " 26%|██▌       | 640/2499 [19:16<53:36,  1.73s/it]"
     ]
    },
    {
     "name": "stdout",
     "output_type": "stream",
     "text": [
      "'validation loss is 1.0237632408738135 '\n",
      "'validation accuracy is 0.8194335937500001 '\n",
      "'Epoch: 641'\n",
      "'training loss is 0.06355127895420248 '\n",
      "'training accuracy is 0.9846590909090908 '\n",
      "'Epoch: 641'\n"
     ]
    },
    {
     "name": "stderr",
     "output_type": "stream",
     "text": [
      "\r",
      " 26%|██▌       | 641/2499 [19:18<54:43,  1.77s/it]"
     ]
    },
    {
     "name": "stdout",
     "output_type": "stream",
     "text": [
      "'validation loss is 1.0200292140245437 '\n",
      "'validation accuracy is 0.8197265625000002 '\n",
      "'Epoch: 642'\n",
      "'training loss is 0.0634275038133968 '\n",
      "'training accuracy is 0.984659090909091 '\n",
      "'Epoch: 642'\n"
     ]
    },
    {
     "name": "stderr",
     "output_type": "stream",
     "text": [
      "\r",
      " 26%|██▌       | 642/2499 [19:20<55:37,  1.80s/it]"
     ]
    },
    {
     "name": "stdout",
     "output_type": "stream",
     "text": [
      "'validation loss is 1.0225566655397416 '\n",
      "'validation accuracy is 0.8197265625000002 '\n",
      "'Epoch: 643'\n",
      "'training loss is 0.06340507959777658 '\n",
      "'training accuracy is 0.984659090909091 '\n",
      "'Epoch: 643'\n"
     ]
    },
    {
     "name": "stderr",
     "output_type": "stream",
     "text": [
      "\r",
      " 26%|██▌       | 643/2499 [19:22<55:51,  1.81s/it]"
     ]
    },
    {
     "name": "stdout",
     "output_type": "stream",
     "text": [
      "'validation loss is 1.0217821806669236 '\n",
      "'validation accuracy is 0.8200195312500002 '\n",
      "'Epoch: 644'\n",
      "'training loss is 0.0635926750573245 '\n",
      "'training accuracy is 0.9846590909090911 '\n",
      "'Epoch: 644'\n"
     ]
    },
    {
     "name": "stderr",
     "output_type": "stream",
     "text": [
      "\r",
      " 26%|██▌       | 644/2499 [19:23<55:24,  1.79s/it]"
     ]
    },
    {
     "name": "stdout",
     "output_type": "stream",
     "text": [
      "'validation loss is 1.0189949542284011 '\n",
      "'validation accuracy is 0.8200195312500002 '\n",
      "'Epoch: 645'\n",
      "'training loss is 0.06340918385169723 '\n",
      "'training accuracy is 0.9846590909090908 '\n",
      "'Epoch: 645'\n"
     ]
    },
    {
     "name": "stderr",
     "output_type": "stream",
     "text": [
      "\r",
      " 26%|██▌       | 645/2499 [19:25<55:48,  1.81s/it]"
     ]
    },
    {
     "name": "stdout",
     "output_type": "stream",
     "text": [
      "'validation loss is 1.017279103398323 '\n",
      "'validation accuracy is 0.8194335937500001 '\n",
      "'Epoch: 646'\n",
      "'training loss is 0.06370008262720975 '\n",
      "'training accuracy is 0.984659090909091 '\n",
      "'Epoch: 646'\n"
     ]
    },
    {
     "name": "stderr",
     "output_type": "stream",
     "text": [
      "\r",
      " 26%|██▌       | 646/2499 [19:27<55:09,  1.79s/it]"
     ]
    },
    {
     "name": "stdout",
     "output_type": "stream",
     "text": [
      "'validation loss is 1.023338870704174 '\n",
      "'validation accuracy is 0.8191406250000002 '\n",
      "'Epoch: 647'\n",
      "'training loss is 0.06341976909474893 '\n",
      "'training accuracy is 0.9846590909090908 '\n",
      "'Epoch: 647'\n"
     ]
    },
    {
     "name": "stderr",
     "output_type": "stream",
     "text": [
      "\r",
      " 26%|██▌       | 647/2499 [19:29<54:47,  1.78s/it]"
     ]
    },
    {
     "name": "stdout",
     "output_type": "stream",
     "text": [
      "'validation loss is 1.0254029244184495 '\n",
      "'validation accuracy is 0.8194335937500001 '\n",
      "'Epoch: 648'\n",
      "'training loss is 0.0633494986051863 '\n",
      "'training accuracy is 0.984659090909091 '\n",
      "'Epoch: 648'\n"
     ]
    },
    {
     "name": "stderr",
     "output_type": "stream",
     "text": [
      "\r",
      " 26%|██▌       | 648/2499 [19:30<54:29,  1.77s/it]"
     ]
    },
    {
     "name": "stdout",
     "output_type": "stream",
     "text": [
      "'validation loss is 1.0218953296542168 '\n",
      "'validation accuracy is 0.8194335937500004 '\n",
      "'Epoch: 649'\n",
      "'training loss is 0.06360917402939363 '\n",
      "'training accuracy is 0.984659090909091 '\n",
      "'Epoch: 649'\n"
     ]
    },
    {
     "name": "stderr",
     "output_type": "stream",
     "text": [
      "\r",
      " 26%|██▌       | 649/2499 [19:32<54:32,  1.77s/it]"
     ]
    },
    {
     "name": "stdout",
     "output_type": "stream",
     "text": [
      "'validation loss is 1.0254678547382354 '\n",
      "'validation accuracy is 0.8197265625000003 '\n",
      "'Epoch: 650'\n",
      "'training loss is 0.06333313340490515 '\n",
      "'training accuracy is 0.984659090909091 '\n",
      "'Epoch: 650'\n"
     ]
    },
    {
     "name": "stderr",
     "output_type": "stream",
     "text": [
      "\r",
      " 26%|██▌       | 650/2499 [19:34<54:11,  1.76s/it]"
     ]
    },
    {
     "name": "stdout",
     "output_type": "stream",
     "text": [
      "'validation loss is 1.025402621924877 '\n",
      "'validation accuracy is 0.8200195312500002 '\n",
      "'Epoch: 651'\n",
      "'training loss is 0.06356184828010472 '\n",
      "'training accuracy is 0.9846590909090908 '\n",
      "'Epoch: 651'\n"
     ]
    },
    {
     "name": "stderr",
     "output_type": "stream",
     "text": [
      "\r",
      " 26%|██▌       | 651/2499 [19:36<54:45,  1.78s/it]"
     ]
    },
    {
     "name": "stdout",
     "output_type": "stream",
     "text": [
      "'validation loss is 1.021042214334011 '\n",
      "'validation accuracy is 0.8194335937500001 '\n",
      "'Epoch: 652'\n",
      "'training loss is 0.06382217664610255 '\n",
      "'training accuracy is 0.984659090909091 '\n",
      "'Epoch: 652'\n"
     ]
    },
    {
     "name": "stderr",
     "output_type": "stream",
     "text": [
      "\r",
      " 26%|██▌       | 652/2499 [19:37<54:21,  1.77s/it]"
     ]
    },
    {
     "name": "stdout",
     "output_type": "stream",
     "text": [
      "'validation loss is 1.0201368018984796 '\n",
      "'validation accuracy is 0.8191406250000002 '\n",
      "'Epoch: 653'\n",
      "'training loss is 0.06341348046606238 '\n",
      "'training accuracy is 0.984659090909091 '\n",
      "'Epoch: 653'\n"
     ]
    },
    {
     "name": "stderr",
     "output_type": "stream",
     "text": [
      "\r",
      " 26%|██▌       | 653/2499 [19:39<55:07,  1.79s/it]"
     ]
    },
    {
     "name": "stdout",
     "output_type": "stream",
     "text": [
      "'validation loss is 1.0122848913073539 '\n",
      "'validation accuracy is 0.8197265625000002 '\n",
      "'Epoch: 654'\n",
      "'training loss is 0.06320725618438287 '\n",
      "'training accuracy is 0.9846590909090908 '\n",
      "'Epoch: 654'\n"
     ]
    },
    {
     "name": "stderr",
     "output_type": "stream",
     "text": [
      "\r",
      " 26%|██▌       | 654/2499 [19:41<54:26,  1.77s/it]"
     ]
    },
    {
     "name": "stdout",
     "output_type": "stream",
     "text": [
      "'validation loss is 1.009410011768341 '\n",
      "'validation accuracy is 0.8206054687500002 '\n",
      "'Epoch: 655'\n",
      "'training loss is 0.06351291252808137 '\n",
      "'training accuracy is 0.984659090909091 '\n",
      "'Epoch: 655'\n"
     ]
    },
    {
     "name": "stderr",
     "output_type": "stream",
     "text": [
      "\r",
      " 26%|██▌       | 655/2499 [19:43<55:32,  1.81s/it]"
     ]
    },
    {
     "name": "stdout",
     "output_type": "stream",
     "text": [
      "'validation loss is 1.0217942669987679 '\n",
      "'validation accuracy is 0.8191406250000002 '\n",
      "'Epoch: 656'\n",
      "'training loss is 0.06363034891811284 '\n",
      "'training accuracy is 0.984659090909091 '\n",
      "'Epoch: 656'\n"
     ]
    },
    {
     "name": "stderr",
     "output_type": "stream",
     "text": [
      "\r",
      " 26%|██▋       | 656/2499 [19:45<56:15,  1.83s/it]"
     ]
    },
    {
     "name": "stdout",
     "output_type": "stream",
     "text": [
      "'validation loss is 1.0202623069286347 '\n",
      "'validation accuracy is 0.8191406250000002 '\n",
      "'Epoch: 657'\n",
      "'training loss is 0.06335190548138185 '\n",
      "'training accuracy is 0.984659090909091 '\n",
      "'Epoch: 657'\n"
     ]
    },
    {
     "name": "stderr",
     "output_type": "stream",
     "text": [
      "\r",
      " 26%|██▋       | 657/2499 [19:47<56:17,  1.83s/it]"
     ]
    },
    {
     "name": "stdout",
     "output_type": "stream",
     "text": [
      "'validation loss is 1.018976616859436 '\n",
      "'validation accuracy is 0.819140625 '\n",
      "'Epoch: 658'\n",
      "'training loss is 0.06349498744715344 '\n",
      "'training accuracy is 0.984659090909091 '\n",
      "'Epoch: 658'\n"
     ]
    },
    {
     "name": "stderr",
     "output_type": "stream",
     "text": [
      "\r",
      " 26%|██▋       | 658/2499 [19:48<56:19,  1.84s/it]"
     ]
    },
    {
     "name": "stdout",
     "output_type": "stream",
     "text": [
      "'validation loss is 1.0151321455836295 '\n",
      "'validation accuracy is 0.8194335937500001 '\n",
      "'Epoch: 659'\n",
      "'training loss is 0.06310350312428041 '\n",
      "'training accuracy is 0.9846590909090908 '\n",
      "'Epoch: 659'\n"
     ]
    },
    {
     "name": "stderr",
     "output_type": "stream",
     "text": [
      "\r",
      " 26%|██▋       | 659/2499 [19:50<55:59,  1.83s/it]"
     ]
    },
    {
     "name": "stdout",
     "output_type": "stream",
     "text": [
      "'validation loss is 1.021939492225647 '\n",
      "'validation accuracy is 0.8194335937500001 '\n",
      "'Epoch: 660'\n",
      "'training loss is 0.06347109241919084 '\n",
      "'training accuracy is 0.984659090909091 '\n",
      "'Epoch: 660'\n"
     ]
    },
    {
     "name": "stderr",
     "output_type": "stream",
     "text": [
      "\r",
      " 26%|██▋       | 660/2499 [19:52<56:15,  1.84s/it]"
     ]
    },
    {
     "name": "stdout",
     "output_type": "stream",
     "text": [
      "'validation loss is 1.0238236606121063 '\n",
      "'validation accuracy is 0.8194335937500001 '\n",
      "'Epoch: 661'\n",
      "'training loss is 0.06350812248208305 '\n",
      "'training accuracy is 0.9846590909090908 '\n",
      "'Epoch: 661'\n"
     ]
    },
    {
     "name": "stderr",
     "output_type": "stream",
     "text": [
      "\r",
      " 26%|██▋       | 661/2499 [19:54<56:31,  1.85s/it]"
     ]
    },
    {
     "name": "stdout",
     "output_type": "stream",
     "text": [
      "'validation loss is 1.018617856502533 '\n",
      "'validation accuracy is 0.8197265625000002 '\n",
      "'Epoch: 662'\n",
      "'training loss is 0.06337989020076665 '\n",
      "'training accuracy is 0.9846590909090911 '\n",
      "'Epoch: 662'\n"
     ]
    },
    {
     "name": "stderr",
     "output_type": "stream",
     "text": [
      "\r",
      " 26%|██▋       | 662/2499 [19:56<56:05,  1.83s/it]"
     ]
    },
    {
     "name": "stdout",
     "output_type": "stream",
     "text": [
      "'validation loss is 1.0166838020086288 '\n",
      "'validation accuracy is 0.8200195312500002 '\n",
      "'Epoch: 663'\n",
      "'training loss is 0.06335151161659848 '\n",
      "'training accuracy is 0.984659090909091 '\n",
      "'Epoch: 663'\n"
     ]
    },
    {
     "name": "stderr",
     "output_type": "stream",
     "text": [
      "\r",
      " 27%|██▋       | 663/2499 [19:58<56:34,  1.85s/it]"
     ]
    },
    {
     "name": "stdout",
     "output_type": "stream",
     "text": [
      "'validation loss is 1.012084510922432 '\n",
      "'validation accuracy is 0.8194335937500001 '\n",
      "'Epoch: 664'\n",
      "'training loss is 0.06344424967061389 '\n",
      "'training accuracy is 0.984659090909091 '\n",
      "'Epoch: 664'\n"
     ]
    },
    {
     "name": "stderr",
     "output_type": "stream",
     "text": [
      "\r",
      " 27%|██▋       | 664/2499 [19:59<55:19,  1.81s/it]"
     ]
    },
    {
     "name": "stdout",
     "output_type": "stream",
     "text": [
      "'validation loss is 1.0149828538298606 '\n",
      "'validation accuracy is 0.8194335937500001 '\n",
      "'Epoch: 665'\n",
      "'training loss is 0.06333994594487277 '\n",
      "'training accuracy is 0.9846590909090911 '\n",
      "'Epoch: 665'\n"
     ]
    },
    {
     "name": "stderr",
     "output_type": "stream",
     "text": [
      "\r",
      " 27%|██▋       | 665/2499 [20:01<55:58,  1.83s/it]"
     ]
    },
    {
     "name": "stdout",
     "output_type": "stream",
     "text": [
      "'validation loss is 1.0190878733992577 '\n",
      "'validation accuracy is 0.8197265625000003 '\n",
      "'Epoch: 666'\n",
      "'training loss is 0.06338144263083284 '\n",
      "'training accuracy is 0.984659090909091 '\n",
      "'Epoch: 666'\n"
     ]
    },
    {
     "name": "stderr",
     "output_type": "stream",
     "text": [
      "\r",
      " 27%|██▋       | 666/2499 [20:03<55:08,  1.81s/it]"
     ]
    },
    {
     "name": "stdout",
     "output_type": "stream",
     "text": [
      "'validation loss is 1.0189514592289926 '\n",
      "'validation accuracy is 0.8197265625000002 '\n",
      "'Epoch: 667'\n",
      "'training loss is 0.06336187368089502 '\n",
      "'training accuracy is 0.984659090909091 '\n",
      "'Epoch: 667'\n"
     ]
    },
    {
     "name": "stderr",
     "output_type": "stream",
     "text": [
      "\r",
      " 27%|██▋       | 667/2499 [20:05<54:16,  1.78s/it]"
     ]
    },
    {
     "name": "stdout",
     "output_type": "stream",
     "text": [
      "'validation loss is 1.0186714380979538 '\n",
      "'validation accuracy is 0.8197265625 '\n",
      "'Epoch: 668'\n",
      "'training loss is 0.06352946433154019 '\n",
      "'training accuracy is 0.984659090909091 '\n",
      "'Epoch: 668'\n"
     ]
    },
    {
     "name": "stderr",
     "output_type": "stream",
     "text": [
      "\r",
      " 27%|██▋       | 668/2499 [20:07<54:13,  1.78s/it]"
     ]
    },
    {
     "name": "stdout",
     "output_type": "stream",
     "text": [
      "'validation loss is 1.0192840233445168 '\n",
      "'validation accuracy is 0.8197265625000002 '\n",
      "'Epoch: 669'\n",
      "'training loss is 0.06326074796644124 '\n",
      "'training accuracy is 0.984659090909091 '\n",
      "'Epoch: 669'\n"
     ]
    },
    {
     "name": "stderr",
     "output_type": "stream",
     "text": [
      "\r",
      " 27%|██▋       | 669/2499 [20:08<54:57,  1.80s/it]"
     ]
    },
    {
     "name": "stdout",
     "output_type": "stream",
     "text": [
      "'validation loss is 1.0203896909952164 '\n",
      "'validation accuracy is 0.8200195312500002 '\n",
      "'Epoch: 670'\n",
      "'training loss is 0.06339913267980922 '\n",
      "'training accuracy is 0.984659090909091 '\n",
      "'Epoch: 670'\n"
     ]
    },
    {
     "name": "stderr",
     "output_type": "stream",
     "text": [
      "\r",
      " 27%|██▋       | 670/2499 [20:10<54:21,  1.78s/it]"
     ]
    },
    {
     "name": "stdout",
     "output_type": "stream",
     "text": [
      "'validation loss is 1.0169493496417998 '\n",
      "'validation accuracy is 0.8197265625000002 '\n",
      "'Epoch: 671'\n",
      "'training loss is 0.06361912190914154 '\n",
      "'training accuracy is 0.984659090909091 '\n",
      "'Epoch: 671'\n"
     ]
    },
    {
     "name": "stderr",
     "output_type": "stream",
     "text": [
      "\r",
      " 27%|██▋       | 671/2499 [20:12<54:27,  1.79s/it]"
     ]
    },
    {
     "name": "stdout",
     "output_type": "stream",
     "text": [
      "'validation loss is 1.0155949860811233 '\n",
      "'validation accuracy is 0.8197265625000002 '\n",
      "'Epoch: 672'\n",
      "'training loss is 0.0633336112580516 '\n",
      "'training accuracy is 0.9846590909090908 '\n",
      "'Epoch: 672'\n"
     ]
    },
    {
     "name": "stderr",
     "output_type": "stream",
     "text": [
      "\r",
      " 27%|██▋       | 672/2499 [20:14<54:01,  1.77s/it]"
     ]
    },
    {
     "name": "stdout",
     "output_type": "stream",
     "text": [
      "'validation loss is 1.0129474058747292 '\n",
      "'validation accuracy is 0.8197265625 '\n",
      "'Epoch: 673'\n",
      "'training loss is 0.06349283693866296 '\n",
      "'training accuracy is 0.9846590909090908 '\n",
      "'Epoch: 673'\n"
     ]
    },
    {
     "name": "stderr",
     "output_type": "stream",
     "text": [
      "\r",
      " 27%|██▋       | 673/2499 [20:16<54:56,  1.81s/it]"
     ]
    },
    {
     "name": "stdout",
     "output_type": "stream",
     "text": [
      "'validation loss is 1.0154861479997634 '\n",
      "'validation accuracy is 0.8200195312500002 '\n",
      "'Epoch: 674'\n",
      "'training loss is 0.0634987201880325 '\n",
      "'training accuracy is 0.984659090909091 '\n",
      "'Epoch: 674'\n"
     ]
    },
    {
     "name": "stderr",
     "output_type": "stream",
     "text": [
      "\r",
      " 27%|██▋       | 674/2499 [20:17<54:34,  1.79s/it]"
     ]
    },
    {
     "name": "stdout",
     "output_type": "stream",
     "text": [
      "'validation loss is 1.0236081719398498 '\n",
      "'validation accuracy is 0.8191406250000002 '\n",
      "'Epoch: 675'\n",
      "'training loss is 0.06340011954307556 '\n",
      "'training accuracy is 0.984659090909091 '\n",
      "'Epoch: 675'\n"
     ]
    },
    {
     "name": "stderr",
     "output_type": "stream",
     "text": [
      "\r",
      " 27%|██▋       | 675/2499 [20:19<54:39,  1.80s/it]"
     ]
    },
    {
     "name": "stdout",
     "output_type": "stream",
     "text": [
      "'validation loss is 1.018098945915699 '\n",
      "'validation accuracy is 0.8200195312500002 '\n",
      "'Epoch: 676'\n",
      "'training loss is 0.0634172186255455 '\n",
      "'training accuracy is 0.984659090909091 '\n",
      "'Epoch: 676'\n"
     ]
    },
    {
     "name": "stderr",
     "output_type": "stream",
     "text": [
      "\r",
      " 27%|██▋       | 676/2499 [20:21<55:18,  1.82s/it]"
     ]
    },
    {
     "name": "stdout",
     "output_type": "stream",
     "text": [
      "'validation loss is 1.0146936774253845 '\n",
      "'validation accuracy is 0.8208984375000001 '\n",
      "'Epoch: 677'\n",
      "'training loss is 0.0633659532124346 '\n",
      "'training accuracy is 0.984659090909091 '\n",
      "'Epoch: 677'\n"
     ]
    },
    {
     "name": "stderr",
     "output_type": "stream",
     "text": [
      "\r",
      " 27%|██▋       | 677/2499 [20:23<54:48,  1.81s/it]"
     ]
    },
    {
     "name": "stdout",
     "output_type": "stream",
     "text": [
      "'validation loss is 1.0255389213562012 '\n",
      "'validation accuracy is 0.8197265625000002 '\n",
      "'Epoch: 678'\n",
      "'training loss is 0.063500353558497 '\n",
      "'training accuracy is 0.984659090909091 '\n",
      "'Epoch: 678'\n"
     ]
    },
    {
     "name": "stderr",
     "output_type": "stream",
     "text": [
      "\r",
      " 27%|██▋       | 678/2499 [20:25<55:13,  1.82s/it]"
     ]
    },
    {
     "name": "stdout",
     "output_type": "stream",
     "text": [
      "'validation loss is 1.0221209958195687 '\n",
      "'validation accuracy is 0.8194335937500001 '\n",
      "'Epoch: 679'\n",
      "'training loss is 0.06333043764938008 '\n",
      "'training accuracy is 0.984659090909091 '\n",
      "'Epoch: 679'\n"
     ]
    },
    {
     "name": "stderr",
     "output_type": "stream",
     "text": [
      "\r",
      " 27%|██▋       | 679/2499 [20:26<55:50,  1.84s/it]"
     ]
    },
    {
     "name": "stdout",
     "output_type": "stream",
     "text": [
      "'validation loss is 1.0203151404857635 '\n",
      "'validation accuracy is 0.81943359375 '\n",
      "'Epoch: 680'\n",
      "'training loss is 0.06342461806806651 '\n",
      "'training accuracy is 0.984659090909091 '\n",
      "'Epoch: 680'\n"
     ]
    },
    {
     "name": "stderr",
     "output_type": "stream",
     "text": [
      "\r",
      " 27%|██▋       | 680/2499 [20:28<55:18,  1.82s/it]"
     ]
    },
    {
     "name": "stdout",
     "output_type": "stream",
     "text": [
      "'validation loss is 1.018822656571865 '\n",
      "'validation accuracy is 0.8203125000000003 '\n",
      "'Epoch: 681'\n",
      "'training loss is 0.06352285498922522 '\n",
      "'training accuracy is 0.9846590909090911 '\n",
      "'Epoch: 681'\n"
     ]
    },
    {
     "name": "stderr",
     "output_type": "stream",
     "text": [
      "\r",
      " 27%|██▋       | 681/2499 [20:30<55:01,  1.82s/it]"
     ]
    },
    {
     "name": "stdout",
     "output_type": "stream",
     "text": [
      "'validation loss is 1.019913886487484 '\n",
      "'validation accuracy is 0.8194335937500001 '\n",
      "'Epoch: 682'\n",
      "'training loss is 0.06356825882738287 '\n",
      "'training accuracy is 0.984659090909091 '\n",
      "'Epoch: 682'\n"
     ]
    },
    {
     "name": "stderr",
     "output_type": "stream",
     "text": [
      "\r",
      " 27%|██▋       | 682/2499 [20:32<54:49,  1.81s/it]"
     ]
    },
    {
     "name": "stdout",
     "output_type": "stream",
     "text": [
      "'validation loss is 1.0213565438985825 '\n",
      "'validation accuracy is 0.8197265625000002 '\n",
      "'Epoch: 683'\n",
      "'training loss is 0.06351776590401476 '\n",
      "'training accuracy is 0.9846590909090908 '\n",
      "'Epoch: 683'\n"
     ]
    },
    {
     "name": "stderr",
     "output_type": "stream",
     "text": [
      "\r",
      " 27%|██▋       | 683/2499 [20:34<55:17,  1.83s/it]"
     ]
    },
    {
     "name": "stdout",
     "output_type": "stream",
     "text": [
      "'validation loss is 1.015589340031147 '\n",
      "'validation accuracy is 0.8194335937500001 '\n",
      "'Epoch: 684'\n",
      "'training loss is 0.06347476555542512 '\n",
      "'training accuracy is 0.9846590909090908 '\n",
      "'Epoch: 684'\n"
     ]
    },
    {
     "name": "stderr",
     "output_type": "stream",
     "text": [
      "\r",
      " 27%|██▋       | 684/2499 [20:36<54:47,  1.81s/it]"
     ]
    },
    {
     "name": "stdout",
     "output_type": "stream",
     "text": [
      "'validation loss is 1.018668581545353 '\n",
      "'validation accuracy is 0.81943359375 '\n",
      "'Epoch: 685'\n",
      "'training loss is 0.06341603195125406 '\n",
      "'training accuracy is 0.9846590909090908 '\n",
      "'Epoch: 685'\n"
     ]
    },
    {
     "name": "stderr",
     "output_type": "stream",
     "text": [
      "\r",
      " 27%|██▋       | 685/2499 [20:37<55:37,  1.84s/it]"
     ]
    },
    {
     "name": "stdout",
     "output_type": "stream",
     "text": [
      "'validation loss is 1.0172499999403954 '\n",
      "'validation accuracy is 0.8194335937500001 '\n",
      "'Epoch: 686'\n",
      "'training loss is 0.06344991278919307 '\n",
      "'training accuracy is 0.984659090909091 '\n",
      "'Epoch: 686'\n"
     ]
    },
    {
     "name": "stderr",
     "output_type": "stream",
     "text": [
      "\r",
      " 27%|██▋       | 686/2499 [20:39<54:30,  1.80s/it]"
     ]
    },
    {
     "name": "stdout",
     "output_type": "stream",
     "text": [
      "'validation loss is 1.0204546853899956 '\n",
      "'validation accuracy is 0.8191406250000002 '\n",
      "'Epoch: 687'\n",
      "'training loss is 0.06355865401300517 '\n",
      "'training accuracy is 0.9846590909090908 '\n",
      "'Epoch: 687'\n"
     ]
    },
    {
     "name": "stderr",
     "output_type": "stream",
     "text": [
      "\r",
      " 27%|██▋       | 687/2499 [20:41<54:19,  1.80s/it]"
     ]
    },
    {
     "name": "stdout",
     "output_type": "stream",
     "text": [
      "'validation loss is 1.0169885709881783 '\n",
      "'validation accuracy is 0.8191406250000002 '\n",
      "'Epoch: 688'\n",
      "'training loss is 0.06337326189333742 '\n",
      "'training accuracy is 0.984659090909091 '\n",
      "'Epoch: 688'\n"
     ]
    },
    {
     "name": "stderr",
     "output_type": "stream",
     "text": [
      "\r",
      " 28%|██▊       | 688/2499 [20:43<54:04,  1.79s/it]"
     ]
    },
    {
     "name": "stdout",
     "output_type": "stream",
     "text": [
      "'validation loss is 1.0129612997174262 '\n",
      "'validation accuracy is 0.8203125000000002 '\n",
      "'Epoch: 689'\n",
      "'training loss is 0.0632169663228772 '\n",
      "'training accuracy is 0.984659090909091 '\n",
      "'Epoch: 689'\n"
     ]
    },
    {
     "name": "stderr",
     "output_type": "stream",
     "text": [
      "\r",
      " 28%|██▊       | 689/2499 [20:44<54:03,  1.79s/it]"
     ]
    },
    {
     "name": "stdout",
     "output_type": "stream",
     "text": [
      "'validation loss is 1.0167355865240097 '\n",
      "'validation accuracy is 0.8197265625000002 '\n",
      "'Epoch: 690'\n",
      "'training loss is 0.06331284140998666 '\n",
      "'training accuracy is 0.984659090909091 '\n",
      "'Epoch: 690'\n"
     ]
    },
    {
     "name": "stderr",
     "output_type": "stream",
     "text": [
      "\r",
      " 28%|██▊       | 690/2499 [20:46<54:10,  1.80s/it]"
     ]
    },
    {
     "name": "stdout",
     "output_type": "stream",
     "text": [
      "'validation loss is 1.020237721502781 '\n",
      "'validation accuracy is 0.8194335937500001 '\n",
      "'Epoch: 691'\n",
      "'training loss is 0.06359443711963567 '\n",
      "'training accuracy is 0.9846590909090908 '\n",
      "'Epoch: 691'\n"
     ]
    },
    {
     "name": "stderr",
     "output_type": "stream",
     "text": [
      "\r",
      " 28%|██▊       | 691/2499 [20:48<53:17,  1.77s/it]"
     ]
    },
    {
     "name": "stdout",
     "output_type": "stream",
     "text": [
      "'validation loss is 1.0136534929275514 '\n",
      "'validation accuracy is 0.8194335937500001 '\n",
      "'Epoch: 692'\n",
      "'training loss is 0.06344199891794812 '\n",
      "'training accuracy is 0.984659090909091 '\n",
      "'Epoch: 692'\n"
     ]
    },
    {
     "name": "stderr",
     "output_type": "stream",
     "text": [
      "\r",
      " 28%|██▊       | 692/2499 [20:50<53:28,  1.78s/it]"
     ]
    },
    {
     "name": "stdout",
     "output_type": "stream",
     "text": [
      "'validation loss is 1.0152111411094666 '\n",
      "'validation accuracy is 0.8200195312500004 '\n",
      "'Epoch: 693'\n",
      "'training loss is 0.06335000761530617 '\n",
      "'training accuracy is 0.9846590909090908 '\n",
      "'Epoch: 693'\n"
     ]
    },
    {
     "name": "stderr",
     "output_type": "stream",
     "text": [
      "\r",
      " 28%|██▊       | 693/2499 [20:52<53:56,  1.79s/it]"
     ]
    },
    {
     "name": "stdout",
     "output_type": "stream",
     "text": [
      "'validation loss is 1.0150765091180802 '\n",
      "'validation accuracy is 0.82001953125 '\n",
      "'Epoch: 694'\n",
      "'training loss is 0.063329067081213 '\n",
      "'training accuracy is 0.984659090909091 '\n",
      "'Epoch: 694'\n"
     ]
    },
    {
     "name": "stderr",
     "output_type": "stream",
     "text": [
      "\r",
      " 28%|██▊       | 694/2499 [20:53<54:36,  1.82s/it]"
     ]
    },
    {
     "name": "stdout",
     "output_type": "stream",
     "text": [
      "'validation loss is 1.017396168410778 '\n",
      "'validation accuracy is 0.8197265625000002 '\n",
      "'Epoch: 695'\n",
      "'training loss is 0.0634170032360337 '\n",
      "'training accuracy is 0.9846590909090908 '\n",
      "'Epoch: 695'\n"
     ]
    },
    {
     "name": "stderr",
     "output_type": "stream",
     "text": [
      "\r",
      " 28%|██▊       | 695/2499 [20:55<55:03,  1.83s/it]"
     ]
    },
    {
     "name": "stdout",
     "output_type": "stream",
     "text": [
      "'validation loss is 1.022002601623535 '\n",
      "'validation accuracy is 0.8194335937500001 '\n",
      "'Epoch: 696'\n",
      "'training loss is 0.0632766532627019 '\n",
      "'training accuracy is 0.984659090909091 '\n",
      "'Epoch: 696'\n"
     ]
    },
    {
     "name": "stderr",
     "output_type": "stream",
     "text": [
      "\r",
      " 28%|██▊       | 696/2499 [20:57<53:59,  1.80s/it]"
     ]
    },
    {
     "name": "stdout",
     "output_type": "stream",
     "text": [
      "'validation loss is 1.0218125104904174 '\n",
      "'validation accuracy is 0.81943359375 '\n",
      "'Epoch: 697'\n",
      "'training loss is 0.06336018951101736 '\n",
      "'training accuracy is 0.984659090909091 '\n",
      "'Epoch: 697'\n"
     ]
    },
    {
     "name": "stderr",
     "output_type": "stream",
     "text": [
      "\r",
      " 28%|██▊       | 697/2499 [20:59<54:17,  1.81s/it]"
     ]
    },
    {
     "name": "stdout",
     "output_type": "stream",
     "text": [
      "'validation loss is 1.0195195168256759 '\n",
      "'validation accuracy is 0.8197265625000002 '\n",
      "'Epoch: 698'\n",
      "'training loss is 0.06360628963871436 '\n",
      "'training accuracy is 0.984659090909091 '\n",
      "'Epoch: 698'\n"
     ]
    },
    {
     "name": "stderr",
     "output_type": "stream",
     "text": [
      "\r",
      " 28%|██▊       | 698/2499 [21:01<54:23,  1.81s/it]"
     ]
    },
    {
     "name": "stdout",
     "output_type": "stream",
     "text": [
      "'validation loss is 1.0135522782802582 '\n",
      "'validation accuracy is 0.8203125000000003 '\n",
      "'Epoch: 699'\n",
      "'training loss is 0.06355333057316867 '\n",
      "'training accuracy is 0.984659090909091 '\n",
      "'Epoch: 699'\n"
     ]
    },
    {
     "name": "stderr",
     "output_type": "stream",
     "text": [
      "\r",
      " 28%|██▊       | 699/2499 [21:03<54:08,  1.80s/it]"
     ]
    },
    {
     "name": "stdout",
     "output_type": "stream",
     "text": [
      "'validation loss is 1.0178192034363747 '\n",
      "'validation accuracy is 0.8200195312500004 '\n",
      "'Epoch: 700'\n",
      "'training loss is 0.06350244378501718 '\n",
      "'training accuracy is 0.984659090909091 '\n",
      "'Epoch: 700'\n"
     ]
    },
    {
     "name": "stderr",
     "output_type": "stream",
     "text": [
      "\r",
      " 28%|██▊       | 700/2499 [21:04<54:04,  1.80s/it]"
     ]
    },
    {
     "name": "stdout",
     "output_type": "stream",
     "text": [
      "'validation loss is 1.0170310735702515 '\n",
      "'validation accuracy is 0.8200195312500004 '\n",
      "'Epoch: 701'\n",
      "'training loss is 0.06330193646929481 '\n",
      "'training accuracy is 0.9846590909090908 '\n",
      "'Epoch: 701'\n"
     ]
    },
    {
     "name": "stderr",
     "output_type": "stream",
     "text": [
      "\r",
      " 28%|██▊       | 701/2499 [21:06<53:35,  1.79s/it]"
     ]
    },
    {
     "name": "stdout",
     "output_type": "stream",
     "text": [
      "'validation loss is 1.019234049320221 '\n",
      "'validation accuracy is 0.8194335937500004 '\n",
      "'Epoch: 702'\n",
      "'training loss is 0.0634957490996881 '\n",
      "'training accuracy is 0.9846590909090908 '\n",
      "'Epoch: 702'\n"
     ]
    },
    {
     "name": "stderr",
     "output_type": "stream",
     "text": [
      "\r",
      " 28%|██▊       | 702/2499 [21:08<52:59,  1.77s/it]"
     ]
    },
    {
     "name": "stdout",
     "output_type": "stream",
     "text": [
      "'validation loss is 1.022516942024231 '\n",
      "'validation accuracy is 0.8194335937500001 '\n",
      "'Epoch: 703'\n",
      "'training loss is 0.06336053934964267 '\n",
      "'training accuracy is 0.984659090909091 '\n",
      "'Epoch: 703'\n"
     ]
    },
    {
     "name": "stderr",
     "output_type": "stream",
     "text": [
      "\r",
      " 28%|██▊       | 703/2499 [21:10<52:37,  1.76s/it]"
     ]
    },
    {
     "name": "stdout",
     "output_type": "stream",
     "text": [
      "'validation loss is 1.0234191358089446 '\n",
      "'validation accuracy is 0.8191406250000004 '\n",
      "'Epoch: 704'\n",
      "'training loss is 0.06337664073163812 '\n",
      "'training accuracy is 0.984659090909091 '\n",
      "'Epoch: 704'\n"
     ]
    },
    {
     "name": "stderr",
     "output_type": "stream",
     "text": [
      "\r",
      " 28%|██▊       | 704/2499 [21:11<53:12,  1.78s/it]"
     ]
    },
    {
     "name": "stdout",
     "output_type": "stream",
     "text": [
      "'validation loss is 1.0133939862251282 '\n",
      "'validation accuracy is 0.819140625 '\n",
      "'Epoch: 705'\n",
      "'training loss is 0.06320654262195934 '\n",
      "'training accuracy is 0.984659090909091 '\n",
      "'Epoch: 705'\n"
     ]
    },
    {
     "name": "stderr",
     "output_type": "stream",
     "text": [
      "\r",
      " 28%|██▊       | 705/2499 [21:13<53:57,  1.80s/it]"
     ]
    },
    {
     "name": "stdout",
     "output_type": "stream",
     "text": [
      "'validation loss is 1.0157756358385086 '\n",
      "'validation accuracy is 0.8200195312500002 '\n",
      "'Epoch: 706'\n",
      "'training loss is 0.06324058534069495 '\n",
      "'training accuracy is 0.984659090909091 '\n",
      "'Epoch: 706'\n"
     ]
    },
    {
     "name": "stderr",
     "output_type": "stream",
     "text": [
      "\r",
      " 28%|██▊       | 706/2499 [21:15<53:39,  1.80s/it]"
     ]
    },
    {
     "name": "stdout",
     "output_type": "stream",
     "text": [
      "'validation loss is 1.0167946368455887 '\n",
      "'validation accuracy is 0.8197265625000002 '\n",
      "'Epoch: 707'\n",
      "'training loss is 0.06326752122152936 '\n",
      "'training accuracy is 0.984659090909091 '\n",
      "'Epoch: 707'\n"
     ]
    },
    {
     "name": "stderr",
     "output_type": "stream",
     "text": [
      "\r",
      " 28%|██▊       | 707/2499 [21:17<53:29,  1.79s/it]"
     ]
    },
    {
     "name": "stdout",
     "output_type": "stream",
     "text": [
      "'validation loss is 1.009475576877594 '\n",
      "'validation accuracy is 0.8200195312500004 '\n",
      "'Epoch: 708'\n",
      "'training loss is 0.06354832784696059 '\n",
      "'training accuracy is 0.9846590909090908 '\n",
      "'Epoch: 708'\n"
     ]
    },
    {
     "name": "stderr",
     "output_type": "stream",
     "text": [
      "\r",
      " 28%|██▊       | 708/2499 [21:19<52:55,  1.77s/it]"
     ]
    },
    {
     "name": "stdout",
     "output_type": "stream",
     "text": [
      "'validation loss is 1.0174294248223306 '\n",
      "'validation accuracy is 0.8194335937500001 '\n",
      "'Epoch: 709'\n",
      "'training loss is 0.06348105249079791 '\n",
      "'training accuracy is 0.984659090909091 '\n",
      "'Epoch: 709'\n"
     ]
    },
    {
     "name": "stderr",
     "output_type": "stream",
     "text": [
      "\r",
      " 28%|██▊       | 709/2499 [21:20<53:47,  1.80s/it]"
     ]
    },
    {
     "name": "stdout",
     "output_type": "stream",
     "text": [
      "'validation loss is 1.0147090703248978 '\n",
      "'validation accuracy is 0.8197265625000002 '\n",
      "'Epoch: 710'\n",
      "'training loss is 0.0633247782560912 '\n",
      "'training accuracy is 0.984659090909091 '\n",
      "'Epoch: 710'\n"
     ]
    },
    {
     "name": "stderr",
     "output_type": "stream",
     "text": [
      "\r",
      " 28%|██▊       | 710/2499 [21:22<54:06,  1.81s/it]"
     ]
    },
    {
     "name": "stdout",
     "output_type": "stream",
     "text": [
      "'validation loss is 1.0190585672855377 '\n",
      "'validation accuracy is 0.8194335937500001 '\n",
      "'Epoch: 711'\n",
      "'training loss is 0.06338994712992148 '\n",
      "'training accuracy is 0.984659090909091 '\n",
      "'Epoch: 711'\n"
     ]
    },
    {
     "name": "stderr",
     "output_type": "stream",
     "text": [
      "\r",
      " 28%|██▊       | 711/2499 [21:24<53:35,  1.80s/it]"
     ]
    },
    {
     "name": "stdout",
     "output_type": "stream",
     "text": [
      "'validation loss is 1.0155948832631112 '\n",
      "'validation accuracy is 0.8197265625000003 '\n",
      "'Epoch: 712'\n",
      "'training loss is 0.0635627189820463 '\n",
      "'training accuracy is 0.9846590909090908 '\n",
      "'Epoch: 712'\n"
     ]
    },
    {
     "name": "stderr",
     "output_type": "stream",
     "text": [
      "\r",
      " 28%|██▊       | 712/2499 [21:26<54:20,  1.82s/it]"
     ]
    },
    {
     "name": "stdout",
     "output_type": "stream",
     "text": [
      "'validation loss is 1.0137764245271683 '\n",
      "'validation accuracy is 0.8200195312500002 '\n",
      "'Epoch: 713'\n",
      "'training loss is 0.06318146396767009 '\n",
      "'training accuracy is 0.9846590909090911 '\n",
      "'Epoch: 713'\n"
     ]
    },
    {
     "name": "stderr",
     "output_type": "stream",
     "text": [
      "\r",
      " 29%|██▊       | 713/2499 [21:28<53:07,  1.78s/it]"
     ]
    },
    {
     "name": "stdout",
     "output_type": "stream",
     "text": [
      "'validation loss is 1.0154679104685784 '\n",
      "'validation accuracy is 0.8197265625000002 '\n",
      "'Epoch: 714'\n",
      "'training loss is 0.06343557787212459 '\n",
      "'training accuracy is 0.9846590909090908 '\n",
      "'Epoch: 714'\n"
     ]
    },
    {
     "name": "stderr",
     "output_type": "stream",
     "text": [
      "\r",
      " 29%|██▊       | 714/2499 [21:29<53:13,  1.79s/it]"
     ]
    },
    {
     "name": "stdout",
     "output_type": "stream",
     "text": [
      "'validation loss is 1.0118303403258324 '\n",
      "'validation accuracy is 0.8194335937500001 '\n",
      "'Epoch: 715'\n",
      "'training loss is 0.06323653256351297 '\n",
      "'training accuracy is 0.984659090909091 '\n",
      "'Epoch: 715'\n"
     ]
    },
    {
     "name": "stderr",
     "output_type": "stream",
     "text": [
      "\r",
      " 29%|██▊       | 715/2499 [21:31<53:18,  1.79s/it]"
     ]
    },
    {
     "name": "stdout",
     "output_type": "stream",
     "text": [
      "'validation loss is 1.00946064889431 '\n",
      "'validation accuracy is 0.8200195312500002 '\n",
      "'Epoch: 716'\n",
      "'training loss is 0.06334922598166899 '\n",
      "'training accuracy is 0.9846590909090908 '\n",
      "'Epoch: 716'\n"
     ]
    },
    {
     "name": "stderr",
     "output_type": "stream",
     "text": [
      "\r",
      " 29%|██▊       | 716/2499 [21:33<53:04,  1.79s/it]"
     ]
    },
    {
     "name": "stdout",
     "output_type": "stream",
     "text": [
      "'validation loss is 1.0111344054341316 '\n",
      "'validation accuracy is 0.8197265625000002 '\n",
      "'Epoch: 717'\n",
      "'training loss is 0.0632427961311557 '\n",
      "'training accuracy is 0.984659090909091 '\n",
      "'Epoch: 717'\n"
     ]
    },
    {
     "name": "stderr",
     "output_type": "stream",
     "text": [
      "\r",
      " 29%|██▊       | 717/2499 [21:35<53:03,  1.79s/it]"
     ]
    },
    {
     "name": "stdout",
     "output_type": "stream",
     "text": [
      "'validation loss is 1.0146554127335548 '\n",
      "'validation accuracy is 0.8200195312500002 '\n",
      "'Epoch: 718'\n",
      "'training loss is 0.06349968029694124 '\n",
      "'training accuracy is 0.984659090909091 '\n",
      "'Epoch: 718'\n"
     ]
    },
    {
     "name": "stderr",
     "output_type": "stream",
     "text": [
      "\r",
      " 29%|██▊       | 718/2499 [21:37<53:39,  1.81s/it]"
     ]
    },
    {
     "name": "stdout",
     "output_type": "stream",
     "text": [
      "'validation loss is 1.020751628279686 '\n",
      "'validation accuracy is 0.8191406250000002 '\n",
      "'Epoch: 719'\n",
      "'training loss is 0.06321370432322676 '\n",
      "'training accuracy is 0.9846590909090911 '\n",
      "'Epoch: 719'\n"
     ]
    },
    {
     "name": "stderr",
     "output_type": "stream",
     "text": [
      "\r",
      " 29%|██▉       | 719/2499 [21:38<53:25,  1.80s/it]"
     ]
    },
    {
     "name": "stdout",
     "output_type": "stream",
     "text": [
      "'validation loss is 1.0154657527804374 '\n",
      "'validation accuracy is 0.8194335937500001 '\n",
      "'Epoch: 720'\n",
      "'training loss is 0.0634049427780238 '\n",
      "'training accuracy is 0.984659090909091 '\n",
      "'Epoch: 720'\n"
     ]
    },
    {
     "name": "stderr",
     "output_type": "stream",
     "text": [
      "\r",
      " 29%|██▉       | 720/2499 [21:40<53:37,  1.81s/it]"
     ]
    },
    {
     "name": "stdout",
     "output_type": "stream",
     "text": [
      "'validation loss is 1.0118760287761688 '\n",
      "'validation accuracy is 0.8197265625000002 '\n",
      "'Epoch: 721'\n",
      "'training loss is 0.06340188939463008 '\n",
      "'training accuracy is 0.9846590909090908 '\n",
      "'Epoch: 721'\n"
     ]
    },
    {
     "name": "stderr",
     "output_type": "stream",
     "text": [
      "\r",
      " 29%|██▉       | 721/2499 [21:42<54:14,  1.83s/it]"
     ]
    },
    {
     "name": "stdout",
     "output_type": "stream",
     "text": [
      "'validation loss is 1.0168744876980782 '\n",
      "'validation accuracy is 0.8191406250000002 '\n",
      "'Epoch: 722'\n",
      "'training loss is 0.06344906240701675 '\n",
      "'training accuracy is 0.984659090909091 '\n",
      "'Epoch: 722'\n"
     ]
    },
    {
     "name": "stderr",
     "output_type": "stream",
     "text": [
      "\r",
      " 29%|██▉       | 722/2499 [21:44<54:53,  1.85s/it]"
     ]
    },
    {
     "name": "stdout",
     "output_type": "stream",
     "text": [
      "'validation loss is 1.013497281074524 '\n",
      "'validation accuracy is 0.8200195312500002 '\n",
      "'Epoch: 723'\n",
      "'training loss is 0.06359998204491356 '\n",
      "'training accuracy is 0.984659090909091 '\n",
      "'Epoch: 723'\n"
     ]
    },
    {
     "name": "stderr",
     "output_type": "stream",
     "text": [
      "\r",
      " 29%|██▉       | 723/2499 [21:46<55:10,  1.86s/it]"
     ]
    },
    {
     "name": "stdout",
     "output_type": "stream",
     "text": [
      "'validation loss is 1.0153012409806252 '\n",
      "'validation accuracy is 0.8191406250000002 '\n",
      "'Epoch: 724'\n",
      "'training loss is 0.06355309283191507 '\n",
      "'training accuracy is 0.984659090909091 '\n",
      "'Epoch: 724'\n"
     ]
    },
    {
     "name": "stderr",
     "output_type": "stream",
     "text": [
      "\r",
      " 29%|██▉       | 724/2499 [21:48<55:25,  1.87s/it]"
     ]
    },
    {
     "name": "stdout",
     "output_type": "stream",
     "text": [
      "'validation loss is 1.0176355421543122 '\n",
      "'validation accuracy is 0.8191406250000002 '\n",
      "'Epoch: 725'\n",
      "'training loss is 0.06335116990587929 '\n",
      "'training accuracy is 0.9846590909090908 '\n",
      "'Epoch: 725'\n"
     ]
    },
    {
     "name": "stderr",
     "output_type": "stream",
     "text": [
      "\r",
      " 29%|██▉       | 725/2499 [21:50<54:42,  1.85s/it]"
     ]
    },
    {
     "name": "stdout",
     "output_type": "stream",
     "text": [
      "'validation loss is 1.019730956852436 '\n",
      "'validation accuracy is 0.8194335937500004 '\n",
      "'Epoch: 726'\n",
      "'training loss is 0.06348027221181175 '\n",
      "'training accuracy is 0.9846590909090908 '\n",
      "'Epoch: 726'\n"
     ]
    },
    {
     "name": "stderr",
     "output_type": "stream",
     "text": [
      "\r",
      " 29%|██▉       | 726/2499 [21:51<54:39,  1.85s/it]"
     ]
    },
    {
     "name": "stdout",
     "output_type": "stream",
     "text": [
      "'validation loss is 1.0154905065894126 '\n",
      "'validation accuracy is 0.8200195312500002 '\n",
      "'Epoch: 727'\n",
      "'training loss is 0.06338424641977657 '\n",
      "'training accuracy is 0.984659090909091 '\n",
      "'Epoch: 727'\n"
     ]
    },
    {
     "name": "stderr",
     "output_type": "stream",
     "text": [
      "\r",
      " 29%|██▉       | 727/2499 [21:53<55:20,  1.87s/it]"
     ]
    },
    {
     "name": "stdout",
     "output_type": "stream",
     "text": [
      "'validation loss is 1.016749908030033 '\n",
      "'validation accuracy is 0.8197265625000002 '\n",
      "'Epoch: 728'\n",
      "'training loss is 0.06320701302452521 '\n",
      "'training accuracy is 0.984659090909091 '\n",
      "'Epoch: 728'\n"
     ]
    },
    {
     "name": "stderr",
     "output_type": "stream",
     "text": [
      "\r",
      " 29%|██▉       | 728/2499 [21:55<55:05,  1.87s/it]"
     ]
    },
    {
     "name": "stdout",
     "output_type": "stream",
     "text": [
      "'validation loss is 1.0166429087519646 '\n",
      "'validation accuracy is 0.8194335937500001 '\n",
      "'Epoch: 729'\n",
      "'training loss is 0.06340609727935358 '\n",
      "'training accuracy is 0.9846590909090908 '\n",
      "'Epoch: 729'\n"
     ]
    },
    {
     "name": "stderr",
     "output_type": "stream",
     "text": [
      "\r",
      " 29%|██▉       | 729/2499 [21:57<55:54,  1.90s/it]"
     ]
    },
    {
     "name": "stdout",
     "output_type": "stream",
     "text": [
      "'validation loss is 1.020955614745617 '\n",
      "'validation accuracy is 0.8194335937500004 '\n",
      "'Epoch: 730'\n",
      "'training loss is 0.06359187886118889 '\n",
      "'training accuracy is 0.984659090909091 '\n",
      "'Epoch: 730'\n"
     ]
    },
    {
     "name": "stderr",
     "output_type": "stream",
     "text": [
      "\r",
      " 29%|██▉       | 730/2499 [21:59<55:09,  1.87s/it]"
     ]
    },
    {
     "name": "stdout",
     "output_type": "stream",
     "text": [
      "'validation loss is 1.0168606266379356 '\n",
      "'validation accuracy is 0.8191406250000002 '\n",
      "'Epoch: 731'\n",
      "'training loss is 0.06309839778325775 '\n",
      "'training accuracy is 0.9846590909090908 '\n",
      "'Epoch: 731'\n"
     ]
    },
    {
     "name": "stderr",
     "output_type": "stream",
     "text": [
      "\r",
      " 29%|██▉       | 731/2499 [22:01<54:15,  1.84s/it]"
     ]
    },
    {
     "name": "stdout",
     "output_type": "stream",
     "text": [
      "'validation loss is 1.0150743499398232 '\n",
      "'validation accuracy is 0.8194335937500001 '\n",
      "'Epoch: 732'\n",
      "'training loss is 0.06343525546518239 '\n",
      "'training accuracy is 0.984659090909091 '\n",
      "'Epoch: 732'\n"
     ]
    },
    {
     "name": "stderr",
     "output_type": "stream",
     "text": [
      "\r",
      " 29%|██▉       | 732/2499 [22:02<53:18,  1.81s/it]"
     ]
    },
    {
     "name": "stdout",
     "output_type": "stream",
     "text": [
      "'validation loss is 1.0162778526544571 '\n",
      "'validation accuracy is 0.819140625 '\n",
      "'Epoch: 733'\n",
      "'training loss is 0.06343138014728372 '\n",
      "'training accuracy is 0.984659090909091 '\n",
      "'Epoch: 733'\n"
     ]
    },
    {
     "name": "stderr",
     "output_type": "stream",
     "text": [
      "\r",
      " 29%|██▉       | 733/2499 [22:04<53:51,  1.83s/it]"
     ]
    },
    {
     "name": "stdout",
     "output_type": "stream",
     "text": [
      "'validation loss is 1.010360150039196 '\n",
      "'validation accuracy is 0.8191406250000002 '\n",
      "'Epoch: 734'\n",
      "'training loss is 0.06351904841986569 '\n",
      "'training accuracy is 0.9846590909090911 '\n",
      "'Epoch: 734'\n"
     ]
    },
    {
     "name": "stderr",
     "output_type": "stream",
     "text": [
      "\r",
      " 29%|██▉       | 734/2499 [22:06<53:28,  1.82s/it]"
     ]
    },
    {
     "name": "stdout",
     "output_type": "stream",
     "text": [
      "'validation loss is 1.0097121462225913 '\n",
      "'validation accuracy is 0.8194335937500004 '\n",
      "'Epoch: 735'\n",
      "'training loss is 0.06327772174369205 '\n",
      "'training accuracy is 0.9846590909090908 '\n",
      "'Epoch: 735'\n"
     ]
    },
    {
     "name": "stderr",
     "output_type": "stream",
     "text": [
      "\r",
      " 29%|██▉       | 735/2499 [22:08<52:31,  1.79s/it]"
     ]
    },
    {
     "name": "stdout",
     "output_type": "stream",
     "text": [
      "'validation loss is 1.0080008223652839 '\n",
      "'validation accuracy is 0.81943359375 '\n",
      "'Epoch: 736'\n",
      "'training loss is 0.06325003199956634 '\n",
      "'training accuracy is 0.984659090909091 '\n",
      "'Epoch: 736'\n"
     ]
    },
    {
     "name": "stderr",
     "output_type": "stream",
     "text": [
      "\r",
      " 29%|██▉       | 736/2499 [22:10<52:52,  1.80s/it]"
     ]
    },
    {
     "name": "stdout",
     "output_type": "stream",
     "text": [
      "'validation loss is 1.0107551842927933 '\n",
      "'validation accuracy is 0.8191406250000002 '\n",
      "'Epoch: 737'\n",
      "'training loss is 0.0633710108020089 '\n",
      "'training accuracy is 0.984659090909091 '\n",
      "'Epoch: 737'\n"
     ]
    },
    {
     "name": "stderr",
     "output_type": "stream",
     "text": [
      "\r",
      " 29%|██▉       | 737/2499 [22:12<53:29,  1.82s/it]"
     ]
    },
    {
     "name": "stdout",
     "output_type": "stream",
     "text": [
      "'validation loss is 1.0118417650461198 '\n",
      "'validation accuracy is 0.8197265625000003 '\n",
      "'Epoch: 738'\n",
      "'training loss is 0.06361440670761195 '\n",
      "'training accuracy is 0.984659090909091 '\n",
      "'Epoch: 738'\n"
     ]
    },
    {
     "name": "stderr",
     "output_type": "stream",
     "text": [
      "\r",
      " 30%|██▉       | 738/2499 [22:14<54:31,  1.86s/it]"
     ]
    },
    {
     "name": "stdout",
     "output_type": "stream",
     "text": [
      "'validation loss is 1.006000603735447 '\n",
      "'validation accuracy is 0.8197265625 '\n",
      "'Epoch: 739'\n",
      "'training loss is 0.06363198804584416 '\n",
      "'training accuracy is 0.984659090909091 '\n",
      "'Epoch: 739'\n"
     ]
    },
    {
     "name": "stderr",
     "output_type": "stream",
     "text": [
      "\r",
      " 30%|██▉       | 739/2499 [22:15<53:57,  1.84s/it]"
     ]
    },
    {
     "name": "stdout",
     "output_type": "stream",
     "text": [
      "'validation loss is 1.0110789403319358 '\n",
      "'validation accuracy is 0.8191406250000002 '\n",
      "'Epoch: 740'\n",
      "'training loss is 0.06334159421649846 '\n",
      "'training accuracy is 0.984659090909091 '\n",
      "'Epoch: 740'\n"
     ]
    },
    {
     "name": "stderr",
     "output_type": "stream",
     "text": [
      "\r",
      " 30%|██▉       | 740/2499 [22:17<53:49,  1.84s/it]"
     ]
    },
    {
     "name": "stdout",
     "output_type": "stream",
     "text": [
      "'validation loss is 1.0073540061712265 '\n",
      "'validation accuracy is 0.8197265625000002 '\n",
      "'Epoch: 741'\n",
      "'training loss is 0.06349355354905128 '\n",
      "'training accuracy is 0.9846590909090908 '\n",
      "'Epoch: 741'\n"
     ]
    },
    {
     "name": "stderr",
     "output_type": "stream",
     "text": [
      "\r",
      " 30%|██▉       | 741/2499 [22:19<53:12,  1.82s/it]"
     ]
    },
    {
     "name": "stdout",
     "output_type": "stream",
     "text": [
      "'validation loss is 1.013197010755539 '\n",
      "'validation accuracy is 0.8191406250000002 '\n",
      "'Epoch: 742'\n",
      "'training loss is 0.06352566622874954 '\n",
      "'training accuracy is 0.984659090909091 '\n",
      "'Epoch: 742'\n"
     ]
    },
    {
     "name": "stderr",
     "output_type": "stream",
     "text": [
      "\r",
      " 30%|██▉       | 742/2499 [22:21<52:51,  1.80s/it]"
     ]
    },
    {
     "name": "stdout",
     "output_type": "stream",
     "text": [
      "'validation loss is 1.0102832183241843 '\n",
      "'validation accuracy is 0.8194335937500001 '\n",
      "'Epoch: 743'\n",
      "'training loss is 0.06349249725992029 '\n",
      "'training accuracy is 0.984659090909091 '\n",
      "'Epoch: 743'\n"
     ]
    },
    {
     "name": "stderr",
     "output_type": "stream",
     "text": [
      "\r",
      " 30%|██▉       | 743/2499 [22:23<53:29,  1.83s/it]"
     ]
    },
    {
     "name": "stdout",
     "output_type": "stream",
     "text": [
      "'validation loss is 1.009856215119362 '\n",
      "'validation accuracy is 0.8197265625000002 '\n",
      "'Epoch: 744'\n",
      "'training loss is 0.06361114132133397 '\n",
      "'training accuracy is 0.984659090909091 '\n",
      "'Epoch: 744'\n"
     ]
    },
    {
     "name": "stderr",
     "output_type": "stream",
     "text": [
      "\r",
      " 30%|██▉       | 744/2499 [22:24<53:23,  1.83s/it]"
     ]
    },
    {
     "name": "stdout",
     "output_type": "stream",
     "text": [
      "'validation loss is 1.0113004252314568 '\n",
      "'validation accuracy is 0.8194335937500001 '\n",
      "'Epoch: 745'\n",
      "'training loss is 0.06344294886697423 '\n",
      "'training accuracy is 0.984659090909091 '\n",
      "'Epoch: 745'\n"
     ]
    },
    {
     "name": "stderr",
     "output_type": "stream",
     "text": [
      "\r",
      " 30%|██▉       | 745/2499 [22:26<53:56,  1.85s/it]"
     ]
    },
    {
     "name": "stdout",
     "output_type": "stream",
     "text": [
      "'validation loss is 1.0093944191932678 '\n",
      "'validation accuracy is 0.8194335937500001 '\n",
      "'Epoch: 746'\n",
      "'training loss is 0.06318513100797479 '\n",
      "'training accuracy is 0.9846590909090911 '\n",
      "'Epoch: 746'\n"
     ]
    },
    {
     "name": "stderr",
     "output_type": "stream",
     "text": [
      "\r",
      " 30%|██▉       | 746/2499 [22:28<53:51,  1.84s/it]"
     ]
    },
    {
     "name": "stdout",
     "output_type": "stream",
     "text": [
      "'validation loss is 1.0114618688821793 '\n",
      "'validation accuracy is 0.8194335937500001 '\n",
      "'Epoch: 747'\n",
      "'training loss is 0.06303977424448187 '\n",
      "'training accuracy is 0.9846590909090908 '\n",
      "'Epoch: 747'\n"
     ]
    },
    {
     "name": "stderr",
     "output_type": "stream",
     "text": [
      "\r",
      " 30%|██▉       | 747/2499 [22:30<54:41,  1.87s/it]"
     ]
    },
    {
     "name": "stdout",
     "output_type": "stream",
     "text": [
      "'validation loss is 1.012307983636856 '\n",
      "'validation accuracy is 0.8197265625000003 '\n",
      "'Epoch: 748'\n",
      "'training loss is 0.06345987116748636 '\n",
      "'training accuracy is 0.984659090909091 '\n",
      "'Epoch: 748'\n"
     ]
    },
    {
     "name": "stderr",
     "output_type": "stream",
     "text": [
      "\r",
      " 30%|██▉       | 748/2499 [22:32<54:30,  1.87s/it]"
     ]
    },
    {
     "name": "stdout",
     "output_type": "stream",
     "text": [
      "'validation loss is 1.006394477188587 '\n",
      "'validation accuracy is 0.8194335937500004 '\n",
      "'Epoch: 749'\n",
      "'training loss is 0.06346452778035944 '\n",
      "'training accuracy is 0.9846590909090908 '\n",
      "'Epoch: 749'\n"
     ]
    },
    {
     "name": "stderr",
     "output_type": "stream",
     "text": [
      "\r",
      " 30%|██▉       | 749/2499 [22:34<53:44,  1.84s/it]"
     ]
    },
    {
     "name": "stdout",
     "output_type": "stream",
     "text": [
      "'validation loss is 1.0108453705906868 '\n",
      "'validation accuracy is 0.8194335937500004 '\n",
      "'Epoch: 750'\n",
      "'training loss is 0.06348789517175067 '\n",
      "'training accuracy is 0.9846590909090908 '\n",
      "'Epoch: 750'\n"
     ]
    },
    {
     "name": "stderr",
     "output_type": "stream",
     "text": [
      "\r",
      " 30%|███       | 750/2499 [22:35<52:20,  1.80s/it]"
     ]
    },
    {
     "name": "stdout",
     "output_type": "stream",
     "text": [
      "'validation loss is 1.0129189908504486 '\n",
      "'validation accuracy is 0.8194335937500004 '\n",
      "'Epoch: 751'\n",
      "'training loss is 0.06317552890289914 '\n",
      "'training accuracy is 0.984659090909091 '\n",
      "'Epoch: 751'\n"
     ]
    },
    {
     "name": "stderr",
     "output_type": "stream",
     "text": [
      "\r",
      " 30%|███       | 751/2499 [22:37<52:38,  1.81s/it]"
     ]
    },
    {
     "name": "stdout",
     "output_type": "stream",
     "text": [
      "'validation loss is 1.0062142670154572 '\n",
      "'validation accuracy is 0.8197265625000002 '\n",
      "'Epoch: 752'\n",
      "'training loss is 0.06328894062475725 '\n",
      "'training accuracy is 0.9846590909090908 '\n",
      "'Epoch: 752'\n"
     ]
    },
    {
     "name": "stderr",
     "output_type": "stream",
     "text": [
      "\r",
      " 30%|███       | 752/2499 [22:39<51:32,  1.77s/it]"
     ]
    },
    {
     "name": "stdout",
     "output_type": "stream",
     "text": [
      "'validation loss is 1.0030256703495979 '\n",
      "'validation accuracy is 0.8206054687500002 '\n",
      "'Epoch: 753'\n",
      "'training loss is 0.0631788820028305 '\n",
      "'training accuracy is 0.984659090909091 '\n",
      "'Epoch: 753'\n"
     ]
    },
    {
     "name": "stderr",
     "output_type": "stream",
     "text": [
      "\r",
      " 30%|███       | 753/2499 [22:41<51:53,  1.78s/it]"
     ]
    },
    {
     "name": "stdout",
     "output_type": "stream",
     "text": [
      "'validation loss is 1.0138662815093995 '\n",
      "'validation accuracy is 0.819140625 '\n",
      "'Epoch: 754'\n",
      "'training loss is 0.06344605575908314 '\n",
      "'training accuracy is 0.984659090909091 '\n",
      "'Epoch: 754'\n"
     ]
    },
    {
     "name": "stderr",
     "output_type": "stream",
     "text": [
      "\r",
      " 30%|███       | 754/2499 [22:43<53:10,  1.83s/it]"
     ]
    },
    {
     "name": "stdout",
     "output_type": "stream",
     "text": [
      "'validation loss is 1.0124884843826294 '\n",
      "'validation accuracy is 0.8194335937500001 '\n",
      "'Epoch: 755'\n",
      "'training loss is 0.0633369775658304 '\n",
      "'training accuracy is 0.984659090909091 '\n",
      "'Epoch: 755'\n"
     ]
    },
    {
     "name": "stderr",
     "output_type": "stream",
     "text": [
      "\r",
      " 30%|███       | 755/2499 [22:45<54:00,  1.86s/it]"
     ]
    },
    {
     "name": "stdout",
     "output_type": "stream",
     "text": [
      "'validation loss is 1.0106318563222885 '\n",
      "'validation accuracy is 0.8194335937500001 '\n",
      "'Epoch: 756'\n",
      "'training loss is 0.06363548981872472 '\n",
      "'training accuracy is 0.984659090909091 '\n",
      "'Epoch: 756'\n"
     ]
    },
    {
     "name": "stderr",
     "output_type": "stream",
     "text": [
      "\r",
      " 30%|███       | 756/2499 [22:46<53:37,  1.85s/it]"
     ]
    },
    {
     "name": "stdout",
     "output_type": "stream",
     "text": [
      "'validation loss is 1.0092108115553855 '\n",
      "'validation accuracy is 0.8200195312500002 '\n",
      "'Epoch: 757'\n",
      "'training loss is 0.06307929551059549 '\n",
      "'training accuracy is 0.984659090909091 '\n",
      "'Epoch: 757'\n"
     ]
    },
    {
     "name": "stderr",
     "output_type": "stream",
     "text": [
      "\r",
      " 30%|███       | 757/2499 [22:48<53:34,  1.85s/it]"
     ]
    },
    {
     "name": "stdout",
     "output_type": "stream",
     "text": [
      "'validation loss is 1.0136046960949898 '\n",
      "'validation accuracy is 0.8191406250000002 '\n",
      "'Epoch: 758'\n",
      "'training loss is 0.06339673393151977 '\n",
      "'training accuracy is 0.984659090909091 '\n",
      "'Epoch: 758'\n"
     ]
    },
    {
     "name": "stderr",
     "output_type": "stream",
     "text": [
      "\r",
      " 30%|███       | 758/2499 [22:50<52:38,  1.81s/it]"
     ]
    },
    {
     "name": "stdout",
     "output_type": "stream",
     "text": [
      "'validation loss is 1.0099186211824418 '\n",
      "'validation accuracy is 0.8197265625 '\n",
      "'Epoch: 759'\n",
      "'training loss is 0.0632909895344214 '\n",
      "'training accuracy is 0.984659090909091 '\n",
      "'Epoch: 759'\n"
     ]
    },
    {
     "name": "stderr",
     "output_type": "stream",
     "text": [
      "\r",
      " 30%|███       | 759/2499 [22:52<52:44,  1.82s/it]"
     ]
    },
    {
     "name": "stdout",
     "output_type": "stream",
     "text": [
      "'validation loss is 1.007311074435711 '\n",
      "'validation accuracy is 0.8197265625000003 '\n",
      "'Epoch: 760'\n",
      "'training loss is 0.06347613273696466 '\n",
      "'training accuracy is 0.984659090909091 '\n",
      "'Epoch: 760'\n"
     ]
    },
    {
     "name": "stderr",
     "output_type": "stream",
     "text": [
      "\r",
      " 30%|███       | 760/2499 [22:54<53:09,  1.83s/it]"
     ]
    },
    {
     "name": "stdout",
     "output_type": "stream",
     "text": [
      "'validation loss is 1.0138884007930755 '\n",
      "'validation accuracy is 0.8194335937500001 '\n",
      "'Epoch: 761'\n",
      "'training loss is 0.0636260441758416 '\n",
      "'training accuracy is 0.984659090909091 '\n",
      "'Epoch: 761'\n"
     ]
    },
    {
     "name": "stderr",
     "output_type": "stream",
     "text": [
      "\r",
      " 30%|███       | 761/2499 [22:56<53:25,  1.84s/it]"
     ]
    },
    {
     "name": "stdout",
     "output_type": "stream",
     "text": [
      "'validation loss is 1.0090176239609718 '\n",
      "'validation accuracy is 0.8194335937500001 '\n",
      "'Epoch: 762'\n",
      "'training loss is 0.06326666508208621 '\n",
      "'training accuracy is 0.9846590909090908 '\n",
      "'Epoch: 762'\n"
     ]
    },
    {
     "name": "stderr",
     "output_type": "stream",
     "text": [
      "\r",
      " 30%|███       | 762/2499 [22:57<52:11,  1.80s/it]"
     ]
    },
    {
     "name": "stdout",
     "output_type": "stream",
     "text": [
      "'validation loss is 1.007797360420227 '\n",
      "'validation accuracy is 0.8194335937500001 '\n",
      "'Epoch: 763'\n",
      "'training loss is 0.06328178908337247 '\n",
      "'training accuracy is 0.984659090909091 '\n",
      "'Epoch: 763'\n"
     ]
    },
    {
     "name": "stderr",
     "output_type": "stream",
     "text": [
      "\r",
      " 31%|███       | 763/2499 [22:59<53:26,  1.85s/it]"
     ]
    },
    {
     "name": "stdout",
     "output_type": "stream",
     "text": [
      "'validation loss is 1.0073702722787856 '\n",
      "'validation accuracy is 0.8191406250000002 '\n",
      "'Epoch: 764'\n",
      "'training loss is 0.06336025114763867 '\n",
      "'training accuracy is 0.9846590909090908 '\n",
      "'Epoch: 764'\n"
     ]
    },
    {
     "name": "stderr",
     "output_type": "stream",
     "text": [
      "\r",
      " 31%|███       | 764/2499 [23:01<53:54,  1.86s/it]"
     ]
    },
    {
     "name": "stdout",
     "output_type": "stream",
     "text": [
      "'validation loss is 1.0099698215723039 '\n",
      "'validation accuracy is 0.8194335937500001 '\n",
      "'Epoch: 765'\n",
      "'training loss is 0.063053544272076 '\n",
      "'training accuracy is 0.9846590909090908 '\n",
      "'Epoch: 765'\n"
     ]
    },
    {
     "name": "stderr",
     "output_type": "stream",
     "text": [
      "\r",
      " 31%|███       | 765/2499 [23:03<53:54,  1.87s/it]"
     ]
    },
    {
     "name": "stdout",
     "output_type": "stream",
     "text": [
      "'validation loss is 1.0129495397210122 '\n",
      "'validation accuracy is 0.8191406250000002 '\n",
      "'Epoch: 766'\n",
      "'training loss is 0.06316951391371814 '\n",
      "'training accuracy is 0.984659090909091 '\n",
      "'Epoch: 766'\n"
     ]
    },
    {
     "name": "stderr",
     "output_type": "stream",
     "text": [
      "\r",
      " 31%|███       | 766/2499 [23:05<53:08,  1.84s/it]"
     ]
    },
    {
     "name": "stdout",
     "output_type": "stream",
     "text": [
      "'validation loss is 1.0086268052458762 '\n",
      "'validation accuracy is 0.8206054687500004 '\n",
      "'Epoch: 767'\n",
      "'training loss is 0.06371324102986943 '\n",
      "'training accuracy is 0.9846590909090911 '\n",
      "'Epoch: 767'\n"
     ]
    },
    {
     "name": "stderr",
     "output_type": "stream",
     "text": [
      "\r",
      " 31%|███       | 767/2499 [23:07<52:47,  1.83s/it]"
     ]
    },
    {
     "name": "stdout",
     "output_type": "stream",
     "text": [
      "'validation loss is 1.0103412985801696 '\n",
      "'validation accuracy is 0.8194335937500001 '\n",
      "'Epoch: 768'\n",
      "'training loss is 0.06373088874600151 '\n",
      "'training accuracy is 0.984659090909091 '\n",
      "'Epoch: 768'\n"
     ]
    },
    {
     "name": "stderr",
     "output_type": "stream",
     "text": [
      "\r",
      " 31%|███       | 768/2499 [23:08<52:35,  1.82s/it]"
     ]
    },
    {
     "name": "stdout",
     "output_type": "stream",
     "text": [
      "'validation loss is 1.009650708734989 '\n",
      "'validation accuracy is 0.8194335937500001 '\n",
      "'Epoch: 769'\n",
      "'training loss is 0.06321516971696507 '\n",
      "'training accuracy is 0.984659090909091 '\n",
      "'Epoch: 769'\n"
     ]
    },
    {
     "name": "stderr",
     "output_type": "stream",
     "text": [
      "\r",
      " 31%|███       | 769/2499 [23:10<52:35,  1.82s/it]"
     ]
    },
    {
     "name": "stdout",
     "output_type": "stream",
     "text": [
      "'validation loss is 0.9993033811450005 '\n",
      "'validation accuracy is 0.8197265625000002 '\n",
      "'Epoch: 770'\n",
      "'training loss is 0.06356703117489815 '\n",
      "'training accuracy is 0.984659090909091 '\n",
      "'Epoch: 770'\n"
     ]
    },
    {
     "name": "stderr",
     "output_type": "stream",
     "text": [
      "\r",
      " 31%|███       | 770/2499 [23:12<52:13,  1.81s/it]"
     ]
    },
    {
     "name": "stdout",
     "output_type": "stream",
     "text": [
      "'validation loss is 1.007839024066925 '\n",
      "'validation accuracy is 0.8194335937500001 '\n",
      "'Epoch: 771'\n",
      "'training loss is 0.06309311938556758 '\n",
      "'training accuracy is 0.984659090909091 '\n",
      "'Epoch: 771'\n"
     ]
    },
    {
     "name": "stderr",
     "output_type": "stream",
     "text": [
      "\r",
      " 31%|███       | 771/2499 [23:14<51:40,  1.79s/it]"
     ]
    },
    {
     "name": "stdout",
     "output_type": "stream",
     "text": [
      "'validation loss is 1.007759915292263 '\n",
      "'validation accuracy is 0.8194335937500001 '\n",
      "'Epoch: 772'\n",
      "'training loss is 0.0632550533522259 '\n",
      "'training accuracy is 0.9846590909090908 '\n",
      "'Epoch: 772'\n"
     ]
    },
    {
     "name": "stderr",
     "output_type": "stream",
     "text": [
      "\r",
      " 31%|███       | 772/2499 [23:16<52:22,  1.82s/it]"
     ]
    },
    {
     "name": "stdout",
     "output_type": "stream",
     "text": [
      "'validation loss is 1.0084580287337304 '\n",
      "'validation accuracy is 0.82001953125 '\n",
      "'Epoch: 773'\n",
      "'training loss is 0.06330517035993663 '\n",
      "'training accuracy is 0.9846590909090908 '\n",
      "'Epoch: 773'\n"
     ]
    },
    {
     "name": "stderr",
     "output_type": "stream",
     "text": [
      "\r",
      " 31%|███       | 773/2499 [23:17<52:38,  1.83s/it]"
     ]
    },
    {
     "name": "stdout",
     "output_type": "stream",
     "text": [
      "'validation loss is 1.007361787557602 '\n",
      "'validation accuracy is 0.8197265625000002 '\n",
      "'Epoch: 774'\n",
      "'training loss is 0.0631051788275892 '\n",
      "'training accuracy is 0.984659090909091 '\n",
      "'Epoch: 774'\n"
     ]
    },
    {
     "name": "stderr",
     "output_type": "stream",
     "text": [
      "\r",
      " 31%|███       | 774/2499 [23:19<52:26,  1.82s/it]"
     ]
    },
    {
     "name": "stdout",
     "output_type": "stream",
     "text": [
      "'validation loss is 1.0101272955536842 '\n",
      "'validation accuracy is 0.8194335937500001 '\n",
      "'Epoch: 775'\n",
      "'training loss is 0.06332571161064235 '\n",
      "'training accuracy is 0.984659090909091 '\n",
      "'Epoch: 775'\n"
     ]
    },
    {
     "name": "stderr",
     "output_type": "stream",
     "text": [
      "\r",
      " 31%|███       | 775/2499 [23:21<51:39,  1.80s/it]"
     ]
    },
    {
     "name": "stdout",
     "output_type": "stream",
     "text": [
      "'validation loss is 1.0045778959989549 '\n",
      "'validation accuracy is 0.8197265625000002 '\n",
      "'Epoch: 776'\n",
      "'training loss is 0.0633155612105673 '\n",
      "'training accuracy is 0.984659090909091 '\n",
      "'Epoch: 776'\n"
     ]
    },
    {
     "name": "stderr",
     "output_type": "stream",
     "text": [
      "\r",
      " 31%|███       | 776/2499 [23:23<52:24,  1.83s/it]"
     ]
    },
    {
     "name": "stdout",
     "output_type": "stream",
     "text": [
      "'validation loss is 1.0040406823158263 '\n",
      "'validation accuracy is 0.8203125000000002 '\n",
      "'Epoch: 777'\n",
      "'training loss is 0.06344028630039909 '\n",
      "'training accuracy is 0.9846590909090911 '\n",
      "'Epoch: 777'\n"
     ]
    },
    {
     "name": "stderr",
     "output_type": "stream",
     "text": [
      "\r",
      " 31%|███       | 777/2499 [23:25<52:25,  1.83s/it]"
     ]
    },
    {
     "name": "stdout",
     "output_type": "stream",
     "text": [
      "'validation loss is 1.008159613609314 '\n",
      "'validation accuracy is 0.8194335937500001 '\n",
      "'Epoch: 778'\n",
      "'training loss is 0.06348213214765895 '\n",
      "'training accuracy is 0.984659090909091 '\n",
      "'Epoch: 778'\n"
     ]
    },
    {
     "name": "stderr",
     "output_type": "stream",
     "text": [
      "\r",
      " 31%|███       | 778/2499 [23:27<52:07,  1.82s/it]"
     ]
    },
    {
     "name": "stdout",
     "output_type": "stream",
     "text": [
      "'validation loss is 1.0004489570856094 '\n",
      "'validation accuracy is 0.81943359375 '\n",
      "'Epoch: 779'\n",
      "'training loss is 0.06343010711398991 '\n",
      "'training accuracy is 0.984659090909091 '\n",
      "'Epoch: 779'\n"
     ]
    },
    {
     "name": "stderr",
     "output_type": "stream",
     "text": [
      "\r",
      " 31%|███       | 779/2499 [23:28<52:16,  1.82s/it]"
     ]
    },
    {
     "name": "stdout",
     "output_type": "stream",
     "text": [
      "'validation loss is 1.006116260588169 '\n",
      "'validation accuracy is 0.8197265625000003 '\n",
      "'Epoch: 780'\n",
      "'training loss is 0.06330095299265602 '\n",
      "'training accuracy is 0.9846590909090908 '\n",
      "'Epoch: 780'\n"
     ]
    },
    {
     "name": "stderr",
     "output_type": "stream",
     "text": [
      "\r",
      " 31%|███       | 780/2499 [23:30<51:46,  1.81s/it]"
     ]
    },
    {
     "name": "stdout",
     "output_type": "stream",
     "text": [
      "'validation loss is 1.0004537925124168 '\n",
      "'validation accuracy is 0.8206054687500002 '\n",
      "'Epoch: 781'\n",
      "'training loss is 0.06324375420808792 '\n",
      "'training accuracy is 0.9846590909090908 '\n",
      "'Epoch: 781'\n"
     ]
    },
    {
     "name": "stderr",
     "output_type": "stream",
     "text": [
      "\r",
      " 31%|███▏      | 781/2499 [23:32<52:07,  1.82s/it]"
     ]
    },
    {
     "name": "stdout",
     "output_type": "stream",
     "text": [
      "'validation loss is 1.00128633081913 '\n",
      "'validation accuracy is 0.8197265625000002 '\n",
      "'Epoch: 782'\n",
      "'training loss is 0.06327834014188159 '\n",
      "'training accuracy is 0.9846590909090908 '\n",
      "'Epoch: 782'\n"
     ]
    },
    {
     "name": "stderr",
     "output_type": "stream",
     "text": [
      "\r",
      " 31%|███▏      | 782/2499 [23:34<51:43,  1.81s/it]"
     ]
    },
    {
     "name": "stdout",
     "output_type": "stream",
     "text": [
      "'validation loss is 1.0075484678149222 '\n",
      "'validation accuracy is 0.8197265625 '\n",
      "'Epoch: 783'\n",
      "'training loss is 0.06356949325312268 '\n",
      "'training accuracy is 0.984659090909091 '\n",
      "'Epoch: 783'\n"
     ]
    },
    {
     "name": "stderr",
     "output_type": "stream",
     "text": [
      "\r",
      " 31%|███▏      | 783/2499 [23:36<51:51,  1.81s/it]"
     ]
    },
    {
     "name": "stdout",
     "output_type": "stream",
     "text": [
      "'validation loss is 1.0026382833719254 '\n",
      "'validation accuracy is 0.8200195312500002 '\n",
      "'Epoch: 784'\n",
      "'training loss is 0.06338425014506686 '\n",
      "'training accuracy is 0.984659090909091 '\n",
      "'Epoch: 784'\n"
     ]
    },
    {
     "name": "stderr",
     "output_type": "stream",
     "text": [
      "\r",
      " 31%|███▏      | 784/2499 [23:37<51:29,  1.80s/it]"
     ]
    },
    {
     "name": "stdout",
     "output_type": "stream",
     "text": [
      "'validation loss is 1.0033095642924308 '\n",
      "'validation accuracy is 0.8197265625000002 '\n",
      "'Epoch: 785'\n",
      "'training loss is 0.06331853568553925 '\n",
      "'training accuracy is 0.984659090909091 '\n",
      "'Epoch: 785'\n"
     ]
    },
    {
     "name": "stderr",
     "output_type": "stream",
     "text": [
      "\r",
      " 31%|███▏      | 785/2499 [23:39<51:50,  1.81s/it]"
     ]
    },
    {
     "name": "stdout",
     "output_type": "stream",
     "text": [
      "'validation loss is 1.0087975963950158 '\n",
      "'validation accuracy is 0.8191406250000002 '\n",
      "'Epoch: 786'\n",
      "'training loss is 0.06362973797050389 '\n",
      "'training accuracy is 0.9846590909090908 '\n",
      "'Epoch: 786'\n"
     ]
    },
    {
     "name": "stderr",
     "output_type": "stream",
     "text": [
      "\r",
      " 31%|███▏      | 786/2499 [23:41<51:42,  1.81s/it]"
     ]
    },
    {
     "name": "stdout",
     "output_type": "stream",
     "text": [
      "'validation loss is 1.0080423265695573 '\n",
      "'validation accuracy is 0.8194335937500001 '\n",
      "'Epoch: 787'\n",
      "'training loss is 0.06331683559851213 '\n",
      "'training accuracy is 0.984659090909091 '\n",
      "'Epoch: 787'\n"
     ]
    },
    {
     "name": "stderr",
     "output_type": "stream",
     "text": [
      "\r",
      " 31%|███▏      | 787/2499 [23:43<51:06,  1.79s/it]"
     ]
    },
    {
     "name": "stdout",
     "output_type": "stream",
     "text": [
      "'validation loss is 1.0094017907977104 '\n",
      "'validation accuracy is 0.8194335937500001 '\n",
      "'Epoch: 788'\n",
      "'training loss is 0.06336760182272304 '\n",
      "'training accuracy is 0.9846590909090911 '\n",
      "'Epoch: 788'\n"
     ]
    },
    {
     "name": "stderr",
     "output_type": "stream",
     "text": [
      "\r",
      " 32%|███▏      | 788/2499 [23:45<50:55,  1.79s/it]"
     ]
    },
    {
     "name": "stdout",
     "output_type": "stream",
     "text": [
      "'validation loss is 1.0084669962525368 '\n",
      "'validation accuracy is 0.8200195312500002 '\n",
      "'Epoch: 789'\n",
      "'training loss is 0.06324036520990459 '\n",
      "'training accuracy is 0.984659090909091 '\n",
      "'Epoch: 789'\n"
     ]
    },
    {
     "name": "stderr",
     "output_type": "stream",
     "text": [
      "\r",
      " 32%|███▏      | 789/2499 [23:46<51:20,  1.80s/it]"
     ]
    },
    {
     "name": "stdout",
     "output_type": "stream",
     "text": [
      "'validation loss is 1.0069019064307212 '\n",
      "'validation accuracy is 0.8191406250000004 '\n",
      "'Epoch: 790'\n",
      "'training loss is 0.06325332820415497 '\n",
      "'training accuracy is 0.984659090909091 '\n",
      "'Epoch: 790'\n"
     ]
    },
    {
     "name": "stderr",
     "output_type": "stream",
     "text": [
      "\r",
      " 32%|███▏      | 790/2499 [23:48<52:12,  1.83s/it]"
     ]
    },
    {
     "name": "stdout",
     "output_type": "stream",
     "text": [
      "'validation loss is 1.0084524765610694 '\n",
      "'validation accuracy is 0.8194335937500004 '\n",
      "'Epoch: 791'\n",
      "'training loss is 0.0634900036860596 '\n",
      "'training accuracy is 0.984659090909091 '\n",
      "'Epoch: 791'\n"
     ]
    },
    {
     "name": "stderr",
     "output_type": "stream",
     "text": [
      "\r",
      " 32%|███▏      | 791/2499 [23:50<52:17,  1.84s/it]"
     ]
    },
    {
     "name": "stdout",
     "output_type": "stream",
     "text": [
      "'validation loss is 1.0103404134511949 '\n",
      "'validation accuracy is 0.8197265625000002 '\n",
      "'Epoch: 792'\n",
      "'training loss is 0.06332337754693898 '\n",
      "'training accuracy is 0.984659090909091 '\n",
      "'Epoch: 792'\n"
     ]
    },
    {
     "name": "stderr",
     "output_type": "stream",
     "text": [
      "\r",
      " 32%|███▏      | 792/2499 [23:52<53:03,  1.86s/it]"
     ]
    },
    {
     "name": "stdout",
     "output_type": "stream",
     "text": [
      "'validation loss is 1.0049640610814095 '\n",
      "'validation accuracy is 0.8203125000000002 '\n",
      "'Epoch: 793'\n",
      "'training loss is 0.06333966011350806 '\n",
      "'training accuracy is 0.984659090909091 '\n",
      "'Epoch: 793'\n"
     ]
    },
    {
     "name": "stderr",
     "output_type": "stream",
     "text": [
      "\r",
      " 32%|███▏      | 793/2499 [23:54<52:53,  1.86s/it]"
     ]
    },
    {
     "name": "stdout",
     "output_type": "stream",
     "text": [
      "'validation loss is 1.0123269274830817 '\n",
      "'validation accuracy is 0.8194335937500004 '\n",
      "'Epoch: 794'\n",
      "'training loss is 0.06339247253808108 '\n",
      "'training accuracy is 0.9846590909090908 '\n",
      "'Epoch: 794'\n"
     ]
    },
    {
     "name": "stderr",
     "output_type": "stream",
     "text": [
      "\r",
      " 32%|███▏      | 794/2499 [23:56<53:26,  1.88s/it]"
     ]
    },
    {
     "name": "stdout",
     "output_type": "stream",
     "text": [
      "'validation loss is 1.006120477616787 '\n",
      "'validation accuracy is 0.8194335937500001 '\n",
      "'Epoch: 795'\n",
      "'training loss is 0.06329249048774893 '\n",
      "'training accuracy is 0.9846590909090908 '\n",
      "'Epoch: 795'\n"
     ]
    },
    {
     "name": "stderr",
     "output_type": "stream",
     "text": [
      "\r",
      " 32%|███▏      | 795/2499 [23:58<52:23,  1.84s/it]"
     ]
    },
    {
     "name": "stdout",
     "output_type": "stream",
     "text": [
      "'validation loss is 1.0098147690296173 '\n",
      "'validation accuracy is 0.8191406250000002 '\n",
      "'Epoch: 796'\n",
      "'training loss is 0.06342052126472647 '\n",
      "'training accuracy is 0.9846590909090911 '\n",
      "'Epoch: 796'\n"
     ]
    },
    {
     "name": "stderr",
     "output_type": "stream",
     "text": [
      "\r",
      " 32%|███▏      | 796/2499 [23:59<51:34,  1.82s/it]"
     ]
    },
    {
     "name": "stdout",
     "output_type": "stream",
     "text": [
      "'validation loss is 1.0052735164761544 '\n",
      "'validation accuracy is 0.8194335937500001 '\n",
      "'Epoch: 797'\n",
      "'training loss is 0.06369299678639932 '\n",
      "'training accuracy is 0.9846590909090908 '\n",
      "'Epoch: 797'\n"
     ]
    },
    {
     "name": "stderr",
     "output_type": "stream",
     "text": [
      "\r",
      " 32%|███▏      | 797/2499 [24:01<51:44,  1.82s/it]"
     ]
    },
    {
     "name": "stdout",
     "output_type": "stream",
     "text": [
      "'validation loss is 1.0060483291745186 '\n",
      "'validation accuracy is 0.8191406250000002 '\n",
      "'Epoch: 798'\n",
      "'training loss is 0.06351155923171477 '\n",
      "'training accuracy is 0.984659090909091 '\n",
      "'Epoch: 798'\n"
     ]
    },
    {
     "name": "stderr",
     "output_type": "stream",
     "text": [
      "\r",
      " 32%|███▏      | 798/2499 [24:03<51:18,  1.81s/it]"
     ]
    },
    {
     "name": "stdout",
     "output_type": "stream",
     "text": [
      "'validation loss is 1.0013502910733223 '\n",
      "'validation accuracy is 0.8194335937500001 '\n",
      "'Epoch: 799'\n",
      "'training loss is 0.06364526735110716 '\n",
      "'training accuracy is 0.984659090909091 '\n",
      "'Epoch: 799'\n"
     ]
    },
    {
     "name": "stderr",
     "output_type": "stream",
     "text": [
      "\r",
      " 32%|███▏      | 799/2499 [24:05<51:43,  1.83s/it]"
     ]
    },
    {
     "name": "stdout",
     "output_type": "stream",
     "text": [
      "'validation loss is 1.0056944668293 '\n",
      "'validation accuracy is 0.8191406250000002 '\n",
      "'Epoch: 800'\n",
      "'training loss is 0.06314384903420102 '\n",
      "'training accuracy is 0.984659090909091 '\n",
      "'Epoch: 800'\n"
     ]
    },
    {
     "name": "stderr",
     "output_type": "stream",
     "text": [
      "\r",
      " 32%|███▏      | 800/2499 [24:07<52:17,  1.85s/it]"
     ]
    },
    {
     "name": "stdout",
     "output_type": "stream",
     "text": [
      "'validation loss is 1.0023043304681778 '\n",
      "'validation accuracy is 0.8191406250000002 '\n",
      "'Epoch: 801'\n",
      "'training loss is 0.06364093483849005 '\n",
      "'training accuracy is 0.984659090909091 '\n",
      "'Epoch: 801'\n"
     ]
    },
    {
     "name": "stderr",
     "output_type": "stream",
     "text": [
      "\r",
      " 32%|███▏      | 801/2499 [24:09<52:32,  1.86s/it]"
     ]
    },
    {
     "name": "stdout",
     "output_type": "stream",
     "text": [
      "'validation loss is 1.0002375170588493 '\n",
      "'validation accuracy is 0.8197265625000002 '\n",
      "'Epoch: 802'\n",
      "'training loss is 0.06345752762122588 '\n",
      "'training accuracy is 0.984659090909091 '\n",
      "'Epoch: 802'\n"
     ]
    },
    {
     "name": "stderr",
     "output_type": "stream",
     "text": [
      "\r",
      " 32%|███▏      | 802/2499 [24:10<51:54,  1.84s/it]"
     ]
    },
    {
     "name": "stdout",
     "output_type": "stream",
     "text": [
      "'validation loss is 1.011265580356121 '\n",
      "'validation accuracy is 0.8191406250000002 '\n",
      "'Epoch: 803'\n",
      "'training loss is 0.06335937942970883 '\n",
      "'training accuracy is 0.984659090909091 '\n",
      "'Epoch: 803'\n"
     ]
    },
    {
     "name": "stderr",
     "output_type": "stream",
     "text": [
      "\r",
      " 32%|███▏      | 803/2499 [24:12<51:48,  1.83s/it]"
     ]
    },
    {
     "name": "stdout",
     "output_type": "stream",
     "text": [
      "'validation loss is 1.003194372355938 '\n",
      "'validation accuracy is 0.8197265625000002 '\n",
      "'Epoch: 804'\n",
      "'training loss is 0.06345701759511774 '\n",
      "'training accuracy is 0.984659090909091 '\n",
      "'Epoch: 804'\n"
     ]
    },
    {
     "name": "stderr",
     "output_type": "stream",
     "text": [
      "\r",
      " 32%|███▏      | 804/2499 [24:14<51:55,  1.84s/it]"
     ]
    },
    {
     "name": "stdout",
     "output_type": "stream",
     "text": [
      "'validation loss is 1.001070086658001 '\n",
      "'validation accuracy is 0.8203125000000002 '\n",
      "'Epoch: 805'\n",
      "'training loss is 0.06300743432207541 '\n",
      "'training accuracy is 0.984659090909091 '\n",
      "'Epoch: 805'\n"
     ]
    },
    {
     "name": "stderr",
     "output_type": "stream",
     "text": [
      "\r",
      " 32%|███▏      | 805/2499 [24:16<51:49,  1.84s/it]"
     ]
    },
    {
     "name": "stdout",
     "output_type": "stream",
     "text": [
      "'validation loss is 1.0055744871497154 '\n",
      "'validation accuracy is 0.8194335937500004 '\n",
      "'Epoch: 806'\n",
      "'training loss is 0.0633371157402342 '\n",
      "'training accuracy is 0.984659090909091 '\n",
      "'Epoch: 806'\n"
     ]
    },
    {
     "name": "stderr",
     "output_type": "stream",
     "text": [
      "\r",
      " 32%|███▏      | 806/2499 [24:18<50:24,  1.79s/it]"
     ]
    },
    {
     "name": "stdout",
     "output_type": "stream",
     "text": [
      "'validation loss is 1.003268153965473 '\n",
      "'validation accuracy is 0.8197265625000002 '\n",
      "'Epoch: 807'\n",
      "'training loss is 0.06359080834822221 '\n",
      "'training accuracy is 0.984659090909091 '\n",
      "'Epoch: 807'\n"
     ]
    },
    {
     "name": "stderr",
     "output_type": "stream",
     "text": [
      "\r",
      " 32%|███▏      | 807/2499 [24:19<50:21,  1.79s/it]"
     ]
    },
    {
     "name": "stdout",
     "output_type": "stream",
     "text": [
      "'validation loss is 1.0027068942785262 '\n",
      "'validation accuracy is 0.8197265625000002 '\n",
      "'Epoch: 808'\n",
      "'training loss is 0.06343442167748105 '\n",
      "'training accuracy is 0.984659090909091 '\n",
      "'Epoch: 808'\n"
     ]
    },
    {
     "name": "stderr",
     "output_type": "stream",
     "text": [
      "\r",
      " 32%|███▏      | 808/2499 [24:21<51:02,  1.81s/it]"
     ]
    },
    {
     "name": "stdout",
     "output_type": "stream",
     "text": [
      "'validation loss is 1.0000375807285309 '\n",
      "'validation accuracy is 0.8194335937500001 '\n",
      "'Epoch: 809'\n",
      "'training loss is 0.0631757564842701 '\n",
      "'training accuracy is 0.984659090909091 '\n",
      "'Epoch: 809'\n"
     ]
    },
    {
     "name": "stderr",
     "output_type": "stream",
     "text": [
      "\r",
      " 32%|███▏      | 809/2499 [24:23<50:48,  1.80s/it]"
     ]
    },
    {
     "name": "stdout",
     "output_type": "stream",
     "text": [
      "'validation loss is 1.0038364723324775 '\n",
      "'validation accuracy is 0.8191406250000002 '\n",
      "'Epoch: 810'\n",
      "'training loss is 0.06308229741725055 '\n",
      "'training accuracy is 0.984659090909091 '\n",
      "'Epoch: 810'\n"
     ]
    },
    {
     "name": "stderr",
     "output_type": "stream",
     "text": [
      "\r",
      " 32%|███▏      | 810/2499 [24:25<50:26,  1.79s/it]"
     ]
    },
    {
     "name": "stdout",
     "output_type": "stream",
     "text": [
      "'validation loss is 1.0091642051935197 '\n",
      "'validation accuracy is 0.8194335937500001 '\n",
      "'Epoch: 811'\n",
      "'training loss is 0.06344128400087357 '\n",
      "'training accuracy is 0.984659090909091 '\n",
      "'Epoch: 811'\n"
     ]
    },
    {
     "name": "stderr",
     "output_type": "stream",
     "text": [
      "\r",
      " 32%|███▏      | 811/2499 [24:27<51:00,  1.81s/it]"
     ]
    },
    {
     "name": "stdout",
     "output_type": "stream",
     "text": [
      "'validation loss is 1.0078370124101639 '\n",
      "'validation accuracy is 0.8191406250000004 '\n",
      "'Epoch: 812'\n",
      "'training loss is 0.06320660121061585 '\n",
      "'training accuracy is 0.984659090909091 '\n",
      "'Epoch: 812'\n"
     ]
    },
    {
     "name": "stderr",
     "output_type": "stream",
     "text": [
      "\r",
      " 32%|███▏      | 812/2499 [24:28<51:03,  1.82s/it]"
     ]
    },
    {
     "name": "stdout",
     "output_type": "stream",
     "text": [
      "'validation loss is 1.0015775069594384 '\n",
      "'validation accuracy is 0.8194335937500004 '\n",
      "'Epoch: 813'\n",
      "'training loss is 0.06327510354193774 '\n",
      "'training accuracy is 0.984659090909091 '\n",
      "'Epoch: 813'\n"
     ]
    },
    {
     "name": "stderr",
     "output_type": "stream",
     "text": [
      "\r",
      " 33%|███▎      | 813/2499 [24:30<50:54,  1.81s/it]"
     ]
    },
    {
     "name": "stdout",
     "output_type": "stream",
     "text": [
      "'validation loss is 1.0029323235154153 '\n",
      "'validation accuracy is 0.819140625 '\n",
      "'Epoch: 814'\n",
      "'training loss is 0.06328881057825955 '\n",
      "'training accuracy is 0.984659090909091 '\n",
      "'Epoch: 814'\n"
     ]
    },
    {
     "name": "stderr",
     "output_type": "stream",
     "text": [
      "\r",
      " 33%|███▎      | 814/2499 [24:32<51:22,  1.83s/it]"
     ]
    },
    {
     "name": "stdout",
     "output_type": "stream",
     "text": [
      "'validation loss is 1.0035260647535325 '\n",
      "'validation accuracy is 0.8194335937500001 '\n",
      "'Epoch: 815'\n",
      "'training loss is 0.06331187147985805 '\n",
      "'training accuracy is 0.9846590909090908 '\n",
      "'Epoch: 815'\n"
     ]
    },
    {
     "name": "stderr",
     "output_type": "stream",
     "text": [
      "\r",
      " 33%|███▎      | 815/2499 [24:34<51:24,  1.83s/it]"
     ]
    },
    {
     "name": "stdout",
     "output_type": "stream",
     "text": [
      "'validation loss is 1.0023082375526429 '\n",
      "'validation accuracy is 0.8197265625000002 '\n",
      "'Epoch: 816'\n",
      "'training loss is 0.06334860690615395 '\n",
      "'training accuracy is 0.984659090909091 '\n",
      "'Epoch: 816'\n"
     ]
    },
    {
     "name": "stderr",
     "output_type": "stream",
     "text": [
      "\r",
      " 33%|███▎      | 816/2499 [24:36<50:54,  1.82s/it]"
     ]
    },
    {
     "name": "stdout",
     "output_type": "stream",
     "text": [
      "'validation loss is 1.0036944091320037 '\n",
      "'validation accuracy is 0.8200195312500002 '\n",
      "'Epoch: 817'\n",
      "'training loss is 0.06337834589860657 '\n",
      "'training accuracy is 0.9846590909090908 '\n",
      "'Epoch: 817'\n"
     ]
    },
    {
     "name": "stderr",
     "output_type": "stream",
     "text": [
      "\r",
      " 33%|███▎      | 817/2499 [24:38<51:35,  1.84s/it]"
     ]
    },
    {
     "name": "stdout",
     "output_type": "stream",
     "text": [
      "'validation loss is 1.0062484681606292 '\n",
      "'validation accuracy is 0.81943359375 '\n",
      "'Epoch: 818'\n",
      "'training loss is 0.0635752532292496 '\n",
      "'training accuracy is 0.984659090909091 '\n",
      "'Epoch: 818'\n"
     ]
    },
    {
     "name": "stderr",
     "output_type": "stream",
     "text": [
      "\r",
      " 33%|███▎      | 818/2499 [24:39<51:36,  1.84s/it]"
     ]
    },
    {
     "name": "stdout",
     "output_type": "stream",
     "text": [
      "'validation loss is 1.0036587163805961 '\n",
      "'validation accuracy is 0.8191406250000002 '\n",
      "'Epoch: 819'\n",
      "'training loss is 0.06348626044663516 '\n",
      "'training accuracy is 0.984659090909091 '\n",
      "'Epoch: 819'\n"
     ]
    },
    {
     "name": "stderr",
     "output_type": "stream",
     "text": [
      "\r",
      " 33%|███▎      | 819/2499 [24:41<51:18,  1.83s/it]"
     ]
    },
    {
     "name": "stdout",
     "output_type": "stream",
     "text": [
      "'validation loss is 1.0039253666996957 '\n",
      "'validation accuracy is 0.8197265625 '\n",
      "'Epoch: 820'\n",
      "'training loss is 0.06319935890761288 '\n",
      "'training accuracy is 0.984659090909091 '\n",
      "'Epoch: 820'\n"
     ]
    },
    {
     "name": "stderr",
     "output_type": "stream",
     "text": [
      "\r",
      " 33%|███▎      | 820/2499 [24:43<51:08,  1.83s/it]"
     ]
    },
    {
     "name": "stdout",
     "output_type": "stream",
     "text": [
      "'validation loss is 1.0072681665420533 '\n",
      "'validation accuracy is 0.8194335937500001 '\n",
      "'Epoch: 821'\n",
      "'training loss is 0.06311548535119403 '\n",
      "'training accuracy is 0.9846590909090908 '\n",
      "'Epoch: 821'\n"
     ]
    },
    {
     "name": "stderr",
     "output_type": "stream",
     "text": [
      "\r",
      " 33%|███▎      | 821/2499 [24:45<50:32,  1.81s/it]"
     ]
    },
    {
     "name": "stdout",
     "output_type": "stream",
     "text": [
      "'validation loss is 1.0088657394051552 '\n",
      "'validation accuracy is 0.819140625 '\n",
      "'Epoch: 822'\n",
      "'training loss is 0.06340532343495976 '\n",
      "'training accuracy is 0.9846590909090908 '\n",
      "'Epoch: 822'\n"
     ]
    },
    {
     "name": "stderr",
     "output_type": "stream",
     "text": [
      "\r",
      " 33%|███▎      | 822/2499 [24:47<50:32,  1.81s/it]"
     ]
    },
    {
     "name": "stdout",
     "output_type": "stream",
     "text": [
      "'validation loss is 1.0033212319016456 '\n",
      "'validation accuracy is 0.8194335937500001 '\n",
      "'Epoch: 823'\n",
      "'training loss is 0.06307073140686209 '\n",
      "'training accuracy is 0.9846590909090908 '\n",
      "'Epoch: 823'\n"
     ]
    },
    {
     "name": "stderr",
     "output_type": "stream",
     "text": [
      "\r",
      " 33%|███▎      | 823/2499 [24:49<50:48,  1.82s/it]"
     ]
    },
    {
     "name": "stdout",
     "output_type": "stream",
     "text": [
      "'validation loss is 1.0060137644410134 '\n",
      "'validation accuracy is 0.8191406250000002 '\n",
      "'Epoch: 824'\n",
      "'training loss is 0.06345061178911816 '\n",
      "'training accuracy is 0.9846590909090908 '\n",
      "'Epoch: 824'\n"
     ]
    },
    {
     "name": "stderr",
     "output_type": "stream",
     "text": [
      "\r",
      " 33%|███▎      | 824/2499 [24:50<51:16,  1.84s/it]"
     ]
    },
    {
     "name": "stdout",
     "output_type": "stream",
     "text": [
      "'validation loss is 1.0045434728264808 '\n",
      "'validation accuracy is 0.8194335937500001 '\n",
      "'Epoch: 825'\n",
      "'training loss is 0.06346777657216246 '\n",
      "'training accuracy is 0.984659090909091 '\n",
      "'Epoch: 825'\n"
     ]
    },
    {
     "name": "stderr",
     "output_type": "stream",
     "text": [
      "\r",
      " 33%|███▎      | 825/2499 [24:52<51:20,  1.84s/it]"
     ]
    },
    {
     "name": "stdout",
     "output_type": "stream",
     "text": [
      "'validation loss is 1.0011422023177148 '\n",
      "'validation accuracy is 0.8197265625000002 '\n",
      "'Epoch: 826'\n",
      "'training loss is 0.06325274096293883 '\n",
      "'training accuracy is 0.9846590909090908 '\n",
      "'Epoch: 826'\n"
     ]
    },
    {
     "name": "stderr",
     "output_type": "stream",
     "text": [
      "\r",
      " 33%|███▎      | 826/2499 [24:54<51:10,  1.84s/it]"
     ]
    },
    {
     "name": "stdout",
     "output_type": "stream",
     "text": [
      "'validation loss is 1.0033260479569435 '\n",
      "'validation accuracy is 0.81943359375 '\n",
      "'Epoch: 827'\n",
      "'training loss is 0.06318439204584468 '\n",
      "'training accuracy is 0.984659090909091 '\n",
      "'Epoch: 827'\n"
     ]
    },
    {
     "name": "stderr",
     "output_type": "stream",
     "text": [
      "\r",
      " 33%|███▎      | 827/2499 [24:56<50:56,  1.83s/it]"
     ]
    },
    {
     "name": "stdout",
     "output_type": "stream",
     "text": [
      "'validation loss is 1.0028980880975724 '\n",
      "'validation accuracy is 0.8200195312500004 '\n",
      "'Epoch: 828'\n",
      "'training loss is 0.06351374225182967 '\n",
      "'training accuracy is 0.984659090909091 '\n",
      "'Epoch: 828'\n"
     ]
    },
    {
     "name": "stderr",
     "output_type": "stream",
     "text": [
      "\r",
      " 33%|███▎      | 828/2499 [24:58<50:37,  1.82s/it]"
     ]
    },
    {
     "name": "stdout",
     "output_type": "stream",
     "text": [
      "'validation loss is 1.0010383695363998 '\n",
      "'validation accuracy is 0.8197265625000003 '\n",
      "'Epoch: 829'\n",
      "'training loss is 0.06338398361747916 '\n",
      "'training accuracy is 0.9846590909090908 '\n",
      "'Epoch: 829'\n"
     ]
    },
    {
     "name": "stderr",
     "output_type": "stream",
     "text": [
      "\r",
      " 33%|███▎      | 829/2499 [25:00<51:12,  1.84s/it]"
     ]
    },
    {
     "name": "stdout",
     "output_type": "stream",
     "text": [
      "'validation loss is 0.9982417762279511 '\n",
      "'validation accuracy is 0.819140625 '\n",
      "'Epoch: 830'\n",
      "'training loss is 0.06358181854540651 '\n",
      "'training accuracy is 0.984659090909091 '\n",
      "'Epoch: 830'\n"
     ]
    },
    {
     "name": "stderr",
     "output_type": "stream",
     "text": [
      "\r",
      " 33%|███▎      | 830/2499 [25:01<51:35,  1.85s/it]"
     ]
    },
    {
     "name": "stdout",
     "output_type": "stream",
     "text": [
      "'validation loss is 1.0028326407074928 '\n",
      "'validation accuracy is 0.8191406250000002 '\n",
      "'Epoch: 831'\n",
      "'training loss is 0.06326827677813443 '\n",
      "'training accuracy is 0.984659090909091 '\n",
      "'Epoch: 831'\n"
     ]
    },
    {
     "name": "stderr",
     "output_type": "stream",
     "text": [
      "\r",
      " 33%|███▎      | 831/2499 [25:03<51:49,  1.86s/it]"
     ]
    },
    {
     "name": "stdout",
     "output_type": "stream",
     "text": [
      "'validation loss is 1.0065225571393968 '\n",
      "'validation accuracy is 0.8191406250000002 '\n",
      "'Epoch: 832'\n",
      "'training loss is 0.06334433603015813 '\n",
      "'training accuracy is 0.9846590909090908 '\n",
      "'Epoch: 832'\n"
     ]
    },
    {
     "name": "stderr",
     "output_type": "stream",
     "text": [
      "\r",
      " 33%|███▎      | 832/2499 [25:05<50:36,  1.82s/it]"
     ]
    },
    {
     "name": "stdout",
     "output_type": "stream",
     "text": [
      "'validation loss is 0.9965596750378609 '\n",
      "'validation accuracy is 0.8197265625000002 '\n",
      "'Epoch: 833'\n",
      "'training loss is 0.06331427903337912 '\n",
      "'training accuracy is 0.984659090909091 '\n",
      "'Epoch: 833'\n"
     ]
    },
    {
     "name": "stderr",
     "output_type": "stream",
     "text": [
      "\r",
      " 33%|███▎      | 833/2499 [25:07<51:03,  1.84s/it]"
     ]
    },
    {
     "name": "stdout",
     "output_type": "stream",
     "text": [
      "'validation loss is 0.9994765684008599 '\n",
      "'validation accuracy is 0.8197265625000002 '\n",
      "'Epoch: 834'\n",
      "'training loss is 0.06338676573200659 '\n",
      "'training accuracy is 0.9846590909090908 '\n",
      "'Epoch: 834'\n"
     ]
    },
    {
     "name": "stderr",
     "output_type": "stream",
     "text": [
      "\r",
      " 33%|███▎      | 834/2499 [25:09<50:07,  1.81s/it]"
     ]
    },
    {
     "name": "stdout",
     "output_type": "stream",
     "text": [
      "'validation loss is 1.0052766144275664 '\n",
      "'validation accuracy is 0.8197265625000002 '\n",
      "'Epoch: 835'\n",
      "'training loss is 0.06357084214687347 '\n",
      "'training accuracy is 0.984659090909091 '\n",
      "'Epoch: 835'\n"
     ]
    },
    {
     "name": "stderr",
     "output_type": "stream",
     "text": [
      "\r",
      " 33%|███▎      | 835/2499 [25:10<49:56,  1.80s/it]"
     ]
    },
    {
     "name": "stdout",
     "output_type": "stream",
     "text": [
      "'validation loss is 1.002741278707981 '\n",
      "'validation accuracy is 0.8200195312500002 '\n",
      "'Epoch: 836'\n",
      "'training loss is 0.06309228559786623 '\n",
      "'training accuracy is 0.984659090909091 '\n",
      "'Epoch: 836'\n"
     ]
    },
    {
     "name": "stderr",
     "output_type": "stream",
     "text": [
      "\r",
      " 33%|███▎      | 836/2499 [25:12<50:03,  1.81s/it]"
     ]
    },
    {
     "name": "stdout",
     "output_type": "stream",
     "text": [
      "'validation loss is 1.0025619298219681 '\n",
      "'validation accuracy is 0.8194335937500001 '\n",
      "'Epoch: 837'\n",
      "'training loss is 0.06299746612256224 '\n",
      "'training accuracy is 0.9846590909090908 '\n",
      "'Epoch: 837'\n"
     ]
    },
    {
     "name": "stderr",
     "output_type": "stream",
     "text": [
      "\r",
      " 33%|███▎      | 837/2499 [25:14<50:28,  1.82s/it]"
     ]
    },
    {
     "name": "stdout",
     "output_type": "stream",
     "text": [
      "'validation loss is 1.0001990079879761 '\n",
      "'validation accuracy is 0.8197265625000002 '\n",
      "'Epoch: 838'\n",
      "'training loss is 0.06339924342252991 '\n",
      "'training accuracy is 0.984659090909091 '\n",
      "'Epoch: 838'\n"
     ]
    },
    {
     "name": "stderr",
     "output_type": "stream",
     "text": [
      "\r",
      " 34%|███▎      | 838/2499 [25:16<49:57,  1.80s/it]"
     ]
    },
    {
     "name": "stdout",
     "output_type": "stream",
     "text": [
      "'validation loss is 0.9999800130724907 '\n",
      "'validation accuracy is 0.8194335937500001 '\n",
      "'Epoch: 839'\n",
      "'training loss is 0.06313906745477156 '\n",
      "'training accuracy is 0.9846590909090908 '\n",
      "'Epoch: 839'\n"
     ]
    },
    {
     "name": "stderr",
     "output_type": "stream",
     "text": [
      "\r",
      " 34%|███▎      | 839/2499 [25:18<50:52,  1.84s/it]"
     ]
    },
    {
     "name": "stdout",
     "output_type": "stream",
     "text": [
      "'validation loss is 0.9982653081417083 '\n",
      "'validation accuracy is 0.8197265625000002 '\n",
      "'Epoch: 840'\n",
      "'training loss is 0.06311353092843835 '\n",
      "'training accuracy is 0.984659090909091 '\n",
      "'Epoch: 840'\n"
     ]
    },
    {
     "name": "stderr",
     "output_type": "stream",
     "text": [
      "\r",
      " 34%|███▎      | 840/2499 [25:20<51:02,  1.85s/it]"
     ]
    },
    {
     "name": "stdout",
     "output_type": "stream",
     "text": [
      "'validation loss is 0.9988575518131256 '\n",
      "'validation accuracy is 0.81943359375 '\n",
      "'Epoch: 841'\n",
      "'training loss is 0.06325845217162912 '\n",
      "'training accuracy is 0.9846590909090908 '\n",
      "'Epoch: 841'\n"
     ]
    },
    {
     "name": "stderr",
     "output_type": "stream",
     "text": [
      "\r",
      " 34%|███▎      | 841/2499 [25:21<50:32,  1.83s/it]"
     ]
    },
    {
     "name": "stdout",
     "output_type": "stream",
     "text": [
      "'validation loss is 0.9979800626635551 '\n",
      "'validation accuracy is 0.8200195312500002 '\n",
      "'Epoch: 842'\n",
      "'training loss is 0.06336286528543993 '\n",
      "'training accuracy is 0.984659090909091 '\n",
      "'Epoch: 842'\n"
     ]
    },
    {
     "name": "stderr",
     "output_type": "stream",
     "text": [
      "\r",
      " 34%|███▎      | 842/2499 [25:23<50:51,  1.84s/it]"
     ]
    },
    {
     "name": "stdout",
     "output_type": "stream",
     "text": [
      "'validation loss is 1.003748358786106 '\n",
      "'validation accuracy is 0.81943359375 '\n",
      "'Epoch: 843'\n",
      "'training loss is 0.0634278536520221 '\n",
      "'training accuracy is 0.984659090909091 '\n",
      "'Epoch: 843'\n"
     ]
    },
    {
     "name": "stderr",
     "output_type": "stream",
     "text": [
      "\r",
      " 34%|███▎      | 843/2499 [25:25<51:28,  1.87s/it]"
     ]
    },
    {
     "name": "stdout",
     "output_type": "stream",
     "text": [
      "'validation loss is 1.0028055518865586 '\n",
      "'validation accuracy is 0.8194335937500001 '\n",
      "'Epoch: 844'\n",
      "'training loss is 0.06337053870612924 '\n",
      "'training accuracy is 0.9846590909090908 '\n",
      "'Epoch: 844'\n"
     ]
    },
    {
     "name": "stderr",
     "output_type": "stream",
     "text": [
      "\r",
      " 34%|███▍      | 844/2499 [25:27<50:47,  1.84s/it]"
     ]
    },
    {
     "name": "stdout",
     "output_type": "stream",
     "text": [
      "'validation loss is 0.9990122675895691 '\n",
      "'validation accuracy is 0.8197265625000003 '\n",
      "'Epoch: 845'\n",
      "'training loss is 0.06317431039430878 '\n",
      "'training accuracy is 0.9846590909090911 '\n",
      "'Epoch: 845'\n"
     ]
    },
    {
     "name": "stderr",
     "output_type": "stream",
     "text": [
      "\r",
      " 34%|███▍      | 845/2499 [25:29<50:49,  1.84s/it]"
     ]
    },
    {
     "name": "stdout",
     "output_type": "stream",
     "text": [
      "'validation loss is 1.0035780921578408 '\n",
      "'validation accuracy is 0.8194335937500001 '\n",
      "'Epoch: 846'\n",
      "'training loss is 0.06330390680919994 '\n",
      "'training accuracy is 0.9846590909090908 '\n",
      "'Epoch: 846'\n"
     ]
    },
    {
     "name": "stderr",
     "output_type": "stream",
     "text": [
      "\r",
      " 34%|███▍      | 846/2499 [25:31<49:55,  1.81s/it]"
     ]
    },
    {
     "name": "stdout",
     "output_type": "stream",
     "text": [
      "'validation loss is 1.0017288699746132 '\n",
      "'validation accuracy is 0.8194335937500004 '\n",
      "'Epoch: 847'\n",
      "'training loss is 0.06331790069287474 '\n",
      "'training accuracy is 0.984659090909091 '\n",
      "'Epoch: 847'\n"
     ]
    },
    {
     "name": "stderr",
     "output_type": "stream",
     "text": [
      "\r",
      " 34%|███▍      | 847/2499 [25:32<50:07,  1.82s/it]"
     ]
    },
    {
     "name": "stdout",
     "output_type": "stream",
     "text": [
      "'validation loss is 1.0004327595233917 '\n",
      "'validation accuracy is 0.8194335937500004 '\n",
      "'Epoch: 848'\n",
      "'training loss is 0.06355584209615533 '\n",
      "'training accuracy is 0.984659090909091 '\n",
      "'Epoch: 848'\n"
     ]
    },
    {
     "name": "stderr",
     "output_type": "stream",
     "text": [
      "\r",
      " 34%|███▍      | 848/2499 [25:34<50:04,  1.82s/it]"
     ]
    },
    {
     "name": "stdout",
     "output_type": "stream",
     "text": [
      "'validation loss is 0.9962953582406044 '\n",
      "'validation accuracy is 0.8200195312500002 '\n",
      "'Epoch: 849'\n",
      "'training loss is 0.06328919360583479 '\n",
      "'training accuracy is 0.984659090909091 '\n",
      "'Epoch: 849'\n"
     ]
    },
    {
     "name": "stderr",
     "output_type": "stream",
     "text": [
      "\r",
      " 34%|███▍      | 849/2499 [25:36<49:29,  1.80s/it]"
     ]
    },
    {
     "name": "stdout",
     "output_type": "stream",
     "text": [
      "'validation loss is 1.0017637774348258 '\n",
      "'validation accuracy is 0.8194335937500001 '\n",
      "'Epoch: 850'\n",
      "'training loss is 0.06319768455895511 '\n",
      "'training accuracy is 0.984659090909091 '\n",
      "'Epoch: 850'\n"
     ]
    },
    {
     "name": "stderr",
     "output_type": "stream",
     "text": [
      "\r",
      " 34%|███▍      | 850/2499 [25:38<49:07,  1.79s/it]"
     ]
    },
    {
     "name": "stdout",
     "output_type": "stream",
     "text": [
      "'validation loss is 0.998450480401516 '\n",
      "'validation accuracy is 0.8194335937500001 '\n",
      "'Epoch: 851'\n",
      "'training loss is 0.06319134038957683 '\n",
      "'training accuracy is 0.984659090909091 '\n",
      "'Epoch: 851'\n"
     ]
    },
    {
     "name": "stderr",
     "output_type": "stream",
     "text": [
      "\r",
      " 34%|███▍      | 851/2499 [25:40<49:12,  1.79s/it]"
     ]
    },
    {
     "name": "stdout",
     "output_type": "stream",
     "text": [
      "'validation loss is 0.9946192830801011 '\n",
      "'validation accuracy is 0.8203125000000003 '\n",
      "'Epoch: 852'\n",
      "'training loss is 0.0633717758411711 '\n",
      "'training accuracy is 0.984659090909091 '\n",
      "'Epoch: 852'\n"
     ]
    },
    {
     "name": "stderr",
     "output_type": "stream",
     "text": [
      "\r",
      " 34%|███▍      | 852/2499 [25:41<49:08,  1.79s/it]"
     ]
    },
    {
     "name": "stdout",
     "output_type": "stream",
     "text": [
      "'validation loss is 1.000456029176712 '\n",
      "'validation accuracy is 0.8191406250000002 '\n",
      "'Epoch: 853'\n",
      "'training loss is 0.06325640360062773 '\n",
      "'training accuracy is 0.9846590909090908 '\n",
      "'Epoch: 853'\n"
     ]
    },
    {
     "name": "stderr",
     "output_type": "stream",
     "text": [
      "\r",
      " 34%|███▍      | 853/2499 [25:43<50:25,  1.84s/it]"
     ]
    },
    {
     "name": "stdout",
     "output_type": "stream",
     "text": [
      "'validation loss is 1.0009649083018304 '\n",
      "'validation accuracy is 0.8194335937500004 '\n",
      "'Epoch: 854'\n",
      "'training loss is 0.06320328671823848 '\n",
      "'training accuracy is 0.984659090909091 '\n",
      "'Epoch: 854'\n"
     ]
    },
    {
     "name": "stderr",
     "output_type": "stream",
     "text": [
      "\r",
      " 34%|███▍      | 854/2499 [25:45<50:00,  1.82s/it]"
     ]
    },
    {
     "name": "stdout",
     "output_type": "stream",
     "text": [
      "'validation loss is 1.0023529946804046 '\n",
      "'validation accuracy is 0.8194335937500001 '\n",
      "'Epoch: 855'\n",
      "'training loss is 0.06346188180825928 '\n",
      "'training accuracy is 0.984659090909091 '\n",
      "'Epoch: 855'\n"
     ]
    },
    {
     "name": "stderr",
     "output_type": "stream",
     "text": [
      "\r",
      " 34%|███▍      | 855/2499 [25:47<49:37,  1.81s/it]"
     ]
    },
    {
     "name": "stdout",
     "output_type": "stream",
     "text": [
      "'validation loss is 0.9989074170589447 '\n",
      "'validation accuracy is 0.8194335937500001 '\n",
      "'Epoch: 856'\n",
      "'training loss is 0.06307814067060297 '\n",
      "'training accuracy is 0.984659090909091 '\n",
      "'Epoch: 856'\n"
     ]
    },
    {
     "name": "stderr",
     "output_type": "stream",
     "text": [
      "\r",
      " 34%|███▍      | 856/2499 [25:49<49:05,  1.79s/it]"
     ]
    },
    {
     "name": "stdout",
     "output_type": "stream",
     "text": [
      "'validation loss is 0.9961880937218666 '\n",
      "'validation accuracy is 0.8194335937500001 '\n",
      "'Epoch: 857'\n",
      "'training loss is 0.0633415464650501 '\n",
      "'training accuracy is 0.984659090909091 '\n",
      "'Epoch: 857'\n"
     ]
    },
    {
     "name": "stderr",
     "output_type": "stream",
     "text": [
      "\r",
      " 34%|███▍      | 857/2499 [25:50<49:16,  1.80s/it]"
     ]
    },
    {
     "name": "stdout",
     "output_type": "stream",
     "text": [
      "'validation loss is 0.9958061710000038 '\n",
      "'validation accuracy is 0.8191406250000002 '\n",
      "'Epoch: 858'\n",
      "'training loss is 0.06342168389396234 '\n",
      "'training accuracy is 0.984659090909091 '\n",
      "'Epoch: 858'\n"
     ]
    },
    {
     "name": "stderr",
     "output_type": "stream",
     "text": [
      "\r",
      " 34%|███▍      | 858/2499 [25:52<49:16,  1.80s/it]"
     ]
    },
    {
     "name": "stdout",
     "output_type": "stream",
     "text": [
      "'validation loss is 0.9953311458230019 '\n",
      "'validation accuracy is 0.8197265625000002 '\n",
      "'Epoch: 859'\n",
      "'training loss is 0.06333936513824896 '\n",
      "'training accuracy is 0.9846590909090911 '\n",
      "'Epoch: 859'\n"
     ]
    },
    {
     "name": "stderr",
     "output_type": "stream",
     "text": [
      "\r",
      " 34%|███▍      | 859/2499 [25:54<49:29,  1.81s/it]"
     ]
    },
    {
     "name": "stdout",
     "output_type": "stream",
     "text": [
      "'validation loss is 1.0016269534826279 '\n",
      "'validation accuracy is 0.8194335937500001 '\n",
      "'Epoch: 860'\n",
      "'training loss is 0.06339035555720329 '\n",
      "'training accuracy is 0.984659090909091 '\n",
      "'Epoch: 860'\n"
     ]
    },
    {
     "name": "stderr",
     "output_type": "stream",
     "text": [
      "\r",
      " 34%|███▍      | 860/2499 [25:56<49:54,  1.83s/it]"
     ]
    },
    {
     "name": "stdout",
     "output_type": "stream",
     "text": [
      "'validation loss is 0.9970657393336296 '\n",
      "'validation accuracy is 0.8197265625000003 '\n",
      "'Epoch: 861'\n",
      "'training loss is 0.06314839659766718 '\n",
      "'training accuracy is 0.9846590909090908 '\n",
      "'Epoch: 861'\n"
     ]
    },
    {
     "name": "stderr",
     "output_type": "stream",
     "text": [
      "\r",
      " 34%|███▍      | 861/2499 [25:58<49:40,  1.82s/it]"
     ]
    },
    {
     "name": "stdout",
     "output_type": "stream",
     "text": [
      "'validation loss is 0.9972648382186889 '\n",
      "'validation accuracy is 0.8197265625000002 '\n",
      "'Epoch: 862'\n",
      "'training loss is 0.06339281323281201 '\n",
      "'training accuracy is 0.984659090909091 '\n",
      "'Epoch: 862'\n"
     ]
    },
    {
     "name": "stderr",
     "output_type": "stream",
     "text": [
      "\r",
      " 34%|███▍      | 862/2499 [26:00<49:00,  1.80s/it]"
     ]
    },
    {
     "name": "stdout",
     "output_type": "stream",
     "text": [
      "'validation loss is 0.9972807928919792 '\n",
      "'validation accuracy is 0.8197265625000002 '\n",
      "'Epoch: 863'\n",
      "'training loss is 0.06351115622303703 '\n",
      "'training accuracy is 0.9846590909090908 '\n",
      "'Epoch: 863'\n"
     ]
    },
    {
     "name": "stderr",
     "output_type": "stream",
     "text": [
      "\r",
      " 35%|███▍      | 863/2499 [26:01<50:08,  1.84s/it]"
     ]
    },
    {
     "name": "stdout",
     "output_type": "stream",
     "text": [
      "'validation loss is 1.003503705561161 '\n",
      "'validation accuracy is 0.81943359375 '\n",
      "'Epoch: 864'\n",
      "'training loss is 0.06325338577682321 '\n",
      "'training accuracy is 0.984659090909091 '\n",
      "'Epoch: 864'\n"
     ]
    },
    {
     "name": "stderr",
     "output_type": "stream",
     "text": [
      "\r",
      " 35%|███▍      | 864/2499 [26:03<49:31,  1.82s/it]"
     ]
    },
    {
     "name": "stdout",
     "output_type": "stream",
     "text": [
      "'validation loss is 1.0012506633996963 '\n",
      "'validation accuracy is 0.8200195312500004 '\n",
      "'Epoch: 865'\n",
      "'training loss is 0.06343095986680551 '\n",
      "'training accuracy is 0.9846590909090908 '\n",
      "'Epoch: 865'\n"
     ]
    },
    {
     "name": "stderr",
     "output_type": "stream",
     "text": [
      "\r",
      " 35%|███▍      | 865/2499 [26:05<49:25,  1.81s/it]"
     ]
    },
    {
     "name": "stdout",
     "output_type": "stream",
     "text": [
      "'validation loss is 0.9965918779373169 '\n",
      "'validation accuracy is 0.8197265625000002 '\n",
      "'Epoch: 866'\n",
      "'training loss is 0.06318754262544891 '\n",
      "'training accuracy is 0.9846590909090911 '\n",
      "'Epoch: 866'\n"
     ]
    },
    {
     "name": "stderr",
     "output_type": "stream",
     "text": [
      "\r",
      " 35%|███▍      | 866/2499 [26:07<49:00,  1.80s/it]"
     ]
    },
    {
     "name": "stdout",
     "output_type": "stream",
     "text": [
      "'validation loss is 0.9934539020061492 '\n",
      "'validation accuracy is 0.8191406250000004 '\n",
      "'Epoch: 867'\n",
      "'training loss is 0.06325350430878726 '\n",
      "'training accuracy is 0.9846590909090908 '\n",
      "'Epoch: 867'\n"
     ]
    },
    {
     "name": "stderr",
     "output_type": "stream",
     "text": [
      "\r",
      " 35%|███▍      | 867/2499 [26:09<49:55,  1.84s/it]"
     ]
    },
    {
     "name": "stdout",
     "output_type": "stream",
     "text": [
      "'validation loss is 0.9981564179062843 '\n",
      "'validation accuracy is 0.8191406250000004 '\n",
      "'Epoch: 868'\n",
      "'training loss is 0.06327581439505923 '\n",
      "'training accuracy is 0.9846590909090908 '\n",
      "'Epoch: 868'\n"
     ]
    },
    {
     "name": "stderr",
     "output_type": "stream",
     "text": [
      "\r",
      " 35%|███▍      | 868/2499 [26:11<49:59,  1.84s/it]"
     ]
    },
    {
     "name": "stdout",
     "output_type": "stream",
     "text": [
      "'validation loss is 0.9949909836053848 '\n",
      "'validation accuracy is 0.8194335937500001 '\n",
      "'Epoch: 869'\n",
      "'training loss is 0.06356677175922827 '\n",
      "'training accuracy is 0.9846590909090908 '\n",
      "'Epoch: 869'\n"
     ]
    },
    {
     "name": "stderr",
     "output_type": "stream",
     "text": [
      "\r",
      " 35%|███▍      | 869/2499 [26:12<49:59,  1.84s/it]"
     ]
    },
    {
     "name": "stdout",
     "output_type": "stream",
     "text": [
      "'validation loss is 1.0020487859845162 '\n",
      "'validation accuracy is 0.819140625 '\n",
      "'Epoch: 870'\n",
      "'training loss is 0.06352147324518724 '\n",
      "'training accuracy is 0.984659090909091 '\n",
      "'Epoch: 870'\n"
     ]
    },
    {
     "name": "stderr",
     "output_type": "stream",
     "text": [
      "\r",
      " 35%|███▍      | 870/2499 [26:14<50:00,  1.84s/it]"
     ]
    },
    {
     "name": "stdout",
     "output_type": "stream",
     "text": [
      "'validation loss is 0.9942023262381554 '\n",
      "'validation accuracy is 0.8194335937500001 '\n",
      "'Epoch: 871'\n",
      "'training loss is 0.06315002556551587 '\n",
      "'training accuracy is 0.9846590909090908 '\n",
      "'Epoch: 871'\n"
     ]
    },
    {
     "name": "stderr",
     "output_type": "stream",
     "text": [
      "\r",
      " 35%|███▍      | 871/2499 [26:16<49:16,  1.82s/it]"
     ]
    },
    {
     "name": "stdout",
     "output_type": "stream",
     "text": [
      "'validation loss is 0.9945797801017762 '\n",
      "'validation accuracy is 0.82001953125 '\n",
      "'Epoch: 872'\n",
      "'training loss is 0.06291133131493222 '\n",
      "'training accuracy is 0.984659090909091 '\n",
      "'Epoch: 872'\n"
     ]
    },
    {
     "name": "stderr",
     "output_type": "stream",
     "text": [
      "\r",
      " 35%|███▍      | 872/2499 [26:18<49:45,  1.83s/it]"
     ]
    },
    {
     "name": "stdout",
     "output_type": "stream",
     "text": [
      "'validation loss is 1.0016405954957008 '\n",
      "'validation accuracy is 0.8191406250000002 '\n",
      "'Epoch: 873'\n",
      "'training loss is 0.06327023289420387 '\n",
      "'training accuracy is 0.9846590909090908 '\n",
      "'Epoch: 873'\n"
     ]
    },
    {
     "name": "stderr",
     "output_type": "stream",
     "text": [
      "\r",
      " 35%|███▍      | 873/2499 [26:20<49:34,  1.83s/it]"
     ]
    },
    {
     "name": "stdout",
     "output_type": "stream",
     "text": [
      "'validation loss is 0.9976969495415687 '\n",
      "'validation accuracy is 0.8197265625 '\n",
      "'Epoch: 874'\n",
      "'training loss is 0.06340040334246376 '\n",
      "'training accuracy is 0.984659090909091 '\n",
      "'Epoch: 874'\n"
     ]
    },
    {
     "name": "stderr",
     "output_type": "stream",
     "text": [
      "\r",
      " 35%|███▍      | 874/2499 [26:22<49:48,  1.84s/it]"
     ]
    },
    {
     "name": "stdout",
     "output_type": "stream",
     "text": [
      "'validation loss is 0.9920601233839988 '\n",
      "'validation accuracy is 0.81943359375 '\n",
      "'Epoch: 875'\n",
      "'training loss is 0.06296843730590561 '\n",
      "'training accuracy is 0.9846590909090908 '\n",
      "'Epoch: 875'\n"
     ]
    },
    {
     "name": "stderr",
     "output_type": "stream",
     "text": [
      "\r",
      " 35%|███▌      | 875/2499 [26:23<49:32,  1.83s/it]"
     ]
    },
    {
     "name": "stdout",
     "output_type": "stream",
     "text": [
      "'validation loss is 1.0028306052088738 '\n",
      "'validation accuracy is 0.8197265625000002 '\n",
      "'Epoch: 876'\n",
      "'training loss is 0.06340846690264615 '\n",
      "'training accuracy is 0.984659090909091 '\n",
      "'Epoch: 876'\n"
     ]
    },
    {
     "name": "stderr",
     "output_type": "stream",
     "text": [
      "\r",
      " 35%|███▌      | 876/2499 [26:25<49:23,  1.83s/it]"
     ]
    },
    {
     "name": "stdout",
     "output_type": "stream",
     "text": [
      "'validation loss is 0.9985776320099831 '\n",
      "'validation accuracy is 0.8197265625000002 '\n",
      "'Epoch: 877'\n",
      "'training loss is 0.06313346834345297 '\n",
      "'training accuracy is 0.984659090909091 '\n",
      "'Epoch: 877'\n"
     ]
    },
    {
     "name": "stderr",
     "output_type": "stream",
     "text": [
      "\r",
      " 35%|███▌      | 877/2499 [26:27<49:38,  1.84s/it]"
     ]
    },
    {
     "name": "stdout",
     "output_type": "stream",
     "text": [
      "'validation loss is 1.0011028349399567 '\n",
      "'validation accuracy is 0.8194335937500001 '\n",
      "'Epoch: 878'\n",
      "'training loss is 0.06345857307314873 '\n",
      "'training accuracy is 0.984659090909091 '\n",
      "'Epoch: 878'\n"
     ]
    },
    {
     "name": "stderr",
     "output_type": "stream",
     "text": [
      "\r",
      " 35%|███▌      | 878/2499 [26:29<49:16,  1.82s/it]"
     ]
    },
    {
     "name": "stdout",
     "output_type": "stream",
     "text": [
      "'validation loss is 0.999306496977806 '\n",
      "'validation accuracy is 0.8194335937500001 '\n",
      "'Epoch: 879'\n",
      "'training loss is 0.06340558996254747 '\n",
      "'training accuracy is 0.9846590909090908 '\n",
      "'Epoch: 879'\n"
     ]
    },
    {
     "name": "stderr",
     "output_type": "stream",
     "text": [
      "\r",
      " 35%|███▌      | 879/2499 [26:31<48:58,  1.81s/it]"
     ]
    },
    {
     "name": "stdout",
     "output_type": "stream",
     "text": [
      "'validation loss is 1.0031629979610444 '\n",
      "'validation accuracy is 0.8194335937500001 '\n",
      "'Epoch: 880'\n",
      "'training loss is 0.06311674517664043 '\n",
      "'training accuracy is 0.984659090909091 '\n",
      "'Epoch: 880'\n"
     ]
    },
    {
     "name": "stderr",
     "output_type": "stream",
     "text": [
      "\r",
      " 35%|███▌      | 880/2499 [26:33<49:17,  1.83s/it]"
     ]
    },
    {
     "name": "stdout",
     "output_type": "stream",
     "text": [
      "'validation loss is 1.0012324646115303 '\n",
      "'validation accuracy is 0.8191406250000002 '\n",
      "'Epoch: 881'\n",
      "'training loss is 0.06303693760525096 '\n",
      "'training accuracy is 0.984659090909091 '\n",
      "'Epoch: 881'\n"
     ]
    },
    {
     "name": "stderr",
     "output_type": "stream",
     "text": [
      "\r",
      " 35%|███▌      | 881/2499 [26:34<50:00,  1.85s/it]"
     ]
    },
    {
     "name": "stdout",
     "output_type": "stream",
     "text": [
      "'validation loss is 0.9974406197667122 '\n",
      "'validation accuracy is 0.8197265625 '\n",
      "'Epoch: 882'\n",
      "'training loss is 0.0633083199235526 '\n",
      "'training accuracy is 0.984659090909091 '\n",
      "'Epoch: 882'\n"
     ]
    },
    {
     "name": "stderr",
     "output_type": "stream",
     "text": [
      "\r",
      " 35%|███▌      | 882/2499 [26:36<50:19,  1.87s/it]"
     ]
    },
    {
     "name": "stdout",
     "output_type": "stream",
     "text": [
      "'validation loss is 0.9881153628230095 '\n",
      "'validation accuracy is 0.8206054687500002 '\n",
      "'Epoch: 883'\n",
      "'training loss is 0.0636306560852311 '\n",
      "'training accuracy is 0.984659090909091 '\n",
      "'Epoch: 883'\n"
     ]
    },
    {
     "name": "stderr",
     "output_type": "stream",
     "text": [
      "\r",
      " 35%|███▌      | 883/2499 [26:38<50:01,  1.86s/it]"
     ]
    },
    {
     "name": "stdout",
     "output_type": "stream",
     "text": [
      "'validation loss is 1.000913879275322 '\n",
      "'validation accuracy is 0.8197265625000002 '\n",
      "'Epoch: 884'\n",
      "'training loss is 0.06315056200731885 '\n",
      "'training accuracy is 0.9846590909090908 '\n",
      "'Epoch: 884'\n"
     ]
    },
    {
     "name": "stderr",
     "output_type": "stream",
     "text": [
      "\r",
      " 35%|███▌      | 884/2499 [26:40<50:08,  1.86s/it]"
     ]
    },
    {
     "name": "stdout",
     "output_type": "stream",
     "text": [
      "'validation loss is 1.002835187315941 '\n",
      "'validation accuracy is 0.8197265625000002 '\n",
      "'Epoch: 885'\n",
      "'training loss is 0.06327984448183667 '\n",
      "'training accuracy is 0.9846590909090908 '\n",
      "'Epoch: 885'\n"
     ]
    },
    {
     "name": "stderr",
     "output_type": "stream",
     "text": [
      "\r",
      " 35%|███▌      | 885/2499 [26:42<49:31,  1.84s/it]"
     ]
    },
    {
     "name": "stdout",
     "output_type": "stream",
     "text": [
      "'validation loss is 0.9938698709011078 '\n",
      "'validation accuracy is 0.8197265625 '\n",
      "'Epoch: 886'\n",
      "'training loss is 0.06319149448113008 '\n",
      "'training accuracy is 0.984659090909091 '\n",
      "'Epoch: 886'\n"
     ]
    },
    {
     "name": "stderr",
     "output_type": "stream",
     "text": [
      "\r",
      " 35%|███▌      | 886/2499 [26:44<49:38,  1.85s/it]"
     ]
    },
    {
     "name": "stdout",
     "output_type": "stream",
     "text": [
      "'validation loss is 0.991635262966156 '\n",
      "'validation accuracy is 0.8197265625000002 '\n",
      "'Epoch: 887'\n",
      "'training loss is 0.06336175311695445 '\n",
      "'training accuracy is 0.9846590909090908 '\n",
      "'Epoch: 887'\n"
     ]
    },
    {
     "name": "stderr",
     "output_type": "stream",
     "text": [
      "\r",
      " 35%|███▌      | 887/2499 [26:46<49:48,  1.85s/it]"
     ]
    },
    {
     "name": "stdout",
     "output_type": "stream",
     "text": [
      "'validation loss is 0.9960965156555176 '\n",
      "'validation accuracy is 0.8197265625000002 '\n",
      "'Epoch: 888'\n",
      "'training loss is 0.0635972178795121 '\n",
      "'training accuracy is 0.984659090909091 '\n",
      "'Epoch: 888'\n"
     ]
    },
    {
     "name": "stderr",
     "output_type": "stream",
     "text": [
      "\r",
      " 36%|███▌      | 888/2499 [26:47<49:09,  1.83s/it]"
     ]
    },
    {
     "name": "stdout",
     "output_type": "stream",
     "text": [
      "'validation loss is 0.996950925886631 '\n",
      "'validation accuracy is 0.8197265625000003 '\n",
      "'Epoch: 889'\n",
      "'training loss is 0.06338624588467857 '\n",
      "'training accuracy is 0.984659090909091 '\n",
      "'Epoch: 889'\n"
     ]
    },
    {
     "name": "stderr",
     "output_type": "stream",
     "text": [
      "\r",
      " 36%|███▌      | 889/2499 [26:49<50:08,  1.87s/it]"
     ]
    },
    {
     "name": "stdout",
     "output_type": "stream",
     "text": [
      "'validation loss is 0.9979312658309937 '\n",
      "'validation accuracy is 0.8191406250000002 '\n",
      "'Epoch: 890'\n",
      "'training loss is 0.06301094117489728 '\n",
      "'training accuracy is 0.984659090909091 '\n",
      "'Epoch: 890'\n"
     ]
    },
    {
     "name": "stderr",
     "output_type": "stream",
     "text": [
      "\r",
      " 36%|███▌      | 890/2499 [26:51<50:02,  1.87s/it]"
     ]
    },
    {
     "name": "stdout",
     "output_type": "stream",
     "text": [
      "'validation loss is 0.9983557596802711 '\n",
      "'validation accuracy is 0.8194335937500001 '\n",
      "'Epoch: 891'\n",
      "'training loss is 0.06338332898237488 '\n",
      "'training accuracy is 0.9846590909090908 '\n",
      "'Epoch: 891'\n"
     ]
    },
    {
     "name": "stderr",
     "output_type": "stream",
     "text": [
      "\r",
      " 36%|███▌      | 891/2499 [26:53<49:18,  1.84s/it]"
     ]
    },
    {
     "name": "stdout",
     "output_type": "stream",
     "text": [
      "'validation loss is 0.9905434340238571 '\n",
      "'validation accuracy is 0.8197265625000002 '\n",
      "'Epoch: 892'\n",
      "'training loss is 0.06317492946982384 '\n",
      "'training accuracy is 0.9846590909090908 '\n",
      "'Epoch: 892'\n"
     ]
    },
    {
     "name": "stderr",
     "output_type": "stream",
     "text": [
      "\r",
      " 36%|███▌      | 892/2499 [26:55<49:27,  1.85s/it]"
     ]
    },
    {
     "name": "stdout",
     "output_type": "stream",
     "text": [
      "'validation loss is 0.9892805844545365 '\n",
      "'validation accuracy is 0.8197265625000002 '\n",
      "'Epoch: 893'\n",
      "'training loss is 0.06324498931115324 '\n",
      "'training accuracy is 0.9846590909090908 '\n",
      "'Epoch: 893'\n"
     ]
    },
    {
     "name": "stderr",
     "output_type": "stream",
     "text": [
      "\r",
      " 36%|███▌      | 893/2499 [26:57<49:26,  1.85s/it]"
     ]
    },
    {
     "name": "stdout",
     "output_type": "stream",
     "text": [
      "'validation loss is 0.9948189303278923 '\n",
      "'validation accuracy is 0.8197265625000002 '\n",
      "'Epoch: 894'\n",
      "'training loss is 0.06333122233098204 '\n",
      "'training accuracy is 0.9846590909090908 '\n",
      "'Epoch: 894'\n"
     ]
    },
    {
     "name": "stderr",
     "output_type": "stream",
     "text": [
      "\r",
      " 36%|███▌      | 894/2499 [26:58<48:58,  1.83s/it]"
     ]
    },
    {
     "name": "stdout",
     "output_type": "stream",
     "text": [
      "'validation loss is 0.9950021415948868 '\n",
      "'validation accuracy is 0.8194335937500001 '\n",
      "'Epoch: 895'\n",
      "'training loss is 0.06343418596820398 '\n",
      "'training accuracy is 0.984659090909091 '\n",
      "'Epoch: 895'\n"
     ]
    },
    {
     "name": "stderr",
     "output_type": "stream",
     "text": [
      "\r",
      " 36%|███▌      | 895/2499 [27:00<49:32,  1.85s/it]"
     ]
    },
    {
     "name": "stdout",
     "output_type": "stream",
     "text": [
      "'validation loss is 0.9889733359217644 '\n",
      "'validation accuracy is 0.82001953125 '\n",
      "'Epoch: 896'\n",
      "'training loss is 0.06336767531254074 '\n",
      "'training accuracy is 0.984659090909091 '\n",
      "'Epoch: 896'\n"
     ]
    },
    {
     "name": "stderr",
     "output_type": "stream",
     "text": [
      "\r",
      " 36%|███▌      | 896/2499 [27:02<49:18,  1.85s/it]"
     ]
    },
    {
     "name": "stdout",
     "output_type": "stream",
     "text": [
      "'validation loss is 0.9949371099472046 '\n",
      "'validation accuracy is 0.8194335937500004 '\n",
      "'Epoch: 897'\n",
      "'training loss is 0.06339862028306181 '\n",
      "'training accuracy is 0.984659090909091 '\n",
      "'Epoch: 897'\n"
     ]
    },
    {
     "name": "stderr",
     "output_type": "stream",
     "text": [
      "\r",
      " 36%|███▌      | 897/2499 [27:04<50:12,  1.88s/it]"
     ]
    },
    {
     "name": "stdout",
     "output_type": "stream",
     "text": [
      "'validation loss is 0.9960689231753349 '\n",
      "'validation accuracy is 0.8197265625 '\n",
      "'Epoch: 898'\n",
      "'training loss is 0.06346710297194394 '\n",
      "'training accuracy is 0.984659090909091 '\n",
      "'Epoch: 898'\n"
     ]
    },
    {
     "name": "stderr",
     "output_type": "stream",
     "text": [
      "\r",
      " 36%|███▌      | 898/2499 [27:06<50:01,  1.87s/it]"
     ]
    },
    {
     "name": "stdout",
     "output_type": "stream",
     "text": [
      "'validation loss is 0.993534728884697 '\n",
      "'validation accuracy is 0.8200195312500002 '\n",
      "'Epoch: 899'\n",
      "'training loss is 0.06308453563939441 '\n",
      "'training accuracy is 0.984659090909091 '\n",
      "'Epoch: 899'\n"
     ]
    },
    {
     "name": "stderr",
     "output_type": "stream",
     "text": [
      "\r",
      " 36%|███▌      | 899/2499 [27:08<50:37,  1.90s/it]"
     ]
    },
    {
     "name": "stdout",
     "output_type": "stream",
     "text": [
      "'validation loss is 0.9947702676057816 '\n",
      "'validation accuracy is 0.8194335937500001 '\n",
      "'Epoch: 900'\n",
      "'training loss is 0.0633014403283596 '\n",
      "'training accuracy is 0.984659090909091 '\n",
      "'Epoch: 900'\n"
     ]
    },
    {
     "name": "stderr",
     "output_type": "stream",
     "text": [
      "\r",
      " 36%|███▌      | 900/2499 [27:10<49:59,  1.88s/it]"
     ]
    },
    {
     "name": "stdout",
     "output_type": "stream",
     "text": [
      "'validation loss is 0.9955453529953957 '\n",
      "'validation accuracy is 0.8197265625 '\n",
      "'Epoch: 901'\n",
      "'training loss is 0.06325386159799316 '\n",
      "'training accuracy is 0.984659090909091 '\n",
      "'Epoch: 901'\n"
     ]
    },
    {
     "name": "stderr",
     "output_type": "stream",
     "text": [
      "\r",
      " 36%|███▌      | 901/2499 [27:12<49:48,  1.87s/it]"
     ]
    },
    {
     "name": "stdout",
     "output_type": "stream",
     "text": [
      "'validation loss is 0.9916725978255272 '\n",
      "'validation accuracy is 0.8200195312500002 '\n",
      "'Epoch: 902'\n",
      "'training loss is 0.0632785711098801 '\n",
      "'training accuracy is 0.9846590909090908 '\n",
      "'Epoch: 902'\n"
     ]
    },
    {
     "name": "stderr",
     "output_type": "stream",
     "text": [
      "\r",
      " 36%|███▌      | 902/2499 [27:13<49:10,  1.85s/it]"
     ]
    },
    {
     "name": "stdout",
     "output_type": "stream",
     "text": [
      "'validation loss is 0.994549410045147 '\n",
      "'validation accuracy is 0.8197265625000003 '\n",
      "'Epoch: 903'\n",
      "'training loss is 0.0633479014716365 '\n",
      "'training accuracy is 0.9846590909090908 '\n",
      "'Epoch: 903'\n"
     ]
    },
    {
     "name": "stderr",
     "output_type": "stream",
     "text": [
      "\r",
      " 36%|███▌      | 903/2499 [27:15<49:29,  1.86s/it]"
     ]
    },
    {
     "name": "stdout",
     "output_type": "stream",
     "text": [
      "'validation loss is 0.9993645623326302 '\n",
      "'validation accuracy is 0.8191406250000002 '\n",
      "'Epoch: 904'\n",
      "'training loss is 0.06326799907467583 '\n",
      "'training accuracy is 0.984659090909091 '\n",
      "'Epoch: 904'\n"
     ]
    },
    {
     "name": "stderr",
     "output_type": "stream",
     "text": [
      "\r",
      " 36%|███▌      | 904/2499 [27:17<48:45,  1.83s/it]"
     ]
    },
    {
     "name": "stdout",
     "output_type": "stream",
     "text": [
      "'validation loss is 0.9948568746447564 '\n",
      "'validation accuracy is 0.8197265625000002 '\n",
      "'Epoch: 905'\n",
      "'training loss is 0.06335255435921928 '\n",
      "'training accuracy is 0.984659090909091 '\n",
      "'Epoch: 905'\n"
     ]
    },
    {
     "name": "stderr",
     "output_type": "stream",
     "text": [
      "\r",
      " 36%|███▌      | 905/2499 [27:19<48:11,  1.81s/it]"
     ]
    },
    {
     "name": "stdout",
     "output_type": "stream",
     "text": [
      "'validation loss is 0.9915745094418525 '\n",
      "'validation accuracy is 0.8194335937500001 '\n",
      "'Epoch: 906'\n",
      "'training loss is 0.06362308257005432 '\n",
      "'training accuracy is 0.9846590909090908 '\n",
      "'Epoch: 906'\n"
     ]
    },
    {
     "name": "stderr",
     "output_type": "stream",
     "text": [
      "\r",
      " 36%|███▋      | 906/2499 [27:21<48:53,  1.84s/it]"
     ]
    },
    {
     "name": "stdout",
     "output_type": "stream",
     "text": [
      "'validation loss is 0.996466463804245 '\n",
      "'validation accuracy is 0.8197265625000002 '\n",
      "'Epoch: 907'\n",
      "'training loss is 0.06315651908516884 '\n",
      "'training accuracy is 0.984659090909091 '\n",
      "'Epoch: 907'\n"
     ]
    },
    {
     "name": "stderr",
     "output_type": "stream",
     "text": [
      "\r",
      " 36%|███▋      | 907/2499 [27:23<48:57,  1.84s/it]"
     ]
    },
    {
     "name": "stdout",
     "output_type": "stream",
     "text": [
      "'validation loss is 0.9992916822433472 '\n",
      "'validation accuracy is 0.8197265625000002 '\n",
      "'Epoch: 908'\n",
      "'training loss is 0.06302365626801144 '\n",
      "'training accuracy is 0.984659090909091 '\n",
      "'Epoch: 908'\n"
     ]
    },
    {
     "name": "stderr",
     "output_type": "stream",
     "text": [
      "\r",
      " 36%|███▋      | 908/2499 [27:24<48:46,  1.84s/it]"
     ]
    },
    {
     "name": "stdout",
     "output_type": "stream",
     "text": [
      "'validation loss is 0.9936991527676582 '\n",
      "'validation accuracy is 0.8197265625000002 '\n",
      "'Epoch: 909'\n",
      "'training loss is 0.06326934830708937 '\n",
      "'training accuracy is 0.984659090909091 '\n",
      "'Epoch: 909'\n"
     ]
    },
    {
     "name": "stderr",
     "output_type": "stream",
     "text": [
      "\r",
      " 36%|███▋      | 909/2499 [27:26<48:34,  1.83s/it]"
     ]
    },
    {
     "name": "stdout",
     "output_type": "stream",
     "text": [
      "'validation loss is 0.9896863654255867 '\n",
      "'validation accuracy is 0.8200195312500002 '\n",
      "'Epoch: 910'\n",
      "'training loss is 0.06319042193618687 '\n",
      "'training accuracy is 0.984659090909091 '\n",
      "'Epoch: 910'\n"
     ]
    },
    {
     "name": "stderr",
     "output_type": "stream",
     "text": [
      "\r",
      " 36%|███▋      | 910/2499 [27:28<49:00,  1.85s/it]"
     ]
    },
    {
     "name": "stdout",
     "output_type": "stream",
     "text": [
      "'validation loss is 1.0002391815185547 '\n",
      "'validation accuracy is 0.8191406250000004 '\n",
      "'Epoch: 911'\n",
      "'training loss is 0.06305926259268414 '\n",
      "'training accuracy is 0.984659090909091 '\n",
      "'Epoch: 911'\n"
     ]
    },
    {
     "name": "stderr",
     "output_type": "stream",
     "text": [
      "\r",
      " 36%|███▋      | 911/2499 [27:30<48:06,  1.82s/it]"
     ]
    },
    {
     "name": "stdout",
     "output_type": "stream",
     "text": [
      "'validation loss is 0.9913039490580559 '\n",
      "'validation accuracy is 0.8206054687500002 '\n",
      "'Epoch: 912'\n",
      "'training loss is 0.06315276568586176 '\n",
      "'training accuracy is 0.9846590909090908 '\n",
      "'Epoch: 912'\n"
     ]
    },
    {
     "name": "stderr",
     "output_type": "stream",
     "text": [
      "\r",
      " 36%|███▋      | 912/2499 [27:32<47:31,  1.80s/it]"
     ]
    },
    {
     "name": "stdout",
     "output_type": "stream",
     "text": [
      "'validation loss is 0.9936729148030281 '\n",
      "'validation accuracy is 0.8191406250000002 '\n",
      "'Epoch: 913'\n",
      "'training loss is 0.06306826831264929 '\n",
      "'training accuracy is 0.9846590909090908 '\n",
      "'Epoch: 913'\n"
     ]
    },
    {
     "name": "stderr",
     "output_type": "stream",
     "text": [
      "\r",
      " 37%|███▋      | 913/2499 [27:33<47:23,  1.79s/it]"
     ]
    },
    {
     "name": "stdout",
     "output_type": "stream",
     "text": [
      "'validation loss is 0.9943120256066322 '\n",
      "'validation accuracy is 0.8194335937500001 '\n",
      "'Epoch: 914'\n",
      "'training loss is 0.06327837671745908 '\n",
      "'training accuracy is 0.9846590909090908 '\n",
      "'Epoch: 914'\n"
     ]
    },
    {
     "name": "stderr",
     "output_type": "stream",
     "text": [
      "\r",
      " 37%|███▋      | 914/2499 [27:35<47:24,  1.79s/it]"
     ]
    },
    {
     "name": "stdout",
     "output_type": "stream",
     "text": [
      "'validation loss is 0.9915756478905677 '\n",
      "'validation accuracy is 0.8197265625000002 '\n",
      "'Epoch: 915'\n",
      "'training loss is 0.06311245770616965 '\n",
      "'training accuracy is 0.9846590909090908 '\n",
      "'Epoch: 915'\n"
     ]
    },
    {
     "name": "stderr",
     "output_type": "stream",
     "text": [
      "\r",
      " 37%|███▋      | 915/2499 [27:37<48:15,  1.83s/it]"
     ]
    },
    {
     "name": "stdout",
     "output_type": "stream",
     "text": [
      "'validation loss is 0.9994643703103065 '\n",
      "'validation accuracy is 0.8191406250000004 '\n",
      "'Epoch: 916'\n",
      "'training loss is 0.0632084310054779 '\n",
      "'training accuracy is 0.984659090909091 '\n",
      "'Epoch: 916'\n"
     ]
    },
    {
     "name": "stderr",
     "output_type": "stream",
     "text": [
      "\r",
      " 37%|███▋      | 916/2499 [27:39<48:24,  1.84s/it]"
     ]
    },
    {
     "name": "stdout",
     "output_type": "stream",
     "text": [
      "'validation loss is 0.9959082111716271 '\n",
      "'validation accuracy is 0.8197265625000003 '\n",
      "'Epoch: 917'\n",
      "'training loss is 0.06341710144823248 '\n",
      "'training accuracy is 0.9846590909090908 '\n",
      "'Epoch: 917'\n"
     ]
    },
    {
     "name": "stderr",
     "output_type": "stream",
     "text": [
      "\r",
      " 37%|███▋      | 917/2499 [27:41<48:54,  1.85s/it]"
     ]
    },
    {
     "name": "stdout",
     "output_type": "stream",
     "text": [
      "'validation loss is 1.0001760199666023 '\n",
      "'validation accuracy is 0.8191406250000002 '\n",
      "'Epoch: 918'\n",
      "'training loss is 0.0632986260408705 '\n",
      "'training accuracy is 0.984659090909091 '\n",
      "'Epoch: 918'\n"
     ]
    },
    {
     "name": "stderr",
     "output_type": "stream",
     "text": [
      "\r",
      " 37%|███▋      | 918/2499 [27:43<48:42,  1.85s/it]"
     ]
    },
    {
     "name": "stdout",
     "output_type": "stream",
     "text": [
      "'validation loss is 0.9963516309857369 '\n",
      "'validation accuracy is 0.8197265625000002 '\n",
      "'Epoch: 919'\n",
      "'training loss is 0.0630183494226499 '\n",
      "'training accuracy is 0.9846590909090908 '\n",
      "'Epoch: 919'\n"
     ]
    },
    {
     "name": "stderr",
     "output_type": "stream",
     "text": [
      "\r",
      " 37%|███▋      | 919/2499 [27:45<48:59,  1.86s/it]"
     ]
    },
    {
     "name": "stdout",
     "output_type": "stream",
     "text": [
      "'validation loss is 0.9942369312047958 '\n",
      "'validation accuracy is 0.8197265625000002 '\n",
      "'Epoch: 920'\n",
      "'training loss is 0.06294625320217827 '\n",
      "'training accuracy is 0.9846590909090908 '\n",
      "'Epoch: 920'\n"
     ]
    },
    {
     "name": "stderr",
     "output_type": "stream",
     "text": [
      "\r",
      " 37%|███▋      | 920/2499 [27:46<48:08,  1.83s/it]"
     ]
    },
    {
     "name": "stdout",
     "output_type": "stream",
     "text": [
      "'validation loss is 0.9903201535344124 '\n",
      "'validation accuracy is 0.8208984375000004 '\n",
      "'Epoch: 921'\n",
      "'training loss is 0.06338704987005754 '\n",
      "'training accuracy is 0.984659090909091 '\n",
      "'Epoch: 921'\n"
     ]
    },
    {
     "name": "stderr",
     "output_type": "stream",
     "text": [
      "\r",
      " 37%|███▋      | 921/2499 [27:48<48:35,  1.85s/it]"
     ]
    },
    {
     "name": "stdout",
     "output_type": "stream",
     "text": [
      "'validation loss is 0.9898527696728706 '\n",
      "'validation accuracy is 0.8197265625000003 '\n",
      "'Epoch: 922'\n",
      "'training loss is 0.06354629214514386 '\n",
      "'training accuracy is 0.984659090909091 '\n",
      "'Epoch: 922'\n"
     ]
    },
    {
     "name": "stderr",
     "output_type": "stream",
     "text": [
      "\r",
      " 37%|███▋      | 922/2499 [27:50<48:57,  1.86s/it]"
     ]
    },
    {
     "name": "stdout",
     "output_type": "stream",
     "text": [
      "'validation loss is 0.9947819039225578 '\n",
      "'validation accuracy is 0.8191406250000002 '\n",
      "'Epoch: 923'\n",
      "'training loss is 0.06346224383874373 '\n",
      "'training accuracy is 0.984659090909091 '\n",
      "'Epoch: 923'\n"
     ]
    },
    {
     "name": "stderr",
     "output_type": "stream",
     "text": [
      "\r",
      " 37%|███▋      | 923/2499 [27:52<47:36,  1.81s/it]"
     ]
    },
    {
     "name": "stdout",
     "output_type": "stream",
     "text": [
      "'validation loss is 0.9939297989010811 '\n",
      "'validation accuracy is 0.8197265625000002 '\n",
      "'Epoch: 924'\n",
      "'training loss is 0.06312756308100441 '\n",
      "'training accuracy is 0.9846590909090908 '\n",
      "'Epoch: 924'\n"
     ]
    },
    {
     "name": "stderr",
     "output_type": "stream",
     "text": [
      "\r",
      " 37%|███▋      | 924/2499 [27:54<47:32,  1.81s/it]"
     ]
    },
    {
     "name": "stdout",
     "output_type": "stream",
     "text": [
      "'validation loss is 0.9958727166056633 '\n",
      "'validation accuracy is 0.8191406250000002 '\n",
      "'Epoch: 925'\n",
      "'training loss is 0.06307547505606305 '\n",
      "'training accuracy is 0.9846590909090908 '\n",
      "'Epoch: 925'\n"
     ]
    },
    {
     "name": "stderr",
     "output_type": "stream",
     "text": [
      "\r",
      " 37%|███▋      | 925/2499 [27:56<48:00,  1.83s/it]"
     ]
    },
    {
     "name": "stdout",
     "output_type": "stream",
     "text": [
      "'validation loss is 0.9925917655229568 '\n",
      "'validation accuracy is 0.8200195312500004 '\n",
      "'Epoch: 926'\n",
      "'training loss is 0.06343144449320706 '\n",
      "'training accuracy is 0.984659090909091 '\n",
      "'Epoch: 926'\n"
     ]
    },
    {
     "name": "stderr",
     "output_type": "stream",
     "text": [
      "\r",
      " 37%|███▋      | 926/2499 [27:57<47:33,  1.81s/it]"
     ]
    },
    {
     "name": "stdout",
     "output_type": "stream",
     "text": [
      "'validation loss is 0.9935348853468895 '\n",
      "'validation accuracy is 0.8197265625 '\n",
      "'Epoch: 927'\n",
      "'training loss is 0.06351302428679033 '\n",
      "'training accuracy is 0.984659090909091 '\n",
      "'Epoch: 927'\n"
     ]
    },
    {
     "name": "stderr",
     "output_type": "stream",
     "text": [
      "\r",
      " 37%|███▋      | 927/2499 [27:59<46:49,  1.79s/it]"
     ]
    },
    {
     "name": "stdout",
     "output_type": "stream",
     "text": [
      "'validation loss is 0.9919735640287399 '\n",
      "'validation accuracy is 0.8197265625000002 '\n",
      "'Epoch: 928'\n",
      "'training loss is 0.06309453838250854 '\n",
      "'training accuracy is 0.9846590909090908 '\n",
      "'Epoch: 928'\n"
     ]
    },
    {
     "name": "stderr",
     "output_type": "stream",
     "text": [
      "\r",
      " 37%|███▋      | 928/2499 [28:01<48:00,  1.83s/it]"
     ]
    },
    {
     "name": "stdout",
     "output_type": "stream",
     "text": [
      "'validation loss is 0.9938363328576088 '\n",
      "'validation accuracy is 0.8194335937500001 '\n",
      "'Epoch: 929'\n",
      "'training loss is 0.06322840364141898 '\n",
      "'training accuracy is 0.9846590909090911 '\n",
      "'Epoch: 929'\n"
     ]
    },
    {
     "name": "stderr",
     "output_type": "stream",
     "text": [
      "\r",
      " 37%|███▋      | 929/2499 [28:03<47:59,  1.83s/it]"
     ]
    },
    {
     "name": "stdout",
     "output_type": "stream",
     "text": [
      "'validation loss is 0.9974394142627716 '\n",
      "'validation accuracy is 0.81943359375 '\n",
      "'Epoch: 930'\n",
      "'training loss is 0.06290538575161587 '\n",
      "'training accuracy is 0.984659090909091 '\n",
      "'Epoch: 930'\n"
     ]
    },
    {
     "name": "stderr",
     "output_type": "stream",
     "text": [
      "\r",
      " 37%|███▋      | 930/2499 [28:05<47:34,  1.82s/it]"
     ]
    },
    {
     "name": "stdout",
     "output_type": "stream",
     "text": [
      "'validation loss is 0.9950998947024345 '\n",
      "'validation accuracy is 0.8197265625000002 '\n",
      "'Epoch: 931'\n",
      "'training loss is 0.06369279663671147 '\n",
      "'training accuracy is 0.9846590909090908 '\n",
      "'Epoch: 931'\n"
     ]
    },
    {
     "name": "stderr",
     "output_type": "stream",
     "text": [
      "\r",
      " 37%|███▋      | 931/2499 [28:06<48:04,  1.84s/it]"
     ]
    },
    {
     "name": "stdout",
     "output_type": "stream",
     "text": [
      "'validation loss is 0.9920467644929886 '\n",
      "'validation accuracy is 0.8200195312500002 '\n",
      "'Epoch: 932'\n",
      "'training loss is 0.06326553970575333 '\n",
      "'training accuracy is 0.984659090909091 '\n",
      "'Epoch: 932'\n"
     ]
    },
    {
     "name": "stderr",
     "output_type": "stream",
     "text": [
      "\r",
      " 37%|███▋      | 932/2499 [28:08<47:40,  1.83s/it]"
     ]
    },
    {
     "name": "stdout",
     "output_type": "stream",
     "text": [
      "'validation loss is 0.9938388675451278 '\n",
      "'validation accuracy is 0.8194335937500004 '\n",
      "'Epoch: 933'\n",
      "'training loss is 0.06330122493884781 '\n",
      "'training accuracy is 0.9846590909090908 '\n",
      "'Epoch: 933'\n"
     ]
    },
    {
     "name": "stderr",
     "output_type": "stream",
     "text": [
      "\r",
      " 37%|███▋      | 933/2499 [28:10<47:29,  1.82s/it]"
     ]
    },
    {
     "name": "stdout",
     "output_type": "stream",
     "text": [
      "'validation loss is 0.9945968896150589 '\n",
      "'validation accuracy is 0.8194335937500004 '\n",
      "'Epoch: 934'\n",
      "'training loss is 0.06306169385259802 '\n",
      "'training accuracy is 0.9846590909090908 '\n",
      "'Epoch: 934'\n"
     ]
    },
    {
     "name": "stderr",
     "output_type": "stream",
     "text": [
      "\r",
      " 37%|███▋      | 934/2499 [28:12<47:38,  1.83s/it]"
     ]
    },
    {
     "name": "stdout",
     "output_type": "stream",
     "text": [
      "'validation loss is 0.9888910308480263 '\n",
      "'validation accuracy is 0.8194335937500001 '\n",
      "'Epoch: 935'\n",
      "'training loss is 0.06317276575348595 '\n",
      "'training accuracy is 0.9846590909090908 '\n",
      "'Epoch: 935'\n"
     ]
    },
    {
     "name": "stderr",
     "output_type": "stream",
     "text": [
      "\r",
      " 37%|███▋      | 935/2499 [28:14<47:13,  1.81s/it]"
     ]
    },
    {
     "name": "stdout",
     "output_type": "stream",
     "text": [
      "'validation loss is 0.9878201231360435 '\n",
      "'validation accuracy is 0.8194335937500001 '\n",
      "'Epoch: 936'\n",
      "'training loss is 0.06339451907710596 '\n",
      "'training accuracy is 0.9846590909090908 '\n",
      "'Epoch: 936'\n"
     ]
    },
    {
     "name": "stderr",
     "output_type": "stream",
     "text": [
      "\r",
      " 37%|███▋      | 936/2499 [28:16<47:46,  1.83s/it]"
     ]
    },
    {
     "name": "stdout",
     "output_type": "stream",
     "text": [
      "'validation loss is 0.9904910385608673 '\n",
      "'validation accuracy is 0.8200195312500004 '\n",
      "'Epoch: 937'\n",
      "'training loss is 0.06304138390855356 '\n",
      "'training accuracy is 0.9846590909090908 '\n",
      "'Epoch: 937'\n"
     ]
    },
    {
     "name": "stderr",
     "output_type": "stream",
     "text": [
      "\r",
      " 37%|███▋      | 937/2499 [28:17<47:53,  1.84s/it]"
     ]
    },
    {
     "name": "stdout",
     "output_type": "stream",
     "text": [
      "'validation loss is 0.9898685991764069 '\n",
      "'validation accuracy is 0.8194335937500004 '\n",
      "'Epoch: 938'\n",
      "'training loss is 0.06314963136206973 '\n",
      "'training accuracy is 0.984659090909091 '\n",
      "'Epoch: 938'\n"
     ]
    },
    {
     "name": "stderr",
     "output_type": "stream",
     "text": [
      "\r",
      " 38%|███▊      | 938/2499 [28:19<48:00,  1.85s/it]"
     ]
    },
    {
     "name": "stdout",
     "output_type": "stream",
     "text": [
      "'validation loss is 0.9956898465752602 '\n",
      "'validation accuracy is 0.8194335937500001 '\n",
      "'Epoch: 939'\n",
      "'training loss is 0.06312596865675667 '\n",
      "'training accuracy is 0.9846590909090908 '\n",
      "'Epoch: 939'\n"
     ]
    },
    {
     "name": "stderr",
     "output_type": "stream",
     "text": [
      "\r",
      " 38%|███▊      | 939/2499 [28:21<47:15,  1.82s/it]"
     ]
    },
    {
     "name": "stdout",
     "output_type": "stream",
     "text": [
      "'validation loss is 0.9927678525447845 '\n",
      "'validation accuracy is 0.8197265625000002 '\n",
      "'Epoch: 940'\n",
      "'training loss is 0.06334818222305992 '\n",
      "'training accuracy is 0.984659090909091 '\n",
      "'Epoch: 940'\n"
     ]
    },
    {
     "name": "stderr",
     "output_type": "stream",
     "text": [
      "\r",
      " 38%|███▊      | 940/2499 [28:23<47:45,  1.84s/it]"
     ]
    },
    {
     "name": "stdout",
     "output_type": "stream",
     "text": [
      "'validation loss is 0.9906339153647423 '\n",
      "'validation accuracy is 0.8197265625000003 '\n",
      "'Epoch: 941'\n",
      "'training loss is 0.0631047710776329 '\n",
      "'training accuracy is 0.9846590909090911 '\n",
      "'Epoch: 941'\n"
     ]
    },
    {
     "name": "stderr",
     "output_type": "stream",
     "text": [
      "\r",
      " 38%|███▊      | 941/2499 [28:25<47:59,  1.85s/it]"
     ]
    },
    {
     "name": "stdout",
     "output_type": "stream",
     "text": [
      "'validation loss is 0.994387911260128 '\n",
      "'validation accuracy is 0.81943359375 '\n",
      "'Epoch: 942'\n",
      "'training loss is 0.06324397704818031 '\n",
      "'training accuracy is 0.984659090909091 '\n",
      "'Epoch: 942'\n"
     ]
    },
    {
     "name": "stderr",
     "output_type": "stream",
     "text": [
      "\r",
      " 38%|███▊      | 942/2499 [28:27<48:04,  1.85s/it]"
     ]
    },
    {
     "name": "stdout",
     "output_type": "stream",
     "text": [
      "'validation loss is 0.9879239872097969 '\n",
      "'validation accuracy is 0.8194335937500001 '\n",
      "'Epoch: 943'\n",
      "'training loss is 0.06323195384307341 '\n",
      "'training accuracy is 0.984659090909091 '\n",
      "'Epoch: 943'\n"
     ]
    },
    {
     "name": "stderr",
     "output_type": "stream",
     "text": [
      "\r",
      " 38%|███▊      | 943/2499 [28:29<48:24,  1.87s/it]"
     ]
    },
    {
     "name": "stdout",
     "output_type": "stream",
     "text": [
      "'validation loss is 0.9872283503413201 '\n",
      "'validation accuracy is 0.8197265625000002 '\n",
      "'Epoch: 944'\n",
      "'training loss is 0.06317621266300028 '\n",
      "'training accuracy is 0.9846590909090908 '\n",
      "'Epoch: 944'\n"
     ]
    },
    {
     "name": "stderr",
     "output_type": "stream",
     "text": [
      "\r",
      " 38%|███▊      | 944/2499 [28:30<47:18,  1.83s/it]"
     ]
    },
    {
     "name": "stdout",
     "output_type": "stream",
     "text": [
      "'validation loss is 0.9895111739635467 '\n",
      "'validation accuracy is 0.8194335937500001 '\n",
      "'Epoch: 945'\n",
      "'training loss is 0.06311666254292835 '\n",
      "'training accuracy is 0.9846590909090908 '\n",
      "'Epoch: 945'\n"
     ]
    },
    {
     "name": "stderr",
     "output_type": "stream",
     "text": [
      "\r",
      " 38%|███▊      | 945/2499 [28:32<47:18,  1.83s/it]"
     ]
    },
    {
     "name": "stdout",
     "output_type": "stream",
     "text": [
      "'validation loss is 0.9912472814321518 '\n",
      "'validation accuracy is 0.8197265625000002 '\n",
      "'Epoch: 946'\n",
      "'training loss is 0.06319354948672382 '\n",
      "'training accuracy is 0.984659090909091 '\n",
      "'Epoch: 946'\n"
     ]
    },
    {
     "name": "stderr",
     "output_type": "stream",
     "text": [
      "\r",
      " 38%|███▊      | 946/2499 [28:34<48:10,  1.86s/it]"
     ]
    },
    {
     "name": "stdout",
     "output_type": "stream",
     "text": [
      "'validation loss is 0.9966572508215904 '\n",
      "'validation accuracy is 0.81943359375 '\n",
      "'Epoch: 947'\n",
      "'training loss is 0.0634328496049751 '\n",
      "'training accuracy is 0.984659090909091 '\n",
      "'Epoch: 947'\n"
     ]
    },
    {
     "name": "stderr",
     "output_type": "stream",
     "text": [
      "\r",
      " 38%|███▊      | 947/2499 [28:36<47:23,  1.83s/it]"
     ]
    },
    {
     "name": "stdout",
     "output_type": "stream",
     "text": [
      "'validation loss is 0.9936340436339378 '\n",
      "'validation accuracy is 0.8194335937500001 '\n",
      "'Epoch: 948'\n",
      "'training loss is 0.06353721936995332 '\n",
      "'training accuracy is 0.984659090909091 '\n",
      "'Epoch: 948'\n"
     ]
    },
    {
     "name": "stderr",
     "output_type": "stream",
     "text": [
      "\r",
      " 38%|███▊      | 948/2499 [28:38<47:13,  1.83s/it]"
     ]
    },
    {
     "name": "stdout",
     "output_type": "stream",
     "text": [
      "'validation loss is 0.9902781620621681 '\n",
      "'validation accuracy is 0.8200195312500004 '\n",
      "'Epoch: 949'\n",
      "'training loss is 0.06314660913564941 '\n",
      "'training accuracy is 0.9846590909090911 '\n",
      "'Epoch: 949'\n"
     ]
    },
    {
     "name": "stderr",
     "output_type": "stream",
     "text": [
      "\r",
      " 38%|███▊      | 949/2499 [28:39<47:28,  1.84s/it]"
     ]
    },
    {
     "name": "stdout",
     "output_type": "stream",
     "text": [
      "'validation loss is 0.98604736328125 '\n",
      "'validation accuracy is 0.8197265625000002 '\n",
      "'Epoch: 950'\n",
      "'training loss is 0.06323760138316588 '\n",
      "'training accuracy is 0.984659090909091 '\n",
      "'Epoch: 950'\n"
     ]
    },
    {
     "name": "stderr",
     "output_type": "stream",
     "text": [
      "\r",
      " 38%|███▊      | 950/2499 [28:41<47:26,  1.84s/it]"
     ]
    },
    {
     "name": "stdout",
     "output_type": "stream",
     "text": [
      "'validation loss is 0.9923638701438904 '\n",
      "'validation accuracy is 0.8191406250000002 '\n",
      "'Epoch: 951'\n",
      "'training loss is 0.06298885494470596 '\n",
      "'training accuracy is 0.9846590909090908 '\n",
      "'Epoch: 951'\n"
     ]
    },
    {
     "name": "stderr",
     "output_type": "stream",
     "text": [
      "\r",
      " 38%|███▊      | 951/2499 [28:43<47:52,  1.86s/it]"
     ]
    },
    {
     "name": "stdout",
     "output_type": "stream",
     "text": [
      "'validation loss is 0.9962664976716041 '\n",
      "'validation accuracy is 0.8194335937500004 '\n",
      "'Epoch: 952'\n",
      "'training loss is 0.06311058930375359 '\n",
      "'training accuracy is 0.984659090909091 '\n",
      "'Epoch: 952'\n"
     ]
    },
    {
     "name": "stderr",
     "output_type": "stream",
     "text": [
      "\r",
      " 38%|███▊      | 952/2499 [28:45<47:47,  1.85s/it]"
     ]
    },
    {
     "name": "stdout",
     "output_type": "stream",
     "text": [
      "'validation loss is 0.9975828200578689 '\n",
      "'validation accuracy is 0.8194335937500001 '\n",
      "'Epoch: 953'\n",
      "'training loss is 0.06346803158521652 '\n",
      "'training accuracy is 0.984659090909091 '\n",
      "'Epoch: 953'\n"
     ]
    },
    {
     "name": "stderr",
     "output_type": "stream",
     "text": [
      "\r",
      " 38%|███▊      | 953/2499 [28:47<47:29,  1.84s/it]"
     ]
    },
    {
     "name": "stdout",
     "output_type": "stream",
     "text": [
      "'validation loss is 0.9907070323824883 '\n",
      "'validation accuracy is 0.8200195312500004 '\n",
      "'Epoch: 954'\n",
      "'training loss is 0.0632005977359685 '\n",
      "'training accuracy is 0.984659090909091 '\n",
      "'Epoch: 954'\n"
     ]
    },
    {
     "name": "stderr",
     "output_type": "stream",
     "text": [
      "\r",
      " 38%|███▊      | 954/2499 [28:49<46:54,  1.82s/it]"
     ]
    },
    {
     "name": "stdout",
     "output_type": "stream",
     "text": [
      "'validation loss is 0.9892446905374527 '\n",
      "'validation accuracy is 0.8191406250000004 '\n",
      "'Epoch: 955'\n",
      "'training loss is 0.0632035339420492 '\n",
      "'training accuracy is 0.9846590909090908 '\n",
      "'Epoch: 955'\n"
     ]
    },
    {
     "name": "stderr",
     "output_type": "stream",
     "text": [
      "\r",
      " 38%|███▊      | 955/2499 [28:51<47:24,  1.84s/it]"
     ]
    },
    {
     "name": "stdout",
     "output_type": "stream",
     "text": [
      "'validation loss is 0.9879835158586502 '\n",
      "'validation accuracy is 0.8194335937500004 '\n",
      "'Epoch: 956'\n",
      "'training loss is 0.06322046437046745 '\n",
      "'training accuracy is 0.984659090909091 '\n",
      "'Epoch: 956'\n"
     ]
    },
    {
     "name": "stderr",
     "output_type": "stream",
     "text": [
      "\r",
      " 38%|███▊      | 956/2499 [28:52<47:38,  1.85s/it]"
     ]
    },
    {
     "name": "stdout",
     "output_type": "stream",
     "text": [
      "'validation loss is 0.9951926887035369 '\n",
      "'validation accuracy is 0.8191406250000002 '\n",
      "'Epoch: 957'\n",
      "'training loss is 0.06325122375379909 '\n",
      "'training accuracy is 0.9846590909090908 '\n",
      "'Epoch: 957'\n"
     ]
    },
    {
     "name": "stderr",
     "output_type": "stream",
     "text": [
      "\r",
      " 38%|███▊      | 957/2499 [28:54<47:22,  1.84s/it]"
     ]
    },
    {
     "name": "stdout",
     "output_type": "stream",
     "text": [
      "'validation loss is 0.9871800869703293 '\n",
      "'validation accuracy is 0.8200195312500002 '\n",
      "'Epoch: 958'\n",
      "'training loss is 0.06331050497564403 '\n",
      "'training accuracy is 0.984659090909091 '\n",
      "'Epoch: 958'\n"
     ]
    },
    {
     "name": "stderr",
     "output_type": "stream",
     "text": [
      "\r",
      " 38%|███▊      | 958/2499 [28:56<47:19,  1.84s/it]"
     ]
    },
    {
     "name": "stdout",
     "output_type": "stream",
     "text": [
      "'validation loss is 0.9897524014115333 '\n",
      "'validation accuracy is 0.819140625 '\n",
      "'Epoch: 959'\n",
      "'training loss is 0.06309191611680118 '\n",
      "'training accuracy is 0.9846590909090911 '\n",
      "'Epoch: 959'\n"
     ]
    },
    {
     "name": "stderr",
     "output_type": "stream",
     "text": [
      "\r",
      " 38%|███▊      | 959/2499 [28:58<46:53,  1.83s/it]"
     ]
    },
    {
     "name": "stdout",
     "output_type": "stream",
     "text": [
      "'validation loss is 0.9833500206470489 '\n",
      "'validation accuracy is 0.8203125000000003 '\n",
      "'Epoch: 960'\n",
      "'training loss is 0.06298084624788979 '\n",
      "'training accuracy is 0.984659090909091 '\n",
      "'Epoch: 960'\n"
     ]
    },
    {
     "name": "stderr",
     "output_type": "stream",
     "text": [
      "\r",
      " 38%|███▊      | 960/2499 [29:00<47:16,  1.84s/it]"
     ]
    },
    {
     "name": "stdout",
     "output_type": "stream",
     "text": [
      "'validation loss is 0.9914309397339821 '\n",
      "'validation accuracy is 0.8194335937500001 '\n",
      "'Epoch: 961'\n",
      "'training loss is 0.06336559118195013 '\n",
      "'training accuracy is 0.984659090909091 '\n",
      "'Epoch: 961'\n"
     ]
    },
    {
     "name": "stderr",
     "output_type": "stream",
     "text": [
      "\r",
      " 38%|███▊      | 961/2499 [29:02<46:57,  1.83s/it]"
     ]
    },
    {
     "name": "stdout",
     "output_type": "stream",
     "text": [
      "'validation loss is 0.9920218214392662 '\n",
      "'validation accuracy is 0.8200195312500002 '\n",
      "'Epoch: 962'\n",
      "'training loss is 0.06295699829405005 '\n",
      "'training accuracy is 0.984659090909091 '\n",
      "'Epoch: 962'\n"
     ]
    },
    {
     "name": "stderr",
     "output_type": "stream",
     "text": [
      "\r",
      " 38%|███▊      | 962/2499 [29:03<46:40,  1.82s/it]"
     ]
    },
    {
     "name": "stdout",
     "output_type": "stream",
     "text": [
      "'validation loss is 0.9928654313087464 '\n",
      "'validation accuracy is 0.8200195312500004 '\n",
      "'Epoch: 963'\n",
      "'training loss is 0.06340560757301071 '\n",
      "'training accuracy is 0.9846590909090908 '\n",
      "'Epoch: 963'\n"
     ]
    },
    {
     "name": "stderr",
     "output_type": "stream",
     "text": [
      "\r",
      " 39%|███▊      | 963/2499 [29:05<45:41,  1.79s/it]"
     ]
    },
    {
     "name": "stdout",
     "output_type": "stream",
     "text": [
      "'validation loss is 0.993263441324234 '\n",
      "'validation accuracy is 0.81943359375 '\n",
      "'Epoch: 964'\n",
      "'training loss is 0.06321775710040872 '\n",
      "'training accuracy is 0.984659090909091 '\n",
      "'Epoch: 964'\n"
     ]
    },
    {
     "name": "stderr",
     "output_type": "stream",
     "text": [
      "\r",
      " 39%|███▊      | 964/2499 [29:07<45:50,  1.79s/it]"
     ]
    },
    {
     "name": "stdout",
     "output_type": "stream",
     "text": [
      "'validation loss is 0.98868458122015 '\n",
      "'validation accuracy is 0.8197265625000002 '\n",
      "'Epoch: 965'\n",
      "'training loss is 0.0631690113381906 '\n",
      "'training accuracy is 0.984659090909091 '\n",
      "'Epoch: 965'\n"
     ]
    },
    {
     "name": "stderr",
     "output_type": "stream",
     "text": [
      "\r",
      " 39%|███▊      | 965/2499 [29:09<46:04,  1.80s/it]"
     ]
    },
    {
     "name": "stdout",
     "output_type": "stream",
     "text": [
      "'validation loss is 0.9848540559411049 '\n",
      "'validation accuracy is 0.8200195312500002 '\n",
      "'Epoch: 966'\n",
      "'training loss is 0.06305064768953757 '\n",
      "'training accuracy is 0.984659090909091 '\n",
      "'Epoch: 966'\n"
     ]
    },
    {
     "name": "stderr",
     "output_type": "stream",
     "text": [
      "\r",
      " 39%|███▊      | 966/2499 [29:11<46:27,  1.82s/it]"
     ]
    },
    {
     "name": "stdout",
     "output_type": "stream",
     "text": [
      "'validation loss is 0.9856387838721276 '\n",
      "'validation accuracy is 0.81943359375 '\n",
      "'Epoch: 967'\n",
      "'training loss is 0.06291516802527687 '\n",
      "'training accuracy is 0.9846590909090911 '\n",
      "'Epoch: 967'\n"
     ]
    },
    {
     "name": "stderr",
     "output_type": "stream",
     "text": [
      "\r",
      " 39%|███▊      | 967/2499 [29:12<46:43,  1.83s/it]"
     ]
    },
    {
     "name": "stdout",
     "output_type": "stream",
     "text": [
      "'validation loss is 0.987520694732666 '\n",
      "'validation accuracy is 0.8197265625000002 '\n",
      "'Epoch: 968'\n",
      "'training loss is 0.06312569467858835 '\n",
      "'training accuracy is 0.984659090909091 '\n",
      "'Epoch: 968'\n"
     ]
    },
    {
     "name": "stderr",
     "output_type": "stream",
     "text": [
      "\r",
      " 39%|███▊      | 968/2499 [29:14<46:21,  1.82s/it]"
     ]
    },
    {
     "name": "stdout",
     "output_type": "stream",
     "text": [
      "'validation loss is 0.98682049959898 '\n",
      "'validation accuracy is 0.8197265625 '\n",
      "'Epoch: 969'\n",
      "'training loss is 0.06329252401536162 '\n",
      "'training accuracy is 0.9846590909090908 '\n",
      "'Epoch: 969'\n"
     ]
    },
    {
     "name": "stderr",
     "output_type": "stream",
     "text": [
      "\r",
      " 39%|███▉      | 969/2499 [29:16<45:14,  1.77s/it]"
     ]
    },
    {
     "name": "stdout",
     "output_type": "stream",
     "text": [
      "'validation loss is 0.9824915334582329 '\n",
      "'validation accuracy is 0.8197265625000003 '\n",
      "'Epoch: 970'\n",
      "'training loss is 0.06326294521039183 '\n",
      "'training accuracy is 0.984659090909091 '\n",
      "'Epoch: 970'\n"
     ]
    },
    {
     "name": "stderr",
     "output_type": "stream",
     "text": [
      "\r",
      " 39%|███▉      | 970/2499 [29:18<45:28,  1.78s/it]"
     ]
    },
    {
     "name": "stdout",
     "output_type": "stream",
     "text": [
      "'validation loss is 0.984875100851059 '\n",
      "'validation accuracy is 0.8194335937500001 '\n",
      "'Epoch: 971'\n",
      "'training loss is 0.06329095363616943 '\n",
      "'training accuracy is 0.9846590909090908 '\n",
      "'Epoch: 971'\n"
     ]
    },
    {
     "name": "stderr",
     "output_type": "stream",
     "text": [
      "\r",
      " 39%|███▉      | 971/2499 [29:20<46:01,  1.81s/it]"
     ]
    },
    {
     "name": "stdout",
     "output_type": "stream",
     "text": [
      "'validation loss is 0.9854995772242546 '\n",
      "'validation accuracy is 0.8197265625000002 '\n",
      "'Epoch: 972'\n",
      "'training loss is 0.06303977424448187 '\n",
      "'training accuracy is 0.984659090909091 '\n",
      "'Epoch: 972'\n"
     ]
    },
    {
     "name": "stderr",
     "output_type": "stream",
     "text": [
      "\r",
      " 39%|███▉      | 972/2499 [29:21<46:53,  1.84s/it]"
     ]
    },
    {
     "name": "stdout",
     "output_type": "stream",
     "text": [
      "'validation loss is 0.9899053663015366 '\n",
      "'validation accuracy is 0.8197265625000002 '\n",
      "'Epoch: 973'\n",
      "'training loss is 0.06279956549406052 '\n",
      "'training accuracy is 0.9846590909090911 '\n",
      "'Epoch: 973'\n"
     ]
    },
    {
     "name": "stderr",
     "output_type": "stream",
     "text": [
      "\r",
      " 39%|███▉      | 973/2499 [29:23<47:16,  1.86s/it]"
     ]
    },
    {
     "name": "stdout",
     "output_type": "stream",
     "text": [
      "'validation loss is 0.9902346551418304 '\n",
      "'validation accuracy is 0.819140625 '\n",
      "'Epoch: 974'\n",
      "'training loss is 0.0631117664954879 '\n",
      "'training accuracy is 0.984659090909091 '\n",
      "'Epoch: 974'\n"
     ]
    },
    {
     "name": "stderr",
     "output_type": "stream",
     "text": [
      "\r",
      " 39%|███▉      | 974/2499 [29:25<47:22,  1.86s/it]"
     ]
    },
    {
     "name": "stdout",
     "output_type": "stream",
     "text": [
      "'validation loss is 0.9888856917619705 '\n",
      "'validation accuracy is 0.8194335937500001 '\n",
      "'Epoch: 975'\n",
      "'training loss is 0.06320682472803375 '\n",
      "'training accuracy is 0.984659090909091 '\n",
      "'Epoch: 975'\n"
     ]
    },
    {
     "name": "stderr",
     "output_type": "stream",
     "text": [
      "\r",
      " 39%|███▉      | 975/2499 [29:27<47:00,  1.85s/it]"
     ]
    },
    {
     "name": "stdout",
     "output_type": "stream",
     "text": [
      "'validation loss is 0.9889318153262139 '\n",
      "'validation accuracy is 0.8197265625 '\n",
      "'Epoch: 976'\n",
      "'training loss is 0.06295045194300739 '\n",
      "'training accuracy is 0.9846590909090908 '\n",
      "'Epoch: 976'\n"
     ]
    },
    {
     "name": "stderr",
     "output_type": "stream",
     "text": [
      "\r",
      " 39%|███▉      | 976/2499 [29:29<47:37,  1.88s/it]"
     ]
    },
    {
     "name": "stdout",
     "output_type": "stream",
     "text": [
      "'validation loss is 0.9893848806619644 '\n",
      "'validation accuracy is 0.8194335937500001 '\n",
      "'Epoch: 977'\n",
      "'training loss is 0.06322305886582895 '\n",
      "'training accuracy is 0.984659090909091 '\n",
      "'Epoch: 977'\n"
     ]
    },
    {
     "name": "stderr",
     "output_type": "stream",
     "text": [
      "\r",
      " 39%|███▉      | 977/2499 [29:31<47:02,  1.85s/it]"
     ]
    },
    {
     "name": "stdout",
     "output_type": "stream",
     "text": [
      "'validation loss is 0.9826635360717774 '\n",
      "'validation accuracy is 0.8200195312500004 '\n",
      "'Epoch: 978'\n",
      "'training loss is 0.06300102411346002 '\n",
      "'training accuracy is 0.984659090909091 '\n",
      "'Epoch: 978'\n"
     ]
    },
    {
     "name": "stderr",
     "output_type": "stream",
     "text": [
      "\r",
      " 39%|███▉      | 978/2499 [29:33<46:25,  1.83s/it]"
     ]
    },
    {
     "name": "stdout",
     "output_type": "stream",
     "text": [
      "'validation loss is 0.9877128392457962 '\n",
      "'validation accuracy is 0.8200195312500002 '\n",
      "'Epoch: 979'\n",
      "'training loss is 0.06311127509583127 '\n",
      "'training accuracy is 0.9846590909090911 '\n",
      "'Epoch: 979'\n"
     ]
    },
    {
     "name": "stderr",
     "output_type": "stream",
     "text": [
      "\r",
      " 39%|███▉      | 979/2499 [29:34<46:44,  1.85s/it]"
     ]
    },
    {
     "name": "stdout",
     "output_type": "stream",
     "text": [
      "'validation loss is 0.9898524478077888 '\n",
      "'validation accuracy is 0.8191406250000002 '\n",
      "'Epoch: 980'\n",
      "'training loss is 0.06285704164342447 '\n",
      "'training accuracy is 0.984659090909091 '\n",
      "'Epoch: 980'\n"
     ]
    },
    {
     "name": "stderr",
     "output_type": "stream",
     "text": [
      "\r",
      " 39%|███▉      | 980/2499 [29:36<46:29,  1.84s/it]"
     ]
    },
    {
     "name": "stdout",
     "output_type": "stream",
     "text": [
      "'validation loss is 0.9940646514296532 '\n",
      "'validation accuracy is 0.8194335937500001 '\n",
      "'Epoch: 981'\n",
      "'training loss is 0.06308469210158694 '\n",
      "'training accuracy is 0.984659090909091 '\n",
      "'Epoch: 981'\n"
     ]
    },
    {
     "name": "stderr",
     "output_type": "stream",
     "text": [
      "\r",
      " 39%|███▉      | 981/2499 [29:38<45:58,  1.82s/it]"
     ]
    },
    {
     "name": "stdout",
     "output_type": "stream",
     "text": [
      "'validation loss is 0.9913651376962662 '\n",
      "'validation accuracy is 0.8197265625000002 '\n",
      "'Epoch: 982'\n",
      "'training loss is 0.06316035985946655 '\n",
      "'training accuracy is 0.984659090909091 '\n",
      "'Epoch: 982'\n"
     ]
    },
    {
     "name": "stderr",
     "output_type": "stream",
     "text": [
      "\r",
      " 39%|███▉      | 982/2499 [29:40<45:39,  1.81s/it]"
     ]
    },
    {
     "name": "stdout",
     "output_type": "stream",
     "text": [
      "'validation loss is 0.9878502666950226 '\n",
      "'validation accuracy is 0.8200195312500002 '\n",
      "'Epoch: 983'\n",
      "'training loss is 0.06307111138647253 '\n",
      "'training accuracy is 0.984659090909091 '\n",
      "'Epoch: 983'\n"
     ]
    },
    {
     "name": "stderr",
     "output_type": "stream",
     "text": [
      "\r",
      " 39%|███▉      | 983/2499 [29:42<46:29,  1.84s/it]"
     ]
    },
    {
     "name": "stdout",
     "output_type": "stream",
     "text": [
      "'validation loss is 0.9813565358519554 '\n",
      "'validation accuracy is 0.8203125000000003 '\n",
      "'Epoch: 984'\n",
      "'training loss is 0.06290916522795503 '\n",
      "'training accuracy is 0.984659090909091 '\n",
      "'Epoch: 984'\n"
     ]
    },
    {
     "name": "stderr",
     "output_type": "stream",
     "text": [
      "\r",
      " 39%|███▉      | 984/2499 [29:43<45:42,  1.81s/it]"
     ]
    },
    {
     "name": "stdout",
     "output_type": "stream",
     "text": [
      "'validation loss is 0.9874493241310119 '\n",
      "'validation accuracy is 0.8191406250000004 '\n",
      "'Epoch: 985'\n",
      "'training loss is 0.06334811381318352 '\n",
      "'training accuracy is 0.984659090909091 '\n",
      "'Epoch: 985'\n"
     ]
    },
    {
     "name": "stderr",
     "output_type": "stream",
     "text": [
      "\r",
      " 39%|███▉      | 985/2499 [29:45<45:43,  1.81s/it]"
     ]
    },
    {
     "name": "stdout",
     "output_type": "stream",
     "text": [
      "'validation loss is 0.9828519210219383 '\n",
      "'validation accuracy is 0.8194335937500001 '\n",
      "'Epoch: 986'\n",
      "'training loss is 0.06328711489384825 '\n",
      "'training accuracy is 0.9846590909090908 '\n",
      "'Epoch: 986'\n"
     ]
    },
    {
     "name": "stderr",
     "output_type": "stream",
     "text": [
      "\r",
      " 39%|███▉      | 986/2499 [29:47<45:37,  1.81s/it]"
     ]
    },
    {
     "name": "stdout",
     "output_type": "stream",
     "text": [
      "'validation loss is 0.9873906642198562 '\n",
      "'validation accuracy is 0.8191406250000002 '\n",
      "'Epoch: 987'\n",
      "'training loss is 0.06306697462092746 '\n",
      "'training accuracy is 0.9846590909090908 '\n",
      "'Epoch: 987'\n"
     ]
    },
    {
     "name": "stderr",
     "output_type": "stream",
     "text": [
      "\r",
      " 39%|███▉      | 987/2499 [29:49<45:16,  1.80s/it]"
     ]
    },
    {
     "name": "stdout",
     "output_type": "stream",
     "text": [
      "'validation loss is 0.9882900327444076 '\n",
      "'validation accuracy is 0.8197265625000002 '\n",
      "'Epoch: 988'\n",
      "'training loss is 0.06342286210168492 '\n",
      "'training accuracy is 0.984659090909091 '\n",
      "'Epoch: 988'\n"
     ]
    },
    {
     "name": "stderr",
     "output_type": "stream",
     "text": [
      "\r",
      " 40%|███▉      | 988/2499 [29:51<44:58,  1.79s/it]"
     ]
    },
    {
     "name": "stdout",
     "output_type": "stream",
     "text": [
      "'validation loss is 0.9833073675632477 '\n",
      "'validation accuracy is 0.8200195312500002 '\n",
      "'Epoch: 989'\n",
      "'training loss is 0.06359078328717839 '\n",
      "'training accuracy is 0.984659090909091 '\n",
      "'Epoch: 989'\n"
     ]
    },
    {
     "name": "stderr",
     "output_type": "stream",
     "text": [
      "\r",
      " 40%|███▉      | 989/2499 [29:52<45:22,  1.80s/it]"
     ]
    },
    {
     "name": "stdout",
     "output_type": "stream",
     "text": [
      "'validation loss is 0.9869320809841156 '\n",
      "'validation accuracy is 0.8191406250000002 '\n",
      "'Epoch: 990'\n",
      "'training loss is 0.06308002532883124 '\n",
      "'training accuracy is 0.984659090909091 '\n",
      "'Epoch: 990'\n"
     ]
    },
    {
     "name": "stderr",
     "output_type": "stream",
     "text": [
      "\r",
      " 40%|███▉      | 990/2499 [29:54<45:44,  1.82s/it]"
     ]
    },
    {
     "name": "stdout",
     "output_type": "stream",
     "text": [
      "'validation loss is 0.9874397471547127 '\n",
      "'validation accuracy is 0.8194335937500001 '\n",
      "'Epoch: 991'\n",
      "'training loss is 0.06326871805570343 '\n",
      "'training accuracy is 0.9846590909090908 '\n",
      "'Epoch: 991'\n"
     ]
    },
    {
     "name": "stderr",
     "output_type": "stream",
     "text": [
      "\r",
      " 40%|███▉      | 991/2499 [29:56<45:20,  1.80s/it]"
     ]
    },
    {
     "name": "stdout",
     "output_type": "stream",
     "text": [
      "'validation loss is 0.9863114699721336 '\n",
      "'validation accuracy is 0.81943359375 '\n",
      "'Epoch: 992'\n",
      "'training loss is 0.06332782012495128 '\n",
      "'training accuracy is 0.9846590909090911 '\n",
      "'Epoch: 992'\n"
     ]
    },
    {
     "name": "stderr",
     "output_type": "stream",
     "text": [
      "\r",
      " 40%|███▉      | 992/2499 [29:58<45:52,  1.83s/it]"
     ]
    },
    {
     "name": "stdout",
     "output_type": "stream",
     "text": [
      "'validation loss is 0.9826077878475189 '\n",
      "'validation accuracy is 0.8197265625000002 '\n",
      "'Epoch: 993'\n",
      "'training loss is 0.06312280656261877 '\n",
      "'training accuracy is 0.984659090909091 '\n",
      "'Epoch: 993'\n"
     ]
    },
    {
     "name": "stderr",
     "output_type": "stream",
     "text": [
      "\r",
      " 40%|███▉      | 993/2499 [30:00<46:03,  1.84s/it]"
     ]
    },
    {
     "name": "stdout",
     "output_type": "stream",
     "text": [
      "'validation loss is 0.9879474505782128 '\n",
      "'validation accuracy is 0.8191406250000004 '\n",
      "'Epoch: 994'\n",
      "'training loss is 0.06333050470460545 '\n",
      "'training accuracy is 0.984659090909091 '\n",
      "'Epoch: 994'\n"
     ]
    },
    {
     "name": "stderr",
     "output_type": "stream",
     "text": [
      "\r",
      " 40%|███▉      | 994/2499 [30:02<46:22,  1.85s/it]"
     ]
    },
    {
     "name": "stdout",
     "output_type": "stream",
     "text": [
      "'validation loss is 0.9855438560247421 '\n",
      "'validation accuracy is 0.8197265625000002 '\n",
      "'Epoch: 995'\n",
      "'training loss is 0.06306491826068271 '\n",
      "'training accuracy is 0.984659090909091 '\n",
      "'Epoch: 995'\n"
     ]
    },
    {
     "name": "stderr",
     "output_type": "stream",
     "text": [
      "\r",
      " 40%|███▉      | 995/2499 [30:04<46:43,  1.86s/it]"
     ]
    },
    {
     "name": "stdout",
     "output_type": "stream",
     "text": [
      "'validation loss is 0.983270888030529 '\n",
      "'validation accuracy is 0.8194335937500004 '\n",
      "'Epoch: 996'\n",
      "'training loss is 0.06294460154392502 '\n",
      "'training accuracy is 0.984659090909091 '\n",
      "'Epoch: 996'\n"
     ]
    },
    {
     "name": "stderr",
     "output_type": "stream",
     "text": [
      "\r",
      " 40%|███▉      | 996/2499 [30:06<47:08,  1.88s/it]"
     ]
    },
    {
     "name": "stdout",
     "output_type": "stream",
     "text": [
      "'validation loss is 0.9858436644077301 '\n",
      "'validation accuracy is 0.8194335937500001 '\n",
      "'Epoch: 997'\n",
      "'training loss is 0.06306893310763619 '\n",
      "'training accuracy is 0.9846590909090908 '\n",
      "'Epoch: 997'\n"
     ]
    },
    {
     "name": "stderr",
     "output_type": "stream",
     "text": [
      "\r",
      " 40%|███▉      | 997/2499 [30:07<46:32,  1.86s/it]"
     ]
    },
    {
     "name": "stdout",
     "output_type": "stream",
     "text": [
      "'validation loss is 0.9868045628070832 '\n",
      "'validation accuracy is 0.8191406250000002 '\n",
      "'Epoch: 998'\n",
      "'training loss is 0.06298544664274562 '\n",
      "'training accuracy is 0.984659090909091 '\n",
      "'Epoch: 998'\n"
     ]
    },
    {
     "name": "stderr",
     "output_type": "stream",
     "text": [
      "\r",
      " 40%|███▉      | 998/2499 [30:09<46:27,  1.86s/it]"
     ]
    },
    {
     "name": "stdout",
     "output_type": "stream",
     "text": [
      "'validation loss is 0.985613326728344 '\n",
      "'validation accuracy is 0.8197265625000002 '\n",
      "'Epoch: 999'\n",
      "'training loss is 0.06345511803572829 '\n",
      "'training accuracy is 0.9846590909090908 '\n",
      "'Epoch: 999'\n"
     ]
    },
    {
     "name": "stderr",
     "output_type": "stream",
     "text": [
      "\r",
      " 40%|███▉      | 999/2499 [30:11<46:08,  1.85s/it]"
     ]
    },
    {
     "name": "stdout",
     "output_type": "stream",
     "text": [
      "'validation loss is 0.9918036460876465 '\n",
      "'validation accuracy is 0.8191406250000002 '\n",
      "'Epoch: 1000'\n",
      "'training loss is 0.06336509707299146 '\n",
      "'training accuracy is 0.984659090909091 '\n",
      "'Epoch: 1000'\n"
     ]
    },
    {
     "name": "stderr",
     "output_type": "stream",
     "text": [
      "\r",
      " 40%|████      | 1000/2499 [30:13<45:57,  1.84s/it]"
     ]
    },
    {
     "name": "stdout",
     "output_type": "stream",
     "text": [
      "'validation loss is 0.9866069048643112 '\n",
      "'validation accuracy is 0.8200195312500002 '\n",
      "'Epoch: 1001'\n",
      "'training loss is 0.06307262893427502 '\n",
      "'training accuracy is 0.9846590909090911 '\n",
      "'Epoch: 1001'\n"
     ]
    },
    {
     "name": "stderr",
     "output_type": "stream",
     "text": [
      "\r",
      " 40%|████      | 1001/2499 [30:15<46:13,  1.85s/it]"
     ]
    },
    {
     "name": "stdout",
     "output_type": "stream",
     "text": [
      "'validation loss is 0.984476064145565 '\n",
      "'validation accuracy is 0.8197265625000002 '\n",
      "'Epoch: 1002'\n",
      "'training loss is 0.06298642910339615 '\n",
      "'training accuracy is 0.984659090909091 '\n",
      "'Epoch: 1002'\n"
     ]
    },
    {
     "name": "stderr",
     "output_type": "stream",
     "text": [
      "\r",
      " 40%|████      | 1002/2499 [30:17<46:10,  1.85s/it]"
     ]
    },
    {
     "name": "stdout",
     "output_type": "stream",
     "text": [
      "'validation loss is 0.9907126501202583 '\n",
      "'validation accuracy is 0.8194335937500001 '\n",
      "'Epoch: 1003'\n",
      "'training loss is 0.06319893998178569 '\n",
      "'training accuracy is 0.9846590909090911 '\n",
      "'Epoch: 1003'\n"
     ]
    },
    {
     "name": "stderr",
     "output_type": "stream",
     "text": [
      "\r",
      " 40%|████      | 1003/2499 [30:18<46:05,  1.85s/it]"
     ]
    },
    {
     "name": "stdout",
     "output_type": "stream",
     "text": [
      "'validation loss is 0.9831735178828239 '\n",
      "'validation accuracy is 0.8194335937500001 '\n",
      "'Epoch: 1004'\n",
      "'training loss is 0.06315662373195995 '\n",
      "'training accuracy is 0.9846590909090908 '\n",
      "'Epoch: 1004'\n"
     ]
    },
    {
     "name": "stderr",
     "output_type": "stream",
     "text": [
      "\r",
      " 40%|████      | 1004/2499 [30:20<46:26,  1.86s/it]"
     ]
    },
    {
     "name": "stdout",
     "output_type": "stream",
     "text": [
      "'validation loss is 0.9845140293240547 '\n",
      "'validation accuracy is 0.819140625 '\n",
      "'Epoch: 1005'\n",
      "'training loss is 0.06292400509119034 '\n",
      "'training accuracy is 0.984659090909091 '\n",
      "'Epoch: 1005'\n"
     ]
    },
    {
     "name": "stderr",
     "output_type": "stream",
     "text": [
      "\r",
      " 40%|████      | 1005/2499 [30:22<46:54,  1.88s/it]"
     ]
    },
    {
     "name": "stdout",
     "output_type": "stream",
     "text": [
      "'validation loss is 0.9817759081721306 '\n",
      "'validation accuracy is 0.8197265625000003 '\n",
      "'Epoch: 1006'\n",
      "'training loss is 0.0632464624941349 '\n",
      "'training accuracy is 0.9846590909090908 '\n",
      "'Epoch: 1006'\n"
     ]
    },
    {
     "name": "stderr",
     "output_type": "stream",
     "text": [
      "\r",
      " 40%|████      | 1006/2499 [30:24<45:51,  1.84s/it]"
     ]
    },
    {
     "name": "stdout",
     "output_type": "stream",
     "text": [
      "'validation loss is 0.9889340490102768 '\n",
      "'validation accuracy is 0.8191406250000002 '\n",
      "'Epoch: 1007'\n",
      "'training loss is 0.06296881864016707 '\n",
      "'training accuracy is 0.984659090909091 '\n",
      "'Epoch: 1007'\n"
     ]
    },
    {
     "name": "stderr",
     "output_type": "stream",
     "text": [
      "\r",
      " 40%|████      | 1007/2499 [30:26<45:45,  1.84s/it]"
     ]
    },
    {
     "name": "stdout",
     "output_type": "stream",
     "text": [
      "'validation loss is 0.9862997487187386 '\n",
      "'validation accuracy is 0.8200195312500002 '\n",
      "'Epoch: 1008'\n",
      "'training loss is 0.06318902393633669 '\n",
      "'training accuracy is 0.984659090909091 '\n",
      "'Epoch: 1008'\n"
     ]
    },
    {
     "name": "stderr",
     "output_type": "stream",
     "text": [
      "\r",
      " 40%|████      | 1008/2499 [30:28<46:16,  1.86s/it]"
     ]
    },
    {
     "name": "stdout",
     "output_type": "stream",
     "text": [
      "'validation loss is 0.9848525211215019 '\n",
      "'validation accuracy is 0.8200195312500004 '\n",
      "'Epoch: 1009'\n",
      "'training loss is 0.06319857998327776 '\n",
      "'training accuracy is 0.984659090909091 '\n",
      "'Epoch: 1009'\n"
     ]
    },
    {
     "name": "stderr",
     "output_type": "stream",
     "text": [
      "\r",
      " 40%|████      | 1009/2499 [30:30<46:33,  1.87s/it]"
     ]
    },
    {
     "name": "stdout",
     "output_type": "stream",
     "text": [
      "'validation loss is 0.9794608265161514 '\n",
      "'validation accuracy is 0.8200195312500002 '\n",
      "'Epoch: 1010'\n",
      "'training loss is 0.06327579305930571 '\n",
      "'training accuracy is 0.984659090909091 '\n",
      "'Epoch: 1010'\n"
     ]
    },
    {
     "name": "stderr",
     "output_type": "stream",
     "text": [
      "\r",
      " 40%|████      | 1010/2499 [30:31<45:36,  1.84s/it]"
     ]
    },
    {
     "name": "stdout",
     "output_type": "stream",
     "text": [
      "'validation loss is 0.979039090871811 '\n",
      "'validation accuracy is 0.8197265625000002 '\n",
      "'Epoch: 1011'\n",
      "'training loss is 0.06295999444343826 '\n",
      "'training accuracy is 0.984659090909091 '\n",
      "'Epoch: 1011'\n"
     ]
    },
    {
     "name": "stderr",
     "output_type": "stream",
     "text": [
      "\r",
      " 40%|████      | 1011/2499 [30:33<46:04,  1.86s/it]"
     ]
    },
    {
     "name": "stdout",
     "output_type": "stream",
     "text": [
      "'validation loss is 0.9877907067537308 '\n",
      "'validation accuracy is 0.8194335937500001 '\n",
      "'Epoch: 1012'\n",
      "'training loss is 0.0632107477973808 '\n",
      "'training accuracy is 0.9846590909090911 '\n",
      "'Epoch: 1012'\n"
     ]
    },
    {
     "name": "stderr",
     "output_type": "stream",
     "text": [
      "\r",
      " 40%|████      | 1012/2499 [30:35<45:47,  1.85s/it]"
     ]
    },
    {
     "name": "stdout",
     "output_type": "stream",
     "text": [
      "'validation loss is 0.9866361722350121 '\n",
      "'validation accuracy is 0.8191406250000002 '\n",
      "'Epoch: 1013'\n",
      "'training loss is 0.06323064355687662 '\n",
      "'training accuracy is 0.984659090909091 '\n",
      "'Epoch: 1013'\n"
     ]
    },
    {
     "name": "stderr",
     "output_type": "stream",
     "text": [
      "\r",
      " 41%|████      | 1013/2499 [30:37<46:07,  1.86s/it]"
     ]
    },
    {
     "name": "stdout",
     "output_type": "stream",
     "text": [
      "'validation loss is 0.9864101350307465 '\n",
      "'validation accuracy is 0.8197265625000002 '\n",
      "'Epoch: 1014'\n",
      "'training loss is 0.0632087964225899 '\n",
      "'training accuracy is 0.984659090909091 '\n",
      "'Epoch: 1014'\n"
     ]
    },
    {
     "name": "stderr",
     "output_type": "stream",
     "text": [
      "\r",
      " 41%|████      | 1014/2499 [30:39<46:24,  1.87s/it]"
     ]
    },
    {
     "name": "stdout",
     "output_type": "stream",
     "text": [
      "'validation loss is 0.9769480645656585 '\n",
      "'validation accuracy is 0.8197265625000002 '\n",
      "'Epoch: 1015'\n",
      "'training loss is 0.06305900114503774 '\n",
      "'training accuracy is 0.984659090909091 '\n",
      "'Epoch: 1015'\n"
     ]
    },
    {
     "name": "stderr",
     "output_type": "stream",
     "text": [
      "\r",
      " 41%|████      | 1015/2499 [30:41<45:42,  1.85s/it]"
     ]
    },
    {
     "name": "stdout",
     "output_type": "stream",
     "text": [
      "'validation loss is 0.985319259762764 '\n",
      "'validation accuracy is 0.8197265625000002 '\n",
      "'Epoch: 1016'\n",
      "'training loss is 0.06339776177297939 '\n",
      "'training accuracy is 0.9846590909090908 '\n",
      "'Epoch: 1016'\n"
     ]
    },
    {
     "name": "stderr",
     "output_type": "stream",
     "text": [
      "\r",
      " 41%|████      | 1016/2499 [30:43<45:50,  1.85s/it]"
     ]
    },
    {
     "name": "stdout",
     "output_type": "stream",
     "text": [
      "'validation loss is 0.9825380012392998 '\n",
      "'validation accuracy is 0.8197265625000002 '\n",
      "'Epoch: 1017'\n",
      "'training loss is 0.06293029710650444 '\n",
      "'training accuracy is 0.984659090909091 '\n",
      "'Epoch: 1017'\n"
     ]
    },
    {
     "name": "stderr",
     "output_type": "stream",
     "text": [
      "\r",
      " 41%|████      | 1017/2499 [30:44<45:14,  1.83s/it]"
     ]
    },
    {
     "name": "stdout",
     "output_type": "stream",
     "text": [
      "'validation loss is 0.9858013734221458 '\n",
      "'validation accuracy is 0.8197265625000002 '\n",
      "'Epoch: 1018'\n",
      "'training loss is 0.06314544210379774 '\n",
      "'training accuracy is 0.984659090909091 '\n",
      "'Epoch: 1018'\n"
     ]
    },
    {
     "name": "stderr",
     "output_type": "stream",
     "text": [
      "\r",
      " 41%|████      | 1018/2499 [30:46<45:06,  1.83s/it]"
     ]
    },
    {
     "name": "stdout",
     "output_type": "stream",
     "text": [
      "'validation loss is 0.9830171674489975 '\n",
      "'validation accuracy is 0.8197265625000002 '\n",
      "'Epoch: 1019'\n",
      "'training loss is 0.0632929348132827 '\n",
      "'training accuracy is 0.9846590909090911 '\n",
      "'Epoch: 1019'\n"
     ]
    },
    {
     "name": "stderr",
     "output_type": "stream",
     "text": [
      "\r",
      " 41%|████      | 1019/2499 [30:48<45:21,  1.84s/it]"
     ]
    },
    {
     "name": "stdout",
     "output_type": "stream",
     "text": [
      "'validation loss is 0.9856892615556717 '\n",
      "'validation accuracy is 0.8197265625 '\n",
      "'Epoch: 1020'\n",
      "'training loss is 0.06302186745134267 '\n",
      "'training accuracy is 0.9846590909090908 '\n",
      "'Epoch: 1020'\n"
     ]
    },
    {
     "name": "stderr",
     "output_type": "stream",
     "text": [
      "\r",
      " 41%|████      | 1020/2499 [30:50<45:04,  1.83s/it]"
     ]
    },
    {
     "name": "stdout",
     "output_type": "stream",
     "text": [
      "'validation loss is 0.9861736759543419 '\n",
      "'validation accuracy is 0.8194335937500001 '\n",
      "'Epoch: 1021'\n",
      "'training loss is 0.06322098286314444 '\n",
      "'training accuracy is 0.984659090909091 '\n",
      "'Epoch: 1021'\n"
     ]
    },
    {
     "name": "stderr",
     "output_type": "stream",
     "text": [
      "\r",
      " 41%|████      | 1021/2499 [30:52<44:30,  1.81s/it]"
     ]
    },
    {
     "name": "stdout",
     "output_type": "stream",
     "text": [
      "'validation loss is 0.9856947511434555 '\n",
      "'validation accuracy is 0.8194335937500004 '\n",
      "'Epoch: 1022'\n",
      "'training loss is 0.06290794570337642 '\n",
      "'training accuracy is 0.9846590909090911 '\n",
      "'Epoch: 1022'\n"
     ]
    },
    {
     "name": "stderr",
     "output_type": "stream",
     "text": [
      "\r",
      " 41%|████      | 1022/2499 [30:53<44:44,  1.82s/it]"
     ]
    },
    {
     "name": "stdout",
     "output_type": "stream",
     "text": [
      "'validation loss is 0.9814725026488305 '\n",
      "'validation accuracy is 0.8194335937500001 '\n",
      "'Epoch: 1023'\n",
      "'training loss is 0.06350489197806879 '\n",
      "'training accuracy is 0.984659090909091 '\n",
      "'Epoch: 1023'\n"
     ]
    },
    {
     "name": "stderr",
     "output_type": "stream",
     "text": [
      "\r",
      " 41%|████      | 1023/2499 [30:55<44:41,  1.82s/it]"
     ]
    },
    {
     "name": "stdout",
     "output_type": "stream",
     "text": [
      "'validation loss is 0.9829190492630004 '\n",
      "'validation accuracy is 0.8197265625000002 '\n",
      "'Epoch: 1024'\n",
      "'training loss is 0.06328065930442377 '\n",
      "'training accuracy is 0.9846590909090911 '\n",
      "'Epoch: 1024'\n"
     ]
    },
    {
     "name": "stderr",
     "output_type": "stream",
     "text": [
      "\r",
      " 41%|████      | 1024/2499 [30:57<43:48,  1.78s/it]"
     ]
    },
    {
     "name": "stdout",
     "output_type": "stream",
     "text": [
      "'validation loss is 0.9874090194702149 '\n",
      "'validation accuracy is 0.8194335937500001 '\n",
      "'Epoch: 1025'\n",
      "'training loss is 0.06306384740905328 '\n",
      "'training accuracy is 0.984659090909091 '\n",
      "'Epoch: 1025'\n"
     ]
    },
    {
     "name": "stderr",
     "output_type": "stream",
     "text": [
      "\r",
      " 41%|████      | 1025/2499 [30:59<43:58,  1.79s/it]"
     ]
    },
    {
     "name": "stdout",
     "output_type": "stream",
     "text": [
      "'validation loss is 0.9875172555446625 '\n",
      "'validation accuracy is 0.8191406250000002 '\n",
      "'Epoch: 1026'\n",
      "'training loss is 0.06317250058054924 '\n",
      "'training accuracy is 0.984659090909091 '\n",
      "'Epoch: 1026'\n"
     ]
    },
    {
     "name": "stderr",
     "output_type": "stream",
     "text": [
      "\r",
      " 41%|████      | 1026/2499 [31:01<44:02,  1.79s/it]"
     ]
    },
    {
     "name": "stdout",
     "output_type": "stream",
     "text": [
      "'validation loss is 0.9835127472877503 '\n",
      "'validation accuracy is 0.8200195312500002 '\n",
      "'Epoch: 1027'\n",
      "'training loss is 0.06323844634673813 '\n",
      "'training accuracy is 0.984659090909091 '\n",
      "'Epoch: 1027'\n"
     ]
    },
    {
     "name": "stderr",
     "output_type": "stream",
     "text": [
      "\r",
      " 41%|████      | 1027/2499 [31:02<44:12,  1.80s/it]"
     ]
    },
    {
     "name": "stdout",
     "output_type": "stream",
     "text": [
      "'validation loss is 0.9876375690102577 '\n",
      "'validation accuracy is 0.8191406250000002 '\n",
      "'Epoch: 1028'\n",
      "'training loss is 0.0629353282803839 '\n",
      "'training accuracy is 0.984659090909091 '\n",
      "'Epoch: 1028'\n"
     ]
    },
    {
     "name": "stderr",
     "output_type": "stream",
     "text": [
      "\r",
      " 41%|████      | 1028/2499 [31:04<44:52,  1.83s/it]"
     ]
    },
    {
     "name": "stdout",
     "output_type": "stream",
     "text": [
      "'validation loss is 0.9817794471979141 '\n",
      "'validation accuracy is 0.8194335937500001 '\n",
      "'Epoch: 1029'\n",
      "'training loss is 0.06330712038007649 '\n",
      "'training accuracy is 0.984659090909091 '\n",
      "'Epoch: 1029'\n"
     ]
    },
    {
     "name": "stderr",
     "output_type": "stream",
     "text": [
      "\r",
      " 41%|████      | 1029/2499 [31:06<45:13,  1.85s/it]"
     ]
    },
    {
     "name": "stdout",
     "output_type": "stream",
     "text": [
      "'validation loss is 0.9721774473786354 '\n",
      "'validation accuracy is 0.8208984375000001 '\n",
      "'Epoch: 1030'\n",
      "'training loss is 0.06310493431308052 '\n",
      "'training accuracy is 0.984659090909091 '\n",
      "'Epoch: 1030'\n"
     ]
    },
    {
     "name": "stderr",
     "output_type": "stream",
     "text": [
      "\r",
      " 41%|████      | 1030/2499 [31:08<44:48,  1.83s/it]"
     ]
    },
    {
     "name": "stdout",
     "output_type": "stream",
     "text": [
      "'validation loss is 0.9729073077440262 '\n",
      "'validation accuracy is 0.8203125000000002 '\n",
      "'Epoch: 1031'\n",
      "'training loss is 0.06321496685797517 '\n",
      "'training accuracy is 0.984659090909091 '\n",
      "'Epoch: 1031'\n"
     ]
    },
    {
     "name": "stderr",
     "output_type": "stream",
     "text": [
      "\r",
      " 41%|████▏     | 1031/2499 [31:10<44:43,  1.83s/it]"
     ]
    },
    {
     "name": "stdout",
     "output_type": "stream",
     "text": [
      "'validation loss is 0.9792528107762337 '\n",
      "'validation accuracy is 0.8194335937500004 '\n",
      "'Epoch: 1032'\n",
      "'training loss is 0.06324602392586795 '\n",
      "'training accuracy is 0.984659090909091 '\n",
      "'Epoch: 1032'\n"
     ]
    },
    {
     "name": "stderr",
     "output_type": "stream",
     "text": [
      "\r",
      " 41%|████▏     | 1032/2499 [31:12<44:08,  1.81s/it]"
     ]
    },
    {
     "name": "stdout",
     "output_type": "stream",
     "text": [
      "'validation loss is 0.9818935289978981 '\n",
      "'validation accuracy is 0.8203125000000002 '\n",
      "'Epoch: 1033'\n",
      "'training loss is 0.06342392076145519 '\n",
      "'training accuracy is 0.984659090909091 '\n",
      "'Epoch: 1033'\n"
     ]
    },
    {
     "name": "stderr",
     "output_type": "stream",
     "text": [
      "\r",
      " 41%|████▏     | 1033/2499 [31:13<44:10,  1.81s/it]"
     ]
    },
    {
     "name": "stdout",
     "output_type": "stream",
     "text": [
      "'validation loss is 0.9867984905838967 '\n",
      "'validation accuracy is 0.8194335937500001 '\n",
      "'Epoch: 1034'\n",
      "'training loss is 0.06325563246553595 '\n",
      "'training accuracy is 0.984659090909091 '\n",
      "'Epoch: 1034'\n"
     ]
    },
    {
     "name": "stderr",
     "output_type": "stream",
     "text": [
      "\r",
      " 41%|████▏     | 1034/2499 [31:15<44:02,  1.80s/it]"
     ]
    },
    {
     "name": "stdout",
     "output_type": "stream",
     "text": [
      "'validation loss is 0.9836433559656144 '\n",
      "'validation accuracy is 0.8191406250000002 '\n",
      "'Epoch: 1035'\n",
      "'training loss is 0.06295185603878715 '\n",
      "'training accuracy is 0.984659090909091 '\n",
      "'Epoch: 1035'\n"
     ]
    },
    {
     "name": "stderr",
     "output_type": "stream",
     "text": [
      "\r",
      " 41%|████▏     | 1035/2499 [31:17<44:18,  1.82s/it]"
     ]
    },
    {
     "name": "stdout",
     "output_type": "stream",
     "text": [
      "'validation loss is 0.9855132699012756 '\n",
      "'validation accuracy is 0.8191406250000002 '\n",
      "'Epoch: 1036'\n",
      "'training loss is 0.06328944624824957 '\n",
      "'training accuracy is 0.984659090909091 '\n",
      "'Epoch: 1036'\n"
     ]
    },
    {
     "name": "stderr",
     "output_type": "stream",
     "text": [
      "\r",
      " 41%|████▏     | 1036/2499 [31:19<43:47,  1.80s/it]"
     ]
    },
    {
     "name": "stdout",
     "output_type": "stream",
     "text": [
      "'validation loss is 0.9831576332449913 '\n",
      "'validation accuracy is 0.8194335937500001 '\n",
      "'Epoch: 1037'\n",
      "'training loss is 0.06317738579078154 '\n",
      "'training accuracy is 0.984659090909091 '\n",
      "'Epoch: 1037'\n"
     ]
    },
    {
     "name": "stderr",
     "output_type": "stream",
     "text": [
      "\r",
      " 41%|████▏     | 1037/2499 [31:21<44:26,  1.82s/it]"
     ]
    },
    {
     "name": "stdout",
     "output_type": "stream",
     "text": [
      "'validation loss is 0.9837685823440552 '\n",
      "'validation accuracy is 0.8194335937500001 '\n",
      "'Epoch: 1038'\n",
      "'training loss is 0.06327312913807956 '\n",
      "'training accuracy is 0.9846590909090908 '\n",
      "'Epoch: 1038'\n"
     ]
    },
    {
     "name": "stderr",
     "output_type": "stream",
     "text": [
      "\r",
      " 42%|████▏     | 1038/2499 [31:22<44:35,  1.83s/it]"
     ]
    },
    {
     "name": "stdout",
     "output_type": "stream",
     "text": [
      "'validation loss is 0.9837326183915138 '\n",
      "'validation accuracy is 0.8197265625 '\n",
      "'Epoch: 1039'\n",
      "'training loss is 0.06285657598213716 '\n",
      "'training accuracy is 0.9846590909090908 '\n",
      "'Epoch: 1039'\n"
     ]
    },
    {
     "name": "stderr",
     "output_type": "stream",
     "text": [
      "\r",
      " 42%|████▏     | 1039/2499 [31:24<44:56,  1.85s/it]"
     ]
    },
    {
     "name": "stdout",
     "output_type": "stream",
     "text": [
      "'validation loss is 0.9854890450835228 '\n",
      "'validation accuracy is 0.8197265625 '\n",
      "'Epoch: 1040'\n",
      "'training loss is 0.06327465244314888 '\n",
      "'training accuracy is 0.984659090909091 '\n",
      "'Epoch: 1040'\n"
     ]
    },
    {
     "name": "stderr",
     "output_type": "stream",
     "text": [
      "\r",
      " 42%|████▏     | 1040/2499 [31:26<44:00,  1.81s/it]"
     ]
    },
    {
     "name": "stdout",
     "output_type": "stream",
     "text": [
      "'validation loss is 0.9773935109376908 '\n",
      "'validation accuracy is 0.8197265625000002 '\n",
      "'Epoch: 1041'\n",
      "'training loss is 0.06323436783118681 '\n",
      "'training accuracy is 0.984659090909091 '\n",
      "'Epoch: 1041'\n"
     ]
    },
    {
     "name": "stderr",
     "output_type": "stream",
     "text": [
      "\r",
      " 42%|████▏     | 1041/2499 [31:28<44:11,  1.82s/it]"
     ]
    },
    {
     "name": "stdout",
     "output_type": "stream",
     "text": [
      "'validation loss is 0.9834231898188591 '\n",
      "'validation accuracy is 0.8200195312500002 '\n",
      "'Epoch: 1042'\n",
      "'training loss is 0.0632070197977803 '\n",
      "'training accuracy is 0.984659090909091 '\n",
      "'Epoch: 1042'\n"
     ]
    },
    {
     "name": "stderr",
     "output_type": "stream",
     "text": [
      "\r",
      " 42%|████▏     | 1042/2499 [31:30<43:40,  1.80s/it]"
     ]
    },
    {
     "name": "stdout",
     "output_type": "stream",
     "text": [
      "'validation loss is 0.9845381885766983 '\n",
      "'validation accuracy is 0.8197265625000003 '\n",
      "'Epoch: 1043'\n",
      "'training loss is 0.06328551369634541 '\n",
      "'training accuracy is 0.984659090909091 '\n",
      "'Epoch: 1043'\n"
     ]
    },
    {
     "name": "stderr",
     "output_type": "stream",
     "text": [
      "\r",
      " 42%|████▏     | 1043/2499 [31:31<43:08,  1.78s/it]"
     ]
    },
    {
     "name": "stdout",
     "output_type": "stream",
     "text": [
      "'validation loss is 0.9860206365585327 '\n",
      "'validation accuracy is 0.8197265625000002 '\n",
      "'Epoch: 1044'\n",
      "'training loss is 0.06316514753482559 '\n",
      "'training accuracy is 0.9846590909090911 '\n",
      "'Epoch: 1044'\n"
     ]
    },
    {
     "name": "stderr",
     "output_type": "stream",
     "text": [
      "\r",
      " 42%|████▏     | 1044/2499 [31:33<43:41,  1.80s/it]"
     ]
    },
    {
     "name": "stdout",
     "output_type": "stream",
     "text": [
      "'validation loss is 0.9836881652474403 '\n",
      "'validation accuracy is 0.8197265625000002 '\n",
      "'Epoch: 1045'\n",
      "'training loss is 0.06300992010669275 '\n",
      "'training accuracy is 0.984659090909091 '\n",
      "'Epoch: 1045'\n"
     ]
    },
    {
     "name": "stderr",
     "output_type": "stream",
     "text": [
      "\r",
      " 42%|████▏     | 1045/2499 [31:35<43:52,  1.81s/it]"
     ]
    },
    {
     "name": "stdout",
     "output_type": "stream",
     "text": [
      "'validation loss is 0.9860853970050811 '\n",
      "'validation accuracy is 0.819140625 '\n",
      "'Epoch: 1046'\n",
      "'training loss is 0.06292045522819865 '\n",
      "'training accuracy is 0.984659090909091 '\n",
      "'Epoch: 1046'\n"
     ]
    },
    {
     "name": "stderr",
     "output_type": "stream",
     "text": [
      "\r",
      " 42%|████▏     | 1046/2499 [31:37<44:17,  1.83s/it]"
     ]
    },
    {
     "name": "stdout",
     "output_type": "stream",
     "text": [
      "'validation loss is 0.9789892628788948 '\n",
      "'validation accuracy is 0.8194335937500004 '\n",
      "'Epoch: 1047'\n",
      "'training loss is 0.06332822144031525 '\n",
      "'training accuracy is 0.9846590909090908 '\n",
      "'Epoch: 1047'\n"
     ]
    },
    {
     "name": "stderr",
     "output_type": "stream",
     "text": [
      "\r",
      " 42%|████▏     | 1047/2499 [31:39<44:11,  1.83s/it]"
     ]
    },
    {
     "name": "stdout",
     "output_type": "stream",
     "text": [
      "'validation loss is 0.9824021443724632 '\n",
      "'validation accuracy is 0.8197265625000002 '\n",
      "'Epoch: 1048'\n",
      "'training loss is 0.06299618665467609 '\n",
      "'training accuracy is 0.984659090909091 '\n",
      "'Epoch: 1048'\n"
     ]
    },
    {
     "name": "stderr",
     "output_type": "stream",
     "text": [
      "\r",
      " 42%|████▏     | 1048/2499 [31:41<44:14,  1.83s/it]"
     ]
    },
    {
     "name": "stdout",
     "output_type": "stream",
     "text": [
      "'validation loss is 0.9851466357707978 '\n",
      "'validation accuracy is 0.8191406250000002 '\n",
      "'Epoch: 1049'\n",
      "'training loss is 0.06304920837283134 '\n",
      "'training accuracy is 0.9846590909090908 '\n",
      "'Epoch: 1049'\n"
     ]
    },
    {
     "name": "stderr",
     "output_type": "stream",
     "text": [
      "\r",
      " 42%|████▏     | 1049/2499 [31:42<43:27,  1.80s/it]"
     ]
    },
    {
     "name": "stdout",
     "output_type": "stream",
     "text": [
      "'validation loss is 0.9800881952047348 '\n",
      "'validation accuracy is 0.8191406250000004 '\n",
      "'Epoch: 1050'\n",
      "'training loss is 0.0635402954437516 '\n",
      "'training accuracy is 0.984659090909091 '\n",
      "'Epoch: 1050'\n"
     ]
    },
    {
     "name": "stderr",
     "output_type": "stream",
     "text": [
      "\r",
      " 42%|████▏     | 1050/2499 [31:44<42:58,  1.78s/it]"
     ]
    },
    {
     "name": "stdout",
     "output_type": "stream",
     "text": [
      "'validation loss is 0.9822353646159172 '\n",
      "'validation accuracy is 0.8197265625000002 '\n",
      "'Epoch: 1051'\n",
      "'training loss is 0.06328914619304916 '\n",
      "'training accuracy is 0.984659090909091 '\n",
      "'Epoch: 1051'\n"
     ]
    },
    {
     "name": "stderr",
     "output_type": "stream",
     "text": [
      "\r",
      " 42%|████▏     | 1051/2499 [31:46<43:19,  1.80s/it]"
     ]
    },
    {
     "name": "stdout",
     "output_type": "stream",
     "text": [
      "'validation loss is 0.977134944498539 '\n",
      "'validation accuracy is 0.8197265625000002 '\n",
      "'Epoch: 1052'\n",
      "'training loss is 0.063098897988146 '\n",
      "'training accuracy is 0.984659090909091 '\n",
      "'Epoch: 1052'\n"
     ]
    },
    {
     "name": "stderr",
     "output_type": "stream",
     "text": [
      "\r",
      " 42%|████▏     | 1052/2499 [31:48<43:20,  1.80s/it]"
     ]
    },
    {
     "name": "stdout",
     "output_type": "stream",
     "text": [
      "'validation loss is 0.9839262172579766 '\n",
      "'validation accuracy is 0.8194335937500004 '\n",
      "'Epoch: 1053'\n",
      "'training loss is 0.06334164196794684 '\n",
      "'training accuracy is 0.9846590909090908 '\n",
      "'Epoch: 1053'\n"
     ]
    },
    {
     "name": "stderr",
     "output_type": "stream",
     "text": [
      "\r",
      " 42%|████▏     | 1053/2499 [31:50<43:33,  1.81s/it]"
     ]
    },
    {
     "name": "stdout",
     "output_type": "stream",
     "text": [
      "'validation loss is 0.9798280790448188 '\n",
      "'validation accuracy is 0.8200195312500002 '\n",
      "'Epoch: 1054'\n",
      "'training loss is 0.0632807073945349 '\n",
      "'training accuracy is 0.9846590909090911 '\n",
      "'Epoch: 1054'\n"
     ]
    },
    {
     "name": "stderr",
     "output_type": "stream",
     "text": [
      "\r",
      " 42%|████▏     | 1054/2499 [31:51<43:18,  1.80s/it]"
     ]
    },
    {
     "name": "stdout",
     "output_type": "stream",
     "text": [
      "'validation loss is 0.9800608947873115 '\n",
      "'validation accuracy is 0.8197265625000002 '\n",
      "'Epoch: 1055'\n",
      "'training loss is 0.06298446215011856 '\n",
      "'training accuracy is 0.9846590909090908 '\n",
      "'Epoch: 1055'\n"
     ]
    },
    {
     "name": "stderr",
     "output_type": "stream",
     "text": [
      "\r",
      " 42%|████▏     | 1055/2499 [31:53<43:11,  1.79s/it]"
     ]
    },
    {
     "name": "stdout",
     "output_type": "stream",
     "text": [
      "'validation loss is 0.9800261810421944 '\n",
      "'validation accuracy is 0.8197265625000002 '\n",
      "'Epoch: 1056'\n",
      "'training loss is 0.06322279437021776 '\n",
      "'training accuracy is 0.984659090909091 '\n",
      "'Epoch: 1056'\n"
     ]
    },
    {
     "name": "stderr",
     "output_type": "stream",
     "text": [
      "\r",
      " 42%|████▏     | 1056/2499 [31:55<43:50,  1.82s/it]"
     ]
    },
    {
     "name": "stdout",
     "output_type": "stream",
     "text": [
      "'validation loss is 0.9791188612580299 '\n",
      "'validation accuracy is 0.8197265625000002 '\n",
      "'Epoch: 1057'\n",
      "'training loss is 0.06286909600550478 '\n",
      "'training accuracy is 0.984659090909091 '\n",
      "'Epoch: 1057'\n"
     ]
    },
    {
     "name": "stderr",
     "output_type": "stream",
     "text": [
      "\r",
      " 42%|████▏     | 1057/2499 [31:57<43:32,  1.81s/it]"
     ]
    },
    {
     "name": "stdout",
     "output_type": "stream",
     "text": [
      "'validation loss is 0.9778806269168854 '\n",
      "'validation accuracy is 0.8197265625000002 '\n",
      "'Epoch: 1058'\n",
      "'training loss is 0.06309702924706719 '\n",
      "'training accuracy is 0.9846590909090908 '\n",
      "'Epoch: 1058'\n"
     ]
    },
    {
     "name": "stderr",
     "output_type": "stream",
     "text": [
      "\r",
      " 42%|████▏     | 1058/2499 [31:59<43:30,  1.81s/it]"
     ]
    },
    {
     "name": "stdout",
     "output_type": "stream",
     "text": [
      "'validation loss is 0.977450841665268 '\n",
      "'validation accuracy is 0.8197265625000002 '\n",
      "'Epoch: 1059'\n",
      "'training loss is 0.06297586248679594 '\n",
      "'training accuracy is 0.9846590909090911 '\n",
      "'Epoch: 1059'\n"
     ]
    },
    {
     "name": "stderr",
     "output_type": "stream",
     "text": [
      "\r",
      " 42%|████▏     | 1059/2499 [32:00<43:16,  1.80s/it]"
     ]
    },
    {
     "name": "stdout",
     "output_type": "stream",
     "text": [
      "'validation loss is 0.9819798797369004 '\n",
      "'validation accuracy is 0.8194335937500001 '\n",
      "'Epoch: 1060'\n",
      "'training loss is 0.06307335265658119 '\n",
      "'training accuracy is 0.9846590909090908 '\n",
      "'Epoch: 1060'\n"
     ]
    },
    {
     "name": "stderr",
     "output_type": "stream",
     "text": [
      "\r",
      " 42%|████▏     | 1060/2499 [32:02<42:55,  1.79s/it]"
     ]
    },
    {
     "name": "stdout",
     "output_type": "stream",
     "text": [
      "'validation loss is 0.981391191482544 '\n",
      "'validation accuracy is 0.8194335937500001 '\n",
      "'Epoch: 1061'\n",
      "'training loss is 0.06344524432312358 '\n",
      "'training accuracy is 0.9846590909090908 '\n",
      "'Epoch: 1061'\n"
     ]
    },
    {
     "name": "stderr",
     "output_type": "stream",
     "text": [
      "\r",
      " 42%|████▏     | 1061/2499 [32:04<43:02,  1.80s/it]"
     ]
    },
    {
     "name": "stdout",
     "output_type": "stream",
     "text": [
      "'validation loss is 0.981013385951519 '\n",
      "'validation accuracy is 0.8194335937500001 '\n",
      "'Epoch: 1062'\n",
      "'training loss is 0.06292806531895291 '\n",
      "'training accuracy is 0.984659090909091 '\n",
      "'Epoch: 1062'\n"
     ]
    },
    {
     "name": "stderr",
     "output_type": "stream",
     "text": [
      "\r",
      " 42%|████▏     | 1062/2499 [32:06<43:01,  1.80s/it]"
     ]
    },
    {
     "name": "stdout",
     "output_type": "stream",
     "text": [
      "'validation loss is 0.9785786241292953 '\n",
      "'validation accuracy is 0.8197265625000002 '\n",
      "'Epoch: 1063'\n",
      "'training loss is 0.06287396225062283 '\n",
      "'training accuracy is 0.984659090909091 '\n",
      "'Epoch: 1063'\n"
     ]
    },
    {
     "name": "stderr",
     "output_type": "stream",
     "text": [
      "\r",
      " 43%|████▎     | 1063/2499 [32:08<42:53,  1.79s/it]"
     ]
    },
    {
     "name": "stdout",
     "output_type": "stream",
     "text": [
      "'validation loss is 0.9795321583747864 '\n",
      "'validation accuracy is 0.8194335937500001 '\n",
      "'Epoch: 1064'\n",
      "'training loss is 0.06328555806116624 '\n",
      "'training accuracy is 0.9846590909090908 '\n",
      "'Epoch: 1064'\n"
     ]
    },
    {
     "name": "stderr",
     "output_type": "stream",
     "text": [
      "\r",
      " 43%|████▎     | 1064/2499 [32:09<42:42,  1.79s/it]"
     ]
    },
    {
     "name": "stdout",
     "output_type": "stream",
     "text": [
      "'validation loss is 0.9807453006505966 '\n",
      "'validation accuracy is 0.8197265625000003 '\n",
      "'Epoch: 1065'\n",
      "'training loss is 0.06318036263639276 '\n",
      "'training accuracy is 0.984659090909091 '\n",
      "'Epoch: 1065'\n"
     ]
    },
    {
     "name": "stderr",
     "output_type": "stream",
     "text": [
      "\r",
      " 43%|████▎     | 1065/2499 [32:11<43:14,  1.81s/it]"
     ]
    },
    {
     "name": "stdout",
     "output_type": "stream",
     "text": [
      "'validation loss is 0.9846253275871277 '\n",
      "'validation accuracy is 0.8191406250000002 '\n",
      "'Epoch: 1066'\n",
      "'training loss is 0.06322943114421585 '\n",
      "'training accuracy is 0.984659090909091 '\n",
      "'Epoch: 1066'\n"
     ]
    },
    {
     "name": "stderr",
     "output_type": "stream",
     "text": [
      "\r",
      " 43%|████▎     | 1066/2499 [32:13<42:54,  1.80s/it]"
     ]
    },
    {
     "name": "stdout",
     "output_type": "stream",
     "text": [
      "'validation loss is 0.9763333141803742 '\n",
      "'validation accuracy is 0.8197265625000002 '\n",
      "'Epoch: 1067'\n",
      "'training loss is 0.0629136332056739 '\n",
      "'training accuracy is 0.9846590909090908 '\n",
      "'Epoch: 1067'\n"
     ]
    },
    {
     "name": "stderr",
     "output_type": "stream",
     "text": [
      "\r",
      " 43%|████▎     | 1067/2499 [32:15<42:40,  1.79s/it]"
     ]
    },
    {
     "name": "stdout",
     "output_type": "stream",
     "text": [
      "'validation loss is 0.9769774988293648 '\n",
      "'validation accuracy is 0.8197265625000002 '\n",
      "'Epoch: 1068'\n",
      "'training loss is 0.06297767026857896 '\n",
      "'training accuracy is 0.984659090909091 '\n",
      "'Epoch: 1068'\n"
     ]
    },
    {
     "name": "stderr",
     "output_type": "stream",
     "text": [
      "\r",
      " 43%|████▎     | 1068/2499 [32:16<42:37,  1.79s/it]"
     ]
    },
    {
     "name": "stdout",
     "output_type": "stream",
     "text": [
      "'validation loss is 0.9784940049052239 '\n",
      "'validation accuracy is 0.8194335937500001 '\n",
      "'Epoch: 1069'\n",
      "'training loss is 0.0628507479347966 '\n",
      "'training accuracy is 0.9846590909090911 '\n",
      "'Epoch: 1069'\n"
     ]
    },
    {
     "name": "stderr",
     "output_type": "stream",
     "text": [
      "\r",
      " 43%|████▎     | 1069/2499 [32:18<42:51,  1.80s/it]"
     ]
    },
    {
     "name": "stdout",
     "output_type": "stream",
     "text": [
      "'validation loss is 0.9770622014999389 '\n",
      "'validation accuracy is 0.8194335937500001 '\n",
      "'Epoch: 1070'\n",
      "'training loss is 0.06298286095261574 '\n",
      "'training accuracy is 0.984659090909091 '\n",
      "'Epoch: 1070'\n"
     ]
    },
    {
     "name": "stderr",
     "output_type": "stream",
     "text": [
      "\r",
      " 43%|████▎     | 1070/2499 [32:20<42:38,  1.79s/it]"
     ]
    },
    {
     "name": "stdout",
     "output_type": "stream",
     "text": [
      "'validation loss is 0.9759564846754074 '\n",
      "'validation accuracy is 0.8194335937500001 '\n",
      "'Epoch: 1071'\n",
      "'training loss is 0.0631477263840762 '\n",
      "'training accuracy is 0.984659090909091 '\n",
      "'Epoch: 1071'\n"
     ]
    },
    {
     "name": "stderr",
     "output_type": "stream",
     "text": [
      "\r",
      " 43%|████▎     | 1071/2499 [32:22<43:04,  1.81s/it]"
     ]
    },
    {
     "name": "stdout",
     "output_type": "stream",
     "text": [
      "'validation loss is 0.979232007265091 '\n",
      "'validation accuracy is 0.8191406250000002 '\n",
      "'Epoch: 1072'\n",
      "'training loss is 0.06317448311231354 '\n",
      "'training accuracy is 0.984659090909091 '\n",
      "'Epoch: 1072'\n"
     ]
    },
    {
     "name": "stderr",
     "output_type": "stream",
     "text": [
      "\r",
      " 43%|████▎     | 1072/2499 [32:24<42:51,  1.80s/it]"
     ]
    },
    {
     "name": "stdout",
     "output_type": "stream",
     "text": [
      "'validation loss is 0.970724330842495 '\n",
      "'validation accuracy is 0.8194335937500001 '\n",
      "'Epoch: 1073'\n",
      "'training loss is 0.06306339766491544 '\n",
      "'training accuracy is 0.9846590909090908 '\n",
      "'Epoch: 1073'\n"
     ]
    },
    {
     "name": "stderr",
     "output_type": "stream",
     "text": [
      "\r",
      " 43%|████▎     | 1073/2499 [32:26<43:01,  1.81s/it]"
     ]
    },
    {
     "name": "stdout",
     "output_type": "stream",
     "text": [
      "'validation loss is 0.9763193517923355 '\n",
      "'validation accuracy is 0.8194335937500001 '\n",
      "'Epoch: 1074'\n",
      "'training loss is 0.06318699094382199 '\n",
      "'training accuracy is 0.984659090909091 '\n",
      "'Epoch: 1074'\n"
     ]
    },
    {
     "name": "stderr",
     "output_type": "stream",
     "text": [
      "\r",
      " 43%|████▎     | 1074/2499 [32:27<42:25,  1.79s/it]"
     ]
    },
    {
     "name": "stdout",
     "output_type": "stream",
     "text": [
      "'validation loss is 0.9750623390078544 '\n",
      "'validation accuracy is 0.8194335937500001 '\n",
      "'Epoch: 1075'\n",
      "'training loss is 0.06311157819899646 '\n",
      "'training accuracy is 0.9846590909090908 '\n",
      "'Epoch: 1075'\n"
     ]
    },
    {
     "name": "stderr",
     "output_type": "stream",
     "text": [
      "\r",
      " 43%|████▎     | 1075/2499 [32:29<42:07,  1.78s/it]"
     ]
    },
    {
     "name": "stdout",
     "output_type": "stream",
     "text": [
      "'validation loss is 0.9758521601557731 '\n",
      "'validation accuracy is 0.8191406250000002 '\n",
      "'Epoch: 1076'\n",
      "'training loss is 0.06301209195093675 '\n",
      "'training accuracy is 0.9846590909090908 '\n",
      "'Epoch: 1076'\n"
     ]
    },
    {
     "name": "stderr",
     "output_type": "stream",
     "text": [
      "\r",
      " 43%|████▎     | 1076/2499 [32:31<42:57,  1.81s/it]"
     ]
    },
    {
     "name": "stdout",
     "output_type": "stream",
     "text": [
      "'validation loss is 0.973476518690586 '\n",
      "'validation accuracy is 0.8197265625000002 '\n",
      "'Epoch: 1077'\n",
      "'training loss is 0.0629287910732356 '\n",
      "'training accuracy is 0.9846590909090908 '\n",
      "'Epoch: 1077'\n"
     ]
    },
    {
     "name": "stderr",
     "output_type": "stream",
     "text": [
      "\r",
      " 43%|████▎     | 1077/2499 [32:33<43:34,  1.84s/it]"
     ]
    },
    {
     "name": "stdout",
     "output_type": "stream",
     "text": [
      "'validation loss is 0.973957522213459 '\n",
      "'validation accuracy is 0.8197265625000003 '\n",
      "'Epoch: 1078'\n",
      "'training loss is 0.06311147930947217 '\n",
      "'training accuracy is 0.984659090909091 '\n",
      "'Epoch: 1078'\n"
     ]
    },
    {
     "name": "stderr",
     "output_type": "stream",
     "text": [
      "\r",
      " 43%|████▎     | 1078/2499 [32:35<43:32,  1.84s/it]"
     ]
    },
    {
     "name": "stdout",
     "output_type": "stream",
     "text": [
      "'validation loss is 0.9678614556789398 '\n",
      "'validation accuracy is 0.8203125000000003 '\n",
      "'Epoch: 1079'\n",
      "'training loss is 0.06296190382404761 '\n",
      "'training accuracy is 0.984659090909091 '\n",
      "'Epoch: 1079'\n"
     ]
    },
    {
     "name": "stderr",
     "output_type": "stream",
     "text": [
      "\r",
      " 43%|████▎     | 1079/2499 [32:36<43:26,  1.84s/it]"
     ]
    },
    {
     "name": "stdout",
     "output_type": "stream",
     "text": [
      "'validation loss is 0.9755513444542885 '\n",
      "'validation accuracy is 0.8194335937500001 '\n",
      "'Epoch: 1080'\n",
      "'training loss is 0.06335340812802315 '\n",
      "'training accuracy is 0.984659090909091 '\n",
      "'Epoch: 1080'\n"
     ]
    },
    {
     "name": "stderr",
     "output_type": "stream",
     "text": [
      "\r",
      " 43%|████▎     | 1080/2499 [32:38<43:14,  1.83s/it]"
     ]
    },
    {
     "name": "stdout",
     "output_type": "stream",
     "text": [
      "'validation loss is 0.9720516845583915 '\n",
      "'validation accuracy is 0.8200195312500002 '\n",
      "'Epoch: 1081'\n",
      "'training loss is 0.0629187368533828 '\n",
      "'training accuracy is 0.9846590909090911 '\n",
      "'Epoch: 1081'\n"
     ]
    },
    {
     "name": "stderr",
     "output_type": "stream",
     "text": [
      "\r",
      " 43%|████▎     | 1081/2499 [32:40<42:44,  1.81s/it]"
     ]
    },
    {
     "name": "stdout",
     "output_type": "stream",
     "text": [
      "'validation loss is 0.9757045581936836 '\n",
      "'validation accuracy is 0.8191406250000002 '\n",
      "'Epoch: 1082'\n",
      "'training loss is 0.06325189024209976 '\n",
      "'training accuracy is 0.984659090909091 '\n",
      "'Epoch: 1082'\n"
     ]
    },
    {
     "name": "stderr",
     "output_type": "stream",
     "text": [
      "\r",
      " 43%|████▎     | 1082/2499 [32:42<42:59,  1.82s/it]"
     ]
    },
    {
     "name": "stdout",
     "output_type": "stream",
     "text": [
      "'validation loss is 0.972066031396389 '\n",
      "'validation accuracy is 0.8197265625000002 '\n",
      "'Epoch: 1083'\n",
      "'training loss is 0.06284036351875825 '\n",
      "'training accuracy is 0.984659090909091 '\n",
      "'Epoch: 1083'\n"
     ]
    },
    {
     "name": "stderr",
     "output_type": "stream",
     "text": [
      "\r",
      " 43%|████▎     | 1083/2499 [32:44<42:48,  1.81s/it]"
     ]
    },
    {
     "name": "stdout",
     "output_type": "stream",
     "text": [
      "'validation loss is 0.9729552954435349 '\n",
      "'validation accuracy is 0.8197265625000002 '\n",
      "'Epoch: 1084'\n",
      "'training loss is 0.06293605809861963 '\n",
      "'training accuracy is 0.9846590909090908 '\n",
      "'Epoch: 1084'\n"
     ]
    },
    {
     "name": "stderr",
     "output_type": "stream",
     "text": [
      "\r",
      " 43%|████▎     | 1084/2499 [32:46<42:41,  1.81s/it]"
     ]
    },
    {
     "name": "stdout",
     "output_type": "stream",
     "text": [
      "'validation loss is 0.9754035115242005 '\n",
      "'validation accuracy is 0.8194335937500001 '\n",
      "'Epoch: 1085'\n",
      "'training loss is 0.0631799464198676 '\n",
      "'training accuracy is 0.984659090909091 '\n",
      "'Epoch: 1085'\n"
     ]
    },
    {
     "name": "stderr",
     "output_type": "stream",
     "text": [
      "\r",
      " 43%|████▎     | 1085/2499 [32:47<42:56,  1.82s/it]"
     ]
    },
    {
     "name": "stdout",
     "output_type": "stream",
     "text": [
      "'validation loss is 0.9744727775454521 '\n",
      "'validation accuracy is 0.8194335937500001 '\n",
      "'Epoch: 1086'\n",
      "'training loss is 0.06306483461098238 '\n",
      "'training accuracy is 0.984659090909091 '\n",
      "'Epoch: 1086'\n"
     ]
    },
    {
     "name": "stderr",
     "output_type": "stream",
     "text": [
      "\r",
      " 43%|████▎     | 1086/2499 [32:49<43:07,  1.83s/it]"
     ]
    },
    {
     "name": "stdout",
     "output_type": "stream",
     "text": [
      "'validation loss is 0.9749252945184708 '\n",
      "'validation accuracy is 0.8191406250000002 '\n",
      "'Epoch: 1087'\n",
      "'training loss is 0.06308028237386183 '\n",
      "'training accuracy is 0.984659090909091 '\n",
      "'Epoch: 1087'\n"
     ]
    },
    {
     "name": "stderr",
     "output_type": "stream",
     "text": [
      "\r",
      " 43%|████▎     | 1087/2499 [32:51<42:52,  1.82s/it]"
     ]
    },
    {
     "name": "stdout",
     "output_type": "stream",
     "text": [
      "'validation loss is 0.9683759778738021 '\n",
      "'validation accuracy is 0.8203125000000002 '\n",
      "'Epoch: 1088'\n",
      "'training loss is 0.06318106570027092 '\n",
      "'training accuracy is 0.984659090909091 '\n",
      "'Epoch: 1088'\n"
     ]
    },
    {
     "name": "stderr",
     "output_type": "stream",
     "text": [
      "\r",
      " 44%|████▎     | 1088/2499 [32:53<43:04,  1.83s/it]"
     ]
    },
    {
     "name": "stdout",
     "output_type": "stream",
     "text": [
      "'validation loss is 0.9715535879135132 '\n",
      "'validation accuracy is 0.8197265625000002 '\n",
      "'Epoch: 1089'\n",
      "'training loss is 0.06299386139620435 '\n",
      "'training accuracy is 0.984659090909091 '\n",
      "'Epoch: 1089'\n"
     ]
    },
    {
     "name": "stderr",
     "output_type": "stream",
     "text": [
      "\r",
      " 44%|████▎     | 1089/2499 [32:55<43:17,  1.84s/it]"
     ]
    },
    {
     "name": "stdout",
     "output_type": "stream",
     "text": [
      "'validation loss is 0.9756350010633469 '\n",
      "'validation accuracy is 0.8197265625000002 '\n",
      "'Epoch: 1090'\n",
      "'training loss is 0.0630704743618315 '\n",
      "'training accuracy is 0.984659090909091 '\n",
      "'Epoch: 1090'\n"
     ]
    },
    {
     "name": "stderr",
     "output_type": "stream",
     "text": [
      "\r",
      " 44%|████▎     | 1090/2499 [32:57<43:27,  1.85s/it]"
     ]
    },
    {
     "name": "stdout",
     "output_type": "stream",
     "text": [
      "'validation loss is 0.9797534614801406 '\n",
      "'validation accuracy is 0.8197265625000003 '\n",
      "'Epoch: 1091'\n",
      "'training loss is 0.06307372857223857 '\n",
      "'training accuracy is 0.984659090909091 '\n",
      "'Epoch: 1091'\n"
     ]
    },
    {
     "name": "stderr",
     "output_type": "stream",
     "text": [
      "\r",
      " 44%|████▎     | 1091/2499 [32:59<44:12,  1.88s/it]"
     ]
    },
    {
     "name": "stdout",
     "output_type": "stream",
     "text": [
      "'validation loss is 0.9779425531625747 '\n",
      "'validation accuracy is 0.8194335937500001 '\n",
      "'Epoch: 1092'\n",
      "'training loss is 0.06302818588235161 '\n",
      "'training accuracy is 0.984659090909091 '\n",
      "'Epoch: 1092'\n"
     ]
    },
    {
     "name": "stderr",
     "output_type": "stream",
     "text": [
      "\r",
      " 44%|████▎     | 1092/2499 [33:00<44:00,  1.88s/it]"
     ]
    },
    {
     "name": "stdout",
     "output_type": "stream",
     "text": [
      "'validation loss is 0.9772381454706192 '\n",
      "'validation accuracy is 0.8197265625000002 '\n",
      "'Epoch: 1093'\n",
      "'training loss is 0.06302073834971948 '\n",
      "'training accuracy is 0.984659090909091 '\n",
      "'Epoch: 1093'\n"
     ]
    },
    {
     "name": "stderr",
     "output_type": "stream",
     "text": [
      "\r",
      " 44%|████▎     | 1093/2499 [33:02<43:08,  1.84s/it]"
     ]
    },
    {
     "name": "stdout",
     "output_type": "stream",
     "text": [
      "'validation loss is 0.9723088890314102 '\n",
      "'validation accuracy is 0.8197265625000002 '\n",
      "'Epoch: 1094'\n",
      "'training loss is 0.06306527385657484 '\n",
      "'training accuracy is 0.9846590909090911 '\n",
      "'Epoch: 1094'\n"
     ]
    },
    {
     "name": "stderr",
     "output_type": "stream",
     "text": [
      "\r",
      " 44%|████▍     | 1094/2499 [33:04<43:25,  1.85s/it]"
     ]
    },
    {
     "name": "stdout",
     "output_type": "stream",
     "text": [
      "'validation loss is 0.9760710135102272 '\n",
      "'validation accuracy is 0.8194335937500004 '\n",
      "'Epoch: 1095'\n",
      "'training loss is 0.06307259472933682 '\n",
      "'training accuracy is 0.984659090909091 '\n",
      "'Epoch: 1095'\n"
     ]
    },
    {
     "name": "stderr",
     "output_type": "stream",
     "text": [
      "\r",
      " 44%|████▍     | 1095/2499 [33:06<43:22,  1.85s/it]"
     ]
    },
    {
     "name": "stdout",
     "output_type": "stream",
     "text": [
      "'validation loss is 0.9845083817839623 '\n",
      "'validation accuracy is 0.8191406250000002 '\n",
      "'Epoch: 1096'\n",
      "'training loss is 0.06328021362423897 '\n",
      "'training accuracy is 0.984659090909091 '\n",
      "'Epoch: 1096'\n"
     ]
    },
    {
     "name": "stderr",
     "output_type": "stream",
     "text": [
      "\r",
      " 44%|████▍     | 1096/2499 [33:08<43:11,  1.85s/it]"
     ]
    },
    {
     "name": "stdout",
     "output_type": "stream",
     "text": [
      "'validation loss is 0.9750410348176957 '\n",
      "'validation accuracy is 0.8203125000000002 '\n",
      "'Epoch: 1097'\n",
      "'training loss is 0.06285453215241432 '\n",
      "'training accuracy is 0.984659090909091 '\n",
      "'Epoch: 1097'\n"
     ]
    },
    {
     "name": "stderr",
     "output_type": "stream",
     "text": [
      "\r",
      " 44%|████▍     | 1097/2499 [33:10<43:41,  1.87s/it]"
     ]
    },
    {
     "name": "stdout",
     "output_type": "stream",
     "text": [
      "'validation loss is 0.9784842759370804 '\n",
      "'validation accuracy is 0.8191406250000002 '\n",
      "'Epoch: 1098'\n",
      "'training loss is 0.06254551796750589 '\n",
      "'training accuracy is 0.984659090909091 '\n",
      "'Epoch: 1098'\n"
     ]
    },
    {
     "name": "stderr",
     "output_type": "stream",
     "text": [
      "\r",
      " 44%|████▍     | 1098/2499 [33:12<43:36,  1.87s/it]"
     ]
    },
    {
     "name": "stdout",
     "output_type": "stream",
     "text": [
      "'validation loss is 0.9778698891401291 '\n",
      "'validation accuracy is 0.8197265625000002 '\n",
      "'Epoch: 1099'\n",
      "'training loss is 0.06274473396214572 '\n",
      "'training accuracy is 0.9846590909090908 '\n",
      "'Epoch: 1099'\n"
     ]
    },
    {
     "name": "stderr",
     "output_type": "stream",
     "text": [
      "\r",
      " 44%|████▍     | 1099/2499 [33:13<43:21,  1.86s/it]"
     ]
    },
    {
     "name": "stdout",
     "output_type": "stream",
     "text": [
      "'validation loss is 0.9753008037805557 '\n",
      "'validation accuracy is 0.819140625 '\n",
      "'Epoch: 1100'\n",
      "'training loss is 0.06323116712949493 '\n",
      "'training accuracy is 0.984659090909091 '\n",
      "'Epoch: 1100'\n"
     ]
    },
    {
     "name": "stderr",
     "output_type": "stream",
     "text": [
      "\r",
      " 44%|████▍     | 1100/2499 [33:15<42:37,  1.83s/it]"
     ]
    },
    {
     "name": "stdout",
     "output_type": "stream",
     "text": [
      "'validation loss is 0.9750589251518249 '\n",
      "'validation accuracy is 0.8191406250000004 '\n",
      "'Epoch: 1101'\n",
      "'training loss is 0.0629469897936691 '\n",
      "'training accuracy is 0.984659090909091 '\n",
      "'Epoch: 1101'\n"
     ]
    },
    {
     "name": "stderr",
     "output_type": "stream",
     "text": [
      "\r",
      " 44%|████▍     | 1101/2499 [33:17<43:04,  1.85s/it]"
     ]
    },
    {
     "name": "stdout",
     "output_type": "stream",
     "text": [
      "'validation loss is 0.9752453804016114 '\n",
      "'validation accuracy is 0.8191406250000002 '\n",
      "'Epoch: 1102'\n",
      "'training loss is 0.06328397210348737 '\n",
      "'training accuracy is 0.984659090909091 '\n",
      "'Epoch: 1102'\n"
     ]
    },
    {
     "name": "stderr",
     "output_type": "stream",
     "text": [
      "\r",
      " 44%|████▍     | 1102/2499 [33:19<42:53,  1.84s/it]"
     ]
    },
    {
     "name": "stdout",
     "output_type": "stream",
     "text": [
      "'validation loss is 0.9712891086935997 '\n",
      "'validation accuracy is 0.8194335937500001 '\n",
      "'Epoch: 1103'\n",
      "'training loss is 0.06290291994810104 '\n",
      "'training accuracy is 0.9846590909090908 '\n",
      "'Epoch: 1103'\n"
     ]
    },
    {
     "name": "stderr",
     "output_type": "stream",
     "text": [
      "\r",
      " 44%|████▍     | 1103/2499 [33:21<42:25,  1.82s/it]"
     ]
    },
    {
     "name": "stdout",
     "output_type": "stream",
     "text": [
      "'validation loss is 0.9764034062623977 '\n",
      "'validation accuracy is 0.819140625 '\n",
      "'Epoch: 1104'\n",
      "'training loss is 0.06287053972482681 '\n",
      "'training accuracy is 0.984659090909091 '\n",
      "'Epoch: 1104'\n"
     ]
    },
    {
     "name": "stderr",
     "output_type": "stream",
     "text": [
      "\r",
      " 44%|████▍     | 1104/2499 [33:23<42:48,  1.84s/it]"
     ]
    },
    {
     "name": "stdout",
     "output_type": "stream",
     "text": [
      "'validation loss is 0.9779696717858315 '\n",
      "'validation accuracy is 0.8200195312500002 '\n",
      "'Epoch: 1105'\n",
      "'training loss is 0.0629418705674735 '\n",
      "'training accuracy is 0.984659090909091 '\n",
      "'Epoch: 1105'\n"
     ]
    },
    {
     "name": "stderr",
     "output_type": "stream",
     "text": [
      "\r",
      " 44%|████▍     | 1105/2499 [33:24<42:48,  1.84s/it]"
     ]
    },
    {
     "name": "stdout",
     "output_type": "stream",
     "text": [
      "'validation loss is 0.9723439589142799 '\n",
      "'validation accuracy is 0.8197265625000003 '\n",
      "'Epoch: 1106'\n",
      "'training loss is 0.06296825070272792 '\n",
      "'training accuracy is 0.984659090909091 '\n",
      "'Epoch: 1106'\n"
     ]
    },
    {
     "name": "stderr",
     "output_type": "stream",
     "text": [
      "\r",
      " 44%|████▍     | 1106/2499 [33:26<42:33,  1.83s/it]"
     ]
    },
    {
     "name": "stdout",
     "output_type": "stream",
     "text": [
      "'validation loss is 0.9667997628450393 '\n",
      "'validation accuracy is 0.8200195312500004 '\n",
      "'Epoch: 1107'\n",
      "'training loss is 0.06281367249109528 '\n",
      "'training accuracy is 0.984659090909091 '\n",
      "'Epoch: 1107'\n"
     ]
    },
    {
     "name": "stderr",
     "output_type": "stream",
     "text": [
      "\r",
      " 44%|████▍     | 1107/2499 [33:28<43:22,  1.87s/it]"
     ]
    },
    {
     "name": "stdout",
     "output_type": "stream",
     "text": [
      "'validation loss is 0.9791916742920875 '\n",
      "'validation accuracy is 0.8194335937500001 '\n",
      "'Epoch: 1108'\n",
      "'training loss is 0.06278356943618167 '\n",
      "'training accuracy is 0.984659090909091 '\n",
      "'Epoch: 1108'\n"
     ]
    },
    {
     "name": "stderr",
     "output_type": "stream",
     "text": [
      "\r",
      " 44%|████▍     | 1108/2499 [33:30<42:25,  1.83s/it]"
     ]
    },
    {
     "name": "stdout",
     "output_type": "stream",
     "text": [
      "'validation loss is 0.9736612975597382 '\n",
      "'validation accuracy is 0.8197265625000002 '\n",
      "'Epoch: 1109'\n",
      "'training loss is 0.0632610937411135 '\n",
      "'training accuracy is 0.984659090909091 '\n",
      "'Epoch: 1109'\n"
     ]
    },
    {
     "name": "stderr",
     "output_type": "stream",
     "text": [
      "\r",
      " 44%|████▍     | 1109/2499 [33:32<42:45,  1.85s/it]"
     ]
    },
    {
     "name": "stdout",
     "output_type": "stream",
     "text": [
      "'validation loss is 0.9729010716080666 '\n",
      "'validation accuracy is 0.819140625 '\n",
      "'Epoch: 1110'\n",
      "'training loss is 0.06307847865603187 '\n",
      "'training accuracy is 0.984659090909091 '\n",
      "'Epoch: 1110'\n"
     ]
    },
    {
     "name": "stderr",
     "output_type": "stream",
     "text": [
      "\r",
      " 44%|████▍     | 1110/2499 [33:34<42:43,  1.85s/it]"
     ]
    },
    {
     "name": "stdout",
     "output_type": "stream",
     "text": [
      "'validation loss is 0.9712126538157463 '\n",
      "'validation accuracy is 0.8194335937500001 '\n",
      "'Epoch: 1111'\n",
      "'training loss is 0.06289359419183298 '\n",
      "'training accuracy is 0.9846590909090908 '\n",
      "'Epoch: 1111'\n"
     ]
    },
    {
     "name": "stderr",
     "output_type": "stream",
     "text": [
      "\r",
      " 44%|████▍     | 1111/2499 [33:35<42:12,  1.82s/it]"
     ]
    },
    {
     "name": "stdout",
     "output_type": "stream",
     "text": [
      "'validation loss is 0.9726630076766014 '\n",
      "'validation accuracy is 0.8194335937500001 '\n",
      "'Epoch: 1112'\n",
      "'training loss is 0.06305982104756615 '\n",
      "'training accuracy is 0.984659090909091 '\n",
      "'Epoch: 1112'\n"
     ]
    },
    {
     "name": "stderr",
     "output_type": "stream",
     "text": [
      "\r",
      " 44%|████▍     | 1112/2499 [33:37<42:04,  1.82s/it]"
     ]
    },
    {
     "name": "stdout",
     "output_type": "stream",
     "text": [
      "'validation loss is 0.9708378210663795 '\n",
      "'validation accuracy is 0.8197265625000002 '\n",
      "'Epoch: 1113'\n",
      "'training loss is 0.06321937590837479 '\n",
      "'training accuracy is 0.984659090909091 '\n",
      "'Epoch: 1113'\n"
     ]
    },
    {
     "name": "stderr",
     "output_type": "stream",
     "text": [
      "\r",
      " 45%|████▍     | 1113/2499 [33:39<41:57,  1.82s/it]"
     ]
    },
    {
     "name": "stdout",
     "output_type": "stream",
     "text": [
      "'validation loss is 0.9695419356226921 '\n",
      "'validation accuracy is 0.8203125000000002 '\n",
      "'Epoch: 1114'\n",
      "'training loss is 0.06295611980286511 '\n",
      "'training accuracy is 0.9846590909090908 '\n",
      "'Epoch: 1114'\n"
     ]
    },
    {
     "name": "stderr",
     "output_type": "stream",
     "text": [
      "\r",
      " 45%|████▍     | 1114/2499 [33:41<41:15,  1.79s/it]"
     ]
    },
    {
     "name": "stdout",
     "output_type": "stream",
     "text": [
      "'validation loss is 0.9673188209533692 '\n",
      "'validation accuracy is 0.8203125 '\n",
      "'Epoch: 1115'\n",
      "'training loss is 0.06292836740612984 '\n",
      "'training accuracy is 0.984659090909091 '\n",
      "'Epoch: 1115'\n"
     ]
    },
    {
     "name": "stderr",
     "output_type": "stream",
     "text": [
      "\r",
      " 45%|████▍     | 1115/2499 [33:43<41:30,  1.80s/it]"
     ]
    },
    {
     "name": "stdout",
     "output_type": "stream",
     "text": [
      "'validation loss is 0.9687751635909081 '\n",
      "'validation accuracy is 0.8203125000000002 '\n",
      "'Epoch: 1116'\n",
      "'training loss is 0.06297451731833545 '\n",
      "'training accuracy is 0.984659090909091 '\n",
      "'Epoch: 1116'\n"
     ]
    },
    {
     "name": "stderr",
     "output_type": "stream",
     "text": [
      "\r",
      " 45%|████▍     | 1116/2499 [33:44<41:03,  1.78s/it]"
     ]
    },
    {
     "name": "stdout",
     "output_type": "stream",
     "text": [
      "'validation loss is 0.971429817378521 '\n",
      "'validation accuracy is 0.8197265625000002 '\n",
      "'Epoch: 1117'\n",
      "'training loss is 0.06281656839630821 '\n",
      "'training accuracy is 0.984659090909091 '\n",
      "'Epoch: 1117'\n"
     ]
    },
    {
     "name": "stderr",
     "output_type": "stream",
     "text": [
      "\r",
      " 45%|████▍     | 1117/2499 [33:46<41:22,  1.80s/it]"
     ]
    },
    {
     "name": "stdout",
     "output_type": "stream",
     "text": [
      "'validation loss is 0.9678243204951287 '\n",
      "'validation accuracy is 0.8200195312500004 '\n",
      "'Epoch: 1118'\n",
      "'training loss is 0.06263770840384743 '\n",
      "'training accuracy is 0.984659090909091 '\n",
      "'Epoch: 1118'\n"
     ]
    },
    {
     "name": "stderr",
     "output_type": "stream",
     "text": [
      "\r",
      " 45%|████▍     | 1118/2499 [33:48<41:39,  1.81s/it]"
     ]
    },
    {
     "name": "stdout",
     "output_type": "stream",
     "text": [
      "'validation loss is 0.9747380450367927 '\n",
      "'validation accuracy is 0.8200195312500004 '\n",
      "'Epoch: 1119'\n",
      "'training loss is 0.06288343397053806 '\n",
      "'training accuracy is 0.9846590909090908 '\n",
      "'Epoch: 1119'\n"
     ]
    },
    {
     "name": "stderr",
     "output_type": "stream",
     "text": [
      "\r",
      " 45%|████▍     | 1119/2499 [33:50<41:48,  1.82s/it]"
     ]
    },
    {
     "name": "stdout",
     "output_type": "stream",
     "text": [
      "'validation loss is 0.9753515273332596 '\n",
      "'validation accuracy is 0.8197265625000002 '\n",
      "'Epoch: 1120'\n",
      "'training loss is 0.0629214004359462 '\n",
      "'training accuracy is 0.984659090909091 '\n",
      "'Epoch: 1120'\n"
     ]
    },
    {
     "name": "stderr",
     "output_type": "stream",
     "text": [
      "\r",
      " 45%|████▍     | 1120/2499 [33:52<41:46,  1.82s/it]"
     ]
    },
    {
     "name": "stdout",
     "output_type": "stream",
     "text": [
      "'validation loss is 0.9733819633722305 '\n",
      "'validation accuracy is 0.8197265625000002 '\n",
      "'Epoch: 1121'\n",
      "'training loss is 0.06306028366088867 '\n",
      "'training accuracy is 0.9846590909090908 '\n",
      "'Epoch: 1121'\n"
     ]
    },
    {
     "name": "stderr",
     "output_type": "stream",
     "text": [
      "\r",
      " 45%|████▍     | 1121/2499 [33:53<41:02,  1.79s/it]"
     ]
    },
    {
     "name": "stdout",
     "output_type": "stream",
     "text": [
      "'validation loss is 0.9729698389768601 '\n",
      "'validation accuracy is 0.819140625 '\n",
      "'Epoch: 1122'\n",
      "'training loss is 0.06323210082270882 '\n",
      "'training accuracy is 0.9846590909090908 '\n",
      "'Epoch: 1122'\n"
     ]
    },
    {
     "name": "stderr",
     "output_type": "stream",
     "text": [
      "\r",
      " 45%|████▍     | 1122/2499 [33:55<41:22,  1.80s/it]"
     ]
    },
    {
     "name": "stdout",
     "output_type": "stream",
     "text": [
      "'validation loss is 0.9775406911969184 '\n",
      "'validation accuracy is 0.8200195312500004 '\n",
      "'Epoch: 1123'\n",
      "'training loss is 0.06292839178984816 '\n",
      "'training accuracy is 0.9846590909090911 '\n",
      "'Epoch: 1123'\n"
     ]
    },
    {
     "name": "stderr",
     "output_type": "stream",
     "text": [
      "\r",
      " 45%|████▍     | 1123/2499 [33:57<41:50,  1.82s/it]"
     ]
    },
    {
     "name": "stdout",
     "output_type": "stream",
     "text": [
      "'validation loss is 0.9697250664234162 '\n",
      "'validation accuracy is 0.8194335937500001 '\n",
      "'Epoch: 1124'\n",
      "'training loss is 0.06299201907082037 '\n",
      "'training accuracy is 0.984659090909091 '\n",
      "'Epoch: 1124'\n"
     ]
    },
    {
     "name": "stderr",
     "output_type": "stream",
     "text": [
      "\r",
      " 45%|████▍     | 1124/2499 [33:59<41:28,  1.81s/it]"
     ]
    },
    {
     "name": "stdout",
     "output_type": "stream",
     "text": [
      "'validation loss is 0.97246403247118 '\n",
      "'validation accuracy is 0.8197265625 '\n",
      "'Epoch: 1125'\n",
      "'training loss is 0.06308036670088768 '\n",
      "'training accuracy is 0.984659090909091 '\n",
      "'Epoch: 1125'\n"
     ]
    },
    {
     "name": "stderr",
     "output_type": "stream",
     "text": [
      "\r",
      " 45%|████▌     | 1125/2499 [34:01<41:13,  1.80s/it]"
     ]
    },
    {
     "name": "stdout",
     "output_type": "stream",
     "text": [
      "'validation loss is 0.9730327293276787 '\n",
      "'validation accuracy is 0.8194335937500004 '\n",
      "'Epoch: 1126'\n",
      "'training loss is 0.06306615099310875 '\n",
      "'training accuracy is 0.984659090909091 '\n",
      "'Epoch: 1126'\n"
     ]
    },
    {
     "name": "stderr",
     "output_type": "stream",
     "text": [
      "\r",
      " 45%|████▌     | 1126/2499 [34:02<41:53,  1.83s/it]"
     ]
    },
    {
     "name": "stdout",
     "output_type": "stream",
     "text": [
      "'validation loss is 0.9729281306266785 '\n",
      "'validation accuracy is 0.8194335937500001 '\n",
      "'Epoch: 1127'\n",
      "'training loss is 0.06281314248388464 '\n",
      "'training accuracy is 0.9846590909090908 '\n",
      "'Epoch: 1127'\n"
     ]
    },
    {
     "name": "stderr",
     "output_type": "stream",
     "text": [
      "\r",
      " 45%|████▌     | 1127/2499 [34:04<42:50,  1.87s/it]"
     ]
    },
    {
     "name": "stdout",
     "output_type": "stream",
     "text": [
      "'validation loss is 0.9712000340223312 '\n",
      "'validation accuracy is 0.8194335937500001 '\n",
      "'Epoch: 1128'\n",
      "'training loss is 0.06320471519773657 '\n",
      "'training accuracy is 0.984659090909091 '\n",
      "'Epoch: 1128'\n"
     ]
    },
    {
     "name": "stderr",
     "output_type": "stream",
     "text": [
      "\r",
      " 45%|████▌     | 1128/2499 [34:06<43:14,  1.89s/it]"
     ]
    },
    {
     "name": "stdout",
     "output_type": "stream",
     "text": [
      "'validation loss is 0.9667878150939941 '\n",
      "'validation accuracy is 0.8200195312500002 '\n",
      "'Epoch: 1129'\n",
      "'training loss is 0.06305898590521379 '\n",
      "'training accuracy is 0.984659090909091 '\n",
      "'Epoch: 1129'\n"
     ]
    },
    {
     "name": "stderr",
     "output_type": "stream",
     "text": [
      "\r",
      " 45%|████▌     | 1129/2499 [34:08<42:22,  1.86s/it]"
     ]
    },
    {
     "name": "stdout",
     "output_type": "stream",
     "text": [
      "'validation loss is 0.9737231880426407 '\n",
      "'validation accuracy is 0.8197265625 '\n",
      "'Epoch: 1130'\n",
      "'training loss is 0.06331917609680783 '\n",
      "'training accuracy is 0.984659090909091 '\n",
      "'Epoch: 1130'\n"
     ]
    },
    {
     "name": "stderr",
     "output_type": "stream",
     "text": [
      "\r",
      " 45%|████▌     | 1130/2499 [34:10<41:37,  1.82s/it]"
     ]
    },
    {
     "name": "stdout",
     "output_type": "stream",
     "text": [
      "'validation loss is 0.9694420397281647 '\n",
      "'validation accuracy is 0.8203125000000003 '\n",
      "'Epoch: 1131'\n",
      "'training loss is 0.0630742155692794 '\n",
      "'training accuracy is 0.984659090909091 '\n",
      "'Epoch: 1131'\n"
     ]
    },
    {
     "name": "stderr",
     "output_type": "stream",
     "text": [
      "\r",
      " 45%|████▌     | 1131/2499 [34:12<40:57,  1.80s/it]"
     ]
    },
    {
     "name": "stdout",
     "output_type": "stream",
     "text": [
      "'validation loss is 0.9677330017089844 '\n",
      "'validation accuracy is 0.8206054687500002 '\n",
      "'Epoch: 1132'\n",
      "'training loss is 0.06304148516871712 '\n",
      "'training accuracy is 0.984659090909091 '\n",
      "'Epoch: 1132'\n"
     ]
    },
    {
     "name": "stderr",
     "output_type": "stream",
     "text": [
      "\r",
      " 45%|████▌     | 1132/2499 [34:14<41:20,  1.81s/it]"
     ]
    },
    {
     "name": "stdout",
     "output_type": "stream",
     "text": [
      "'validation loss is 0.9700413107872009 '\n",
      "'validation accuracy is 0.8194335937500001 '\n",
      "'Epoch: 1133'\n",
      "'training loss is 0.06301268122412941 '\n",
      "'training accuracy is 0.984659090909091 '\n",
      "'Epoch: 1133'\n"
     ]
    },
    {
     "name": "stderr",
     "output_type": "stream",
     "text": [
      "\r",
      " 45%|████▌     | 1133/2499 [34:15<41:20,  1.82s/it]"
     ]
    },
    {
     "name": "stdout",
     "output_type": "stream",
     "text": [
      "'validation loss is 0.9698342651128768 '\n",
      "'validation accuracy is 0.81943359375 '\n",
      "'Epoch: 1134'\n",
      "'training loss is 0.06310142204165459 '\n",
      "'training accuracy is 0.9846590909090908 '\n",
      "'Epoch: 1134'\n"
     ]
    },
    {
     "name": "stderr",
     "output_type": "stream",
     "text": [
      "\r",
      " 45%|████▌     | 1134/2499 [34:17<41:23,  1.82s/it]"
     ]
    },
    {
     "name": "stdout",
     "output_type": "stream",
     "text": [
      "'validation loss is 0.9667267560958862 '\n",
      "'validation accuracy is 0.8197265625000002 '\n",
      "'Epoch: 1135'\n",
      "'training loss is 0.06310112097046593 '\n",
      "'training accuracy is 0.984659090909091 '\n",
      "'Epoch: 1135'\n"
     ]
    },
    {
     "name": "stderr",
     "output_type": "stream",
     "text": [
      "\r",
      " 45%|████▌     | 1135/2499 [34:19<41:28,  1.82s/it]"
     ]
    },
    {
     "name": "stdout",
     "output_type": "stream",
     "text": [
      "'validation loss is 0.9702051103115081 '\n",
      "'validation accuracy is 0.8200195312500002 '\n",
      "'Epoch: 1136'\n",
      "'training loss is 0.06318064745176923 '\n",
      "'training accuracy is 0.984659090909091 '\n",
      "'Epoch: 1136'\n"
     ]
    },
    {
     "name": "stderr",
     "output_type": "stream",
     "text": [
      "\r",
      " 45%|████▌     | 1136/2499 [34:21<41:09,  1.81s/it]"
     ]
    },
    {
     "name": "stdout",
     "output_type": "stream",
     "text": [
      "'validation loss is 0.9707864239811897 '\n",
      "'validation accuracy is 0.82001953125 '\n",
      "'Epoch: 1137'\n",
      "'training loss is 0.06299690461971542 '\n",
      "'training accuracy is 0.9846590909090908 '\n",
      "'Epoch: 1137'\n"
     ]
    },
    {
     "name": "stderr",
     "output_type": "stream",
     "text": [
      "\r",
      " 45%|████▌     | 1137/2499 [34:23<40:44,  1.79s/it]"
     ]
    },
    {
     "name": "stdout",
     "output_type": "stream",
     "text": [
      "'validation loss is 0.9656980082392692 '\n",
      "'validation accuracy is 0.8194335937500001 '\n",
      "'Epoch: 1138'\n",
      "'training loss is 0.06318815695968541 '\n",
      "'training accuracy is 0.984659090909091 '\n",
      "'Epoch: 1138'\n"
     ]
    },
    {
     "name": "stderr",
     "output_type": "stream",
     "text": [
      "\r",
      " 46%|████▌     | 1138/2499 [34:24<41:16,  1.82s/it]"
     ]
    },
    {
     "name": "stdout",
     "output_type": "stream",
     "text": [
      "'validation loss is 0.9666013523936272 '\n",
      "'validation accuracy is 0.8194335937500001 '\n",
      "'Epoch: 1139'\n",
      "'training loss is 0.06285915794697675 '\n",
      "'training accuracy is 0.984659090909091 '\n",
      "'Epoch: 1139'\n"
     ]
    },
    {
     "name": "stderr",
     "output_type": "stream",
     "text": [
      "\r",
      " 46%|████▌     | 1139/2499 [34:26<40:54,  1.80s/it]"
     ]
    },
    {
     "name": "stdout",
     "output_type": "stream",
     "text": [
      "'validation loss is 0.9668548330664635 '\n",
      "'validation accuracy is 0.819140625 '\n",
      "'Epoch: 1140'\n",
      "'training loss is 0.06297847831791098 '\n",
      "'training accuracy is 0.984659090909091 '\n",
      "'Epoch: 1140'\n"
     ]
    },
    {
     "name": "stderr",
     "output_type": "stream",
     "text": [
      "\r",
      " 46%|████▌     | 1140/2499 [34:28<40:24,  1.78s/it]"
     ]
    },
    {
     "name": "stdout",
     "output_type": "stream",
     "text": [
      "'validation loss is 0.9684785723686218 '\n",
      "'validation accuracy is 0.8197265625000002 '\n",
      "'Epoch: 1141'\n",
      "'training loss is 0.06305100938135927 '\n",
      "'training accuracy is 0.984659090909091 '\n",
      "'Epoch: 1141'\n"
     ]
    },
    {
     "name": "stderr",
     "output_type": "stream",
     "text": [
      "\r",
      " 46%|████▌     | 1141/2499 [34:30<40:56,  1.81s/it]"
     ]
    },
    {
     "name": "stdout",
     "output_type": "stream",
     "text": [
      "'validation loss is 0.9653484970331192 '\n",
      "'validation accuracy is 0.8197265625000002 '\n",
      "'Epoch: 1142'\n",
      "'training loss is 0.06305296211080118 '\n",
      "'training accuracy is 0.984659090909091 '\n",
      "'Epoch: 1142'\n"
     ]
    },
    {
     "name": "stderr",
     "output_type": "stream",
     "text": [
      "\r",
      " 46%|████▌     | 1142/2499 [34:32<41:09,  1.82s/it]"
     ]
    },
    {
     "name": "stdout",
     "output_type": "stream",
     "text": [
      "'validation loss is 0.971041476726532 '\n",
      "'validation accuracy is 0.8197265625 '\n",
      "'Epoch: 1143'\n",
      "'training loss is 0.06314474174922163 '\n",
      "'training accuracy is 0.984659090909091 '\n",
      "'Epoch: 1143'\n"
     ]
    },
    {
     "name": "stderr",
     "output_type": "stream",
     "text": [
      "\r",
      " 46%|████▌     | 1143/2499 [34:33<40:47,  1.80s/it]"
     ]
    },
    {
     "name": "stdout",
     "output_type": "stream",
     "text": [
      "'validation loss is 0.9627453461289406 '\n",
      "'validation accuracy is 0.8203125000000003 '\n",
      "'Epoch: 1144'\n",
      "'training loss is 0.0633111135526137 '\n",
      "'training accuracy is 0.9846590909090911 '\n",
      "'Epoch: 1144'\n"
     ]
    },
    {
     "name": "stderr",
     "output_type": "stream",
     "text": [
      "\r",
      " 46%|████▌     | 1144/2499 [34:35<40:28,  1.79s/it]"
     ]
    },
    {
     "name": "stdout",
     "output_type": "stream",
     "text": [
      "'validation loss is 0.9655046761035919 '\n",
      "'validation accuracy is 0.8203125000000003 '\n",
      "'Epoch: 1145'\n",
      "'training loss is 0.06275904110886833 '\n",
      "'training accuracy is 0.984659090909091 '\n",
      "'Epoch: 1145'\n"
     ]
    },
    {
     "name": "stderr",
     "output_type": "stream",
     "text": [
      "\r",
      " 46%|████▌     | 1145/2499 [34:37<40:03,  1.77s/it]"
     ]
    },
    {
     "name": "stdout",
     "output_type": "stream",
     "text": [
      "'validation loss is 0.962054868042469 '\n",
      "'validation accuracy is 0.8200195312500002 '\n",
      "'Epoch: 1146'\n",
      "'training loss is 0.06309850988062946 '\n",
      "'training accuracy is 0.984659090909091 '\n",
      "'Epoch: 1146'\n"
     ]
    },
    {
     "name": "stderr",
     "output_type": "stream",
     "text": [
      "\r",
      " 46%|████▌     | 1146/2499 [34:39<39:39,  1.76s/it]"
     ]
    },
    {
     "name": "stdout",
     "output_type": "stream",
     "text": [
      "'validation loss is 0.9695528253912926 '\n",
      "'validation accuracy is 0.8200195312500002 '\n",
      "'Epoch: 1147'\n",
      "'training loss is 0.06277182765982368 '\n",
      "'training accuracy is 0.984659090909091 '\n",
      "'Epoch: 1147'\n"
     ]
    },
    {
     "name": "stderr",
     "output_type": "stream",
     "text": [
      "\r",
      " 46%|████▌     | 1147/2499 [34:40<40:19,  1.79s/it]"
     ]
    },
    {
     "name": "stdout",
     "output_type": "stream",
     "text": [
      "'validation loss is 0.9625885233283042 '\n",
      "'validation accuracy is 0.8203125000000003 '\n",
      "'Epoch: 1148'\n",
      "'training loss is 0.06309458410198038 '\n",
      "'training accuracy is 0.984659090909091 '\n",
      "'Epoch: 1148'\n"
     ]
    },
    {
     "name": "stderr",
     "output_type": "stream",
     "text": [
      "\r",
      " 46%|████▌     | 1148/2499 [34:42<41:43,  1.85s/it]"
     ]
    },
    {
     "name": "stdout",
     "output_type": "stream",
     "text": [
      "'validation loss is 0.9702990084886551 '\n",
      "'validation accuracy is 0.8194335937500001 '\n",
      "'Epoch: 1149'\n",
      "'training loss is 0.06317524645816196 '\n",
      "'training accuracy is 0.984659090909091 '\n",
      "'Epoch: 1149'\n"
     ]
    },
    {
     "name": "stderr",
     "output_type": "stream",
     "text": [
      "\r",
      " 46%|████▌     | 1149/2499 [34:44<41:38,  1.85s/it]"
     ]
    },
    {
     "name": "stdout",
     "output_type": "stream",
     "text": [
      "'validation loss is 0.9625628754496575 '\n",
      "'validation accuracy is 0.8197265625000002 '\n",
      "'Epoch: 1150'\n",
      "'training loss is 0.06294968250122937 '\n",
      "'training accuracy is 0.984659090909091 '\n",
      "'Epoch: 1150'\n"
     ]
    },
    {
     "name": "stderr",
     "output_type": "stream",
     "text": [
      "\r",
      " 46%|████▌     | 1150/2499 [34:46<41:34,  1.85s/it]"
     ]
    },
    {
     "name": "stdout",
     "output_type": "stream",
     "text": [
      "'validation loss is 0.9664248824119568 '\n",
      "'validation accuracy is 0.8191406250000004 '\n",
      "'Epoch: 1151'\n",
      "'training loss is 0.06296736205166037 '\n",
      "'training accuracy is 0.9846590909090908 '\n",
      "'Epoch: 1151'\n"
     ]
    },
    {
     "name": "stderr",
     "output_type": "stream",
     "text": [
      "\r",
      " 46%|████▌     | 1151/2499 [34:48<40:57,  1.82s/it]"
     ]
    },
    {
     "name": "stdout",
     "output_type": "stream",
     "text": [
      "'validation loss is 0.9692456677556038 '\n",
      "'validation accuracy is 0.8194335937500004 '\n",
      "'Epoch: 1152'\n",
      "'training loss is 0.06300909614021127 '\n",
      "'training accuracy is 0.984659090909091 '\n",
      "'Epoch: 1152'\n"
     ]
    },
    {
     "name": "stderr",
     "output_type": "stream",
     "text": [
      "\r",
      " 46%|████▌     | 1152/2499 [34:50<40:45,  1.82s/it]"
     ]
    },
    {
     "name": "stdout",
     "output_type": "stream",
     "text": [
      "'validation loss is 0.9641544908285141 '\n",
      "'validation accuracy is 0.8208984375000004 '\n",
      "'Epoch: 1153'\n",
      "'training loss is 0.0629844530062242 '\n",
      "'training accuracy is 0.984659090909091 '\n",
      "'Epoch: 1153'\n"
     ]
    },
    {
     "name": "stderr",
     "output_type": "stream",
     "text": [
      "\r",
      " 46%|████▌     | 1153/2499 [34:51<40:22,  1.80s/it]"
     ]
    },
    {
     "name": "stdout",
     "output_type": "stream",
     "text": [
      "'validation loss is 0.9730952396988869 '\n",
      "'validation accuracy is 0.8194335937500001 '\n",
      "'Epoch: 1154'\n",
      "'training loss is 0.06302939389239658 '\n",
      "'training accuracy is 0.984659090909091 '\n",
      "'Epoch: 1154'\n"
     ]
    },
    {
     "name": "stderr",
     "output_type": "stream",
     "text": [
      "\r",
      " 46%|████▌     | 1154/2499 [34:53<40:26,  1.80s/it]"
     ]
    },
    {
     "name": "stdout",
     "output_type": "stream",
     "text": [
      "'validation loss is 0.96789341121912 '\n",
      "'validation accuracy is 0.8197265625000003 '\n",
      "'Epoch: 1155'\n",
      "'training loss is 0.06285937909375537 '\n",
      "'training accuracy is 0.9846590909090908 '\n",
      "'Epoch: 1155'\n"
     ]
    },
    {
     "name": "stderr",
     "output_type": "stream",
     "text": [
      "\r",
      " 46%|████▌     | 1155/2499 [34:55<40:33,  1.81s/it]"
     ]
    },
    {
     "name": "stdout",
     "output_type": "stream",
     "text": [
      "'validation loss is 0.967601366341114 '\n",
      "'validation accuracy is 0.81943359375 '\n",
      "'Epoch: 1156'\n",
      "'training loss is 0.06291161172769287 '\n",
      "'training accuracy is 0.984659090909091 '\n",
      "'Epoch: 1156'\n"
     ]
    },
    {
     "name": "stderr",
     "output_type": "stream",
     "text": [
      "\r",
      " 46%|████▋     | 1156/2499 [34:57<40:15,  1.80s/it]"
     ]
    },
    {
     "name": "stdout",
     "output_type": "stream",
     "text": [
      "'validation loss is 0.9723718494176865 '\n",
      "'validation accuracy is 0.8194335937500001 '\n",
      "'Epoch: 1157'\n",
      "'training loss is 0.06299144232814963 '\n",
      "'training accuracy is 0.9846590909090911 '\n",
      "'Epoch: 1157'\n"
     ]
    },
    {
     "name": "stderr",
     "output_type": "stream",
     "text": [
      "\r",
      " 46%|████▋     | 1157/2499 [34:59<40:54,  1.83s/it]"
     ]
    },
    {
     "name": "stdout",
     "output_type": "stream",
     "text": [
      "'validation loss is 0.9717565178871155 '\n",
      "'validation accuracy is 0.82001953125 '\n",
      "'Epoch: 1158'\n",
      "'training loss is 0.06304652887311848 '\n",
      "'training accuracy is 0.9846590909090908 '\n",
      "'Epoch: 1158'\n"
     ]
    },
    {
     "name": "stderr",
     "output_type": "stream",
     "text": [
      "\r",
      " 46%|████▋     | 1158/2499 [35:01<41:15,  1.85s/it]"
     ]
    },
    {
     "name": "stdout",
     "output_type": "stream",
     "text": [
      "'validation loss is 0.9686722561717034 '\n",
      "'validation accuracy is 0.8197265625000002 '\n",
      "'Epoch: 1159'\n",
      "'training loss is 0.06333008645610376 '\n",
      "'training accuracy is 0.9846590909090908 '\n",
      "'Epoch: 1159'\n"
     ]
    },
    {
     "name": "stderr",
     "output_type": "stream",
     "text": [
      "\r",
      " 46%|████▋     | 1159/2499 [35:02<40:37,  1.82s/it]"
     ]
    },
    {
     "name": "stdout",
     "output_type": "stream",
     "text": [
      "'validation loss is 0.9716400414705276 '\n",
      "'validation accuracy is 0.8191406250000002 '\n",
      "'Epoch: 1160'\n",
      "'training loss is 0.06295904584906319 '\n",
      "'training accuracy is 0.984659090909091 '\n",
      "'Epoch: 1160'\n"
     ]
    },
    {
     "name": "stderr",
     "output_type": "stream",
     "text": [
      "\r",
      " 46%|████▋     | 1160/2499 [35:04<40:58,  1.84s/it]"
     ]
    },
    {
     "name": "stdout",
     "output_type": "stream",
     "text": [
      "'validation loss is 0.9676115214824677 '\n",
      "'validation accuracy is 0.8197265625000002 '\n",
      "'Epoch: 1161'\n",
      "'training loss is 0.06295768781141801 '\n",
      "'training accuracy is 0.9846590909090908 '\n",
      "'Epoch: 1161'\n"
     ]
    },
    {
     "name": "stderr",
     "output_type": "stream",
     "text": [
      "\r",
      " 46%|████▋     | 1161/2499 [35:06<41:11,  1.85s/it]"
     ]
    },
    {
     "name": "stdout",
     "output_type": "stream",
     "text": [
      "'validation loss is 0.9635318532586098 '\n",
      "'validation accuracy is 0.8200195312500002 '\n",
      "'Epoch: 1162'\n",
      "'training loss is 0.06298653883012859 '\n",
      "'training accuracy is 0.984659090909091 '\n",
      "'Epoch: 1162'\n"
     ]
    },
    {
     "name": "stderr",
     "output_type": "stream",
     "text": [
      "\r",
      " 46%|████▋     | 1162/2499 [35:08<40:43,  1.83s/it]"
     ]
    },
    {
     "name": "stdout",
     "output_type": "stream",
     "text": [
      "'validation loss is 0.968230165541172 '\n",
      "'validation accuracy is 0.8194335937500001 '\n",
      "'Epoch: 1163'\n",
      "'training loss is 0.06301199509338899 '\n",
      "'training accuracy is 0.984659090909091 '\n",
      "'Epoch: 1163'\n"
     ]
    },
    {
     "name": "stderr",
     "output_type": "stream",
     "text": [
      "\r",
      " 47%|████▋     | 1163/2499 [35:10<40:09,  1.80s/it]"
     ]
    },
    {
     "name": "stdout",
     "output_type": "stream",
     "text": [
      "'validation loss is 0.9636314868927002 '\n",
      "'validation accuracy is 0.8200195312500002 '\n",
      "'Epoch: 1164'\n",
      "'training loss is 0.06292952156879685 '\n",
      "'training accuracy is 0.9846590909090908 '\n",
      "'Epoch: 1164'\n"
     ]
    },
    {
     "name": "stderr",
     "output_type": "stream",
     "text": [
      "\r",
      " 47%|████▋     | 1164/2499 [35:12<40:02,  1.80s/it]"
     ]
    },
    {
     "name": "stdout",
     "output_type": "stream",
     "text": [
      "'validation loss is 0.9673876896500587 '\n",
      "'validation accuracy is 0.8194335937500004 '\n",
      "'Epoch: 1165'\n",
      "'training loss is 0.06313828751444817 '\n",
      "'training accuracy is 0.984659090909091 '\n",
      "'Epoch: 1165'\n"
     ]
    },
    {
     "name": "stderr",
     "output_type": "stream",
     "text": [
      "\r",
      " 47%|████▋     | 1165/2499 [35:13<40:22,  1.82s/it]"
     ]
    },
    {
     "name": "stdout",
     "output_type": "stream",
     "text": [
      "'validation loss is 0.9581514537334442 '\n",
      "'validation accuracy is 0.8200195312500002 '\n",
      "'Epoch: 1166'\n",
      "'training loss is 0.06294868310744112 '\n",
      "'training accuracy is 0.984659090909091 '\n",
      "'Epoch: 1166'\n"
     ]
    },
    {
     "name": "stderr",
     "output_type": "stream",
     "text": [
      "\r",
      " 47%|████▋     | 1166/2499 [35:15<40:34,  1.83s/it]"
     ]
    },
    {
     "name": "stdout",
     "output_type": "stream",
     "text": [
      "'validation loss is 0.9666203483939171 '\n",
      "'validation accuracy is 0.8194335937500001 '\n",
      "'Epoch: 1167'\n",
      "'training loss is 0.06277248703620651 '\n",
      "'training accuracy is 0.984659090909091 '\n",
      "'Epoch: 1167'\n"
     ]
    },
    {
     "name": "stderr",
     "output_type": "stream",
     "text": [
      "\r",
      " 47%|████▋     | 1167/2499 [35:17<40:25,  1.82s/it]"
     ]
    },
    {
     "name": "stdout",
     "output_type": "stream",
     "text": [
      "'validation loss is 0.9597180530428886 '\n",
      "'validation accuracy is 0.8197265625000003 '\n",
      "'Epoch: 1168'\n",
      "'training loss is 0.06301692094315182 '\n",
      "'training accuracy is 0.984659090909091 '\n",
      "'Epoch: 1168'\n"
     ]
    },
    {
     "name": "stderr",
     "output_type": "stream",
     "text": [
      "\r",
      " 47%|████▋     | 1168/2499 [35:19<41:19,  1.86s/it]"
     ]
    },
    {
     "name": "stdout",
     "output_type": "stream",
     "text": [
      "'validation loss is 0.9628716841340065 '\n",
      "'validation accuracy is 0.8191406250000004 '\n",
      "'Epoch: 1169'\n",
      "'training loss is 0.06317327340895479 '\n",
      "'training accuracy is 0.9846590909090908 '\n",
      "'Epoch: 1169'\n"
     ]
    },
    {
     "name": "stderr",
     "output_type": "stream",
     "text": [
      "\r",
      " 47%|████▋     | 1169/2499 [35:21<41:20,  1.86s/it]"
     ]
    },
    {
     "name": "stdout",
     "output_type": "stream",
     "text": [
      "'validation loss is 0.9668855428695678 '\n",
      "'validation accuracy is 0.8194335937500001 '\n",
      "'Epoch: 1170'\n",
      "'training loss is 0.06294732744043524 '\n",
      "'training accuracy is 0.984659090909091 '\n",
      "'Epoch: 1170'\n"
     ]
    },
    {
     "name": "stderr",
     "output_type": "stream",
     "text": [
      "\r",
      " 47%|████▋     | 1170/2499 [35:23<41:10,  1.86s/it]"
     ]
    },
    {
     "name": "stdout",
     "output_type": "stream",
     "text": [
      "'validation loss is 0.9698197096586227 '\n",
      "'validation accuracy is 0.8197265625000002 '\n",
      "'Epoch: 1171'\n",
      "'training loss is 0.06271711567586119 '\n",
      "'training accuracy is 0.9846590909090908 '\n",
      "'Epoch: 1171'\n"
     ]
    },
    {
     "name": "stderr",
     "output_type": "stream",
     "text": [
      "\r",
      " 47%|████▋     | 1171/2499 [35:24<40:37,  1.84s/it]"
     ]
    },
    {
     "name": "stdout",
     "output_type": "stream",
     "text": [
      "'validation loss is 0.962527970969677 '\n",
      "'validation accuracy is 0.8200195312500002 '\n",
      "'Epoch: 1172'\n",
      "'training loss is 0.06295297531919046 '\n",
      "'training accuracy is 0.9846590909090908 '\n",
      "'Epoch: 1172'\n"
     ]
    },
    {
     "name": "stderr",
     "output_type": "stream",
     "text": [
      "\r",
      " 47%|████▋     | 1172/2499 [35:26<40:49,  1.85s/it]"
     ]
    },
    {
     "name": "stdout",
     "output_type": "stream",
     "text": [
      "'validation loss is 0.9643320962786674 '\n",
      "'validation accuracy is 0.8191406250000002 '\n",
      "'Epoch: 1173'\n",
      "'training loss is 0.0631971697915684 '\n",
      "'training accuracy is 0.984659090909091 '\n",
      "'Epoch: 1173'\n"
     ]
    },
    {
     "name": "stderr",
     "output_type": "stream",
     "text": [
      "\r",
      " 47%|████▋     | 1173/2499 [35:28<40:10,  1.82s/it]"
     ]
    },
    {
     "name": "stdout",
     "output_type": "stream",
     "text": [
      "'validation loss is 0.9606208592653275 '\n",
      "'validation accuracy is 0.8197265625000003 '\n",
      "'Epoch: 1174'\n",
      "'training loss is 0.06316696242852644 '\n",
      "'training accuracy is 0.984659090909091 '\n",
      "'Epoch: 1174'\n"
     ]
    },
    {
     "name": "stderr",
     "output_type": "stream",
     "text": [
      "\r",
      " 47%|████▋     | 1174/2499 [35:30<40:33,  1.84s/it]"
     ]
    },
    {
     "name": "stdout",
     "output_type": "stream",
     "text": [
      "'validation loss is 0.9663740649819375 '\n",
      "'validation accuracy is 0.8194335937500001 '\n",
      "'Epoch: 1175'\n",
      "'training loss is 0.06296101483431729 '\n",
      "'training accuracy is 0.984659090909091 '\n",
      "'Epoch: 1175'\n"
     ]
    },
    {
     "name": "stderr",
     "output_type": "stream",
     "text": [
      "\r",
      " 47%|████▋     | 1175/2499 [35:32<40:03,  1.82s/it]"
     ]
    },
    {
     "name": "stdout",
     "output_type": "stream",
     "text": [
      "'validation loss is 0.9612345039844513 '\n",
      "'validation accuracy is 0.8206054687500002 '\n",
      "'Epoch: 1176'\n",
      "'training loss is 0.06292835115031763 '\n",
      "'training accuracy is 0.984659090909091 '\n",
      "'Epoch: 1176'\n"
     ]
    },
    {
     "name": "stderr",
     "output_type": "stream",
     "text": [
      "\r",
      " 47%|████▋     | 1176/2499 [35:34<39:48,  1.81s/it]"
     ]
    },
    {
     "name": "stdout",
     "output_type": "stream",
     "text": [
      "'validation loss is 0.9651218563318252 '\n",
      "'validation accuracy is 0.8194335937500001 '\n",
      "'Epoch: 1177'\n",
      "'training loss is 0.0628047829324549 '\n",
      "'training accuracy is 0.984659090909091 '\n",
      "'Epoch: 1177'\n"
     ]
    },
    {
     "name": "stderr",
     "output_type": "stream",
     "text": [
      "\r",
      " 47%|████▋     | 1177/2499 [35:35<40:05,  1.82s/it]"
     ]
    },
    {
     "name": "stdout",
     "output_type": "stream",
     "text": [
      "'validation loss is 0.9620674520730972 '\n",
      "'validation accuracy is 0.81943359375 '\n",
      "'Epoch: 1178'\n",
      "'training loss is 0.06291319734670899 '\n",
      "'training accuracy is 0.9846590909090908 '\n",
      "'Epoch: 1178'\n"
     ]
    },
    {
     "name": "stderr",
     "output_type": "stream",
     "text": [
      "\r",
      " 47%|████▋     | 1178/2499 [35:37<40:21,  1.83s/it]"
     ]
    },
    {
     "name": "stdout",
     "output_type": "stream",
     "text": [
      "'validation loss is 0.9617705434560776 '\n",
      "'validation accuracy is 0.8197265625000002 '\n",
      "'Epoch: 1179'\n",
      "'training loss is 0.06281663037159226 '\n",
      "'training accuracy is 0.9846590909090908 '\n",
      "'Epoch: 1179'\n"
     ]
    },
    {
     "name": "stderr",
     "output_type": "stream",
     "text": [
      "\r",
      " 47%|████▋     | 1179/2499 [35:39<40:42,  1.85s/it]"
     ]
    },
    {
     "name": "stdout",
     "output_type": "stream",
     "text": [
      "'validation loss is 0.9598330959677697 '\n",
      "'validation accuracy is 0.8197265625000002 '\n",
      "'Epoch: 1180'\n",
      "'training loss is 0.06298633935776624 '\n",
      "'training accuracy is 0.9846590909090908 '\n",
      "'Epoch: 1180'\n"
     ]
    },
    {
     "name": "stderr",
     "output_type": "stream",
     "text": [
      "\r",
      " 47%|████▋     | 1180/2499 [35:41<40:39,  1.85s/it]"
     ]
    },
    {
     "name": "stdout",
     "output_type": "stream",
     "text": [
      "'validation loss is 0.956599985063076 '\n",
      "'validation accuracy is 0.8194335937500001 '\n",
      "'Epoch: 1181'\n",
      "'training loss is 0.06292958625338295 '\n",
      "'training accuracy is 0.984659090909091 '\n",
      "'Epoch: 1181'\n"
     ]
    },
    {
     "name": "stderr",
     "output_type": "stream",
     "text": [
      "\r",
      " 47%|████▋     | 1181/2499 [35:43<40:31,  1.85s/it]"
     ]
    },
    {
     "name": "stdout",
     "output_type": "stream",
     "text": [
      "'validation loss is 0.9631027281284332 '\n",
      "'validation accuracy is 0.8194335937500001 '\n",
      "'Epoch: 1182'\n",
      "'training loss is 0.06320159645243124 '\n",
      "'training accuracy is 0.984659090909091 '\n",
      "'Epoch: 1182'\n"
     ]
    },
    {
     "name": "stderr",
     "output_type": "stream",
     "text": [
      "\r",
      " 47%|████▋     | 1182/2499 [35:45<40:07,  1.83s/it]"
     ]
    },
    {
     "name": "stdout",
     "output_type": "stream",
     "text": [
      "'validation loss is 0.9645075082778931 '\n",
      "'validation accuracy is 0.81943359375 '\n",
      "'Epoch: 1183'\n",
      "'training loss is 0.06278807398947803 '\n",
      "'training accuracy is 0.9846590909090908 '\n",
      "'Epoch: 1183'\n"
     ]
    },
    {
     "name": "stderr",
     "output_type": "stream",
     "text": [
      "\r",
      " 47%|████▋     | 1183/2499 [35:47<40:36,  1.85s/it]"
     ]
    },
    {
     "name": "stdout",
     "output_type": "stream",
     "text": [
      "'validation loss is 0.9687014386057854 '\n",
      "'validation accuracy is 0.8200195312500004 '\n",
      "'Epoch: 1184'\n",
      "'training loss is 0.06288526037877257 '\n",
      "'training accuracy is 0.9846590909090911 '\n",
      "'Epoch: 1184'\n"
     ]
    },
    {
     "name": "stderr",
     "output_type": "stream",
     "text": [
      "\r",
      " 47%|████▋     | 1184/2499 [35:48<41:02,  1.87s/it]"
     ]
    },
    {
     "name": "stdout",
     "output_type": "stream",
     "text": [
      "'validation loss is 0.968233023583889 '\n",
      "'validation accuracy is 0.8191406250000002 '\n",
      "'Epoch: 1185'\n",
      "'training loss is 0.0627410662445155 '\n",
      "'training accuracy is 0.984659090909091 '\n",
      "'Epoch: 1185'\n"
     ]
    },
    {
     "name": "stderr",
     "output_type": "stream",
     "text": [
      "\r",
      " 47%|████▋     | 1185/2499 [35:50<40:32,  1.85s/it]"
     ]
    },
    {
     "name": "stdout",
     "output_type": "stream",
     "text": [
      "'validation loss is 0.9600934118032456 '\n",
      "'validation accuracy is 0.8197265625000002 '\n",
      "'Epoch: 1186'\n",
      "'training loss is 0.06276587024331093 '\n",
      "'training accuracy is 0.9846590909090908 '\n",
      "'Epoch: 1186'\n"
     ]
    },
    {
     "name": "stderr",
     "output_type": "stream",
     "text": [
      "\r",
      " 47%|████▋     | 1186/2499 [35:52<39:56,  1.83s/it]"
     ]
    },
    {
     "name": "stdout",
     "output_type": "stream",
     "text": [
      "'validation loss is 0.9636313751339912 '\n",
      "'validation accuracy is 0.8191406250000002 '\n",
      "'Epoch: 1187'\n",
      "'training loss is 0.06268695978955789 '\n",
      "'training accuracy is 0.984659090909091 '\n",
      "'Epoch: 1187'\n"
     ]
    },
    {
     "name": "stderr",
     "output_type": "stream",
     "text": [
      "\r",
      " 47%|████▋     | 1187/2499 [35:54<39:35,  1.81s/it]"
     ]
    },
    {
     "name": "stdout",
     "output_type": "stream",
     "text": [
      "'validation loss is 0.9639310747385025 '\n",
      "'validation accuracy is 0.8194335937500001 '\n",
      "'Epoch: 1188'\n",
      "'training loss is 0.06309141354127364 '\n",
      "'training accuracy is 0.9846590909090908 '\n",
      "'Epoch: 1188'\n"
     ]
    },
    {
     "name": "stderr",
     "output_type": "stream",
     "text": [
      "\r",
      " 48%|████▊     | 1188/2499 [35:56<39:17,  1.80s/it]"
     ]
    },
    {
     "name": "stdout",
     "output_type": "stream",
     "text": [
      "'validation loss is 0.9651749074459076 '\n",
      "'validation accuracy is 0.819140625 '\n",
      "'Epoch: 1189'\n",
      "'training loss is 0.06317999823526903 '\n",
      "'training accuracy is 0.9846590909090908 '\n",
      "'Epoch: 1189'\n"
     ]
    },
    {
     "name": "stderr",
     "output_type": "stream",
     "text": [
      "\r",
      " 48%|████▊     | 1189/2499 [35:57<39:25,  1.81s/it]"
     ]
    },
    {
     "name": "stdout",
     "output_type": "stream",
     "text": [
      "'validation loss is 0.9674144074320793 '\n",
      "'validation accuracy is 0.8197265625000002 '\n",
      "'Epoch: 1190'\n",
      "'training loss is 0.06295438923619011 '\n",
      "'training accuracy is 0.9846590909090911 '\n",
      "'Epoch: 1190'\n"
     ]
    },
    {
     "name": "stderr",
     "output_type": "stream",
     "text": [
      "\r",
      " 48%|████▊     | 1190/2499 [35:59<40:06,  1.84s/it]"
     ]
    },
    {
     "name": "stdout",
     "output_type": "stream",
     "text": [
      "'validation loss is 0.9610245063900947 '\n",
      "'validation accuracy is 0.8194335937500001 '\n",
      "'Epoch: 1191'\n",
      "'training loss is 0.06298129937865517 '\n",
      "'training accuracy is 0.984659090909091 '\n",
      "'Epoch: 1191'\n"
     ]
    },
    {
     "name": "stderr",
     "output_type": "stream",
     "text": [
      "\r",
      " 48%|████▊     | 1191/2499 [36:01<39:35,  1.82s/it]"
     ]
    },
    {
     "name": "stdout",
     "output_type": "stream",
     "text": [
      "'validation loss is 0.95708599537611 '\n",
      "'validation accuracy is 0.8197265625000002 '\n",
      "'Epoch: 1192'\n",
      "'training loss is 0.06299530511552637 '\n",
      "'training accuracy is 0.9846590909090908 '\n",
      "'Epoch: 1192'\n"
     ]
    },
    {
     "name": "stderr",
     "output_type": "stream",
     "text": [
      "\r",
      " 48%|████▊     | 1192/2499 [36:03<39:57,  1.83s/it]"
     ]
    },
    {
     "name": "stdout",
     "output_type": "stream",
     "text": [
      "'validation loss is 0.9640141159296036 '\n",
      "'validation accuracy is 0.8191406250000002 '\n",
      "'Epoch: 1193'\n",
      "'training loss is 0.06288142976435748 '\n",
      "'training accuracy is 0.984659090909091 '\n",
      "'Epoch: 1193'\n"
     ]
    },
    {
     "name": "stderr",
     "output_type": "stream",
     "text": [
      "\r",
      " 48%|████▊     | 1193/2499 [36:05<39:36,  1.82s/it]"
     ]
    },
    {
     "name": "stdout",
     "output_type": "stream",
     "text": [
      "'validation loss is 0.9648030504584313 '\n",
      "'validation accuracy is 0.819140625 '\n",
      "'Epoch: 1194'\n",
      "'training loss is 0.06297362968325615 '\n",
      "'training accuracy is 0.984659090909091 '\n",
      "'Epoch: 1194'\n"
     ]
    },
    {
     "name": "stderr",
     "output_type": "stream",
     "text": [
      "\r",
      " 48%|████▊     | 1194/2499 [36:07<39:20,  1.81s/it]"
     ]
    },
    {
     "name": "stdout",
     "output_type": "stream",
     "text": [
      "'validation loss is 0.9603220865130424 '\n",
      "'validation accuracy is 0.8191406250000004 '\n",
      "'Epoch: 1195'\n",
      "'training loss is 0.0629028935324062 '\n",
      "'training accuracy is 0.9846590909090908 '\n",
      "'Epoch: 1195'\n"
     ]
    },
    {
     "name": "stderr",
     "output_type": "stream",
     "text": [
      "\r",
      " 48%|████▊     | 1195/2499 [36:08<39:02,  1.80s/it]"
     ]
    },
    {
     "name": "stdout",
     "output_type": "stream",
     "text": [
      "'validation loss is 0.9651725113391876 '\n",
      "'validation accuracy is 0.8191406250000002 '\n",
      "'Epoch: 1196'\n",
      "'training loss is 0.06285067546096715 '\n",
      "'training accuracy is 0.9846590909090908 '\n",
      "'Epoch: 1196'\n"
     ]
    },
    {
     "name": "stderr",
     "output_type": "stream",
     "text": [
      "\r",
      " 48%|████▊     | 1196/2499 [36:10<39:04,  1.80s/it]"
     ]
    },
    {
     "name": "stdout",
     "output_type": "stream",
     "text": [
      "'validation loss is 0.965787947177887 '\n",
      "'validation accuracy is 0.8191406250000002 '\n",
      "'Epoch: 1197'\n",
      "'training loss is 0.06289241666143591 '\n",
      "'training accuracy is 0.984659090909091 '\n",
      "'Epoch: 1197'\n"
     ]
    },
    {
     "name": "stderr",
     "output_type": "stream",
     "text": [
      "\r",
      " 48%|████▊     | 1197/2499 [36:12<39:12,  1.81s/it]"
     ]
    },
    {
     "name": "stdout",
     "output_type": "stream",
     "text": [
      "'validation loss is 0.9657470941543579 '\n",
      "'validation accuracy is 0.8197265625000002 '\n",
      "'Epoch: 1198'\n",
      "'training loss is 0.06289549070325764 '\n",
      "'training accuracy is 0.984659090909091 '\n",
      "'Epoch: 1198'\n"
     ]
    },
    {
     "name": "stderr",
     "output_type": "stream",
     "text": [
      "\r",
      " 48%|████▊     | 1198/2499 [36:14<39:13,  1.81s/it]"
     ]
    },
    {
     "name": "stdout",
     "output_type": "stream",
     "text": [
      "'validation loss is 0.9686765521764755 '\n",
      "'validation accuracy is 0.8191406250000004 '\n",
      "'Epoch: 1199'\n",
      "'training loss is 0.06286182220686566 '\n",
      "'training accuracy is 0.9846590909090908 '\n",
      "'Epoch: 1199'\n"
     ]
    },
    {
     "name": "stderr",
     "output_type": "stream",
     "text": [
      "\r",
      " 48%|████▊     | 1199/2499 [36:16<39:09,  1.81s/it]"
     ]
    },
    {
     "name": "stdout",
     "output_type": "stream",
     "text": [
      "'validation loss is 0.9669484943151474 '\n",
      "'validation accuracy is 0.8194335937500001 '\n",
      "'Epoch: 1200'\n",
      "'training loss is 0.0630444007163698 '\n",
      "'training accuracy is 0.984659090909091 '\n",
      "'Epoch: 1200'\n"
     ]
    },
    {
     "name": "stderr",
     "output_type": "stream",
     "text": [
      "\r",
      " 48%|████▊     | 1200/2499 [36:17<40:00,  1.85s/it]"
     ]
    },
    {
     "name": "stdout",
     "output_type": "stream",
     "text": [
      "'validation loss is 0.9629944950342179 '\n",
      "'validation accuracy is 0.8200195312500002 '\n",
      "'Epoch: 1201'\n",
      "'training loss is 0.06323360482400114 '\n",
      "'training accuracy is 0.984659090909091 '\n",
      "'Epoch: 1201'\n"
     ]
    },
    {
     "name": "stderr",
     "output_type": "stream",
     "text": [
      "\r",
      " 48%|████▊     | 1201/2499 [36:19<39:34,  1.83s/it]"
     ]
    },
    {
     "name": "stdout",
     "output_type": "stream",
     "text": [
      "'validation loss is 0.9618617668747902 '\n",
      "'validation accuracy is 0.8197265625 '\n",
      "'Epoch: 1202'\n",
      "'training loss is 0.06309193508191542 '\n",
      "'training accuracy is 0.984659090909091 '\n",
      "'Epoch: 1202'\n"
     ]
    },
    {
     "name": "stderr",
     "output_type": "stream",
     "text": [
      "\r",
      " 48%|████▊     | 1202/2499 [36:21<39:32,  1.83s/it]"
     ]
    },
    {
     "name": "stdout",
     "output_type": "stream",
     "text": [
      "'validation loss is 0.9574813365936279 '\n",
      "'validation accuracy is 0.8200195312500002 '\n",
      "'Epoch: 1203'\n",
      "'training loss is 0.06277473135427995 '\n",
      "'training accuracy is 0.984659090909091 '\n",
      "'Epoch: 1203'\n"
     ]
    },
    {
     "name": "stderr",
     "output_type": "stream",
     "text": [
      "\r",
      " 48%|████▊     | 1203/2499 [36:23<40:24,  1.87s/it]"
     ]
    },
    {
     "name": "stdout",
     "output_type": "stream",
     "text": [
      "'validation loss is 0.9641005888581275 '\n",
      "'validation accuracy is 0.8197265625000002 '\n",
      "'Epoch: 1204'\n",
      "'training loss is 0.06310015002434904 '\n",
      "'training accuracy is 0.9846590909090908 '\n",
      "'Epoch: 1204'\n"
     ]
    },
    {
     "name": "stderr",
     "output_type": "stream",
     "text": [
      "\r",
      " 48%|████▊     | 1204/2499 [36:25<40:24,  1.87s/it]"
     ]
    },
    {
     "name": "stdout",
     "output_type": "stream",
     "text": [
      "'validation loss is 0.9618884041905403 '\n",
      "'validation accuracy is 0.8194335937500004 '\n",
      "'Epoch: 1205'\n",
      "'training loss is 0.06314121051268144 '\n",
      "'training accuracy is 0.984659090909091 '\n",
      "'Epoch: 1205'\n"
     ]
    },
    {
     "name": "stderr",
     "output_type": "stream",
     "text": [
      "\r",
      " 48%|████▊     | 1205/2499 [36:27<40:22,  1.87s/it]"
     ]
    },
    {
     "name": "stdout",
     "output_type": "stream",
     "text": [
      "'validation loss is 0.9622585773468018 '\n",
      "'validation accuracy is 0.8197265625000002 '\n",
      "'Epoch: 1206'\n",
      "'training loss is 0.0627265911210667 '\n",
      "'training accuracy is 0.9846590909090908 '\n",
      "'Epoch: 1206'\n"
     ]
    },
    {
     "name": "stderr",
     "output_type": "stream",
     "text": [
      "\r",
      " 48%|████▊     | 1206/2499 [36:29<40:00,  1.86s/it]"
     ]
    },
    {
     "name": "stdout",
     "output_type": "stream",
     "text": [
      "'validation loss is 0.9601922512054444 '\n",
      "'validation accuracy is 0.8197265625000003 '\n",
      "'Epoch: 1207'\n",
      "'training loss is 0.06286239251494408 '\n",
      "'training accuracy is 0.984659090909091 '\n",
      "'Epoch: 1207'\n"
     ]
    },
    {
     "name": "stderr",
     "output_type": "stream",
     "text": [
      "\r",
      " 48%|████▊     | 1207/2499 [36:30<39:57,  1.86s/it]"
     ]
    },
    {
     "name": "stdout",
     "output_type": "stream",
     "text": [
      "'validation loss is 0.9589495122432709 '\n",
      "'validation accuracy is 0.8197265625000002 '\n",
      "'Epoch: 1208'\n",
      "'training loss is 0.0627135851166465 '\n",
      "'training accuracy is 0.984659090909091 '\n",
      "'Epoch: 1208'\n"
     ]
    },
    {
     "name": "stderr",
     "output_type": "stream",
     "text": [
      "\r",
      " 48%|████▊     | 1208/2499 [36:32<39:42,  1.85s/it]"
     ]
    },
    {
     "name": "stdout",
     "output_type": "stream",
     "text": [
      "'validation loss is 0.9613930836319924 '\n",
      "'validation accuracy is 0.8191406250000002 '\n",
      "'Epoch: 1209'\n",
      "'training loss is 0.06289812143553387 '\n",
      "'training accuracy is 0.9846590909090908 '\n",
      "'Epoch: 1209'\n"
     ]
    },
    {
     "name": "stderr",
     "output_type": "stream",
     "text": [
      "\r",
      " 48%|████▊     | 1209/2499 [36:34<40:03,  1.86s/it]"
     ]
    },
    {
     "name": "stdout",
     "output_type": "stream",
     "text": [
      "'validation loss is 0.9616761386394501 '\n",
      "'validation accuracy is 0.8194335937500001 '\n",
      "'Epoch: 1210'\n",
      "'training loss is 0.06305595792152664 '\n",
      "'training accuracy is 0.984659090909091 '\n",
      "'Epoch: 1210'\n"
     ]
    },
    {
     "name": "stderr",
     "output_type": "stream",
     "text": [
      "\r",
      " 48%|████▊     | 1210/2499 [36:36<39:26,  1.84s/it]"
     ]
    },
    {
     "name": "stdout",
     "output_type": "stream",
     "text": [
      "'validation loss is 0.9653940200805664 '\n",
      "'validation accuracy is 0.8194335937500001 '\n",
      "'Epoch: 1211'\n",
      "'training loss is 0.06292689964175224 '\n",
      "'training accuracy is 0.984659090909091 '\n",
      "'Epoch: 1211'\n"
     ]
    },
    {
     "name": "stderr",
     "output_type": "stream",
     "text": [
      "\r",
      " 48%|████▊     | 1211/2499 [36:38<39:18,  1.83s/it]"
     ]
    },
    {
     "name": "stdout",
     "output_type": "stream",
     "text": [
      "'validation loss is 0.954264934360981 '\n",
      "'validation accuracy is 0.8197265625000002 '\n",
      "'Epoch: 1212'\n",
      "'training loss is 0.06288707832043822 '\n",
      "'training accuracy is 0.9846590909090908 '\n",
      "'Epoch: 1212'\n"
     ]
    },
    {
     "name": "stderr",
     "output_type": "stream",
     "text": [
      "\r",
      " 48%|████▊     | 1212/2499 [36:40<39:10,  1.83s/it]"
     ]
    },
    {
     "name": "stdout",
     "output_type": "stream",
     "text": [
      "'validation loss is 0.9624317780137062 '\n",
      "'validation accuracy is 0.8197265625000002 '\n",
      "'Epoch: 1213'\n",
      "'training loss is 0.06319237094033849 '\n",
      "'training accuracy is 0.9846590909090908 '\n",
      "'Epoch: 1213'\n"
     ]
    },
    {
     "name": "stderr",
     "output_type": "stream",
     "text": [
      "\r",
      " 49%|████▊     | 1213/2499 [36:41<38:34,  1.80s/it]"
     ]
    },
    {
     "name": "stdout",
     "output_type": "stream",
     "text": [
      "'validation loss is 0.960259585082531 '\n",
      "'validation accuracy is 0.8191406250000002 '\n",
      "'Epoch: 1214'\n",
      "'training loss is 0.06321843611923131 '\n",
      "'training accuracy is 0.9846590909090911 '\n",
      "'Epoch: 1214'\n"
     ]
    },
    {
     "name": "stderr",
     "output_type": "stream",
     "text": [
      "\r",
      " 49%|████▊     | 1214/2499 [36:43<38:36,  1.80s/it]"
     ]
    },
    {
     "name": "stdout",
     "output_type": "stream",
     "text": [
      "'validation loss is 0.9599036619067192 '\n",
      "'validation accuracy is 0.8191406250000004 '\n",
      "'Epoch: 1215'\n",
      "'training loss is 0.0630009848285805 '\n",
      "'training accuracy is 0.984659090909091 '\n",
      "'Epoch: 1215'\n"
     ]
    },
    {
     "name": "stderr",
     "output_type": "stream",
     "text": [
      "\r",
      " 49%|████▊     | 1215/2499 [36:45<38:13,  1.79s/it]"
     ]
    },
    {
     "name": "stdout",
     "output_type": "stream",
     "text": [
      "'validation loss is 0.9563512369990349 '\n",
      "'validation accuracy is 0.8197265625000002 '\n",
      "'Epoch: 1216'\n",
      "'training loss is 0.06306407837705179 '\n",
      "'training accuracy is 0.984659090909091 '\n",
      "'Epoch: 1216'\n"
     ]
    },
    {
     "name": "stderr",
     "output_type": "stream",
     "text": [
      "\r",
      " 49%|████▊     | 1216/2499 [36:47<37:57,  1.78s/it]"
     ]
    },
    {
     "name": "stdout",
     "output_type": "stream",
     "text": [
      "'validation loss is 0.9654079958796501 '\n",
      "'validation accuracy is 0.8191406250000004 '\n",
      "'Epoch: 1217'\n",
      "'training loss is 0.06302148882638324 '\n",
      "'training accuracy is 0.984659090909091 '\n",
      "'Epoch: 1217'\n"
     ]
    },
    {
     "name": "stderr",
     "output_type": "stream",
     "text": [
      "\r",
      " 49%|████▊     | 1217/2499 [36:48<38:23,  1.80s/it]"
     ]
    },
    {
     "name": "stdout",
     "output_type": "stream",
     "text": [
      "'validation loss is 0.9668657928705215 '\n",
      "'validation accuracy is 0.8194335937500001 '\n",
      "'Epoch: 1218'\n",
      "'training loss is 0.06264842674136162 '\n",
      "'training accuracy is 0.984659090909091 '\n",
      "'Epoch: 1218'\n"
     ]
    },
    {
     "name": "stderr",
     "output_type": "stream",
     "text": [
      "\r",
      " 49%|████▊     | 1218/2499 [36:50<38:15,  1.79s/it]"
     ]
    },
    {
     "name": "stdout",
     "output_type": "stream",
     "text": [
      "'validation loss is 0.9619739323854446 '\n",
      "'validation accuracy is 0.8194335937500001 '\n",
      "'Epoch: 1219'\n",
      "'training loss is 0.06272981078787283 '\n",
      "'training accuracy is 0.9846590909090908 '\n",
      "'Epoch: 1219'\n"
     ]
    },
    {
     "name": "stderr",
     "output_type": "stream",
     "text": [
      "\r",
      " 49%|████▉     | 1219/2499 [36:52<38:29,  1.80s/it]"
     ]
    },
    {
     "name": "stdout",
     "output_type": "stream",
     "text": [
      "'validation loss is 0.9646223530173301 '\n",
      "'validation accuracy is 0.8191406250000002 '\n",
      "'Epoch: 1220'\n",
      "'training loss is 0.06286933645606041 '\n",
      "'training accuracy is 0.984659090909091 '\n",
      "'Epoch: 1220'\n"
     ]
    },
    {
     "name": "stderr",
     "output_type": "stream",
     "text": [
      "\r",
      " 49%|████▉     | 1220/2499 [36:54<38:31,  1.81s/it]"
     ]
    },
    {
     "name": "stdout",
     "output_type": "stream",
     "text": [
      "'validation loss is 0.9649512097239494 '\n",
      "'validation accuracy is 0.8191406250000002 '\n",
      "'Epoch: 1221'\n",
      "'training loss is 0.0628362734886733 '\n",
      "'training accuracy is 0.9846590909090908 '\n",
      "'Epoch: 1221'\n"
     ]
    },
    {
     "name": "stderr",
     "output_type": "stream",
     "text": [
      "\r",
      " 49%|████▉     | 1221/2499 [36:56<38:56,  1.83s/it]"
     ]
    },
    {
     "name": "stdout",
     "output_type": "stream",
     "text": [
      "'validation loss is 0.958449812233448 '\n",
      "'validation accuracy is 0.8200195312500002 '\n",
      "'Epoch: 1222'\n",
      "'training loss is 0.06298907778479836 '\n",
      "'training accuracy is 0.984659090909091 '\n",
      "'Epoch: 1222'\n"
     ]
    },
    {
     "name": "stderr",
     "output_type": "stream",
     "text": [
      "\r",
      " 49%|████▉     | 1222/2499 [36:58<39:06,  1.84s/it]"
     ]
    },
    {
     "name": "stdout",
     "output_type": "stream",
     "text": [
      "'validation loss is 0.9607231959700584 '\n",
      "'validation accuracy is 0.8194335937500001 '\n",
      "'Epoch: 1223'\n",
      "'training loss is 0.06278472630815073 '\n",
      "'training accuracy is 0.9846590909090908 '\n",
      "'Epoch: 1223'\n"
     ]
    },
    {
     "name": "stderr",
     "output_type": "stream",
     "text": [
      "\r",
      " 49%|████▉     | 1223/2499 [37:00<39:22,  1.85s/it]"
     ]
    },
    {
     "name": "stdout",
     "output_type": "stream",
     "text": [
      "'validation loss is 0.9522396236658096 '\n",
      "'validation accuracy is 0.82001953125 '\n",
      "'Epoch: 1224'\n",
      "'training loss is 0.06272293119267984 '\n",
      "'training accuracy is 0.9846590909090908 '\n",
      "'Epoch: 1224'\n"
     ]
    },
    {
     "name": "stderr",
     "output_type": "stream",
     "text": [
      "\r",
      " 49%|████▉     | 1224/2499 [37:01<39:16,  1.85s/it]"
     ]
    },
    {
     "name": "stdout",
     "output_type": "stream",
     "text": [
      "'validation loss is 0.9575510799884797 '\n",
      "'validation accuracy is 0.8194335937500001 '\n",
      "'Epoch: 1225'\n",
      "'training loss is 0.06278092549605803 '\n",
      "'training accuracy is 0.984659090909091 '\n",
      "'Epoch: 1225'\n"
     ]
    },
    {
     "name": "stderr",
     "output_type": "stream",
     "text": [
      "\r",
      " 49%|████▉     | 1225/2499 [37:03<38:54,  1.83s/it]"
     ]
    },
    {
     "name": "stdout",
     "output_type": "stream",
     "text": [
      "'validation loss is 0.9577105075120926 '\n",
      "'validation accuracy is 0.8200195312500002 '\n",
      "'Epoch: 1226'\n",
      "'training loss is 0.06303287873213942 '\n",
      "'training accuracy is 0.9846590909090908 '\n",
      "'Epoch: 1226'\n"
     ]
    },
    {
     "name": "stderr",
     "output_type": "stream",
     "text": [
      "\r",
      " 49%|████▉     | 1226/2499 [37:05<39:11,  1.85s/it]"
     ]
    },
    {
     "name": "stdout",
     "output_type": "stream",
     "text": [
      "'validation loss is 0.9551925972104073 '\n",
      "'validation accuracy is 0.8200195312500004 '\n",
      "'Epoch: 1227'\n",
      "'training loss is 0.06327483396638524 '\n",
      "'training accuracy is 0.984659090909091 '\n",
      "'Epoch: 1227'\n"
     ]
    },
    {
     "name": "stderr",
     "output_type": "stream",
     "text": [
      "\r",
      " 49%|████▉     | 1227/2499 [37:07<38:43,  1.83s/it]"
     ]
    },
    {
     "name": "stdout",
     "output_type": "stream",
     "text": [
      "'validation loss is 0.9561915710568428 '\n",
      "'validation accuracy is 0.8194335937500001 '\n",
      "'Epoch: 1228'\n",
      "'training loss is 0.06255320662801916 '\n",
      "'training accuracy is 0.9846590909090908 '\n",
      "'Epoch: 1228'\n"
     ]
    },
    {
     "name": "stderr",
     "output_type": "stream",
     "text": [
      "\r",
      " 49%|████▉     | 1228/2499 [37:09<38:49,  1.83s/it]"
     ]
    },
    {
     "name": "stdout",
     "output_type": "stream",
     "text": [
      "'validation loss is 0.9553138121962548 '\n",
      "'validation accuracy is 0.8197265625000002 '\n",
      "'Epoch: 1229'\n",
      "'training loss is 0.0628389072689143 '\n",
      "'training accuracy is 0.9846590909090908 '\n",
      "'Epoch: 1229'\n"
     ]
    },
    {
     "name": "stderr",
     "output_type": "stream",
     "text": [
      "\r",
      " 49%|████▉     | 1229/2499 [37:11<38:53,  1.84s/it]"
     ]
    },
    {
     "name": "stdout",
     "output_type": "stream",
     "text": [
      "'validation loss is 0.9627825140953064 '\n",
      "'validation accuracy is 0.8197265625000002 '\n",
      "'Epoch: 1230'\n",
      "'training loss is 0.06299819627946074 '\n",
      "'training accuracy is 0.984659090909091 '\n",
      "'Epoch: 1230'\n"
     ]
    },
    {
     "name": "stderr",
     "output_type": "stream",
     "text": [
      "\r",
      " 49%|████▉     | 1230/2499 [37:12<38:50,  1.84s/it]"
     ]
    },
    {
     "name": "stdout",
     "output_type": "stream",
     "text": [
      "'validation loss is 0.9599903777241707 '\n",
      "'validation accuracy is 0.81943359375 '\n",
      "'Epoch: 1231'\n",
      "'training loss is 0.06295764073729515 '\n",
      "'training accuracy is 0.9846590909090908 '\n",
      "'Epoch: 1231'\n"
     ]
    },
    {
     "name": "stderr",
     "output_type": "stream",
     "text": [
      "\r",
      " 49%|████▉     | 1231/2499 [37:14<38:21,  1.81s/it]"
     ]
    },
    {
     "name": "stdout",
     "output_type": "stream",
     "text": [
      "'validation loss is 0.961406484246254 '\n",
      "'validation accuracy is 0.8197265625000003 '\n",
      "'Epoch: 1232'\n",
      "'training loss is 0.0627849240871993 '\n",
      "'training accuracy is 0.984659090909091 '\n",
      "'Epoch: 1232'\n"
     ]
    },
    {
     "name": "stderr",
     "output_type": "stream",
     "text": [
      "\r",
      " 49%|████▉     | 1232/2499 [37:16<38:24,  1.82s/it]"
     ]
    },
    {
     "name": "stdout",
     "output_type": "stream",
     "text": [
      "'validation loss is 0.951817287504673 '\n",
      "'validation accuracy is 0.8197265625000002 '\n",
      "'Epoch: 1233'\n",
      "'training loss is 0.06262381916696375 '\n",
      "'training accuracy is 0.984659090909091 '\n",
      "'Epoch: 1233'\n"
     ]
    },
    {
     "name": "stderr",
     "output_type": "stream",
     "text": [
      "\r",
      " 49%|████▉     | 1233/2499 [37:18<38:45,  1.84s/it]"
     ]
    },
    {
     "name": "stdout",
     "output_type": "stream",
     "text": [
      "'validation loss is 0.9599577203392983 '\n",
      "'validation accuracy is 0.8194335937500001 '\n",
      "'Epoch: 1234'\n",
      "'training loss is 0.06284166533838619 '\n",
      "'training accuracy is 0.984659090909091 '\n",
      "'Epoch: 1234'\n"
     ]
    },
    {
     "name": "stderr",
     "output_type": "stream",
     "text": [
      "\r",
      " 49%|████▉     | 1234/2499 [37:20<38:25,  1.82s/it]"
     ]
    },
    {
     "name": "stdout",
     "output_type": "stream",
     "text": [
      "'validation loss is 0.9508126199245452 '\n",
      "'validation accuracy is 0.8206054687500002 '\n",
      "'Epoch: 1235'\n",
      "'training loss is 0.06257336722178893 '\n",
      "'training accuracy is 0.984659090909091 '\n",
      "'Epoch: 1235'\n"
     ]
    },
    {
     "name": "stderr",
     "output_type": "stream",
     "text": [
      "\r",
      " 49%|████▉     | 1235/2499 [37:21<37:48,  1.79s/it]"
     ]
    },
    {
     "name": "stdout",
     "output_type": "stream",
     "text": [
      "'validation loss is 0.9540607929229736 '\n",
      "'validation accuracy is 0.8197265625000002 '\n",
      "'Epoch: 1236'\n",
      "'training loss is 0.06304482539946382 '\n",
      "'training accuracy is 0.9846590909090908 '\n",
      "'Epoch: 1236'\n"
     ]
    },
    {
     "name": "stderr",
     "output_type": "stream",
     "text": [
      "\r",
      " 49%|████▉     | 1236/2499 [37:23<38:19,  1.82s/it]"
     ]
    },
    {
     "name": "stdout",
     "output_type": "stream",
     "text": [
      "'validation loss is 0.9645902752876282 '\n",
      "'validation accuracy is 0.8191406250000002 '\n",
      "'Epoch: 1237'\n",
      "'training loss is 0.06296545504169031 '\n",
      "'training accuracy is 0.9846590909090908 '\n",
      "'Epoch: 1237'\n"
     ]
    },
    {
     "name": "stderr",
     "output_type": "stream",
     "text": [
      "\r",
      " 49%|████▉     | 1237/2499 [37:25<38:18,  1.82s/it]"
     ]
    },
    {
     "name": "stdout",
     "output_type": "stream",
     "text": [
      "'validation loss is 0.9598536550998688 '\n",
      "'validation accuracy is 0.8197265625000002 '\n",
      "'Epoch: 1238'\n",
      "'training loss is 0.06280537118965929 '\n",
      "'training accuracy is 0.9846590909090908 '\n",
      "'Epoch: 1238'\n"
     ]
    },
    {
     "name": "stderr",
     "output_type": "stream",
     "text": [
      "\r",
      " 50%|████▉     | 1238/2499 [37:27<38:19,  1.82s/it]"
     ]
    },
    {
     "name": "stdout",
     "output_type": "stream",
     "text": [
      "'validation loss is 0.9554713189601898 '\n",
      "'validation accuracy is 0.8206054687500002 '\n",
      "'Epoch: 1239'\n",
      "'training loss is 0.06281951035965573 '\n",
      "'training accuracy is 0.984659090909091 '\n",
      "'Epoch: 1239'\n"
     ]
    },
    {
     "name": "stderr",
     "output_type": "stream",
     "text": [
      "\r",
      " 50%|████▉     | 1239/2499 [37:29<38:31,  1.83s/it]"
     ]
    },
    {
     "name": "stdout",
     "output_type": "stream",
     "text": [
      "'validation loss is 0.9589327424764633 '\n",
      "'validation accuracy is 0.8194335937500001 '\n",
      "'Epoch: 1240'\n",
      "'training loss is 0.06346021728082137 '\n",
      "'training accuracy is 0.984659090909091 '\n",
      "'Epoch: 1240'\n"
     ]
    },
    {
     "name": "stderr",
     "output_type": "stream",
     "text": [
      "\r",
      " 50%|████▉     | 1240/2499 [37:31<38:54,  1.85s/it]"
     ]
    },
    {
     "name": "stdout",
     "output_type": "stream",
     "text": [
      "'validation loss is 0.9579246699810028 '\n",
      "'validation accuracy is 0.8197265625000002 '\n",
      "'Epoch: 1241'\n",
      "'training loss is 0.06289299645207146 '\n",
      "'training accuracy is 0.9846590909090908 '\n",
      "'Epoch: 1241'\n"
     ]
    },
    {
     "name": "stderr",
     "output_type": "stream",
     "text": [
      "\r",
      " 50%|████▉     | 1241/2499 [37:32<38:45,  1.85s/it]"
     ]
    },
    {
     "name": "stdout",
     "output_type": "stream",
     "text": [
      "'validation loss is 0.9594824314117432 '\n",
      "'validation accuracy is 0.8197265625000002 '\n",
      "'Epoch: 1242'\n",
      "'training loss is 0.06323881752111694 '\n",
      "'training accuracy is 0.984659090909091 '\n",
      "'Epoch: 1242'\n"
     ]
    },
    {
     "name": "stderr",
     "output_type": "stream",
     "text": [
      "\r",
      " 50%|████▉     | 1242/2499 [37:34<39:07,  1.87s/it]"
     ]
    },
    {
     "name": "stdout",
     "output_type": "stream",
     "text": [
      "'validation loss is 0.9560835033655166 '\n",
      "'validation accuracy is 0.8194335937500001 '\n",
      "'Epoch: 1243'\n",
      "'training loss is 0.06282115456732837 '\n",
      "'training accuracy is 0.9846590909090908 '\n",
      "'Epoch: 1243'\n"
     ]
    },
    {
     "name": "stderr",
     "output_type": "stream",
     "text": [
      "\r",
      " 50%|████▉     | 1243/2499 [37:36<38:35,  1.84s/it]"
     ]
    },
    {
     "name": "stdout",
     "output_type": "stream",
     "text": [
      "'validation loss is 0.9659362867474556 '\n",
      "'validation accuracy is 0.8194335937500001 '\n",
      "'Epoch: 1244'\n",
      "'training loss is 0.0630794959989461 '\n",
      "'training accuracy is 0.984659090909091 '\n",
      "'Epoch: 1244'\n"
     ]
    },
    {
     "name": "stderr",
     "output_type": "stream",
     "text": [
      "\r",
      " 50%|████▉     | 1244/2499 [37:38<38:19,  1.83s/it]"
     ]
    },
    {
     "name": "stdout",
     "output_type": "stream",
     "text": [
      "'validation loss is 0.962972092628479 '\n",
      "'validation accuracy is 0.8197265625000002 '\n",
      "'Epoch: 1245'\n",
      "'training loss is 0.0629198049957102 '\n",
      "'training accuracy is 0.984659090909091 '\n",
      "'Epoch: 1245'\n"
     ]
    },
    {
     "name": "stderr",
     "output_type": "stream",
     "text": [
      "\r",
      " 50%|████▉     | 1245/2499 [37:40<37:50,  1.81s/it]"
     ]
    },
    {
     "name": "stdout",
     "output_type": "stream",
     "text": [
      "'validation loss is 0.9578541159629822 '\n",
      "'validation accuracy is 0.8194335937500001 '\n",
      "'Epoch: 1246'\n",
      "'training loss is 0.0625568347221071 '\n",
      "'training accuracy is 0.984659090909091 '\n",
      "'Epoch: 1246'\n"
     ]
    },
    {
     "name": "stderr",
     "output_type": "stream",
     "text": [
      "\r",
      " 50%|████▉     | 1246/2499 [37:42<37:56,  1.82s/it]"
     ]
    },
    {
     "name": "stdout",
     "output_type": "stream",
     "text": [
      "'validation loss is 0.9556847780942916 '\n",
      "'validation accuracy is 0.81943359375 '\n",
      "'Epoch: 1247'\n",
      "'training loss is 0.06275202537124808 '\n",
      "'training accuracy is 0.9846590909090908 '\n",
      "'Epoch: 1247'\n"
     ]
    },
    {
     "name": "stderr",
     "output_type": "stream",
     "text": [
      "\r",
      " 50%|████▉     | 1247/2499 [37:43<37:47,  1.81s/it]"
     ]
    },
    {
     "name": "stdout",
     "output_type": "stream",
     "text": [
      "'validation loss is 0.953959222137928 '\n",
      "'validation accuracy is 0.8194335937500001 '\n",
      "'Epoch: 1248'\n",
      "'training loss is 0.06329169496893883 '\n",
      "'training accuracy is 0.9846590909090908 '\n",
      "'Epoch: 1248'\n"
     ]
    },
    {
     "name": "stderr",
     "output_type": "stream",
     "text": [
      "\r",
      " 50%|████▉     | 1248/2499 [37:45<38:05,  1.83s/it]"
     ]
    },
    {
     "name": "stdout",
     "output_type": "stream",
     "text": [
      "'validation loss is 0.9543271601200104 '\n",
      "'validation accuracy is 0.8197265625000003 '\n",
      "'Epoch: 1249'\n",
      "'training loss is 0.06293887035413222 '\n",
      "'training accuracy is 0.984659090909091 '\n",
      "'Epoch: 1249'\n"
     ]
    },
    {
     "name": "stderr",
     "output_type": "stream",
     "text": [
      "\r",
      " 50%|████▉     | 1249/2499 [37:47<37:54,  1.82s/it]"
     ]
    },
    {
     "name": "stdout",
     "output_type": "stream",
     "text": [
      "'validation loss is 0.9511456340551376 '\n",
      "'validation accuracy is 0.8197265625000002 '\n",
      "'Epoch: 1250'\n",
      "'training loss is 0.06314662403681061 '\n",
      "'training accuracy is 0.984659090909091 '\n",
      "'Epoch: 1250'\n"
     ]
    },
    {
     "name": "stderr",
     "output_type": "stream",
     "text": [
      "\r",
      " 50%|█████     | 1250/2499 [37:49<38:03,  1.83s/it]"
     ]
    },
    {
     "name": "stdout",
     "output_type": "stream",
     "text": [
      "'validation loss is 0.9497072517871856 '\n",
      "'validation accuracy is 0.8197265625000002 '\n",
      "'Epoch: 1251'\n",
      "'training loss is 0.06282405995509842 '\n",
      "'training accuracy is 0.984659090909091 '\n",
      "'Epoch: 1251'\n"
     ]
    },
    {
     "name": "stderr",
     "output_type": "stream",
     "text": [
      "\r",
      " 50%|█████     | 1251/2499 [37:51<37:08,  1.79s/it]"
     ]
    },
    {
     "name": "stdout",
     "output_type": "stream",
     "text": [
      "'validation loss is 0.9551003977656365 '\n",
      "'validation accuracy is 0.8194335937500001 '\n",
      "'Epoch: 1252'\n",
      "'training loss is 0.06279716403646902 '\n",
      "'training accuracy is 0.984659090909091 '\n",
      "'Epoch: 1252'\n"
     ]
    },
    {
     "name": "stderr",
     "output_type": "stream",
     "text": [
      "\r",
      " 50%|█████     | 1252/2499 [37:52<37:51,  1.82s/it]"
     ]
    },
    {
     "name": "stdout",
     "output_type": "stream",
     "text": [
      "'validation loss is 0.9491833955049515 '\n",
      "'validation accuracy is 0.8200195312500004 '\n",
      "'Epoch: 1253'\n",
      "'training loss is 0.06336387382312254 '\n",
      "'training accuracy is 0.984659090909091 '\n",
      "'Epoch: 1253'\n"
     ]
    },
    {
     "name": "stderr",
     "output_type": "stream",
     "text": [
      "\r",
      " 50%|█████     | 1253/2499 [37:54<38:15,  1.84s/it]"
     ]
    },
    {
     "name": "stdout",
     "output_type": "stream",
     "text": [
      "'validation loss is 0.9597158029675483 '\n",
      "'validation accuracy is 0.81943359375 '\n",
      "'Epoch: 1254'\n",
      "'training loss is 0.06283023276112297 '\n",
      "'training accuracy is 0.984659090909091 '\n",
      "'Epoch: 1254'\n"
     ]
    },
    {
     "name": "stderr",
     "output_type": "stream",
     "text": [
      "\r",
      " 50%|█████     | 1254/2499 [37:56<38:25,  1.85s/it]"
     ]
    },
    {
     "name": "stdout",
     "output_type": "stream",
     "text": [
      "'validation loss is 0.9544977053999901 '\n",
      "'validation accuracy is 0.8194335937500001 '\n",
      "'Epoch: 1255'\n",
      "'training loss is 0.06311132284727963 '\n",
      "'training accuracy is 0.984659090909091 '\n",
      "'Epoch: 1255'\n"
     ]
    },
    {
     "name": "stderr",
     "output_type": "stream",
     "text": [
      "\r",
      " 50%|█████     | 1255/2499 [37:58<37:35,  1.81s/it]"
     ]
    },
    {
     "name": "stdout",
     "output_type": "stream",
     "text": [
      "'validation loss is 0.9527653083205223 '\n",
      "'validation accuracy is 0.81943359375 '\n",
      "'Epoch: 1256'\n",
      "'training loss is 0.06299060650847176 '\n",
      "'training accuracy is 0.984659090909091 '\n",
      "'Epoch: 1256'\n"
     ]
    },
    {
     "name": "stderr",
     "output_type": "stream",
     "text": [
      "\r",
      " 50%|█████     | 1256/2499 [38:00<36:57,  1.78s/it]"
     ]
    },
    {
     "name": "stdout",
     "output_type": "stream",
     "text": [
      "'validation loss is 0.955829368531704 '\n",
      "'validation accuracy is 0.8200195312500002 '\n",
      "'Epoch: 1257'\n",
      "'training loss is 0.06270125406709584 '\n",
      "'training accuracy is 0.984659090909091 '\n",
      "'Epoch: 1257'\n"
     ]
    },
    {
     "name": "stderr",
     "output_type": "stream",
     "text": [
      "\r",
      " 50%|█████     | 1257/2499 [38:01<37:01,  1.79s/it]"
     ]
    },
    {
     "name": "stdout",
     "output_type": "stream",
     "text": [
      "'validation loss is 0.9619616374373436 '\n",
      "'validation accuracy is 0.8191406250000002 '\n",
      "'Epoch: 1258'\n",
      "'training loss is 0.0631622269072316 '\n",
      "'training accuracy is 0.984659090909091 '\n",
      "'Epoch: 1258'\n"
     ]
    },
    {
     "name": "stderr",
     "output_type": "stream",
     "text": [
      "\r",
      " 50%|█████     | 1258/2499 [38:03<37:33,  1.82s/it]"
     ]
    },
    {
     "name": "stdout",
     "output_type": "stream",
     "text": [
      "'validation loss is 0.9493358075618744 '\n",
      "'validation accuracy is 0.8197265625000003 '\n",
      "'Epoch: 1259'\n",
      "'training loss is 0.0626677234064449 '\n",
      "'training accuracy is 0.984659090909091 '\n",
      "'Epoch: 1259'\n"
     ]
    },
    {
     "name": "stderr",
     "output_type": "stream",
     "text": [
      "\r",
      " 50%|█████     | 1259/2499 [38:05<37:36,  1.82s/it]"
     ]
    },
    {
     "name": "stdout",
     "output_type": "stream",
     "text": [
      "'validation loss is 0.9429157987236977 '\n",
      "'validation accuracy is 0.8203125000000003 '\n",
      "'Epoch: 1260'\n",
      "'training loss is 0.06301658600568771 '\n",
      "'training accuracy is 0.984659090909091 '\n",
      "'Epoch: 1260'\n"
     ]
    },
    {
     "name": "stderr",
     "output_type": "stream",
     "text": [
      "\r",
      " 50%|█████     | 1260/2499 [38:07<37:39,  1.82s/it]"
     ]
    },
    {
     "name": "stdout",
     "output_type": "stream",
     "text": [
      "'validation loss is 0.9469575598835945 '\n",
      "'validation accuracy is 0.8197265625000002 '\n",
      "'Epoch: 1261'\n",
      "'training loss is 0.0629316046833992 '\n",
      "'training accuracy is 0.984659090909091 '\n",
      "'Epoch: 1261'\n"
     ]
    },
    {
     "name": "stderr",
     "output_type": "stream",
     "text": [
      "\r",
      " 50%|█████     | 1261/2499 [38:09<37:42,  1.83s/it]"
     ]
    },
    {
     "name": "stdout",
     "output_type": "stream",
     "text": [
      "'validation loss is 0.9527437195181847 '\n",
      "'validation accuracy is 0.8194335937500001 '\n",
      "'Epoch: 1262'\n",
      "'training loss is 0.06283786384896799 '\n",
      "'training accuracy is 0.9846590909090908 '\n",
      "'Epoch: 1262'\n"
     ]
    },
    {
     "name": "stderr",
     "output_type": "stream",
     "text": [
      "\r",
      " 51%|█████     | 1262/2499 [38:11<37:58,  1.84s/it]"
     ]
    },
    {
     "name": "stdout",
     "output_type": "stream",
     "text": [
      "'validation loss is 0.9596803665161133 '\n",
      "'validation accuracy is 0.81943359375 '\n",
      "'Epoch: 1263'\n",
      "'training loss is 0.06278022920543497 '\n",
      "'training accuracy is 0.984659090909091 '\n",
      "'Epoch: 1263'\n"
     ]
    },
    {
     "name": "stderr",
     "output_type": "stream",
     "text": [
      "\r",
      " 51%|█████     | 1263/2499 [38:13<38:07,  1.85s/it]"
     ]
    },
    {
     "name": "stdout",
     "output_type": "stream",
     "text": [
      "'validation loss is 0.9494193449616433 '\n",
      "'validation accuracy is 0.8200195312500002 '\n",
      "'Epoch: 1264'\n",
      "'training loss is 0.06330120495774529 '\n",
      "'training accuracy is 0.984659090909091 '\n",
      "'Epoch: 1264'\n"
     ]
    },
    {
     "name": "stderr",
     "output_type": "stream",
     "text": [
      "\r",
      " 51%|█████     | 1264/2499 [38:14<37:51,  1.84s/it]"
     ]
    },
    {
     "name": "stdout",
     "output_type": "stream",
     "text": [
      "'validation loss is 0.952114175260067 '\n",
      "'validation accuracy is 0.8191406250000002 '\n",
      "'Epoch: 1265'\n",
      "'training loss is 0.06287683004682715 '\n",
      "'training accuracy is 0.984659090909091 '\n",
      "'Epoch: 1265'\n"
     ]
    },
    {
     "name": "stderr",
     "output_type": "stream",
     "text": [
      "\r",
      " 51%|█████     | 1265/2499 [38:16<38:39,  1.88s/it]"
     ]
    },
    {
     "name": "stdout",
     "output_type": "stream",
     "text": [
      "'validation loss is 0.9498312905430794 '\n",
      "'validation accuracy is 0.8200195312500002 '\n",
      "'Epoch: 1266'\n",
      "'training loss is 0.06293751062317328 '\n",
      "'training accuracy is 0.9846590909090908 '\n",
      "'Epoch: 1266'\n"
     ]
    },
    {
     "name": "stderr",
     "output_type": "stream",
     "text": [
      "\r",
      " 51%|█████     | 1266/2499 [38:18<38:37,  1.88s/it]"
     ]
    },
    {
     "name": "stdout",
     "output_type": "stream",
     "text": [
      "'validation loss is 0.949308593571186 '\n",
      "'validation accuracy is 0.8197265625 '\n",
      "'Epoch: 1267'\n",
      "'training loss is 0.06246524913744493 '\n",
      "'training accuracy is 0.984659090909091 '\n",
      "'Epoch: 1267'\n"
     ]
    },
    {
     "name": "stderr",
     "output_type": "stream",
     "text": [
      "\r",
      " 51%|█████     | 1267/2499 [38:20<38:33,  1.88s/it]"
     ]
    },
    {
     "name": "stdout",
     "output_type": "stream",
     "text": [
      "'validation loss is 0.9560561075806617 '\n",
      "'validation accuracy is 0.8194335937500001 '\n",
      "'Epoch: 1268'\n",
      "'training loss is 0.06275890225713904 '\n",
      "'training accuracy is 0.9846590909090908 '\n",
      "'Epoch: 1268'\n"
     ]
    },
    {
     "name": "stderr",
     "output_type": "stream",
     "text": [
      "\r",
      " 51%|█████     | 1268/2499 [38:22<38:35,  1.88s/it]"
     ]
    },
    {
     "name": "stdout",
     "output_type": "stream",
     "text": [
      "'validation loss is 0.9587036311626435 '\n",
      "'validation accuracy is 0.8194335937500001 '\n",
      "'Epoch: 1269'\n",
      "'training loss is 0.06295081837610765 '\n",
      "'training accuracy is 0.984659090909091 '\n",
      "'Epoch: 1269'\n"
     ]
    },
    {
     "name": "stderr",
     "output_type": "stream",
     "text": [
      "\r",
      " 51%|█████     | 1269/2499 [38:24<38:10,  1.86s/it]"
     ]
    },
    {
     "name": "stdout",
     "output_type": "stream",
     "text": [
      "'validation loss is 0.9585914656519889 '\n",
      "'validation accuracy is 0.8200195312500002 '\n",
      "'Epoch: 1270'\n",
      "'training loss is 0.06284813549030911 '\n",
      "'training accuracy is 0.984659090909091 '\n",
      "'Epoch: 1270'\n"
     ]
    },
    {
     "name": "stderr",
     "output_type": "stream",
     "text": [
      "\r",
      " 51%|█████     | 1270/2499 [38:26<38:44,  1.89s/it]"
     ]
    },
    {
     "name": "stdout",
     "output_type": "stream",
     "text": [
      "'validation loss is 0.9554465621709823 '\n",
      "'validation accuracy is 0.8197265625000002 '\n",
      "'Epoch: 1271'\n",
      "'training loss is 0.06310191615061327 '\n",
      "'training accuracy is 0.984659090909091 '\n",
      "'Epoch: 1271'\n"
     ]
    },
    {
     "name": "stderr",
     "output_type": "stream",
     "text": [
      "\r",
      " 51%|█████     | 1271/2499 [38:28<37:50,  1.85s/it]"
     ]
    },
    {
     "name": "stdout",
     "output_type": "stream",
     "text": [
      "'validation loss is 0.9569109544157982 '\n",
      "'validation accuracy is 0.8197265625000002 '\n",
      "'Epoch: 1272'\n",
      "'training loss is 0.06302040578289465 '\n",
      "'training accuracy is 0.984659090909091 '\n",
      "'Epoch: 1272'\n"
     ]
    },
    {
     "name": "stderr",
     "output_type": "stream",
     "text": [
      "\r",
      " 51%|█████     | 1272/2499 [38:30<38:31,  1.88s/it]"
     ]
    },
    {
     "name": "stdout",
     "output_type": "stream",
     "text": [
      "'validation loss is 0.9586696952581406 '\n",
      "'validation accuracy is 0.8194335937500001 '\n",
      "'Epoch: 1273'\n",
      "'training loss is 0.06288159062916582 '\n",
      "'training accuracy is 0.984659090909091 '\n",
      "'Epoch: 1273'\n"
     ]
    },
    {
     "name": "stderr",
     "output_type": "stream",
     "text": [
      "\r",
      " 51%|█████     | 1273/2499 [38:31<38:30,  1.88s/it]"
     ]
    },
    {
     "name": "stdout",
     "output_type": "stream",
     "text": [
      "'validation loss is 0.9536401599645614 '\n",
      "'validation accuracy is 0.8194335937500001 '\n",
      "'Epoch: 1274'\n",
      "'training loss is 0.06290230324322527 '\n",
      "'training accuracy is 0.984659090909091 '\n",
      "'Epoch: 1274'\n"
     ]
    },
    {
     "name": "stderr",
     "output_type": "stream",
     "text": [
      "\r",
      " 51%|█████     | 1274/2499 [38:33<37:38,  1.84s/it]"
     ]
    },
    {
     "name": "stdout",
     "output_type": "stream",
     "text": [
      "'validation loss is 0.9454724729061127 '\n",
      "'validation accuracy is 0.8200195312500002 '\n",
      "'Epoch: 1275'\n",
      "'training loss is 0.0630063729530031 '\n",
      "'training accuracy is 0.9846590909090908 '\n",
      "'Epoch: 1275'\n"
     ]
    },
    {
     "name": "stderr",
     "output_type": "stream",
     "text": [
      "\r",
      " 51%|█████     | 1275/2499 [38:35<37:37,  1.84s/it]"
     ]
    },
    {
     "name": "stdout",
     "output_type": "stream",
     "text": [
      "'validation loss is 0.9543868005275726 '\n",
      "'validation accuracy is 0.8197265625000002 '\n",
      "'Epoch: 1276'\n",
      "'training loss is 0.06323158436200836 '\n",
      "'training accuracy is 0.984659090909091 '\n",
      "'Epoch: 1276'\n"
     ]
    },
    {
     "name": "stderr",
     "output_type": "stream",
     "text": [
      "\r",
      " 51%|█████     | 1276/2499 [38:37<37:32,  1.84s/it]"
     ]
    },
    {
     "name": "stdout",
     "output_type": "stream",
     "text": [
      "'validation loss is 0.9534400463104248 '\n",
      "'validation accuracy is 0.8191406250000004 '\n",
      "'Epoch: 1277'\n",
      "'training loss is 0.06285465203902939 '\n",
      "'training accuracy is 0.984659090909091 '\n",
      "'Epoch: 1277'\n"
     ]
    },
    {
     "name": "stderr",
     "output_type": "stream",
     "text": [
      "\r",
      " 51%|█████     | 1277/2499 [38:39<36:49,  1.81s/it]"
     ]
    },
    {
     "name": "stdout",
     "output_type": "stream",
     "text": [
      "'validation loss is 0.9533924594521522 '\n",
      "'validation accuracy is 0.8200195312500002 '\n",
      "'Epoch: 1278'\n",
      "'training loss is 0.06230431253259832 '\n",
      "'training accuracy is 0.9846590909090908 '\n",
      "'Epoch: 1278'\n"
     ]
    },
    {
     "name": "stderr",
     "output_type": "stream",
     "text": [
      "\r",
      " 51%|█████     | 1278/2499 [38:40<37:14,  1.83s/it]"
     ]
    },
    {
     "name": "stdout",
     "output_type": "stream",
     "text": [
      "'validation loss is 0.9518882393836975 '\n",
      "'validation accuracy is 0.8200195312500004 '\n",
      "'Epoch: 1279'\n",
      "'training loss is 0.0628375644710931 '\n",
      "'training accuracy is 0.984659090909091 '\n",
      "'Epoch: 1279'\n"
     ]
    },
    {
     "name": "stderr",
     "output_type": "stream",
     "text": [
      "\r",
      " 51%|█████     | 1279/2499 [38:42<36:45,  1.81s/it]"
     ]
    },
    {
     "name": "stdout",
     "output_type": "stream",
     "text": [
      "'validation loss is 0.9482139050960541 '\n",
      "'validation accuracy is 0.8194335937500001 '\n",
      "'Epoch: 1280'\n",
      "'training loss is 0.06292888251217929 '\n",
      "'training accuracy is 0.9846590909090908 '\n",
      "'Epoch: 1280'\n"
     ]
    },
    {
     "name": "stderr",
     "output_type": "stream",
     "text": [
      "\r",
      " 51%|█████     | 1280/2499 [38:44<36:41,  1.81s/it]"
     ]
    },
    {
     "name": "stdout",
     "output_type": "stream",
     "text": [
      "'validation loss is 0.94130440056324 '\n",
      "'validation accuracy is 0.8197265625 '\n",
      "'Epoch: 1281'\n",
      "'training loss is 0.06296084821224213 '\n",
      "'training accuracy is 0.984659090909091 '\n",
      "'Epoch: 1281'\n"
     ]
    },
    {
     "name": "stderr",
     "output_type": "stream",
     "text": [
      "\r",
      " 51%|█████▏    | 1281/2499 [38:46<37:10,  1.83s/it]"
     ]
    },
    {
     "name": "stdout",
     "output_type": "stream",
     "text": [
      "'validation loss is 0.9510107487440109 '\n",
      "'validation accuracy is 0.8197265625000002 '\n",
      "'Epoch: 1282'\n",
      "'training loss is 0.06254110485315323 '\n",
      "'training accuracy is 0.9846590909090908 '\n",
      "'Epoch: 1282'\n"
     ]
    },
    {
     "name": "stderr",
     "output_type": "stream",
     "text": [
      "\r",
      " 51%|█████▏    | 1282/2499 [38:48<36:57,  1.82s/it]"
     ]
    },
    {
     "name": "stdout",
     "output_type": "stream",
     "text": [
      "'validation loss is 0.9491528540849685 '\n",
      "'validation accuracy is 0.8200195312500002 '\n",
      "'Epoch: 1283'\n",
      "'training loss is 0.06310192698782141 '\n",
      "'training accuracy is 0.9846590909090908 '\n",
      "'Epoch: 1283'\n"
     ]
    },
    {
     "name": "stderr",
     "output_type": "stream",
     "text": [
      "\r",
      " 51%|█████▏    | 1283/2499 [38:50<37:06,  1.83s/it]"
     ]
    },
    {
     "name": "stdout",
     "output_type": "stream",
     "text": [
      "'validation loss is 0.9505948990583419 '\n",
      "'validation accuracy is 0.8197265625000002 '\n",
      "'Epoch: 1284'\n",
      "'training loss is 0.06291754577647556 '\n",
      "'training accuracy is 0.984659090909091 '\n",
      "'Epoch: 1284'\n"
     ]
    },
    {
     "name": "stderr",
     "output_type": "stream",
     "text": [
      "\r",
      " 51%|█████▏    | 1284/2499 [38:51<37:24,  1.85s/it]"
     ]
    },
    {
     "name": "stdout",
     "output_type": "stream",
     "text": [
      "'validation loss is 0.9435636416077614 '\n",
      "'validation accuracy is 0.8194335937500001 '\n",
      "'Epoch: 1285'\n",
      "'training loss is 0.06265588375655087 '\n",
      "'training accuracy is 0.984659090909091 '\n",
      "'Epoch: 1285'\n"
     ]
    },
    {
     "name": "stderr",
     "output_type": "stream",
     "text": [
      "\r",
      " 51%|█████▏    | 1285/2499 [38:53<37:21,  1.85s/it]"
     ]
    },
    {
     "name": "stdout",
     "output_type": "stream",
     "text": [
      "'validation loss is 0.9508485838770866 '\n",
      "'validation accuracy is 0.8194335937500001 '\n",
      "'Epoch: 1286'\n",
      "'training loss is 0.06274146281860092 '\n",
      "'training accuracy is 0.984659090909091 '\n",
      "'Epoch: 1286'\n"
     ]
    },
    {
     "name": "stderr",
     "output_type": "stream",
     "text": [
      "\r",
      " 51%|█████▏    | 1286/2499 [38:55<36:57,  1.83s/it]"
     ]
    },
    {
     "name": "stdout",
     "output_type": "stream",
     "text": [
      "'validation loss is 0.9480591461062431 '\n",
      "'validation accuracy is 0.81943359375 '\n",
      "'Epoch: 1287'\n",
      "'training loss is 0.06296373361890967 '\n",
      "'training accuracy is 0.984659090909091 '\n",
      "'Epoch: 1287'\n"
     ]
    },
    {
     "name": "stderr",
     "output_type": "stream",
     "text": [
      "\r",
      " 52%|█████▏    | 1287/2499 [38:57<36:27,  1.80s/it]"
     ]
    },
    {
     "name": "stdout",
     "output_type": "stream",
     "text": [
      "'validation loss is 0.9491272985935211 '\n",
      "'validation accuracy is 0.8191406250000002 '\n",
      "'Epoch: 1288'\n",
      "'training loss is 0.06300644644282082 '\n",
      "'training accuracy is 0.984659090909091 '\n",
      "'Epoch: 1288'\n"
     ]
    },
    {
     "name": "stderr",
     "output_type": "stream",
     "text": [
      "\r",
      " 52%|█████▏    | 1288/2499 [38:59<37:02,  1.84s/it]"
     ]
    },
    {
     "name": "stdout",
     "output_type": "stream",
     "text": [
      "'validation loss is 0.9517972558736801 '\n",
      "'validation accuracy is 0.8194335937500001 '\n",
      "'Epoch: 1289'\n",
      "'training loss is 0.06277936392209747 '\n",
      "'training accuracy is 0.9846590909090908 '\n",
      "'Epoch: 1289'\n"
     ]
    },
    {
     "name": "stderr",
     "output_type": "stream",
     "text": [
      "\r",
      " 52%|█████▏    | 1289/2499 [39:01<37:03,  1.84s/it]"
     ]
    },
    {
     "name": "stdout",
     "output_type": "stream",
     "text": [
      "'validation loss is 0.9517314255237579 '\n",
      "'validation accuracy is 0.8191406250000002 '\n",
      "'Epoch: 1290'\n",
      "'training loss is 0.06273891167207198 '\n",
      "'training accuracy is 0.984659090909091 '\n",
      "'Epoch: 1290'\n"
     ]
    },
    {
     "name": "stderr",
     "output_type": "stream",
     "text": [
      "\r",
      " 52%|█████▏    | 1290/2499 [39:02<37:02,  1.84s/it]"
     ]
    },
    {
     "name": "stdout",
     "output_type": "stream",
     "text": [
      "'validation loss is 0.9468610495328903 '\n",
      "'validation accuracy is 0.8197265625000002 '\n",
      "'Epoch: 1291'\n",
      "'training loss is 0.06298765032128854 '\n",
      "'training accuracy is 0.984659090909091 '\n",
      "'Epoch: 1291'\n"
     ]
    },
    {
     "name": "stderr",
     "output_type": "stream",
     "text": [
      "\r",
      " 52%|█████▏    | 1291/2499 [39:04<36:51,  1.83s/it]"
     ]
    },
    {
     "name": "stdout",
     "output_type": "stream",
     "text": [
      "'validation loss is 0.9540539607405663 '\n",
      "'validation accuracy is 0.8191406250000004 '\n",
      "'Epoch: 1292'\n",
      "'training loss is 0.06305071101947264 '\n",
      "'training accuracy is 0.9846590909090908 '\n",
      "'Epoch: 1292'\n"
     ]
    },
    {
     "name": "stderr",
     "output_type": "stream",
     "text": [
      "\r",
      " 52%|█████▏    | 1292/2499 [39:06<36:45,  1.83s/it]"
     ]
    },
    {
     "name": "stdout",
     "output_type": "stream",
     "text": [
      "'validation loss is 0.9525393784046173 '\n",
      "'validation accuracy is 0.8191406250000002 '\n",
      "'Epoch: 1293'\n",
      "'training loss is 0.06275073032487523 '\n",
      "'training accuracy is 0.9846590909090908 '\n",
      "'Epoch: 1293'\n"
     ]
    },
    {
     "name": "stderr",
     "output_type": "stream",
     "text": [
      "\r",
      " 52%|█████▏    | 1293/2499 [39:08<37:32,  1.87s/it]"
     ]
    },
    {
     "name": "stdout",
     "output_type": "stream",
     "text": [
      "'validation loss is 0.9526113107800483 '\n",
      "'validation accuracy is 0.8200195312500002 '\n",
      "'Epoch: 1294'\n",
      "'training loss is 0.06316791982813315 '\n",
      "'training accuracy is 0.9846590909090908 '\n",
      "'Epoch: 1294'\n"
     ]
    },
    {
     "name": "stderr",
     "output_type": "stream",
     "text": [
      "\r",
      " 52%|█████▏    | 1294/2499 [39:10<37:36,  1.87s/it]"
     ]
    },
    {
     "name": "stdout",
     "output_type": "stream",
     "text": [
      "'validation loss is 0.9512117981910706 '\n",
      "'validation accuracy is 0.8194335937500001 '\n",
      "'Epoch: 1295'\n",
      "'training loss is 0.06291333111849698 '\n",
      "'training accuracy is 0.984659090909091 '\n",
      "'Epoch: 1295'\n"
     ]
    },
    {
     "name": "stderr",
     "output_type": "stream",
     "text": [
      "\r",
      " 52%|█████▏    | 1295/2499 [39:12<36:49,  1.84s/it]"
     ]
    },
    {
     "name": "stdout",
     "output_type": "stream",
     "text": [
      "'validation loss is 0.956427438557148 '\n",
      "'validation accuracy is 0.8194335937500001 '\n",
      "'Epoch: 1296'\n",
      "'training loss is 0.06250755590471355 '\n",
      "'training accuracy is 0.984659090909091 '\n",
      "'Epoch: 1296'\n"
     ]
    },
    {
     "name": "stderr",
     "output_type": "stream",
     "text": [
      "\r",
      " 52%|█████▏    | 1296/2499 [39:14<37:00,  1.85s/it]"
     ]
    },
    {
     "name": "stdout",
     "output_type": "stream",
     "text": [
      "'validation loss is 0.9522063657641411 '\n",
      "'validation accuracy is 0.8194335937500004 '\n",
      "'Epoch: 1297'\n",
      "'training loss is 0.06317011842673476 '\n",
      "'training accuracy is 0.9846590909090911 '\n",
      "'Epoch: 1297'\n"
     ]
    },
    {
     "name": "stderr",
     "output_type": "stream",
     "text": [
      "\r",
      " 52%|█████▏    | 1297/2499 [39:15<36:55,  1.84s/it]"
     ]
    },
    {
     "name": "stdout",
     "output_type": "stream",
     "text": [
      "'validation loss is 0.9538642510771751 '\n",
      "'validation accuracy is 0.8194335937500004 '\n",
      "'Epoch: 1298'\n",
      "'training loss is 0.06266126578504388 '\n",
      "'training accuracy is 0.984659090909091 '\n",
      "'Epoch: 1298'\n"
     ]
    },
    {
     "name": "stderr",
     "output_type": "stream",
     "text": [
      "\r",
      " 52%|█████▏    | 1298/2499 [39:17<36:35,  1.83s/it]"
     ]
    },
    {
     "name": "stdout",
     "output_type": "stream",
     "text": [
      "'validation loss is 0.9490046262741089 '\n",
      "'validation accuracy is 0.8197265625000002 '\n",
      "'Epoch: 1299'\n",
      "'training loss is 0.06268750842322003 '\n",
      "'training accuracy is 0.984659090909091 '\n",
      "'Epoch: 1299'\n"
     ]
    },
    {
     "name": "stderr",
     "output_type": "stream",
     "text": [
      "\r",
      " 52%|█████▏    | 1299/2499 [39:19<37:19,  1.87s/it]"
     ]
    },
    {
     "name": "stdout",
     "output_type": "stream",
     "text": [
      "'validation loss is 0.9564376100897789 '\n",
      "'validation accuracy is 0.8191406250000002 '\n",
      "'Epoch: 1300'\n",
      "'training loss is 0.06278626011176543 '\n",
      "'training accuracy is 0.9846590909090911 '\n",
      "'Epoch: 1300'\n"
     ]
    },
    {
     "name": "stderr",
     "output_type": "stream",
     "text": [
      "\r",
      " 52%|█████▏    | 1300/2499 [39:21<36:29,  1.83s/it]"
     ]
    },
    {
     "name": "stdout",
     "output_type": "stream",
     "text": [
      "'validation loss is 0.9465473458170891 '\n",
      "'validation accuracy is 0.8197265625000002 '\n",
      "'Epoch: 1301'\n",
      "'training loss is 0.06309900398958813 '\n",
      "'training accuracy is 0.9846590909090911 '\n",
      "'Epoch: 1301'\n"
     ]
    },
    {
     "name": "stderr",
     "output_type": "stream",
     "text": [
      "\r",
      " 52%|█████▏    | 1301/2499 [39:23<35:49,  1.79s/it]"
     ]
    },
    {
     "name": "stdout",
     "output_type": "stream",
     "text": [
      "'validation loss is 0.94473517537117 '\n",
      "'validation accuracy is 0.8194335937500001 '\n",
      "'Epoch: 1302'\n",
      "'training loss is 0.06279383802955801 '\n",
      "'training accuracy is 0.9846590909090908 '\n",
      "'Epoch: 1302'\n"
     ]
    },
    {
     "name": "stderr",
     "output_type": "stream",
     "text": [
      "\r",
      " 52%|█████▏    | 1302/2499 [39:24<36:25,  1.83s/it]"
     ]
    },
    {
     "name": "stdout",
     "output_type": "stream",
     "text": [
      "'validation loss is 0.9448606416583061 '\n",
      "'validation accuracy is 0.8191406250000002 '\n",
      "'Epoch: 1303'\n",
      "'training loss is 0.06280842457305301 '\n",
      "'training accuracy is 0.984659090909091 '\n",
      "'Epoch: 1303'\n"
     ]
    },
    {
     "name": "stderr",
     "output_type": "stream",
     "text": [
      "\r",
      " 52%|█████▏    | 1303/2499 [39:26<36:19,  1.82s/it]"
     ]
    },
    {
     "name": "stdout",
     "output_type": "stream",
     "text": [
      "'validation loss is 0.942749845981598 '\n",
      "'validation accuracy is 0.8200195312500002 '\n",
      "'Epoch: 1304'\n",
      "'training loss is 0.06274240362373265 '\n",
      "'training accuracy is 0.984659090909091 '\n",
      "'Epoch: 1304'\n"
     ]
    },
    {
     "name": "stderr",
     "output_type": "stream",
     "text": [
      "\r",
      " 52%|█████▏    | 1304/2499 [39:28<36:48,  1.85s/it]"
     ]
    },
    {
     "name": "stdout",
     "output_type": "stream",
     "text": [
      "'validation loss is 0.9501147508621216 '\n",
      "'validation accuracy is 0.81943359375 '\n",
      "'Epoch: 1305'\n",
      "'training loss is 0.06257128783247688 '\n",
      "'training accuracy is 0.984659090909091 '\n",
      "'Epoch: 1305'\n"
     ]
    },
    {
     "name": "stderr",
     "output_type": "stream",
     "text": [
      "\r",
      " 52%|█████▏    | 1305/2499 [39:30<36:17,  1.82s/it]"
     ]
    },
    {
     "name": "stdout",
     "output_type": "stream",
     "text": [
      "'validation loss is 0.9472031250596047 '\n",
      "'validation accuracy is 0.8197265625000002 '\n",
      "'Epoch: 1306'\n",
      "'training loss is 0.06234996257857843 '\n",
      "'training accuracy is 0.9846590909090908 '\n",
      "'Epoch: 1306'\n"
     ]
    },
    {
     "name": "stderr",
     "output_type": "stream",
     "text": [
      "\r",
      " 52%|█████▏    | 1306/2499 [39:32<36:11,  1.82s/it]"
     ]
    },
    {
     "name": "stdout",
     "output_type": "stream",
     "text": [
      "'validation loss is 0.9505954280495643 '\n",
      "'validation accuracy is 0.8191406250000002 '\n",
      "'Epoch: 1307'\n",
      "'training loss is 0.0629460567777807 '\n",
      "'training accuracy is 0.984659090909091 '\n",
      "'Epoch: 1307'\n"
     ]
    },
    {
     "name": "stderr",
     "output_type": "stream",
     "text": [
      "\r",
      " 52%|█████▏    | 1307/2499 [39:34<36:08,  1.82s/it]"
     ]
    },
    {
     "name": "stdout",
     "output_type": "stream",
     "text": [
      "'validation loss is 0.9439523950219154 '\n",
      "'validation accuracy is 0.8197265625000003 '\n",
      "'Epoch: 1308'\n",
      "'training loss is 0.06259595433419402 '\n",
      "'training accuracy is 0.984659090909091 '\n",
      "'Epoch: 1308'\n"
     ]
    },
    {
     "name": "stderr",
     "output_type": "stream",
     "text": [
      "\r",
      " 52%|█████▏    | 1308/2499 [39:35<36:08,  1.82s/it]"
     ]
    },
    {
     "name": "stdout",
     "output_type": "stream",
     "text": [
      "'validation loss is 0.9541010424494744 '\n",
      "'validation accuracy is 0.8191406250000002 '\n",
      "'Epoch: 1309'\n",
      "'training loss is 0.06300625950098038 '\n",
      "'training accuracy is 0.984659090909091 '\n",
      "'Epoch: 1309'\n"
     ]
    },
    {
     "name": "stderr",
     "output_type": "stream",
     "text": [
      "\r",
      " 52%|█████▏    | 1309/2499 [39:37<35:20,  1.78s/it]"
     ]
    },
    {
     "name": "stdout",
     "output_type": "stream",
     "text": [
      "'validation loss is 0.9440015345811844 '\n",
      "'validation accuracy is 0.81943359375 '\n",
      "'Epoch: 1310'\n",
      "'training loss is 0.06262138282710855 '\n",
      "'training accuracy is 0.9846590909090908 '\n",
      "'Epoch: 1310'\n"
     ]
    },
    {
     "name": "stderr",
     "output_type": "stream",
     "text": [
      "\r",
      " 52%|█████▏    | 1310/2499 [39:39<34:58,  1.77s/it]"
     ]
    },
    {
     "name": "stdout",
     "output_type": "stream",
     "text": [
      "'validation loss is 0.9472498401999474 '\n",
      "'validation accuracy is 0.8200195312500002 '\n",
      "'Epoch: 1311'\n",
      "'training loss is 0.06260610541159456 '\n",
      "'training accuracy is 0.984659090909091 '\n",
      "'Epoch: 1311'\n"
     ]
    },
    {
     "name": "stderr",
     "output_type": "stream",
     "text": [
      "\r",
      " 52%|█████▏    | 1311/2499 [39:41<35:47,  1.81s/it]"
     ]
    },
    {
     "name": "stdout",
     "output_type": "stream",
     "text": [
      "'validation loss is 0.9471946626901626 '\n",
      "'validation accuracy is 0.8191406250000002 '\n",
      "'Epoch: 1312'\n",
      "'training loss is 0.06257202950390903 '\n",
      "'training accuracy is 0.984659090909091 '\n",
      "'Epoch: 1312'\n"
     ]
    },
    {
     "name": "stderr",
     "output_type": "stream",
     "text": [
      "\r",
      " 53%|█████▎    | 1312/2499 [39:43<36:01,  1.82s/it]"
     ]
    },
    {
     "name": "stdout",
     "output_type": "stream",
     "text": [
      "'validation loss is 0.9425709396600723 '\n",
      "'validation accuracy is 0.8200195312500002 '\n",
      "'Epoch: 1313'\n",
      "'training loss is 0.0626137104224075 '\n",
      "'training accuracy is 0.984659090909091 '\n",
      "'Epoch: 1313'\n"
     ]
    },
    {
     "name": "stderr",
     "output_type": "stream",
     "text": [
      "\r",
      " 53%|█████▎    | 1313/2499 [39:44<35:54,  1.82s/it]"
     ]
    },
    {
     "name": "stdout",
     "output_type": "stream",
     "text": [
      "'validation loss is 0.9466598376631736 '\n",
      "'validation accuracy is 0.8197265625000002 '\n",
      "'Epoch: 1314'\n",
      "'training loss is 0.0627563213082877 '\n",
      "'training accuracy is 0.984659090909091 '\n",
      "'Epoch: 1314'\n"
     ]
    },
    {
     "name": "stderr",
     "output_type": "stream",
     "text": [
      "\r",
      " 53%|█████▎    | 1314/2499 [39:46<36:00,  1.82s/it]"
     ]
    },
    {
     "name": "stdout",
     "output_type": "stream",
     "text": [
      "'validation loss is 0.9527100756764412 '\n",
      "'validation accuracy is 0.8200195312500002 '\n",
      "'Epoch: 1315'\n",
      "'training loss is 0.06293457915837114 '\n",
      "'training accuracy is 0.9846590909090908 '\n",
      "'Epoch: 1315'\n"
     ]
    },
    {
     "name": "stderr",
     "output_type": "stream",
     "text": [
      "\r",
      " 53%|█████▎    | 1315/2499 [39:48<35:35,  1.80s/it]"
     ]
    },
    {
     "name": "stdout",
     "output_type": "stream",
     "text": [
      "'validation loss is 0.9489355012774467 '\n",
      "'validation accuracy is 0.8203125000000002 '\n",
      "'Epoch: 1316'\n",
      "'training loss is 0.06283569843931631 '\n",
      "'training accuracy is 0.9846590909090908 '\n",
      "'Epoch: 1316'\n"
     ]
    },
    {
     "name": "stderr",
     "output_type": "stream",
     "text": [
      "\r",
      " 53%|█████▎    | 1316/2499 [39:50<35:15,  1.79s/it]"
     ]
    },
    {
     "name": "stdout",
     "output_type": "stream",
     "text": [
      "'validation loss is 0.9507887706160545 '\n",
      "'validation accuracy is 0.8197265625000002 '\n",
      "'Epoch: 1317'\n",
      "'training loss is 0.06254281205209819 '\n",
      "'training accuracy is 0.9846590909090908 '\n",
      "'Epoch: 1317'\n"
     ]
    },
    {
     "name": "stderr",
     "output_type": "stream",
     "text": [
      "\r",
      " 53%|█████▎    | 1317/2499 [39:52<36:10,  1.84s/it]"
     ]
    },
    {
     "name": "stdout",
     "output_type": "stream",
     "text": [
      "'validation loss is 0.947592481970787 '\n",
      "'validation accuracy is 0.819140625 '\n",
      "'Epoch: 1318'\n",
      "'training loss is 0.06273210285739465 '\n",
      "'training accuracy is 0.984659090909091 '\n",
      "'Epoch: 1318'\n"
     ]
    },
    {
     "name": "stderr",
     "output_type": "stream",
     "text": [
      "\r",
      " 53%|█████▎    | 1318/2499 [39:53<35:39,  1.81s/it]"
     ]
    },
    {
     "name": "stdout",
     "output_type": "stream",
     "text": [
      "'validation loss is 0.9454883262515068 '\n",
      "'validation accuracy is 0.8200195312500002 '\n",
      "'Epoch: 1319'\n",
      "'training loss is 0.06271875378760425 '\n",
      "'training accuracy is 0.984659090909091 '\n",
      "'Epoch: 1319'\n"
     ]
    },
    {
     "name": "stderr",
     "output_type": "stream",
     "text": [
      "\r",
      " 53%|█████▎    | 1319/2499 [39:55<35:04,  1.78s/it]"
     ]
    },
    {
     "name": "stdout",
     "output_type": "stream",
     "text": [
      "'validation loss is 0.9417790383100509 '\n",
      "'validation accuracy is 0.8194335937500001 '\n",
      "'Epoch: 1320'\n",
      "'training loss is 0.06287398494102737 '\n",
      "'training accuracy is 0.984659090909091 '\n",
      "'Epoch: 1320'\n"
     ]
    },
    {
     "name": "stderr",
     "output_type": "stream",
     "text": [
      "\r",
      " 53%|█████▎    | 1320/2499 [39:57<35:21,  1.80s/it]"
     ]
    },
    {
     "name": "stdout",
     "output_type": "stream",
     "text": [
      "'validation loss is 0.9371494472026825 '\n",
      "'validation accuracy is 0.8194335937500004 '\n",
      "'Epoch: 1321'\n",
      "'training loss is 0.06319630044427785 '\n",
      "'training accuracy is 0.9846590909090911 '\n",
      "'Epoch: 1321'\n"
     ]
    },
    {
     "name": "stderr",
     "output_type": "stream",
     "text": [
      "\r",
      " 53%|█████▎    | 1321/2499 [39:59<35:26,  1.81s/it]"
     ]
    },
    {
     "name": "stdout",
     "output_type": "stream",
     "text": [
      "'validation loss is 0.9454374387860298 '\n",
      "'validation accuracy is 0.8197265625000002 '\n",
      "'Epoch: 1322'\n",
      "'training loss is 0.06282199546694756 '\n",
      "'training accuracy is 0.984659090909091 '\n",
      "'Epoch: 1322'\n"
     ]
    },
    {
     "name": "stderr",
     "output_type": "stream",
     "text": [
      "\r",
      " 53%|█████▎    | 1322/2499 [40:01<35:57,  1.83s/it]"
     ]
    },
    {
     "name": "stdout",
     "output_type": "stream",
     "text": [
      "'validation loss is 0.9528518229722976 '\n",
      "'validation accuracy is 0.81943359375 '\n",
      "'Epoch: 1323'\n",
      "'training loss is 0.06271606819196181 '\n",
      "'training accuracy is 0.984659090909091 '\n",
      "'Epoch: 1323'\n"
     ]
    },
    {
     "name": "stderr",
     "output_type": "stream",
     "text": [
      "\r",
      " 53%|█████▎    | 1323/2499 [40:02<35:34,  1.81s/it]"
     ]
    },
    {
     "name": "stdout",
     "output_type": "stream",
     "text": [
      "'validation loss is 0.9536404654383659 '\n",
      "'validation accuracy is 0.8194335937500001 '\n",
      "'Epoch: 1324'\n",
      "'training loss is 0.06278981877998872 '\n",
      "'training accuracy is 0.984659090909091 '\n",
      "'Epoch: 1324'\n"
     ]
    },
    {
     "name": "stderr",
     "output_type": "stream",
     "text": [
      "\r",
      " 53%|█████▎    | 1324/2499 [40:04<35:21,  1.81s/it]"
     ]
    },
    {
     "name": "stdout",
     "output_type": "stream",
     "text": [
      "'validation loss is 0.9459736600518227 '\n",
      "'validation accuracy is 0.8194335937500001 '\n",
      "'Epoch: 1325'\n",
      "'training loss is 0.06297184425321492 '\n",
      "'training accuracy is 0.984659090909091 '\n",
      "'Epoch: 1325'\n"
     ]
    },
    {
     "name": "stderr",
     "output_type": "stream",
     "text": [
      "\r",
      " 53%|█████▎    | 1325/2499 [40:06<34:59,  1.79s/it]"
     ]
    },
    {
     "name": "stdout",
     "output_type": "stream",
     "text": [
      "'validation loss is 0.9456657499074936 '\n",
      "'validation accuracy is 0.8197265625000003 '\n",
      "'Epoch: 1326'\n",
      "'training loss is 0.06296709450808438 '\n",
      "'training accuracy is 0.984659090909091 '\n",
      "'Epoch: 1326'\n"
     ]
    },
    {
     "name": "stderr",
     "output_type": "stream",
     "text": [
      "\r",
      " 53%|█████▎    | 1326/2499 [40:08<34:50,  1.78s/it]"
     ]
    },
    {
     "name": "stdout",
     "output_type": "stream",
     "text": [
      "'validation loss is 0.9499206498265267 '\n",
      "'validation accuracy is 0.8194335937500001 '\n",
      "'Epoch: 1327'\n",
      "'training loss is 0.06282113086093556 '\n",
      "'training accuracy is 0.9846590909090908 '\n",
      "'Epoch: 1327'\n"
     ]
    },
    {
     "name": "stderr",
     "output_type": "stream",
     "text": [
      "\r",
      " 53%|█████▎    | 1327/2499 [40:10<34:39,  1.77s/it]"
     ]
    },
    {
     "name": "stdout",
     "output_type": "stream",
     "text": [
      "'validation loss is 0.9488638266921043 '\n",
      "'validation accuracy is 0.8194335937500001 '\n",
      "'Epoch: 1328'\n",
      "'training loss is 0.06289151039990512 '\n",
      "'training accuracy is 0.984659090909091 '\n",
      "'Epoch: 1328'\n"
     ]
    },
    {
     "name": "stderr",
     "output_type": "stream",
     "text": [
      "\r",
      " 53%|█████▎    | 1328/2499 [40:11<35:22,  1.81s/it]"
     ]
    },
    {
     "name": "stdout",
     "output_type": "stream",
     "text": [
      "'validation loss is 0.9518508926033974 '\n",
      "'validation accuracy is 0.8194335937500001 '\n",
      "'Epoch: 1329'\n",
      "'training loss is 0.062954899600961 '\n",
      "'training accuracy is 0.984659090909091 '\n",
      "'Epoch: 1329'\n"
     ]
    },
    {
     "name": "stderr",
     "output_type": "stream",
     "text": [
      "\r",
      " 53%|█████▎    | 1329/2499 [40:13<35:42,  1.83s/it]"
     ]
    },
    {
     "name": "stdout",
     "output_type": "stream",
     "text": [
      "'validation loss is 0.9426550701260566 '\n",
      "'validation accuracy is 0.8194335937500001 '\n",
      "'Epoch: 1330'\n",
      "'training loss is 0.06264174289324066 '\n",
      "'training accuracy is 0.984659090909091 '\n",
      "'Epoch: 1330'\n"
     ]
    },
    {
     "name": "stderr",
     "output_type": "stream",
     "text": [
      "\r",
      " 53%|█████▎    | 1330/2499 [40:15<35:18,  1.81s/it]"
     ]
    },
    {
     "name": "stdout",
     "output_type": "stream",
     "text": [
      "'validation loss is 0.9489233240485191 '\n",
      "'validation accuracy is 0.8191406250000002 '\n",
      "'Epoch: 1331'\n",
      "'training loss is 0.06285465136170387 '\n",
      "'training accuracy is 0.984659090909091 '\n",
      "'Epoch: 1331'\n"
     ]
    },
    {
     "name": "stderr",
     "output_type": "stream",
     "text": [
      "\r",
      " 53%|█████▎    | 1331/2499 [40:17<35:15,  1.81s/it]"
     ]
    },
    {
     "name": "stdout",
     "output_type": "stream",
     "text": [
      "'validation loss is 0.9504687771201134 '\n",
      "'validation accuracy is 0.8194335937500004 '\n",
      "'Epoch: 1332'\n",
      "'training loss is 0.06259778954766014 '\n",
      "'training accuracy is 0.9846590909090908 '\n",
      "'Epoch: 1332'\n"
     ]
    },
    {
     "name": "stderr",
     "output_type": "stream",
     "text": [
      "\r",
      " 53%|█████▎    | 1332/2499 [40:19<35:31,  1.83s/it]"
     ]
    },
    {
     "name": "stdout",
     "output_type": "stream",
     "text": [
      "'validation loss is 0.9476020097732544 '\n",
      "'validation accuracy is 0.8191406250000002 '\n",
      "'Epoch: 1333'\n",
      "'training loss is 0.06282837959853085 '\n",
      "'training accuracy is 0.984659090909091 '\n",
      "'Epoch: 1333'\n"
     ]
    },
    {
     "name": "stderr",
     "output_type": "stream",
     "text": [
      "\r",
      " 53%|█████▎    | 1333/2499 [40:21<35:25,  1.82s/it]"
     ]
    },
    {
     "name": "stdout",
     "output_type": "stream",
     "text": [
      "'validation loss is 0.9494193524122239 '\n",
      "'validation accuracy is 0.8191406250000002 '\n",
      "'Epoch: 1334'\n",
      "'training loss is 0.06281119043176825 '\n",
      "'training accuracy is 0.984659090909091 '\n",
      "'Epoch: 1334'\n"
     ]
    },
    {
     "name": "stderr",
     "output_type": "stream",
     "text": [
      "\r",
      " 53%|█████▎    | 1334/2499 [40:22<35:35,  1.83s/it]"
     ]
    },
    {
     "name": "stdout",
     "output_type": "stream",
     "text": [
      "'validation loss is 0.9480785116553306 '\n",
      "'validation accuracy is 0.8197265625000002 '\n",
      "'Epoch: 1335'\n",
      "'training loss is 0.06273267045617104 '\n",
      "'training accuracy is 0.9846590909090908 '\n",
      "'Epoch: 1335'\n"
     ]
    },
    {
     "name": "stderr",
     "output_type": "stream",
     "text": [
      "\r",
      " 53%|█████▎    | 1335/2499 [40:24<35:44,  1.84s/it]"
     ]
    },
    {
     "name": "stdout",
     "output_type": "stream",
     "text": [
      "'validation loss is 0.9456902593374252 '\n",
      "'validation accuracy is 0.8191406250000002 '\n",
      "'Epoch: 1336'\n",
      "'training loss is 0.06269831955432892 '\n",
      "'training accuracy is 0.9846590909090908 '\n",
      "'Epoch: 1336'\n"
     ]
    },
    {
     "name": "stderr",
     "output_type": "stream",
     "text": [
      "\r",
      " 53%|█████▎    | 1336/2499 [40:26<35:14,  1.82s/it]"
     ]
    },
    {
     "name": "stdout",
     "output_type": "stream",
     "text": [
      "'validation loss is 0.945137058198452 '\n",
      "'validation accuracy is 0.8194335937500004 '\n",
      "'Epoch: 1337'\n",
      "'training loss is 0.06298555467616428 '\n",
      "'training accuracy is 0.984659090909091 '\n",
      "'Epoch: 1337'\n"
     ]
    },
    {
     "name": "stderr",
     "output_type": "stream",
     "text": [
      "\r",
      " 54%|█████▎    | 1337/2499 [40:28<35:31,  1.83s/it]"
     ]
    },
    {
     "name": "stdout",
     "output_type": "stream",
     "text": [
      "'validation loss is 0.9429068192839622 '\n",
      "'validation accuracy is 0.8197265625000002 '\n",
      "'Epoch: 1338'\n",
      "'training loss is 0.06280326030471108 '\n",
      "'training accuracy is 0.984659090909091 '\n",
      "'Epoch: 1338'\n"
     ]
    },
    {
     "name": "stderr",
     "output_type": "stream",
     "text": [
      "\r",
      " 54%|█████▎    | 1338/2499 [40:30<35:23,  1.83s/it]"
     ]
    },
    {
     "name": "stdout",
     "output_type": "stream",
     "text": [
      "'validation loss is 0.9466126888990403 '\n",
      "'validation accuracy is 0.8194335937500001 '\n",
      "'Epoch: 1339'\n",
      "'training loss is 0.062489433722062546 '\n",
      "'training accuracy is 0.984659090909091 '\n",
      "'Epoch: 1339'\n"
     ]
    },
    {
     "name": "stderr",
     "output_type": "stream",
     "text": [
      "\r",
      " 54%|█████▎    | 1339/2499 [40:32<35:30,  1.84s/it]"
     ]
    },
    {
     "name": "stdout",
     "output_type": "stream",
     "text": [
      "'validation loss is 0.9450080782175064 '\n",
      "'validation accuracy is 0.8194335937500001 '\n",
      "'Epoch: 1340'\n",
      "'training loss is 0.06298160180449486 '\n",
      "'training accuracy is 0.984659090909091 '\n",
      "'Epoch: 1340'\n"
     ]
    },
    {
     "name": "stderr",
     "output_type": "stream",
     "text": [
      "\r",
      " 54%|█████▎    | 1340/2499 [40:33<35:51,  1.86s/it]"
     ]
    },
    {
     "name": "stdout",
     "output_type": "stream",
     "text": [
      "'validation loss is 0.9433765694499016 '\n",
      "'validation accuracy is 0.8194335937500001 '\n",
      "'Epoch: 1341'\n",
      "'training loss is 0.06260653415864165 '\n",
      "'training accuracy is 0.9846590909090911 '\n",
      "'Epoch: 1341'\n"
     ]
    },
    {
     "name": "stderr",
     "output_type": "stream",
     "text": [
      "\r",
      " 54%|█████▎    | 1341/2499 [40:35<35:57,  1.86s/it]"
     ]
    },
    {
     "name": "stdout",
     "output_type": "stream",
     "text": [
      "'validation loss is 0.9413031175732612 '\n",
      "'validation accuracy is 0.8191406250000004 '\n",
      "'Epoch: 1342'\n",
      "'training loss is 0.06284571879289368 '\n",
      "'training accuracy is 0.984659090909091 '\n",
      "'Epoch: 1342'\n"
     ]
    },
    {
     "name": "stderr",
     "output_type": "stream",
     "text": [
      "\r",
      " 54%|█████▎    | 1342/2499 [40:37<35:24,  1.84s/it]"
     ]
    },
    {
     "name": "stdout",
     "output_type": "stream",
     "text": [
      "'validation loss is 0.9466969981789589 '\n",
      "'validation accuracy is 0.8194335937500001 '\n",
      "'Epoch: 1343'\n",
      "'training loss is 0.06246218898079612 '\n",
      "'training accuracy is 0.984659090909091 '\n",
      "'Epoch: 1343'\n"
     ]
    },
    {
     "name": "stderr",
     "output_type": "stream",
     "text": [
      "\r",
      " 54%|█████▎    | 1343/2499 [40:39<35:47,  1.86s/it]"
     ]
    },
    {
     "name": "stdout",
     "output_type": "stream",
     "text": [
      "'validation loss is 0.9396583691239357 '\n",
      "'validation accuracy is 0.8197265625000002 '\n",
      "'Epoch: 1344'\n",
      "'training loss is 0.062946213578636 '\n",
      "'training accuracy is 0.984659090909091 '\n",
      "'Epoch: 1344'\n"
     ]
    },
    {
     "name": "stderr",
     "output_type": "stream",
     "text": [
      "\r",
      " 54%|█████▍    | 1344/2499 [40:41<35:24,  1.84s/it]"
     ]
    },
    {
     "name": "stdout",
     "output_type": "stream",
     "text": [
      "'validation loss is 0.9426804393529892 '\n",
      "'validation accuracy is 0.8194335937500001 '\n",
      "'Epoch: 1345'\n",
      "'training loss is 0.06301885132085193 '\n",
      "'training accuracy is 0.984659090909091 '\n",
      "'Epoch: 1345'\n"
     ]
    },
    {
     "name": "stderr",
     "output_type": "stream",
     "text": [
      "\r",
      " 54%|█████▍    | 1345/2499 [40:43<35:48,  1.86s/it]"
     ]
    },
    {
     "name": "stdout",
     "output_type": "stream",
     "text": [
      "'validation loss is 0.9414620712399483 '\n",
      "'validation accuracy is 0.8200195312500002 '\n",
      "'Epoch: 1346'\n",
      "'training loss is 0.06282597543163733 '\n",
      "'training accuracy is 0.984659090909091 '\n",
      "'Epoch: 1346'\n"
     ]
    },
    {
     "name": "stderr",
     "output_type": "stream",
     "text": [
      "\r",
      " 54%|█████▍    | 1346/2499 [40:45<35:28,  1.85s/it]"
     ]
    },
    {
     "name": "stdout",
     "output_type": "stream",
     "text": [
      "'validation loss is 0.9427330538630485 '\n",
      "'validation accuracy is 0.8197265625000002 '\n",
      "'Epoch: 1347'\n",
      "'training loss is 0.06247678873213855 '\n",
      "'training accuracy is 0.984659090909091 '\n",
      "'Epoch: 1347'\n"
     ]
    },
    {
     "name": "stderr",
     "output_type": "stream",
     "text": [
      "\r",
      " 54%|█████▍    | 1347/2499 [40:46<35:04,  1.83s/it]"
     ]
    },
    {
     "name": "stdout",
     "output_type": "stream",
     "text": [
      "'validation loss is 0.941628959774971 '\n",
      "'validation accuracy is 0.8194335937500001 '\n",
      "'Epoch: 1348'\n",
      "'training loss is 0.06288516927849162 '\n",
      "'training accuracy is 0.984659090909091 '\n",
      "'Epoch: 1348'\n"
     ]
    },
    {
     "name": "stderr",
     "output_type": "stream",
     "text": [
      "\r",
      " 54%|█████▍    | 1348/2499 [40:48<35:03,  1.83s/it]"
     ]
    },
    {
     "name": "stdout",
     "output_type": "stream",
     "text": [
      "'validation loss is 0.940550996363163 '\n",
      "'validation accuracy is 0.8206054687500002 '\n",
      "'Epoch: 1349'\n",
      "'training loss is 0.06288502670147202 '\n",
      "'training accuracy is 0.984659090909091 '\n",
      "'Epoch: 1349'\n"
     ]
    },
    {
     "name": "stderr",
     "output_type": "stream",
     "text": [
      "\r",
      " 54%|█████▍    | 1349/2499 [40:50<34:36,  1.81s/it]"
     ]
    },
    {
     "name": "stdout",
     "output_type": "stream",
     "text": [
      "'validation loss is 0.9337273672223091 '\n",
      "'validation accuracy is 0.8206054687500004 '\n",
      "'Epoch: 1350'\n",
      "'training loss is 0.06338039684024724 '\n",
      "'training accuracy is 0.9846590909090908 '\n",
      "'Epoch: 1350'\n"
     ]
    },
    {
     "name": "stderr",
     "output_type": "stream",
     "text": [
      "\r",
      " 54%|█████▍    | 1350/2499 [40:52<34:28,  1.80s/it]"
     ]
    },
    {
     "name": "stdout",
     "output_type": "stream",
     "text": [
      "'validation loss is 0.9361316099762916 '\n",
      "'validation accuracy is 0.8197265625000002 '\n",
      "'Epoch: 1351'\n",
      "'training loss is 0.06283616816455667 '\n",
      "'training accuracy is 0.984659090909091 '\n",
      "'Epoch: 1351'\n"
     ]
    },
    {
     "name": "stderr",
     "output_type": "stream",
     "text": [
      "\r",
      " 54%|█████▍    | 1351/2499 [40:54<34:45,  1.82s/it]"
     ]
    },
    {
     "name": "stdout",
     "output_type": "stream",
     "text": [
      "'validation loss is 0.94639842659235 '\n",
      "'validation accuracy is 0.8191406250000002 '\n",
      "'Epoch: 1352'\n",
      "'training loss is 0.06280033561316403 '\n",
      "'training accuracy is 0.984659090909091 '\n",
      "'Epoch: 1352'\n"
     ]
    },
    {
     "name": "stderr",
     "output_type": "stream",
     "text": [
      "\r",
      " 54%|█████▍    | 1352/2499 [40:55<34:21,  1.80s/it]"
     ]
    },
    {
     "name": "stdout",
     "output_type": "stream",
     "text": [
      "'validation loss is 0.9482946366071701 '\n",
      "'validation accuracy is 0.8194335937500004 '\n",
      "'Epoch: 1353'\n",
      "'training loss is 0.06275359473445198 '\n",
      "'training accuracy is 0.9846590909090908 '\n",
      "'Epoch: 1353'\n"
     ]
    },
    {
     "name": "stderr",
     "output_type": "stream",
     "text": [
      "\r",
      " 54%|█████▍    | 1353/2499 [40:57<34:30,  1.81s/it]"
     ]
    },
    {
     "name": "stdout",
     "output_type": "stream",
     "text": [
      "'validation loss is 0.9366231739521027 '\n",
      "'validation accuracy is 0.8203125000000003 '\n",
      "'Epoch: 1354'\n",
      "'training loss is 0.06278851357373325 '\n",
      "'training accuracy is 0.984659090909091 '\n",
      "'Epoch: 1354'\n"
     ]
    },
    {
     "name": "stderr",
     "output_type": "stream",
     "text": [
      "\r",
      " 54%|█████▍    | 1354/2499 [40:59<34:59,  1.83s/it]"
     ]
    },
    {
     "name": "stdout",
     "output_type": "stream",
     "text": [
      "'validation loss is 0.9383154883980751 '\n",
      "'validation accuracy is 0.8194335937500004 '\n",
      "'Epoch: 1355'\n",
      "'training loss is 0.06264911050146277 '\n",
      "'training accuracy is 0.984659090909091 '\n",
      "'Epoch: 1355'\n"
     ]
    },
    {
     "name": "stderr",
     "output_type": "stream",
     "text": [
      "\r",
      " 54%|█████▍    | 1355/2499 [41:01<34:47,  1.82s/it]"
     ]
    },
    {
     "name": "stdout",
     "output_type": "stream",
     "text": [
      "'validation loss is 0.9430696472525597 '\n",
      "'validation accuracy is 0.8191406250000002 '\n",
      "'Epoch: 1356'\n",
      "'training loss is 0.06297269802201878 '\n",
      "'training accuracy is 0.984659090909091 '\n",
      "'Epoch: 1356'\n"
     ]
    },
    {
     "name": "stderr",
     "output_type": "stream",
     "text": [
      "\r",
      " 54%|█████▍    | 1356/2499 [41:03<35:27,  1.86s/it]"
     ]
    },
    {
     "name": "stdout",
     "output_type": "stream",
     "text": [
      "'validation loss is 0.9277763992547989 '\n",
      "'validation accuracy is 0.8203125000000002 '\n",
      "'Epoch: 1357'\n",
      "'training loss is 0.06229714168743654 '\n",
      "'training accuracy is 0.984659090909091 '\n",
      "'Epoch: 1357'\n"
     ]
    },
    {
     "name": "stderr",
     "output_type": "stream",
     "text": [
      "\r",
      " 54%|█████▍    | 1357/2499 [41:05<35:34,  1.87s/it]"
     ]
    },
    {
     "name": "stdout",
     "output_type": "stream",
     "text": [
      "'validation loss is 0.9366525858640671 '\n",
      "'validation accuracy is 0.8191406250000002 '\n",
      "'Epoch: 1358'\n",
      "'training loss is 0.06262998994101178 '\n",
      "'training accuracy is 0.984659090909091 '\n",
      "'Epoch: 1358'\n"
     ]
    },
    {
     "name": "stderr",
     "output_type": "stream",
     "text": [
      "\r",
      " 54%|█████▍    | 1358/2499 [41:06<34:59,  1.84s/it]"
     ]
    },
    {
     "name": "stdout",
     "output_type": "stream",
     "text": [
      "'validation loss is 0.9399303168058395 '\n",
      "'validation accuracy is 0.8194335937500001 '\n",
      "'Epoch: 1359'\n",
      "'training loss is 0.06299846077507193 '\n",
      "'training accuracy is 0.984659090909091 '\n",
      "'Epoch: 1359'\n"
     ]
    },
    {
     "name": "stderr",
     "output_type": "stream",
     "text": [
      "\r",
      " 54%|█████▍    | 1359/2499 [41:08<35:36,  1.87s/it]"
     ]
    },
    {
     "name": "stdout",
     "output_type": "stream",
     "text": [
      "'validation loss is 0.9388896569609642 '\n",
      "'validation accuracy is 0.8191406250000002 '\n",
      "'Epoch: 1360'\n",
      "'training loss is 0.06285743754018437 '\n",
      "'training accuracy is 0.984659090909091 '\n",
      "'Epoch: 1360'\n"
     ]
    },
    {
     "name": "stderr",
     "output_type": "stream",
     "text": [
      "\r",
      " 54%|█████▍    | 1360/2499 [41:10<35:32,  1.87s/it]"
     ]
    },
    {
     "name": "stdout",
     "output_type": "stream",
     "text": [
      "'validation loss is 0.9394882842898369 '\n",
      "'validation accuracy is 0.8197265625000002 '\n",
      "'Epoch: 1361'\n",
      "'training loss is 0.0623735517940738 '\n",
      "'training accuracy is 0.9846590909090911 '\n",
      "'Epoch: 1361'\n"
     ]
    },
    {
     "name": "stderr",
     "output_type": "stream",
     "text": [
      "\r",
      " 54%|█████▍    | 1361/2499 [41:12<35:37,  1.88s/it]"
     ]
    },
    {
     "name": "stdout",
     "output_type": "stream",
     "text": [
      "'validation loss is 0.9410830289125443 '\n",
      "'validation accuracy is 0.81943359375 '\n",
      "'Epoch: 1362'\n",
      "'training loss is 0.06287093934687701 '\n",
      "'training accuracy is 0.9846590909090908 '\n",
      "'Epoch: 1362'\n"
     ]
    },
    {
     "name": "stderr",
     "output_type": "stream",
     "text": [
      "\r",
      " 55%|█████▍    | 1362/2499 [41:14<35:27,  1.87s/it]"
     ]
    },
    {
     "name": "stdout",
     "output_type": "stream",
     "text": [
      "'validation loss is 0.9373767122626304 '\n",
      "'validation accuracy is 0.8191406250000004 '\n",
      "'Epoch: 1363'\n",
      "'training loss is 0.06295382942665707 '\n",
      "'training accuracy is 0.984659090909091 '\n",
      "'Epoch: 1363'\n"
     ]
    },
    {
     "name": "stderr",
     "output_type": "stream",
     "text": [
      "\r",
      " 55%|█████▍    | 1363/2499 [41:16<34:59,  1.85s/it]"
     ]
    },
    {
     "name": "stdout",
     "output_type": "stream",
     "text": [
      "'validation loss is 0.9516066819429397 '\n",
      "'validation accuracy is 0.8197265625000002 '\n",
      "'Epoch: 1364'\n",
      "'training loss is 0.06267589432272044 '\n",
      "'training accuracy is 0.984659090909091 '\n",
      "'Epoch: 1364'\n"
     ]
    },
    {
     "name": "stderr",
     "output_type": "stream",
     "text": [
      "\r",
      " 55%|█████▍    | 1364/2499 [41:18<34:44,  1.84s/it]"
     ]
    },
    {
     "name": "stdout",
     "output_type": "stream",
     "text": [
      "'validation loss is 0.9481932446360588 '\n",
      "'validation accuracy is 0.8194335937500001 '\n",
      "'Epoch: 1365'\n",
      "'training loss is 0.06298063153570349 '\n",
      "'training accuracy is 0.9846590909090908 '\n",
      "'Epoch: 1365'\n"
     ]
    },
    {
     "name": "stderr",
     "output_type": "stream",
     "text": [
      "\r",
      " 55%|█████▍    | 1365/2499 [41:19<34:47,  1.84s/it]"
     ]
    },
    {
     "name": "stdout",
     "output_type": "stream",
     "text": [
      "'validation loss is 0.9401590287685394 '\n",
      "'validation accuracy is 0.8200195312500002 '\n",
      "'Epoch: 1366'\n",
      "'training loss is 0.06226640059189363 '\n",
      "'training accuracy is 0.984659090909091 '\n",
      "'Epoch: 1366'\n"
     ]
    },
    {
     "name": "stderr",
     "output_type": "stream",
     "text": [
      "\r",
      " 55%|█████▍    | 1366/2499 [41:21<34:35,  1.83s/it]"
     ]
    },
    {
     "name": "stdout",
     "output_type": "stream",
     "text": [
      "'validation loss is 0.9429504439234734 '\n",
      "'validation accuracy is 0.8197265625000002 '\n",
      "'Epoch: 1367'\n",
      "'training loss is 0.06283607943491502 '\n",
      "'training accuracy is 0.9846590909090908 '\n",
      "'Epoch: 1367'\n"
     ]
    },
    {
     "name": "stderr",
     "output_type": "stream",
     "text": [
      "\r",
      " 55%|█████▍    | 1367/2499 [41:23<34:06,  1.81s/it]"
     ]
    },
    {
     "name": "stdout",
     "output_type": "stream",
     "text": [
      "'validation loss is 0.9383435472846031 '\n",
      "'validation accuracy is 0.8194335937500001 '\n",
      "'Epoch: 1368'\n",
      "'training loss is 0.0625560303980654 '\n",
      "'training accuracy is 0.984659090909091 '\n",
      "'Epoch: 1368'\n"
     ]
    },
    {
     "name": "stderr",
     "output_type": "stream",
     "text": [
      "\r",
      " 55%|█████▍    | 1368/2499 [41:25<33:58,  1.80s/it]"
     ]
    },
    {
     "name": "stdout",
     "output_type": "stream",
     "text": [
      "'validation loss is 0.9279339969158172 '\n",
      "'validation accuracy is 0.8200195312500002 '\n",
      "'Epoch: 1369'\n",
      "'training loss is 0.06274299560622736 '\n",
      "'training accuracy is 0.984659090909091 '\n",
      "'Epoch: 1369'\n"
     ]
    },
    {
     "name": "stderr",
     "output_type": "stream",
     "text": [
      "\r",
      " 55%|█████▍    | 1369/2499 [41:27<33:40,  1.79s/it]"
     ]
    },
    {
     "name": "stdout",
     "output_type": "stream",
     "text": [
      "'validation loss is 0.9388524428009987 '\n",
      "'validation accuracy is 0.8197265625000003 '\n",
      "'Epoch: 1370'\n",
      "'training loss is 0.06264570558612997 '\n",
      "'training accuracy is 0.9846590909090911 '\n",
      "'Epoch: 1370'\n"
     ]
    },
    {
     "name": "stderr",
     "output_type": "stream",
     "text": [
      "\r",
      " 55%|█████▍    | 1370/2499 [41:28<34:06,  1.81s/it]"
     ]
    },
    {
     "name": "stdout",
     "output_type": "stream",
     "text": [
      "'validation loss is 0.9339824423193932 '\n",
      "'validation accuracy is 0.8197265625000003 '\n",
      "'Epoch: 1371'\n",
      "'training loss is 0.06254311041398482 '\n",
      "'training accuracy is 0.984659090909091 '\n",
      "'Epoch: 1371'\n"
     ]
    },
    {
     "name": "stderr",
     "output_type": "stream",
     "text": [
      "\r",
      " 55%|█████▍    | 1371/2499 [41:30<34:44,  1.85s/it]"
     ]
    },
    {
     "name": "stdout",
     "output_type": "stream",
     "text": [
      "'validation loss is 0.9327372431755065 '\n",
      "'validation accuracy is 0.8194335937500001 '\n",
      "'Epoch: 1372'\n",
      "'training loss is 0.06271024725653908 '\n",
      "'training accuracy is 0.984659090909091 '\n",
      "'Epoch: 1372'\n"
     ]
    },
    {
     "name": "stderr",
     "output_type": "stream",
     "text": [
      "\r",
      " 55%|█████▍    | 1372/2499 [41:32<34:39,  1.84s/it]"
     ]
    },
    {
     "name": "stdout",
     "output_type": "stream",
     "text": [
      "'validation loss is 0.9374977201223373 '\n",
      "'validation accuracy is 0.8194335937500004 '\n",
      "'Epoch: 1373'\n",
      "'training loss is 0.06274170699444684 '\n",
      "'training accuracy is 0.984659090909091 '\n",
      "'Epoch: 1373'\n"
     ]
    },
    {
     "name": "stderr",
     "output_type": "stream",
     "text": [
      "\r",
      " 55%|█████▍    | 1373/2499 [41:34<34:14,  1.82s/it]"
     ]
    },
    {
     "name": "stdout",
     "output_type": "stream",
     "text": [
      "'validation loss is 0.937031728029251 '\n",
      "'validation accuracy is 0.8191406250000004 '\n",
      "'Epoch: 1374'\n",
      "'training loss is 0.06282037632031874 '\n",
      "'training accuracy is 0.9846590909090908 '\n",
      "'Epoch: 1374'\n"
     ]
    },
    {
     "name": "stderr",
     "output_type": "stream",
     "text": [
      "\r",
      " 55%|█████▍    | 1374/2499 [41:36<33:57,  1.81s/it]"
     ]
    },
    {
     "name": "stdout",
     "output_type": "stream",
     "text": [
      "'validation loss is 0.9390899747610092 '\n",
      "'validation accuracy is 0.8197265625000003 '\n",
      "'Epoch: 1375'\n",
      "'training loss is 0.0624871701002121 '\n",
      "'training accuracy is 0.984659090909091 '\n",
      "'Epoch: 1375'\n"
     ]
    },
    {
     "name": "stderr",
     "output_type": "stream",
     "text": [
      "\r",
      " 55%|█████▌    | 1375/2499 [41:38<34:07,  1.82s/it]"
     ]
    },
    {
     "name": "stdout",
     "output_type": "stream",
     "text": [
      "'validation loss is 0.9433523684740066 '\n",
      "'validation accuracy is 0.8194335937500001 '\n",
      "'Epoch: 1376'\n",
      "'training loss is 0.06285500932823528 '\n",
      "'training accuracy is 0.984659090909091 '\n",
      "'Epoch: 1376'\n"
     ]
    },
    {
     "name": "stderr",
     "output_type": "stream",
     "text": [
      "\r",
      " 55%|█████▌    | 1376/2499 [41:40<34:22,  1.84s/it]"
     ]
    },
    {
     "name": "stdout",
     "output_type": "stream",
     "text": [
      "'validation loss is 0.9334634304046631 '\n",
      "'validation accuracy is 0.8197265625 '\n",
      "'Epoch: 1377'\n",
      "'training loss is 0.06305311654101718 '\n",
      "'training accuracy is 0.984659090909091 '\n",
      "'Epoch: 1377'\n"
     ]
    },
    {
     "name": "stderr",
     "output_type": "stream",
     "text": [
      "\r",
      " 55%|█████▌    | 1377/2499 [41:41<34:16,  1.83s/it]"
     ]
    },
    {
     "name": "stdout",
     "output_type": "stream",
     "text": [
      "'validation loss is 0.9363723710179329 '\n",
      "'validation accuracy is 0.8197265625000003 '\n",
      "'Epoch: 1378'\n",
      "'training loss is 0.06255205585197969 '\n",
      "'training accuracy is 0.984659090909091 '\n",
      "'Epoch: 1378'\n"
     ]
    },
    {
     "name": "stderr",
     "output_type": "stream",
     "text": [
      "\r",
      " 55%|█████▌    | 1378/2499 [41:43<33:49,  1.81s/it]"
     ]
    },
    {
     "name": "stdout",
     "output_type": "stream",
     "text": [
      "'validation loss is 0.9409396111965179 '\n",
      "'validation accuracy is 0.8194335937500004 '\n",
      "'Epoch: 1379'\n",
      "'training loss is 0.06273193318735469 '\n",
      "'training accuracy is 0.984659090909091 '\n",
      "'Epoch: 1379'\n"
     ]
    },
    {
     "name": "stderr",
     "output_type": "stream",
     "text": [
      "\r",
      " 55%|█████▌    | 1379/2499 [41:45<33:40,  1.80s/it]"
     ]
    },
    {
     "name": "stdout",
     "output_type": "stream",
     "text": [
      "'validation loss is 0.9444593638181686 '\n",
      "'validation accuracy is 0.81943359375 '\n",
      "'Epoch: 1380'\n",
      "'training loss is 0.06314332681623372 '\n",
      "'training accuracy is 0.984659090909091 '\n",
      "'Epoch: 1380'\n"
     ]
    },
    {
     "name": "stderr",
     "output_type": "stream",
     "text": [
      "\r",
      " 55%|█████▌    | 1380/2499 [41:47<34:17,  1.84s/it]"
     ]
    },
    {
     "name": "stdout",
     "output_type": "stream",
     "text": [
      "'validation loss is 0.9364996597170829 '\n",
      "'validation accuracy is 0.8194335937500001 '\n",
      "'Epoch: 1381'\n",
      "'training loss is 0.06245180829004808 '\n",
      "'training accuracy is 0.9846590909090911 '\n",
      "'Epoch: 1381'\n"
     ]
    },
    {
     "name": "stderr",
     "output_type": "stream",
     "text": [
      "\r",
      " 55%|█████▌    | 1381/2499 [41:49<34:08,  1.83s/it]"
     ]
    },
    {
     "name": "stdout",
     "output_type": "stream",
     "text": [
      "'validation loss is 0.9418944746255875 '\n",
      "'validation accuracy is 0.8191406250000002 '\n",
      "'Epoch: 1382'\n",
      "'training loss is 0.06248642775145444 '\n",
      "'training accuracy is 0.984659090909091 '\n",
      "'Epoch: 1382'\n"
     ]
    },
    {
     "name": "stderr",
     "output_type": "stream",
     "text": [
      "\r",
      " 55%|█████▌    | 1382/2499 [41:50<33:25,  1.80s/it]"
     ]
    },
    {
     "name": "stdout",
     "output_type": "stream",
     "text": [
      "'validation loss is 0.9360113680362702 '\n",
      "'validation accuracy is 0.8197265625000002 '\n",
      "'Epoch: 1383'\n",
      "'training loss is 0.06291713193058968 '\n",
      "'training accuracy is 0.984659090909091 '\n",
      "'Epoch: 1383'\n"
     ]
    },
    {
     "name": "stderr",
     "output_type": "stream",
     "text": [
      "\r",
      " 55%|█████▌    | 1383/2499 [41:52<33:43,  1.81s/it]"
     ]
    },
    {
     "name": "stdout",
     "output_type": "stream",
     "text": [
      "'validation loss is 0.9365681275725365 '\n",
      "'validation accuracy is 0.8194335937500001 '\n",
      "'Epoch: 1384'\n",
      "'training loss is 0.0628699389371005 '\n",
      "'training accuracy is 0.9846590909090911 '\n",
      "'Epoch: 1384'\n"
     ]
    },
    {
     "name": "stderr",
     "output_type": "stream",
     "text": [
      "\r",
      " 55%|█████▌    | 1384/2499 [41:54<34:02,  1.83s/it]"
     ]
    },
    {
     "name": "stdout",
     "output_type": "stream",
     "text": [
      "'validation loss is 0.9405126377940178 '\n",
      "'validation accuracy is 0.8194335937500001 '\n",
      "'Epoch: 1385'\n",
      "'training loss is 0.06299579956314781 '\n",
      "'training accuracy is 0.9846590909090908 '\n",
      "'Epoch: 1385'\n"
     ]
    },
    {
     "name": "stderr",
     "output_type": "stream",
     "text": [
      "\r",
      " 55%|█████▌    | 1385/2499 [41:56<34:30,  1.86s/it]"
     ]
    },
    {
     "name": "stdout",
     "output_type": "stream",
     "text": [
      "'validation loss is 0.9443087711930275 '\n",
      "'validation accuracy is 0.8200195312500002 '\n",
      "'Epoch: 1386'\n",
      "'training loss is 0.06247965348037807 '\n",
      "'training accuracy is 0.984659090909091 '\n",
      "'Epoch: 1386'\n"
     ]
    },
    {
     "name": "stderr",
     "output_type": "stream",
     "text": [
      "\r",
      " 55%|█████▌    | 1386/2499 [41:58<34:20,  1.85s/it]"
     ]
    },
    {
     "name": "stdout",
     "output_type": "stream",
     "text": [
      "'validation loss is 0.9411706149578094 '\n",
      "'validation accuracy is 0.8194335937500001 '\n",
      "'Epoch: 1387'\n",
      "'training loss is 0.06277561458674344 '\n",
      "'training accuracy is 0.984659090909091 '\n",
      "'Epoch: 1387'\n"
     ]
    },
    {
     "name": "stderr",
     "output_type": "stream",
     "text": [
      "\r",
      " 56%|█████▌    | 1387/2499 [42:00<33:45,  1.82s/it]"
     ]
    },
    {
     "name": "stdout",
     "output_type": "stream",
     "text": [
      "'validation loss is 0.9353165239095688 '\n",
      "'validation accuracy is 0.8191406250000002 '\n",
      "'Epoch: 1388'\n",
      "'training loss is 0.06302499296990308 '\n",
      "'training accuracy is 0.984659090909091 '\n",
      "'Epoch: 1388'\n"
     ]
    },
    {
     "name": "stderr",
     "output_type": "stream",
     "text": [
      "\r",
      " 56%|█████▌    | 1388/2499 [42:01<34:00,  1.84s/it]"
     ]
    },
    {
     "name": "stdout",
     "output_type": "stream",
     "text": [
      "'validation loss is 0.9309466779232025 '\n",
      "'validation accuracy is 0.8197265625000002 '\n",
      "'Epoch: 1389'\n",
      "'training loss is 0.06251757117834958 '\n",
      "'training accuracy is 0.984659090909091 '\n",
      "'Epoch: 1389'\n"
     ]
    },
    {
     "name": "stderr",
     "output_type": "stream",
     "text": [
      "\r",
      " 56%|█████▌    | 1389/2499 [42:03<33:33,  1.81s/it]"
     ]
    },
    {
     "name": "stdout",
     "output_type": "stream",
     "text": [
      "'validation loss is 0.9369658604264259 '\n",
      "'validation accuracy is 0.8194335937500001 '\n",
      "'Epoch: 1390'\n",
      "'training loss is 0.06296456876126202 '\n",
      "'training accuracy is 0.9846590909090908 '\n",
      "'Epoch: 1390'\n"
     ]
    },
    {
     "name": "stderr",
     "output_type": "stream",
     "text": [
      "\r",
      " 56%|█████▌    | 1390/2499 [42:05<33:31,  1.81s/it]"
     ]
    },
    {
     "name": "stdout",
     "output_type": "stream",
     "text": [
      "'validation loss is 0.9393781259655952 '\n",
      "'validation accuracy is 0.8194335937500004 '\n",
      "'Epoch: 1391'\n",
      "'training loss is 0.062399315224452453 '\n",
      "'training accuracy is 0.984659090909091 '\n",
      "'Epoch: 1391'\n"
     ]
    },
    {
     "name": "stderr",
     "output_type": "stream",
     "text": [
      "\r",
      " 56%|█████▌    | 1391/2499 [42:07<33:45,  1.83s/it]"
     ]
    },
    {
     "name": "stdout",
     "output_type": "stream",
     "text": [
      "'validation loss is 0.9363644734025002 '\n",
      "'validation accuracy is 0.8197363281250002 '\n",
      "'Epoch: 1392'\n",
      "'training loss is 0.06303121623667804 '\n",
      "'training accuracy is 0.984659090909091 '\n",
      "'Epoch: 1392'\n"
     ]
    },
    {
     "name": "stderr",
     "output_type": "stream",
     "text": [
      "\r",
      " 56%|█████▌    | 1392/2499 [42:09<33:55,  1.84s/it]"
     ]
    },
    {
     "name": "stdout",
     "output_type": "stream",
     "text": [
      "'validation loss is 0.933557978272438 '\n",
      "'validation accuracy is 0.8197265625000002 '\n",
      "'Epoch: 1393'\n",
      "'training loss is 0.06265454603867097 '\n",
      "'training accuracy is 0.984659090909091 '\n",
      "'Epoch: 1393'\n"
     ]
    },
    {
     "name": "stderr",
     "output_type": "stream",
     "text": [
      "\r",
      " 56%|█████▌    | 1393/2499 [42:11<34:01,  1.85s/it]"
     ]
    },
    {
     "name": "stdout",
     "output_type": "stream",
     "text": [
      "'validation loss is 0.92989891320467 '\n",
      "'validation accuracy is 0.82001953125 '\n",
      "'Epoch: 1394'\n",
      "'training loss is 0.06257079541683197 '\n",
      "'training accuracy is 0.984659090909091 '\n",
      "'Epoch: 1394'\n"
     ]
    },
    {
     "name": "stderr",
     "output_type": "stream",
     "text": [
      "\r",
      " 56%|█████▌    | 1394/2499 [42:13<34:28,  1.87s/it]"
     ]
    },
    {
     "name": "stdout",
     "output_type": "stream",
     "text": [
      "'validation loss is 0.935224786400795 '\n",
      "'validation accuracy is 0.8200195312500002 '\n",
      "'Epoch: 1395'\n",
      "'training loss is 0.06243081119927493 '\n",
      "'training accuracy is 0.984659090909091 '\n",
      "'Epoch: 1395'\n"
     ]
    },
    {
     "name": "stderr",
     "output_type": "stream",
     "text": [
      "\r",
      " 56%|█████▌    | 1395/2499 [42:14<34:18,  1.86s/it]"
     ]
    },
    {
     "name": "stdout",
     "output_type": "stream",
     "text": [
      "'validation loss is 0.9409387886524201 '\n",
      "'validation accuracy is 0.8194335937500001 '\n",
      "'Epoch: 1396'\n",
      "'training loss is 0.06266841427846388 '\n",
      "'training accuracy is 0.984659090909091 '\n",
      "'Epoch: 1396'\n"
     ]
    },
    {
     "name": "stderr",
     "output_type": "stream",
     "text": [
      "\r",
      " 56%|█████▌    | 1396/2499 [42:16<34:17,  1.87s/it]"
     ]
    },
    {
     "name": "stdout",
     "output_type": "stream",
     "text": [
      "'validation loss is 0.9361847281455994 '\n",
      "'validation accuracy is 0.8200195312500002 '\n",
      "'Epoch: 1397'\n",
      "'training loss is 0.0625102228739045 '\n",
      "'training accuracy is 0.984659090909091 '\n",
      "'Epoch: 1397'\n"
     ]
    },
    {
     "name": "stderr",
     "output_type": "stream",
     "text": [
      "\r",
      " 56%|█████▌    | 1397/2499 [42:18<33:47,  1.84s/it]"
     ]
    },
    {
     "name": "stdout",
     "output_type": "stream",
     "text": [
      "'validation loss is 0.9430198103189469 '\n",
      "'validation accuracy is 0.8197265625000002 '\n",
      "'Epoch: 1398'\n",
      "'training loss is 0.06255222450603139 '\n",
      "'training accuracy is 0.984659090909091 '\n",
      "'Epoch: 1398'\n"
     ]
    },
    {
     "name": "stderr",
     "output_type": "stream",
     "text": [
      "\r",
      " 56%|█████▌    | 1398/2499 [42:20<33:40,  1.84s/it]"
     ]
    },
    {
     "name": "stdout",
     "output_type": "stream",
     "text": [
      "'validation loss is 0.9345787659287452 '\n",
      "'validation accuracy is 0.8194335937500001 '\n",
      "'Epoch: 1399'\n",
      "'training loss is 0.06251369924707846 '\n",
      "'training accuracy is 0.984659090909091 '\n",
      "'Epoch: 1399'\n"
     ]
    },
    {
     "name": "stderr",
     "output_type": "stream",
     "text": [
      "\r",
      " 56%|█████▌    | 1399/2499 [42:22<33:22,  1.82s/it]"
     ]
    },
    {
     "name": "stdout",
     "output_type": "stream",
     "text": [
      "'validation loss is 0.928487540781498 '\n",
      "'validation accuracy is 0.8194335937500001 '\n",
      "'Epoch: 1400'\n",
      "'training loss is 0.06309251351789995 '\n",
      "'training accuracy is 0.984659090909091 '\n",
      "'Epoch: 1400'\n"
     ]
    },
    {
     "name": "stderr",
     "output_type": "stream",
     "text": [
      "\r",
      " 56%|█████▌    | 1400/2499 [42:24<33:36,  1.83s/it]"
     ]
    },
    {
     "name": "stdout",
     "output_type": "stream",
     "text": [
      "'validation loss is 0.9261875286698341 '\n",
      "'validation accuracy is 0.8203222656250002 '\n",
      "'Epoch: 1401'\n",
      "'training loss is 0.06303454055027528 '\n",
      "'training accuracy is 0.984659090909091 '\n",
      "'Epoch: 1401'\n"
     ]
    },
    {
     "name": "stderr",
     "output_type": "stream",
     "text": [
      "\r",
      " 56%|█████▌    | 1401/2499 [42:25<32:58,  1.80s/it]"
     ]
    },
    {
     "name": "stdout",
     "output_type": "stream",
     "text": [
      "'validation loss is 0.9360345497727394 '\n",
      "'validation accuracy is 0.8194335937500001 '\n",
      "'Epoch: 1402'\n",
      "'training loss is 0.06267806311899965 '\n",
      "'training accuracy is 0.984659090909091 '\n",
      "'Epoch: 1402'\n"
     ]
    },
    {
     "name": "stderr",
     "output_type": "stream",
     "text": [
      "\r",
      " 56%|█████▌    | 1402/2499 [42:27<32:59,  1.80s/it]"
     ]
    },
    {
     "name": "stdout",
     "output_type": "stream",
     "text": [
      "'validation loss is 0.93601263910532 '\n",
      "'validation accuracy is 0.8194531250000001 '\n",
      "'Epoch: 1403'\n",
      "'training loss is 0.06280228156935085 '\n",
      "'training accuracy is 0.9846590909090908 '\n",
      "'Epoch: 1403'\n"
     ]
    },
    {
     "name": "stderr",
     "output_type": "stream",
     "text": [
      "\r",
      " 56%|█████▌    | 1403/2499 [42:29<32:49,  1.80s/it]"
     ]
    },
    {
     "name": "stdout",
     "output_type": "stream",
     "text": [
      "'validation loss is 0.9260345011949539 '\n",
      "'validation accuracy is 0.8197265625000002 '\n",
      "'Epoch: 1404'\n",
      "'training loss is 0.06288919801061804 '\n",
      "'training accuracy is 0.984659090909091 '\n",
      "'Epoch: 1404'\n"
     ]
    },
    {
     "name": "stderr",
     "output_type": "stream",
     "text": [
      "\r",
      " 56%|█████▌    | 1404/2499 [42:31<33:15,  1.82s/it]"
     ]
    },
    {
     "name": "stdout",
     "output_type": "stream",
     "text": [
      "'validation loss is 0.9303056910634041 '\n",
      "'validation accuracy is 0.8197363281250001 '\n",
      "'Epoch: 1405'\n",
      "'training loss is 0.062458913773298264 '\n",
      "'training accuracy is 0.984659090909091 '\n",
      "'Epoch: 1405'\n"
     ]
    },
    {
     "name": "stderr",
     "output_type": "stream",
     "text": [
      "\r",
      " 56%|█████▌    | 1405/2499 [42:33<33:14,  1.82s/it]"
     ]
    },
    {
     "name": "stdout",
     "output_type": "stream",
     "text": [
      "'validation loss is 0.9368421569466591 '\n",
      "'validation accuracy is 0.8191406250000002 '\n",
      "'Epoch: 1406'\n",
      "'training loss is 0.06257922574877739 '\n",
      "'training accuracy is 0.984659090909091 '\n",
      "'Epoch: 1406'\n"
     ]
    },
    {
     "name": "stderr",
     "output_type": "stream",
     "text": [
      "\r",
      " 56%|█████▋    | 1406/2499 [42:34<33:39,  1.85s/it]"
     ]
    },
    {
     "name": "stdout",
     "output_type": "stream",
     "text": [
      "'validation loss is 0.9359247863292695 '\n",
      "'validation accuracy is 0.81943359375 '\n",
      "'Epoch: 1407'\n",
      "'training loss is 0.06240262734619054 '\n",
      "'training accuracy is 0.984659090909091 '\n",
      "'Epoch: 1407'\n"
     ]
    },
    {
     "name": "stderr",
     "output_type": "stream",
     "text": [
      "\r",
      " 56%|█████▋    | 1407/2499 [42:36<33:23,  1.83s/it]"
     ]
    },
    {
     "name": "stdout",
     "output_type": "stream",
     "text": [
      "'validation loss is 0.9348120242357254 '\n",
      "'validation accuracy is 0.8200195312500002 '\n",
      "'Epoch: 1408'\n",
      "'training loss is 0.06296452033248814 '\n",
      "'training accuracy is 0.9846590909090908 '\n",
      "'Epoch: 1408'\n"
     ]
    },
    {
     "name": "stderr",
     "output_type": "stream",
     "text": [
      "\r",
      " 56%|█████▋    | 1408/2499 [42:38<33:36,  1.85s/it]"
     ]
    },
    {
     "name": "stdout",
     "output_type": "stream",
     "text": [
      "'validation loss is 0.9308703780174256 '\n",
      "'validation accuracy is 0.8194335937500001 '\n",
      "'Epoch: 1409'\n",
      "'training loss is 0.06308093599297783 '\n",
      "'training accuracy is 0.9846590909090908 '\n",
      "'Epoch: 1409'\n"
     ]
    },
    {
     "name": "stderr",
     "output_type": "stream",
     "text": [
      "\r",
      " 56%|█████▋    | 1409/2499 [42:40<33:39,  1.85s/it]"
     ]
    },
    {
     "name": "stdout",
     "output_type": "stream",
     "text": [
      "'validation loss is 0.9347957134246826 '\n",
      "'validation accuracy is 0.8200195312500002 '\n",
      "'Epoch: 1410'\n",
      "'training loss is 0.06265307251702655 '\n",
      "'training accuracy is 0.984659090909091 '\n",
      "'Epoch: 1410'\n"
     ]
    },
    {
     "name": "stderr",
     "output_type": "stream",
     "text": [
      "\r",
      " 56%|█████▋    | 1410/2499 [42:42<33:22,  1.84s/it]"
     ]
    },
    {
     "name": "stdout",
     "output_type": "stream",
     "text": [
      "'validation loss is 0.9355618730187416 '\n",
      "'validation accuracy is 0.8197265625000002 '\n",
      "'Epoch: 1411'\n",
      "'training loss is 0.0626341961324215 '\n",
      "'training accuracy is 0.984659090909091 '\n",
      "'Epoch: 1411'\n"
     ]
    },
    {
     "name": "stderr",
     "output_type": "stream",
     "text": [
      "\r",
      " 56%|█████▋    | 1411/2499 [42:44<33:04,  1.82s/it]"
     ]
    },
    {
     "name": "stdout",
     "output_type": "stream",
     "text": [
      "'validation loss is 0.9310534298419952 '\n",
      "'validation accuracy is 0.8200292968750003 '\n",
      "'Epoch: 1412'\n",
      "'training loss is 0.06265321949666197 '\n",
      "'training accuracy is 0.9846590909090908 '\n",
      "'Epoch: 1412'\n"
     ]
    },
    {
     "name": "stderr",
     "output_type": "stream",
     "text": [
      "\r",
      " 57%|█████▋    | 1412/2499 [42:45<32:38,  1.80s/it]"
     ]
    },
    {
     "name": "stdout",
     "output_type": "stream",
     "text": [
      "'validation loss is 0.9418842971324921 '\n",
      "'validation accuracy is 0.8191406250000002 '\n",
      "'Epoch: 1413'\n",
      "'training loss is 0.06300963630730455 '\n",
      "'training accuracy is 0.984659090909091 '\n",
      "'Epoch: 1413'\n"
     ]
    },
    {
     "name": "stderr",
     "output_type": "stream",
     "text": [
      "\r",
      " 57%|█████▋    | 1413/2499 [42:47<32:23,  1.79s/it]"
     ]
    },
    {
     "name": "stdout",
     "output_type": "stream",
     "text": [
      "'validation loss is 0.9356404349207879 '\n",
      "'validation accuracy is 0.8197265625 '\n",
      "'Epoch: 1414'\n",
      "'training loss is 0.06287823380394415 '\n",
      "'training accuracy is 0.984659090909091 '\n",
      "'Epoch: 1414'\n"
     ]
    },
    {
     "name": "stderr",
     "output_type": "stream",
     "text": [
      "\r",
      " 57%|█████▋    | 1414/2499 [42:49<32:56,  1.82s/it]"
     ]
    },
    {
     "name": "stdout",
     "output_type": "stream",
     "text": [
      "'validation loss is 0.9321348667144775 '\n",
      "'validation accuracy is 0.8194335937500001 '\n",
      "'Epoch: 1415'\n",
      "'training loss is 0.06251434135166081 '\n",
      "'training accuracy is 0.9846590909090908 '\n",
      "'Epoch: 1415'\n"
     ]
    },
    {
     "name": "stderr",
     "output_type": "stream",
     "text": [
      "\r",
      " 57%|█████▋    | 1415/2499 [42:51<32:32,  1.80s/it]"
     ]
    },
    {
     "name": "stdout",
     "output_type": "stream",
     "text": [
      "'validation loss is 0.9344165205955506 '\n",
      "'validation accuracy is 0.8197265625000002 '\n",
      "'Epoch: 1416'\n",
      "'training loss is 0.06268682263114235 '\n",
      "'training accuracy is 0.984659090909091 '\n",
      "'Epoch: 1416'\n"
     ]
    },
    {
     "name": "stderr",
     "output_type": "stream",
     "text": [
      "\r",
      " 57%|█████▋    | 1416/2499 [42:53<32:45,  1.81s/it]"
     ]
    },
    {
     "name": "stdout",
     "output_type": "stream",
     "text": [
      "'validation loss is 0.9342931523919106 '\n",
      "'validation accuracy is 0.8197265625000002 '\n",
      "'Epoch: 1417'\n",
      "'training loss is 0.06276028230786324 '\n",
      "'training accuracy is 0.984659090909091 '\n",
      "'Epoch: 1417'\n"
     ]
    },
    {
     "name": "stderr",
     "output_type": "stream",
     "text": [
      "\r",
      " 57%|█████▋    | 1417/2499 [42:54<32:28,  1.80s/it]"
     ]
    },
    {
     "name": "stdout",
     "output_type": "stream",
     "text": [
      "'validation loss is 0.934219916164875 '\n",
      "'validation accuracy is 0.8200195312500002 '\n",
      "'Epoch: 1418'\n",
      "'training loss is 0.06232357770204544 '\n",
      "'training accuracy is 0.984659090909091 '\n",
      "'Epoch: 1418'\n"
     ]
    },
    {
     "name": "stderr",
     "output_type": "stream",
     "text": [
      "\r",
      " 57%|█████▋    | 1418/2499 [42:56<32:09,  1.78s/it]"
     ]
    },
    {
     "name": "stdout",
     "output_type": "stream",
     "text": [
      "'validation loss is 0.941710552573204 '\n",
      "'validation accuracy is 0.819140625 '\n",
      "'Epoch: 1419'\n",
      "'training loss is 0.06258829547600313 '\n",
      "'training accuracy is 0.984659090909091 '\n",
      "'Epoch: 1419'\n"
     ]
    },
    {
     "name": "stderr",
     "output_type": "stream",
     "text": [
      "\r",
      " 57%|█████▋    | 1419/2499 [42:58<31:56,  1.77s/it]"
     ]
    },
    {
     "name": "stdout",
     "output_type": "stream",
     "text": [
      "'validation loss is 0.9396307706832886 '\n",
      "'validation accuracy is 0.8194335937500004 '\n",
      "'Epoch: 1420'\n",
      "'training loss is 0.06269566816362468 '\n",
      "'training accuracy is 0.984659090909091 '\n",
      "'Epoch: 1420'\n"
     ]
    },
    {
     "name": "stderr",
     "output_type": "stream",
     "text": [
      "\r",
      " 57%|█████▋    | 1420/2499 [43:00<32:06,  1.79s/it]"
     ]
    },
    {
     "name": "stdout",
     "output_type": "stream",
     "text": [
      "'validation loss is 0.9273736789822579 '\n",
      "'validation accuracy is 0.8206054687500002 '\n",
      "'Epoch: 1421'\n",
      "'training loss is 0.06275025247172876 '\n",
      "'training accuracy is 0.984659090909091 '\n",
      "'Epoch: 1421'\n"
     ]
    },
    {
     "name": "stderr",
     "output_type": "stream",
     "text": [
      "\r",
      " 57%|█████▋    | 1421/2499 [43:01<32:19,  1.80s/it]"
     ]
    },
    {
     "name": "stdout",
     "output_type": "stream",
     "text": [
      "'validation loss is 0.929725207388401 '\n",
      "'validation accuracy is 0.8194433593750002 '\n",
      "'Epoch: 1422'\n",
      "'training loss is 0.062486044723879204 '\n",
      "'training accuracy is 0.984659090909091 '\n",
      "'Epoch: 1422'\n"
     ]
    },
    {
     "name": "stderr",
     "output_type": "stream",
     "text": [
      "\r",
      " 57%|█████▋    | 1422/2499 [43:03<32:59,  1.84s/it]"
     ]
    },
    {
     "name": "stdout",
     "output_type": "stream",
     "text": [
      "'validation loss is 0.9347853139042854 '\n",
      "'validation accuracy is 0.8191406250000004 '\n",
      "'Epoch: 1423'\n",
      "'training loss is 0.06257533688436855 '\n",
      "'training accuracy is 0.9846590909090908 '\n",
      "'Epoch: 1423'\n"
     ]
    },
    {
     "name": "stderr",
     "output_type": "stream",
     "text": [
      "\r",
      " 57%|█████▋    | 1423/2499 [43:05<33:49,  1.89s/it]"
     ]
    },
    {
     "name": "stdout",
     "output_type": "stream",
     "text": [
      "'validation loss is 0.9287518501281739 '\n",
      "'validation accuracy is 0.8194433593750002 '\n",
      "'Epoch: 1424'\n",
      "'training loss is 0.0625975104895505 '\n",
      "'training accuracy is 0.9846590909090908 '\n",
      "'Epoch: 1424'\n"
     ]
    },
    {
     "name": "stderr",
     "output_type": "stream",
     "text": [
      "\r",
      " 57%|█████▋    | 1424/2499 [43:07<33:31,  1.87s/it]"
     ]
    },
    {
     "name": "stdout",
     "output_type": "stream",
     "text": [
      "'validation loss is 0.9355519995093345 '\n",
      "'validation accuracy is 0.8200195312500004 '\n",
      "'Epoch: 1425'\n",
      "'training loss is 0.06295090236447075 '\n",
      "'training accuracy is 0.984659090909091 '\n",
      "'Epoch: 1425'\n"
     ]
    },
    {
     "name": "stderr",
     "output_type": "stream",
     "text": [
      "\r",
      " 57%|█████▋    | 1425/2499 [43:09<33:01,  1.85s/it]"
     ]
    },
    {
     "name": "stdout",
     "output_type": "stream",
     "text": [
      "'validation loss is 0.9306483209133148 '\n",
      "'validation accuracy is 0.8194335937500004 '\n",
      "'Epoch: 1426'\n",
      "'training loss is 0.06263954835859212 '\n",
      "'training accuracy is 0.9846590909090908 '\n",
      "'Epoch: 1426'\n"
     ]
    },
    {
     "name": "stderr",
     "output_type": "stream",
     "text": [
      "\r",
      " 57%|█████▋    | 1426/2499 [43:11<33:14,  1.86s/it]"
     ]
    },
    {
     "name": "stdout",
     "output_type": "stream",
     "text": [
      "'validation loss is 0.9339630499482154 '\n",
      "'validation accuracy is 0.8194335937500001 '\n",
      "'Epoch: 1427'\n",
      "'training loss is 0.06287021494724533 '\n",
      "'training accuracy is 0.984659090909091 '\n",
      "'Epoch: 1427'\n"
     ]
    },
    {
     "name": "stderr",
     "output_type": "stream",
     "text": [
      "\r",
      " 57%|█████▋    | 1427/2499 [43:13<32:49,  1.84s/it]"
     ]
    },
    {
     "name": "stdout",
     "output_type": "stream",
     "text": [
      "'validation loss is 0.9269713923335076 '\n",
      "'validation accuracy is 0.8194433593750002 '\n",
      "'Epoch: 1428'\n",
      "'training loss is 0.0624696361747655 '\n",
      "'training accuracy is 0.984659090909091 '\n",
      "'Epoch: 1428'\n"
     ]
    },
    {
     "name": "stderr",
     "output_type": "stream",
     "text": [
      "\r",
      " 57%|█████▋    | 1428/2499 [43:15<32:37,  1.83s/it]"
     ]
    },
    {
     "name": "stdout",
     "output_type": "stream",
     "text": [
      "'validation loss is 0.9241991952061653 '\n",
      "'validation accuracy is 0.82001953125 '\n",
      "'Epoch: 1429'\n",
      "'training loss is 0.06268088858235966 '\n",
      "'training accuracy is 0.984659090909091 '\n",
      "'Epoch: 1429'\n"
     ]
    },
    {
     "name": "stderr",
     "output_type": "stream",
     "text": [
      "\r",
      " 57%|█████▋    | 1429/2499 [43:16<32:37,  1.83s/it]"
     ]
    },
    {
     "name": "stdout",
     "output_type": "stream",
     "text": [
      "'validation loss is 0.9312225714325905 '\n",
      "'validation accuracy is 0.8194335937500004 '\n",
      "'Epoch: 1430'\n",
      "'training loss is 0.06269592453132976 '\n",
      "'training accuracy is 0.9846590909090908 '\n",
      "'Epoch: 1430'\n"
     ]
    },
    {
     "name": "stderr",
     "output_type": "stream",
     "text": [
      "\r",
      " 57%|█████▋    | 1430/2499 [43:18<32:26,  1.82s/it]"
     ]
    },
    {
     "name": "stdout",
     "output_type": "stream",
     "text": [
      "'validation loss is 0.9312486439943314 '\n",
      "'validation accuracy is 0.8191503906250002 '\n",
      "'Epoch: 1431'\n",
      "'training loss is 0.06300166960466992 '\n",
      "'training accuracy is 0.984659090909091 '\n",
      "'Epoch: 1431'\n"
     ]
    },
    {
     "name": "stderr",
     "output_type": "stream",
     "text": [
      "\r",
      " 57%|█████▋    | 1431/2499 [43:20<32:34,  1.83s/it]"
     ]
    },
    {
     "name": "stdout",
     "output_type": "stream",
     "text": [
      "'validation loss is 0.926496322453022 '\n",
      "'validation accuracy is 0.8191406250000002 '\n",
      "'Epoch: 1432'\n",
      "'training loss is 0.06284630569544705 '\n",
      "'training accuracy is 0.984659090909091 '\n",
      "'Epoch: 1432'\n"
     ]
    },
    {
     "name": "stderr",
     "output_type": "stream",
     "text": [
      "\r",
      " 57%|█████▋    | 1432/2499 [43:22<32:34,  1.83s/it]"
     ]
    },
    {
     "name": "stdout",
     "output_type": "stream",
     "text": [
      "'validation loss is 0.9249886393547058 '\n",
      "'validation accuracy is 0.8206054687500002 '\n",
      "'Epoch: 1433'\n",
      "'training loss is 0.06275013089179993 '\n",
      "'training accuracy is 0.9846590909090911 '\n",
      "'Epoch: 1433'\n"
     ]
    },
    {
     "name": "stderr",
     "output_type": "stream",
     "text": [
      "\r",
      " 57%|█████▋    | 1433/2499 [43:24<33:13,  1.87s/it]"
     ]
    },
    {
     "name": "stdout",
     "output_type": "stream",
     "text": [
      "'validation loss is 0.927581650018692 '\n",
      "'validation accuracy is 0.8203320312500001 '\n",
      "'Epoch: 1434'\n",
      "'training loss is 0.06247286938808181 '\n",
      "'training accuracy is 0.9846590909090908 '\n",
      "'Epoch: 1434'\n"
     ]
    },
    {
     "name": "stderr",
     "output_type": "stream",
     "text": [
      "\r",
      " 57%|█████▋    | 1434/2499 [43:26<33:12,  1.87s/it]"
     ]
    },
    {
     "name": "stdout",
     "output_type": "stream",
     "text": [
      "'validation loss is 0.9335932523012161 '\n",
      "'validation accuracy is 0.8194531250000001 '\n",
      "'Epoch: 1435'\n",
      "'training loss is 0.06279561025175182 '\n",
      "'training accuracy is 0.984659090909091 '\n",
      "'Epoch: 1435'\n"
     ]
    },
    {
     "name": "stderr",
     "output_type": "stream",
     "text": [
      "\r",
      " 57%|█████▋    | 1435/2499 [43:27<32:41,  1.84s/it]"
     ]
    },
    {
     "name": "stdout",
     "output_type": "stream",
     "text": [
      "'validation loss is 0.932804623246193 '\n",
      "'validation accuracy is 0.8194433593750002 '\n",
      "'Epoch: 1436'\n",
      "'training loss is 0.06230380216782743 '\n",
      "'training accuracy is 0.984659090909091 '\n",
      "'Epoch: 1436'\n"
     ]
    },
    {
     "name": "stderr",
     "output_type": "stream",
     "text": [
      "\r",
      " 57%|█████▋    | 1436/2499 [43:29<32:16,  1.82s/it]"
     ]
    },
    {
     "name": "stdout",
     "output_type": "stream",
     "text": [
      "'validation loss is 0.9273301735520363 '\n",
      "'validation accuracy is 0.8194433593750002 '\n",
      "'Epoch: 1437'\n",
      "'training loss is 0.0625633875077421 '\n",
      "'training accuracy is 0.984659090909091 '\n",
      "'Epoch: 1437'\n"
     ]
    },
    {
     "name": "stderr",
     "output_type": "stream",
     "text": [
      "\r",
      " 58%|█████▊    | 1437/2499 [43:31<32:29,  1.84s/it]"
     ]
    },
    {
     "name": "stdout",
     "output_type": "stream",
     "text": [
      "'validation loss is 0.932414086163044 '\n",
      "'validation accuracy is 0.8197265625000003 '\n",
      "'Epoch: 1438'\n",
      "'training loss is 0.06280164691534909 '\n",
      "'training accuracy is 0.984659090909091 '\n",
      "'Epoch: 1438'\n"
     ]
    },
    {
     "name": "stderr",
     "output_type": "stream",
     "text": [
      "\r",
      " 58%|█████▊    | 1438/2499 [43:33<31:53,  1.80s/it]"
     ]
    },
    {
     "name": "stdout",
     "output_type": "stream",
     "text": [
      "'validation loss is 0.9305054634809494 '\n",
      "'validation accuracy is 0.8194335937500001 '\n",
      "'Epoch: 1439'\n",
      "'training loss is 0.06280444494702599 '\n",
      "'training accuracy is 0.984659090909091 '\n",
      "'Epoch: 1439'\n"
     ]
    },
    {
     "name": "stderr",
     "output_type": "stream",
     "text": [
      "\r",
      " 58%|█████▊    | 1439/2499 [43:35<31:58,  1.81s/it]"
     ]
    },
    {
     "name": "stdout",
     "output_type": "stream",
     "text": [
      "'validation loss is 0.9251158624887467 '\n",
      "'validation accuracy is 0.8197265625000002 '\n",
      "'Epoch: 1440'\n",
      "'training loss is 0.0622376911342144 '\n",
      "'training accuracy is 0.984659090909091 '\n",
      "'Epoch: 1440'\n"
     ]
    },
    {
     "name": "stderr",
     "output_type": "stream",
     "text": [
      "\r",
      " 58%|█████▊    | 1440/2499 [43:36<32:02,  1.82s/it]"
     ]
    },
    {
     "name": "stdout",
     "output_type": "stream",
     "text": [
      "'validation loss is 0.9292358428239822 '\n",
      "'validation accuracy is 0.8197460937500001 '\n",
      "'Epoch: 1441'\n",
      "'training loss is 0.06214527074586262 '\n",
      "'training accuracy is 0.9846590909090908 '\n",
      "'Epoch: 1441'\n"
     ]
    },
    {
     "name": "stderr",
     "output_type": "stream",
     "text": [
      "\r",
      " 58%|█████▊    | 1441/2499 [43:38<31:53,  1.81s/it]"
     ]
    },
    {
     "name": "stdout",
     "output_type": "stream",
     "text": [
      "'validation loss is 0.9351684674620628 '\n",
      "'validation accuracy is 0.8191503906250002 '\n",
      "'Epoch: 1442'\n",
      "'training loss is 0.06244889714501121 '\n",
      "'training accuracy is 0.984659090909091 '\n",
      "'Epoch: 1442'\n"
     ]
    },
    {
     "name": "stderr",
     "output_type": "stream",
     "text": [
      "\r",
      " 58%|█████▊    | 1442/2499 [43:40<31:49,  1.81s/it]"
     ]
    },
    {
     "name": "stdout",
     "output_type": "stream",
     "text": [
      "'validation loss is 0.9331796407699585 '\n",
      "'validation accuracy is 0.8191406250000002 '\n",
      "'Epoch: 1443'\n",
      "'training loss is 0.0625783225352114 '\n",
      "'training accuracy is 0.9846590909090911 '\n",
      "'Epoch: 1443'\n"
     ]
    },
    {
     "name": "stderr",
     "output_type": "stream",
     "text": [
      "\r",
      " 58%|█████▊    | 1443/2499 [43:42<31:46,  1.80s/it]"
     ]
    },
    {
     "name": "stdout",
     "output_type": "stream",
     "text": [
      "'validation loss is 0.9262062832713127 '\n",
      "'validation accuracy is 0.8194335937500004 '\n",
      "'Epoch: 1444'\n",
      "'training loss is 0.06247517127882351 '\n",
      "'training accuracy is 0.984659090909091 '\n",
      "'Epoch: 1444'\n"
     ]
    },
    {
     "name": "stderr",
     "output_type": "stream",
     "text": [
      "\r",
      " 58%|█████▊    | 1444/2499 [43:44<32:00,  1.82s/it]"
     ]
    },
    {
     "name": "stdout",
     "output_type": "stream",
     "text": [
      "'validation loss is 0.9225857466459274 '\n",
      "'validation accuracy is 0.8194628906250003 '\n",
      "'Epoch: 1445'\n",
      "'training loss is 0.06282702359286221 '\n",
      "'training accuracy is 0.9846590909090908 '\n",
      "'Epoch: 1445'\n"
     ]
    },
    {
     "name": "stderr",
     "output_type": "stream",
     "text": [
      "\r",
      " 58%|█████▊    | 1445/2499 [43:46<32:29,  1.85s/it]"
     ]
    },
    {
     "name": "stdout",
     "output_type": "stream",
     "text": [
      "'validation loss is 0.9277608558535576 '\n",
      "'validation accuracy is 0.8191503906250002 '\n",
      "'Epoch: 1446'\n",
      "'training loss is 0.06218977712772109 '\n",
      "'training accuracy is 0.984659090909091 '\n",
      "'Epoch: 1446'\n"
     ]
    },
    {
     "name": "stderr",
     "output_type": "stream",
     "text": [
      "\r",
      " 58%|█████▊    | 1446/2499 [43:48<32:52,  1.87s/it]"
     ]
    },
    {
     "name": "stdout",
     "output_type": "stream",
     "text": [
      "'validation loss is 0.9279524222016334 '\n",
      "'validation accuracy is 0.81916015625 '\n",
      "'Epoch: 1447'\n",
      "'training loss is 0.062484968453645706 '\n",
      "'training accuracy is 0.984659090909091 '\n",
      "'Epoch: 1447'\n"
     ]
    },
    {
     "name": "stderr",
     "output_type": "stream",
     "text": [
      "\r",
      " 58%|█████▊    | 1447/2499 [43:49<32:36,  1.86s/it]"
     ]
    },
    {
     "name": "stdout",
     "output_type": "stream",
     "text": [
      "'validation loss is 0.9231221526861191 '\n",
      "'validation accuracy is 0.8194433593750002 '\n",
      "'Epoch: 1448'\n",
      "'training loss is 0.06269104067574847 '\n",
      "'training accuracy is 0.984659090909091 '\n",
      "'Epoch: 1448'\n"
     ]
    },
    {
     "name": "stderr",
     "output_type": "stream",
     "text": [
      "\r",
      " 58%|█████▊    | 1448/2499 [43:51<32:03,  1.83s/it]"
     ]
    },
    {
     "name": "stdout",
     "output_type": "stream",
     "text": [
      "'validation loss is 0.9344101220369339 '\n",
      "'validation accuracy is 0.8191406250000002 '\n",
      "'Epoch: 1449'\n",
      "'training loss is 0.06273058497092941 '\n",
      "'training accuracy is 0.9846590909090908 '\n",
      "'Epoch: 1449'\n"
     ]
    },
    {
     "name": "stderr",
     "output_type": "stream",
     "text": [
      "\r",
      " 58%|█████▊    | 1449/2499 [43:53<32:31,  1.86s/it]"
     ]
    },
    {
     "name": "stdout",
     "output_type": "stream",
     "text": [
      "'validation loss is 0.9333808973431588 '\n",
      "'validation accuracy is 0.8197460937500003 '\n",
      "'Epoch: 1450'\n",
      "'training loss is 0.06251784786581993 '\n",
      "'training accuracy is 0.984659090909091 '\n",
      "'Epoch: 1450'\n"
     ]
    },
    {
     "name": "stderr",
     "output_type": "stream",
     "text": [
      "\r",
      " 58%|█████▊    | 1450/2499 [43:55<32:06,  1.84s/it]"
     ]
    },
    {
     "name": "stdout",
     "output_type": "stream",
     "text": [
      "'validation loss is 0.9285934403538704 '\n",
      "'validation accuracy is 0.8200292968750003 '\n",
      "'Epoch: 1451'\n",
      "'training loss is 0.06276148422197862 '\n",
      "'training accuracy is 0.984659090909091 '\n",
      "'Epoch: 1451'\n"
     ]
    },
    {
     "name": "stderr",
     "output_type": "stream",
     "text": [
      "\r",
      " 58%|█████▊    | 1451/2499 [43:57<31:35,  1.81s/it]"
     ]
    },
    {
     "name": "stdout",
     "output_type": "stream",
     "text": [
      "'validation loss is 0.9290847197175026 '\n",
      "'validation accuracy is 0.8197363281250002 '\n",
      "'Epoch: 1452'\n",
      "'training loss is 0.06235984272577546 '\n",
      "'training accuracy is 0.984659090909091 '\n",
      "'Epoch: 1452'\n"
     ]
    },
    {
     "name": "stderr",
     "output_type": "stream",
     "text": [
      "\r",
      " 58%|█████▊    | 1452/2499 [43:58<31:21,  1.80s/it]"
     ]
    },
    {
     "name": "stdout",
     "output_type": "stream",
     "text": [
      "'validation loss is 0.9260054305195808 '\n",
      "'validation accuracy is 0.8200292968750003 '\n",
      "'Epoch: 1453'\n",
      "'training loss is 0.06262635575099425 '\n",
      "'training accuracy is 0.9846590909090908 '\n",
      "'Epoch: 1453'\n"
     ]
    },
    {
     "name": "stderr",
     "output_type": "stream",
     "text": [
      "\r",
      " 58%|█████▊    | 1453/2499 [44:00<31:33,  1.81s/it]"
     ]
    },
    {
     "name": "stdout",
     "output_type": "stream",
     "text": [
      "'validation loss is 0.9345714271068573 '\n",
      "'validation accuracy is 0.8194335937500001 '\n",
      "'Epoch: 1454'\n",
      "'training loss is 0.06216872009364041 '\n",
      "'training accuracy is 0.984659090909091 '\n",
      "'Epoch: 1454'\n"
     ]
    },
    {
     "name": "stderr",
     "output_type": "stream",
     "text": [
      "\r",
      " 58%|█████▊    | 1454/2499 [44:02<31:46,  1.82s/it]"
     ]
    },
    {
     "name": "stdout",
     "output_type": "stream",
     "text": [
      "'validation loss is 0.9267046838998795 '\n",
      "'validation accuracy is 0.8197460937500001 '\n",
      "'Epoch: 1455'\n",
      "'training loss is 0.06277705525810068 '\n",
      "'training accuracy is 0.984659090909091 '\n",
      "'Epoch: 1455'\n"
     ]
    },
    {
     "name": "stderr",
     "output_type": "stream",
     "text": [
      "\r",
      " 58%|█████▊    | 1455/2499 [44:04<32:02,  1.84s/it]"
     ]
    },
    {
     "name": "stdout",
     "output_type": "stream",
     "text": [
      "'validation loss is 0.9320225834846496 '\n",
      "'validation accuracy is 0.8197363281250002 '\n",
      "'Epoch: 1456'\n",
      "'training loss is 0.06252215701070699 '\n",
      "'training accuracy is 0.984659090909091 '\n",
      "'Epoch: 1456'\n"
     ]
    },
    {
     "name": "stderr",
     "output_type": "stream",
     "text": [
      "\r",
      " 58%|█████▊    | 1456/2499 [44:06<31:41,  1.82s/it]"
     ]
    },
    {
     "name": "stdout",
     "output_type": "stream",
     "text": [
      "'validation loss is 0.9190582901239395 '\n",
      "'validation accuracy is 0.8203222656250002 '\n",
      "'Epoch: 1457'\n",
      "'training loss is 0.06272686103528197 '\n",
      "'training accuracy is 0.984659090909091 '\n",
      "'Epoch: 1457'\n"
     ]
    },
    {
     "name": "stderr",
     "output_type": "stream",
     "text": [
      "\r",
      " 58%|█████▊    | 1457/2499 [44:08<31:32,  1.82s/it]"
     ]
    },
    {
     "name": "stdout",
     "output_type": "stream",
     "text": [
      "'validation loss is 0.9343910351395607 '\n",
      "'validation accuracy is 0.819140625 '\n",
      "'Epoch: 1458'\n",
      "'training loss is 0.0623588812622157 '\n",
      "'training accuracy is 0.9846590909090908 '\n",
      "'Epoch: 1458'\n"
     ]
    },
    {
     "name": "stderr",
     "output_type": "stream",
     "text": [
      "\r",
      " 58%|█████▊    | 1458/2499 [44:09<31:02,  1.79s/it]"
     ]
    },
    {
     "name": "stdout",
     "output_type": "stream",
     "text": [
      "'validation loss is 0.9269733890891075 '\n",
      "'validation accuracy is 0.8200390625 '\n",
      "'Epoch: 1459'\n",
      "'training loss is 0.06297373263673349 '\n",
      "'training accuracy is 0.984659090909091 '\n",
      "'Epoch: 1459'\n"
     ]
    },
    {
     "name": "stderr",
     "output_type": "stream",
     "text": [
      "\r",
      " 58%|█████▊    | 1459/2499 [44:11<30:47,  1.78s/it]"
     ]
    },
    {
     "name": "stdout",
     "output_type": "stream",
     "text": [
      "'validation loss is 0.9267731606960297 '\n",
      "'validation accuracy is 0.8197265625000003 '\n",
      "'Epoch: 1460'\n",
      "'training loss is 0.062479095702821556 '\n",
      "'training accuracy is 0.9846590909090908 '\n",
      "'Epoch: 1460'\n"
     ]
    },
    {
     "name": "stderr",
     "output_type": "stream",
     "text": [
      "\r",
      " 58%|█████▊    | 1460/2499 [44:13<30:51,  1.78s/it]"
     ]
    },
    {
     "name": "stdout",
     "output_type": "stream",
     "text": [
      "'validation loss is 0.9245147228240966 '\n",
      "'validation accuracy is 0.8197558593750001 '\n",
      "'Epoch: 1461'\n",
      "'training loss is 0.06284950131719763 '\n",
      "'training accuracy is 0.9846590909090908 '\n",
      "'Epoch: 1461'\n"
     ]
    },
    {
     "name": "stderr",
     "output_type": "stream",
     "text": [
      "\r",
      " 58%|█████▊    | 1461/2499 [44:15<31:05,  1.80s/it]"
     ]
    },
    {
     "name": "stdout",
     "output_type": "stream",
     "text": [
      "'validation loss is 0.9227596268057823 '\n",
      "'validation accuracy is 0.8194824218750002 '\n",
      "'Epoch: 1462'\n",
      "'training loss is 0.06262011622840707 '\n",
      "'training accuracy is 0.984659090909091 '\n",
      "'Epoch: 1462'\n"
     ]
    },
    {
     "name": "stderr",
     "output_type": "stream",
     "text": [
      "\r",
      " 59%|█████▊    | 1462/2499 [44:16<31:15,  1.81s/it]"
     ]
    },
    {
     "name": "stdout",
     "output_type": "stream",
     "text": [
      "'validation loss is 0.9255801975727082 '\n",
      "'validation accuracy is 0.8200292968750003 '\n",
      "'Epoch: 1463'\n",
      "'training loss is 0.06254891475493257 '\n",
      "'training accuracy is 0.984659090909091 '\n",
      "'Epoch: 1463'\n"
     ]
    },
    {
     "name": "stderr",
     "output_type": "stream",
     "text": [
      "\r",
      " 59%|█████▊    | 1463/2499 [44:18<30:55,  1.79s/it]"
     ]
    },
    {
     "name": "stdout",
     "output_type": "stream",
     "text": [
      "'validation loss is 0.9223664283752442 '\n",
      "'validation accuracy is 0.8191894531250001 '\n",
      "'Epoch: 1464'\n",
      "'training loss is 0.06239118393171917 '\n",
      "'training accuracy is 0.984659090909091 '\n",
      "'Epoch: 1464'\n"
     ]
    },
    {
     "name": "stderr",
     "output_type": "stream",
     "text": [
      "\r",
      " 59%|█████▊    | 1464/2499 [44:20<31:31,  1.83s/it]"
     ]
    },
    {
     "name": "stdout",
     "output_type": "stream",
     "text": [
      "'validation loss is 0.9267062813043594 '\n",
      "'validation accuracy is 0.8194531250000001 '\n",
      "'Epoch: 1465'\n",
      "'training loss is 0.06260759044777263 '\n",
      "'training accuracy is 0.9846590909090908 '\n",
      "'Epoch: 1465'\n"
     ]
    },
    {
     "name": "stderr",
     "output_type": "stream",
     "text": [
      "\r",
      " 59%|█████▊    | 1465/2499 [44:22<31:14,  1.81s/it]"
     ]
    },
    {
     "name": "stdout",
     "output_type": "stream",
     "text": [
      "'validation loss is 0.9216370031237602 '\n",
      "'validation accuracy is 0.8197851562500003 '\n",
      "'Epoch: 1466'\n",
      "'training loss is 0.06262149255384099 '\n",
      "'training accuracy is 0.9846590909090908 '\n",
      "'Epoch: 1466'\n"
     ]
    },
    {
     "name": "stderr",
     "output_type": "stream",
     "text": [
      "\r",
      " 59%|█████▊    | 1466/2499 [44:24<31:53,  1.85s/it]"
     ]
    },
    {
     "name": "stdout",
     "output_type": "stream",
     "text": [
      "'validation loss is 0.9221595391631127 '\n",
      "'validation accuracy is 0.8194628906250001 '\n",
      "'Epoch: 1467'\n",
      "'training loss is 0.06258156082846901 '\n",
      "'training accuracy is 0.984659090909091 '\n",
      "'Epoch: 1467'\n"
     ]
    },
    {
     "name": "stderr",
     "output_type": "stream",
     "text": [
      "\r",
      " 59%|█████▊    | 1467/2499 [44:26<31:54,  1.86s/it]"
     ]
    },
    {
     "name": "stdout",
     "output_type": "stream",
     "text": [
      "'validation loss is 0.9188016831874848 '\n",
      "'validation accuracy is 0.8191699218750003 '\n",
      "'Epoch: 1468'\n",
      "'training loss is 0.0624828501181169 '\n",
      "'training accuracy is 0.984659090909091 '\n",
      "'Epoch: 1468'\n"
     ]
    },
    {
     "name": "stderr",
     "output_type": "stream",
     "text": [
      "\r",
      " 59%|█████▊    | 1468/2499 [44:28<31:26,  1.83s/it]"
     ]
    },
    {
     "name": "stdout",
     "output_type": "stream",
     "text": [
      "'validation loss is 0.9285511091351509 '\n",
      "'validation accuracy is 0.819482421875 '\n",
      "'Epoch: 1469'\n",
      "'training loss is 0.06255884163758972 '\n",
      "'training accuracy is 0.984659090909091 '\n",
      "'Epoch: 1469'\n"
     ]
    },
    {
     "name": "stderr",
     "output_type": "stream",
     "text": [
      "\r",
      " 59%|█████▉    | 1469/2499 [44:29<31:16,  1.82s/it]"
     ]
    },
    {
     "name": "stdout",
     "output_type": "stream",
     "text": [
      "'validation loss is 0.9302447125315666 '\n",
      "'validation accuracy is 0.8194628906250003 '\n",
      "'Epoch: 1470'\n",
      "'training loss is 0.062319271605123176 '\n",
      "'training accuracy is 0.9846590909090908 '\n",
      "'Epoch: 1470'\n"
     ]
    },
    {
     "name": "stderr",
     "output_type": "stream",
     "text": [
      "\r",
      " 59%|█████▉    | 1470/2499 [44:31<31:25,  1.83s/it]"
     ]
    },
    {
     "name": "stdout",
     "output_type": "stream",
     "text": [
      "'validation loss is 0.9295807957649231 '\n",
      "'validation accuracy is 0.8194433593750002 '\n",
      "'Epoch: 1471'\n",
      "'training loss is 0.06217106194658713 '\n",
      "'training accuracy is 0.9846590909090911 '\n",
      "'Epoch: 1471'\n"
     ]
    },
    {
     "name": "stderr",
     "output_type": "stream",
     "text": [
      "\r",
      " 59%|█████▉    | 1471/2499 [44:33<31:21,  1.83s/it]"
     ]
    },
    {
     "name": "stdout",
     "output_type": "stream",
     "text": [
      "'validation loss is 0.9257271185517311 '\n",
      "'validation accuracy is 0.8197265625000002 '\n",
      "'Epoch: 1472'\n",
      "'training loss is 0.06258166242729533 '\n",
      "'training accuracy is 0.9846590909090908 '\n",
      "'Epoch: 1472'\n"
     ]
    },
    {
     "name": "stderr",
     "output_type": "stream",
     "text": [
      "\r",
      " 59%|█████▉    | 1472/2499 [44:35<31:09,  1.82s/it]"
     ]
    },
    {
     "name": "stdout",
     "output_type": "stream",
     "text": [
      "'validation loss is 0.917512072622776 '\n",
      "'validation accuracy is 0.8203613281250002 '\n",
      "'Epoch: 1473'\n",
      "'training loss is 0.06226893954656341 '\n",
      "'training accuracy is 0.984659090909091 '\n",
      "'Epoch: 1473'\n"
     ]
    },
    {
     "name": "stderr",
     "output_type": "stream",
     "text": [
      "\r",
      " 59%|█████▉    | 1473/2499 [44:37<31:00,  1.81s/it]"
     ]
    },
    {
     "name": "stdout",
     "output_type": "stream",
     "text": [
      "'validation loss is 0.9115328580141068 '\n",
      "'validation accuracy is 0.819775390625 '\n",
      "'Epoch: 1474'\n",
      "'training loss is 0.06274966556917537 '\n",
      "'training accuracy is 0.9846590909090908 '\n",
      "'Epoch: 1474'\n"
     ]
    },
    {
     "name": "stderr",
     "output_type": "stream",
     "text": [
      "\r",
      " 59%|█████▉    | 1474/2499 [44:38<31:04,  1.82s/it]"
     ]
    },
    {
     "name": "stdout",
     "output_type": "stream",
     "text": [
      "'validation loss is 0.9199067175388336 '\n",
      "'validation accuracy is 0.8194433593750002 '\n",
      "'Epoch: 1475'\n",
      "'training loss is 0.06255851347338069 '\n",
      "'training accuracy is 0.9846590909090908 '\n",
      "'Epoch: 1475'\n"
     ]
    },
    {
     "name": "stderr",
     "output_type": "stream",
     "text": [
      "\r",
      " 59%|█████▉    | 1475/2499 [44:40<31:06,  1.82s/it]"
     ]
    },
    {
     "name": "stdout",
     "output_type": "stream",
     "text": [
      "'validation loss is 0.9224639117717743 '\n",
      "'validation accuracy is 0.8191796875000001 '\n",
      "'Epoch: 1476'\n",
      "'training loss is 0.06225457855246284 '\n",
      "'training accuracy is 0.9846590909090908 '\n",
      "'Epoch: 1476'\n"
     ]
    },
    {
     "name": "stderr",
     "output_type": "stream",
     "text": [
      "\r",
      " 59%|█████▉    | 1476/2499 [44:42<31:06,  1.82s/it]"
     ]
    },
    {
     "name": "stdout",
     "output_type": "stream",
     "text": [
      "'validation loss is 0.9160450309514999 '\n",
      "'validation accuracy is 0.8197656250000002 '\n",
      "'Epoch: 1477'\n",
      "'training loss is 0.06252701343460516 '\n",
      "'training accuracy is 0.984659090909091 '\n",
      "'Epoch: 1477'\n"
     ]
    },
    {
     "name": "stderr",
     "output_type": "stream",
     "text": [
      "\r",
      " 59%|█████▉    | 1477/2499 [44:44<31:09,  1.83s/it]"
     ]
    },
    {
     "name": "stdout",
     "output_type": "stream",
     "text": [
      "'validation loss is 0.9247924476861954 '\n",
      "'validation accuracy is 0.8194921875000002 '\n",
      "'Epoch: 1478'\n",
      "'training loss is 0.06268752840432254 '\n",
      "'training accuracy is 0.984659090909091 '\n",
      "'Epoch: 1478'\n"
     ]
    },
    {
     "name": "stderr",
     "output_type": "stream",
     "text": [
      "\r",
      " 59%|█████▉    | 1478/2499 [44:46<31:20,  1.84s/it]"
     ]
    },
    {
     "name": "stdout",
     "output_type": "stream",
     "text": [
      "'validation loss is 0.9186105161905289 '\n",
      "'validation accuracy is 0.8194628906250001 '\n",
      "'Epoch: 1479'\n",
      "'training loss is 0.062405498190359635 '\n",
      "'training accuracy is 0.984659090909091 '\n",
      "'Epoch: 1479'\n"
     ]
    },
    {
     "name": "stderr",
     "output_type": "stream",
     "text": [
      "\r",
      " 59%|█████▉    | 1479/2499 [44:48<31:06,  1.83s/it]"
     ]
    },
    {
     "name": "stdout",
     "output_type": "stream",
     "text": [
      "'validation loss is 0.9229476764798165 '\n",
      "'validation accuracy is 0.81916015625 '\n",
      "'Epoch: 1480'\n",
      "'training loss is 0.06251870095729828 '\n",
      "'training accuracy is 0.984659090909091 '\n",
      "'Epoch: 1480'\n"
     ]
    },
    {
     "name": "stderr",
     "output_type": "stream",
     "text": [
      "\r",
      " 59%|█████▉    | 1480/2499 [44:49<30:25,  1.79s/it]"
     ]
    },
    {
     "name": "stdout",
     "output_type": "stream",
     "text": [
      "'validation loss is 0.9212423682212829 '\n",
      "'validation accuracy is 0.8194921875000001 '\n",
      "'Epoch: 1481'\n",
      "'training loss is 0.062448894774371926 '\n",
      "'training accuracy is 0.984659090909091 '\n",
      "'Epoch: 1481'\n"
     ]
    },
    {
     "name": "stderr",
     "output_type": "stream",
     "text": [
      "\r",
      " 59%|█████▉    | 1481/2499 [44:51<30:29,  1.80s/it]"
     ]
    },
    {
     "name": "stdout",
     "output_type": "stream",
     "text": [
      "'validation loss is 0.9198868945240974 '\n",
      "'validation accuracy is 0.820068359375 '\n",
      "'Epoch: 1482'\n",
      "'training loss is 0.06235977465456182 '\n",
      "'training accuracy is 0.984659090909091 '\n",
      "'Epoch: 1482'\n"
     ]
    },
    {
     "name": "stderr",
     "output_type": "stream",
     "text": [
      "\r",
      " 59%|█████▉    | 1482/2499 [44:53<30:44,  1.81s/it]"
     ]
    },
    {
     "name": "stdout",
     "output_type": "stream",
     "text": [
      "'validation loss is 0.9143159046769143 '\n",
      "'validation accuracy is 0.8197558593750001 '\n",
      "'Epoch: 1483'\n",
      "'training loss is 0.06265918639573184 '\n",
      "'training accuracy is 0.9846590909090908 '\n",
      "'Epoch: 1483'\n"
     ]
    },
    {
     "name": "stderr",
     "output_type": "stream",
     "text": [
      "\r",
      " 59%|█████▉    | 1483/2499 [44:55<30:55,  1.83s/it]"
     ]
    },
    {
     "name": "stdout",
     "output_type": "stream",
     "text": [
      "'validation loss is 0.9200590342283249 '\n",
      "'validation accuracy is 0.8197460937500001 '\n",
      "'Epoch: 1484'\n",
      "'training loss is 0.062300271608612755 '\n",
      "'training accuracy is 0.984659090909091 '\n",
      "'Epoch: 1484'\n"
     ]
    },
    {
     "name": "stderr",
     "output_type": "stream",
     "text": [
      "\r",
      " 59%|█████▉    | 1484/2499 [44:57<31:17,  1.85s/it]"
     ]
    },
    {
     "name": "stdout",
     "output_type": "stream",
     "text": [
      "'validation loss is 0.9182649478316307 '\n",
      "'validation accuracy is 0.819775390625 '\n",
      "'Epoch: 1485'\n",
      "'training loss is 0.06239471753889864 '\n",
      "'training accuracy is 0.9846590909090908 '\n",
      "'Epoch: 1485'\n"
     ]
    },
    {
     "name": "stderr",
     "output_type": "stream",
     "text": [
      "\r",
      " 59%|█████▉    | 1485/2499 [44:59<31:15,  1.85s/it]"
     ]
    },
    {
     "name": "stdout",
     "output_type": "stream",
     "text": [
      "'validation loss is 0.9185228168964386 '\n",
      "'validation accuracy is 0.8191992187500002 '\n",
      "'Epoch: 1486'\n",
      "'training loss is 0.06261568042364987 '\n",
      "'training accuracy is 0.9846590909090911 '\n",
      "'Epoch: 1486'\n"
     ]
    },
    {
     "name": "stderr",
     "output_type": "stream",
     "text": [
      "\r",
      " 59%|█████▉    | 1486/2499 [45:00<30:54,  1.83s/it]"
     ]
    },
    {
     "name": "stdout",
     "output_type": "stream",
     "text": [
      "'validation loss is 0.9119275957345963 '\n",
      "'validation accuracy is 0.8195507812500002 '\n",
      "'Epoch: 1487'\n",
      "'training loss is 0.0626021024178375 '\n",
      "'training accuracy is 0.984659090909091 '\n",
      "'Epoch: 1487'\n"
     ]
    },
    {
     "name": "stderr",
     "output_type": "stream",
     "text": [
      "\r",
      " 60%|█████▉    | 1487/2499 [45:02<31:11,  1.85s/it]"
     ]
    },
    {
     "name": "stdout",
     "output_type": "stream",
     "text": [
      "'validation loss is 0.9151685148477554 '\n",
      "'validation accuracy is 0.8195117187500001 '\n",
      "'Epoch: 1488'\n",
      "'training loss is 0.0626558316024867 '\n",
      "'training accuracy is 0.984659090909091 '\n",
      "'Epoch: 1488'\n"
     ]
    },
    {
     "name": "stderr",
     "output_type": "stream",
     "text": [
      "\r",
      " 60%|█████▉    | 1488/2499 [45:04<30:54,  1.83s/it]"
     ]
    },
    {
     "name": "stdout",
     "output_type": "stream",
     "text": [
      "'validation loss is 0.9224669247865677 '\n",
      "'validation accuracy is 0.8192187500000003 '\n",
      "'Epoch: 1489'\n",
      "'training loss is 0.06282707337628711 '\n",
      "'training accuracy is 0.9846590909090908 '\n",
      "'Epoch: 1489'\n"
     ]
    },
    {
     "name": "stderr",
     "output_type": "stream",
     "text": [
      "\r",
      " 60%|█████▉    | 1489/2499 [45:06<30:34,  1.82s/it]"
     ]
    },
    {
     "name": "stdout",
     "output_type": "stream",
     "text": [
      "'validation loss is 0.9214142471551895 '\n",
      "'validation accuracy is 0.8198242187500003 '\n",
      "'Epoch: 1490'\n",
      "'training loss is 0.06249862198125233 '\n",
      "'training accuracy is 0.9846590909090908 '\n",
      "'Epoch: 1490'\n"
     ]
    },
    {
     "name": "stderr",
     "output_type": "stream",
     "text": [
      "\r",
      " 60%|█████▉    | 1490/2499 [45:08<30:22,  1.81s/it]"
     ]
    },
    {
     "name": "stdout",
     "output_type": "stream",
     "text": [
      "'validation loss is 0.9180926218628883 '\n",
      "'validation accuracy is 0.8206542968750004 '\n",
      "'Epoch: 1491'\n",
      "'training loss is 0.0624200738966465 '\n",
      "'training accuracy is 0.984659090909091 '\n",
      "'Epoch: 1491'\n"
     ]
    },
    {
     "name": "stderr",
     "output_type": "stream",
     "text": [
      "\r",
      " 60%|█████▉    | 1491/2499 [45:10<30:59,  1.84s/it]"
     ]
    },
    {
     "name": "stdout",
     "output_type": "stream",
     "text": [
      "'validation loss is 0.9252603814005852 '\n",
      "'validation accuracy is 0.819482421875 '\n",
      "'Epoch: 1492'\n",
      "'training loss is 0.06269266320900484 '\n",
      "'training accuracy is 0.984659090909091 '\n",
      "'Epoch: 1492'\n"
     ]
    },
    {
     "name": "stderr",
     "output_type": "stream",
     "text": [
      "\r",
      " 60%|█████▉    | 1492/2499 [45:11<30:47,  1.84s/it]"
     ]
    },
    {
     "name": "stdout",
     "output_type": "stream",
     "text": [
      "'validation loss is 0.9138288229703904 '\n",
      "'validation accuracy is 0.8197753906250002 '\n",
      "'Epoch: 1493'\n",
      "'training loss is 0.06265879761088979 '\n",
      "'training accuracy is 0.984659090909091 '\n",
      "'Epoch: 1493'\n"
     ]
    },
    {
     "name": "stderr",
     "output_type": "stream",
     "text": [
      "\r",
      " 60%|█████▉    | 1493/2499 [45:13<30:14,  1.80s/it]"
     ]
    },
    {
     "name": "stdout",
     "output_type": "stream",
     "text": [
      "'validation loss is 0.917701406776905 '\n",
      "'validation accuracy is 0.8194921875000002 '\n",
      "'Epoch: 1494'\n",
      "'training loss is 0.06259309466589581 '\n",
      "'training accuracy is 0.9846590909090908 '\n",
      "'Epoch: 1494'\n"
     ]
    },
    {
     "name": "stderr",
     "output_type": "stream",
     "text": [
      "\r",
      " 60%|█████▉    | 1494/2499 [45:15<30:26,  1.82s/it]"
     ]
    },
    {
     "name": "stdout",
     "output_type": "stream",
     "text": [
      "'validation loss is 0.92599086612463 '\n",
      "'validation accuracy is 0.8192285156250001 '\n",
      "'Epoch: 1495'\n",
      "'training loss is 0.06256064433943141 '\n",
      "'training accuracy is 0.984659090909091 '\n",
      "'Epoch: 1495'\n"
     ]
    },
    {
     "name": "stderr",
     "output_type": "stream",
     "text": [
      "\r",
      " 60%|█████▉    | 1495/2499 [45:17<31:07,  1.86s/it]"
     ]
    },
    {
     "name": "stdout",
     "output_type": "stream",
     "text": [
      "'validation loss is 0.9184238165616989 '\n",
      "'validation accuracy is 0.8195214843750002 '\n",
      "'Epoch: 1496'\n",
      "'training loss is 0.06279408423738046 '\n",
      "'training accuracy is 0.984659090909091 '\n",
      "'Epoch: 1496'\n"
     ]
    },
    {
     "name": "stderr",
     "output_type": "stream",
     "text": [
      "\r",
      " 60%|█████▉    | 1496/2499 [45:19<30:38,  1.83s/it]"
     ]
    },
    {
     "name": "stdout",
     "output_type": "stream",
     "text": [
      "'validation loss is 0.9257125064730645 '\n",
      "'validation accuracy is 0.8195214843750002 '\n",
      "'Epoch: 1497'\n",
      "'training loss is 0.062337501482530075 '\n",
      "'training accuracy is 0.984659090909091 '\n",
      "'Epoch: 1497'\n"
     ]
    },
    {
     "name": "stderr",
     "output_type": "stream",
     "text": [
      "\r",
      " 60%|█████▉    | 1497/2499 [45:20<30:24,  1.82s/it]"
     ]
    },
    {
     "name": "stdout",
     "output_type": "stream",
     "text": [
      "'validation loss is 0.9229511767625809 '\n",
      "'validation accuracy is 0.8192285156250001 '\n",
      "'Epoch: 1498'\n",
      "'training loss is 0.06281825933944095 '\n",
      "'training accuracy is 0.9846590909090908 '\n",
      "'Epoch: 1498'\n"
     ]
    },
    {
     "name": "stderr",
     "output_type": "stream",
     "text": [
      "\r",
      " 60%|█████▉    | 1498/2499 [45:22<30:02,  1.80s/it]"
     ]
    },
    {
     "name": "stdout",
     "output_type": "stream",
     "text": [
      "'validation loss is 0.9185708314180374 '\n",
      "'validation accuracy is 0.8195117187500003 '\n",
      "'Epoch: 1499'\n",
      "'training loss is 0.06257653642784465 '\n",
      "'training accuracy is 0.9846590909090908 '\n",
      "'Epoch: 1499'\n"
     ]
    },
    {
     "name": "stderr",
     "output_type": "stream",
     "text": [
      "\r",
      " 60%|█████▉    | 1499/2499 [45:24<29:59,  1.80s/it]"
     ]
    },
    {
     "name": "stdout",
     "output_type": "stream",
     "text": [
      "'validation loss is 0.9124583348631858 '\n",
      "'validation accuracy is 0.8197949218750002 '\n",
      "'Epoch: 1500'\n",
      "'training loss is 0.06282286379824985 '\n",
      "'training accuracy is 0.9846590909090911 '\n",
      "'Epoch: 1500'\n"
     ]
    },
    {
     "name": "stderr",
     "output_type": "stream",
     "text": [
      "\r",
      " 60%|██████    | 1500/2499 [45:26<30:13,  1.82s/it]"
     ]
    },
    {
     "name": "stdout",
     "output_type": "stream",
     "text": [
      "'validation loss is 0.9167573317885399 '\n",
      "'validation accuracy is 0.8197753906250002 '\n",
      "'Epoch: 1501'\n",
      "'training loss is 0.06272268972613594 '\n",
      "'training accuracy is 0.984659090909091 '\n",
      "'Epoch: 1501'\n"
     ]
    },
    {
     "name": "stderr",
     "output_type": "stream",
     "text": [
      "\r",
      " 60%|██████    | 1501/2499 [45:28<30:44,  1.85s/it]"
     ]
    },
    {
     "name": "stdout",
     "output_type": "stream",
     "text": [
      "'validation loss is 0.9252122133970261 '\n",
      "'validation accuracy is 0.8194726562500001 '\n",
      "'Epoch: 1502'\n",
      "'training loss is 0.06205260381102562 '\n",
      "'training accuracy is 0.984659090909091 '\n",
      "'Epoch: 1502'\n"
     ]
    },
    {
     "name": "stderr",
     "output_type": "stream",
     "text": [
      "\r",
      " 60%|██████    | 1502/2499 [45:30<30:24,  1.83s/it]"
     ]
    },
    {
     "name": "stdout",
     "output_type": "stream",
     "text": [
      "'validation loss is 0.9211734667420387 '\n",
      "'validation accuracy is 0.8194824218750002 '\n",
      "'Epoch: 1503'\n",
      "'training loss is 0.0631405111740936 '\n",
      "'training accuracy is 0.984659090909091 '\n",
      "'Epoch: 1503'\n"
     ]
    },
    {
     "name": "stderr",
     "output_type": "stream",
     "text": [
      "\r",
      " 60%|██████    | 1503/2499 [45:31<30:29,  1.84s/it]"
     ]
    },
    {
     "name": "stdout",
     "output_type": "stream",
     "text": [
      "'validation loss is 0.9135869488120079 '\n",
      "'validation accuracy is 0.8192480468750002 '\n",
      "'Epoch: 1504'\n",
      "'training loss is 0.06267614086920564 '\n",
      "'training accuracy is 0.9846590909090908 '\n",
      "'Epoch: 1504'\n"
     ]
    },
    {
     "name": "stderr",
     "output_type": "stream",
     "text": [
      "\r",
      " 60%|██████    | 1504/2499 [45:33<30:27,  1.84s/it]"
     ]
    },
    {
     "name": "stdout",
     "output_type": "stream",
     "text": [
      "'validation loss is 0.9107905179262161 '\n",
      "'validation accuracy is 0.8197851562500003 '\n",
      "'Epoch: 1505'\n",
      "'training loss is 0.06240953030911359 '\n",
      "'training accuracy is 0.9846590909090908 '\n",
      "'Epoch: 1505'\n"
     ]
    },
    {
     "name": "stderr",
     "output_type": "stream",
     "text": [
      "\r",
      " 60%|██████    | 1505/2499 [45:35<30:49,  1.86s/it]"
     ]
    },
    {
     "name": "stdout",
     "output_type": "stream",
     "text": [
      "'validation loss is 0.9240553572773933 '\n",
      "'validation accuracy is 0.8192089843750002 '\n",
      "'Epoch: 1506'\n",
      "'training loss is 0.06275636770508507 '\n",
      "'training accuracy is 0.9846590909090908 '\n",
      "'Epoch: 1506'\n"
     ]
    },
    {
     "name": "stderr",
     "output_type": "stream",
     "text": [
      "\r",
      " 60%|██████    | 1506/2499 [45:37<30:35,  1.85s/it]"
     ]
    },
    {
     "name": "stdout",
     "output_type": "stream",
     "text": [
      "'validation loss is 0.9181643426418304 '\n",
      "'validation accuracy is 0.8195312500000002 '\n",
      "'Epoch: 1507'\n",
      "'training loss is 0.06247402321208607 '\n",
      "'training accuracy is 0.984659090909091 '\n",
      "'Epoch: 1507'\n"
     ]
    },
    {
     "name": "stderr",
     "output_type": "stream",
     "text": [
      "\r",
      " 60%|██████    | 1507/2499 [45:39<30:41,  1.86s/it]"
     ]
    },
    {
     "name": "stdout",
     "output_type": "stream",
     "text": [
      "'validation loss is 0.9129672333598137 '\n",
      "'validation accuracy is 0.8198339843750002 '\n",
      "'Epoch: 1508'\n",
      "'training loss is 0.06257319755174896 '\n",
      "'training accuracy is 0.984659090909091 '\n",
      "'Epoch: 1508'\n"
     ]
    },
    {
     "name": "stderr",
     "output_type": "stream",
     "text": [
      "\r",
      " 60%|██████    | 1508/2499 [45:41<30:19,  1.84s/it]"
     ]
    },
    {
     "name": "stdout",
     "output_type": "stream",
     "text": [
      "'validation loss is 0.912252952158451 '\n",
      "'validation accuracy is 0.8201464843750003 '\n",
      "'Epoch: 1509'\n",
      "'training loss is 0.06271163137121634 '\n",
      "'training accuracy is 0.9846590909090911 '\n",
      "'Epoch: 1509'\n"
     ]
    },
    {
     "name": "stderr",
     "output_type": "stream",
     "text": [
      "\r",
      " 60%|██████    | 1509/2499 [45:42<29:59,  1.82s/it]"
     ]
    },
    {
     "name": "stdout",
     "output_type": "stream",
     "text": [
      "'validation loss is 0.9130306810140609 '\n",
      "'validation accuracy is 0.8197851562500003 '\n",
      "'Epoch: 1510'\n",
      "'training loss is 0.0625200325792486 '\n",
      "'training accuracy is 0.984659090909091 '\n",
      "'Epoch: 1510'\n"
     ]
    },
    {
     "name": "stderr",
     "output_type": "stream",
     "text": [
      "\r",
      " 60%|██████    | 1510/2499 [45:44<30:22,  1.84s/it]"
     ]
    },
    {
     "name": "stdout",
     "output_type": "stream",
     "text": [
      "'validation loss is 0.9112935721874237 '\n",
      "'validation accuracy is 0.8204394531250003 '\n",
      "'Epoch: 1511'\n",
      "'training loss is 0.06250429085709831 '\n",
      "'training accuracy is 0.9846590909090908 '\n",
      "'Epoch: 1511'\n"
     ]
    },
    {
     "name": "stderr",
     "output_type": "stream",
     "text": [
      "\r",
      " 60%|██████    | 1511/2499 [45:46<30:36,  1.86s/it]"
     ]
    },
    {
     "name": "stdout",
     "output_type": "stream",
     "text": [
      "'validation loss is 0.9235056340694427 '\n",
      "'validation accuracy is 0.8197851562500003 '\n",
      "'Epoch: 1512'\n",
      "'training loss is 0.062470262362198395 '\n",
      "'training accuracy is 0.984659090909091 '\n",
      "'Epoch: 1512'\n"
     ]
    },
    {
     "name": "stderr",
     "output_type": "stream",
     "text": [
      "\r",
      " 61%|██████    | 1512/2499 [45:48<30:11,  1.84s/it]"
     ]
    },
    {
     "name": "stdout",
     "output_type": "stream",
     "text": [
      "'validation loss is 0.9145910531282425 '\n",
      "'validation accuracy is 0.8197851562500003 '\n",
      "'Epoch: 1513'\n",
      "'training loss is 0.06273885613138025 '\n",
      "'training accuracy is 0.984659090909091 '\n",
      "'Epoch: 1513'\n"
     ]
    },
    {
     "name": "stderr",
     "output_type": "stream",
     "text": [
      "\r",
      " 61%|██████    | 1513/2499 [45:50<30:00,  1.83s/it]"
     ]
    },
    {
     "name": "stdout",
     "output_type": "stream",
     "text": [
      "'validation loss is 0.9244085073471069 '\n",
      "'validation accuracy is 0.8192089843750001 '\n",
      "'Epoch: 1514'\n",
      "'training loss is 0.06250739470124245 '\n",
      "'training accuracy is 0.984659090909091 '\n",
      "'Epoch: 1514'\n"
     ]
    },
    {
     "name": "stderr",
     "output_type": "stream",
     "text": [
      "\r",
      " 61%|██████    | 1514/2499 [45:52<29:42,  1.81s/it]"
     ]
    },
    {
     "name": "stdout",
     "output_type": "stream",
     "text": [
      "'validation loss is 0.919026504456997 '\n",
      "'validation accuracy is 0.8198046875000002 '\n",
      "'Epoch: 1515'\n",
      "'training loss is 0.06262080202048476 '\n",
      "'training accuracy is 0.9846590909090908 '\n",
      "'Epoch: 1515'\n"
     ]
    },
    {
     "name": "stderr",
     "output_type": "stream",
     "text": [
      "\r",
      " 61%|██████    | 1515/2499 [45:54<30:28,  1.86s/it]"
     ]
    },
    {
     "name": "stdout",
     "output_type": "stream",
     "text": [
      "'validation loss is 0.922819484770298 '\n",
      "'validation accuracy is 0.8192187500000001 '\n",
      "'Epoch: 1516'\n",
      "'training loss is 0.062276011502200905 '\n",
      "'training accuracy is 0.984659090909091 '\n",
      "'Epoch: 1516'\n"
     ]
    },
    {
     "name": "stderr",
     "output_type": "stream",
     "text": [
      "\r",
      " 61%|██████    | 1516/2499 [45:55<30:10,  1.84s/it]"
     ]
    },
    {
     "name": "stdout",
     "output_type": "stream",
     "text": [
      "'validation loss is 0.9151184931397438 '\n",
      "'validation accuracy is 0.8200976562500003 '\n",
      "'Epoch: 1517'\n",
      "'training loss is 0.0625649094581604 '\n",
      "'training accuracy is 0.984659090909091 '\n",
      "'Epoch: 1517'\n"
     ]
    },
    {
     "name": "stderr",
     "output_type": "stream",
     "text": [
      "\r",
      " 61%|██████    | 1517/2499 [45:57<29:54,  1.83s/it]"
     ]
    },
    {
     "name": "stdout",
     "output_type": "stream",
     "text": [
      "'validation loss is 0.9158875286579132 '\n",
      "'validation accuracy is 0.8195703125000001 '\n",
      "'Epoch: 1518'\n",
      "'training loss is 0.062328063967553055 '\n",
      "'training accuracy is 0.984659090909091 '\n",
      "'Epoch: 1518'\n"
     ]
    },
    {
     "name": "stderr",
     "output_type": "stream",
     "text": [
      "\r",
      " 61%|██████    | 1518/2499 [45:59<30:37,  1.87s/it]"
     ]
    },
    {
     "name": "stdout",
     "output_type": "stream",
     "text": [
      "'validation loss is 0.9124252274632454 '\n",
      "'validation accuracy is 0.8204003906250001 '\n",
      "'Epoch: 1519'\n",
      "'training loss is 0.06215118413621729 '\n",
      "'training accuracy is 0.9846590909090908 '\n",
      "'Epoch: 1519'\n"
     ]
    },
    {
     "name": "stderr",
     "output_type": "stream",
     "text": [
      "\r",
      " 61%|██████    | 1519/2499 [46:01<31:19,  1.92s/it]"
     ]
    },
    {
     "name": "stdout",
     "output_type": "stream",
     "text": [
      "'validation loss is 0.9110612273216248 '\n",
      "'validation accuracy is 0.8195605468750001 '\n",
      "'Epoch: 1520'\n",
      "'training loss is 0.06236346133730628 '\n",
      "'training accuracy is 0.984659090909091 '\n",
      "'Epoch: 1520'\n"
     ]
    },
    {
     "name": "stderr",
     "output_type": "stream",
     "text": [
      "\r",
      " 61%|██████    | 1520/2499 [46:03<31:36,  1.94s/it]"
     ]
    },
    {
     "name": "stdout",
     "output_type": "stream",
     "text": [
      "'validation loss is 0.912951473891735 '\n",
      "'validation accuracy is 0.8201269531250002 '\n",
      "'Epoch: 1521'\n",
      "'training loss is 0.06200777332891117 '\n",
      "'training accuracy is 0.9846590909090911 '\n",
      "'Epoch: 1521'\n"
     ]
    },
    {
     "name": "stderr",
     "output_type": "stream",
     "text": [
      "\r",
      " 61%|██████    | 1521/2499 [46:05<31:05,  1.91s/it]"
     ]
    },
    {
     "name": "stdout",
     "output_type": "stream",
     "text": [
      "'validation loss is 0.9204905599355697 '\n",
      "'validation accuracy is 0.8195703125000003 '\n",
      "'Epoch: 1522'\n",
      "'training loss is 0.0628050450574268 '\n",
      "'training accuracy is 0.984659090909091 '\n",
      "'Epoch: 1522'\n"
     ]
    },
    {
     "name": "stderr",
     "output_type": "stream",
     "text": [
      "\r",
      " 61%|██████    | 1522/2499 [46:07<31:01,  1.91s/it]"
     ]
    },
    {
     "name": "stdout",
     "output_type": "stream",
     "text": [
      "'validation loss is 0.9170747891068458 '\n",
      "'validation accuracy is 0.8198144531250001 '\n",
      "'Epoch: 1523'\n",
      "'training loss is 0.06251943043687126 '\n",
      "'training accuracy is 0.984659090909091 '\n",
      "'Epoch: 1523'\n"
     ]
    },
    {
     "name": "stderr",
     "output_type": "stream",
     "text": [
      "\r",
      " 61%|██████    | 1523/2499 [46:09<30:46,  1.89s/it]"
     ]
    },
    {
     "name": "stdout",
     "output_type": "stream",
     "text": [
      "'validation loss is 0.9189120143651962 '\n",
      "'validation accuracy is 0.8195703125000001 '\n",
      "'Epoch: 1524'\n",
      "'training loss is 0.062379303642294624 '\n",
      "'training accuracy is 0.984659090909091 '\n",
      "'Epoch: 1524'\n"
     ]
    },
    {
     "name": "stderr",
     "output_type": "stream",
     "text": [
      "\r",
      " 61%|██████    | 1524/2499 [46:11<31:40,  1.95s/it]"
     ]
    },
    {
     "name": "stdout",
     "output_type": "stream",
     "text": [
      "'validation loss is 0.9177569553256035 '\n",
      "'validation accuracy is 0.8197851562500003 '\n",
      "'Epoch: 1525'\n",
      "'training loss is 0.0625145049257712 '\n",
      "'training accuracy is 0.984659090909091 '\n",
      "'Epoch: 1525'\n"
     ]
    },
    {
     "name": "stderr",
     "output_type": "stream",
     "text": [
      "\r",
      " 61%|██████    | 1525/2499 [46:13<31:55,  1.97s/it]"
     ]
    },
    {
     "name": "stdout",
     "output_type": "stream",
     "text": [
      "'validation loss is 0.9218598172068596 '\n",
      "'validation accuracy is 0.8192578125000003 '\n",
      "'Epoch: 1526'\n",
      "'training loss is 0.0629176910627972 '\n",
      "'training accuracy is 0.984659090909091 '\n",
      "'Epoch: 1526'\n"
     ]
    },
    {
     "name": "stderr",
     "output_type": "stream",
     "text": [
      "\r",
      " 61%|██████    | 1526/2499 [46:15<31:13,  1.93s/it]"
     ]
    },
    {
     "name": "stdout",
     "output_type": "stream",
     "text": [
      "'validation loss is 0.921898926794529 '\n",
      "'validation accuracy is 0.8193359375000002 '\n",
      "'Epoch: 1527'\n",
      "'training loss is 0.0622375529598106 '\n",
      "'training accuracy is 0.9846590909090908 '\n",
      "'Epoch: 1527'\n"
     ]
    },
    {
     "name": "stderr",
     "output_type": "stream",
     "text": [
      "\r",
      " 61%|██████    | 1527/2499 [46:17<31:25,  1.94s/it]"
     ]
    },
    {
     "name": "stdout",
     "output_type": "stream",
     "text": [
      "'validation loss is 0.9099153965711594 '\n",
      "'validation accuracy is 0.8195898437500002 '\n",
      "'Epoch: 1528'\n",
      "'training loss is 0.06222932447086681 '\n",
      "'training accuracy is 0.9846590909090908 '\n",
      "'Epoch: 1528'\n"
     ]
    },
    {
     "name": "stderr",
     "output_type": "stream",
     "text": [
      "\r",
      " 61%|██████    | 1528/2499 [46:19<31:41,  1.96s/it]"
     ]
    },
    {
     "name": "stdout",
     "output_type": "stream",
     "text": [
      "'validation loss is 0.9168410271406173 '\n",
      "'validation accuracy is 0.8192773437500002 '\n",
      "'Epoch: 1529'\n",
      "'training loss is 0.06226703863252293 '\n",
      "'training accuracy is 0.984659090909091 '\n",
      "'Epoch: 1529'\n"
     ]
    },
    {
     "name": "stderr",
     "output_type": "stream",
     "text": [
      "\r",
      " 61%|██████    | 1529/2499 [46:21<32:21,  2.00s/it]"
     ]
    },
    {
     "name": "stdout",
     "output_type": "stream",
     "text": [
      "'validation loss is 0.9168729573488236 '\n",
      "'validation accuracy is 0.8192773437500002 '\n",
      "'Epoch: 1530'\n",
      "'training loss is 0.062483018094843086 '\n",
      "'training accuracy is 0.9846590909090908 '\n",
      "'Epoch: 1530'\n"
     ]
    },
    {
     "name": "stderr",
     "output_type": "stream",
     "text": [
      "\r",
      " 61%|██████    | 1530/2499 [46:23<33:27,  2.07s/it]"
     ]
    },
    {
     "name": "stdout",
     "output_type": "stream",
     "text": [
      "'validation loss is 0.9165147006511688 '\n",
      "'validation accuracy is 0.8195019531250003 '\n",
      "'Epoch: 1531'\n",
      "'training loss is 0.0625797374681993 '\n",
      "'training accuracy is 0.984659090909091 '\n",
      "'Epoch: 1531'\n"
     ]
    },
    {
     "name": "stderr",
     "output_type": "stream",
     "text": [
      "\r",
      " 61%|██████▏   | 1531/2499 [46:25<33:14,  2.06s/it]"
     ]
    },
    {
     "name": "stdout",
     "output_type": "stream",
     "text": [
      "'validation loss is 0.9135823413729668 '\n",
      "'validation accuracy is 0.8192578125000001 '\n",
      "'Epoch: 1532'\n",
      "'training loss is 0.06228948723186146 '\n",
      "'training accuracy is 0.9846590909090908 '\n",
      "'Epoch: 1532'\n"
     ]
    },
    {
     "name": "stderr",
     "output_type": "stream",
     "text": [
      "\r",
      " 61%|██████▏   | 1532/2499 [46:27<33:08,  2.06s/it]"
     ]
    },
    {
     "name": "stdout",
     "output_type": "stream",
     "text": [
      "'validation loss is 0.9140953734517098 '\n",
      "'validation accuracy is 0.8201074218750002 '\n",
      "'Epoch: 1533'\n",
      "'training loss is 0.06238095394589684 '\n",
      "'training accuracy is 0.984659090909091 '\n",
      "'Epoch: 1533'\n"
     ]
    },
    {
     "name": "stderr",
     "output_type": "stream",
     "text": [
      "\r",
      " 61%|██████▏   | 1533/2499 [46:29<33:37,  2.09s/it]"
     ]
    },
    {
     "name": "stdout",
     "output_type": "stream",
     "text": [
      "'validation loss is 0.9162804335355759 '\n",
      "'validation accuracy is 0.8198339843750002 '\n",
      "'Epoch: 1534'\n",
      "'training loss is 0.062221760099584404 '\n",
      "'training accuracy is 0.9846590909090908 '\n",
      "'Epoch: 1534'\n"
     ]
    },
    {
     "name": "stderr",
     "output_type": "stream",
     "text": [
      "\r",
      " 61%|██████▏   | 1534/2499 [46:31<33:39,  2.09s/it]"
     ]
    },
    {
     "name": "stdout",
     "output_type": "stream",
     "text": [
      "'validation loss is 0.9127672597765922 '\n",
      "'validation accuracy is 0.8201660156250004 '\n",
      "'Epoch: 1535'\n",
      "'training loss is 0.062282217158512634 '\n",
      "'training accuracy is 0.984659090909091 '\n",
      "'Epoch: 1535'\n"
     ]
    },
    {
     "name": "stderr",
     "output_type": "stream",
     "text": [
      "\r",
      " 61%|██████▏   | 1535/2499 [46:33<32:38,  2.03s/it]"
     ]
    },
    {
     "name": "stdout",
     "output_type": "stream",
     "text": [
      "'validation loss is 0.9081062853336335 '\n",
      "'validation accuracy is 0.8202343750000001 '\n",
      "'Epoch: 1536'\n",
      "'training loss is 0.06265426731922409 '\n",
      "'training accuracy is 0.984659090909091 '\n",
      "'Epoch: 1536'\n"
     ]
    },
    {
     "name": "stderr",
     "output_type": "stream",
     "text": [
      "\r",
      " 61%|██████▏   | 1536/2499 [46:35<33:09,  2.07s/it]"
     ]
    },
    {
     "name": "stdout",
     "output_type": "stream",
     "text": [
      "'validation loss is 0.909069998562336 '\n",
      "'validation accuracy is 0.8198535156250003 '\n",
      "'Epoch: 1537'\n",
      "'training loss is 0.0628005178137259 '\n",
      "'training accuracy is 0.984659090909091 '\n",
      "'Epoch: 1537'\n"
     ]
    },
    {
     "name": "stderr",
     "output_type": "stream",
     "text": [
      "\r",
      " 62%|██████▏   | 1537/2499 [46:38<33:50,  2.11s/it]"
     ]
    },
    {
     "name": "stdout",
     "output_type": "stream",
     "text": [
      "'validation loss is 0.906804333627224 '\n",
      "'validation accuracy is 0.8204492187500001 '\n",
      "'Epoch: 1538'\n",
      "'training loss is 0.06255883215503259 '\n",
      "'training accuracy is 0.9846590909090908 '\n",
      "'Epoch: 1538'\n"
     ]
    },
    {
     "name": "stderr",
     "output_type": "stream",
     "text": [
      "\r",
      " 62%|██████▏   | 1538/2499 [46:40<34:02,  2.13s/it]"
     ]
    },
    {
     "name": "stdout",
     "output_type": "stream",
     "text": [
      "'validation loss is 0.90500328540802 '\n",
      "'validation accuracy is 0.8199023437500003 '\n",
      "'Epoch: 1539'\n",
      "'training loss is 0.0625172731551257 '\n",
      "'training accuracy is 0.984659090909091 '\n",
      "'Epoch: 1539'\n"
     ]
    },
    {
     "name": "stderr",
     "output_type": "stream",
     "text": [
      "\r",
      " 62%|██████▏   | 1539/2499 [46:42<33:27,  2.09s/it]"
     ]
    },
    {
     "name": "stdout",
     "output_type": "stream",
     "text": [
      "'validation loss is 0.9070217400789261 '\n",
      "'validation accuracy is 0.8202734375000003 '\n",
      "'Epoch: 1540'\n",
      "'training loss is 0.06259831074963916 '\n",
      "'training accuracy is 0.9846590909090908 '\n",
      "'Epoch: 1540'\n"
     ]
    },
    {
     "name": "stderr",
     "output_type": "stream",
     "text": [
      "\r",
      " 62%|██████▏   | 1540/2499 [46:44<35:22,  2.21s/it]"
     ]
    },
    {
     "name": "stdout",
     "output_type": "stream",
     "text": [
      "'validation loss is 0.9086458325386048 '\n",
      "'validation accuracy is 0.8199609375000001 '\n",
      "'Epoch: 1541'\n",
      "'training loss is 0.06285826658660715 '\n",
      "'training accuracy is 0.9846590909090908 '\n",
      "'Epoch: 1541'\n"
     ]
    },
    {
     "name": "stderr",
     "output_type": "stream",
     "text": [
      "\r",
      " 62%|██████▏   | 1541/2499 [46:46<34:45,  2.18s/it]"
     ]
    },
    {
     "name": "stdout",
     "output_type": "stream",
     "text": [
      "'validation loss is 0.9112647980451584 '\n",
      "'validation accuracy is 0.8196191406250002 '\n",
      "'Epoch: 1542'\n",
      "'training loss is 0.062426112930883064 '\n",
      "'training accuracy is 0.984659090909091 '\n",
      "'Epoch: 1542'\n"
     ]
    },
    {
     "name": "stderr",
     "output_type": "stream",
     "text": [
      "\r",
      " 62%|██████▏   | 1542/2499 [46:48<33:43,  2.11s/it]"
     ]
    },
    {
     "name": "stdout",
     "output_type": "stream",
     "text": [
      "'validation loss is 0.9145123511552811 '\n",
      "'validation accuracy is 0.8195312500000002 '\n",
      "'Epoch: 1543'\n",
      "'training loss is 0.06280565160241994 '\n",
      "'training accuracy is 0.984659090909091 '\n",
      "'Epoch: 1543'\n"
     ]
    },
    {
     "name": "stderr",
     "output_type": "stream",
     "text": [
      "\r",
      " 62%|██████▏   | 1543/2499 [46:50<34:03,  2.14s/it]"
     ]
    },
    {
     "name": "stdout",
     "output_type": "stream",
     "text": [
      "'validation loss is 0.9119204610586167 '\n",
      "'validation accuracy is 0.8196484375 '\n",
      "'Epoch: 1544'\n",
      "'training loss is 0.06229000335389918 '\n",
      "'training accuracy is 0.984659090909091 '\n",
      "'Epoch: 1544'\n"
     ]
    },
    {
     "name": "stderr",
     "output_type": "stream",
     "text": [
      "\r",
      " 62%|██████▏   | 1544/2499 [46:52<32:51,  2.06s/it]"
     ]
    },
    {
     "name": "stdout",
     "output_type": "stream",
     "text": [
      "'validation loss is 0.9096080452203751 '\n",
      "'validation accuracy is 0.8199609375000001 '\n",
      "'Epoch: 1545'\n",
      "'training loss is 0.06220281936905601 '\n",
      "'training accuracy is 0.984659090909091 '\n",
      "'Epoch: 1545'\n"
     ]
    },
    {
     "name": "stderr",
     "output_type": "stream",
     "text": [
      "\r",
      " 62%|██████▏   | 1545/2499 [46:55<33:10,  2.09s/it]"
     ]
    },
    {
     "name": "stdout",
     "output_type": "stream",
     "text": [
      "'validation loss is 0.9138803914189338 '\n",
      "'validation accuracy is 0.8193359375000002 '\n",
      "'Epoch: 1546'\n",
      "'training loss is 0.06272602555426685 '\n",
      "'training accuracy is 0.984659090909091 '\n",
      "'Epoch: 1546'\n"
     ]
    },
    {
     "name": "stderr",
     "output_type": "stream",
     "text": [
      "\r",
      " 62%|██████▏   | 1546/2499 [46:57<32:44,  2.06s/it]"
     ]
    },
    {
     "name": "stdout",
     "output_type": "stream",
     "text": [
      "'validation loss is 0.9080244362354278 '\n",
      "'validation accuracy is 0.8196972656250001 '\n",
      "'Epoch: 1547'\n",
      "'training loss is 0.062305066057226875 '\n",
      "'training accuracy is 0.984659090909091 '\n",
      "'Epoch: 1547'\n"
     ]
    },
    {
     "name": "stderr",
     "output_type": "stream",
     "text": [
      "\r",
      " 62%|██████▏   | 1547/2499 [46:59<32:23,  2.04s/it]"
     ]
    },
    {
     "name": "stdout",
     "output_type": "stream",
     "text": [
      "'validation loss is 0.9035111635923385 '\n",
      "'validation accuracy is 0.8202246093750002 '\n",
      "'Epoch: 1548'\n",
      "'training loss is 0.0623847788030451 '\n",
      "'training accuracy is 0.984659090909091 '\n",
      "'Epoch: 1548'\n"
     ]
    },
    {
     "name": "stderr",
     "output_type": "stream",
     "text": [
      "\r",
      " 62%|██████▏   | 1548/2499 [47:01<32:11,  2.03s/it]"
     ]
    },
    {
     "name": "stdout",
     "output_type": "stream",
     "text": [
      "'validation loss is 0.9171155720949173 '\n",
      "'validation accuracy is 0.8205468750000001 '\n",
      "'Epoch: 1549'\n",
      "'training loss is 0.06237316741184755 '\n",
      "'training accuracy is 0.984659090909091 '\n",
      "'Epoch: 1549'\n"
     ]
    },
    {
     "name": "stderr",
     "output_type": "stream",
     "text": [
      "\r",
      " 62%|██████▏   | 1549/2499 [47:03<32:17,  2.04s/it]"
     ]
    },
    {
     "name": "stdout",
     "output_type": "stream",
     "text": [
      "'validation loss is 0.9180846676230431 '\n",
      "'validation accuracy is 0.8195898437500002 '\n",
      "'Epoch: 1550'\n",
      "'training loss is 0.06287554956295273 '\n",
      "'training accuracy is 0.9846590909090908 '\n",
      "'Epoch: 1550'\n"
     ]
    },
    {
     "name": "stderr",
     "output_type": "stream",
     "text": [
      "\r",
      " 62%|██████▏   | 1550/2499 [47:05<33:04,  2.09s/it]"
     ]
    },
    {
     "name": "stdout",
     "output_type": "stream",
     "text": [
      "'validation loss is 0.9102063581347466 '\n",
      "'validation accuracy is 0.8193652343750001 '\n",
      "'Epoch: 1551'\n",
      "'training loss is 0.062378551133654335 '\n",
      "'training accuracy is 0.984659090909091 '\n",
      "'Epoch: 1551'\n"
     ]
    },
    {
     "name": "stderr",
     "output_type": "stream",
     "text": [
      "\r",
      " 62%|██████▏   | 1551/2499 [47:07<32:21,  2.05s/it]"
     ]
    },
    {
     "name": "stdout",
     "output_type": "stream",
     "text": [
      "'validation loss is 0.9088524118065834 '\n",
      "'validation accuracy is 0.8202246093750002 '\n",
      "'Epoch: 1552'\n",
      "'training loss is 0.06272383440624583 '\n",
      "'training accuracy is 0.984659090909091 '\n",
      "'Epoch: 1552'\n"
     ]
    },
    {
     "name": "stderr",
     "output_type": "stream",
     "text": [
      "\r",
      " 62%|██████▏   | 1552/2499 [47:09<32:06,  2.03s/it]"
     ]
    },
    {
     "name": "stdout",
     "output_type": "stream",
     "text": [
      "'validation loss is 0.9189187258481979 '\n",
      "'validation accuracy is 0.8193847656250002 '\n",
      "'Epoch: 1553'\n",
      "'training loss is 0.0624715079638091 '\n",
      "'training accuracy is 0.9846590909090908 '\n",
      "'Epoch: 1553'\n"
     ]
    },
    {
     "name": "stderr",
     "output_type": "stream",
     "text": [
      "\r",
      " 62%|██████▏   | 1553/2499 [47:11<33:15,  2.11s/it]"
     ]
    },
    {
     "name": "stdout",
     "output_type": "stream",
     "text": [
      "'validation loss is 0.9135008677840233 '\n",
      "'validation accuracy is 0.8193652343750001 '\n",
      "'Epoch: 1554'\n",
      "'training loss is 0.062255889854647896 '\n",
      "'training accuracy is 0.9846590909090911 '\n",
      "'Epoch: 1554'\n"
     ]
    },
    {
     "name": "stderr",
     "output_type": "stream",
     "text": [
      "\r",
      " 62%|██████▏   | 1554/2499 [47:13<32:54,  2.09s/it]"
     ]
    },
    {
     "name": "stdout",
     "output_type": "stream",
     "text": [
      "'validation loss is 0.9048449203372002 '\n",
      "'validation accuracy is 0.8202539062500002 '\n",
      "'Epoch: 1555'\n",
      "'training loss is 0.06274964186278256 '\n",
      "'training accuracy is 0.9846590909090908 '\n",
      "'Epoch: 1555'\n"
     ]
    },
    {
     "name": "stderr",
     "output_type": "stream",
     "text": [
      "\r",
      " 62%|██████▏   | 1555/2499 [47:15<33:46,  2.15s/it]"
     ]
    },
    {
     "name": "stdout",
     "output_type": "stream",
     "text": [
      "'validation loss is 0.9087216094136238 '\n",
      "'validation accuracy is 0.8199902343750003 '\n",
      "'Epoch: 1556'\n",
      "'training loss is 0.06242897327650677 '\n",
      "'training accuracy is 0.9846590909090908 '\n",
      "'Epoch: 1556'\n"
     ]
    },
    {
     "name": "stderr",
     "output_type": "stream",
     "text": [
      "\r",
      " 62%|██████▏   | 1556/2499 [47:17<32:59,  2.10s/it]"
     ]
    },
    {
     "name": "stdout",
     "output_type": "stream",
     "text": [
      "'validation loss is 0.9039475157856941 '\n",
      "'validation accuracy is 0.82021484375 '\n",
      "'Epoch: 1557'\n",
      "'training loss is 0.06237261877818541 '\n",
      "'training accuracy is 0.984659090909091 '\n",
      "'Epoch: 1557'\n"
     ]
    },
    {
     "name": "stderr",
     "output_type": "stream",
     "text": [
      "\r",
      " 62%|██████▏   | 1557/2499 [47:19<31:41,  2.02s/it]"
     ]
    },
    {
     "name": "stdout",
     "output_type": "stream",
     "text": [
      "'validation loss is 0.9082683011889457 '\n",
      "'validation accuracy is 0.8197363281250002 '\n",
      "'Epoch: 1558'\n",
      "'training loss is 0.06248936768282543 '\n",
      "'training accuracy is 0.9846590909090911 '\n",
      "'Epoch: 1558'\n"
     ]
    },
    {
     "name": "stderr",
     "output_type": "stream",
     "text": [
      "\r",
      " 62%|██████▏   | 1558/2499 [47:21<31:34,  2.01s/it]"
     ]
    },
    {
     "name": "stdout",
     "output_type": "stream",
     "text": [
      "'validation loss is 0.9080613166093826 '\n",
      "'validation accuracy is 0.8195996093750002 '\n",
      "'Epoch: 1559'\n",
      "'training loss is 0.0622858733616092 '\n",
      "'training accuracy is 0.984659090909091 '\n",
      "'Epoch: 1559'\n"
     ]
    },
    {
     "name": "stderr",
     "output_type": "stream",
     "text": [
      "\r",
      " 62%|██████▏   | 1559/2499 [47:23<31:03,  1.98s/it]"
     ]
    },
    {
     "name": "stdout",
     "output_type": "stream",
     "text": [
      "'validation loss is 0.9054825484752655 '\n",
      "'validation accuracy is 0.8198632812500003 '\n",
      "'Epoch: 1560'\n",
      "'training loss is 0.062108906493945557 '\n",
      "'training accuracy is 0.9846590909090911 '\n",
      "'Epoch: 1560'\n"
     ]
    },
    {
     "name": "stderr",
     "output_type": "stream",
     "text": [
      "\r",
      " 62%|██████▏   | 1560/2499 [47:25<32:23,  2.07s/it]"
     ]
    },
    {
     "name": "stdout",
     "output_type": "stream",
     "text": [
      "'validation loss is 0.9025612235069275 '\n",
      "'validation accuracy is 0.8202929687500002 '\n",
      "'Epoch: 1561'\n",
      "'training loss is 0.06254632500084964 '\n",
      "'training accuracy is 0.984659090909091 '\n",
      "'Epoch: 1561'\n"
     ]
    },
    {
     "name": "stderr",
     "output_type": "stream",
     "text": [
      "\r",
      " 62%|██████▏   | 1561/2499 [47:27<32:23,  2.07s/it]"
     ]
    },
    {
     "name": "stdout",
     "output_type": "stream",
     "text": [
      "'validation loss is 0.9149914056062698 '\n",
      "'validation accuracy is 0.8193359375000002 '\n",
      "'Epoch: 1562'\n",
      "'training loss is 0.06229887530207634 '\n",
      "'training accuracy is 0.984659090909091 '\n",
      "'Epoch: 1562'\n"
     ]
    },
    {
     "name": "stderr",
     "output_type": "stream",
     "text": [
      "\r",
      " 63%|██████▎   | 1562/2499 [47:29<31:39,  2.03s/it]"
     ]
    },
    {
     "name": "stdout",
     "output_type": "stream",
     "text": [
      "'validation loss is 0.9160888299345971 '\n",
      "'validation accuracy is 0.8196875000000002 '\n",
      "'Epoch: 1563'\n",
      "'training loss is 0.06266652183099226 '\n",
      "'training accuracy is 0.984659090909091 '\n",
      "'Epoch: 1563'\n"
     ]
    },
    {
     "name": "stderr",
     "output_type": "stream",
     "text": [
      "\r",
      " 63%|██████▎   | 1563/2499 [47:31<31:06,  1.99s/it]"
     ]
    },
    {
     "name": "stdout",
     "output_type": "stream",
     "text": [
      "'validation loss is 0.908666455745697 '\n",
      "'validation accuracy is 0.8200488281250001 '\n",
      "'Epoch: 1564'\n",
      "'training loss is 0.06240593845194036 '\n",
      "'training accuracy is 0.984659090909091 '\n",
      "'Epoch: 1564'\n"
     ]
    },
    {
     "name": "stderr",
     "output_type": "stream",
     "text": [
      "\r",
      " 63%|██████▎   | 1564/2499 [47:33<31:52,  2.05s/it]"
     ]
    },
    {
     "name": "stdout",
     "output_type": "stream",
     "text": [
      "'validation loss is 0.9135259449481964 '\n",
      "'validation accuracy is 0.8195996093750002 '\n",
      "'Epoch: 1565'\n",
      "'training loss is 0.06219655715606429 '\n",
      "'training accuracy is 0.984659090909091 '\n",
      "'Epoch: 1565'\n"
     ]
    },
    {
     "name": "stderr",
     "output_type": "stream",
     "text": [
      "\r",
      " 63%|██████▎   | 1565/2499 [47:35<31:01,  1.99s/it]"
     ]
    },
    {
     "name": "stdout",
     "output_type": "stream",
     "text": [
      "'validation loss is 0.91063541918993 '\n",
      "'validation accuracy is 0.8200097656250002 '\n",
      "'Epoch: 1566'\n",
      "'training loss is 0.0625484020195224 '\n",
      "'training accuracy is 0.984659090909091 '\n",
      "'Epoch: 1566'\n"
     ]
    },
    {
     "name": "stderr",
     "output_type": "stream",
     "text": [
      "\r",
      " 63%|██████▎   | 1566/2499 [47:37<31:02,  2.00s/it]"
     ]
    },
    {
     "name": "stdout",
     "output_type": "stream",
     "text": [
      "'validation loss is 0.9035596385598182 '\n",
      "'validation accuracy is 0.8197070312500003 '\n",
      "'Epoch: 1567'\n",
      "'training loss is 0.06272275204008276 '\n",
      "'training accuracy is 0.984659090909091 '\n",
      "'Epoch: 1567'\n"
     ]
    },
    {
     "name": "stderr",
     "output_type": "stream",
     "text": [
      "\r",
      " 63%|██████▎   | 1567/2499 [47:39<31:26,  2.02s/it]"
     ]
    },
    {
     "name": "stdout",
     "output_type": "stream",
     "text": [
      "'validation loss is 0.9085956320166588 '\n",
      "'validation accuracy is 0.8200488281250002 '\n",
      "'Epoch: 1568'\n",
      "'training loss is 0.06242693791335279 '\n",
      "'training accuracy is 0.9846590909090911 '\n",
      "'Epoch: 1568'\n"
     ]
    },
    {
     "name": "stderr",
     "output_type": "stream",
     "text": [
      "\r",
      " 63%|██████▎   | 1568/2499 [47:41<31:42,  2.04s/it]"
     ]
    },
    {
     "name": "stdout",
     "output_type": "stream",
     "text": [
      "'validation loss is 0.9015674471855164 '\n",
      "'validation accuracy is 0.8203320312500001 '\n",
      "'Epoch: 1569'\n",
      "'training loss is 0.06232765791091052 '\n",
      "'training accuracy is 0.9846590909090908 '\n",
      "'Epoch: 1569'\n"
     ]
    },
    {
     "name": "stderr",
     "output_type": "stream",
     "text": [
      "\r",
      " 63%|██████▎   | 1569/2499 [47:43<31:07,  2.01s/it]"
     ]
    }
   ],
   "source": [
    "for i in tqdm(range(1, 2500)):\n",
    "    trn_l, trn_a = fit_model(i, model, train_dataloader)\n",
    "    val_l, val_a = fit_model(i, model, valid_dataloader, phase = 'validation')\n",
    "    trn_losses.append(trn_l); trn_acc.append(trn_a)\n",
    "    val_losses.append(val_l); val_acc.append(val_a)\n"
   ]
  },
  {
   "cell_type": "code",
   "execution_count": null,
   "id": "5e7ab7b9",
   "metadata": {},
   "outputs": [],
   "source": [
    "plt.plot(val_acc)"
   ]
  },
  {
   "cell_type": "code",
   "execution_count": null,
   "id": "bd44d3b1",
   "metadata": {},
   "outputs": [],
   "source": []
  }
 ],
 "metadata": {
  "kernelspec": {
   "display_name": "Python 3 (ipykernel)",
   "language": "python",
   "name": "python3"
  },
  "language_info": {
   "codemirror_mode": {
    "name": "ipython",
    "version": 3
   },
   "file_extension": ".py",
   "mimetype": "text/x-python",
   "name": "python",
   "nbconvert_exporter": "python",
   "pygments_lexer": "ipython3",
   "version": "3.8.10"
  }
 },
 "nbformat": 4,
 "nbformat_minor": 5
}
